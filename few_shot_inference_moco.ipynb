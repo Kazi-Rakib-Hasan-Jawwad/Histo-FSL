{
  "cells": [
    {
      "cell_type": "markdown",
      "metadata": {
        "id": "view-in-github",
        "colab_type": "text"
      },
      "source": [
        "<a href=\"https://colab.research.google.com/github/Kazi-Rakib-Hasan-Jawwad/Histo-FSL/blob/master/few_shot_inference_moco.ipynb\" target=\"_parent\"><img src=\"https://colab.research.google.com/assets/colab-badge.svg\" alt=\"Open In Colab\"/></a>"
      ]
    },
    {
      "cell_type": "code",
      "execution_count": null,
      "metadata": {
        "id": "qeXowYNIoWpP"
      },
      "outputs": [],
      "source": [
        "import numpy as np\n",
        "import pandas as pd\n",
        "import matplotlib.pyplot as plt\n",
        "from matplotlib.patches import Patch\n",
        "import torch\n",
        "import torchvision\n",
        "import os\n",
        "import csv\n",
        "import sys\n",
        "from typing import Optional\n",
        "from torch import nn\n",
        "from torchvision.transforms import transforms  # Transformations we can perform on our dataset\n",
        "from torch.utils.data import DataLoader  # Gives easier dataset managment and creates mini batchesFi\n",
        "import seaborn as sns\n",
        "from scipy.stats import mode\n",
        "from sklearn.cluster import KMeans\n",
        "from sklearn.metrics import confusion_matrix, accuracy_score, silhouette_score, adjusted_rand_score, normalized_mutual_info_score, v_measure_score, classification_report\n",
        "from sklearn.manifold import TSNE"
      ]
    },
    {
      "cell_type": "code",
      "execution_count": null,
      "metadata": {
        "id": "efeXfPVqojOR"
      },
      "outputs": [],
      "source": [
        "from PIL import Image\n",
        "import torch\n",
        "#from transformers import AutoImageProcessor, ViTModel\n",
        "from pathlib import Path"
      ]
    },
    {
      "cell_type": "code",
      "execution_count": null,
      "metadata": {
        "id": "A_YAOsPeGmXz"
      },
      "outputs": [],
      "source": [
        "from easyfsl.datasets import FeaturesDataset\n",
        "from easyfsl.samplers import TaskSampler\n",
        "from easyfsl.methods import PrototypicalNetworks\n",
        "from easyfsl.utils import evaluate\n",
        "from tqdm import tqdm"
      ]
    },
    {
      "cell_type": "code",
      "execution_count": null,
      "metadata": {
        "id": "I5FuAIa3pW5u"
      },
      "outputs": [],
      "source": [
        "import matplotlib.pyplot as plt\n",
        "from matplotlib.colors import LinearSegmentedColormap\n",
        "\n",
        "# Define the colors in RGB format\n",
        "gold = (255/255, 215/255, 0)  # RGB for gold\n",
        "white = (1, 1, 1)  # RGB for white\n",
        "\n",
        "# Create a custom colormap with just white and gold\n",
        "colors = [white, gold]\n",
        "cmap_name = 'WhiteGold'\n",
        "cm = LinearSegmentedColormap.from_list(cmap_name, colors, N=256)"
      ]
    },
    {
      "cell_type": "code",
      "execution_count": null,
      "metadata": {
        "colab": {
          "base_uri": "https://localhost:8080/",
          "height": 38
        },
        "id": "P2wJgzLpphj7",
        "outputId": "154c0cf4-ffd5-4778-8bcd-faf5ae2eee4b"
      },
      "outputs": [
        {
          "output_type": "display_data",
          "data": {
            "text/plain": [
              "<Figure size 600x100 with 1 Axes>"
            ],
            "image/png": "[encoded data removed]"
          },
          "metadata": {}
        }
      ],
      "source": [
        "# prompt: help me visualize the above colormap 'cm'\n",
        "\n",
        "# Create a gradient of values from 0 to 1\n",
        "gradient = np.linspace(0, 1, 256).reshape(1, -1)\n",
        "\n",
        "# Create a figure and axes\n",
        "fig, ax = plt.subplots(figsize=(6, 1))\n",
        "\n",
        "# Plot the gradient with the custom colormap\n",
        "ax.imshow(gradient, cmap=cm)\n",
        "\n",
        "# Turn off the axes and ticks\n",
        "ax.set_xticks([])\n",
        "ax.set_yticks([])\n",
        "ax.axis('off')\n",
        "\n",
        "# Display the figure\n",
        "plt.show()\n"
      ]
    },
    {
      "cell_type": "code",
      "execution_count": null,
      "metadata": {
        "id": "aA8XsL_teEzg"
      },
      "outputs": [],
      "source": [
        "def load_encoder_weights(encoder, weights):\n",
        "    model_dict = encoder.state_dict()\n",
        "    weights = {k: v for k, v in weights.items() if k in model_dict}\n",
        "    if weights == {}:\n",
        "        print('No weight could be loaded..')\n",
        "    model_dict.update(weights)\n",
        "    encoder.load_state_dict(model_dict)\n",
        "    return encoder"
      ]
    },
    {
      "cell_type": "code",
      "execution_count": null,
      "metadata": {
        "id": "G0MCNOpGomzn"
      },
      "outputs": [],
      "source": [
        "# Function to evaluate clustering performance\n",
        "def evaluate_clustering(data_labels, cluster_labels, save_path): #\n",
        "    accuracy = accuracy_score(data_labels, cluster_labels)\n",
        "    nmi = normalized_mutual_info_score(data_labels, cluster_labels)\n",
        "    ari = adjusted_rand_score(data_labels, cluster_labels)\n",
        "\n",
        "    results = {\"NMI\": nmi, \"ARI\": ari, \"Accuracy\": accuracy}\n",
        "    with open(save_path, \"w\", newline=\"\") as csvfile:\n",
        "        writer = csv.DictWriter(csvfile, fieldnames=[\"Metric\", \"Value\"])\n",
        "        writer.writeheader()\n",
        "        for metric, value in results.items():\n",
        "            writer.writerow({\"Metric\": metric, \"Value\": value})\n",
        "\n",
        "    return nmi, ari, accuracy\n",
        "\n",
        "def create_scatter_plot(embeddings_tsne, labels, output_path, title):\n",
        "    # Map numeric labels to string labels\n",
        "    string_labels = labels    #[classes[int(label)] for label in labels]\n",
        "    # Plot feature map\n",
        "    fig, ax = plt.subplots()\n",
        "    sns.scatterplot(x=embeddings_tsne[:, 0], y=embeddings_tsne[:, 1], hue=string_labels, palette='tab10', s=6, alpha=0.4, ax=ax)\n",
        "    ax.set_title(title)\n",
        "    ax.set_aspect('equal')\n",
        "    # Move the legend to a better position\n",
        "    legend = ax.legend(bbox_to_anchor=(1.02, 1), loc='upper left')\n",
        "    # Adjust legend orientation and spacing\n",
        "    plt.setp(legend.get_title(), fontsize='small')\n",
        "    legend.get_frame().set_alpha(None)\n",
        "    legend.get_frame().set_facecolor('none')\n",
        "    plt.tight_layout()\n",
        "    fig.savefig(output_path, dpi=900, bbox_inches='tight')\n",
        "\n",
        "def plot_and_save_confusion_matrix(cm, classes, output_path):\n",
        "    fig, ax = plt.subplots()\n",
        "    #cmap = sns.diverging_palette(220, 10, as_cmap=True)\n",
        "    #cmap = sns.color_palette(\"YlGnBu\", as_cmap=True)\n",
        "    #cmap = 'YlGnBu'\n",
        "    cmap=cm\n",
        "    sns.heatmap(cm.T, ax=ax, square=False, annot=True, fmt='d', cbar=False, xticklabels=classes, yticklabels=classes, cmap=cmap)\n",
        "    ax.set_xlabel('True label', fontsize=11)\n",
        "    ax.set_ylabel('Predicted label', fontsize=11)\n",
        "    ax.set_title('Confusion Matrix', fontsize=12)\n",
        "    #ax.set_aspect('equal')\n",
        "    # Adjust layout to prevent labels from getting cut off\n",
        "    plt.tight_layout()\n",
        "    fig.savefig(output_path, dpi=900, bbox_inches='tight')\n"
      ]
    },
    {
      "cell_type": "code",
      "execution_count": null,
      "metadata": {
        "id": "AvyrVcZZBzS7"
      },
      "outputs": [],
      "source": [
        "def predict_embeddings(\n",
        "    dataloader: DataLoader,\n",
        "    model: nn.Module,\n",
        "    device: Optional[str] = None,\n",
        ") -> pd.DataFrame:\n",
        "    \"\"\"\n",
        "    Predict embeddings for a dataloader.\n",
        "    Args:\n",
        "        dataloader: dataloader to predict embeddings for. Must deliver tuples (images, class_names)\n",
        "        model: model to use for prediction\n",
        "        device: device to cast the images to. If none, no casting is performed. Must be the same as\n",
        "            the device the model is on.\n",
        "    Returns:\n",
        "        dataframe with columns embedding and class_name\n",
        "    \"\"\"\n",
        "    all_embeddings = []\n",
        "    all_class_names = []\n",
        "    with torch.no_grad():\n",
        "        for images, class_names in tqdm(\n",
        "            dataloader, unit=\"batch\", desc=\"Predicting embeddings\"\n",
        "        ):\n",
        "            if device is not None:\n",
        "                images = images.to(device)\n",
        "            all_embeddings.append(model(images).detach().cpu())\n",
        "            if isinstance(class_names, torch.Tensor):\n",
        "                all_class_names += class_names.tolist()\n",
        "            else:\n",
        "                all_class_names += class_names\n",
        "\n",
        "    concatenated_embeddings = torch.cat(all_embeddings)\n",
        "\n",
        "    return pd.DataFrame(\n",
        "        {\"embedding\": list(concatenated_embeddings), \"class_name\": all_class_names}\n",
        "    )"
      ]
    },
    {
      "cell_type": "code",
      "execution_count": null,
      "metadata": {
        "id": "vc6ebzAmGTmq"
      },
      "outputs": [],
      "source": [
        "def evaluate_few_shot_model(features_dataset, model, device, n_way, n_shots_range=[1, 2, 3, 4, 5, 6, 8, 10, 12, 16, 24, 32], num_runs=20):\n",
        "    \"\"\"\n",
        "    Evaluate a few-shot model using the Prototypical Networks approach.\n",
        "\n",
        "    Args:\n",
        "    - features_dataset: embeddings dataset.\n",
        "    - model (torch.nn.Module): Pre-trained model for feature extraction.\n",
        "    - device (str): Device to run the evaluation on ('cpu' or 'cuda').\n",
        "    - n_shots_range (list): List of integers specifying the number of support examples per class.\n",
        "    - num_runs (int): Number of evaluation runs.\n",
        "\n",
        "    Returns:\n",
        "    - pd.DataFrame: DataFrame containing the evaluation results.\n",
        "    \"\"\"\n",
        "    # Create an empty DataFrame to store the results\n",
        "    results_df = pd.DataFrame(columns=[\"n_shots\", \"accuracy\"])\n",
        "\n",
        "    # Move the model to the specified device\n",
        "    #model.to(device)\n",
        "\n",
        "    # Iterate over the specified number of runs\n",
        "    for run in range(1, num_runs + 1):\n",
        "        # Iterate over the range of n_shots\n",
        "        for n_shots in n_shots_range:\n",
        "            # Create the task sampler and data loader for the current n_shots\n",
        "            task_sampler = TaskSampler(\n",
        "                features_dataset,\n",
        "                n_way=n_way,\n",
        "                n_shot=n_shots,\n",
        "                n_query=100,\n",
        "                n_tasks=10,\n",
        "            )\n",
        "            features_loader = DataLoader(\n",
        "                features_dataset,\n",
        "                batch_sampler=task_sampler,\n",
        "                num_workers=1,\n",
        "                pin_memory=True,\n",
        "                collate_fn=task_sampler.episodic_collate_fn,\n",
        "            )\n",
        "\n",
        "            # Create and evaluate the classifier\n",
        "            few_shot_classifier = PrototypicalNetworks(backbone=nn.Identity())\n",
        "            accuracy = evaluate(\n",
        "                few_shot_classifier,\n",
        "                features_loader,\n",
        "                device=device,\n",
        "            )\n",
        "\n",
        "            # Print and save the accuracy for each run\n",
        "            print(f\"n_shots={n_shots}, Run={run}, Accuracy: {(100 * accuracy):.2f} %\")\n",
        "\n",
        "            # Append the results to the DataFrame\n",
        "            results_df = results_df._append({\"n_shots\": n_shots, \"accuracy\": accuracy}, ignore_index=True)\n",
        "\n",
        "    return results_df"
      ]
    },
    {
      "cell_type": "code",
      "execution_count": null,
      "metadata": {
        "colab": {
          "base_uri": "https://localhost:8080/"
        },
        "id": "d5wiR1nMp4lO",
        "outputId": "f200f58b-0f96-4b40-da2c-6bf4525b6396"
      },
      "outputs": [
        {
          "output_type": "execute_result",
          "data": {
            "text/plain": [
              "ResNet(\n",
              "  (conv1): Conv2d(3, 64, kernel_size=(7, 7), stride=(2, 2), padding=(3, 3), bias=False)\n",
              "  (bn1): BatchNorm2d(64, eps=1e-05, momentum=0.1, affine=True, track_running_stats=True)\n",
              "  (relu): ReLU(inplace=True)\n",
              "  (maxpool): MaxPool2d(kernel_size=3, stride=2, padding=1, dilation=1, ceil_mode=False)\n",
              "  (layer1): Sequential(\n",
              "    (0): Bottleneck(\n",
              "      (conv1): Conv2d(64, 64, kernel_size=(1, 1), stride=(1, 1), bias=False)\n",
              "      (bn1): BatchNorm2d(64, eps=1e-05, momentum=0.1, affine=True, track_running_stats=True)\n",
              "      (conv2): Conv2d(64, 64, kernel_size=(3, 3), stride=(1, 1), padding=(1, 1), bias=False)\n",
              "      (bn2): BatchNorm2d(64, eps=1e-05, momentum=0.1, affine=True, track_running_stats=True)\n",
              "      (conv3): Conv2d(64, 256, kernel_size=(1, 1), stride=(1, 1), bias=False)\n",
              "      (bn3): BatchNorm2d(256, eps=1e-05, momentum=0.1, affine=True, track_running_stats=True)\n",
              "      (relu): ReLU(inplace=True)\n",
              "      (downsample): Sequential(\n",
              "        (0): Conv2d(64, 256, kernel_size=(1, 1), stride=(1, 1), bias=False)\n",
              "        (1): BatchNorm2d(256, eps=1e-05, momentum=0.1, affine=True, track_running_stats=True)\n",
              "      )\n",
              "    )\n",
              "    (1): Bottleneck(\n",
              "      (conv1): Conv2d(256, 64, kernel_size=(1, 1), stride=(1, 1), bias=False)\n",
              "      (bn1): BatchNorm2d(64, eps=1e-05, momentum=0.1, affine=True, track_running_stats=True)\n",
              "      (conv2): Conv2d(64, 64, kernel_size=(3, 3), stride=(1, 1), padding=(1, 1), bias=False)\n",
              "      (bn2): BatchNorm2d(64, eps=1e-05, momentum=0.1, affine=True, track_running_stats=True)\n",
              "      (conv3): Conv2d(64, 256, kernel_size=(1, 1), stride=(1, 1), bias=False)\n",
              "      (bn3): BatchNorm2d(256, eps=1e-05, momentum=0.1, affine=True, track_running_stats=True)\n",
              "      (relu): ReLU(inplace=True)\n",
              "    )\n",
              "    (2): Bottleneck(\n",
              "      (conv1): Conv2d(256, 64, kernel_size=(1, 1), stride=(1, 1), bias=False)\n",
              "      (bn1): BatchNorm2d(64, eps=1e-05, momentum=0.1, affine=True, track_running_stats=True)\n",
              "      (conv2): Conv2d(64, 64, kernel_size=(3, 3), stride=(1, 1), padding=(1, 1), bias=False)\n",
              "      (bn2): BatchNorm2d(64, eps=1e-05, momentum=0.1, affine=True, track_running_stats=True)\n",
              "      (conv3): Conv2d(64, 256, kernel_size=(1, 1), stride=(1, 1), bias=False)\n",
              "      (bn3): BatchNorm2d(256, eps=1e-05, momentum=0.1, affine=True, track_running_stats=True)\n",
              "      (relu): ReLU(inplace=True)\n",
              "    )\n",
              "  )\n",
              "  (layer2): Sequential(\n",
              "    (0): Bottleneck(\n",
              "      (conv1): Conv2d(256, 128, kernel_size=(1, 1), stride=(1, 1), bias=False)\n",
              "      (bn1): BatchNorm2d(128, eps=1e-05, momentum=0.1, affine=True, track_running_stats=True)\n",
              "      (conv2): Conv2d(128, 128, kernel_size=(3, 3), stride=(2, 2), padding=(1, 1), bias=False)\n",
              "      (bn2): BatchNorm2d(128, eps=1e-05, momentum=0.1, affine=True, track_running_stats=True)\n",
              "      (conv3): Conv2d(128, 512, kernel_size=(1, 1), stride=(1, 1), bias=False)\n",
              "      (bn3): BatchNorm2d(512, eps=1e-05, momentum=0.1, affine=True, track_running_stats=True)\n",
              "      (relu): ReLU(inplace=True)\n",
              "      (downsample): Sequential(\n",
              "        (0): Conv2d(256, 512, kernel_size=(1, 1), stride=(2, 2), bias=False)\n",
              "        (1): BatchNorm2d(512, eps=1e-05, momentum=0.1, affine=True, track_running_stats=True)\n",
              "      )\n",
              "    )\n",
              "    (1): Bottleneck(\n",
              "      (conv1): Conv2d(512, 128, kernel_size=(1, 1), stride=(1, 1), bias=False)\n",
              "      (bn1): BatchNorm2d(128, eps=1e-05, momentum=0.1, affine=True, track_running_stats=True)\n",
              "      (conv2): Conv2d(128, 128, kernel_size=(3, 3), stride=(1, 1), padding=(1, 1), bias=False)\n",
              "      (bn2): BatchNorm2d(128, eps=1e-05, momentum=0.1, affine=True, track_running_stats=True)\n",
              "      (conv3): Conv2d(128, 512, kernel_size=(1, 1), stride=(1, 1), bias=False)\n",
              "      (bn3): BatchNorm2d(512, eps=1e-05, momentum=0.1, affine=True, track_running_stats=True)\n",
              "      (relu): ReLU(inplace=True)\n",
              "    )\n",
              "    (2): Bottleneck(\n",
              "      (conv1): Conv2d(512, 128, kernel_size=(1, 1), stride=(1, 1), bias=False)\n",
              "      (bn1): BatchNorm2d(128, eps=1e-05, momentum=0.1, affine=True, track_running_stats=True)\n",
              "      (conv2): Conv2d(128, 128, kernel_size=(3, 3), stride=(1, 1), padding=(1, 1), bias=False)\n",
              "      (bn2): BatchNorm2d(128, eps=1e-05, momentum=0.1, affine=True, track_running_stats=True)\n",
              "      (conv3): Conv2d(128, 512, kernel_size=(1, 1), stride=(1, 1), bias=False)\n",
              "      (bn3): BatchNorm2d(512, eps=1e-05, momentum=0.1, affine=True, track_running_stats=True)\n",
              "      (relu): ReLU(inplace=True)\n",
              "    )\n",
              "    (3): Bottleneck(\n",
              "      (conv1): Conv2d(512, 128, kernel_size=(1, 1), stride=(1, 1), bias=False)\n",
              "      (bn1): BatchNorm2d(128, eps=1e-05, momentum=0.1, affine=True, track_running_stats=True)\n",
              "      (conv2): Conv2d(128, 128, kernel_size=(3, 3), stride=(1, 1), padding=(1, 1), bias=False)\n",
              "      (bn2): BatchNorm2d(128, eps=1e-05, momentum=0.1, affine=True, track_running_stats=True)\n",
              "      (conv3): Conv2d(128, 512, kernel_size=(1, 1), stride=(1, 1), bias=False)\n",
              "      (bn3): BatchNorm2d(512, eps=1e-05, momentum=0.1, affine=True, track_running_stats=True)\n",
              "      (relu): ReLU(inplace=True)\n",
              "    )\n",
              "  )\n",
              "  (layer3): Sequential(\n",
              "    (0): Bottleneck(\n",
              "      (conv1): Conv2d(512, 256, kernel_size=(1, 1), stride=(1, 1), bias=False)\n",
              "      (bn1): BatchNorm2d(256, eps=1e-05, momentum=0.1, affine=True, track_running_stats=True)\n",
              "      (conv2): Conv2d(256, 256, kernel_size=(3, 3), stride=(2, 2), padding=(1, 1), bias=False)\n",
              "      (bn2): BatchNorm2d(256, eps=1e-05, momentum=0.1, affine=True, track_running_stats=True)\n",
              "      (conv3): Conv2d(256, 1024, kernel_size=(1, 1), stride=(1, 1), bias=False)\n",
              "      (bn3): BatchNorm2d(1024, eps=1e-05, momentum=0.1, affine=True, track_running_stats=True)\n",
              "      (relu): ReLU(inplace=True)\n",
              "      (downsample): Sequential(\n",
              "        (0): Conv2d(512, 1024, kernel_size=(1, 1), stride=(2, 2), bias=False)\n",
              "        (1): BatchNorm2d(1024, eps=1e-05, momentum=0.1, affine=True, track_running_stats=True)\n",
              "      )\n",
              "    )\n",
              "    (1): Bottleneck(\n",
              "      (conv1): Conv2d(1024, 256, kernel_size=(1, 1), stride=(1, 1), bias=False)\n",
              "      (bn1): BatchNorm2d(256, eps=1e-05, momentum=0.1, affine=True, track_running_stats=True)\n",
              "      (conv2): Conv2d(256, 256, kernel_size=(3, 3), stride=(1, 1), padding=(1, 1), bias=False)\n",
              "      (bn2): BatchNorm2d(256, eps=1e-05, momentum=0.1, affine=True, track_running_stats=True)\n",
              "      (conv3): Conv2d(256, 1024, kernel_size=(1, 1), stride=(1, 1), bias=False)\n",
              "      (bn3): BatchNorm2d(1024, eps=1e-05, momentum=0.1, affine=True, track_running_stats=True)\n",
              "      (relu): ReLU(inplace=True)\n",
              "    )\n",
              "    (2): Bottleneck(\n",
              "      (conv1): Conv2d(1024, 256, kernel_size=(1, 1), stride=(1, 1), bias=False)\n",
              "      (bn1): BatchNorm2d(256, eps=1e-05, momentum=0.1, affine=True, track_running_stats=True)\n",
              "      (conv2): Conv2d(256, 256, kernel_size=(3, 3), stride=(1, 1), padding=(1, 1), bias=False)\n",
              "      (bn2): BatchNorm2d(256, eps=1e-05, momentum=0.1, affine=True, track_running_stats=True)\n",
              "      (conv3): Conv2d(256, 1024, kernel_size=(1, 1), stride=(1, 1), bias=False)\n",
              "      (bn3): BatchNorm2d(1024, eps=1e-05, momentum=0.1, affine=True, track_running_stats=True)\n",
              "      (relu): ReLU(inplace=True)\n",
              "    )\n",
              "    (3): Bottleneck(\n",
              "      (conv1): Conv2d(1024, 256, kernel_size=(1, 1), stride=(1, 1), bias=False)\n",
              "      (bn1): BatchNorm2d(256, eps=1e-05, momentum=0.1, affine=True, track_running_stats=True)\n",
              "      (conv2): Conv2d(256, 256, kernel_size=(3, 3), stride=(1, 1), padding=(1, 1), bias=False)\n",
              "      (bn2): BatchNorm2d(256, eps=1e-05, momentum=0.1, affine=True, track_running_stats=True)\n",
              "      (conv3): Conv2d(256, 1024, kernel_size=(1, 1), stride=(1, 1), bias=False)\n",
              "      (bn3): BatchNorm2d(1024, eps=1e-05, momentum=0.1, affine=True, track_running_stats=True)\n",
              "      (relu): ReLU(inplace=True)\n",
              "    )\n",
              "    (4): Bottleneck(\n",
              "      (conv1): Conv2d(1024, 256, kernel_size=(1, 1), stride=(1, 1), bias=False)\n",
              "      (bn1): BatchNorm2d(256, eps=1e-05, momentum=0.1, affine=True, track_running_stats=True)\n",
              "      (conv2): Conv2d(256, 256, kernel_size=(3, 3), stride=(1, 1), padding=(1, 1), bias=False)\n",
              "      (bn2): BatchNorm2d(256, eps=1e-05, momentum=0.1, affine=True, track_running_stats=True)\n",
              "      (conv3): Conv2d(256, 1024, kernel_size=(1, 1), stride=(1, 1), bias=False)\n",
              "      (bn3): BatchNorm2d(1024, eps=1e-05, momentum=0.1, affine=True, track_running_stats=True)\n",
              "      (relu): ReLU(inplace=True)\n",
              "    )\n",
              "    (5): Bottleneck(\n",
              "      (conv1): Conv2d(1024, 256, kernel_size=(1, 1), stride=(1, 1), bias=False)\n",
              "      (bn1): BatchNorm2d(256, eps=1e-05, momentum=0.1, affine=True, track_running_stats=True)\n",
              "      (conv2): Conv2d(256, 256, kernel_size=(3, 3), stride=(1, 1), padding=(1, 1), bias=False)\n",
              "      (bn2): BatchNorm2d(256, eps=1e-05, momentum=0.1, affine=True, track_running_stats=True)\n",
              "      (conv3): Conv2d(256, 1024, kernel_size=(1, 1), stride=(1, 1), bias=False)\n",
              "      (bn3): BatchNorm2d(1024, eps=1e-05, momentum=0.1, affine=True, track_running_stats=True)\n",
              "      (relu): ReLU(inplace=True)\n",
              "    )\n",
              "  )\n",
              "  (layer4): Sequential(\n",
              "    (0): Bottleneck(\n",
              "      (conv1): Conv2d(1024, 512, kernel_size=(1, 1), stride=(1, 1), bias=False)\n",
              "      (bn1): BatchNorm2d(512, eps=1e-05, momentum=0.1, affine=True, track_running_stats=True)\n",
              "      (conv2): Conv2d(512, 512, kernel_size=(3, 3), stride=(2, 2), padding=(1, 1), bias=False)\n",
              "      (bn2): BatchNorm2d(512, eps=1e-05, momentum=0.1, affine=True, track_running_stats=True)\n",
              "      (conv3): Conv2d(512, 2048, kernel_size=(1, 1), stride=(1, 1), bias=False)\n",
              "      (bn3): BatchNorm2d(2048, eps=1e-05, momentum=0.1, affine=True, track_running_stats=True)\n",
              "      (relu): ReLU(inplace=True)\n",
              "      (downsample): Sequential(\n",
              "        (0): Conv2d(1024, 2048, kernel_size=(1, 1), stride=(2, 2), bias=False)\n",
              "        (1): BatchNorm2d(2048, eps=1e-05, momentum=0.1, affine=True, track_running_stats=True)\n",
              "      )\n",
              "    )\n",
              "    (1): Bottleneck(\n",
              "      (conv1): Conv2d(2048, 512, kernel_size=(1, 1), stride=(1, 1), bias=False)\n",
              "      (bn1): BatchNorm2d(512, eps=1e-05, momentum=0.1, affine=True, track_running_stats=True)\n",
              "      (conv2): Conv2d(512, 512, kernel_size=(3, 3), stride=(1, 1), padding=(1, 1), bias=False)\n",
              "      (bn2): BatchNorm2d(512, eps=1e-05, momentum=0.1, affine=True, track_running_stats=True)\n",
              "      (conv3): Conv2d(512, 2048, kernel_size=(1, 1), stride=(1, 1), bias=False)\n",
              "      (bn3): BatchNorm2d(2048, eps=1e-05, momentum=0.1, affine=True, track_running_stats=True)\n",
              "      (relu): ReLU(inplace=True)\n",
              "    )\n",
              "    (2): Bottleneck(\n",
              "      (conv1): Conv2d(2048, 512, kernel_size=(1, 1), stride=(1, 1), bias=False)\n",
              "      (bn1): BatchNorm2d(512, eps=1e-05, momentum=0.1, affine=True, track_running_stats=True)\n",
              "      (conv2): Conv2d(512, 512, kernel_size=(3, 3), stride=(1, 1), padding=(1, 1), bias=False)\n",
              "      (bn2): BatchNorm2d(512, eps=1e-05, momentum=0.1, affine=True, track_running_stats=True)\n",
              "      (conv3): Conv2d(512, 2048, kernel_size=(1, 1), stride=(1, 1), bias=False)\n",
              "      (bn3): BatchNorm2d(2048, eps=1e-05, momentum=0.1, affine=True, track_running_stats=True)\n",
              "      (relu): ReLU(inplace=True)\n",
              "    )\n",
              "  )\n",
              "  (avgpool): AdaptiveAvgPool2d(output_size=(1, 1))\n",
              "  (fc): Identity()\n",
              ")"
            ]
          },
          "metadata": {},
          "execution_count": 11
        }
      ],
      "source": [
        "device = torch.device(\"cuda\" if torch.cuda.is_available() else \"cpu\")\n",
        "\n",
        "# load barlow-twins\n",
        "encoder = torchvision.models.__dict__['resnet50'](pretrained=False)\n",
        "path = \"/home/rakib/models/paper_benchmarking_ssl_diverse_pathology/mocov2_rn50_ep200.torch\"\n",
        "state_dict = torch.load(path, map_location='cuda:0')\n",
        "#state_dict = state['state_dict']\n",
        "encoder.fc = torch.nn.Identity()\n",
        "model = load_encoder_weights(encoder, state_dict)\n",
        "\n",
        "model.to(device)\n",
        "model.eval()"
      ]
    },
    {
      "cell_type": "code",
      "execution_count": null,
      "metadata": {
        "colab": {
          "base_uri": "https://localhost:8080/"
        },
        "id": "x_0pAV-E_lL3",
        "outputId": "61e52913-0435-4264-9661-b3d8ab1fcf2a"
      },
      "outputs": [
        {
          "output_type": "stream",
          "name": "stdout",
          "text": [
            "['adipose', 'complex', 'debris', 'empty', 'lympho', 'mucosa', 'stroma', 'tumor']\n"
          ]
        },
        {
          "output_type": "stream",
          "name": "stderr",
          "text": [
            "Predicting embeddings: 100%|█████████████████| 50/50 [00:18<00:00,  2.77batch/s]\n",
            "100%|██████████████████████████| 10/10 [00:00<00:00, 113.85it/s, accuracy=0.795]"
          ]
        },
        {
          "output_type": "stream",
          "name": "stdout",
          "text": [
            "n_shots=1, Run=1, Accuracy: 79.47 %\n"
          ]
        },
        {
          "output_type": "stream",
          "name": "stderr",
          "text": [
            "\n",
            "100%|██████████████████████████| 10/10 [00:00<00:00, 141.41it/s, accuracy=0.862]"
          ]
        },
        {
          "output_type": "stream",
          "name": "stdout",
          "text": [
            "n_shots=2, Run=1, Accuracy: 86.20 %\n"
          ]
        },
        {
          "output_type": "stream",
          "name": "stderr",
          "text": [
            "\n",
            "100%|██████████████████████████| 10/10 [00:00<00:00, 133.36it/s, accuracy=0.872]"
          ]
        },
        {
          "output_type": "stream",
          "name": "stdout",
          "text": [
            "n_shots=3, Run=1, Accuracy: 87.23 %\n"
          ]
        },
        {
          "output_type": "stream",
          "name": "stderr",
          "text": [
            "\n",
            "100%|██████████████████████████| 10/10 [00:00<00:00, 131.00it/s, accuracy=0.934]"
          ]
        },
        {
          "output_type": "stream",
          "name": "stdout",
          "text": [
            "n_shots=4, Run=1, Accuracy: 93.37 %\n"
          ]
        },
        {
          "output_type": "stream",
          "name": "stderr",
          "text": [
            "\n",
            "100%|██████████████████████████| 10/10 [00:00<00:00, 137.92it/s, accuracy=0.927]"
          ]
        },
        {
          "output_type": "stream",
          "name": "stdout",
          "text": [
            "n_shots=5, Run=1, Accuracy: 92.73 %\n"
          ]
        },
        {
          "output_type": "stream",
          "name": "stderr",
          "text": [
            "\n",
            "100%|██████████████████████████| 10/10 [00:00<00:00, 133.93it/s, accuracy=0.925]"
          ]
        },
        {
          "output_type": "stream",
          "name": "stdout",
          "text": [
            "n_shots=6, Run=1, Accuracy: 92.50 %\n"
          ]
        },
        {
          "output_type": "stream",
          "name": "stderr",
          "text": [
            "\n",
            "100%|███████████████████████████| 10/10 [00:00<00:00, 138.50it/s, accuracy=0.94]"
          ]
        },
        {
          "output_type": "stream",
          "name": "stdout",
          "text": [
            "n_shots=8, Run=1, Accuracy: 94.03 %\n"
          ]
        },
        {
          "output_type": "stream",
          "name": "stderr",
          "text": [
            "\n",
            "100%|██████████████████████████| 10/10 [00:00<00:00, 140.04it/s, accuracy=0.933]"
          ]
        },
        {
          "output_type": "stream",
          "name": "stdout",
          "text": [
            "n_shots=10, Run=1, Accuracy: 93.33 %\n"
          ]
        },
        {
          "output_type": "stream",
          "name": "stderr",
          "text": [
            "\n",
            "100%|██████████████████████████| 10/10 [00:00<00:00, 136.13it/s, accuracy=0.959]"
          ]
        },
        {
          "output_type": "stream",
          "name": "stdout",
          "text": [
            "n_shots=12, Run=1, Accuracy: 95.87 %\n"
          ]
        },
        {
          "output_type": "stream",
          "name": "stderr",
          "text": [
            "\n",
            "100%|██████████████████████████| 10/10 [00:00<00:00, 136.59it/s, accuracy=0.947]"
          ]
        },
        {
          "output_type": "stream",
          "name": "stdout",
          "text": [
            "n_shots=16, Run=1, Accuracy: 94.73 %\n"
          ]
        },
        {
          "output_type": "stream",
          "name": "stderr",
          "text": [
            "\n",
            "100%|██████████████████████████| 10/10 [00:00<00:00, 125.27it/s, accuracy=0.954]"
          ]
        },
        {
          "output_type": "stream",
          "name": "stdout",
          "text": [
            "n_shots=24, Run=1, Accuracy: 95.43 %\n"
          ]
        },
        {
          "output_type": "stream",
          "name": "stderr",
          "text": [
            "\n",
            "100%|██████████████████████████| 10/10 [00:00<00:00, 130.92it/s, accuracy=0.966]"
          ]
        },
        {
          "output_type": "stream",
          "name": "stdout",
          "text": [
            "n_shots=32, Run=1, Accuracy: 96.57 %\n"
          ]
        },
        {
          "output_type": "stream",
          "name": "stderr",
          "text": [
            "\n",
            "100%|██████████████████████████| 10/10 [00:00<00:00, 131.00it/s, accuracy=0.743]"
          ]
        },
        {
          "output_type": "stream",
          "name": "stdout",
          "text": [
            "n_shots=1, Run=2, Accuracy: 74.27 %\n"
          ]
        },
        {
          "output_type": "stream",
          "name": "stderr",
          "text": [
            "\n",
            "100%|██████████████████████████| 10/10 [00:00<00:00, 140.90it/s, accuracy=0.855]"
          ]
        },
        {
          "output_type": "stream",
          "name": "stdout",
          "text": [
            "n_shots=2, Run=2, Accuracy: 85.50 %\n"
          ]
        },
        {
          "output_type": "stream",
          "name": "stderr",
          "text": [
            "\n",
            "100%|██████████████████████████| 10/10 [00:00<00:00, 137.45it/s, accuracy=0.923]"
          ]
        },
        {
          "output_type": "stream",
          "name": "stdout",
          "text": [
            "n_shots=3, Run=2, Accuracy: 92.33 %\n"
          ]
        },
        {
          "output_type": "stream",
          "name": "stderr",
          "text": [
            "\n",
            "100%|██████████████████████████| 10/10 [00:00<00:00, 138.10it/s, accuracy=0.923]"
          ]
        },
        {
          "output_type": "stream",
          "name": "stdout",
          "text": [
            "n_shots=4, Run=2, Accuracy: 92.27 %\n"
          ]
        },
        {
          "output_type": "stream",
          "name": "stderr",
          "text": [
            "\n",
            "100%|██████████████████████████| 10/10 [00:00<00:00, 143.08it/s, accuracy=0.915]"
          ]
        },
        {
          "output_type": "stream",
          "name": "stdout",
          "text": [
            "n_shots=5, Run=2, Accuracy: 91.50 %\n"
          ]
        },
        {
          "output_type": "stream",
          "name": "stderr",
          "text": [
            "\n",
            "100%|██████████████████████████| 10/10 [00:00<00:00, 131.64it/s, accuracy=0.926]"
          ]
        },
        {
          "output_type": "stream",
          "name": "stdout",
          "text": [
            "n_shots=6, Run=2, Accuracy: 92.63 %\n"
          ]
        },
        {
          "output_type": "stream",
          "name": "stderr",
          "text": [
            "\n",
            "100%|██████████████████████████| 10/10 [00:00<00:00, 129.48it/s, accuracy=0.948]"
          ]
        },
        {
          "output_type": "stream",
          "name": "stdout",
          "text": [
            "n_shots=8, Run=2, Accuracy: 94.80 %\n"
          ]
        },
        {
          "output_type": "stream",
          "name": "stderr",
          "text": [
            "\n",
            "100%|██████████████████████████| 10/10 [00:00<00:00, 133.61it/s, accuracy=0.936]"
          ]
        },
        {
          "output_type": "stream",
          "name": "stdout",
          "text": [
            "n_shots=10, Run=2, Accuracy: 93.60 %\n"
          ]
        },
        {
          "output_type": "stream",
          "name": "stderr",
          "text": [
            "\n",
            "100%|██████████████████████████| 10/10 [00:00<00:00, 131.63it/s, accuracy=0.931]"
          ]
        },
        {
          "output_type": "stream",
          "name": "stdout",
          "text": [
            "n_shots=12, Run=2, Accuracy: 93.07 %\n"
          ]
        },
        {
          "output_type": "stream",
          "name": "stderr",
          "text": [
            "\n",
            "100%|██████████████████████████| 10/10 [00:00<00:00, 128.79it/s, accuracy=0.937]"
          ]
        },
        {
          "output_type": "stream",
          "name": "stdout",
          "text": [
            "n_shots=16, Run=2, Accuracy: 93.67 %\n"
          ]
        },
        {
          "output_type": "stream",
          "name": "stderr",
          "text": [
            "\n",
            "100%|██████████████████████████| 10/10 [00:00<00:00, 124.02it/s, accuracy=0.935]"
          ]
        },
        {
          "output_type": "stream",
          "name": "stdout",
          "text": [
            "n_shots=24, Run=2, Accuracy: 93.47 %\n"
          ]
        },
        {
          "output_type": "stream",
          "name": "stderr",
          "text": [
            "\n",
            "100%|██████████████████████████| 10/10 [00:00<00:00, 122.27it/s, accuracy=0.947]\n"
          ]
        },
        {
          "output_type": "stream",
          "name": "stdout",
          "text": [
            "n_shots=32, Run=2, Accuracy: 94.67 %\n"
          ]
        },
        {
          "output_type": "stream",
          "name": "stderr",
          "text": [
            "100%|██████████████████████████| 10/10 [00:00<00:00, 127.21it/s, accuracy=0.762]"
          ]
        },
        {
          "output_type": "stream",
          "name": "stdout",
          "text": [
            "n_shots=1, Run=3, Accuracy: 76.23 %\n"
          ]
        },
        {
          "output_type": "stream",
          "name": "stderr",
          "text": [
            "\n",
            "100%|██████████████████████████| 10/10 [00:00<00:00, 137.09it/s, accuracy=0.879]"
          ]
        },
        {
          "output_type": "stream",
          "name": "stdout",
          "text": [
            "n_shots=2, Run=3, Accuracy: 87.93 %\n"
          ]
        },
        {
          "output_type": "stream",
          "name": "stderr",
          "text": [
            "\n",
            "100%|██████████████████████████| 10/10 [00:00<00:00, 140.48it/s, accuracy=0.885]"
          ]
        },
        {
          "output_type": "stream",
          "name": "stdout",
          "text": [
            "n_shots=3, Run=3, Accuracy: 88.47 %\n"
          ]
        },
        {
          "output_type": "stream",
          "name": "stderr",
          "text": [
            "\n",
            "100%|██████████████████████████| 10/10 [00:00<00:00, 130.48it/s, accuracy=0.943]"
          ]
        },
        {
          "output_type": "stream",
          "name": "stdout",
          "text": [
            "n_shots=4, Run=3, Accuracy: 94.33 %\n"
          ]
        },
        {
          "output_type": "stream",
          "name": "stderr",
          "text": [
            "\n",
            "100%|██████████████████████████| 10/10 [00:00<00:00, 113.10it/s, accuracy=0.936]\n"
          ]
        },
        {
          "output_type": "stream",
          "name": "stdout",
          "text": [
            "n_shots=5, Run=3, Accuracy: 93.57 %\n"
          ]
        },
        {
          "output_type": "stream",
          "name": "stderr",
          "text": [
            "100%|██████████████████████████| 10/10 [00:00<00:00, 132.96it/s, accuracy=0.936]\n"
          ]
        },
        {
          "output_type": "stream",
          "name": "stdout",
          "text": [
            "n_shots=6, Run=3, Accuracy: 93.63 %\n"
          ]
        },
        {
          "output_type": "stream",
          "name": "stderr",
          "text": [
            "100%|██████████████████████████| 10/10 [00:00<00:00, 135.12it/s, accuracy=0.939]"
          ]
        },
        {
          "output_type": "stream",
          "name": "stdout",
          "text": [
            "n_shots=8, Run=3, Accuracy: 93.93 %\n"
          ]
        },
        {
          "output_type": "stream",
          "name": "stderr",
          "text": [
            "\n",
            "100%|██████████████████████████| 10/10 [00:00<00:00, 140.40it/s, accuracy=0.946]"
          ]
        },
        {
          "output_type": "stream",
          "name": "stdout",
          "text": [
            "n_shots=10, Run=3, Accuracy: 94.60 %\n"
          ]
        },
        {
          "output_type": "stream",
          "name": "stderr",
          "text": [
            "\n",
            "100%|██████████████████████████| 10/10 [00:00<00:00, 134.32it/s, accuracy=0.936]"
          ]
        },
        {
          "output_type": "stream",
          "name": "stdout",
          "text": [
            "n_shots=12, Run=3, Accuracy: 93.57 %\n"
          ]
        },
        {
          "output_type": "stream",
          "name": "stderr",
          "text": [
            "\n",
            "100%|██████████████████████████| 10/10 [00:00<00:00, 131.70it/s, accuracy=0.949]"
          ]
        },
        {
          "output_type": "stream",
          "name": "stdout",
          "text": [
            "n_shots=16, Run=3, Accuracy: 94.90 %\n"
          ]
        },
        {
          "output_type": "stream",
          "name": "stderr",
          "text": [
            "\n",
            "100%|██████████████████████████| 10/10 [00:00<00:00, 115.91it/s, accuracy=0.961]\n"
          ]
        },
        {
          "output_type": "stream",
          "name": "stdout",
          "text": [
            "n_shots=24, Run=3, Accuracy: 96.13 %\n"
          ]
        },
        {
          "output_type": "stream",
          "name": "stderr",
          "text": [
            "100%|██████████████████████████| 10/10 [00:00<00:00, 123.75it/s, accuracy=0.954]"
          ]
        },
        {
          "output_type": "stream",
          "name": "stdout",
          "text": [
            "n_shots=32, Run=3, Accuracy: 95.40 %\n"
          ]
        },
        {
          "output_type": "stream",
          "name": "stderr",
          "text": [
            "\n",
            "100%|██████████████████████████| 10/10 [00:00<00:00, 119.68it/s, accuracy=0.742]"
          ]
        },
        {
          "output_type": "stream",
          "name": "stdout",
          "text": [
            "n_shots=1, Run=4, Accuracy: 74.23 %\n"
          ]
        },
        {
          "output_type": "stream",
          "name": "stderr",
          "text": [
            "\n",
            "100%|██████████████████████████| 10/10 [00:00<00:00, 132.46it/s, accuracy=0.824]"
          ]
        },
        {
          "output_type": "stream",
          "name": "stdout",
          "text": [
            "n_shots=2, Run=4, Accuracy: 82.40 %\n"
          ]
        },
        {
          "output_type": "stream",
          "name": "stderr",
          "text": [
            "\n",
            "100%|██████████████████████████| 10/10 [00:00<00:00, 130.21it/s, accuracy=0.871]"
          ]
        },
        {
          "output_type": "stream",
          "name": "stdout",
          "text": [
            "n_shots=3, Run=4, Accuracy: 87.07 %\n"
          ]
        },
        {
          "output_type": "stream",
          "name": "stderr",
          "text": [
            "\n",
            "100%|██████████████████████████| 10/10 [00:00<00:00, 122.58it/s, accuracy=0.921]"
          ]
        },
        {
          "output_type": "stream",
          "name": "stdout",
          "text": [
            "n_shots=4, Run=4, Accuracy: 92.13 %\n"
          ]
        },
        {
          "output_type": "stream",
          "name": "stderr",
          "text": [
            "\n",
            "100%|██████████████████████████| 10/10 [00:00<00:00, 135.58it/s, accuracy=0.931]"
          ]
        },
        {
          "output_type": "stream",
          "name": "stdout",
          "text": [
            "n_shots=5, Run=4, Accuracy: 93.10 %\n"
          ]
        },
        {
          "output_type": "stream",
          "name": "stderr",
          "text": [
            "\n",
            "100%|██████████████████████████| 10/10 [00:00<00:00, 136.98it/s, accuracy=0.914]"
          ]
        },
        {
          "output_type": "stream",
          "name": "stdout",
          "text": [
            "n_shots=6, Run=4, Accuracy: 91.43 %\n"
          ]
        },
        {
          "output_type": "stream",
          "name": "stderr",
          "text": [
            "\n",
            "100%|██████████████████████████| 10/10 [00:00<00:00, 129.13it/s, accuracy=0.954]"
          ]
        },
        {
          "output_type": "stream",
          "name": "stdout",
          "text": [
            "n_shots=8, Run=4, Accuracy: 95.40 %\n"
          ]
        },
        {
          "output_type": "stream",
          "name": "stderr",
          "text": [
            "\n",
            "100%|██████████████████████████| 10/10 [00:00<00:00, 110.93it/s, accuracy=0.968]"
          ]
        },
        {
          "output_type": "stream",
          "name": "stdout",
          "text": [
            "n_shots=10, Run=4, Accuracy: 96.80 %\n"
          ]
        },
        {
          "output_type": "stream",
          "name": "stderr",
          "text": [
            "\n",
            "100%|██████████████████████████| 10/10 [00:00<00:00, 121.39it/s, accuracy=0.905]\n"
          ]
        },
        {
          "output_type": "stream",
          "name": "stdout",
          "text": [
            "n_shots=12, Run=4, Accuracy: 90.47 %\n"
          ]
        },
        {
          "output_type": "stream",
          "name": "stderr",
          "text": [
            "100%|██████████████████████████| 10/10 [00:00<00:00, 129.40it/s, accuracy=0.951]"
          ]
        },
        {
          "output_type": "stream",
          "name": "stdout",
          "text": [
            "n_shots=16, Run=4, Accuracy: 95.10 %\n"
          ]
        },
        {
          "output_type": "stream",
          "name": "stderr",
          "text": [
            "\n",
            "100%|██████████████████████████| 10/10 [00:00<00:00, 131.88it/s, accuracy=0.948]"
          ]
        },
        {
          "output_type": "stream",
          "name": "stdout",
          "text": [
            "n_shots=24, Run=4, Accuracy: 94.80 %\n"
          ]
        },
        {
          "output_type": "stream",
          "name": "stderr",
          "text": [
            "\n",
            "100%|██████████████████████████| 10/10 [00:00<00:00, 131.20it/s, accuracy=0.932]"
          ]
        },
        {
          "output_type": "stream",
          "name": "stdout",
          "text": [
            "n_shots=32, Run=4, Accuracy: 93.20 %\n"
          ]
        },
        {
          "output_type": "stream",
          "name": "stderr",
          "text": [
            "\n",
            "100%|██████████████████████████| 10/10 [00:00<00:00, 118.35it/s, accuracy=0.789]"
          ]
        },
        {
          "output_type": "stream",
          "name": "stdout",
          "text": [
            "n_shots=1, Run=5, Accuracy: 78.93 %\n"
          ]
        },
        {
          "output_type": "stream",
          "name": "stderr",
          "text": [
            "\n",
            "100%|██████████████████████████| 10/10 [00:00<00:00, 138.28it/s, accuracy=0.894]"
          ]
        },
        {
          "output_type": "stream",
          "name": "stdout",
          "text": [
            "n_shots=2, Run=5, Accuracy: 89.43 %\n"
          ]
        },
        {
          "output_type": "stream",
          "name": "stderr",
          "text": [
            "\n",
            "100%|██████████████████████████| 10/10 [00:00<00:00, 139.78it/s, accuracy=0.909]"
          ]
        },
        {
          "output_type": "stream",
          "name": "stdout",
          "text": [
            "n_shots=3, Run=5, Accuracy: 90.93 %\n"
          ]
        },
        {
          "output_type": "stream",
          "name": "stderr",
          "text": [
            "\n",
            "100%|███████████████████████████| 10/10 [00:00<00:00, 136.88it/s, accuracy=0.89]"
          ]
        },
        {
          "output_type": "stream",
          "name": "stdout",
          "text": [
            "n_shots=4, Run=5, Accuracy: 89.00 %\n"
          ]
        },
        {
          "output_type": "stream",
          "name": "stderr",
          "text": [
            "\n",
            "100%|██████████████████████████| 10/10 [00:00<00:00, 133.89it/s, accuracy=0.936]"
          ]
        },
        {
          "output_type": "stream",
          "name": "stdout",
          "text": [
            "n_shots=5, Run=5, Accuracy: 93.57 %\n"
          ]
        },
        {
          "output_type": "stream",
          "name": "stderr",
          "text": [
            "\n",
            "100%|███████████████████████████| 10/10 [00:00<00:00, 133.60it/s, accuracy=0.92]"
          ]
        },
        {
          "output_type": "stream",
          "name": "stdout",
          "text": [
            "n_shots=6, Run=5, Accuracy: 92.00 %\n"
          ]
        },
        {
          "output_type": "stream",
          "name": "stderr",
          "text": [
            "\n",
            "100%|██████████████████████████| 10/10 [00:00<00:00, 123.49it/s, accuracy=0.929]"
          ]
        },
        {
          "output_type": "stream",
          "name": "stdout",
          "text": [
            "n_shots=8, Run=5, Accuracy: 92.87 %\n"
          ]
        },
        {
          "output_type": "stream",
          "name": "stderr",
          "text": [
            "\n",
            "100%|██████████████████████████| 10/10 [00:00<00:00, 133.72it/s, accuracy=0.956]"
          ]
        },
        {
          "output_type": "stream",
          "name": "stdout",
          "text": [
            "n_shots=10, Run=5, Accuracy: 95.63 %\n"
          ]
        },
        {
          "output_type": "stream",
          "name": "stderr",
          "text": [
            "\n",
            "100%|██████████████████████████| 10/10 [00:00<00:00, 130.44it/s, accuracy=0.937]"
          ]
        },
        {
          "output_type": "stream",
          "name": "stdout",
          "text": [
            "n_shots=12, Run=5, Accuracy: 93.73 %\n"
          ]
        },
        {
          "output_type": "stream",
          "name": "stderr",
          "text": [
            "\n",
            "100%|██████████████████████████| 10/10 [00:00<00:00, 135.90it/s, accuracy=0.963]"
          ]
        },
        {
          "output_type": "stream",
          "name": "stdout",
          "text": [
            "n_shots=16, Run=5, Accuracy: 96.33 %\n"
          ]
        },
        {
          "output_type": "stream",
          "name": "stderr",
          "text": [
            "\n",
            "100%|███████████████████████████| 10/10 [00:00<00:00, 128.63it/s, accuracy=0.95]"
          ]
        },
        {
          "output_type": "stream",
          "name": "stdout",
          "text": [
            "n_shots=24, Run=5, Accuracy: 95.03 %\n"
          ]
        },
        {
          "output_type": "stream",
          "name": "stderr",
          "text": [
            "\n",
            "100%|███████████████████████████| 10/10 [00:00<00:00, 124.65it/s, accuracy=0.94]"
          ]
        },
        {
          "output_type": "stream",
          "name": "stdout",
          "text": [
            "n_shots=32, Run=5, Accuracy: 94.00 %\n"
          ]
        },
        {
          "output_type": "stream",
          "name": "stderr",
          "text": [
            "\n",
            "100%|██████████████████████████| 10/10 [00:00<00:00, 131.28it/s, accuracy=0.784]"
          ]
        },
        {
          "output_type": "stream",
          "name": "stdout",
          "text": [
            "n_shots=1, Run=6, Accuracy: 78.40 %\n"
          ]
        },
        {
          "output_type": "stream",
          "name": "stderr",
          "text": [
            "\n",
            "100%|███████████████████████████| 10/10 [00:00<00:00, 135.12it/s, accuracy=0.89]"
          ]
        },
        {
          "output_type": "stream",
          "name": "stdout",
          "text": [
            "n_shots=2, Run=6, Accuracy: 89.03 %\n"
          ]
        },
        {
          "output_type": "stream",
          "name": "stderr",
          "text": [
            "\n",
            "100%|██████████████████████████| 10/10 [00:00<00:00, 135.89it/s, accuracy=0.892]"
          ]
        },
        {
          "output_type": "stream",
          "name": "stdout",
          "text": [
            "n_shots=3, Run=6, Accuracy: 89.20 %\n"
          ]
        },
        {
          "output_type": "stream",
          "name": "stderr",
          "text": [
            "\n",
            "100%|████████████████████████████| 10/10 [00:00<00:00, 135.19it/s, accuracy=0.9]"
          ]
        },
        {
          "output_type": "stream",
          "name": "stdout",
          "text": [
            "n_shots=4, Run=6, Accuracy: 89.97 %\n"
          ]
        },
        {
          "output_type": "stream",
          "name": "stderr",
          "text": [
            "\n",
            "100%|██████████████████████████| 10/10 [00:00<00:00, 140.24it/s, accuracy=0.957]"
          ]
        },
        {
          "output_type": "stream",
          "name": "stdout",
          "text": [
            "n_shots=5, Run=6, Accuracy: 95.73 %\n"
          ]
        },
        {
          "output_type": "stream",
          "name": "stderr",
          "text": [
            "\n",
            "100%|██████████████████████████| 10/10 [00:00<00:00, 137.65it/s, accuracy=0.942]"
          ]
        },
        {
          "output_type": "stream",
          "name": "stdout",
          "text": [
            "n_shots=6, Run=6, Accuracy: 94.20 %\n"
          ]
        },
        {
          "output_type": "stream",
          "name": "stderr",
          "text": [
            "\n",
            "100%|██████████████████████████| 10/10 [00:00<00:00, 133.93it/s, accuracy=0.938]"
          ]
        },
        {
          "output_type": "stream",
          "name": "stdout",
          "text": [
            "n_shots=8, Run=6, Accuracy: 93.80 %\n"
          ]
        },
        {
          "output_type": "stream",
          "name": "stderr",
          "text": [
            "\n",
            "100%|██████████████████████████| 10/10 [00:00<00:00, 128.45it/s, accuracy=0.941]"
          ]
        },
        {
          "output_type": "stream",
          "name": "stdout",
          "text": [
            "n_shots=10, Run=6, Accuracy: 94.10 %\n"
          ]
        },
        {
          "output_type": "stream",
          "name": "stderr",
          "text": [
            "\n",
            "100%|██████████████████████████| 10/10 [00:00<00:00, 128.66it/s, accuracy=0.946]"
          ]
        },
        {
          "output_type": "stream",
          "name": "stdout",
          "text": [
            "n_shots=12, Run=6, Accuracy: 94.63 %\n"
          ]
        },
        {
          "output_type": "stream",
          "name": "stderr",
          "text": [
            "\n",
            "100%|██████████████████████████| 10/10 [00:00<00:00, 129.95it/s, accuracy=0.956]"
          ]
        },
        {
          "output_type": "stream",
          "name": "stdout",
          "text": [
            "n_shots=16, Run=6, Accuracy: 95.60 %\n"
          ]
        },
        {
          "output_type": "stream",
          "name": "stderr",
          "text": [
            "\n",
            "100%|██████████████████████████| 10/10 [00:00<00:00, 126.13it/s, accuracy=0.936]"
          ]
        },
        {
          "output_type": "stream",
          "name": "stdout",
          "text": [
            "n_shots=24, Run=6, Accuracy: 93.60 %\n"
          ]
        },
        {
          "output_type": "stream",
          "name": "stderr",
          "text": [
            "\n",
            "100%|██████████████████████████| 10/10 [00:00<00:00, 127.56it/s, accuracy=0.923]"
          ]
        },
        {
          "output_type": "stream",
          "name": "stdout",
          "text": [
            "n_shots=32, Run=6, Accuracy: 92.27 %\n"
          ]
        },
        {
          "output_type": "stream",
          "name": "stderr",
          "text": [
            "\n",
            "100%|██████████████████████████| 10/10 [00:00<00:00, 123.96it/s, accuracy=0.792]"
          ]
        },
        {
          "output_type": "stream",
          "name": "stdout",
          "text": [
            "n_shots=1, Run=7, Accuracy: 79.23 %\n"
          ]
        },
        {
          "output_type": "stream",
          "name": "stderr",
          "text": [
            "\n",
            "100%|██████████████████████████| 10/10 [00:00<00:00, 142.51it/s, accuracy=0.907]"
          ]
        },
        {
          "output_type": "stream",
          "name": "stdout",
          "text": [
            "n_shots=2, Run=7, Accuracy: 90.73 %\n"
          ]
        },
        {
          "output_type": "stream",
          "name": "stderr",
          "text": [
            "\n",
            "100%|██████████████████████████| 10/10 [00:00<00:00, 131.52it/s, accuracy=0.925]"
          ]
        },
        {
          "output_type": "stream",
          "name": "stdout",
          "text": [
            "n_shots=3, Run=7, Accuracy: 92.50 %\n"
          ]
        },
        {
          "output_type": "stream",
          "name": "stderr",
          "text": [
            "\n",
            "100%|██████████████████████████| 10/10 [00:00<00:00, 137.14it/s, accuracy=0.902]"
          ]
        },
        {
          "output_type": "stream",
          "name": "stdout",
          "text": [
            "n_shots=4, Run=7, Accuracy: 90.17 %\n"
          ]
        },
        {
          "output_type": "stream",
          "name": "stderr",
          "text": [
            "\n",
            "100%|██████████████████████████| 10/10 [00:00<00:00, 131.87it/s, accuracy=0.901]"
          ]
        },
        {
          "output_type": "stream",
          "name": "stdout",
          "text": [
            "n_shots=5, Run=7, Accuracy: 90.07 %\n"
          ]
        },
        {
          "output_type": "stream",
          "name": "stderr",
          "text": [
            "\n",
            "100%|███████████████████████████| 10/10 [00:00<00:00, 129.76it/s, accuracy=0.92]"
          ]
        },
        {
          "output_type": "stream",
          "name": "stdout",
          "text": [
            "n_shots=6, Run=7, Accuracy: 91.97 %\n"
          ]
        },
        {
          "output_type": "stream",
          "name": "stderr",
          "text": [
            "\n",
            "100%|██████████████████████████| 10/10 [00:00<00:00, 123.42it/s, accuracy=0.954]"
          ]
        },
        {
          "output_type": "stream",
          "name": "stdout",
          "text": [
            "n_shots=8, Run=7, Accuracy: 95.40 %\n"
          ]
        },
        {
          "output_type": "stream",
          "name": "stderr",
          "text": [
            "\n",
            "100%|██████████████████████████| 10/10 [00:00<00:00, 133.14it/s, accuracy=0.943]"
          ]
        },
        {
          "output_type": "stream",
          "name": "stdout",
          "text": [
            "n_shots=10, Run=7, Accuracy: 94.33 %\n"
          ]
        },
        {
          "output_type": "stream",
          "name": "stderr",
          "text": [
            "\n",
            "100%|██████████████████████████| 10/10 [00:00<00:00, 132.72it/s, accuracy=0.954]"
          ]
        },
        {
          "output_type": "stream",
          "name": "stdout",
          "text": [
            "n_shots=12, Run=7, Accuracy: 95.37 %\n"
          ]
        },
        {
          "output_type": "stream",
          "name": "stderr",
          "text": [
            "\n",
            "100%|██████████████████████████| 10/10 [00:00<00:00, 134.85it/s, accuracy=0.934]"
          ]
        },
        {
          "output_type": "stream",
          "name": "stdout",
          "text": [
            "n_shots=16, Run=7, Accuracy: 93.43 %\n"
          ]
        },
        {
          "output_type": "stream",
          "name": "stderr",
          "text": [
            "\n",
            "100%|██████████████████████████| 10/10 [00:00<00:00, 131.80it/s, accuracy=0.949]"
          ]
        },
        {
          "output_type": "stream",
          "name": "stdout",
          "text": [
            "n_shots=24, Run=7, Accuracy: 94.93 %\n"
          ]
        },
        {
          "output_type": "stream",
          "name": "stderr",
          "text": [
            "\n",
            "100%|██████████████████████████| 10/10 [00:00<00:00, 120.46it/s, accuracy=0.953]"
          ]
        },
        {
          "output_type": "stream",
          "name": "stdout",
          "text": [
            "n_shots=32, Run=7, Accuracy: 95.27 %\n"
          ]
        },
        {
          "output_type": "stream",
          "name": "stderr",
          "text": [
            "\n",
            "100%|██████████████████████████| 10/10 [00:00<00:00, 129.02it/s, accuracy=0.774]"
          ]
        },
        {
          "output_type": "stream",
          "name": "stdout",
          "text": [
            "n_shots=1, Run=8, Accuracy: 77.40 %\n"
          ]
        },
        {
          "output_type": "stream",
          "name": "stderr",
          "text": [
            "\n",
            "100%|██████████████████████████| 10/10 [00:00<00:00, 138.02it/s, accuracy=0.877]"
          ]
        },
        {
          "output_type": "stream",
          "name": "stdout",
          "text": [
            "n_shots=2, Run=8, Accuracy: 87.67 %\n"
          ]
        },
        {
          "output_type": "stream",
          "name": "stderr",
          "text": [
            "\n",
            "100%|██████████████████████████| 10/10 [00:00<00:00, 134.39it/s, accuracy=0.954]"
          ]
        },
        {
          "output_type": "stream",
          "name": "stdout",
          "text": [
            "n_shots=3, Run=8, Accuracy: 95.40 %\n"
          ]
        },
        {
          "output_type": "stream",
          "name": "stderr",
          "text": [
            "\n",
            "100%|██████████████████████████| 10/10 [00:00<00:00, 138.47it/s, accuracy=0.906]"
          ]
        },
        {
          "output_type": "stream",
          "name": "stdout",
          "text": [
            "n_shots=4, Run=8, Accuracy: 90.57 %\n"
          ]
        },
        {
          "output_type": "stream",
          "name": "stderr",
          "text": [
            "\n",
            "100%|███████████████████████████| 10/10 [00:00<00:00, 126.97it/s, accuracy=0.92]"
          ]
        },
        {
          "output_type": "stream",
          "name": "stdout",
          "text": [
            "n_shots=5, Run=8, Accuracy: 92.00 %\n"
          ]
        },
        {
          "output_type": "stream",
          "name": "stderr",
          "text": [
            "\n",
            "100%|██████████████████████████| 10/10 [00:00<00:00, 136.53it/s, accuracy=0.931]"
          ]
        },
        {
          "output_type": "stream",
          "name": "stdout",
          "text": [
            "n_shots=6, Run=8, Accuracy: 93.10 %\n"
          ]
        },
        {
          "output_type": "stream",
          "name": "stderr",
          "text": [
            "\n",
            "100%|██████████████████████████| 10/10 [00:00<00:00, 125.21it/s, accuracy=0.948]"
          ]
        },
        {
          "output_type": "stream",
          "name": "stdout",
          "text": [
            "n_shots=8, Run=8, Accuracy: 94.77 %\n"
          ]
        },
        {
          "output_type": "stream",
          "name": "stderr",
          "text": [
            "\n",
            "100%|██████████████████████████| 10/10 [00:00<00:00, 127.17it/s, accuracy=0.931]"
          ]
        },
        {
          "output_type": "stream",
          "name": "stdout",
          "text": [
            "n_shots=10, Run=8, Accuracy: 93.07 %\n"
          ]
        },
        {
          "output_type": "stream",
          "name": "stderr",
          "text": [
            "\n",
            "100%|██████████████████████████| 10/10 [00:00<00:00, 132.79it/s, accuracy=0.953]"
          ]
        },
        {
          "output_type": "stream",
          "name": "stdout",
          "text": [
            "n_shots=12, Run=8, Accuracy: 95.27 %\n"
          ]
        },
        {
          "output_type": "stream",
          "name": "stderr",
          "text": [
            "\n",
            "100%|██████████████████████████| 10/10 [00:00<00:00, 131.61it/s, accuracy=0.946]"
          ]
        },
        {
          "output_type": "stream",
          "name": "stdout",
          "text": [
            "n_shots=16, Run=8, Accuracy: 94.63 %\n"
          ]
        },
        {
          "output_type": "stream",
          "name": "stderr",
          "text": [
            "\n",
            "100%|██████████████████████████| 10/10 [00:00<00:00, 132.98it/s, accuracy=0.954]"
          ]
        },
        {
          "output_type": "stream",
          "name": "stdout",
          "text": [
            "n_shots=24, Run=8, Accuracy: 95.43 %\n"
          ]
        },
        {
          "output_type": "stream",
          "name": "stderr",
          "text": [
            "\n",
            "100%|██████████████████████████| 10/10 [00:00<00:00, 123.21it/s, accuracy=0.958]"
          ]
        },
        {
          "output_type": "stream",
          "name": "stdout",
          "text": [
            "n_shots=32, Run=8, Accuracy: 95.83 %\n"
          ]
        },
        {
          "output_type": "stream",
          "name": "stderr",
          "text": [
            "\n",
            "100%|██████████████████████████| 10/10 [00:00<00:00, 130.34it/s, accuracy=0.838]"
          ]
        },
        {
          "output_type": "stream",
          "name": "stdout",
          "text": [
            "n_shots=1, Run=9, Accuracy: 83.80 %\n"
          ]
        },
        {
          "output_type": "stream",
          "name": "stderr",
          "text": [
            "\n",
            "100%|███████████████████████████| 10/10 [00:00<00:00, 129.19it/s, accuracy=0.92]"
          ]
        },
        {
          "output_type": "stream",
          "name": "stdout",
          "text": [
            "n_shots=2, Run=9, Accuracy: 92.03 %\n"
          ]
        },
        {
          "output_type": "stream",
          "name": "stderr",
          "text": [
            "\n",
            "100%|██████████████████████████| 10/10 [00:00<00:00, 135.10it/s, accuracy=0.916]"
          ]
        },
        {
          "output_type": "stream",
          "name": "stdout",
          "text": [
            "n_shots=3, Run=9, Accuracy: 91.57 %\n"
          ]
        },
        {
          "output_type": "stream",
          "name": "stderr",
          "text": [
            "\n",
            "100%|██████████████████████████| 10/10 [00:00<00:00, 137.33it/s, accuracy=0.926]"
          ]
        },
        {
          "output_type": "stream",
          "name": "stdout",
          "text": [
            "n_shots=4, Run=9, Accuracy: 92.57 %\n"
          ]
        },
        {
          "output_type": "stream",
          "name": "stderr",
          "text": [
            "\n",
            "100%|██████████████████████████| 10/10 [00:00<00:00, 133.41it/s, accuracy=0.906]"
          ]
        },
        {
          "output_type": "stream",
          "name": "stdout",
          "text": [
            "n_shots=5, Run=9, Accuracy: 90.57 %\n"
          ]
        },
        {
          "output_type": "stream",
          "name": "stderr",
          "text": [
            "\n",
            "100%|██████████████████████████| 10/10 [00:00<00:00, 135.33it/s, accuracy=0.921]"
          ]
        },
        {
          "output_type": "stream",
          "name": "stdout",
          "text": [
            "n_shots=6, Run=9, Accuracy: 92.10 %\n"
          ]
        },
        {
          "output_type": "stream",
          "name": "stderr",
          "text": [
            "\n",
            "100%|██████████████████████████| 10/10 [00:00<00:00, 129.43it/s, accuracy=0.935]"
          ]
        },
        {
          "output_type": "stream",
          "name": "stdout",
          "text": [
            "n_shots=8, Run=9, Accuracy: 93.50 %\n"
          ]
        },
        {
          "output_type": "stream",
          "name": "stderr",
          "text": [
            "\n",
            "100%|██████████████████████████| 10/10 [00:00<00:00, 130.89it/s, accuracy=0.946]"
          ]
        },
        {
          "output_type": "stream",
          "name": "stdout",
          "text": [
            "n_shots=10, Run=9, Accuracy: 94.57 %\n"
          ]
        },
        {
          "output_type": "stream",
          "name": "stderr",
          "text": [
            "\n",
            "100%|██████████████████████████| 10/10 [00:00<00:00, 134.29it/s, accuracy=0.948]"
          ]
        },
        {
          "output_type": "stream",
          "name": "stdout",
          "text": [
            "n_shots=12, Run=9, Accuracy: 94.77 %\n"
          ]
        },
        {
          "output_type": "stream",
          "name": "stderr",
          "text": [
            "\n",
            "100%|██████████████████████████| 10/10 [00:00<00:00, 129.07it/s, accuracy=0.947]"
          ]
        },
        {
          "output_type": "stream",
          "name": "stdout",
          "text": [
            "n_shots=16, Run=9, Accuracy: 94.73 %\n"
          ]
        },
        {
          "output_type": "stream",
          "name": "stderr",
          "text": [
            "\n",
            "100%|███████████████████████████| 10/10 [00:00<00:00, 129.71it/s, accuracy=0.94]"
          ]
        },
        {
          "output_type": "stream",
          "name": "stdout",
          "text": [
            "n_shots=24, Run=9, Accuracy: 93.97 %\n"
          ]
        },
        {
          "output_type": "stream",
          "name": "stderr",
          "text": [
            "\n",
            "100%|███████████████████████████| 10/10 [00:00<00:00, 96.14it/s, accuracy=0.963]\n"
          ]
        },
        {
          "output_type": "stream",
          "name": "stdout",
          "text": [
            "n_shots=32, Run=9, Accuracy: 96.30 %\n"
          ]
        },
        {
          "output_type": "stream",
          "name": "stderr",
          "text": [
            "100%|███████████████████████████| 10/10 [00:00<00:00, 130.10it/s, accuracy=0.83]"
          ]
        },
        {
          "output_type": "stream",
          "name": "stdout",
          "text": [
            "n_shots=1, Run=10, Accuracy: 83.00 %\n"
          ]
        },
        {
          "output_type": "stream",
          "name": "stderr",
          "text": [
            "\n",
            "100%|███████████████████████████| 10/10 [00:00<00:00, 137.07it/s, accuracy=0.92]"
          ]
        },
        {
          "output_type": "stream",
          "name": "stdout",
          "text": [
            "n_shots=2, Run=10, Accuracy: 91.97 %\n"
          ]
        },
        {
          "output_type": "stream",
          "name": "stderr",
          "text": [
            "\n",
            "100%|██████████████████████████| 10/10 [00:00<00:00, 145.36it/s, accuracy=0.901]"
          ]
        },
        {
          "output_type": "stream",
          "name": "stdout",
          "text": [
            "n_shots=3, Run=10, Accuracy: 90.13 %\n"
          ]
        },
        {
          "output_type": "stream",
          "name": "stderr",
          "text": [
            "\n",
            "100%|██████████████████████████| 10/10 [00:00<00:00, 140.89it/s, accuracy=0.916]"
          ]
        },
        {
          "output_type": "stream",
          "name": "stdout",
          "text": [
            "n_shots=4, Run=10, Accuracy: 91.57 %\n"
          ]
        },
        {
          "output_type": "stream",
          "name": "stderr",
          "text": [
            "\n",
            "100%|██████████████████████████| 10/10 [00:00<00:00, 133.86it/s, accuracy=0.905]"
          ]
        },
        {
          "output_type": "stream",
          "name": "stdout",
          "text": [
            "n_shots=5, Run=10, Accuracy: 90.50 %\n"
          ]
        },
        {
          "output_type": "stream",
          "name": "stderr",
          "text": [
            "\n",
            "100%|██████████████████████████| 10/10 [00:00<00:00, 134.93it/s, accuracy=0.933]"
          ]
        },
        {
          "output_type": "stream",
          "name": "stdout",
          "text": [
            "n_shots=6, Run=10, Accuracy: 93.27 %\n"
          ]
        },
        {
          "output_type": "stream",
          "name": "stderr",
          "text": [
            "\n",
            "100%|██████████████████████████| 10/10 [00:00<00:00, 137.22it/s, accuracy=0.953]"
          ]
        },
        {
          "output_type": "stream",
          "name": "stdout",
          "text": [
            "n_shots=8, Run=10, Accuracy: 95.27 %\n"
          ]
        },
        {
          "output_type": "stream",
          "name": "stderr",
          "text": [
            "\n",
            "100%|██████████████████████████| 10/10 [00:00<00:00, 139.60it/s, accuracy=0.922]"
          ]
        },
        {
          "output_type": "stream",
          "name": "stdout",
          "text": [
            "n_shots=10, Run=10, Accuracy: 92.23 %\n"
          ]
        },
        {
          "output_type": "stream",
          "name": "stderr",
          "text": [
            "\n",
            "100%|██████████████████████████| 10/10 [00:00<00:00, 131.39it/s, accuracy=0.916]"
          ]
        },
        {
          "output_type": "stream",
          "name": "stdout",
          "text": [
            "n_shots=12, Run=10, Accuracy: 91.60 %\n"
          ]
        },
        {
          "output_type": "stream",
          "name": "stderr",
          "text": [
            "\n",
            "100%|███████████████████████████| 10/10 [00:00<00:00, 129.35it/s, accuracy=0.94]"
          ]
        },
        {
          "output_type": "stream",
          "name": "stdout",
          "text": [
            "n_shots=16, Run=10, Accuracy: 94.00 %\n"
          ]
        },
        {
          "output_type": "stream",
          "name": "stderr",
          "text": [
            "\n",
            "100%|██████████████████████████| 10/10 [00:00<00:00, 129.19it/s, accuracy=0.943]"
          ]
        },
        {
          "output_type": "stream",
          "name": "stdout",
          "text": [
            "n_shots=24, Run=10, Accuracy: 94.30 %\n"
          ]
        },
        {
          "output_type": "stream",
          "name": "stderr",
          "text": [
            "\n",
            "100%|██████████████████████████| 10/10 [00:00<00:00, 129.36it/s, accuracy=0.951]"
          ]
        },
        {
          "output_type": "stream",
          "name": "stdout",
          "text": [
            "n_shots=32, Run=10, Accuracy: 95.07 %\n"
          ]
        },
        {
          "output_type": "stream",
          "name": "stderr",
          "text": [
            "\n",
            "100%|██████████████████████████| 10/10 [00:00<00:00, 135.31it/s, accuracy=0.801]"
          ]
        },
        {
          "output_type": "stream",
          "name": "stdout",
          "text": [
            "n_shots=1, Run=11, Accuracy: 80.07 %\n"
          ]
        },
        {
          "output_type": "stream",
          "name": "stderr",
          "text": [
            "\n",
            "100%|███████████████████████████| 10/10 [00:00<00:00, 137.71it/s, accuracy=0.87]"
          ]
        },
        {
          "output_type": "stream",
          "name": "stdout",
          "text": [
            "n_shots=2, Run=11, Accuracy: 87.03 %\n"
          ]
        },
        {
          "output_type": "stream",
          "name": "stderr",
          "text": [
            "\n",
            "100%|██████████████████████████| 10/10 [00:00<00:00, 137.69it/s, accuracy=0.897]"
          ]
        },
        {
          "output_type": "stream",
          "name": "stdout",
          "text": [
            "n_shots=3, Run=11, Accuracy: 89.70 %\n"
          ]
        },
        {
          "output_type": "stream",
          "name": "stderr",
          "text": [
            "\n",
            "100%|██████████████████████████| 10/10 [00:00<00:00, 138.31it/s, accuracy=0.891]"
          ]
        },
        {
          "output_type": "stream",
          "name": "stdout",
          "text": [
            "n_shots=4, Run=11, Accuracy: 89.07 %\n"
          ]
        },
        {
          "output_type": "stream",
          "name": "stderr",
          "text": [
            "\n",
            "100%|██████████████████████████| 10/10 [00:00<00:00, 130.49it/s, accuracy=0.923]"
          ]
        },
        {
          "output_type": "stream",
          "name": "stdout",
          "text": [
            "n_shots=5, Run=11, Accuracy: 92.33 %\n"
          ]
        },
        {
          "output_type": "stream",
          "name": "stderr",
          "text": [
            "\n",
            "100%|██████████████████████████| 10/10 [00:00<00:00, 137.80it/s, accuracy=0.929]"
          ]
        },
        {
          "output_type": "stream",
          "name": "stdout",
          "text": [
            "n_shots=6, Run=11, Accuracy: 92.87 %\n"
          ]
        },
        {
          "output_type": "stream",
          "name": "stderr",
          "text": [
            "\n",
            "100%|██████████████████████████| 10/10 [00:00<00:00, 136.38it/s, accuracy=0.923]"
          ]
        },
        {
          "output_type": "stream",
          "name": "stdout",
          "text": [
            "n_shots=8, Run=11, Accuracy: 92.33 %\n"
          ]
        },
        {
          "output_type": "stream",
          "name": "stderr",
          "text": [
            "\n",
            "100%|██████████████████████████| 10/10 [00:00<00:00, 133.40it/s, accuracy=0.948]"
          ]
        },
        {
          "output_type": "stream",
          "name": "stdout",
          "text": [
            "n_shots=10, Run=11, Accuracy: 94.83 %\n"
          ]
        },
        {
          "output_type": "stream",
          "name": "stderr",
          "text": [
            "\n",
            "100%|██████████████████████████| 10/10 [00:00<00:00, 134.88it/s, accuracy=0.959]"
          ]
        },
        {
          "output_type": "stream",
          "name": "stdout",
          "text": [
            "n_shots=12, Run=11, Accuracy: 95.90 %\n"
          ]
        },
        {
          "output_type": "stream",
          "name": "stderr",
          "text": [
            "\n",
            "100%|██████████████████████████| 10/10 [00:00<00:00, 133.52it/s, accuracy=0.961]"
          ]
        },
        {
          "output_type": "stream",
          "name": "stdout",
          "text": [
            "n_shots=16, Run=11, Accuracy: 96.13 %\n"
          ]
        },
        {
          "output_type": "stream",
          "name": "stderr",
          "text": [
            "\n",
            "100%|██████████████████████████| 10/10 [00:00<00:00, 130.38it/s, accuracy=0.942]"
          ]
        },
        {
          "output_type": "stream",
          "name": "stdout",
          "text": [
            "n_shots=24, Run=11, Accuracy: 94.20 %\n"
          ]
        },
        {
          "output_type": "stream",
          "name": "stderr",
          "text": [
            "\n",
            "100%|██████████████████████████| 10/10 [00:00<00:00, 127.59it/s, accuracy=0.941]"
          ]
        },
        {
          "output_type": "stream",
          "name": "stdout",
          "text": [
            "n_shots=32, Run=11, Accuracy: 94.10 %\n"
          ]
        },
        {
          "output_type": "stream",
          "name": "stderr",
          "text": [
            "\n",
            "100%|██████████████████████████| 10/10 [00:00<00:00, 129.51it/s, accuracy=0.863]"
          ]
        },
        {
          "output_type": "stream",
          "name": "stdout",
          "text": [
            "n_shots=1, Run=12, Accuracy: 86.27 %\n"
          ]
        },
        {
          "output_type": "stream",
          "name": "stderr",
          "text": [
            "\n",
            "100%|██████████████████████████| 10/10 [00:00<00:00, 140.53it/s, accuracy=0.853]"
          ]
        },
        {
          "output_type": "stream",
          "name": "stdout",
          "text": [
            "n_shots=2, Run=12, Accuracy: 85.33 %\n"
          ]
        },
        {
          "output_type": "stream",
          "name": "stderr",
          "text": [
            "\n",
            "100%|████████████████████████████| 10/10 [00:00<00:00, 140.28it/s, accuracy=0.9]"
          ]
        },
        {
          "output_type": "stream",
          "name": "stdout",
          "text": [
            "n_shots=3, Run=12, Accuracy: 90.00 %\n"
          ]
        },
        {
          "output_type": "stream",
          "name": "stderr",
          "text": [
            "\n",
            "100%|██████████████████████████| 10/10 [00:00<00:00, 144.17it/s, accuracy=0.936]"
          ]
        },
        {
          "output_type": "stream",
          "name": "stdout",
          "text": [
            "n_shots=4, Run=12, Accuracy: 93.63 %\n"
          ]
        },
        {
          "output_type": "stream",
          "name": "stderr",
          "text": [
            "\n",
            "100%|██████████████████████████| 10/10 [00:00<00:00, 135.60it/s, accuracy=0.938]"
          ]
        },
        {
          "output_type": "stream",
          "name": "stdout",
          "text": [
            "n_shots=5, Run=12, Accuracy: 93.77 %\n"
          ]
        },
        {
          "output_type": "stream",
          "name": "stderr",
          "text": [
            "\n",
            "100%|██████████████████████████| 10/10 [00:00<00:00, 133.06it/s, accuracy=0.953]"
          ]
        },
        {
          "output_type": "stream",
          "name": "stdout",
          "text": [
            "n_shots=6, Run=12, Accuracy: 95.33 %\n"
          ]
        },
        {
          "output_type": "stream",
          "name": "stderr",
          "text": [
            "\n",
            "100%|██████████████████████████| 10/10 [00:00<00:00, 135.55it/s, accuracy=0.902]"
          ]
        },
        {
          "output_type": "stream",
          "name": "stdout",
          "text": [
            "n_shots=8, Run=12, Accuracy: 90.17 %\n"
          ]
        },
        {
          "output_type": "stream",
          "name": "stderr",
          "text": [
            "\n",
            "100%|██████████████████████████| 10/10 [00:00<00:00, 133.04it/s, accuracy=0.935]"
          ]
        },
        {
          "output_type": "stream",
          "name": "stdout",
          "text": [
            "n_shots=10, Run=12, Accuracy: 93.53 %\n"
          ]
        },
        {
          "output_type": "stream",
          "name": "stderr",
          "text": [
            "\n",
            "100%|██████████████████████████| 10/10 [00:00<00:00, 134.96it/s, accuracy=0.955]"
          ]
        },
        {
          "output_type": "stream",
          "name": "stdout",
          "text": [
            "n_shots=12, Run=12, Accuracy: 95.47 %\n"
          ]
        },
        {
          "output_type": "stream",
          "name": "stderr",
          "text": [
            "\n",
            "100%|██████████████████████████| 10/10 [00:00<00:00, 123.89it/s, accuracy=0.924]"
          ]
        },
        {
          "output_type": "stream",
          "name": "stdout",
          "text": [
            "n_shots=16, Run=12, Accuracy: 92.40 %\n"
          ]
        },
        {
          "output_type": "stream",
          "name": "stderr",
          "text": [
            "\n",
            "100%|███████████████████████████| 10/10 [00:00<00:00, 135.66it/s, accuracy=0.95]"
          ]
        },
        {
          "output_type": "stream",
          "name": "stdout",
          "text": [
            "n_shots=24, Run=12, Accuracy: 95.00 %\n"
          ]
        },
        {
          "output_type": "stream",
          "name": "stderr",
          "text": [
            "\n",
            "100%|██████████████████████████| 10/10 [00:00<00:00, 132.10it/s, accuracy=0.946]"
          ]
        },
        {
          "output_type": "stream",
          "name": "stdout",
          "text": [
            "n_shots=32, Run=12, Accuracy: 94.57 %\n"
          ]
        },
        {
          "output_type": "stream",
          "name": "stderr",
          "text": [
            "\n",
            "100%|██████████████████████████| 10/10 [00:00<00:00, 122.20it/s, accuracy=0.849]"
          ]
        },
        {
          "output_type": "stream",
          "name": "stdout",
          "text": [
            "n_shots=1, Run=13, Accuracy: 84.90 %\n"
          ]
        },
        {
          "output_type": "stream",
          "name": "stderr",
          "text": [
            "\n",
            "100%|███████████████████████████| 10/10 [00:00<00:00, 137.88it/s, accuracy=0.87]"
          ]
        },
        {
          "output_type": "stream",
          "name": "stdout",
          "text": [
            "n_shots=2, Run=13, Accuracy: 87.00 %\n"
          ]
        },
        {
          "output_type": "stream",
          "name": "stderr",
          "text": [
            "\n",
            "100%|██████████████████████████| 10/10 [00:00<00:00, 141.29it/s, accuracy=0.916]"
          ]
        },
        {
          "output_type": "stream",
          "name": "stdout",
          "text": [
            "n_shots=3, Run=13, Accuracy: 91.57 %\n"
          ]
        },
        {
          "output_type": "stream",
          "name": "stderr",
          "text": [
            "\n",
            "100%|██████████████████████████| 10/10 [00:00<00:00, 140.73it/s, accuracy=0.921]"
          ]
        },
        {
          "output_type": "stream",
          "name": "stdout",
          "text": [
            "n_shots=4, Run=13, Accuracy: 92.13 %\n"
          ]
        },
        {
          "output_type": "stream",
          "name": "stderr",
          "text": [
            "\n",
            "100%|███████████████████████████| 10/10 [00:00<00:00, 141.71it/s, accuracy=0.94]"
          ]
        },
        {
          "output_type": "stream",
          "name": "stdout",
          "text": [
            "n_shots=5, Run=13, Accuracy: 93.97 %\n"
          ]
        },
        {
          "output_type": "stream",
          "name": "stderr",
          "text": [
            "\n",
            "100%|██████████████████████████| 10/10 [00:00<00:00, 137.97it/s, accuracy=0.919]"
          ]
        },
        {
          "output_type": "stream",
          "name": "stdout",
          "text": [
            "n_shots=6, Run=13, Accuracy: 91.90 %\n"
          ]
        },
        {
          "output_type": "stream",
          "name": "stderr",
          "text": [
            "\n",
            "100%|██████████████████████████| 10/10 [00:00<00:00, 137.40it/s, accuracy=0.928]"
          ]
        },
        {
          "output_type": "stream",
          "name": "stdout",
          "text": [
            "n_shots=8, Run=13, Accuracy: 92.83 %\n"
          ]
        },
        {
          "output_type": "stream",
          "name": "stderr",
          "text": [
            "\n",
            "100%|██████████████████████████| 10/10 [00:00<00:00, 134.78it/s, accuracy=0.951]"
          ]
        },
        {
          "output_type": "stream",
          "name": "stdout",
          "text": [
            "n_shots=10, Run=13, Accuracy: 95.10 %\n"
          ]
        },
        {
          "output_type": "stream",
          "name": "stderr",
          "text": [
            "\n",
            "100%|███████████████████████████| 10/10 [00:00<00:00, 130.91it/s, accuracy=0.95]"
          ]
        },
        {
          "output_type": "stream",
          "name": "stdout",
          "text": [
            "n_shots=12, Run=13, Accuracy: 94.97 %\n"
          ]
        },
        {
          "output_type": "stream",
          "name": "stderr",
          "text": [
            "\n",
            "100%|██████████████████████████| 10/10 [00:00<00:00, 129.78it/s, accuracy=0.945]"
          ]
        },
        {
          "output_type": "stream",
          "name": "stdout",
          "text": [
            "n_shots=16, Run=13, Accuracy: 94.53 %\n"
          ]
        },
        {
          "output_type": "stream",
          "name": "stderr",
          "text": [
            "\n",
            "100%|██████████████████████████| 10/10 [00:00<00:00, 134.65it/s, accuracy=0.953]"
          ]
        },
        {
          "output_type": "stream",
          "name": "stdout",
          "text": [
            "n_shots=24, Run=13, Accuracy: 95.30 %\n"
          ]
        },
        {
          "output_type": "stream",
          "name": "stderr",
          "text": [
            "\n",
            "100%|███████████████████████████| 10/10 [00:00<00:00, 126.51it/s, accuracy=0.94]"
          ]
        },
        {
          "output_type": "stream",
          "name": "stdout",
          "text": [
            "n_shots=32, Run=13, Accuracy: 94.03 %\n"
          ]
        },
        {
          "output_type": "stream",
          "name": "stderr",
          "text": [
            "\n",
            "100%|██████████████████████████| 10/10 [00:00<00:00, 130.79it/s, accuracy=0.893]"
          ]
        },
        {
          "output_type": "stream",
          "name": "stdout",
          "text": [
            "n_shots=1, Run=14, Accuracy: 89.33 %\n"
          ]
        },
        {
          "output_type": "stream",
          "name": "stderr",
          "text": [
            "\n",
            "100%|██████████████████████████| 10/10 [00:00<00:00, 136.11it/s, accuracy=0.867]"
          ]
        },
        {
          "output_type": "stream",
          "name": "stdout",
          "text": [
            "n_shots=2, Run=14, Accuracy: 86.70 %\n"
          ]
        },
        {
          "output_type": "stream",
          "name": "stderr",
          "text": [
            "\n",
            "100%|██████████████████████████| 10/10 [00:00<00:00, 135.72it/s, accuracy=0.915]"
          ]
        },
        {
          "output_type": "stream",
          "name": "stdout",
          "text": [
            "n_shots=3, Run=14, Accuracy: 91.53 %\n"
          ]
        },
        {
          "output_type": "stream",
          "name": "stderr",
          "text": [
            "\n",
            "100%|██████████████████████████| 10/10 [00:00<00:00, 129.66it/s, accuracy=0.884]"
          ]
        },
        {
          "output_type": "stream",
          "name": "stdout",
          "text": [
            "n_shots=4, Run=14, Accuracy: 88.43 %\n"
          ]
        },
        {
          "output_type": "stream",
          "name": "stderr",
          "text": [
            "\n",
            "100%|██████████████████████████| 10/10 [00:00<00:00, 129.71it/s, accuracy=0.919]"
          ]
        },
        {
          "output_type": "stream",
          "name": "stdout",
          "text": [
            "n_shots=5, Run=14, Accuracy: 91.93 %\n"
          ]
        },
        {
          "output_type": "stream",
          "name": "stderr",
          "text": [
            "\n",
            "100%|██████████████████████████| 10/10 [00:00<00:00, 139.60it/s, accuracy=0.939]"
          ]
        },
        {
          "output_type": "stream",
          "name": "stdout",
          "text": [
            "n_shots=6, Run=14, Accuracy: 93.93 %\n"
          ]
        },
        {
          "output_type": "stream",
          "name": "stderr",
          "text": [
            "\n",
            "100%|██████████████████████████| 10/10 [00:00<00:00, 137.84it/s, accuracy=0.924]"
          ]
        },
        {
          "output_type": "stream",
          "name": "stdout",
          "text": [
            "n_shots=8, Run=14, Accuracy: 92.37 %\n"
          ]
        },
        {
          "output_type": "stream",
          "name": "stderr",
          "text": [
            "\n",
            "100%|██████████████████████████| 10/10 [00:00<00:00, 126.41it/s, accuracy=0.931]"
          ]
        },
        {
          "output_type": "stream",
          "name": "stdout",
          "text": [
            "n_shots=10, Run=14, Accuracy: 93.13 %\n"
          ]
        },
        {
          "output_type": "stream",
          "name": "stderr",
          "text": [
            "\n",
            "100%|██████████████████████████| 10/10 [00:00<00:00, 138.29it/s, accuracy=0.933]"
          ]
        },
        {
          "output_type": "stream",
          "name": "stdout",
          "text": [
            "n_shots=12, Run=14, Accuracy: 93.30 %\n"
          ]
        },
        {
          "output_type": "stream",
          "name": "stderr",
          "text": [
            "\n",
            "100%|██████████████████████████| 10/10 [00:00<00:00, 134.13it/s, accuracy=0.936]"
          ]
        },
        {
          "output_type": "stream",
          "name": "stdout",
          "text": [
            "n_shots=16, Run=14, Accuracy: 93.63 %\n"
          ]
        },
        {
          "output_type": "stream",
          "name": "stderr",
          "text": [
            "\n",
            "100%|██████████████████████████| 10/10 [00:00<00:00, 133.54it/s, accuracy=0.955]"
          ]
        },
        {
          "output_type": "stream",
          "name": "stdout",
          "text": [
            "n_shots=24, Run=14, Accuracy: 95.47 %\n"
          ]
        },
        {
          "output_type": "stream",
          "name": "stderr",
          "text": [
            "\n",
            "100%|██████████████████████████| 10/10 [00:00<00:00, 125.85it/s, accuracy=0.941]"
          ]
        },
        {
          "output_type": "stream",
          "name": "stdout",
          "text": [
            "n_shots=32, Run=14, Accuracy: 94.10 %\n"
          ]
        },
        {
          "output_type": "stream",
          "name": "stderr",
          "text": [
            "\n",
            "100%|███████████████████████████| 10/10 [00:00<00:00, 127.04it/s, accuracy=0.81]"
          ]
        },
        {
          "output_type": "stream",
          "name": "stdout",
          "text": [
            "n_shots=1, Run=15, Accuracy: 80.97 %\n"
          ]
        },
        {
          "output_type": "stream",
          "name": "stderr",
          "text": [
            "\n",
            "100%|██████████████████████████| 10/10 [00:00<00:00, 141.06it/s, accuracy=0.873]"
          ]
        },
        {
          "output_type": "stream",
          "name": "stdout",
          "text": [
            "n_shots=2, Run=15, Accuracy: 87.30 %\n"
          ]
        },
        {
          "output_type": "stream",
          "name": "stderr",
          "text": [
            "\n",
            "100%|███████████████████████████| 10/10 [00:00<00:00, 129.91it/s, accuracy=0.91]"
          ]
        },
        {
          "output_type": "stream",
          "name": "stdout",
          "text": [
            "n_shots=3, Run=15, Accuracy: 90.97 %\n"
          ]
        },
        {
          "output_type": "stream",
          "name": "stderr",
          "text": [
            "\n",
            "100%|██████████████████████████| 10/10 [00:00<00:00, 130.03it/s, accuracy=0.931]"
          ]
        },
        {
          "output_type": "stream",
          "name": "stdout",
          "text": [
            "n_shots=4, Run=15, Accuracy: 93.13 %\n"
          ]
        },
        {
          "output_type": "stream",
          "name": "stderr",
          "text": [
            "\n",
            "100%|██████████████████████████| 10/10 [00:00<00:00, 129.33it/s, accuracy=0.907]"
          ]
        },
        {
          "output_type": "stream",
          "name": "stdout",
          "text": [
            "n_shots=5, Run=15, Accuracy: 90.70 %\n"
          ]
        },
        {
          "output_type": "stream",
          "name": "stderr",
          "text": [
            "\n",
            "100%|██████████████████████████| 10/10 [00:00<00:00, 133.06it/s, accuracy=0.902]"
          ]
        },
        {
          "output_type": "stream",
          "name": "stdout",
          "text": [
            "n_shots=6, Run=15, Accuracy: 90.20 %\n"
          ]
        },
        {
          "output_type": "stream",
          "name": "stderr",
          "text": [
            "\n",
            "100%|██████████████████████████| 10/10 [00:00<00:00, 128.87it/s, accuracy=0.919]"
          ]
        },
        {
          "output_type": "stream",
          "name": "stdout",
          "text": [
            "n_shots=8, Run=15, Accuracy: 91.87 %\n"
          ]
        },
        {
          "output_type": "stream",
          "name": "stderr",
          "text": [
            "\n",
            "100%|██████████████████████████| 10/10 [00:00<00:00, 133.73it/s, accuracy=0.928]"
          ]
        },
        {
          "output_type": "stream",
          "name": "stdout",
          "text": [
            "n_shots=10, Run=15, Accuracy: 92.80 %\n"
          ]
        },
        {
          "output_type": "stream",
          "name": "stderr",
          "text": [
            "\n",
            "100%|██████████████████████████| 10/10 [00:00<00:00, 128.79it/s, accuracy=0.943]"
          ]
        },
        {
          "output_type": "stream",
          "name": "stdout",
          "text": [
            "n_shots=12, Run=15, Accuracy: 94.27 %\n"
          ]
        },
        {
          "output_type": "stream",
          "name": "stderr",
          "text": [
            "\n",
            "100%|██████████████████████████| 10/10 [00:00<00:00, 138.37it/s, accuracy=0.921]"
          ]
        },
        {
          "output_type": "stream",
          "name": "stdout",
          "text": [
            "n_shots=16, Run=15, Accuracy: 92.07 %\n"
          ]
        },
        {
          "output_type": "stream",
          "name": "stderr",
          "text": [
            "\n",
            "100%|██████████████████████████| 10/10 [00:00<00:00, 137.24it/s, accuracy=0.946]"
          ]
        },
        {
          "output_type": "stream",
          "name": "stdout",
          "text": [
            "n_shots=24, Run=15, Accuracy: 94.60 %\n"
          ]
        },
        {
          "output_type": "stream",
          "name": "stderr",
          "text": [
            "\n",
            "100%|██████████████████████████| 10/10 [00:00<00:00, 123.43it/s, accuracy=0.956]"
          ]
        },
        {
          "output_type": "stream",
          "name": "stdout",
          "text": [
            "n_shots=32, Run=15, Accuracy: 95.60 %\n"
          ]
        },
        {
          "output_type": "stream",
          "name": "stderr",
          "text": [
            "\n",
            "100%|██████████████████████████| 10/10 [00:00<00:00, 117.57it/s, accuracy=0.838]"
          ]
        },
        {
          "output_type": "stream",
          "name": "stdout",
          "text": [
            "n_shots=1, Run=16, Accuracy: 83.77 %\n"
          ]
        },
        {
          "output_type": "stream",
          "name": "stderr",
          "text": [
            "\n",
            "100%|██████████████████████████| 10/10 [00:00<00:00, 132.64it/s, accuracy=0.894]"
          ]
        },
        {
          "output_type": "stream",
          "name": "stdout",
          "text": [
            "n_shots=2, Run=16, Accuracy: 89.43 %\n"
          ]
        },
        {
          "output_type": "stream",
          "name": "stderr",
          "text": [
            "\n",
            "100%|██████████████████████████| 10/10 [00:00<00:00, 121.19it/s, accuracy=0.923]"
          ]
        },
        {
          "output_type": "stream",
          "name": "stdout",
          "text": [
            "n_shots=3, Run=16, Accuracy: 92.27 %\n"
          ]
        },
        {
          "output_type": "stream",
          "name": "stderr",
          "text": [
            "\n",
            "100%|██████████████████████████| 10/10 [00:00<00:00, 137.02it/s, accuracy=0.893]"
          ]
        },
        {
          "output_type": "stream",
          "name": "stdout",
          "text": [
            "n_shots=4, Run=16, Accuracy: 89.27 %\n"
          ]
        },
        {
          "output_type": "stream",
          "name": "stderr",
          "text": [
            "\n",
            "100%|██████████████████████████| 10/10 [00:00<00:00, 127.46it/s, accuracy=0.925]"
          ]
        },
        {
          "output_type": "stream",
          "name": "stdout",
          "text": [
            "n_shots=5, Run=16, Accuracy: 92.47 %\n"
          ]
        },
        {
          "output_type": "stream",
          "name": "stderr",
          "text": [
            "\n",
            "100%|██████████████████████████| 10/10 [00:00<00:00, 136.58it/s, accuracy=0.936]"
          ]
        },
        {
          "output_type": "stream",
          "name": "stdout",
          "text": [
            "n_shots=6, Run=16, Accuracy: 93.60 %\n"
          ]
        },
        {
          "output_type": "stream",
          "name": "stderr",
          "text": [
            "\n",
            "100%|██████████████████████████| 10/10 [00:00<00:00, 135.66it/s, accuracy=0.938]"
          ]
        },
        {
          "output_type": "stream",
          "name": "stdout",
          "text": [
            "n_shots=8, Run=16, Accuracy: 93.77 %\n"
          ]
        },
        {
          "output_type": "stream",
          "name": "stderr",
          "text": [
            "\n",
            "100%|██████████████████████████| 10/10 [00:00<00:00, 131.01it/s, accuracy=0.941]"
          ]
        },
        {
          "output_type": "stream",
          "name": "stdout",
          "text": [
            "n_shots=10, Run=16, Accuracy: 94.10 %\n"
          ]
        },
        {
          "output_type": "stream",
          "name": "stderr",
          "text": [
            "\n",
            "100%|██████████████████████████| 10/10 [00:00<00:00, 134.69it/s, accuracy=0.929]"
          ]
        },
        {
          "output_type": "stream",
          "name": "stdout",
          "text": [
            "n_shots=12, Run=16, Accuracy: 92.87 %\n"
          ]
        },
        {
          "output_type": "stream",
          "name": "stderr",
          "text": [
            "\n",
            "100%|██████████████████████████| 10/10 [00:00<00:00, 133.23it/s, accuracy=0.954]"
          ]
        },
        {
          "output_type": "stream",
          "name": "stdout",
          "text": [
            "n_shots=16, Run=16, Accuracy: 95.43 %\n"
          ]
        },
        {
          "output_type": "stream",
          "name": "stderr",
          "text": [
            "\n",
            "100%|██████████████████████████| 10/10 [00:00<00:00, 134.35it/s, accuracy=0.955]"
          ]
        },
        {
          "output_type": "stream",
          "name": "stdout",
          "text": [
            "n_shots=24, Run=16, Accuracy: 95.53 %\n"
          ]
        },
        {
          "output_type": "stream",
          "name": "stderr",
          "text": [
            "\n",
            "100%|██████████████████████████| 10/10 [00:00<00:00, 132.64it/s, accuracy=0.951]"
          ]
        },
        {
          "output_type": "stream",
          "name": "stdout",
          "text": [
            "n_shots=32, Run=16, Accuracy: 95.13 %\n"
          ]
        },
        {
          "output_type": "stream",
          "name": "stderr",
          "text": [
            "\n",
            "100%|██████████████████████████| 10/10 [00:00<00:00, 122.98it/s, accuracy=0.736]"
          ]
        },
        {
          "output_type": "stream",
          "name": "stdout",
          "text": [
            "n_shots=1, Run=17, Accuracy: 73.57 %\n"
          ]
        },
        {
          "output_type": "stream",
          "name": "stderr",
          "text": [
            "\n",
            "100%|██████████████████████████| 10/10 [00:00<00:00, 127.41it/s, accuracy=0.873]"
          ]
        },
        {
          "output_type": "stream",
          "name": "stdout",
          "text": [
            "n_shots=2, Run=17, Accuracy: 87.30 %\n"
          ]
        },
        {
          "output_type": "stream",
          "name": "stderr",
          "text": [
            "\n",
            "100%|██████████████████████████| 10/10 [00:00<00:00, 138.97it/s, accuracy=0.906]"
          ]
        },
        {
          "output_type": "stream",
          "name": "stdout",
          "text": [
            "n_shots=3, Run=17, Accuracy: 90.63 %\n"
          ]
        },
        {
          "output_type": "stream",
          "name": "stderr",
          "text": [
            "\n",
            "100%|██████████████████████████| 10/10 [00:00<00:00, 138.30it/s, accuracy=0.913]"
          ]
        },
        {
          "output_type": "stream",
          "name": "stdout",
          "text": [
            "n_shots=4, Run=17, Accuracy: 91.33 %\n"
          ]
        },
        {
          "output_type": "stream",
          "name": "stderr",
          "text": [
            "\n",
            "100%|██████████████████████████| 10/10 [00:00<00:00, 131.58it/s, accuracy=0.928]"
          ]
        },
        {
          "output_type": "stream",
          "name": "stdout",
          "text": [
            "n_shots=5, Run=17, Accuracy: 92.83 %\n"
          ]
        },
        {
          "output_type": "stream",
          "name": "stderr",
          "text": [
            "\n",
            "100%|██████████████████████████| 10/10 [00:00<00:00, 129.36it/s, accuracy=0.946]"
          ]
        },
        {
          "output_type": "stream",
          "name": "stdout",
          "text": [
            "n_shots=6, Run=17, Accuracy: 94.63 %\n"
          ]
        },
        {
          "output_type": "stream",
          "name": "stderr",
          "text": [
            "\n",
            "100%|██████████████████████████| 10/10 [00:00<00:00, 134.78it/s, accuracy=0.938]"
          ]
        },
        {
          "output_type": "stream",
          "name": "stdout",
          "text": [
            "n_shots=8, Run=17, Accuracy: 93.80 %\n"
          ]
        },
        {
          "output_type": "stream",
          "name": "stderr",
          "text": [
            "\n",
            "100%|██████████████████████████| 10/10 [00:00<00:00, 132.14it/s, accuracy=0.937]"
          ]
        },
        {
          "output_type": "stream",
          "name": "stdout",
          "text": [
            "n_shots=10, Run=17, Accuracy: 93.70 %\n"
          ]
        },
        {
          "output_type": "stream",
          "name": "stderr",
          "text": [
            "\n",
            "100%|██████████████████████████| 10/10 [00:00<00:00, 141.86it/s, accuracy=0.964]"
          ]
        },
        {
          "output_type": "stream",
          "name": "stdout",
          "text": [
            "n_shots=12, Run=17, Accuracy: 96.37 %\n"
          ]
        },
        {
          "output_type": "stream",
          "name": "stderr",
          "text": [
            "\n",
            "100%|██████████████████████████| 10/10 [00:00<00:00, 126.71it/s, accuracy=0.916]"
          ]
        },
        {
          "output_type": "stream",
          "name": "stdout",
          "text": [
            "n_shots=16, Run=17, Accuracy: 91.63 %\n"
          ]
        },
        {
          "output_type": "stream",
          "name": "stderr",
          "text": [
            "\n",
            "100%|██████████████████████████| 10/10 [00:00<00:00, 127.47it/s, accuracy=0.936]"
          ]
        },
        {
          "output_type": "stream",
          "name": "stdout",
          "text": [
            "n_shots=24, Run=17, Accuracy: 93.57 %\n"
          ]
        },
        {
          "output_type": "stream",
          "name": "stderr",
          "text": [
            "\n",
            "100%|███████████████████████████| 10/10 [00:00<00:00, 129.22it/s, accuracy=0.93]"
          ]
        },
        {
          "output_type": "stream",
          "name": "stdout",
          "text": [
            "n_shots=32, Run=17, Accuracy: 93.00 %\n"
          ]
        },
        {
          "output_type": "stream",
          "name": "stderr",
          "text": [
            "\n",
            "100%|██████████████████████████| 10/10 [00:00<00:00, 127.85it/s, accuracy=0.792]"
          ]
        },
        {
          "output_type": "stream",
          "name": "stdout",
          "text": [
            "n_shots=1, Run=18, Accuracy: 79.23 %\n"
          ]
        },
        {
          "output_type": "stream",
          "name": "stderr",
          "text": [
            "\n",
            "100%|██████████████████████████| 10/10 [00:00<00:00, 138.57it/s, accuracy=0.851]"
          ]
        },
        {
          "output_type": "stream",
          "name": "stdout",
          "text": [
            "n_shots=2, Run=18, Accuracy: 85.07 %\n"
          ]
        },
        {
          "output_type": "stream",
          "name": "stderr",
          "text": [
            "\n",
            "100%|██████████████████████████| 10/10 [00:00<00:00, 138.27it/s, accuracy=0.915]"
          ]
        },
        {
          "output_type": "stream",
          "name": "stdout",
          "text": [
            "n_shots=3, Run=18, Accuracy: 91.47 %\n"
          ]
        },
        {
          "output_type": "stream",
          "name": "stderr",
          "text": [
            "\n",
            "100%|██████████████████████████| 10/10 [00:00<00:00, 137.96it/s, accuracy=0.936]"
          ]
        },
        {
          "output_type": "stream",
          "name": "stdout",
          "text": [
            "n_shots=4, Run=18, Accuracy: 93.63 %\n"
          ]
        },
        {
          "output_type": "stream",
          "name": "stderr",
          "text": [
            "\n",
            "100%|██████████████████████████| 10/10 [00:00<00:00, 138.04it/s, accuracy=0.917]"
          ]
        },
        {
          "output_type": "stream",
          "name": "stdout",
          "text": [
            "n_shots=5, Run=18, Accuracy: 91.73 %\n"
          ]
        },
        {
          "output_type": "stream",
          "name": "stderr",
          "text": [
            "\n",
            "100%|██████████████████████████| 10/10 [00:00<00:00, 135.78it/s, accuracy=0.922]"
          ]
        },
        {
          "output_type": "stream",
          "name": "stdout",
          "text": [
            "n_shots=6, Run=18, Accuracy: 92.17 %\n"
          ]
        },
        {
          "output_type": "stream",
          "name": "stderr",
          "text": [
            "\n",
            "100%|██████████████████████████| 10/10 [00:00<00:00, 134.88it/s, accuracy=0.952]"
          ]
        },
        {
          "output_type": "stream",
          "name": "stdout",
          "text": [
            "n_shots=8, Run=18, Accuracy: 95.20 %\n"
          ]
        },
        {
          "output_type": "stream",
          "name": "stderr",
          "text": [
            "\n",
            "100%|███████████████████████████| 10/10 [00:00<00:00, 130.69it/s, accuracy=0.95]"
          ]
        },
        {
          "output_type": "stream",
          "name": "stdout",
          "text": [
            "n_shots=10, Run=18, Accuracy: 95.03 %\n"
          ]
        },
        {
          "output_type": "stream",
          "name": "stderr",
          "text": [
            "\n",
            "100%|██████████████████████████| 10/10 [00:00<00:00, 135.08it/s, accuracy=0.921]"
          ]
        },
        {
          "output_type": "stream",
          "name": "stdout",
          "text": [
            "n_shots=12, Run=18, Accuracy: 92.13 %\n"
          ]
        },
        {
          "output_type": "stream",
          "name": "stderr",
          "text": [
            "\n",
            "100%|██████████████████████████| 10/10 [00:00<00:00, 128.08it/s, accuracy=0.934]"
          ]
        },
        {
          "output_type": "stream",
          "name": "stdout",
          "text": [
            "n_shots=16, Run=18, Accuracy: 93.43 %\n"
          ]
        },
        {
          "output_type": "stream",
          "name": "stderr",
          "text": [
            "\n",
            "100%|██████████████████████████| 10/10 [00:00<00:00, 131.64it/s, accuracy=0.938]"
          ]
        },
        {
          "output_type": "stream",
          "name": "stdout",
          "text": [
            "n_shots=24, Run=18, Accuracy: 93.80 %\n"
          ]
        },
        {
          "output_type": "stream",
          "name": "stderr",
          "text": [
            "\n",
            "100%|██████████████████████████| 10/10 [00:00<00:00, 116.01it/s, accuracy=0.951]"
          ]
        },
        {
          "output_type": "stream",
          "name": "stdout",
          "text": [
            "n_shots=32, Run=18, Accuracy: 95.10 %\n"
          ]
        },
        {
          "output_type": "stream",
          "name": "stderr",
          "text": [
            "\n",
            "100%|██████████████████████████| 10/10 [00:00<00:00, 136.62it/s, accuracy=0.865]"
          ]
        },
        {
          "output_type": "stream",
          "name": "stdout",
          "text": [
            "n_shots=1, Run=19, Accuracy: 86.47 %\n"
          ]
        },
        {
          "output_type": "stream",
          "name": "stderr",
          "text": [
            "\n",
            "100%|██████████████████████████| 10/10 [00:00<00:00, 129.09it/s, accuracy=0.889]"
          ]
        },
        {
          "output_type": "stream",
          "name": "stdout",
          "text": [
            "n_shots=2, Run=19, Accuracy: 88.90 %\n"
          ]
        },
        {
          "output_type": "stream",
          "name": "stderr",
          "text": [
            "\n",
            "100%|██████████████████████████| 10/10 [00:00<00:00, 132.28it/s, accuracy=0.953]"
          ]
        },
        {
          "output_type": "stream",
          "name": "stdout",
          "text": [
            "n_shots=3, Run=19, Accuracy: 95.30 %\n"
          ]
        },
        {
          "output_type": "stream",
          "name": "stderr",
          "text": [
            "\n",
            "100%|██████████████████████████| 10/10 [00:00<00:00, 129.77it/s, accuracy=0.892]"
          ]
        },
        {
          "output_type": "stream",
          "name": "stdout",
          "text": [
            "n_shots=4, Run=19, Accuracy: 89.20 %\n"
          ]
        },
        {
          "output_type": "stream",
          "name": "stderr",
          "text": [
            "\n",
            "100%|██████████████████████████| 10/10 [00:00<00:00, 136.64it/s, accuracy=0.933]"
          ]
        },
        {
          "output_type": "stream",
          "name": "stdout",
          "text": [
            "n_shots=5, Run=19, Accuracy: 93.30 %\n"
          ]
        },
        {
          "output_type": "stream",
          "name": "stderr",
          "text": [
            "\n",
            "100%|██████████████████████████| 10/10 [00:00<00:00, 138.03it/s, accuracy=0.916]"
          ]
        },
        {
          "output_type": "stream",
          "name": "stdout",
          "text": [
            "n_shots=6, Run=19, Accuracy: 91.57 %\n"
          ]
        },
        {
          "output_type": "stream",
          "name": "stderr",
          "text": [
            "\n",
            "100%|██████████████████████████| 10/10 [00:00<00:00, 135.65it/s, accuracy=0.942]"
          ]
        },
        {
          "output_type": "stream",
          "name": "stdout",
          "text": [
            "n_shots=8, Run=19, Accuracy: 94.20 %\n"
          ]
        },
        {
          "output_type": "stream",
          "name": "stderr",
          "text": [
            "\n",
            "100%|██████████████████████████| 10/10 [00:00<00:00, 134.42it/s, accuracy=0.941]"
          ]
        },
        {
          "output_type": "stream",
          "name": "stdout",
          "text": [
            "n_shots=10, Run=19, Accuracy: 94.13 %\n"
          ]
        },
        {
          "output_type": "stream",
          "name": "stderr",
          "text": [
            "\n",
            "100%|███████████████████████████| 10/10 [00:00<00:00, 134.10it/s, accuracy=0.96]"
          ]
        },
        {
          "output_type": "stream",
          "name": "stdout",
          "text": [
            "n_shots=12, Run=19, Accuracy: 96.03 %\n"
          ]
        },
        {
          "output_type": "stream",
          "name": "stderr",
          "text": [
            "\n",
            "100%|██████████████████████████| 10/10 [00:00<00:00, 126.28it/s, accuracy=0.947]"
          ]
        },
        {
          "output_type": "stream",
          "name": "stdout",
          "text": [
            "n_shots=16, Run=19, Accuracy: 94.73 %\n"
          ]
        },
        {
          "output_type": "stream",
          "name": "stderr",
          "text": [
            "\n",
            "100%|██████████████████████████| 10/10 [00:00<00:00, 125.82it/s, accuracy=0.928]"
          ]
        },
        {
          "output_type": "stream",
          "name": "stdout",
          "text": [
            "n_shots=24, Run=19, Accuracy: 92.83 %\n"
          ]
        },
        {
          "output_type": "stream",
          "name": "stderr",
          "text": [
            "\n",
            "100%|███████████████████████████| 10/10 [00:00<00:00, 119.88it/s, accuracy=0.96]\n"
          ]
        },
        {
          "output_type": "stream",
          "name": "stdout",
          "text": [
            "n_shots=32, Run=19, Accuracy: 96.03 %\n"
          ]
        },
        {
          "output_type": "stream",
          "name": "stderr",
          "text": [
            "100%|██████████████████████████| 10/10 [00:00<00:00, 120.04it/s, accuracy=0.797]"
          ]
        },
        {
          "output_type": "stream",
          "name": "stdout",
          "text": [
            "n_shots=1, Run=20, Accuracy: 79.73 %\n"
          ]
        },
        {
          "output_type": "stream",
          "name": "stderr",
          "text": [
            "\n",
            "100%|██████████████████████████| 10/10 [00:00<00:00, 135.43it/s, accuracy=0.878]"
          ]
        },
        {
          "output_type": "stream",
          "name": "stdout",
          "text": [
            "n_shots=2, Run=20, Accuracy: 87.77 %\n"
          ]
        },
        {
          "output_type": "stream",
          "name": "stderr",
          "text": [
            "\n",
            "100%|██████████████████████████| 10/10 [00:00<00:00, 128.97it/s, accuracy=0.895]"
          ]
        },
        {
          "output_type": "stream",
          "name": "stdout",
          "text": [
            "n_shots=3, Run=20, Accuracy: 89.53 %\n"
          ]
        },
        {
          "output_type": "stream",
          "name": "stderr",
          "text": [
            "\n",
            "100%|██████████████████████████| 10/10 [00:00<00:00, 140.90it/s, accuracy=0.882]"
          ]
        },
        {
          "output_type": "stream",
          "name": "stdout",
          "text": [
            "n_shots=4, Run=20, Accuracy: 88.23 %\n"
          ]
        },
        {
          "output_type": "stream",
          "name": "stderr",
          "text": [
            "\n",
            "100%|██████████████████████████| 10/10 [00:00<00:00, 137.16it/s, accuracy=0.899]"
          ]
        },
        {
          "output_type": "stream",
          "name": "stdout",
          "text": [
            "n_shots=5, Run=20, Accuracy: 89.93 %\n"
          ]
        },
        {
          "output_type": "stream",
          "name": "stderr",
          "text": [
            "\n",
            "100%|███████████████████████████| 10/10 [00:00<00:00, 136.27it/s, accuracy=0.92]"
          ]
        },
        {
          "output_type": "stream",
          "name": "stdout",
          "text": [
            "n_shots=6, Run=20, Accuracy: 92.00 %\n"
          ]
        },
        {
          "output_type": "stream",
          "name": "stderr",
          "text": [
            "\n",
            "100%|███████████████████████████| 10/10 [00:00<00:00, 131.92it/s, accuracy=0.93]"
          ]
        },
        {
          "output_type": "stream",
          "name": "stdout",
          "text": [
            "n_shots=8, Run=20, Accuracy: 92.97 %\n"
          ]
        },
        {
          "output_type": "stream",
          "name": "stderr",
          "text": [
            "\n",
            "100%|██████████████████████████| 10/10 [00:00<00:00, 133.49it/s, accuracy=0.948]"
          ]
        },
        {
          "output_type": "stream",
          "name": "stdout",
          "text": [
            "n_shots=10, Run=20, Accuracy: 94.80 %\n"
          ]
        },
        {
          "output_type": "stream",
          "name": "stderr",
          "text": [
            "\n",
            "100%|██████████████████████████| 10/10 [00:00<00:00, 132.40it/s, accuracy=0.937]"
          ]
        },
        {
          "output_type": "stream",
          "name": "stdout",
          "text": [
            "n_shots=12, Run=20, Accuracy: 93.70 %\n"
          ]
        },
        {
          "output_type": "stream",
          "name": "stderr",
          "text": [
            "\n",
            "100%|██████████████████████████| 10/10 [00:00<00:00, 132.19it/s, accuracy=0.964]"
          ]
        },
        {
          "output_type": "stream",
          "name": "stdout",
          "text": [
            "n_shots=16, Run=20, Accuracy: 96.40 %\n"
          ]
        },
        {
          "output_type": "stream",
          "name": "stderr",
          "text": [
            "\n",
            "100%|██████████████████████████| 10/10 [00:00<00:00, 131.18it/s, accuracy=0.949]"
          ]
        },
        {
          "output_type": "stream",
          "name": "stdout",
          "text": [
            "n_shots=24, Run=20, Accuracy: 94.90 %\n"
          ]
        },
        {
          "output_type": "stream",
          "name": "stderr",
          "text": [
            "\n",
            "100%|██████████████████████████| 10/10 [00:00<00:00, 128.02it/s, accuracy=0.931]"
          ]
        },
        {
          "output_type": "stream",
          "name": "stdout",
          "text": [
            "n_shots=32, Run=20, Accuracy: 93.07 %\n"
          ]
        },
        {
          "output_type": "stream",
          "name": "stderr",
          "text": [
            "\n"
          ]
        }
      ],
      "source": [
        "output_directory_k = Path(\"/home/rakib/models/paper_benchmarking_ssl_diverse_pathology/inference/kather/moco/2\")\n",
        "\n",
        "data_to_test = Path(\"/home/rakib/data/kather_texture/\")\n",
        "transform = transforms.Compose([transforms.Resize((224, 224)),\n",
        "                                transforms.ToTensor()])\n",
        "testset = torchvision.datasets.ImageFolder(data_to_test, transform=transform)\n",
        "\n",
        "classes = testset.classes\n",
        "print(classes)\n",
        "dataloader = DataLoader(testset, batch_size=100, shuffle=False, drop_last=False)\n",
        "kather_emb_df = predict_embeddings(dataloader, model, device=device)\n",
        "kather_emb_dataset = FeaturesDataset.from_dataframe(kather_emb_df)\n",
        "kather_results_df = evaluate_few_shot_model(kather_emb_dataset, model, device=device, n_way=3)\n",
        "kather_results_df.sort_values([\"n_shots\", \"accuracy\"])\n",
        "\n",
        "mean_accuracies_k = kather_results_df.groupby(\"n_shots\")[\"accuracy\"].mean().reset_index()\n",
        "mean_accuracies_k.rename(columns={\"accuracy\": \"mean\"}, inplace=True)\n",
        "std_accuracies_k = kather_results_df.groupby(\"n_shots\")[\"accuracy\"].std().reset_index()\n",
        "std_accuracies_k.rename(columns={\"accuracy\": \"std\"}, inplace=True)\n",
        "# Merge the two DataFrames based on the 'n_shots' column\n",
        "merged_df_k = pd.merge(mean_accuracies_k, std_accuracies_k, on=\"n_shots\")\n",
        "\n",
        "# Save the average accuracy information in a separate CSV file\n",
        "acc_csv_filename = \"3way_average_accuracy_kather_moco.csv\"\n",
        "merged_df_k.to_csv(os.path.join(output_directory_k, acc_csv_filename), index=False)"
      ]
    },
    {
      "cell_type": "code",
      "execution_count": null,
      "metadata": {
        "colab": {
          "base_uri": "https://localhost:8080/"
        },
        "id": "prbYFs6w_oLt",
        "outputId": "7cd361cf-e735-473f-e979-59cbc546662b"
      },
      "outputs": [
        {
          "output_type": "stream",
          "name": "stdout",
          "text": [
            "['ADI', 'BACK', 'DEB', 'LYM', 'MUC', 'MUS', 'NORM', 'STR', 'TUM']\n"
          ]
        },
        {
          "output_type": "stream",
          "name": "stderr",
          "text": [
            "Predicting embeddings: 100%|█████████████████| 72/72 [00:10<00:00,  6.75batch/s]\n",
            "100%|██████████████████████████| 10/10 [00:00<00:00, 121.79it/s, accuracy=0.835]"
          ]
        },
        {
          "output_type": "stream",
          "name": "stdout",
          "text": [
            "n_shots=1, Run=1, Accuracy: 83.53 %\n"
          ]
        },
        {
          "output_type": "stream",
          "name": "stderr",
          "text": [
            "\n",
            "100%|██████████████████████████| 10/10 [00:00<00:00, 129.71it/s, accuracy=0.887]"
          ]
        },
        {
          "output_type": "stream",
          "name": "stdout",
          "text": [
            "n_shots=2, Run=1, Accuracy: 88.67 %\n"
          ]
        },
        {
          "output_type": "stream",
          "name": "stderr",
          "text": [
            "\n",
            "100%|██████████████████████████| 10/10 [00:00<00:00, 129.76it/s, accuracy=0.947]"
          ]
        },
        {
          "output_type": "stream",
          "name": "stdout",
          "text": [
            "n_shots=3, Run=1, Accuracy: 94.73 %\n"
          ]
        },
        {
          "output_type": "stream",
          "name": "stderr",
          "text": [
            "\n",
            "100%|██████████████████████████| 10/10 [00:00<00:00, 125.63it/s, accuracy=0.976]"
          ]
        },
        {
          "output_type": "stream",
          "name": "stdout",
          "text": [
            "n_shots=4, Run=1, Accuracy: 97.60 %\n"
          ]
        },
        {
          "output_type": "stream",
          "name": "stderr",
          "text": [
            "\n",
            "100%|██████████████████████████| 10/10 [00:00<00:00, 127.44it/s, accuracy=0.931]\n"
          ]
        },
        {
          "output_type": "stream",
          "name": "stdout",
          "text": [
            "n_shots=5, Run=1, Accuracy: 93.10 %\n"
          ]
        },
        {
          "output_type": "stream",
          "name": "stderr",
          "text": [
            "100%|██████████████████████████| 10/10 [00:00<00:00, 127.05it/s, accuracy=0.976]"
          ]
        },
        {
          "output_type": "stream",
          "name": "stdout",
          "text": [
            "n_shots=6, Run=1, Accuracy: 97.63 %\n"
          ]
        },
        {
          "output_type": "stream",
          "name": "stderr",
          "text": [
            "\n",
            "100%|███████████████████████████| 10/10 [00:00<00:00, 132.64it/s, accuracy=0.96]"
          ]
        },
        {
          "output_type": "stream",
          "name": "stdout",
          "text": [
            "n_shots=8, Run=1, Accuracy: 96.00 %\n"
          ]
        },
        {
          "output_type": "stream",
          "name": "stderr",
          "text": [
            "\n",
            "100%|██████████████████████████| 10/10 [00:00<00:00, 134.38it/s, accuracy=0.966]"
          ]
        },
        {
          "output_type": "stream",
          "name": "stdout",
          "text": [
            "n_shots=10, Run=1, Accuracy: 96.63 %\n"
          ]
        },
        {
          "output_type": "stream",
          "name": "stderr",
          "text": [
            "\n",
            "100%|██████████████████████████| 10/10 [00:00<00:00, 129.00it/s, accuracy=0.936]"
          ]
        },
        {
          "output_type": "stream",
          "name": "stdout",
          "text": [
            "n_shots=12, Run=1, Accuracy: 93.60 %\n"
          ]
        },
        {
          "output_type": "stream",
          "name": "stderr",
          "text": [
            "\n",
            "100%|██████████████████████████| 10/10 [00:00<00:00, 130.11it/s, accuracy=0.989]"
          ]
        },
        {
          "output_type": "stream",
          "name": "stdout",
          "text": [
            "n_shots=16, Run=1, Accuracy: 98.87 %\n"
          ]
        },
        {
          "output_type": "stream",
          "name": "stderr",
          "text": [
            "\n",
            "100%|██████████████████████████| 10/10 [00:00<00:00, 121.10it/s, accuracy=0.983]"
          ]
        },
        {
          "output_type": "stream",
          "name": "stdout",
          "text": [
            "n_shots=24, Run=1, Accuracy: 98.30 %\n"
          ]
        },
        {
          "output_type": "stream",
          "name": "stderr",
          "text": [
            "\n",
            "100%|██████████████████████████| 10/10 [00:00<00:00, 121.88it/s, accuracy=0.976]"
          ]
        },
        {
          "output_type": "stream",
          "name": "stdout",
          "text": [
            "n_shots=32, Run=1, Accuracy: 97.60 %\n"
          ]
        },
        {
          "output_type": "stream",
          "name": "stderr",
          "text": [
            "\n",
            "100%|██████████████████████████| 10/10 [00:00<00:00, 119.46it/s, accuracy=0.867]"
          ]
        },
        {
          "output_type": "stream",
          "name": "stdout",
          "text": [
            "n_shots=1, Run=2, Accuracy: 86.73 %\n"
          ]
        },
        {
          "output_type": "stream",
          "name": "stderr",
          "text": [
            "\n",
            "100%|██████████████████████████| 10/10 [00:00<00:00, 133.13it/s, accuracy=0.952]"
          ]
        },
        {
          "output_type": "stream",
          "name": "stdout",
          "text": [
            "n_shots=2, Run=2, Accuracy: 95.17 %\n"
          ]
        },
        {
          "output_type": "stream",
          "name": "stderr",
          "text": [
            "\n",
            "100%|██████████████████████████| 10/10 [00:00<00:00, 123.56it/s, accuracy=0.944]"
          ]
        },
        {
          "output_type": "stream",
          "name": "stdout",
          "text": [
            "n_shots=3, Run=2, Accuracy: 94.40 %\n"
          ]
        },
        {
          "output_type": "stream",
          "name": "stderr",
          "text": [
            "\n",
            "100%|██████████████████████████| 10/10 [00:00<00:00, 138.86it/s, accuracy=0.935]"
          ]
        },
        {
          "output_type": "stream",
          "name": "stdout",
          "text": [
            "n_shots=4, Run=2, Accuracy: 93.50 %\n"
          ]
        },
        {
          "output_type": "stream",
          "name": "stderr",
          "text": [
            "\n",
            "100%|██████████████████████████| 10/10 [00:00<00:00, 135.96it/s, accuracy=0.974]"
          ]
        },
        {
          "output_type": "stream",
          "name": "stdout",
          "text": [
            "n_shots=5, Run=2, Accuracy: 97.43 %\n"
          ]
        },
        {
          "output_type": "stream",
          "name": "stderr",
          "text": [
            "\n",
            "100%|███████████████████████████| 10/10 [00:00<00:00, 124.71it/s, accuracy=0.96]"
          ]
        },
        {
          "output_type": "stream",
          "name": "stdout",
          "text": [
            "n_shots=6, Run=2, Accuracy: 96.00 %\n"
          ]
        },
        {
          "output_type": "stream",
          "name": "stderr",
          "text": [
            "\n",
            "100%|██████████████████████████| 10/10 [00:00<00:00, 132.01it/s, accuracy=0.953]"
          ]
        },
        {
          "output_type": "stream",
          "name": "stdout",
          "text": [
            "n_shots=8, Run=2, Accuracy: 95.27 %\n"
          ]
        },
        {
          "output_type": "stream",
          "name": "stderr",
          "text": [
            "\n",
            "100%|██████████████████████████| 10/10 [00:00<00:00, 125.93it/s, accuracy=0.971]"
          ]
        },
        {
          "output_type": "stream",
          "name": "stdout",
          "text": [
            "n_shots=10, Run=2, Accuracy: 97.10 %\n"
          ]
        },
        {
          "output_type": "stream",
          "name": "stderr",
          "text": [
            "\n",
            "100%|██████████████████████████| 10/10 [00:00<00:00, 135.61it/s, accuracy=0.968]"
          ]
        },
        {
          "output_type": "stream",
          "name": "stdout",
          "text": [
            "n_shots=12, Run=2, Accuracy: 96.77 %\n"
          ]
        },
        {
          "output_type": "stream",
          "name": "stderr",
          "text": [
            "\n",
            "100%|██████████████████████████| 10/10 [00:00<00:00, 131.56it/s, accuracy=0.991]"
          ]
        },
        {
          "output_type": "stream",
          "name": "stdout",
          "text": [
            "n_shots=16, Run=2, Accuracy: 99.07 %\n"
          ]
        },
        {
          "output_type": "stream",
          "name": "stderr",
          "text": [
            "\n",
            "100%|██████████████████████████| 10/10 [00:00<00:00, 125.25it/s, accuracy=0.962]"
          ]
        },
        {
          "output_type": "stream",
          "name": "stdout",
          "text": [
            "n_shots=24, Run=2, Accuracy: 96.20 %\n"
          ]
        },
        {
          "output_type": "stream",
          "name": "stderr",
          "text": [
            "\n",
            "100%|██████████████████████████| 10/10 [00:00<00:00, 124.37it/s, accuracy=0.974]"
          ]
        },
        {
          "output_type": "stream",
          "name": "stdout",
          "text": [
            "n_shots=32, Run=2, Accuracy: 97.43 %\n"
          ]
        },
        {
          "output_type": "stream",
          "name": "stderr",
          "text": [
            "\n",
            "100%|███████████████████████████| 10/10 [00:00<00:00, 122.07it/s, accuracy=0.87]\n"
          ]
        },
        {
          "output_type": "stream",
          "name": "stdout",
          "text": [
            "n_shots=1, Run=3, Accuracy: 87.00 %\n"
          ]
        },
        {
          "output_type": "stream",
          "name": "stderr",
          "text": [
            "100%|██████████████████████████| 10/10 [00:00<00:00, 131.76it/s, accuracy=0.962]"
          ]
        },
        {
          "output_type": "stream",
          "name": "stdout",
          "text": [
            "n_shots=2, Run=3, Accuracy: 96.20 %\n"
          ]
        },
        {
          "output_type": "stream",
          "name": "stderr",
          "text": [
            "\n",
            "100%|██████████████████████████| 10/10 [00:00<00:00, 126.66it/s, accuracy=0.954]"
          ]
        },
        {
          "output_type": "stream",
          "name": "stdout",
          "text": [
            "n_shots=3, Run=3, Accuracy: 95.40 %\n"
          ]
        },
        {
          "output_type": "stream",
          "name": "stderr",
          "text": [
            "\n",
            "100%|██████████████████████████| 10/10 [00:00<00:00, 126.34it/s, accuracy=0.964]"
          ]
        },
        {
          "output_type": "stream",
          "name": "stdout",
          "text": [
            "n_shots=4, Run=3, Accuracy: 96.43 %\n"
          ]
        },
        {
          "output_type": "stream",
          "name": "stderr",
          "text": [
            "\n",
            "100%|██████████████████████████| 10/10 [00:00<00:00, 130.78it/s, accuracy=0.971]"
          ]
        },
        {
          "output_type": "stream",
          "name": "stdout",
          "text": [
            "n_shots=5, Run=3, Accuracy: 97.10 %\n"
          ]
        },
        {
          "output_type": "stream",
          "name": "stderr",
          "text": [
            "\n",
            "100%|██████████████████████████| 10/10 [00:00<00:00, 129.26it/s, accuracy=0.961]"
          ]
        },
        {
          "output_type": "stream",
          "name": "stdout",
          "text": [
            "n_shots=6, Run=3, Accuracy: 96.07 %\n"
          ]
        },
        {
          "output_type": "stream",
          "name": "stderr",
          "text": [
            "\n",
            "100%|██████████████████████████| 10/10 [00:00<00:00, 126.08it/s, accuracy=0.944]"
          ]
        },
        {
          "output_type": "stream",
          "name": "stdout",
          "text": [
            "n_shots=8, Run=3, Accuracy: 94.43 %\n"
          ]
        },
        {
          "output_type": "stream",
          "name": "stderr",
          "text": [
            "\n",
            "100%|██████████████████████████| 10/10 [00:00<00:00, 126.98it/s, accuracy=0.958]"
          ]
        },
        {
          "output_type": "stream",
          "name": "stdout",
          "text": [
            "n_shots=10, Run=3, Accuracy: 95.80 %\n"
          ]
        },
        {
          "output_type": "stream",
          "name": "stderr",
          "text": [
            "\n",
            "100%|██████████████████████████| 10/10 [00:00<00:00, 129.94it/s, accuracy=0.961]"
          ]
        },
        {
          "output_type": "stream",
          "name": "stdout",
          "text": [
            "n_shots=12, Run=3, Accuracy: 96.10 %\n"
          ]
        },
        {
          "output_type": "stream",
          "name": "stderr",
          "text": [
            "\n",
            "100%|██████████████████████████| 10/10 [00:00<00:00, 122.97it/s, accuracy=0.984]"
          ]
        },
        {
          "output_type": "stream",
          "name": "stdout",
          "text": [
            "n_shots=16, Run=3, Accuracy: 98.37 %\n"
          ]
        },
        {
          "output_type": "stream",
          "name": "stderr",
          "text": [
            "\n",
            "100%|███████████████████████████| 10/10 [00:00<00:00, 125.05it/s, accuracy=0.99]\n"
          ]
        },
        {
          "output_type": "stream",
          "name": "stdout",
          "text": [
            "n_shots=24, Run=3, Accuracy: 98.97 %\n"
          ]
        },
        {
          "output_type": "stream",
          "name": "stderr",
          "text": [
            "100%|██████████████████████████| 10/10 [00:00<00:00, 130.42it/s, accuracy=0.973]\n"
          ]
        },
        {
          "output_type": "stream",
          "name": "stdout",
          "text": [
            "n_shots=32, Run=3, Accuracy: 97.33 %\n"
          ]
        },
        {
          "output_type": "stream",
          "name": "stderr",
          "text": [
            "100%|██████████████████████████| 10/10 [00:00<00:00, 121.06it/s, accuracy=0.862]"
          ]
        },
        {
          "output_type": "stream",
          "name": "stdout",
          "text": [
            "n_shots=1, Run=4, Accuracy: 86.20 %\n"
          ]
        },
        {
          "output_type": "stream",
          "name": "stderr",
          "text": [
            "\n",
            "100%|██████████████████████████| 10/10 [00:00<00:00, 133.82it/s, accuracy=0.948]"
          ]
        },
        {
          "output_type": "stream",
          "name": "stdout",
          "text": [
            "n_shots=2, Run=4, Accuracy: 94.83 %\n"
          ]
        },
        {
          "output_type": "stream",
          "name": "stderr",
          "text": [
            "\n",
            "100%|██████████████████████████| 10/10 [00:00<00:00, 127.59it/s, accuracy=0.938]"
          ]
        },
        {
          "output_type": "stream",
          "name": "stdout",
          "text": [
            "n_shots=3, Run=4, Accuracy: 93.80 %\n"
          ]
        },
        {
          "output_type": "stream",
          "name": "stderr",
          "text": [
            "\n",
            "100%|██████████████████████████| 10/10 [00:00<00:00, 129.69it/s, accuracy=0.972]"
          ]
        },
        {
          "output_type": "stream",
          "name": "stdout",
          "text": [
            "n_shots=4, Run=4, Accuracy: 97.20 %\n"
          ]
        },
        {
          "output_type": "stream",
          "name": "stderr",
          "text": [
            "\n",
            "100%|██████████████████████████| 10/10 [00:00<00:00, 133.52it/s, accuracy=0.949]"
          ]
        },
        {
          "output_type": "stream",
          "name": "stdout",
          "text": [
            "n_shots=5, Run=4, Accuracy: 94.93 %\n"
          ]
        },
        {
          "output_type": "stream",
          "name": "stderr",
          "text": [
            "\n",
            "100%|███████████████████████████| 10/10 [00:00<00:00, 129.09it/s, accuracy=0.95]"
          ]
        },
        {
          "output_type": "stream",
          "name": "stdout",
          "text": [
            "n_shots=6, Run=4, Accuracy: 95.03 %\n"
          ]
        },
        {
          "output_type": "stream",
          "name": "stderr",
          "text": [
            "\n",
            "100%|██████████████████████████| 10/10 [00:00<00:00, 136.65it/s, accuracy=0.985]"
          ]
        },
        {
          "output_type": "stream",
          "name": "stdout",
          "text": [
            "n_shots=8, Run=4, Accuracy: 98.50 %\n"
          ]
        },
        {
          "output_type": "stream",
          "name": "stderr",
          "text": [
            "\n",
            "100%|██████████████████████████| 10/10 [00:00<00:00, 123.06it/s, accuracy=0.988]"
          ]
        },
        {
          "output_type": "stream",
          "name": "stdout",
          "text": [
            "n_shots=10, Run=4, Accuracy: 98.80 %\n"
          ]
        },
        {
          "output_type": "stream",
          "name": "stderr",
          "text": [
            "\n",
            "100%|██████████████████████████| 10/10 [00:00<00:00, 129.35it/s, accuracy=0.975]"
          ]
        },
        {
          "output_type": "stream",
          "name": "stdout",
          "text": [
            "n_shots=12, Run=4, Accuracy: 97.47 %\n"
          ]
        },
        {
          "output_type": "stream",
          "name": "stderr",
          "text": [
            "\n",
            "100%|██████████████████████████| 10/10 [00:00<00:00, 120.47it/s, accuracy=0.916]\n"
          ]
        },
        {
          "output_type": "stream",
          "name": "stdout",
          "text": [
            "n_shots=16, Run=4, Accuracy: 91.60 %\n"
          ]
        },
        {
          "output_type": "stream",
          "name": "stderr",
          "text": [
            "100%|██████████████████████████| 10/10 [00:00<00:00, 122.60it/s, accuracy=0.962]"
          ]
        },
        {
          "output_type": "stream",
          "name": "stdout",
          "text": [
            "n_shots=24, Run=4, Accuracy: 96.23 %\n"
          ]
        },
        {
          "output_type": "stream",
          "name": "stderr",
          "text": [
            "\n",
            "100%|███████████████████████████| 10/10 [00:00<00:00, 122.67it/s, accuracy=0.97]"
          ]
        },
        {
          "output_type": "stream",
          "name": "stdout",
          "text": [
            "n_shots=32, Run=4, Accuracy: 96.97 %\n"
          ]
        },
        {
          "output_type": "stream",
          "name": "stderr",
          "text": [
            "\n",
            "100%|██████████████████████████| 10/10 [00:00<00:00, 120.58it/s, accuracy=0.851]\n"
          ]
        },
        {
          "output_type": "stream",
          "name": "stdout",
          "text": [
            "n_shots=1, Run=5, Accuracy: 85.13 %\n"
          ]
        },
        {
          "output_type": "stream",
          "name": "stderr",
          "text": [
            "100%|██████████████████████████| 10/10 [00:00<00:00, 128.04it/s, accuracy=0.922]\n"
          ]
        },
        {
          "output_type": "stream",
          "name": "stdout",
          "text": [
            "n_shots=2, Run=5, Accuracy: 92.17 %\n"
          ]
        },
        {
          "output_type": "stream",
          "name": "stderr",
          "text": [
            "100%|██████████████████████████| 10/10 [00:00<00:00, 131.09it/s, accuracy=0.935]"
          ]
        },
        {
          "output_type": "stream",
          "name": "stdout",
          "text": [
            "n_shots=3, Run=5, Accuracy: 93.47 %\n"
          ]
        },
        {
          "output_type": "stream",
          "name": "stderr",
          "text": [
            "\n",
            "100%|██████████████████████████| 10/10 [00:00<00:00, 137.00it/s, accuracy=0.925]"
          ]
        },
        {
          "output_type": "stream",
          "name": "stdout",
          "text": [
            "n_shots=4, Run=5, Accuracy: 92.47 %\n"
          ]
        },
        {
          "output_type": "stream",
          "name": "stderr",
          "text": [
            "\n",
            "100%|██████████████████████████| 10/10 [00:00<00:00, 131.26it/s, accuracy=0.975]"
          ]
        },
        {
          "output_type": "stream",
          "name": "stdout",
          "text": [
            "n_shots=5, Run=5, Accuracy: 97.50 %\n"
          ]
        },
        {
          "output_type": "stream",
          "name": "stderr",
          "text": [
            "\n",
            "100%|██████████████████████████| 10/10 [00:00<00:00, 133.59it/s, accuracy=0.954]"
          ]
        },
        {
          "output_type": "stream",
          "name": "stdout",
          "text": [
            "n_shots=6, Run=5, Accuracy: 95.43 %\n"
          ]
        },
        {
          "output_type": "stream",
          "name": "stderr",
          "text": [
            "\n",
            "100%|███████████████████████████| 10/10 [00:00<00:00, 131.20it/s, accuracy=0.97]"
          ]
        },
        {
          "output_type": "stream",
          "name": "stdout",
          "text": [
            "n_shots=8, Run=5, Accuracy: 96.97 %\n"
          ]
        },
        {
          "output_type": "stream",
          "name": "stderr",
          "text": [
            "\n",
            "100%|██████████████████████████| 10/10 [00:00<00:00, 134.58it/s, accuracy=0.969]"
          ]
        },
        {
          "output_type": "stream",
          "name": "stdout",
          "text": [
            "n_shots=10, Run=5, Accuracy: 96.90 %\n"
          ]
        },
        {
          "output_type": "stream",
          "name": "stderr",
          "text": [
            "\n",
            "100%|██████████████████████████| 10/10 [00:00<00:00, 125.28it/s, accuracy=0.986]"
          ]
        },
        {
          "output_type": "stream",
          "name": "stdout",
          "text": [
            "n_shots=12, Run=5, Accuracy: 98.60 %\n"
          ]
        },
        {
          "output_type": "stream",
          "name": "stderr",
          "text": [
            "\n",
            "100%|██████████████████████████| 10/10 [00:00<00:00, 124.76it/s, accuracy=0.938]"
          ]
        },
        {
          "output_type": "stream",
          "name": "stdout",
          "text": [
            "n_shots=16, Run=5, Accuracy: 93.80 %\n"
          ]
        },
        {
          "output_type": "stream",
          "name": "stderr",
          "text": [
            "\n",
            "100%|██████████████████████████| 10/10 [00:00<00:00, 122.54it/s, accuracy=0.986]\n"
          ]
        },
        {
          "output_type": "stream",
          "name": "stdout",
          "text": [
            "n_shots=24, Run=5, Accuracy: 98.60 %\n"
          ]
        },
        {
          "output_type": "stream",
          "name": "stderr",
          "text": [
            "100%|██████████████████████████| 10/10 [00:00<00:00, 117.56it/s, accuracy=0.993]"
          ]
        },
        {
          "output_type": "stream",
          "name": "stdout",
          "text": [
            "n_shots=32, Run=5, Accuracy: 99.33 %\n"
          ]
        },
        {
          "output_type": "stream",
          "name": "stderr",
          "text": [
            "\n",
            "100%|██████████████████████████| 10/10 [00:00<00:00, 121.70it/s, accuracy=0.883]"
          ]
        },
        {
          "output_type": "stream",
          "name": "stdout",
          "text": [
            "n_shots=1, Run=6, Accuracy: 88.27 %\n"
          ]
        },
        {
          "output_type": "stream",
          "name": "stderr",
          "text": [
            "\n",
            "100%|██████████████████████████| 10/10 [00:00<00:00, 124.67it/s, accuracy=0.915]\n"
          ]
        },
        {
          "output_type": "stream",
          "name": "stdout",
          "text": [
            "n_shots=2, Run=6, Accuracy: 91.47 %\n"
          ]
        },
        {
          "output_type": "stream",
          "name": "stderr",
          "text": [
            "100%|██████████████████████████| 10/10 [00:00<00:00, 132.78it/s, accuracy=0.968]"
          ]
        },
        {
          "output_type": "stream",
          "name": "stdout",
          "text": [
            "n_shots=3, Run=6, Accuracy: 96.80 %\n"
          ]
        },
        {
          "output_type": "stream",
          "name": "stderr",
          "text": [
            "\n",
            "100%|███████████████████████████| 10/10 [00:00<00:00, 128.97it/s, accuracy=0.98]"
          ]
        },
        {
          "output_type": "stream",
          "name": "stdout",
          "text": [
            "n_shots=4, Run=6, Accuracy: 98.00 %\n"
          ]
        },
        {
          "output_type": "stream",
          "name": "stderr",
          "text": [
            "\n",
            "100%|██████████████████████████| 10/10 [00:00<00:00, 127.68it/s, accuracy=0.982]"
          ]
        },
        {
          "output_type": "stream",
          "name": "stdout",
          "text": [
            "n_shots=5, Run=6, Accuracy: 98.17 %\n"
          ]
        },
        {
          "output_type": "stream",
          "name": "stderr",
          "text": [
            "\n",
            "100%|██████████████████████████| 10/10 [00:00<00:00, 127.44it/s, accuracy=0.934]"
          ]
        },
        {
          "output_type": "stream",
          "name": "stdout",
          "text": [
            "n_shots=6, Run=6, Accuracy: 93.40 %\n"
          ]
        },
        {
          "output_type": "stream",
          "name": "stderr",
          "text": [
            "\n",
            "100%|██████████████████████████| 10/10 [00:00<00:00, 124.20it/s, accuracy=0.985]\n"
          ]
        },
        {
          "output_type": "stream",
          "name": "stdout",
          "text": [
            "n_shots=8, Run=6, Accuracy: 98.47 %\n"
          ]
        },
        {
          "output_type": "stream",
          "name": "stderr",
          "text": [
            "100%|██████████████████████████| 10/10 [00:00<00:00, 127.76it/s, accuracy=0.968]"
          ]
        },
        {
          "output_type": "stream",
          "name": "stdout",
          "text": [
            "n_shots=10, Run=6, Accuracy: 96.77 %\n"
          ]
        },
        {
          "output_type": "stream",
          "name": "stderr",
          "text": [
            "\n",
            "100%|██████████████████████████| 10/10 [00:00<00:00, 125.91it/s, accuracy=0.973]"
          ]
        },
        {
          "output_type": "stream",
          "name": "stdout",
          "text": [
            "n_shots=12, Run=6, Accuracy: 97.33 %\n"
          ]
        },
        {
          "output_type": "stream",
          "name": "stderr",
          "text": [
            "\n",
            "100%|██████████████████████████| 10/10 [00:00<00:00, 127.07it/s, accuracy=0.938]"
          ]
        },
        {
          "output_type": "stream",
          "name": "stdout",
          "text": [
            "n_shots=16, Run=6, Accuracy: 93.77 %\n"
          ]
        },
        {
          "output_type": "stream",
          "name": "stderr",
          "text": [
            "\n",
            "100%|██████████████████████████| 10/10 [00:00<00:00, 124.16it/s, accuracy=0.978]"
          ]
        },
        {
          "output_type": "stream",
          "name": "stdout",
          "text": [
            "n_shots=24, Run=6, Accuracy: 97.80 %\n"
          ]
        },
        {
          "output_type": "stream",
          "name": "stderr",
          "text": [
            "\n",
            "100%|██████████████████████████| 10/10 [00:00<00:00, 130.65it/s, accuracy=0.981]"
          ]
        },
        {
          "output_type": "stream",
          "name": "stdout",
          "text": [
            "n_shots=32, Run=6, Accuracy: 98.13 %\n"
          ]
        },
        {
          "output_type": "stream",
          "name": "stderr",
          "text": [
            "\n",
            "100%|██████████████████████████| 10/10 [00:00<00:00, 123.46it/s, accuracy=0.844]"
          ]
        },
        {
          "output_type": "stream",
          "name": "stdout",
          "text": [
            "n_shots=1, Run=7, Accuracy: 84.43 %\n"
          ]
        },
        {
          "output_type": "stream",
          "name": "stderr",
          "text": [
            "\n",
            "100%|██████████████████████████| 10/10 [00:00<00:00, 130.06it/s, accuracy=0.961]"
          ]
        },
        {
          "output_type": "stream",
          "name": "stdout",
          "text": [
            "n_shots=2, Run=7, Accuracy: 96.10 %\n"
          ]
        },
        {
          "output_type": "stream",
          "name": "stderr",
          "text": [
            "\n",
            "100%|██████████████████████████| 10/10 [00:00<00:00, 127.51it/s, accuracy=0.929]"
          ]
        },
        {
          "output_type": "stream",
          "name": "stdout",
          "text": [
            "n_shots=3, Run=7, Accuracy: 92.87 %\n"
          ]
        },
        {
          "output_type": "stream",
          "name": "stderr",
          "text": [
            "\n",
            "100%|██████████████████████████| 10/10 [00:00<00:00, 134.73it/s, accuracy=0.948]"
          ]
        },
        {
          "output_type": "stream",
          "name": "stdout",
          "text": [
            "n_shots=4, Run=7, Accuracy: 94.80 %\n"
          ]
        },
        {
          "output_type": "stream",
          "name": "stderr",
          "text": [
            "\n",
            "100%|██████████████████████████| 10/10 [00:00<00:00, 129.62it/s, accuracy=0.956]"
          ]
        },
        {
          "output_type": "stream",
          "name": "stdout",
          "text": [
            "n_shots=5, Run=7, Accuracy: 95.57 %\n"
          ]
        },
        {
          "output_type": "stream",
          "name": "stderr",
          "text": [
            "\n",
            "100%|██████████████████████████| 10/10 [00:00<00:00, 135.12it/s, accuracy=0.976]"
          ]
        },
        {
          "output_type": "stream",
          "name": "stdout",
          "text": [
            "n_shots=6, Run=7, Accuracy: 97.63 %\n"
          ]
        },
        {
          "output_type": "stream",
          "name": "stderr",
          "text": [
            "\n",
            "100%|██████████████████████████| 10/10 [00:00<00:00, 124.50it/s, accuracy=0.968]"
          ]
        },
        {
          "output_type": "stream",
          "name": "stdout",
          "text": [
            "n_shots=8, Run=7, Accuracy: 96.83 %\n"
          ]
        },
        {
          "output_type": "stream",
          "name": "stderr",
          "text": [
            "\n",
            "100%|██████████████████████████| 10/10 [00:00<00:00, 128.47it/s, accuracy=0.949]"
          ]
        },
        {
          "output_type": "stream",
          "name": "stdout",
          "text": [
            "n_shots=10, Run=7, Accuracy: 94.87 %\n"
          ]
        },
        {
          "output_type": "stream",
          "name": "stderr",
          "text": [
            "\n",
            "100%|██████████████████████████| 10/10 [00:00<00:00, 134.00it/s, accuracy=0.962]"
          ]
        },
        {
          "output_type": "stream",
          "name": "stdout",
          "text": [
            "n_shots=12, Run=7, Accuracy: 96.17 %\n"
          ]
        },
        {
          "output_type": "stream",
          "name": "stderr",
          "text": [
            "\n",
            "100%|██████████████████████████| 10/10 [00:00<00:00, 124.20it/s, accuracy=0.983]"
          ]
        },
        {
          "output_type": "stream",
          "name": "stdout",
          "text": [
            "n_shots=16, Run=7, Accuracy: 98.27 %\n"
          ]
        },
        {
          "output_type": "stream",
          "name": "stderr",
          "text": [
            "\n",
            "100%|██████████████████████████| 10/10 [00:00<00:00, 128.82it/s, accuracy=0.989]"
          ]
        },
        {
          "output_type": "stream",
          "name": "stdout",
          "text": [
            "n_shots=24, Run=7, Accuracy: 98.90 %\n"
          ]
        },
        {
          "output_type": "stream",
          "name": "stderr",
          "text": [
            "\n",
            "100%|██████████████████████████| 10/10 [00:00<00:00, 123.25it/s, accuracy=0.977]"
          ]
        },
        {
          "output_type": "stream",
          "name": "stdout",
          "text": [
            "n_shots=32, Run=7, Accuracy: 97.67 %\n"
          ]
        },
        {
          "output_type": "stream",
          "name": "stderr",
          "text": [
            "\n",
            "100%|██████████████████████████| 10/10 [00:00<00:00, 125.16it/s, accuracy=0.814]\n"
          ]
        },
        {
          "output_type": "stream",
          "name": "stdout",
          "text": [
            "n_shots=1, Run=8, Accuracy: 81.40 %\n"
          ]
        },
        {
          "output_type": "stream",
          "name": "stderr",
          "text": [
            "100%|██████████████████████████| 10/10 [00:00<00:00, 135.19it/s, accuracy=0.945]"
          ]
        },
        {
          "output_type": "stream",
          "name": "stdout",
          "text": [
            "n_shots=2, Run=8, Accuracy: 94.53 %\n"
          ]
        },
        {
          "output_type": "stream",
          "name": "stderr",
          "text": [
            "\n",
            "100%|██████████████████████████| 10/10 [00:00<00:00, 132.08it/s, accuracy=0.941]"
          ]
        },
        {
          "output_type": "stream",
          "name": "stdout",
          "text": [
            "n_shots=3, Run=8, Accuracy: 94.10 %\n"
          ]
        },
        {
          "output_type": "stream",
          "name": "stderr",
          "text": [
            "\n",
            "100%|██████████████████████████| 10/10 [00:00<00:00, 128.49it/s, accuracy=0.957]"
          ]
        },
        {
          "output_type": "stream",
          "name": "stdout",
          "text": [
            "n_shots=4, Run=8, Accuracy: 95.70 %\n"
          ]
        },
        {
          "output_type": "stream",
          "name": "stderr",
          "text": [
            "\n",
            "100%|██████████████████████████| 10/10 [00:00<00:00, 129.84it/s, accuracy=0.964]"
          ]
        },
        {
          "output_type": "stream",
          "name": "stdout",
          "text": [
            "n_shots=5, Run=8, Accuracy: 96.43 %\n"
          ]
        },
        {
          "output_type": "stream",
          "name": "stderr",
          "text": [
            "\n",
            "100%|██████████████████████████| 10/10 [00:00<00:00, 132.47it/s, accuracy=0.976]"
          ]
        },
        {
          "output_type": "stream",
          "name": "stdout",
          "text": [
            "n_shots=6, Run=8, Accuracy: 97.63 %\n"
          ]
        },
        {
          "output_type": "stream",
          "name": "stderr",
          "text": [
            "\n",
            "100%|██████████████████████████| 10/10 [00:00<00:00, 128.24it/s, accuracy=0.978]"
          ]
        },
        {
          "output_type": "stream",
          "name": "stdout",
          "text": [
            "n_shots=8, Run=8, Accuracy: 97.80 %\n"
          ]
        },
        {
          "output_type": "stream",
          "name": "stderr",
          "text": [
            "\n",
            "100%|██████████████████████████| 10/10 [00:00<00:00, 130.28it/s, accuracy=0.957]"
          ]
        },
        {
          "output_type": "stream",
          "name": "stdout",
          "text": [
            "n_shots=10, Run=8, Accuracy: 95.67 %\n"
          ]
        },
        {
          "output_type": "stream",
          "name": "stderr",
          "text": [
            "\n",
            "100%|██████████████████████████| 10/10 [00:00<00:00, 129.06it/s, accuracy=0.971]"
          ]
        },
        {
          "output_type": "stream",
          "name": "stdout",
          "text": [
            "n_shots=12, Run=8, Accuracy: 97.10 %\n"
          ]
        },
        {
          "output_type": "stream",
          "name": "stderr",
          "text": [
            "\n",
            "100%|██████████████████████████| 10/10 [00:00<00:00, 130.17it/s, accuracy=0.958]"
          ]
        },
        {
          "output_type": "stream",
          "name": "stdout",
          "text": [
            "n_shots=16, Run=8, Accuracy: 95.83 %\n"
          ]
        },
        {
          "output_type": "stream",
          "name": "stderr",
          "text": [
            "\n",
            "100%|██████████████████████████| 10/10 [00:00<00:00, 123.32it/s, accuracy=0.987]"
          ]
        },
        {
          "output_type": "stream",
          "name": "stdout",
          "text": [
            "n_shots=24, Run=8, Accuracy: 98.73 %\n"
          ]
        },
        {
          "output_type": "stream",
          "name": "stderr",
          "text": [
            "\n",
            "100%|██████████████████████████| 10/10 [00:00<00:00, 119.98it/s, accuracy=0.986]"
          ]
        },
        {
          "output_type": "stream",
          "name": "stdout",
          "text": [
            "n_shots=32, Run=8, Accuracy: 98.60 %\n"
          ]
        },
        {
          "output_type": "stream",
          "name": "stderr",
          "text": [
            "\n",
            "100%|██████████████████████████| 10/10 [00:00<00:00, 123.71it/s, accuracy=0.878]"
          ]
        },
        {
          "output_type": "stream",
          "name": "stdout",
          "text": [
            "n_shots=1, Run=9, Accuracy: 87.83 %\n"
          ]
        },
        {
          "output_type": "stream",
          "name": "stderr",
          "text": [
            "\n",
            "100%|██████████████████████████| 10/10 [00:00<00:00, 123.89it/s, accuracy=0.942]\n"
          ]
        },
        {
          "output_type": "stream",
          "name": "stdout",
          "text": [
            "n_shots=2, Run=9, Accuracy: 94.23 %\n"
          ]
        },
        {
          "output_type": "stream",
          "name": "stderr",
          "text": [
            "100%|██████████████████████████| 10/10 [00:00<00:00, 134.09it/s, accuracy=0.968]"
          ]
        },
        {
          "output_type": "stream",
          "name": "stdout",
          "text": [
            "n_shots=3, Run=9, Accuracy: 96.83 %\n"
          ]
        },
        {
          "output_type": "stream",
          "name": "stderr",
          "text": [
            "\n",
            "100%|██████████████████████████| 10/10 [00:00<00:00, 133.98it/s, accuracy=0.965]"
          ]
        },
        {
          "output_type": "stream",
          "name": "stdout",
          "text": [
            "n_shots=4, Run=9, Accuracy: 96.47 %\n"
          ]
        },
        {
          "output_type": "stream",
          "name": "stderr",
          "text": [
            "\n",
            "100%|███████████████████████████| 10/10 [00:00<00:00, 132.92it/s, accuracy=0.95]"
          ]
        },
        {
          "output_type": "stream",
          "name": "stdout",
          "text": [
            "n_shots=5, Run=9, Accuracy: 95.03 %\n"
          ]
        },
        {
          "output_type": "stream",
          "name": "stderr",
          "text": [
            "\n",
            "100%|██████████████████████████| 10/10 [00:00<00:00, 132.81it/s, accuracy=0.966]"
          ]
        },
        {
          "output_type": "stream",
          "name": "stdout",
          "text": [
            "n_shots=6, Run=9, Accuracy: 96.57 %\n"
          ]
        },
        {
          "output_type": "stream",
          "name": "stderr",
          "text": [
            "\n",
            "100%|██████████████████████████| 10/10 [00:00<00:00, 132.19it/s, accuracy=0.964]"
          ]
        },
        {
          "output_type": "stream",
          "name": "stdout",
          "text": [
            "n_shots=8, Run=9, Accuracy: 96.40 %\n"
          ]
        },
        {
          "output_type": "stream",
          "name": "stderr",
          "text": [
            "\n",
            "100%|██████████████████████████| 10/10 [00:00<00:00, 128.15it/s, accuracy=0.973]"
          ]
        },
        {
          "output_type": "stream",
          "name": "stdout",
          "text": [
            "n_shots=10, Run=9, Accuracy: 97.30 %\n"
          ]
        },
        {
          "output_type": "stream",
          "name": "stderr",
          "text": [
            "\n",
            "100%|██████████████████████████| 10/10 [00:00<00:00, 126.49it/s, accuracy=0.951]"
          ]
        },
        {
          "output_type": "stream",
          "name": "stdout",
          "text": [
            "n_shots=12, Run=9, Accuracy: 95.07 %\n"
          ]
        },
        {
          "output_type": "stream",
          "name": "stderr",
          "text": [
            "\n",
            "100%|██████████████████████████| 10/10 [00:00<00:00, 124.58it/s, accuracy=0.988]\n"
          ]
        },
        {
          "output_type": "stream",
          "name": "stdout",
          "text": [
            "n_shots=16, Run=9, Accuracy: 98.83 %\n"
          ]
        },
        {
          "output_type": "stream",
          "name": "stderr",
          "text": [
            "100%|██████████████████████████| 10/10 [00:00<00:00, 121.54it/s, accuracy=0.966]"
          ]
        },
        {
          "output_type": "stream",
          "name": "stdout",
          "text": [
            "n_shots=24, Run=9, Accuracy: 96.57 %\n"
          ]
        },
        {
          "output_type": "stream",
          "name": "stderr",
          "text": [
            "\n",
            "100%|██████████████████████████| 10/10 [00:00<00:00, 114.23it/s, accuracy=0.986]"
          ]
        },
        {
          "output_type": "stream",
          "name": "stdout",
          "text": [
            "n_shots=32, Run=9, Accuracy: 98.63 %\n"
          ]
        },
        {
          "output_type": "stream",
          "name": "stderr",
          "text": [
            "\n",
            "100%|██████████████████████████| 10/10 [00:00<00:00, 123.06it/s, accuracy=0.864]"
          ]
        },
        {
          "output_type": "stream",
          "name": "stdout",
          "text": [
            "n_shots=1, Run=10, Accuracy: 86.43 %\n"
          ]
        },
        {
          "output_type": "stream",
          "name": "stderr",
          "text": [
            "\n",
            "100%|██████████████████████████| 10/10 [00:00<00:00, 129.61it/s, accuracy=0.908]\n"
          ]
        },
        {
          "output_type": "stream",
          "name": "stdout",
          "text": [
            "n_shots=2, Run=10, Accuracy: 90.83 %\n"
          ]
        },
        {
          "output_type": "stream",
          "name": "stderr",
          "text": [
            "100%|██████████████████████████| 10/10 [00:00<00:00, 125.24it/s, accuracy=0.935]"
          ]
        },
        {
          "output_type": "stream",
          "name": "stdout",
          "text": [
            "n_shots=3, Run=10, Accuracy: 93.53 %\n"
          ]
        },
        {
          "output_type": "stream",
          "name": "stderr",
          "text": [
            "\n",
            "100%|███████████████████████████| 10/10 [00:00<00:00, 133.91it/s, accuracy=0.93]"
          ]
        },
        {
          "output_type": "stream",
          "name": "stdout",
          "text": [
            "n_shots=4, Run=10, Accuracy: 92.97 %\n"
          ]
        },
        {
          "output_type": "stream",
          "name": "stderr",
          "text": [
            "\n",
            "100%|██████████████████████████| 10/10 [00:00<00:00, 133.67it/s, accuracy=0.959]"
          ]
        },
        {
          "output_type": "stream",
          "name": "stdout",
          "text": [
            "n_shots=5, Run=10, Accuracy: 95.90 %\n"
          ]
        },
        {
          "output_type": "stream",
          "name": "stderr",
          "text": [
            "\n",
            "100%|██████████████████████████| 10/10 [00:00<00:00, 128.99it/s, accuracy=0.958]"
          ]
        },
        {
          "output_type": "stream",
          "name": "stdout",
          "text": [
            "n_shots=6, Run=10, Accuracy: 95.80 %\n"
          ]
        },
        {
          "output_type": "stream",
          "name": "stderr",
          "text": [
            "\n",
            "100%|██████████████████████████| 10/10 [00:00<00:00, 131.92it/s, accuracy=0.981]"
          ]
        },
        {
          "output_type": "stream",
          "name": "stdout",
          "text": [
            "n_shots=8, Run=10, Accuracy: 98.07 %\n"
          ]
        },
        {
          "output_type": "stream",
          "name": "stderr",
          "text": [
            "\n",
            "100%|██████████████████████████| 10/10 [00:00<00:00, 129.60it/s, accuracy=0.956]"
          ]
        },
        {
          "output_type": "stream",
          "name": "stdout",
          "text": [
            "n_shots=10, Run=10, Accuracy: 95.63 %\n"
          ]
        },
        {
          "output_type": "stream",
          "name": "stderr",
          "text": [
            "\n",
            "100%|██████████████████████████| 10/10 [00:00<00:00, 132.09it/s, accuracy=0.942]"
          ]
        },
        {
          "output_type": "stream",
          "name": "stdout",
          "text": [
            "n_shots=12, Run=10, Accuracy: 94.17 %\n"
          ]
        },
        {
          "output_type": "stream",
          "name": "stderr",
          "text": [
            "\n",
            "100%|██████████████████████████| 10/10 [00:00<00:00, 129.21it/s, accuracy=0.975]"
          ]
        },
        {
          "output_type": "stream",
          "name": "stdout",
          "text": [
            "n_shots=16, Run=10, Accuracy: 97.53 %\n"
          ]
        },
        {
          "output_type": "stream",
          "name": "stderr",
          "text": [
            "\n",
            "100%|██████████████████████████| 10/10 [00:00<00:00, 120.31it/s, accuracy=0.944]\n"
          ]
        },
        {
          "output_type": "stream",
          "name": "stdout",
          "text": [
            "n_shots=24, Run=10, Accuracy: 94.43 %\n"
          ]
        },
        {
          "output_type": "stream",
          "name": "stderr",
          "text": [
            "100%|██████████████████████████| 10/10 [00:00<00:00, 120.43it/s, accuracy=0.987]"
          ]
        },
        {
          "output_type": "stream",
          "name": "stdout",
          "text": [
            "n_shots=32, Run=10, Accuracy: 98.73 %\n"
          ]
        },
        {
          "output_type": "stream",
          "name": "stderr",
          "text": [
            "\n",
            "100%|██████████████████████████| 10/10 [00:00<00:00, 123.41it/s, accuracy=0.856]"
          ]
        },
        {
          "output_type": "stream",
          "name": "stdout",
          "text": [
            "n_shots=1, Run=11, Accuracy: 85.63 %\n"
          ]
        },
        {
          "output_type": "stream",
          "name": "stderr",
          "text": [
            "\n",
            "100%|██████████████████████████| 10/10 [00:00<00:00, 131.47it/s, accuracy=0.892]"
          ]
        },
        {
          "output_type": "stream",
          "name": "stdout",
          "text": [
            "n_shots=2, Run=11, Accuracy: 89.23 %\n"
          ]
        },
        {
          "output_type": "stream",
          "name": "stderr",
          "text": [
            "\n",
            "100%|██████████████████████████| 10/10 [00:00<00:00, 132.70it/s, accuracy=0.955]"
          ]
        },
        {
          "output_type": "stream",
          "name": "stdout",
          "text": [
            "n_shots=3, Run=11, Accuracy: 95.47 %\n"
          ]
        },
        {
          "output_type": "stream",
          "name": "stderr",
          "text": [
            "\n",
            "100%|██████████████████████████| 10/10 [00:00<00:00, 129.00it/s, accuracy=0.971]"
          ]
        },
        {
          "output_type": "stream",
          "name": "stdout",
          "text": [
            "n_shots=4, Run=11, Accuracy: 97.10 %\n"
          ]
        },
        {
          "output_type": "stream",
          "name": "stderr",
          "text": [
            "\n",
            "100%|██████████████████████████| 10/10 [00:00<00:00, 132.76it/s, accuracy=0.978]"
          ]
        },
        {
          "output_type": "stream",
          "name": "stdout",
          "text": [
            "n_shots=5, Run=11, Accuracy: 97.83 %\n"
          ]
        },
        {
          "output_type": "stream",
          "name": "stderr",
          "text": [
            "\n",
            "100%|██████████████████████████| 10/10 [00:00<00:00, 130.92it/s, accuracy=0.982]"
          ]
        },
        {
          "output_type": "stream",
          "name": "stdout",
          "text": [
            "n_shots=6, Run=11, Accuracy: 98.20 %\n"
          ]
        },
        {
          "output_type": "stream",
          "name": "stderr",
          "text": [
            "\n",
            "100%|██████████████████████████| 10/10 [00:00<00:00, 133.43it/s, accuracy=0.978]"
          ]
        },
        {
          "output_type": "stream",
          "name": "stdout",
          "text": [
            "n_shots=8, Run=11, Accuracy: 97.80 %\n"
          ]
        },
        {
          "output_type": "stream",
          "name": "stderr",
          "text": [
            "\n",
            "100%|██████████████████████████| 10/10 [00:00<00:00, 128.37it/s, accuracy=0.967]"
          ]
        },
        {
          "output_type": "stream",
          "name": "stdout",
          "text": [
            "n_shots=10, Run=11, Accuracy: 96.73 %\n"
          ]
        },
        {
          "output_type": "stream",
          "name": "stderr",
          "text": [
            "\n",
            "100%|██████████████████████████| 10/10 [00:00<00:00, 129.34it/s, accuracy=0.953]"
          ]
        },
        {
          "output_type": "stream",
          "name": "stdout",
          "text": [
            "n_shots=12, Run=11, Accuracy: 95.33 %\n"
          ]
        },
        {
          "output_type": "stream",
          "name": "stderr",
          "text": [
            "\n",
            "100%|███████████████████████████| 10/10 [00:00<00:00, 130.13it/s, accuracy=0.96]"
          ]
        },
        {
          "output_type": "stream",
          "name": "stdout",
          "text": [
            "n_shots=16, Run=11, Accuracy: 96.03 %\n"
          ]
        },
        {
          "output_type": "stream",
          "name": "stderr",
          "text": [
            "\n",
            "100%|██████████████████████████| 10/10 [00:00<00:00, 121.98it/s, accuracy=0.975]"
          ]
        },
        {
          "output_type": "stream",
          "name": "stdout",
          "text": [
            "n_shots=24, Run=11, Accuracy: 97.47 %\n"
          ]
        },
        {
          "output_type": "stream",
          "name": "stderr",
          "text": [
            "\n",
            "100%|██████████████████████████| 10/10 [00:00<00:00, 126.78it/s, accuracy=0.966]\n"
          ]
        },
        {
          "output_type": "stream",
          "name": "stdout",
          "text": [
            "n_shots=32, Run=11, Accuracy: 96.57 %\n"
          ]
        },
        {
          "output_type": "stream",
          "name": "stderr",
          "text": [
            "100%|██████████████████████████| 10/10 [00:00<00:00, 116.22it/s, accuracy=0.878]"
          ]
        },
        {
          "output_type": "stream",
          "name": "stdout",
          "text": [
            "n_shots=1, Run=12, Accuracy: 87.80 %\n"
          ]
        },
        {
          "output_type": "stream",
          "name": "stderr",
          "text": [
            "\n",
            "100%|██████████████████████████| 10/10 [00:00<00:00, 129.76it/s, accuracy=0.918]"
          ]
        },
        {
          "output_type": "stream",
          "name": "stdout",
          "text": [
            "n_shots=2, Run=12, Accuracy: 91.77 %\n"
          ]
        },
        {
          "output_type": "stream",
          "name": "stderr",
          "text": [
            "\n",
            "100%|██████████████████████████| 10/10 [00:00<00:00, 132.99it/s, accuracy=0.945]"
          ]
        },
        {
          "output_type": "stream",
          "name": "stdout",
          "text": [
            "n_shots=3, Run=12, Accuracy: 94.47 %\n"
          ]
        },
        {
          "output_type": "stream",
          "name": "stderr",
          "text": [
            "\n",
            "100%|██████████████████████████| 10/10 [00:00<00:00, 128.48it/s, accuracy=0.948]"
          ]
        },
        {
          "output_type": "stream",
          "name": "stdout",
          "text": [
            "n_shots=4, Run=12, Accuracy: 94.80 %\n"
          ]
        },
        {
          "output_type": "stream",
          "name": "stderr",
          "text": [
            "\n",
            "100%|██████████████████████████| 10/10 [00:00<00:00, 130.14it/s, accuracy=0.943]"
          ]
        },
        {
          "output_type": "stream",
          "name": "stdout",
          "text": [
            "n_shots=5, Run=12, Accuracy: 94.33 %\n"
          ]
        },
        {
          "output_type": "stream",
          "name": "stderr",
          "text": [
            "\n",
            "100%|██████████████████████████| 10/10 [00:00<00:00, 130.62it/s, accuracy=0.985]"
          ]
        },
        {
          "output_type": "stream",
          "name": "stdout",
          "text": [
            "n_shots=6, Run=12, Accuracy: 98.47 %\n"
          ]
        },
        {
          "output_type": "stream",
          "name": "stderr",
          "text": [
            "\n",
            "100%|██████████████████████████| 10/10 [00:00<00:00, 128.97it/s, accuracy=0.943]"
          ]
        },
        {
          "output_type": "stream",
          "name": "stdout",
          "text": [
            "n_shots=8, Run=12, Accuracy: 94.27 %\n"
          ]
        },
        {
          "output_type": "stream",
          "name": "stderr",
          "text": [
            "\n",
            "100%|██████████████████████████| 10/10 [00:00<00:00, 125.57it/s, accuracy=0.953]"
          ]
        },
        {
          "output_type": "stream",
          "name": "stdout",
          "text": [
            "n_shots=10, Run=12, Accuracy: 95.27 %\n"
          ]
        },
        {
          "output_type": "stream",
          "name": "stderr",
          "text": [
            "\n",
            "100%|██████████████████████████| 10/10 [00:00<00:00, 131.32it/s, accuracy=0.987]"
          ]
        },
        {
          "output_type": "stream",
          "name": "stdout",
          "text": [
            "n_shots=12, Run=12, Accuracy: 98.70 %\n"
          ]
        },
        {
          "output_type": "stream",
          "name": "stderr",
          "text": [
            "\n",
            "100%|██████████████████████████| 10/10 [00:00<00:00, 128.43it/s, accuracy=0.987]"
          ]
        },
        {
          "output_type": "stream",
          "name": "stdout",
          "text": [
            "n_shots=16, Run=12, Accuracy: 98.67 %\n"
          ]
        },
        {
          "output_type": "stream",
          "name": "stderr",
          "text": [
            "\n",
            "100%|██████████████████████████| 10/10 [00:00<00:00, 127.68it/s, accuracy=0.962]"
          ]
        },
        {
          "output_type": "stream",
          "name": "stdout",
          "text": [
            "n_shots=24, Run=12, Accuracy: 96.17 %\n"
          ]
        },
        {
          "output_type": "stream",
          "name": "stderr",
          "text": [
            "\n",
            "100%|██████████████████████████| 10/10 [00:00<00:00, 121.66it/s, accuracy=0.987]\n"
          ]
        },
        {
          "output_type": "stream",
          "name": "stdout",
          "text": [
            "n_shots=32, Run=12, Accuracy: 98.73 %\n"
          ]
        },
        {
          "output_type": "stream",
          "name": "stderr",
          "text": [
            "100%|██████████████████████████| 10/10 [00:00<00:00, 125.64it/s, accuracy=0.879]\n"
          ]
        },
        {
          "output_type": "stream",
          "name": "stdout",
          "text": [
            "n_shots=1, Run=13, Accuracy: 87.93 %\n"
          ]
        },
        {
          "output_type": "stream",
          "name": "stderr",
          "text": [
            "100%|██████████████████████████| 10/10 [00:00<00:00, 129.54it/s, accuracy=0.901]"
          ]
        },
        {
          "output_type": "stream",
          "name": "stdout",
          "text": [
            "n_shots=2, Run=13, Accuracy: 90.10 %\n"
          ]
        },
        {
          "output_type": "stream",
          "name": "stderr",
          "text": [
            "\n",
            "100%|██████████████████████████| 10/10 [00:00<00:00, 131.58it/s, accuracy=0.948]"
          ]
        },
        {
          "output_type": "stream",
          "name": "stdout",
          "text": [
            "n_shots=3, Run=13, Accuracy: 94.83 %\n"
          ]
        },
        {
          "output_type": "stream",
          "name": "stderr",
          "text": [
            "\n",
            "100%|██████████████████████████| 10/10 [00:00<00:00, 127.11it/s, accuracy=0.948]"
          ]
        },
        {
          "output_type": "stream",
          "name": "stdout",
          "text": [
            "n_shots=4, Run=13, Accuracy: 94.80 %\n"
          ]
        },
        {
          "output_type": "stream",
          "name": "stderr",
          "text": [
            "\n",
            "100%|██████████████████████████| 10/10 [00:00<00:00, 136.86it/s, accuracy=0.956]"
          ]
        },
        {
          "output_type": "stream",
          "name": "stdout",
          "text": [
            "n_shots=5, Run=13, Accuracy: 95.63 %\n"
          ]
        },
        {
          "output_type": "stream",
          "name": "stderr",
          "text": [
            "\n",
            "100%|██████████████████████████| 10/10 [00:00<00:00, 121.31it/s, accuracy=0.961]"
          ]
        },
        {
          "output_type": "stream",
          "name": "stdout",
          "text": [
            "n_shots=6, Run=13, Accuracy: 96.13 %\n"
          ]
        },
        {
          "output_type": "stream",
          "name": "stderr",
          "text": [
            "\n",
            "100%|██████████████████████████| 10/10 [00:00<00:00, 129.34it/s, accuracy=0.972]"
          ]
        },
        {
          "output_type": "stream",
          "name": "stdout",
          "text": [
            "n_shots=8, Run=13, Accuracy: 97.23 %\n"
          ]
        },
        {
          "output_type": "stream",
          "name": "stderr",
          "text": [
            "\n",
            "100%|██████████████████████████| 10/10 [00:00<00:00, 131.63it/s, accuracy=0.983]"
          ]
        },
        {
          "output_type": "stream",
          "name": "stdout",
          "text": [
            "n_shots=10, Run=13, Accuracy: 98.27 %\n"
          ]
        },
        {
          "output_type": "stream",
          "name": "stderr",
          "text": [
            "\n",
            "100%|███████████████████████████| 10/10 [00:00<00:00, 127.07it/s, accuracy=0.98]"
          ]
        },
        {
          "output_type": "stream",
          "name": "stdout",
          "text": [
            "n_shots=12, Run=13, Accuracy: 98.00 %\n"
          ]
        },
        {
          "output_type": "stream",
          "name": "stderr",
          "text": [
            "\n",
            "100%|██████████████████████████| 10/10 [00:00<00:00, 129.29it/s, accuracy=0.992]"
          ]
        },
        {
          "output_type": "stream",
          "name": "stdout",
          "text": [
            "n_shots=16, Run=13, Accuracy: 99.17 %\n"
          ]
        },
        {
          "output_type": "stream",
          "name": "stderr",
          "text": [
            "\n",
            "100%|██████████████████████████| 10/10 [00:00<00:00, 124.39it/s, accuracy=0.976]"
          ]
        },
        {
          "output_type": "stream",
          "name": "stdout",
          "text": [
            "n_shots=24, Run=13, Accuracy: 97.63 %\n"
          ]
        },
        {
          "output_type": "stream",
          "name": "stderr",
          "text": [
            "\n",
            "100%|██████████████████████████| 10/10 [00:00<00:00, 123.83it/s, accuracy=0.975]\n"
          ]
        },
        {
          "output_type": "stream",
          "name": "stdout",
          "text": [
            "n_shots=32, Run=13, Accuracy: 97.53 %\n"
          ]
        },
        {
          "output_type": "stream",
          "name": "stderr",
          "text": [
            "100%|██████████████████████████| 10/10 [00:00<00:00, 121.46it/s, accuracy=0.853]"
          ]
        },
        {
          "output_type": "stream",
          "name": "stdout",
          "text": [
            "n_shots=1, Run=14, Accuracy: 85.27 %\n"
          ]
        },
        {
          "output_type": "stream",
          "name": "stderr",
          "text": [
            "\n",
            "100%|██████████████████████████| 10/10 [00:00<00:00, 133.74it/s, accuracy=0.921]\n"
          ]
        },
        {
          "output_type": "stream",
          "name": "stdout",
          "text": [
            "n_shots=2, Run=14, Accuracy: 92.07 %\n"
          ]
        },
        {
          "output_type": "stream",
          "name": "stderr",
          "text": [
            "100%|██████████████████████████| 10/10 [00:00<00:00, 130.91it/s, accuracy=0.895]"
          ]
        },
        {
          "output_type": "stream",
          "name": "stdout",
          "text": [
            "n_shots=3, Run=14, Accuracy: 89.50 %\n"
          ]
        },
        {
          "output_type": "stream",
          "name": "stderr",
          "text": [
            "\n",
            "100%|██████████████████████████| 10/10 [00:00<00:00, 127.78it/s, accuracy=0.948]"
          ]
        },
        {
          "output_type": "stream",
          "name": "stdout",
          "text": [
            "n_shots=4, Run=14, Accuracy: 94.80 %\n"
          ]
        },
        {
          "output_type": "stream",
          "name": "stderr",
          "text": [
            "\n",
            "100%|██████████████████████████| 10/10 [00:00<00:00, 131.95it/s, accuracy=0.935]"
          ]
        },
        {
          "output_type": "stream",
          "name": "stdout",
          "text": [
            "n_shots=5, Run=14, Accuracy: 93.50 %\n"
          ]
        },
        {
          "output_type": "stream",
          "name": "stderr",
          "text": [
            "\n",
            "100%|██████████████████████████| 10/10 [00:00<00:00, 127.35it/s, accuracy=0.968]"
          ]
        },
        {
          "output_type": "stream",
          "name": "stdout",
          "text": [
            "n_shots=6, Run=14, Accuracy: 96.77 %\n"
          ]
        },
        {
          "output_type": "stream",
          "name": "stderr",
          "text": [
            "\n",
            "100%|██████████████████████████| 10/10 [00:00<00:00, 123.68it/s, accuracy=0.979]"
          ]
        },
        {
          "output_type": "stream",
          "name": "stdout",
          "text": [
            "n_shots=8, Run=14, Accuracy: 97.87 %\n"
          ]
        },
        {
          "output_type": "stream",
          "name": "stderr",
          "text": [
            "\n",
            "100%|███████████████████████████| 10/10 [00:00<00:00, 116.42it/s, accuracy=0.98]"
          ]
        },
        {
          "output_type": "stream",
          "name": "stdout",
          "text": [
            "n_shots=10, Run=14, Accuracy: 97.97 %\n"
          ]
        },
        {
          "output_type": "stream",
          "name": "stderr",
          "text": [
            "\n",
            "100%|███████████████████████████| 10/10 [00:00<00:00, 133.92it/s, accuracy=0.98]\n"
          ]
        },
        {
          "output_type": "stream",
          "name": "stdout",
          "text": [
            "n_shots=12, Run=14, Accuracy: 97.97 %\n"
          ]
        },
        {
          "output_type": "stream",
          "name": "stderr",
          "text": [
            "100%|██████████████████████████| 10/10 [00:00<00:00, 124.10it/s, accuracy=0.938]"
          ]
        },
        {
          "output_type": "stream",
          "name": "stdout",
          "text": [
            "n_shots=16, Run=14, Accuracy: 93.77 %\n"
          ]
        },
        {
          "output_type": "stream",
          "name": "stderr",
          "text": [
            "\n",
            "100%|███████████████████████████| 10/10 [00:00<00:00, 127.56it/s, accuracy=0.99]"
          ]
        },
        {
          "output_type": "stream",
          "name": "stdout",
          "text": [
            "n_shots=24, Run=14, Accuracy: 99.03 %\n"
          ]
        },
        {
          "output_type": "stream",
          "name": "stderr",
          "text": [
            "\n",
            "100%|██████████████████████████| 10/10 [00:00<00:00, 110.42it/s, accuracy=0.956]"
          ]
        },
        {
          "output_type": "stream",
          "name": "stdout",
          "text": [
            "n_shots=32, Run=14, Accuracy: 95.57 %\n"
          ]
        },
        {
          "output_type": "stream",
          "name": "stderr",
          "text": [
            "\n",
            "100%|██████████████████████████| 10/10 [00:00<00:00, 124.89it/s, accuracy=0.873]"
          ]
        },
        {
          "output_type": "stream",
          "name": "stdout",
          "text": [
            "n_shots=1, Run=15, Accuracy: 87.27 %\n"
          ]
        },
        {
          "output_type": "stream",
          "name": "stderr",
          "text": [
            "\n",
            "100%|██████████████████████████| 10/10 [00:00<00:00, 127.87it/s, accuracy=0.913]"
          ]
        },
        {
          "output_type": "stream",
          "name": "stdout",
          "text": [
            "n_shots=2, Run=15, Accuracy: 91.27 %\n"
          ]
        },
        {
          "output_type": "stream",
          "name": "stderr",
          "text": [
            "\n",
            "100%|██████████████████████████| 10/10 [00:00<00:00, 127.15it/s, accuracy=0.986]"
          ]
        },
        {
          "output_type": "stream",
          "name": "stdout",
          "text": [
            "n_shots=3, Run=15, Accuracy: 98.63 %\n"
          ]
        },
        {
          "output_type": "stream",
          "name": "stderr",
          "text": [
            "\n",
            "100%|██████████████████████████| 10/10 [00:00<00:00, 130.99it/s, accuracy=0.952]"
          ]
        },
        {
          "output_type": "stream",
          "name": "stdout",
          "text": [
            "n_shots=4, Run=15, Accuracy: 95.23 %\n"
          ]
        },
        {
          "output_type": "stream",
          "name": "stderr",
          "text": [
            "\n",
            "100%|███████████████████████████| 10/10 [00:00<00:00, 128.25it/s, accuracy=0.95]"
          ]
        },
        {
          "output_type": "stream",
          "name": "stdout",
          "text": [
            "n_shots=5, Run=15, Accuracy: 95.03 %\n"
          ]
        },
        {
          "output_type": "stream",
          "name": "stderr",
          "text": [
            "\n",
            "100%|██████████████████████████| 10/10 [00:00<00:00, 129.49it/s, accuracy=0.943]"
          ]
        },
        {
          "output_type": "stream",
          "name": "stdout",
          "text": [
            "n_shots=6, Run=15, Accuracy: 94.33 %\n"
          ]
        },
        {
          "output_type": "stream",
          "name": "stderr",
          "text": [
            "\n",
            "100%|███████████████████████████| 10/10 [00:00<00:00, 132.69it/s, accuracy=0.97]"
          ]
        },
        {
          "output_type": "stream",
          "name": "stdout",
          "text": [
            "n_shots=8, Run=15, Accuracy: 96.97 %\n"
          ]
        },
        {
          "output_type": "stream",
          "name": "stderr",
          "text": [
            "\n",
            "100%|██████████████████████████| 10/10 [00:00<00:00, 129.32it/s, accuracy=0.978]"
          ]
        },
        {
          "output_type": "stream",
          "name": "stdout",
          "text": [
            "n_shots=10, Run=15, Accuracy: 97.80 %\n"
          ]
        },
        {
          "output_type": "stream",
          "name": "stderr",
          "text": [
            "\n",
            "100%|██████████████████████████| 10/10 [00:00<00:00, 116.67it/s, accuracy=0.966]"
          ]
        },
        {
          "output_type": "stream",
          "name": "stdout",
          "text": [
            "n_shots=12, Run=15, Accuracy: 96.60 %\n"
          ]
        },
        {
          "output_type": "stream",
          "name": "stderr",
          "text": [
            "\n",
            "100%|██████████████████████████| 10/10 [00:00<00:00, 125.22it/s, accuracy=0.989]"
          ]
        },
        {
          "output_type": "stream",
          "name": "stdout",
          "text": [
            "n_shots=16, Run=15, Accuracy: 98.90 %\n"
          ]
        },
        {
          "output_type": "stream",
          "name": "stderr",
          "text": [
            "\n",
            "100%|██████████████████████████| 10/10 [00:00<00:00, 128.54it/s, accuracy=0.966]"
          ]
        },
        {
          "output_type": "stream",
          "name": "stdout",
          "text": [
            "n_shots=24, Run=15, Accuracy: 96.60 %\n"
          ]
        },
        {
          "output_type": "stream",
          "name": "stderr",
          "text": [
            "\n",
            "100%|██████████████████████████| 10/10 [00:00<00:00, 119.78it/s, accuracy=0.966]\n"
          ]
        },
        {
          "output_type": "stream",
          "name": "stdout",
          "text": [
            "n_shots=32, Run=15, Accuracy: 96.57 %\n"
          ]
        },
        {
          "output_type": "stream",
          "name": "stderr",
          "text": [
            "100%|██████████████████████████| 10/10 [00:00<00:00, 126.11it/s, accuracy=0.891]"
          ]
        },
        {
          "output_type": "stream",
          "name": "stdout",
          "text": [
            "n_shots=1, Run=16, Accuracy: 89.10 %\n"
          ]
        },
        {
          "output_type": "stream",
          "name": "stderr",
          "text": [
            "\n",
            "100%|███████████████████████████| 10/10 [00:00<00:00, 123.25it/s, accuracy=0.93]\n"
          ]
        },
        {
          "output_type": "stream",
          "name": "stdout",
          "text": [
            "n_shots=2, Run=16, Accuracy: 92.97 %\n"
          ]
        },
        {
          "output_type": "stream",
          "name": "stderr",
          "text": [
            "100%|██████████████████████████| 10/10 [00:00<00:00, 133.85it/s, accuracy=0.941]"
          ]
        },
        {
          "output_type": "stream",
          "name": "stdout",
          "text": [
            "n_shots=3, Run=16, Accuracy: 94.13 %\n"
          ]
        },
        {
          "output_type": "stream",
          "name": "stderr",
          "text": [
            "\n",
            "100%|██████████████████████████| 10/10 [00:00<00:00, 132.08it/s, accuracy=0.923]"
          ]
        },
        {
          "output_type": "stream",
          "name": "stdout",
          "text": [
            "n_shots=4, Run=16, Accuracy: 92.27 %\n"
          ]
        },
        {
          "output_type": "stream",
          "name": "stderr",
          "text": [
            "\n",
            "100%|██████████████████████████| 10/10 [00:00<00:00, 126.72it/s, accuracy=0.963]"
          ]
        },
        {
          "output_type": "stream",
          "name": "stdout",
          "text": [
            "n_shots=5, Run=16, Accuracy: 96.33 %\n"
          ]
        },
        {
          "output_type": "stream",
          "name": "stderr",
          "text": [
            "\n",
            "100%|██████████████████████████| 10/10 [00:00<00:00, 122.75it/s, accuracy=0.982]"
          ]
        },
        {
          "output_type": "stream",
          "name": "stdout",
          "text": [
            "n_shots=6, Run=16, Accuracy: 98.23 %\n"
          ]
        },
        {
          "output_type": "stream",
          "name": "stderr",
          "text": [
            "\n",
            "100%|██████████████████████████| 10/10 [00:00<00:00, 130.15it/s, accuracy=0.961]"
          ]
        },
        {
          "output_type": "stream",
          "name": "stdout",
          "text": [
            "n_shots=8, Run=16, Accuracy: 96.07 %\n"
          ]
        },
        {
          "output_type": "stream",
          "name": "stderr",
          "text": [
            "\n",
            "100%|██████████████████████████| 10/10 [00:00<00:00, 128.00it/s, accuracy=0.983]"
          ]
        },
        {
          "output_type": "stream",
          "name": "stdout",
          "text": [
            "n_shots=10, Run=16, Accuracy: 98.33 %\n"
          ]
        },
        {
          "output_type": "stream",
          "name": "stderr",
          "text": [
            "\n",
            "100%|██████████████████████████| 10/10 [00:00<00:00, 127.91it/s, accuracy=0.971]"
          ]
        },
        {
          "output_type": "stream",
          "name": "stdout",
          "text": [
            "n_shots=12, Run=16, Accuracy: 97.10 %\n"
          ]
        },
        {
          "output_type": "stream",
          "name": "stderr",
          "text": [
            "\n",
            "100%|██████████████████████████| 10/10 [00:00<00:00, 124.28it/s, accuracy=0.976]"
          ]
        },
        {
          "output_type": "stream",
          "name": "stdout",
          "text": [
            "n_shots=16, Run=16, Accuracy: 97.60 %\n"
          ]
        },
        {
          "output_type": "stream",
          "name": "stderr",
          "text": [
            "\n",
            "100%|██████████████████████████| 10/10 [00:00<00:00, 127.00it/s, accuracy=0.983]"
          ]
        },
        {
          "output_type": "stream",
          "name": "stdout",
          "text": [
            "n_shots=24, Run=16, Accuracy: 98.27 %\n"
          ]
        },
        {
          "output_type": "stream",
          "name": "stderr",
          "text": [
            "\n",
            "100%|██████████████████████████| 10/10 [00:00<00:00, 121.00it/s, accuracy=0.986]\n"
          ]
        },
        {
          "output_type": "stream",
          "name": "stdout",
          "text": [
            "n_shots=32, Run=16, Accuracy: 98.57 %\n"
          ]
        },
        {
          "output_type": "stream",
          "name": "stderr",
          "text": [
            "100%|██████████████████████████| 10/10 [00:00<00:00, 118.27it/s, accuracy=0.816]"
          ]
        },
        {
          "output_type": "stream",
          "name": "stdout",
          "text": [
            "n_shots=1, Run=17, Accuracy: 81.63 %\n"
          ]
        },
        {
          "output_type": "stream",
          "name": "stderr",
          "text": [
            "\n",
            "100%|██████████████████████████| 10/10 [00:00<00:00, 128.91it/s, accuracy=0.962]\n"
          ]
        },
        {
          "output_type": "stream",
          "name": "stdout",
          "text": [
            "n_shots=2, Run=17, Accuracy: 96.20 %\n"
          ]
        },
        {
          "output_type": "stream",
          "name": "stderr",
          "text": [
            "100%|██████████████████████████| 10/10 [00:00<00:00, 136.09it/s, accuracy=0.917]"
          ]
        },
        {
          "output_type": "stream",
          "name": "stdout",
          "text": [
            "n_shots=3, Run=17, Accuracy: 91.73 %\n"
          ]
        },
        {
          "output_type": "stream",
          "name": "stderr",
          "text": [
            "\n",
            "100%|██████████████████████████| 10/10 [00:00<00:00, 124.87it/s, accuracy=0.965]"
          ]
        },
        {
          "output_type": "stream",
          "name": "stdout",
          "text": [
            "n_shots=4, Run=17, Accuracy: 96.47 %\n"
          ]
        },
        {
          "output_type": "stream",
          "name": "stderr",
          "text": [
            "\n",
            "100%|██████████████████████████| 10/10 [00:00<00:00, 130.46it/s, accuracy=0.941]"
          ]
        },
        {
          "output_type": "stream",
          "name": "stdout",
          "text": [
            "n_shots=5, Run=17, Accuracy: 94.07 %\n"
          ]
        },
        {
          "output_type": "stream",
          "name": "stderr",
          "text": [
            "\n",
            "100%|██████████████████████████| 10/10 [00:00<00:00, 130.64it/s, accuracy=0.972]"
          ]
        },
        {
          "output_type": "stream",
          "name": "stdout",
          "text": [
            "n_shots=6, Run=17, Accuracy: 97.23 %\n"
          ]
        },
        {
          "output_type": "stream",
          "name": "stderr",
          "text": [
            "\n",
            "100%|██████████████████████████| 10/10 [00:00<00:00, 136.88it/s, accuracy=0.973]"
          ]
        },
        {
          "output_type": "stream",
          "name": "stdout",
          "text": [
            "n_shots=8, Run=17, Accuracy: 97.27 %\n"
          ]
        },
        {
          "output_type": "stream",
          "name": "stderr",
          "text": [
            "\n",
            "100%|██████████████████████████| 10/10 [00:00<00:00, 126.79it/s, accuracy=0.976]"
          ]
        },
        {
          "output_type": "stream",
          "name": "stdout",
          "text": [
            "n_shots=10, Run=17, Accuracy: 97.60 %\n"
          ]
        },
        {
          "output_type": "stream",
          "name": "stderr",
          "text": [
            "\n",
            "100%|██████████████████████████| 10/10 [00:00<00:00, 126.08it/s, accuracy=0.984]"
          ]
        },
        {
          "output_type": "stream",
          "name": "stdout",
          "text": [
            "n_shots=12, Run=17, Accuracy: 98.43 %\n"
          ]
        },
        {
          "output_type": "stream",
          "name": "stderr",
          "text": [
            "\n",
            "100%|██████████████████████████| 10/10 [00:00<00:00, 123.92it/s, accuracy=0.948]\n"
          ]
        },
        {
          "output_type": "stream",
          "name": "stdout",
          "text": [
            "n_shots=16, Run=17, Accuracy: 94.80 %\n"
          ]
        },
        {
          "output_type": "stream",
          "name": "stderr",
          "text": [
            "100%|██████████████████████████| 10/10 [00:00<00:00, 121.86it/s, accuracy=0.977]"
          ]
        },
        {
          "output_type": "stream",
          "name": "stdout",
          "text": [
            "n_shots=24, Run=17, Accuracy: 97.73 %\n"
          ]
        },
        {
          "output_type": "stream",
          "name": "stderr",
          "text": [
            "\n",
            "100%|██████████████████████████| 10/10 [00:00<00:00, 116.91it/s, accuracy=0.967]"
          ]
        },
        {
          "output_type": "stream",
          "name": "stdout",
          "text": [
            "n_shots=32, Run=17, Accuracy: 96.70 %\n"
          ]
        },
        {
          "output_type": "stream",
          "name": "stderr",
          "text": [
            "\n",
            "100%|██████████████████████████| 10/10 [00:00<00:00, 117.28it/s, accuracy=0.855]"
          ]
        },
        {
          "output_type": "stream",
          "name": "stdout",
          "text": [
            "n_shots=1, Run=18, Accuracy: 85.47 %\n"
          ]
        },
        {
          "output_type": "stream",
          "name": "stderr",
          "text": [
            "\n",
            "100%|██████████████████████████| 10/10 [00:00<00:00, 130.42it/s, accuracy=0.899]\n"
          ]
        },
        {
          "output_type": "stream",
          "name": "stdout",
          "text": [
            "n_shots=2, Run=18, Accuracy: 89.90 %\n"
          ]
        },
        {
          "output_type": "stream",
          "name": "stderr",
          "text": [
            "100%|██████████████████████████| 10/10 [00:00<00:00, 128.76it/s, accuracy=0.951]"
          ]
        },
        {
          "output_type": "stream",
          "name": "stdout",
          "text": [
            "n_shots=3, Run=18, Accuracy: 95.07 %\n"
          ]
        },
        {
          "output_type": "stream",
          "name": "stderr",
          "text": [
            "\n",
            "100%|██████████████████████████| 10/10 [00:00<00:00, 129.91it/s, accuracy=0.953]"
          ]
        },
        {
          "output_type": "stream",
          "name": "stdout",
          "text": [
            "n_shots=4, Run=18, Accuracy: 95.27 %\n"
          ]
        },
        {
          "output_type": "stream",
          "name": "stderr",
          "text": [
            "\n",
            "100%|██████████████████████████| 10/10 [00:00<00:00, 131.69it/s, accuracy=0.932]"
          ]
        },
        {
          "output_type": "stream",
          "name": "stdout",
          "text": [
            "n_shots=5, Run=18, Accuracy: 93.20 %\n"
          ]
        },
        {
          "output_type": "stream",
          "name": "stderr",
          "text": [
            "\n",
            "100%|██████████████████████████| 10/10 [00:00<00:00, 131.40it/s, accuracy=0.938]"
          ]
        },
        {
          "output_type": "stream",
          "name": "stdout",
          "text": [
            "n_shots=6, Run=18, Accuracy: 93.83 %\n"
          ]
        },
        {
          "output_type": "stream",
          "name": "stderr",
          "text": [
            "\n",
            "100%|██████████████████████████| 10/10 [00:00<00:00, 131.13it/s, accuracy=0.995]"
          ]
        },
        {
          "output_type": "stream",
          "name": "stdout",
          "text": [
            "n_shots=8, Run=18, Accuracy: 99.53 %\n"
          ]
        },
        {
          "output_type": "stream",
          "name": "stderr",
          "text": [
            "\n",
            "100%|███████████████████████████| 10/10 [00:00<00:00, 125.16it/s, accuracy=0.99]"
          ]
        },
        {
          "output_type": "stream",
          "name": "stdout",
          "text": [
            "n_shots=10, Run=18, Accuracy: 98.97 %\n"
          ]
        },
        {
          "output_type": "stream",
          "name": "stderr",
          "text": [
            "\n",
            "100%|██████████████████████████| 10/10 [00:00<00:00, 127.60it/s, accuracy=0.939]"
          ]
        },
        {
          "output_type": "stream",
          "name": "stdout",
          "text": [
            "n_shots=12, Run=18, Accuracy: 93.90 %\n"
          ]
        },
        {
          "output_type": "stream",
          "name": "stderr",
          "text": [
            "\n",
            "100%|██████████████████████████| 10/10 [00:00<00:00, 125.62it/s, accuracy=0.979]"
          ]
        },
        {
          "output_type": "stream",
          "name": "stdout",
          "text": [
            "n_shots=16, Run=18, Accuracy: 97.87 %\n"
          ]
        },
        {
          "output_type": "stream",
          "name": "stderr",
          "text": [
            "\n",
            "100%|██████████████████████████| 10/10 [00:00<00:00, 121.64it/s, accuracy=0.986]\n"
          ]
        },
        {
          "output_type": "stream",
          "name": "stdout",
          "text": [
            "n_shots=24, Run=18, Accuracy: 98.57 %\n"
          ]
        },
        {
          "output_type": "stream",
          "name": "stderr",
          "text": [
            "100%|██████████████████████████| 10/10 [00:00<00:00, 120.20it/s, accuracy=0.991]"
          ]
        },
        {
          "output_type": "stream",
          "name": "stdout",
          "text": [
            "n_shots=32, Run=18, Accuracy: 99.13 %\n"
          ]
        },
        {
          "output_type": "stream",
          "name": "stderr",
          "text": [
            "\n",
            "100%|██████████████████████████| 10/10 [00:00<00:00, 117.01it/s, accuracy=0.863]"
          ]
        },
        {
          "output_type": "stream",
          "name": "stdout",
          "text": [
            "n_shots=1, Run=19, Accuracy: 86.30 %\n"
          ]
        },
        {
          "output_type": "stream",
          "name": "stderr",
          "text": [
            "\n",
            "100%|██████████████████████████| 10/10 [00:00<00:00, 134.46it/s, accuracy=0.943]\n"
          ]
        },
        {
          "output_type": "stream",
          "name": "stdout",
          "text": [
            "n_shots=2, Run=19, Accuracy: 94.33 %\n"
          ]
        },
        {
          "output_type": "stream",
          "name": "stderr",
          "text": [
            "100%|██████████████████████████| 10/10 [00:00<00:00, 131.11it/s, accuracy=0.962]"
          ]
        },
        {
          "output_type": "stream",
          "name": "stdout",
          "text": [
            "n_shots=3, Run=19, Accuracy: 96.17 %\n"
          ]
        },
        {
          "output_type": "stream",
          "name": "stderr",
          "text": [
            "\n",
            "100%|██████████████████████████| 10/10 [00:00<00:00, 124.87it/s, accuracy=0.905]"
          ]
        },
        {
          "output_type": "stream",
          "name": "stdout",
          "text": [
            "n_shots=4, Run=19, Accuracy: 90.47 %\n"
          ]
        },
        {
          "output_type": "stream",
          "name": "stderr",
          "text": [
            "\n",
            "100%|██████████████████████████| 10/10 [00:00<00:00, 129.34it/s, accuracy=0.971]"
          ]
        },
        {
          "output_type": "stream",
          "name": "stdout",
          "text": [
            "n_shots=5, Run=19, Accuracy: 97.10 %\n"
          ]
        },
        {
          "output_type": "stream",
          "name": "stderr",
          "text": [
            "\n",
            "100%|██████████████████████████| 10/10 [00:00<00:00, 129.08it/s, accuracy=0.969]"
          ]
        },
        {
          "output_type": "stream",
          "name": "stdout",
          "text": [
            "n_shots=6, Run=19, Accuracy: 96.93 %\n"
          ]
        },
        {
          "output_type": "stream",
          "name": "stderr",
          "text": [
            "\n",
            "100%|██████████████████████████| 10/10 [00:00<00:00, 122.32it/s, accuracy=0.987]"
          ]
        },
        {
          "output_type": "stream",
          "name": "stdout",
          "text": [
            "n_shots=8, Run=19, Accuracy: 98.67 %\n"
          ]
        },
        {
          "output_type": "stream",
          "name": "stderr",
          "text": [
            "\n",
            "100%|██████████████████████████| 10/10 [00:00<00:00, 129.89it/s, accuracy=0.956]\n"
          ]
        },
        {
          "output_type": "stream",
          "name": "stdout",
          "text": [
            "n_shots=10, Run=19, Accuracy: 95.60 %\n"
          ]
        },
        {
          "output_type": "stream",
          "name": "stderr",
          "text": [
            "100%|██████████████████████████| 10/10 [00:00<00:00, 131.04it/s, accuracy=0.979]"
          ]
        },
        {
          "output_type": "stream",
          "name": "stdout",
          "text": [
            "n_shots=12, Run=19, Accuracy: 97.93 %\n"
          ]
        },
        {
          "output_type": "stream",
          "name": "stderr",
          "text": [
            "\n",
            "100%|██████████████████████████| 10/10 [00:00<00:00, 126.04it/s, accuracy=0.995]"
          ]
        },
        {
          "output_type": "stream",
          "name": "stdout",
          "text": [
            "n_shots=16, Run=19, Accuracy: 99.53 %\n"
          ]
        },
        {
          "output_type": "stream",
          "name": "stderr",
          "text": [
            "\n",
            "100%|██████████████████████████| 10/10 [00:00<00:00, 119.73it/s, accuracy=0.964]"
          ]
        },
        {
          "output_type": "stream",
          "name": "stdout",
          "text": [
            "n_shots=24, Run=19, Accuracy: 96.40 %\n"
          ]
        },
        {
          "output_type": "stream",
          "name": "stderr",
          "text": [
            "\n",
            "100%|██████████████████████████| 10/10 [00:00<00:00, 123.42it/s, accuracy=0.925]"
          ]
        },
        {
          "output_type": "stream",
          "name": "stdout",
          "text": [
            "n_shots=32, Run=19, Accuracy: 92.50 %\n"
          ]
        },
        {
          "output_type": "stream",
          "name": "stderr",
          "text": [
            "\n",
            "100%|███████████████████████████| 10/10 [00:00<00:00, 121.03it/s, accuracy=0.88]"
          ]
        },
        {
          "output_type": "stream",
          "name": "stdout",
          "text": [
            "n_shots=1, Run=20, Accuracy: 88.00 %\n"
          ]
        },
        {
          "output_type": "stream",
          "name": "stderr",
          "text": [
            "\n",
            "100%|██████████████████████████| 10/10 [00:00<00:00, 131.67it/s, accuracy=0.905]\n"
          ]
        },
        {
          "output_type": "stream",
          "name": "stdout",
          "text": [
            "n_shots=2, Run=20, Accuracy: 90.50 %\n"
          ]
        },
        {
          "output_type": "stream",
          "name": "stderr",
          "text": [
            "100%|██████████████████████████| 10/10 [00:00<00:00, 140.14it/s, accuracy=0.955]"
          ]
        },
        {
          "output_type": "stream",
          "name": "stdout",
          "text": [
            "n_shots=3, Run=20, Accuracy: 95.53 %\n"
          ]
        },
        {
          "output_type": "stream",
          "name": "stderr",
          "text": [
            "\n",
            "100%|██████████████████████████| 10/10 [00:00<00:00, 118.55it/s, accuracy=0.947]"
          ]
        },
        {
          "output_type": "stream",
          "name": "stdout",
          "text": [
            "n_shots=4, Run=20, Accuracy: 94.67 %\n"
          ]
        },
        {
          "output_type": "stream",
          "name": "stderr",
          "text": [
            "\n",
            "100%|███████████████████████████| 10/10 [00:00<00:00, 122.08it/s, accuracy=0.97]\n"
          ]
        },
        {
          "output_type": "stream",
          "name": "stdout",
          "text": [
            "n_shots=5, Run=20, Accuracy: 96.97 %\n"
          ]
        },
        {
          "output_type": "stream",
          "name": "stderr",
          "text": [
            "100%|███████████████████████████| 10/10 [00:00<00:00, 130.73it/s, accuracy=0.94]"
          ]
        },
        {
          "output_type": "stream",
          "name": "stdout",
          "text": [
            "n_shots=6, Run=20, Accuracy: 94.00 %\n"
          ]
        },
        {
          "output_type": "stream",
          "name": "stderr",
          "text": [
            "\n",
            "100%|██████████████████████████| 10/10 [00:00<00:00, 132.02it/s, accuracy=0.972]"
          ]
        },
        {
          "output_type": "stream",
          "name": "stdout",
          "text": [
            "n_shots=8, Run=20, Accuracy: 97.17 %\n"
          ]
        },
        {
          "output_type": "stream",
          "name": "stderr",
          "text": [
            "\n",
            "100%|██████████████████████████| 10/10 [00:00<00:00, 128.49it/s, accuracy=0.984]"
          ]
        },
        {
          "output_type": "stream",
          "name": "stdout",
          "text": [
            "n_shots=10, Run=20, Accuracy: 98.43 %\n"
          ]
        },
        {
          "output_type": "stream",
          "name": "stderr",
          "text": [
            "\n",
            "100%|██████████████████████████| 10/10 [00:00<00:00, 124.33it/s, accuracy=0.985]"
          ]
        },
        {
          "output_type": "stream",
          "name": "stdout",
          "text": [
            "n_shots=12, Run=20, Accuracy: 98.53 %\n"
          ]
        },
        {
          "output_type": "stream",
          "name": "stderr",
          "text": [
            "\n",
            "100%|██████████████████████████| 10/10 [00:00<00:00, 129.53it/s, accuracy=0.958]"
          ]
        },
        {
          "output_type": "stream",
          "name": "stdout",
          "text": [
            "n_shots=16, Run=20, Accuracy: 95.77 %\n"
          ]
        },
        {
          "output_type": "stream",
          "name": "stderr",
          "text": [
            "\n",
            "100%|██████████████████████████| 10/10 [00:00<00:00, 127.54it/s, accuracy=0.965]"
          ]
        },
        {
          "output_type": "stream",
          "name": "stdout",
          "text": [
            "n_shots=24, Run=20, Accuracy: 96.53 %\n"
          ]
        },
        {
          "output_type": "stream",
          "name": "stderr",
          "text": [
            "\n",
            "100%|██████████████████████████| 10/10 [00:00<00:00, 128.05it/s, accuracy=0.984]\n"
          ]
        },
        {
          "output_type": "stream",
          "name": "stdout",
          "text": [
            "n_shots=32, Run=20, Accuracy: 98.40 %\n"
          ]
        }
      ],
      "source": [
        "output_directory_n = Path(\"/home/rakib/models/paper_benchmarking_ssl_diverse_pathology/inference/nct0/moco/2\")\n",
        "\n",
        "data_to_test = Path(\"/home/rakib/data/CRC-VAL-HE-7K/\")\n",
        "\n",
        "testset = torchvision.datasets.ImageFolder(data_to_test, transform=transform)\n",
        "\n",
        "classes = testset.classes\n",
        "\n",
        "print(classes)\n",
        "\n",
        "dataloader = DataLoader(testset, batch_size=100, shuffle=False, drop_last=False)\n",
        "nct_emb_df = predict_embeddings(dataloader, model, device=device)\n",
        "nct_emb_dataset = FeaturesDataset.from_dataframe(nct_emb_df)\n",
        "nct_results_df = evaluate_few_shot_model(nct_emb_dataset, model, device=device, n_way=3)\n",
        "nct_results_df.sort_values([\"n_shots\", \"accuracy\"])\n",
        "\n",
        "mean_accuracies_nct = nct_results_df.groupby(\"n_shots\")[\"accuracy\"].mean().reset_index()\n",
        "mean_accuracies_nct.rename(columns={\"accuracy\": \"mean\"}, inplace=True)\n",
        "std_accuracies_nct = nct_results_df.groupby(\"n_shots\")[\"accuracy\"].std().reset_index()\n",
        "std_accuracies_nct.rename(columns={\"accuracy\": \"std\"}, inplace=True)\n",
        "# Merge the two DataFrames based on the 'n_shots' column\n",
        "merged_df_nct = pd.merge(mean_accuracies_nct, std_accuracies_nct, on=\"n_shots\")\n",
        "\n",
        "# Save the average accuracy information in a separate CSV file\n",
        "acc_csv_filename = \"3way_average_accuracy_nct_moco.csv\"\n",
        "merged_df_nct.to_csv(os.path.join(output_directory_n, acc_csv_filename), index=False)"
      ]
    },
    {
      "cell_type": "code",
      "execution_count": null,
      "metadata": {
        "colab": {
          "base_uri": "https://localhost:8080/"
        },
        "id": "PtdAAnAJKNBt",
        "outputId": "4701d664-b5b2-4925-82ca-faaf6cf26072"
      },
      "outputs": [
        {
          "output_type": "stream",
          "name": "stdout",
          "text": [
            "['Inflamed_STR', 'Invasive_TUM', 'Necrosis-not-InSitu', 'TUM_STR']\n"
          ]
        },
        {
          "output_type": "stream",
          "name": "stderr",
          "text": [
            "Predicting embeddings: 100%|█████████████████| 74/74 [00:38<00:00,  1.92batch/s]\n",
            "100%|███████████████████████████| 10/10 [00:00<00:00, 119.20it/s, accuracy=0.79]"
          ]
        },
        {
          "output_type": "stream",
          "name": "stdout",
          "text": [
            "n_shots=1, Run=1, Accuracy: 78.97 %\n"
          ]
        },
        {
          "output_type": "stream",
          "name": "stderr",
          "text": [
            "\n",
            "100%|██████████████████████████| 10/10 [00:00<00:00, 109.38it/s, accuracy=0.832]\n"
          ]
        },
        {
          "output_type": "stream",
          "name": "stdout",
          "text": [
            "n_shots=2, Run=1, Accuracy: 83.23 %\n"
          ]
        },
        {
          "output_type": "stream",
          "name": "stderr",
          "text": [
            "100%|██████████████████████████| 10/10 [00:00<00:00, 127.27it/s, accuracy=0.854]\n"
          ]
        },
        {
          "output_type": "stream",
          "name": "stdout",
          "text": [
            "n_shots=3, Run=1, Accuracy: 85.43 %\n"
          ]
        },
        {
          "output_type": "stream",
          "name": "stderr",
          "text": [
            "100%|██████████████████████████| 10/10 [00:00<00:00, 130.35it/s, accuracy=0.879]"
          ]
        },
        {
          "output_type": "stream",
          "name": "stdout",
          "text": [
            "n_shots=4, Run=1, Accuracy: 87.90 %\n"
          ]
        },
        {
          "output_type": "stream",
          "name": "stderr",
          "text": [
            "\n",
            "100%|██████████████████████████| 10/10 [00:00<00:00, 129.89it/s, accuracy=0.893]"
          ]
        },
        {
          "output_type": "stream",
          "name": "stdout",
          "text": [
            "n_shots=5, Run=1, Accuracy: 89.27 %\n"
          ]
        },
        {
          "output_type": "stream",
          "name": "stderr",
          "text": [
            "\n",
            "100%|██████████████████████████| 10/10 [00:00<00:00, 131.17it/s, accuracy=0.896]"
          ]
        },
        {
          "output_type": "stream",
          "name": "stdout",
          "text": [
            "n_shots=6, Run=1, Accuracy: 89.63 %\n"
          ]
        },
        {
          "output_type": "stream",
          "name": "stderr",
          "text": [
            "\n",
            "100%|██████████████████████████| 10/10 [00:00<00:00, 135.02it/s, accuracy=0.908]"
          ]
        },
        {
          "output_type": "stream",
          "name": "stdout",
          "text": [
            "n_shots=8, Run=1, Accuracy: 90.83 %\n"
          ]
        },
        {
          "output_type": "stream",
          "name": "stderr",
          "text": [
            "\n",
            "100%|██████████████████████████| 10/10 [00:00<00:00, 135.92it/s, accuracy=0.918]"
          ]
        },
        {
          "output_type": "stream",
          "name": "stdout",
          "text": [
            "n_shots=10, Run=1, Accuracy: 91.83 %\n"
          ]
        },
        {
          "output_type": "stream",
          "name": "stderr",
          "text": [
            "\n",
            "100%|████████████████████████████| 10/10 [00:00<00:00, 132.47it/s, accuracy=0.9]"
          ]
        },
        {
          "output_type": "stream",
          "name": "stdout",
          "text": [
            "n_shots=12, Run=1, Accuracy: 90.00 %\n"
          ]
        },
        {
          "output_type": "stream",
          "name": "stderr",
          "text": [
            "\n",
            "100%|██████████████████████████| 10/10 [00:00<00:00, 135.79it/s, accuracy=0.908]"
          ]
        },
        {
          "output_type": "stream",
          "name": "stdout",
          "text": [
            "n_shots=16, Run=1, Accuracy: 90.80 %\n"
          ]
        },
        {
          "output_type": "stream",
          "name": "stderr",
          "text": [
            "\n",
            "100%|██████████████████████████| 10/10 [00:00<00:00, 110.17it/s, accuracy=0.918]"
          ]
        },
        {
          "output_type": "stream",
          "name": "stdout",
          "text": [
            "n_shots=24, Run=1, Accuracy: 91.77 %\n"
          ]
        },
        {
          "output_type": "stream",
          "name": "stderr",
          "text": [
            "\n",
            "100%|██████████████████████████| 10/10 [00:00<00:00, 115.10it/s, accuracy=0.922]\n"
          ]
        },
        {
          "output_type": "stream",
          "name": "stdout",
          "text": [
            "n_shots=32, Run=1, Accuracy: 92.23 %\n"
          ]
        },
        {
          "output_type": "stream",
          "name": "stderr",
          "text": [
            "100%|███████████████████████████| 10/10 [00:00<00:00, 130.69it/s, accuracy=0.73]"
          ]
        },
        {
          "output_type": "stream",
          "name": "stdout",
          "text": [
            "n_shots=1, Run=2, Accuracy: 73.00 %\n"
          ]
        },
        {
          "output_type": "stream",
          "name": "stderr",
          "text": [
            "\n",
            "100%|██████████████████████████| 10/10 [00:00<00:00, 132.81it/s, accuracy=0.839]"
          ]
        },
        {
          "output_type": "stream",
          "name": "stdout",
          "text": [
            "n_shots=2, Run=2, Accuracy: 83.90 %\n"
          ]
        },
        {
          "output_type": "stream",
          "name": "stderr",
          "text": [
            "\n",
            "100%|██████████████████████████| 10/10 [00:00<00:00, 139.67it/s, accuracy=0.843]"
          ]
        },
        {
          "output_type": "stream",
          "name": "stdout",
          "text": [
            "n_shots=3, Run=2, Accuracy: 84.33 %\n"
          ]
        },
        {
          "output_type": "stream",
          "name": "stderr",
          "text": [
            "\n",
            "100%|██████████████████████████| 10/10 [00:00<00:00, 137.53it/s, accuracy=0.866]"
          ]
        },
        {
          "output_type": "stream",
          "name": "stdout",
          "text": [
            "n_shots=4, Run=2, Accuracy: 86.57 %\n"
          ]
        },
        {
          "output_type": "stream",
          "name": "stderr",
          "text": [
            "\n",
            "100%|██████████████████████████| 10/10 [00:00<00:00, 127.94it/s, accuracy=0.868]"
          ]
        },
        {
          "output_type": "stream",
          "name": "stdout",
          "text": [
            "n_shots=5, Run=2, Accuracy: 86.83 %\n"
          ]
        },
        {
          "output_type": "stream",
          "name": "stderr",
          "text": [
            "\n",
            "100%|██████████████████████████| 10/10 [00:00<00:00, 131.06it/s, accuracy=0.896]"
          ]
        },
        {
          "output_type": "stream",
          "name": "stdout",
          "text": [
            "n_shots=6, Run=2, Accuracy: 89.57 %\n"
          ]
        },
        {
          "output_type": "stream",
          "name": "stderr",
          "text": [
            "\n",
            "100%|██████████████████████████| 10/10 [00:00<00:00, 128.60it/s, accuracy=0.887]"
          ]
        },
        {
          "output_type": "stream",
          "name": "stdout",
          "text": [
            "n_shots=8, Run=2, Accuracy: 88.73 %\n"
          ]
        },
        {
          "output_type": "stream",
          "name": "stderr",
          "text": [
            "\n",
            "100%|██████████████████████████| 10/10 [00:00<00:00, 125.52it/s, accuracy=0.903]"
          ]
        },
        {
          "output_type": "stream",
          "name": "stdout",
          "text": [
            "n_shots=10, Run=2, Accuracy: 90.27 %\n"
          ]
        },
        {
          "output_type": "stream",
          "name": "stderr",
          "text": [
            "\n",
            "100%|██████████████████████████| 10/10 [00:00<00:00, 127.59it/s, accuracy=0.903]"
          ]
        },
        {
          "output_type": "stream",
          "name": "stdout",
          "text": [
            "n_shots=12, Run=2, Accuracy: 90.33 %\n"
          ]
        },
        {
          "output_type": "stream",
          "name": "stderr",
          "text": [
            "\n",
            "100%|██████████████████████████| 10/10 [00:00<00:00, 130.48it/s, accuracy=0.913]"
          ]
        },
        {
          "output_type": "stream",
          "name": "stdout",
          "text": [
            "n_shots=16, Run=2, Accuracy: 91.27 %\n"
          ]
        },
        {
          "output_type": "stream",
          "name": "stderr",
          "text": [
            "\n",
            "100%|██████████████████████████| 10/10 [00:00<00:00, 126.76it/s, accuracy=0.916]"
          ]
        },
        {
          "output_type": "stream",
          "name": "stdout",
          "text": [
            "n_shots=24, Run=2, Accuracy: 91.60 %\n"
          ]
        },
        {
          "output_type": "stream",
          "name": "stderr",
          "text": [
            "\n",
            "100%|██████████████████████████| 10/10 [00:00<00:00, 127.72it/s, accuracy=0.921]"
          ]
        },
        {
          "output_type": "stream",
          "name": "stdout",
          "text": [
            "n_shots=32, Run=2, Accuracy: 92.13 %\n"
          ]
        },
        {
          "output_type": "stream",
          "name": "stderr",
          "text": [
            "\n",
            "100%|██████████████████████████| 10/10 [00:00<00:00, 129.40it/s, accuracy=0.676]"
          ]
        },
        {
          "output_type": "stream",
          "name": "stdout",
          "text": [
            "n_shots=1, Run=3, Accuracy: 67.63 %\n"
          ]
        },
        {
          "output_type": "stream",
          "name": "stderr",
          "text": [
            "\n",
            "100%|██████████████████████████| 10/10 [00:00<00:00, 137.69it/s, accuracy=0.793]"
          ]
        },
        {
          "output_type": "stream",
          "name": "stdout",
          "text": [
            "n_shots=2, Run=3, Accuracy: 79.27 %\n"
          ]
        },
        {
          "output_type": "stream",
          "name": "stderr",
          "text": [
            "\n",
            "100%|██████████████████████████| 10/10 [00:00<00:00, 137.31it/s, accuracy=0.851]"
          ]
        },
        {
          "output_type": "stream",
          "name": "stdout",
          "text": [
            "n_shots=3, Run=3, Accuracy: 85.10 %\n"
          ]
        },
        {
          "output_type": "stream",
          "name": "stderr",
          "text": [
            "\n",
            "100%|██████████████████████████| 10/10 [00:00<00:00, 131.80it/s, accuracy=0.864]"
          ]
        },
        {
          "output_type": "stream",
          "name": "stdout",
          "text": [
            "n_shots=4, Run=3, Accuracy: 86.40 %\n"
          ]
        },
        {
          "output_type": "stream",
          "name": "stderr",
          "text": [
            "\n",
            "100%|██████████████████████████| 10/10 [00:00<00:00, 134.00it/s, accuracy=0.886]"
          ]
        },
        {
          "output_type": "stream",
          "name": "stdout",
          "text": [
            "n_shots=5, Run=3, Accuracy: 88.60 %\n"
          ]
        },
        {
          "output_type": "stream",
          "name": "stderr",
          "text": [
            "\n",
            "100%|██████████████████████████| 10/10 [00:00<00:00, 120.70it/s, accuracy=0.908]\n"
          ]
        },
        {
          "output_type": "stream",
          "name": "stdout",
          "text": [
            "n_shots=6, Run=3, Accuracy: 90.83 %\n"
          ]
        },
        {
          "output_type": "stream",
          "name": "stderr",
          "text": [
            "100%|██████████████████████████| 10/10 [00:00<00:00, 133.77it/s, accuracy=0.885]\n"
          ]
        },
        {
          "output_type": "stream",
          "name": "stdout",
          "text": [
            "n_shots=8, Run=3, Accuracy: 88.47 %\n"
          ]
        },
        {
          "output_type": "stream",
          "name": "stderr",
          "text": [
            "100%|██████████████████████████| 10/10 [00:00<00:00, 136.52it/s, accuracy=0.915]"
          ]
        },
        {
          "output_type": "stream",
          "name": "stdout",
          "text": [
            "n_shots=10, Run=3, Accuracy: 91.53 %\n"
          ]
        },
        {
          "output_type": "stream",
          "name": "stderr",
          "text": [
            "\n",
            "100%|██████████████████████████| 10/10 [00:00<00:00, 135.40it/s, accuracy=0.901]"
          ]
        },
        {
          "output_type": "stream",
          "name": "stdout",
          "text": [
            "n_shots=12, Run=3, Accuracy: 90.07 %\n"
          ]
        },
        {
          "output_type": "stream",
          "name": "stderr",
          "text": [
            "\n",
            "100%|███████████████████████████| 10/10 [00:00<00:00, 124.72it/s, accuracy=0.93]"
          ]
        },
        {
          "output_type": "stream",
          "name": "stdout",
          "text": [
            "n_shots=16, Run=3, Accuracy: 92.97 %\n"
          ]
        },
        {
          "output_type": "stream",
          "name": "stderr",
          "text": [
            "\n",
            "100%|██████████████████████████| 10/10 [00:00<00:00, 128.22it/s, accuracy=0.915]"
          ]
        },
        {
          "output_type": "stream",
          "name": "stdout",
          "text": [
            "n_shots=24, Run=3, Accuracy: 91.53 %\n"
          ]
        },
        {
          "output_type": "stream",
          "name": "stderr",
          "text": [
            "\n",
            "100%|██████████████████████████| 10/10 [00:00<00:00, 121.89it/s, accuracy=0.929]\n"
          ]
        },
        {
          "output_type": "stream",
          "name": "stdout",
          "text": [
            "n_shots=32, Run=3, Accuracy: 92.87 %\n"
          ]
        },
        {
          "output_type": "stream",
          "name": "stderr",
          "text": [
            "100%|██████████████████████████| 10/10 [00:00<00:00, 131.29it/s, accuracy=0.752]"
          ]
        },
        {
          "output_type": "stream",
          "name": "stdout",
          "text": [
            "n_shots=1, Run=4, Accuracy: 75.23 %\n"
          ]
        },
        {
          "output_type": "stream",
          "name": "stderr",
          "text": [
            "\n",
            "100%|███████████████████████████| 10/10 [00:00<00:00, 135.90it/s, accuracy=0.81]"
          ]
        },
        {
          "output_type": "stream",
          "name": "stdout",
          "text": [
            "n_shots=2, Run=4, Accuracy: 80.97 %\n"
          ]
        },
        {
          "output_type": "stream",
          "name": "stderr",
          "text": [
            "\n",
            "100%|██████████████████████████| 10/10 [00:00<00:00, 137.54it/s, accuracy=0.857]"
          ]
        },
        {
          "output_type": "stream",
          "name": "stdout",
          "text": [
            "n_shots=3, Run=4, Accuracy: 85.73 %\n"
          ]
        },
        {
          "output_type": "stream",
          "name": "stderr",
          "text": [
            "\n",
            "100%|██████████████████████████| 10/10 [00:00<00:00, 136.02it/s, accuracy=0.843]"
          ]
        },
        {
          "output_type": "stream",
          "name": "stdout",
          "text": [
            "n_shots=4, Run=4, Accuracy: 84.27 %\n"
          ]
        },
        {
          "output_type": "stream",
          "name": "stderr",
          "text": [
            "\n",
            "100%|██████████████████████████| 10/10 [00:00<00:00, 129.84it/s, accuracy=0.884]"
          ]
        },
        {
          "output_type": "stream",
          "name": "stdout",
          "text": [
            "n_shots=5, Run=4, Accuracy: 88.40 %\n"
          ]
        },
        {
          "output_type": "stream",
          "name": "stderr",
          "text": [
            "\n",
            "100%|██████████████████████████| 10/10 [00:00<00:00, 135.23it/s, accuracy=0.882]"
          ]
        },
        {
          "output_type": "stream",
          "name": "stdout",
          "text": [
            "n_shots=6, Run=4, Accuracy: 88.20 %\n"
          ]
        },
        {
          "output_type": "stream",
          "name": "stderr",
          "text": [
            "\n",
            "100%|██████████████████████████| 10/10 [00:00<00:00, 137.64it/s, accuracy=0.892]"
          ]
        },
        {
          "output_type": "stream",
          "name": "stdout",
          "text": [
            "n_shots=8, Run=4, Accuracy: 89.23 %\n"
          ]
        },
        {
          "output_type": "stream",
          "name": "stderr",
          "text": [
            "\n",
            "100%|██████████████████████████| 10/10 [00:00<00:00, 127.28it/s, accuracy=0.898]"
          ]
        },
        {
          "output_type": "stream",
          "name": "stdout",
          "text": [
            "n_shots=10, Run=4, Accuracy: 89.83 %\n"
          ]
        },
        {
          "output_type": "stream",
          "name": "stderr",
          "text": [
            "\n",
            "100%|██████████████████████████| 10/10 [00:00<00:00, 133.67it/s, accuracy=0.912]"
          ]
        },
        {
          "output_type": "stream",
          "name": "stdout",
          "text": [
            "n_shots=12, Run=4, Accuracy: 91.17 %\n"
          ]
        },
        {
          "output_type": "stream",
          "name": "stderr",
          "text": [
            "\n",
            "100%|██████████████████████████| 10/10 [00:00<00:00, 132.33it/s, accuracy=0.904]"
          ]
        },
        {
          "output_type": "stream",
          "name": "stdout",
          "text": [
            "n_shots=16, Run=4, Accuracy: 90.40 %\n"
          ]
        },
        {
          "output_type": "stream",
          "name": "stderr",
          "text": [
            "\n",
            "100%|██████████████████████████| 10/10 [00:00<00:00, 125.02it/s, accuracy=0.897]"
          ]
        },
        {
          "output_type": "stream",
          "name": "stdout",
          "text": [
            "n_shots=24, Run=4, Accuracy: 89.73 %\n"
          ]
        },
        {
          "output_type": "stream",
          "name": "stderr",
          "text": [
            "\n",
            "100%|██████████████████████████| 10/10 [00:00<00:00, 132.72it/s, accuracy=0.921]"
          ]
        },
        {
          "output_type": "stream",
          "name": "stdout",
          "text": [
            "n_shots=32, Run=4, Accuracy: 92.13 %\n"
          ]
        },
        {
          "output_type": "stream",
          "name": "stderr",
          "text": [
            "\n",
            "100%|██████████████████████████| 10/10 [00:00<00:00, 129.74it/s, accuracy=0.765]"
          ]
        },
        {
          "output_type": "stream",
          "name": "stdout",
          "text": [
            "n_shots=1, Run=5, Accuracy: 76.50 %\n"
          ]
        },
        {
          "output_type": "stream",
          "name": "stderr",
          "text": [
            "\n",
            "100%|███████████████████████████| 10/10 [00:00<00:00, 136.98it/s, accuracy=0.79]"
          ]
        },
        {
          "output_type": "stream",
          "name": "stdout",
          "text": [
            "n_shots=2, Run=5, Accuracy: 78.97 %\n"
          ]
        },
        {
          "output_type": "stream",
          "name": "stderr",
          "text": [
            "\n",
            "100%|██████████████████████████| 10/10 [00:00<00:00, 136.18it/s, accuracy=0.885]"
          ]
        },
        {
          "output_type": "stream",
          "name": "stdout",
          "text": [
            "n_shots=3, Run=5, Accuracy: 88.47 %\n"
          ]
        },
        {
          "output_type": "stream",
          "name": "stderr",
          "text": [
            "\n",
            "100%|██████████████████████████| 10/10 [00:00<00:00, 131.42it/s, accuracy=0.868]"
          ]
        },
        {
          "output_type": "stream",
          "name": "stdout",
          "text": [
            "n_shots=4, Run=5, Accuracy: 86.80 %\n"
          ]
        },
        {
          "output_type": "stream",
          "name": "stderr",
          "text": [
            "\n",
            "100%|██████████████████████████| 10/10 [00:00<00:00, 128.24it/s, accuracy=0.868]"
          ]
        },
        {
          "output_type": "stream",
          "name": "stdout",
          "text": [
            "n_shots=5, Run=5, Accuracy: 86.83 %\n"
          ]
        },
        {
          "output_type": "stream",
          "name": "stderr",
          "text": [
            "\n",
            "100%|██████████████████████████| 10/10 [00:00<00:00, 131.56it/s, accuracy=0.865]"
          ]
        },
        {
          "output_type": "stream",
          "name": "stdout",
          "text": [
            "n_shots=6, Run=5, Accuracy: 86.53 %\n"
          ]
        },
        {
          "output_type": "stream",
          "name": "stderr",
          "text": [
            "\n",
            "100%|████████████████████████████| 10/10 [00:00<00:00, 129.15it/s, accuracy=0.9]"
          ]
        },
        {
          "output_type": "stream",
          "name": "stdout",
          "text": [
            "n_shots=8, Run=5, Accuracy: 90.03 %\n"
          ]
        },
        {
          "output_type": "stream",
          "name": "stderr",
          "text": [
            "\n",
            "100%|██████████████████████████| 10/10 [00:00<00:00, 118.98it/s, accuracy=0.906]"
          ]
        },
        {
          "output_type": "stream",
          "name": "stdout",
          "text": [
            "n_shots=10, Run=5, Accuracy: 90.63 %\n"
          ]
        },
        {
          "output_type": "stream",
          "name": "stderr",
          "text": [
            "\n",
            "100%|███████████████████████████| 10/10 [00:00<00:00, 127.94it/s, accuracy=0.91]"
          ]
        },
        {
          "output_type": "stream",
          "name": "stdout",
          "text": [
            "n_shots=12, Run=5, Accuracy: 91.00 %\n"
          ]
        },
        {
          "output_type": "stream",
          "name": "stderr",
          "text": [
            "\n",
            "100%|██████████████████████████| 10/10 [00:00<00:00, 127.51it/s, accuracy=0.926]"
          ]
        },
        {
          "output_type": "stream",
          "name": "stdout",
          "text": [
            "n_shots=16, Run=5, Accuracy: 92.57 %\n"
          ]
        },
        {
          "output_type": "stream",
          "name": "stderr",
          "text": [
            "\n",
            "100%|██████████████████████████| 10/10 [00:00<00:00, 129.05it/s, accuracy=0.905]"
          ]
        },
        {
          "output_type": "stream",
          "name": "stdout",
          "text": [
            "n_shots=24, Run=5, Accuracy: 90.50 %\n"
          ]
        },
        {
          "output_type": "stream",
          "name": "stderr",
          "text": [
            "\n",
            "100%|██████████████████████████| 10/10 [00:00<00:00, 124.78it/s, accuracy=0.908]"
          ]
        },
        {
          "output_type": "stream",
          "name": "stdout",
          "text": [
            "n_shots=32, Run=5, Accuracy: 90.83 %\n"
          ]
        },
        {
          "output_type": "stream",
          "name": "stderr",
          "text": [
            "\n",
            "100%|██████████████████████████| 10/10 [00:00<00:00, 124.53it/s, accuracy=0.697]\n"
          ]
        },
        {
          "output_type": "stream",
          "name": "stdout",
          "text": [
            "n_shots=1, Run=6, Accuracy: 69.67 %\n"
          ]
        },
        {
          "output_type": "stream",
          "name": "stderr",
          "text": [
            "100%|██████████████████████████| 10/10 [00:00<00:00, 133.07it/s, accuracy=0.834]"
          ]
        },
        {
          "output_type": "stream",
          "name": "stdout",
          "text": [
            "n_shots=2, Run=6, Accuracy: 83.43 %\n"
          ]
        },
        {
          "output_type": "stream",
          "name": "stderr",
          "text": [
            "\n",
            "100%|██████████████████████████| 10/10 [00:00<00:00, 131.19it/s, accuracy=0.832]"
          ]
        },
        {
          "output_type": "stream",
          "name": "stdout",
          "text": [
            "n_shots=3, Run=6, Accuracy: 83.17 %\n"
          ]
        },
        {
          "output_type": "stream",
          "name": "stderr",
          "text": [
            "\n",
            "100%|██████████████████████████| 10/10 [00:00<00:00, 139.55it/s, accuracy=0.875]"
          ]
        },
        {
          "output_type": "stream",
          "name": "stdout",
          "text": [
            "n_shots=4, Run=6, Accuracy: 87.53 %\n"
          ]
        },
        {
          "output_type": "stream",
          "name": "stderr",
          "text": [
            "\n",
            "100%|██████████████████████████| 10/10 [00:00<00:00, 135.13it/s, accuracy=0.881]"
          ]
        },
        {
          "output_type": "stream",
          "name": "stdout",
          "text": [
            "n_shots=5, Run=6, Accuracy: 88.13 %\n"
          ]
        },
        {
          "output_type": "stream",
          "name": "stderr",
          "text": [
            "\n",
            "100%|██████████████████████████| 10/10 [00:00<00:00, 135.11it/s, accuracy=0.887]"
          ]
        },
        {
          "output_type": "stream",
          "name": "stdout",
          "text": [
            "n_shots=6, Run=6, Accuracy: 88.70 %\n"
          ]
        },
        {
          "output_type": "stream",
          "name": "stderr",
          "text": [
            "\n",
            "100%|██████████████████████████| 10/10 [00:00<00:00, 131.40it/s, accuracy=0.899]"
          ]
        },
        {
          "output_type": "stream",
          "name": "stdout",
          "text": [
            "n_shots=8, Run=6, Accuracy: 89.90 %\n"
          ]
        },
        {
          "output_type": "stream",
          "name": "stderr",
          "text": [
            "\n",
            "100%|██████████████████████████| 10/10 [00:00<00:00, 133.82it/s, accuracy=0.901]"
          ]
        },
        {
          "output_type": "stream",
          "name": "stdout",
          "text": [
            "n_shots=10, Run=6, Accuracy: 90.10 %\n"
          ]
        },
        {
          "output_type": "stream",
          "name": "stderr",
          "text": [
            "\n",
            "100%|██████████████████████████| 10/10 [00:00<00:00, 128.13it/s, accuracy=0.916]"
          ]
        },
        {
          "output_type": "stream",
          "name": "stdout",
          "text": [
            "n_shots=12, Run=6, Accuracy: 91.57 %\n"
          ]
        },
        {
          "output_type": "stream",
          "name": "stderr",
          "text": [
            "\n",
            "100%|██████████████████████████| 10/10 [00:00<00:00, 126.49it/s, accuracy=0.909]"
          ]
        },
        {
          "output_type": "stream",
          "name": "stdout",
          "text": [
            "n_shots=16, Run=6, Accuracy: 90.90 %\n"
          ]
        },
        {
          "output_type": "stream",
          "name": "stderr",
          "text": [
            "\n",
            "100%|██████████████████████████| 10/10 [00:00<00:00, 128.65it/s, accuracy=0.935]"
          ]
        },
        {
          "output_type": "stream",
          "name": "stdout",
          "text": [
            "n_shots=24, Run=6, Accuracy: 93.47 %\n"
          ]
        },
        {
          "output_type": "stream",
          "name": "stderr",
          "text": [
            "\n",
            "100%|██████████████████████████| 10/10 [00:00<00:00, 129.00it/s, accuracy=0.917]"
          ]
        },
        {
          "output_type": "stream",
          "name": "stdout",
          "text": [
            "n_shots=32, Run=6, Accuracy: 91.67 %\n"
          ]
        },
        {
          "output_type": "stream",
          "name": "stderr",
          "text": [
            "\n",
            "100%|██████████████████████████| 10/10 [00:00<00:00, 125.23it/s, accuracy=0.734]"
          ]
        },
        {
          "output_type": "stream",
          "name": "stdout",
          "text": [
            "n_shots=1, Run=7, Accuracy: 73.43 %\n"
          ]
        },
        {
          "output_type": "stream",
          "name": "stderr",
          "text": [
            "\n",
            "100%|██████████████████████████| 10/10 [00:00<00:00, 136.65it/s, accuracy=0.812]"
          ]
        },
        {
          "output_type": "stream",
          "name": "stdout",
          "text": [
            "n_shots=2, Run=7, Accuracy: 81.20 %\n"
          ]
        },
        {
          "output_type": "stream",
          "name": "stderr",
          "text": [
            "\n",
            "100%|██████████████████████████| 10/10 [00:00<00:00, 130.52it/s, accuracy=0.835]"
          ]
        },
        {
          "output_type": "stream",
          "name": "stdout",
          "text": [
            "n_shots=3, Run=7, Accuracy: 83.50 %\n"
          ]
        },
        {
          "output_type": "stream",
          "name": "stderr",
          "text": [
            "\n",
            "100%|██████████████████████████| 10/10 [00:00<00:00, 138.22it/s, accuracy=0.873]"
          ]
        },
        {
          "output_type": "stream",
          "name": "stdout",
          "text": [
            "n_shots=4, Run=7, Accuracy: 87.27 %\n"
          ]
        },
        {
          "output_type": "stream",
          "name": "stderr",
          "text": [
            "\n",
            "100%|██████████████████████████| 10/10 [00:00<00:00, 128.57it/s, accuracy=0.899]"
          ]
        },
        {
          "output_type": "stream",
          "name": "stdout",
          "text": [
            "n_shots=5, Run=7, Accuracy: 89.87 %\n"
          ]
        },
        {
          "output_type": "stream",
          "name": "stderr",
          "text": [
            "\n",
            "100%|██████████████████████████| 10/10 [00:00<00:00, 137.95it/s, accuracy=0.873]"
          ]
        },
        {
          "output_type": "stream",
          "name": "stdout",
          "text": [
            "n_shots=6, Run=7, Accuracy: 87.27 %\n"
          ]
        },
        {
          "output_type": "stream",
          "name": "stderr",
          "text": [
            "\n",
            "100%|██████████████████████████| 10/10 [00:00<00:00, 128.52it/s, accuracy=0.912]"
          ]
        },
        {
          "output_type": "stream",
          "name": "stdout",
          "text": [
            "n_shots=8, Run=7, Accuracy: 91.17 %\n"
          ]
        },
        {
          "output_type": "stream",
          "name": "stderr",
          "text": [
            "\n",
            "100%|██████████████████████████| 10/10 [00:00<00:00, 138.62it/s, accuracy=0.888]"
          ]
        },
        {
          "output_type": "stream",
          "name": "stdout",
          "text": [
            "n_shots=10, Run=7, Accuracy: 88.77 %\n"
          ]
        },
        {
          "output_type": "stream",
          "name": "stderr",
          "text": [
            "\n",
            "100%|██████████████████████████| 10/10 [00:00<00:00, 129.64it/s, accuracy=0.917]"
          ]
        },
        {
          "output_type": "stream",
          "name": "stdout",
          "text": [
            "n_shots=12, Run=7, Accuracy: 91.73 %\n"
          ]
        },
        {
          "output_type": "stream",
          "name": "stderr",
          "text": [
            "\n",
            "100%|██████████████████████████| 10/10 [00:00<00:00, 127.21it/s, accuracy=0.912]"
          ]
        },
        {
          "output_type": "stream",
          "name": "stdout",
          "text": [
            "n_shots=16, Run=7, Accuracy: 91.17 %\n"
          ]
        },
        {
          "output_type": "stream",
          "name": "stderr",
          "text": [
            "\n",
            "100%|██████████████████████████| 10/10 [00:00<00:00, 120.71it/s, accuracy=0.914]"
          ]
        },
        {
          "output_type": "stream",
          "name": "stdout",
          "text": [
            "n_shots=24, Run=7, Accuracy: 91.37 %\n"
          ]
        },
        {
          "output_type": "stream",
          "name": "stderr",
          "text": [
            "\n",
            "100%|██████████████████████████| 10/10 [00:00<00:00, 129.25it/s, accuracy=0.905]\n"
          ]
        },
        {
          "output_type": "stream",
          "name": "stdout",
          "text": [
            "n_shots=32, Run=7, Accuracy: 90.47 %\n"
          ]
        },
        {
          "output_type": "stream",
          "name": "stderr",
          "text": [
            "100%|██████████████████████████| 10/10 [00:00<00:00, 128.94it/s, accuracy=0.697]"
          ]
        },
        {
          "output_type": "stream",
          "name": "stdout",
          "text": [
            "n_shots=1, Run=8, Accuracy: 69.73 %\n"
          ]
        },
        {
          "output_type": "stream",
          "name": "stderr",
          "text": [
            "\n",
            "100%|██████████████████████████| 10/10 [00:00<00:00, 116.45it/s, accuracy=0.812]"
          ]
        },
        {
          "output_type": "stream",
          "name": "stdout",
          "text": [
            "n_shots=2, Run=8, Accuracy: 81.20 %\n"
          ]
        },
        {
          "output_type": "stream",
          "name": "stderr",
          "text": [
            "\n",
            "100%|██████████████████████████| 10/10 [00:00<00:00, 134.07it/s, accuracy=0.879]\n"
          ]
        },
        {
          "output_type": "stream",
          "name": "stdout",
          "text": [
            "n_shots=3, Run=8, Accuracy: 87.90 %\n"
          ]
        },
        {
          "output_type": "stream",
          "name": "stderr",
          "text": [
            "100%|██████████████████████████| 10/10 [00:00<00:00, 136.05it/s, accuracy=0.884]"
          ]
        },
        {
          "output_type": "stream",
          "name": "stdout",
          "text": [
            "n_shots=4, Run=8, Accuracy: 88.37 %\n"
          ]
        },
        {
          "output_type": "stream",
          "name": "stderr",
          "text": [
            "\n",
            "100%|██████████████████████████| 10/10 [00:00<00:00, 135.99it/s, accuracy=0.909]"
          ]
        },
        {
          "output_type": "stream",
          "name": "stdout",
          "text": [
            "n_shots=5, Run=8, Accuracy: 90.93 %\n"
          ]
        },
        {
          "output_type": "stream",
          "name": "stderr",
          "text": [
            "\n",
            "100%|██████████████████████████| 10/10 [00:00<00:00, 130.97it/s, accuracy=0.871]"
          ]
        },
        {
          "output_type": "stream",
          "name": "stdout",
          "text": [
            "n_shots=6, Run=8, Accuracy: 87.10 %\n"
          ]
        },
        {
          "output_type": "stream",
          "name": "stderr",
          "text": [
            "\n",
            "100%|██████████████████████████| 10/10 [00:00<00:00, 127.31it/s, accuracy=0.885]"
          ]
        },
        {
          "output_type": "stream",
          "name": "stdout",
          "text": [
            "n_shots=8, Run=8, Accuracy: 88.50 %\n"
          ]
        },
        {
          "output_type": "stream",
          "name": "stderr",
          "text": [
            "\n",
            "100%|██████████████████████████| 10/10 [00:00<00:00, 133.44it/s, accuracy=0.895]"
          ]
        },
        {
          "output_type": "stream",
          "name": "stdout",
          "text": [
            "n_shots=10, Run=8, Accuracy: 89.47 %\n"
          ]
        },
        {
          "output_type": "stream",
          "name": "stderr",
          "text": [
            "\n",
            "100%|██████████████████████████| 10/10 [00:00<00:00, 127.31it/s, accuracy=0.917]"
          ]
        },
        {
          "output_type": "stream",
          "name": "stdout",
          "text": [
            "n_shots=12, Run=8, Accuracy: 91.67 %\n"
          ]
        },
        {
          "output_type": "stream",
          "name": "stderr",
          "text": [
            "\n",
            "100%|██████████████████████████| 10/10 [00:00<00:00, 133.31it/s, accuracy=0.921]"
          ]
        },
        {
          "output_type": "stream",
          "name": "stdout",
          "text": [
            "n_shots=16, Run=8, Accuracy: 92.13 %\n"
          ]
        },
        {
          "output_type": "stream",
          "name": "stderr",
          "text": [
            "\n",
            "100%|████████████████████████████| 10/10 [00:00<00:00, 84.83it/s, accuracy=0.91]\n"
          ]
        },
        {
          "output_type": "stream",
          "name": "stdout",
          "text": [
            "n_shots=24, Run=8, Accuracy: 91.00 %\n"
          ]
        },
        {
          "output_type": "stream",
          "name": "stderr",
          "text": [
            "100%|██████████████████████████| 10/10 [00:00<00:00, 124.69it/s, accuracy=0.921]"
          ]
        },
        {
          "output_type": "stream",
          "name": "stdout",
          "text": [
            "n_shots=32, Run=8, Accuracy: 92.07 %\n"
          ]
        },
        {
          "output_type": "stream",
          "name": "stderr",
          "text": [
            "\n",
            "100%|██████████████████████████| 10/10 [00:00<00:00, 126.26it/s, accuracy=0.705]"
          ]
        },
        {
          "output_type": "stream",
          "name": "stdout",
          "text": [
            "n_shots=1, Run=9, Accuracy: 70.50 %\n"
          ]
        },
        {
          "output_type": "stream",
          "name": "stderr",
          "text": [
            "\n",
            "100%|██████████████████████████| 10/10 [00:00<00:00, 130.16it/s, accuracy=0.816]"
          ]
        },
        {
          "output_type": "stream",
          "name": "stdout",
          "text": [
            "n_shots=2, Run=9, Accuracy: 81.60 %\n"
          ]
        },
        {
          "output_type": "stream",
          "name": "stderr",
          "text": [
            "\n",
            "100%|██████████████████████████| 10/10 [00:00<00:00, 137.73it/s, accuracy=0.839]"
          ]
        },
        {
          "output_type": "stream",
          "name": "stdout",
          "text": [
            "n_shots=3, Run=9, Accuracy: 83.87 %\n"
          ]
        },
        {
          "output_type": "stream",
          "name": "stderr",
          "text": [
            "\n",
            "100%|██████████████████████████| 10/10 [00:00<00:00, 135.91it/s, accuracy=0.873]"
          ]
        },
        {
          "output_type": "stream",
          "name": "stdout",
          "text": [
            "n_shots=4, Run=9, Accuracy: 87.27 %\n"
          ]
        },
        {
          "output_type": "stream",
          "name": "stderr",
          "text": [
            "\n",
            "100%|██████████████████████████| 10/10 [00:00<00:00, 131.53it/s, accuracy=0.892]"
          ]
        },
        {
          "output_type": "stream",
          "name": "stdout",
          "text": [
            "n_shots=5, Run=9, Accuracy: 89.20 %\n"
          ]
        },
        {
          "output_type": "stream",
          "name": "stderr",
          "text": [
            "\n",
            "100%|██████████████████████████| 10/10 [00:00<00:00, 131.13it/s, accuracy=0.903]"
          ]
        },
        {
          "output_type": "stream",
          "name": "stdout",
          "text": [
            "n_shots=6, Run=9, Accuracy: 90.33 %\n"
          ]
        },
        {
          "output_type": "stream",
          "name": "stderr",
          "text": [
            "\n",
            "100%|██████████████████████████| 10/10 [00:00<00:00, 125.93it/s, accuracy=0.906]"
          ]
        },
        {
          "output_type": "stream",
          "name": "stdout",
          "text": [
            "n_shots=8, Run=9, Accuracy: 90.63 %\n"
          ]
        },
        {
          "output_type": "stream",
          "name": "stderr",
          "text": [
            "\n",
            "100%|██████████████████████████| 10/10 [00:00<00:00, 122.37it/s, accuracy=0.906]"
          ]
        },
        {
          "output_type": "stream",
          "name": "stdout",
          "text": [
            "n_shots=10, Run=9, Accuracy: 90.63 %\n"
          ]
        },
        {
          "output_type": "stream",
          "name": "stderr",
          "text": [
            "\n",
            "100%|██████████████████████████| 10/10 [00:00<00:00, 133.23it/s, accuracy=0.916]"
          ]
        },
        {
          "output_type": "stream",
          "name": "stdout",
          "text": [
            "n_shots=12, Run=9, Accuracy: 91.63 %\n"
          ]
        },
        {
          "output_type": "stream",
          "name": "stderr",
          "text": [
            "\n",
            "100%|██████████████████████████| 10/10 [00:00<00:00, 130.39it/s, accuracy=0.909]"
          ]
        },
        {
          "output_type": "stream",
          "name": "stdout",
          "text": [
            "n_shots=16, Run=9, Accuracy: 90.87 %\n"
          ]
        },
        {
          "output_type": "stream",
          "name": "stderr",
          "text": [
            "\n",
            "100%|██████████████████████████| 10/10 [00:00<00:00, 132.23it/s, accuracy=0.911]"
          ]
        },
        {
          "output_type": "stream",
          "name": "stdout",
          "text": [
            "n_shots=24, Run=9, Accuracy: 91.13 %\n"
          ]
        },
        {
          "output_type": "stream",
          "name": "stderr",
          "text": [
            "\n",
            "100%|██████████████████████████| 10/10 [00:00<00:00, 123.09it/s, accuracy=0.913]"
          ]
        },
        {
          "output_type": "stream",
          "name": "stdout",
          "text": [
            "n_shots=32, Run=9, Accuracy: 91.30 %\n"
          ]
        },
        {
          "output_type": "stream",
          "name": "stderr",
          "text": [
            "\n",
            "100%|██████████████████████████| 10/10 [00:00<00:00, 126.66it/s, accuracy=0.658]\n"
          ]
        },
        {
          "output_type": "stream",
          "name": "stdout",
          "text": [
            "n_shots=1, Run=10, Accuracy: 65.80 %\n"
          ]
        },
        {
          "output_type": "stream",
          "name": "stderr",
          "text": [
            "100%|████████████████████████████| 10/10 [00:00<00:00, 136.81it/s, accuracy=0.8]"
          ]
        },
        {
          "output_type": "stream",
          "name": "stdout",
          "text": [
            "n_shots=2, Run=10, Accuracy: 79.97 %\n"
          ]
        },
        {
          "output_type": "stream",
          "name": "stderr",
          "text": [
            "\n",
            "100%|██████████████████████████| 10/10 [00:00<00:00, 138.25it/s, accuracy=0.823]"
          ]
        },
        {
          "output_type": "stream",
          "name": "stdout",
          "text": [
            "n_shots=3, Run=10, Accuracy: 82.30 %\n"
          ]
        },
        {
          "output_type": "stream",
          "name": "stderr",
          "text": [
            "\n",
            "100%|██████████████████████████| 10/10 [00:00<00:00, 125.28it/s, accuracy=0.871]"
          ]
        },
        {
          "output_type": "stream",
          "name": "stdout",
          "text": [
            "n_shots=4, Run=10, Accuracy: 87.13 %\n"
          ]
        },
        {
          "output_type": "stream",
          "name": "stderr",
          "text": [
            "\n",
            "100%|██████████████████████████| 10/10 [00:00<00:00, 132.82it/s, accuracy=0.879]\n"
          ]
        },
        {
          "output_type": "stream",
          "name": "stdout",
          "text": [
            "n_shots=5, Run=10, Accuracy: 87.87 %\n"
          ]
        },
        {
          "output_type": "stream",
          "name": "stderr",
          "text": [
            "100%|██████████████████████████| 10/10 [00:00<00:00, 135.82it/s, accuracy=0.906]"
          ]
        },
        {
          "output_type": "stream",
          "name": "stdout",
          "text": [
            "n_shots=6, Run=10, Accuracy: 90.63 %\n"
          ]
        },
        {
          "output_type": "stream",
          "name": "stderr",
          "text": [
            "\n",
            "100%|██████████████████████████| 10/10 [00:00<00:00, 132.99it/s, accuracy=0.907]"
          ]
        },
        {
          "output_type": "stream",
          "name": "stdout",
          "text": [
            "n_shots=8, Run=10, Accuracy: 90.73 %\n"
          ]
        },
        {
          "output_type": "stream",
          "name": "stderr",
          "text": [
            "\n",
            "100%|██████████████████████████| 10/10 [00:00<00:00, 131.99it/s, accuracy=0.912]"
          ]
        },
        {
          "output_type": "stream",
          "name": "stdout",
          "text": [
            "n_shots=10, Run=10, Accuracy: 91.23 %\n"
          ]
        },
        {
          "output_type": "stream",
          "name": "stderr",
          "text": [
            "\n",
            "100%|██████████████████████████| 10/10 [00:00<00:00, 127.13it/s, accuracy=0.901]"
          ]
        },
        {
          "output_type": "stream",
          "name": "stdout",
          "text": [
            "n_shots=12, Run=10, Accuracy: 90.13 %\n"
          ]
        },
        {
          "output_type": "stream",
          "name": "stderr",
          "text": [
            "\n",
            "100%|██████████████████████████| 10/10 [00:00<00:00, 130.77it/s, accuracy=0.928]"
          ]
        },
        {
          "output_type": "stream",
          "name": "stdout",
          "text": [
            "n_shots=16, Run=10, Accuracy: 92.80 %\n"
          ]
        },
        {
          "output_type": "stream",
          "name": "stderr",
          "text": [
            "\n",
            "100%|██████████████████████████| 10/10 [00:00<00:00, 129.53it/s, accuracy=0.928]"
          ]
        },
        {
          "output_type": "stream",
          "name": "stdout",
          "text": [
            "n_shots=24, Run=10, Accuracy: 92.77 %\n"
          ]
        },
        {
          "output_type": "stream",
          "name": "stderr",
          "text": [
            "\n",
            "100%|██████████████████████████| 10/10 [00:00<00:00, 127.77it/s, accuracy=0.927]"
          ]
        },
        {
          "output_type": "stream",
          "name": "stdout",
          "text": [
            "n_shots=32, Run=10, Accuracy: 92.67 %\n"
          ]
        },
        {
          "output_type": "stream",
          "name": "stderr",
          "text": [
            "\n",
            "100%|██████████████████████████| 10/10 [00:00<00:00, 123.36it/s, accuracy=0.782]\n"
          ]
        },
        {
          "output_type": "stream",
          "name": "stdout",
          "text": [
            "n_shots=1, Run=11, Accuracy: 78.20 %\n"
          ]
        },
        {
          "output_type": "stream",
          "name": "stderr",
          "text": [
            "100%|███████████████████████████| 10/10 [00:00<00:00, 134.53it/s, accuracy=0.83]"
          ]
        },
        {
          "output_type": "stream",
          "name": "stdout",
          "text": [
            "n_shots=2, Run=11, Accuracy: 82.97 %\n"
          ]
        },
        {
          "output_type": "stream",
          "name": "stderr",
          "text": [
            "\n",
            "100%|██████████████████████████| 10/10 [00:00<00:00, 136.55it/s, accuracy=0.858]"
          ]
        },
        {
          "output_type": "stream",
          "name": "stdout",
          "text": [
            "n_shots=3, Run=11, Accuracy: 85.83 %\n"
          ]
        },
        {
          "output_type": "stream",
          "name": "stderr",
          "text": [
            "\n",
            "100%|██████████████████████████| 10/10 [00:00<00:00, 133.24it/s, accuracy=0.881]"
          ]
        },
        {
          "output_type": "stream",
          "name": "stdout",
          "text": [
            "n_shots=4, Run=11, Accuracy: 88.07 %\n"
          ]
        },
        {
          "output_type": "stream",
          "name": "stderr",
          "text": [
            "\n",
            "100%|███████████████████████████| 10/10 [00:00<00:00, 131.11it/s, accuracy=0.88]"
          ]
        },
        {
          "output_type": "stream",
          "name": "stdout",
          "text": [
            "n_shots=5, Run=11, Accuracy: 88.03 %\n"
          ]
        },
        {
          "output_type": "stream",
          "name": "stderr",
          "text": [
            "\n",
            "100%|███████████████████████████| 10/10 [00:00<00:00, 131.15it/s, accuracy=0.88]"
          ]
        },
        {
          "output_type": "stream",
          "name": "stdout",
          "text": [
            "n_shots=6, Run=11, Accuracy: 87.97 %\n"
          ]
        },
        {
          "output_type": "stream",
          "name": "stderr",
          "text": [
            "\n",
            "100%|██████████████████████████| 10/10 [00:00<00:00, 126.78it/s, accuracy=0.898]"
          ]
        },
        {
          "output_type": "stream",
          "name": "stdout",
          "text": [
            "n_shots=8, Run=11, Accuracy: 89.83 %\n"
          ]
        },
        {
          "output_type": "stream",
          "name": "stderr",
          "text": [
            "\n",
            "100%|████████████████████████████| 10/10 [00:00<00:00, 135.43it/s, accuracy=0.9]"
          ]
        },
        {
          "output_type": "stream",
          "name": "stdout",
          "text": [
            "n_shots=10, Run=11, Accuracy: 89.97 %\n"
          ]
        },
        {
          "output_type": "stream",
          "name": "stderr",
          "text": [
            "\n",
            "100%|███████████████████████████| 10/10 [00:00<00:00, 130.79it/s, accuracy=0.91]"
          ]
        },
        {
          "output_type": "stream",
          "name": "stdout",
          "text": [
            "n_shots=12, Run=11, Accuracy: 90.97 %\n"
          ]
        },
        {
          "output_type": "stream",
          "name": "stderr",
          "text": [
            "\n",
            "100%|██████████████████████████| 10/10 [00:00<00:00, 135.72it/s, accuracy=0.912]"
          ]
        },
        {
          "output_type": "stream",
          "name": "stdout",
          "text": [
            "n_shots=16, Run=11, Accuracy: 91.20 %\n"
          ]
        },
        {
          "output_type": "stream",
          "name": "stderr",
          "text": [
            "\n",
            "100%|██████████████████████████| 10/10 [00:00<00:00, 133.69it/s, accuracy=0.912]"
          ]
        },
        {
          "output_type": "stream",
          "name": "stdout",
          "text": [
            "n_shots=24, Run=11, Accuracy: 91.17 %\n"
          ]
        },
        {
          "output_type": "stream",
          "name": "stderr",
          "text": [
            "\n",
            "100%|██████████████████████████| 10/10 [00:00<00:00, 131.57it/s, accuracy=0.911]"
          ]
        },
        {
          "output_type": "stream",
          "name": "stdout",
          "text": [
            "n_shots=32, Run=11, Accuracy: 91.10 %\n"
          ]
        },
        {
          "output_type": "stream",
          "name": "stderr",
          "text": [
            "\n",
            "100%|██████████████████████████| 10/10 [00:00<00:00, 130.47it/s, accuracy=0.648]"
          ]
        },
        {
          "output_type": "stream",
          "name": "stdout",
          "text": [
            "n_shots=1, Run=12, Accuracy: 64.77 %\n"
          ]
        },
        {
          "output_type": "stream",
          "name": "stderr",
          "text": [
            "\n",
            "100%|██████████████████████████| 10/10 [00:00<00:00, 128.47it/s, accuracy=0.791]"
          ]
        },
        {
          "output_type": "stream",
          "name": "stdout",
          "text": [
            "n_shots=2, Run=12, Accuracy: 79.13 %\n"
          ]
        },
        {
          "output_type": "stream",
          "name": "stderr",
          "text": [
            "\n",
            "100%|██████████████████████████| 10/10 [00:00<00:00, 126.14it/s, accuracy=0.857]"
          ]
        },
        {
          "output_type": "stream",
          "name": "stdout",
          "text": [
            "n_shots=3, Run=12, Accuracy: 85.73 %\n"
          ]
        },
        {
          "output_type": "stream",
          "name": "stderr",
          "text": [
            "\n",
            "100%|██████████████████████████| 10/10 [00:00<00:00, 133.61it/s, accuracy=0.859]"
          ]
        },
        {
          "output_type": "stream",
          "name": "stdout",
          "text": [
            "n_shots=4, Run=12, Accuracy: 85.93 %\n"
          ]
        },
        {
          "output_type": "stream",
          "name": "stderr",
          "text": [
            "\n",
            "100%|██████████████████████████| 10/10 [00:00<00:00, 129.58it/s, accuracy=0.877]"
          ]
        },
        {
          "output_type": "stream",
          "name": "stdout",
          "text": [
            "n_shots=5, Run=12, Accuracy: 87.70 %\n"
          ]
        },
        {
          "output_type": "stream",
          "name": "stderr",
          "text": [
            "\n",
            "100%|██████████████████████████| 10/10 [00:00<00:00, 135.69it/s, accuracy=0.894]"
          ]
        },
        {
          "output_type": "stream",
          "name": "stdout",
          "text": [
            "n_shots=6, Run=12, Accuracy: 89.43 %\n"
          ]
        },
        {
          "output_type": "stream",
          "name": "stderr",
          "text": [
            "\n",
            "100%|██████████████████████████| 10/10 [00:00<00:00, 135.51it/s, accuracy=0.902]"
          ]
        },
        {
          "output_type": "stream",
          "name": "stdout",
          "text": [
            "n_shots=8, Run=12, Accuracy: 90.17 %\n"
          ]
        },
        {
          "output_type": "stream",
          "name": "stderr",
          "text": [
            "\n",
            "100%|██████████████████████████| 10/10 [00:00<00:00, 136.17it/s, accuracy=0.898]"
          ]
        },
        {
          "output_type": "stream",
          "name": "stdout",
          "text": [
            "n_shots=10, Run=12, Accuracy: 89.83 %\n"
          ]
        },
        {
          "output_type": "stream",
          "name": "stderr",
          "text": [
            "\n",
            "100%|██████████████████████████| 10/10 [00:00<00:00, 133.05it/s, accuracy=0.904]"
          ]
        },
        {
          "output_type": "stream",
          "name": "stdout",
          "text": [
            "n_shots=12, Run=12, Accuracy: 90.37 %\n"
          ]
        },
        {
          "output_type": "stream",
          "name": "stderr",
          "text": [
            "\n",
            "100%|██████████████████████████| 10/10 [00:00<00:00, 127.37it/s, accuracy=0.907]"
          ]
        },
        {
          "output_type": "stream",
          "name": "stdout",
          "text": [
            "n_shots=16, Run=12, Accuracy: 90.70 %\n"
          ]
        },
        {
          "output_type": "stream",
          "name": "stderr",
          "text": [
            "\n",
            "100%|██████████████████████████| 10/10 [00:00<00:00, 128.72it/s, accuracy=0.916]"
          ]
        },
        {
          "output_type": "stream",
          "name": "stdout",
          "text": [
            "n_shots=24, Run=12, Accuracy: 91.57 %\n"
          ]
        },
        {
          "output_type": "stream",
          "name": "stderr",
          "text": [
            "\n",
            "100%|██████████████████████████| 10/10 [00:00<00:00, 125.19it/s, accuracy=0.923]"
          ]
        },
        {
          "output_type": "stream",
          "name": "stdout",
          "text": [
            "n_shots=32, Run=12, Accuracy: 92.27 %\n"
          ]
        },
        {
          "output_type": "stream",
          "name": "stderr",
          "text": [
            "\n",
            "100%|██████████████████████████| 10/10 [00:00<00:00, 132.70it/s, accuracy=0.712]"
          ]
        },
        {
          "output_type": "stream",
          "name": "stdout",
          "text": [
            "n_shots=1, Run=13, Accuracy: 71.17 %\n"
          ]
        },
        {
          "output_type": "stream",
          "name": "stderr",
          "text": [
            "\n",
            "100%|██████████████████████████| 10/10 [00:00<00:00, 134.01it/s, accuracy=0.814]"
          ]
        },
        {
          "output_type": "stream",
          "name": "stdout",
          "text": [
            "n_shots=2, Run=13, Accuracy: 81.40 %\n"
          ]
        },
        {
          "output_type": "stream",
          "name": "stderr",
          "text": [
            "\n",
            "100%|██████████████████████████| 10/10 [00:00<00:00, 137.44it/s, accuracy=0.859]"
          ]
        },
        {
          "output_type": "stream",
          "name": "stdout",
          "text": [
            "n_shots=3, Run=13, Accuracy: 85.90 %\n"
          ]
        },
        {
          "output_type": "stream",
          "name": "stderr",
          "text": [
            "\n",
            "100%|██████████████████████████| 10/10 [00:00<00:00, 136.18it/s, accuracy=0.869]"
          ]
        },
        {
          "output_type": "stream",
          "name": "stdout",
          "text": [
            "n_shots=4, Run=13, Accuracy: 86.90 %\n"
          ]
        },
        {
          "output_type": "stream",
          "name": "stderr",
          "text": [
            "\n",
            "100%|██████████████████████████| 10/10 [00:00<00:00, 138.67it/s, accuracy=0.885]"
          ]
        },
        {
          "output_type": "stream",
          "name": "stdout",
          "text": [
            "n_shots=5, Run=13, Accuracy: 88.53 %\n"
          ]
        },
        {
          "output_type": "stream",
          "name": "stderr",
          "text": [
            "\n",
            "100%|██████████████████████████| 10/10 [00:00<00:00, 136.30it/s, accuracy=0.892]"
          ]
        },
        {
          "output_type": "stream",
          "name": "stdout",
          "text": [
            "n_shots=6, Run=13, Accuracy: 89.17 %\n"
          ]
        },
        {
          "output_type": "stream",
          "name": "stderr",
          "text": [
            "\n",
            "100%|██████████████████████████| 10/10 [00:00<00:00, 134.53it/s, accuracy=0.893]"
          ]
        },
        {
          "output_type": "stream",
          "name": "stdout",
          "text": [
            "n_shots=8, Run=13, Accuracy: 89.27 %\n"
          ]
        },
        {
          "output_type": "stream",
          "name": "stderr",
          "text": [
            "\n",
            "100%|██████████████████████████| 10/10 [00:00<00:00, 129.94it/s, accuracy=0.903]"
          ]
        },
        {
          "output_type": "stream",
          "name": "stdout",
          "text": [
            "n_shots=10, Run=13, Accuracy: 90.30 %\n"
          ]
        },
        {
          "output_type": "stream",
          "name": "stderr",
          "text": [
            "\n",
            "100%|██████████████████████████| 10/10 [00:00<00:00, 133.40it/s, accuracy=0.914]"
          ]
        },
        {
          "output_type": "stream",
          "name": "stdout",
          "text": [
            "n_shots=12, Run=13, Accuracy: 91.37 %\n"
          ]
        },
        {
          "output_type": "stream",
          "name": "stderr",
          "text": [
            "\n",
            "100%|██████████████████████████| 10/10 [00:00<00:00, 132.09it/s, accuracy=0.913]"
          ]
        },
        {
          "output_type": "stream",
          "name": "stdout",
          "text": [
            "n_shots=16, Run=13, Accuracy: 91.27 %\n"
          ]
        },
        {
          "output_type": "stream",
          "name": "stderr",
          "text": [
            "\n",
            "100%|██████████████████████████| 10/10 [00:00<00:00, 127.12it/s, accuracy=0.912]"
          ]
        },
        {
          "output_type": "stream",
          "name": "stdout",
          "text": [
            "n_shots=24, Run=13, Accuracy: 91.17 %\n"
          ]
        },
        {
          "output_type": "stream",
          "name": "stderr",
          "text": [
            "\n",
            "100%|██████████████████████████| 10/10 [00:00<00:00, 134.17it/s, accuracy=0.923]"
          ]
        },
        {
          "output_type": "stream",
          "name": "stdout",
          "text": [
            "n_shots=32, Run=13, Accuracy: 92.27 %\n"
          ]
        },
        {
          "output_type": "stream",
          "name": "stderr",
          "text": [
            "\n",
            "100%|██████████████████████████| 10/10 [00:00<00:00, 131.63it/s, accuracy=0.664]"
          ]
        },
        {
          "output_type": "stream",
          "name": "stdout",
          "text": [
            "n_shots=1, Run=14, Accuracy: 66.37 %\n"
          ]
        },
        {
          "output_type": "stream",
          "name": "stderr",
          "text": [
            "\n",
            "100%|███████████████████████████| 10/10 [00:00<00:00, 138.34it/s, accuracy=0.86]"
          ]
        },
        {
          "output_type": "stream",
          "name": "stdout",
          "text": [
            "n_shots=2, Run=14, Accuracy: 85.97 %\n"
          ]
        },
        {
          "output_type": "stream",
          "name": "stderr",
          "text": [
            "\n",
            "100%|██████████████████████████| 10/10 [00:00<00:00, 132.38it/s, accuracy=0.861]"
          ]
        },
        {
          "output_type": "stream",
          "name": "stdout",
          "text": [
            "n_shots=3, Run=14, Accuracy: 86.10 %\n"
          ]
        },
        {
          "output_type": "stream",
          "name": "stderr",
          "text": [
            "\n",
            "100%|██████████████████████████| 10/10 [00:00<00:00, 129.19it/s, accuracy=0.871]"
          ]
        },
        {
          "output_type": "stream",
          "name": "stdout",
          "text": [
            "n_shots=4, Run=14, Accuracy: 87.13 %\n"
          ]
        },
        {
          "output_type": "stream",
          "name": "stderr",
          "text": [
            "\n",
            "100%|██████████████████████████| 10/10 [00:00<00:00, 136.00it/s, accuracy=0.885]"
          ]
        },
        {
          "output_type": "stream",
          "name": "stdout",
          "text": [
            "n_shots=5, Run=14, Accuracy: 88.53 %\n"
          ]
        },
        {
          "output_type": "stream",
          "name": "stderr",
          "text": [
            "\n",
            "100%|██████████████████████████| 10/10 [00:00<00:00, 135.72it/s, accuracy=0.893]"
          ]
        },
        {
          "output_type": "stream",
          "name": "stdout",
          "text": [
            "n_shots=6, Run=14, Accuracy: 89.30 %\n"
          ]
        },
        {
          "output_type": "stream",
          "name": "stderr",
          "text": [
            "\n",
            "100%|██████████████████████████| 10/10 [00:00<00:00, 132.08it/s, accuracy=0.895]"
          ]
        },
        {
          "output_type": "stream",
          "name": "stdout",
          "text": [
            "n_shots=8, Run=14, Accuracy: 89.53 %\n"
          ]
        },
        {
          "output_type": "stream",
          "name": "stderr",
          "text": [
            "\n",
            "100%|██████████████████████████| 10/10 [00:00<00:00, 136.64it/s, accuracy=0.911]"
          ]
        },
        {
          "output_type": "stream",
          "name": "stdout",
          "text": [
            "n_shots=10, Run=14, Accuracy: 91.13 %\n"
          ]
        },
        {
          "output_type": "stream",
          "name": "stderr",
          "text": [
            "\n",
            "100%|██████████████████████████| 10/10 [00:00<00:00, 125.44it/s, accuracy=0.908]"
          ]
        },
        {
          "output_type": "stream",
          "name": "stdout",
          "text": [
            "n_shots=12, Run=14, Accuracy: 90.80 %\n"
          ]
        },
        {
          "output_type": "stream",
          "name": "stderr",
          "text": [
            "\n",
            "100%|██████████████████████████| 10/10 [00:00<00:00, 130.86it/s, accuracy=0.913]"
          ]
        },
        {
          "output_type": "stream",
          "name": "stdout",
          "text": [
            "n_shots=16, Run=14, Accuracy: 91.30 %\n"
          ]
        },
        {
          "output_type": "stream",
          "name": "stderr",
          "text": [
            "\n",
            "100%|██████████████████████████| 10/10 [00:00<00:00, 124.85it/s, accuracy=0.905]"
          ]
        },
        {
          "output_type": "stream",
          "name": "stdout",
          "text": [
            "n_shots=24, Run=14, Accuracy: 90.47 %\n"
          ]
        },
        {
          "output_type": "stream",
          "name": "stderr",
          "text": [
            "\n",
            "100%|██████████████████████████| 10/10 [00:00<00:00, 112.55it/s, accuracy=0.928]"
          ]
        },
        {
          "output_type": "stream",
          "name": "stdout",
          "text": [
            "n_shots=32, Run=14, Accuracy: 92.77 %\n"
          ]
        },
        {
          "output_type": "stream",
          "name": "stderr",
          "text": [
            "\n",
            "100%|██████████████████████████| 10/10 [00:00<00:00, 125.45it/s, accuracy=0.771]"
          ]
        },
        {
          "output_type": "stream",
          "name": "stdout",
          "text": [
            "n_shots=1, Run=15, Accuracy: 77.10 %\n"
          ]
        },
        {
          "output_type": "stream",
          "name": "stderr",
          "text": [
            "\n",
            "100%|██████████████████████████| 10/10 [00:00<00:00, 137.38it/s, accuracy=0.817]"
          ]
        },
        {
          "output_type": "stream",
          "name": "stdout",
          "text": [
            "n_shots=2, Run=15, Accuracy: 81.67 %\n"
          ]
        },
        {
          "output_type": "stream",
          "name": "stderr",
          "text": [
            "\n",
            "100%|██████████████████████████| 10/10 [00:00<00:00, 134.65it/s, accuracy=0.825]"
          ]
        },
        {
          "output_type": "stream",
          "name": "stdout",
          "text": [
            "n_shots=3, Run=15, Accuracy: 82.47 %\n"
          ]
        },
        {
          "output_type": "stream",
          "name": "stderr",
          "text": [
            "\n",
            "100%|██████████████████████████| 10/10 [00:00<00:00, 135.84it/s, accuracy=0.876]"
          ]
        },
        {
          "output_type": "stream",
          "name": "stdout",
          "text": [
            "n_shots=4, Run=15, Accuracy: 87.60 %\n"
          ]
        },
        {
          "output_type": "stream",
          "name": "stderr",
          "text": [
            "\n",
            "100%|██████████████████████████| 10/10 [00:00<00:00, 138.85it/s, accuracy=0.898]"
          ]
        },
        {
          "output_type": "stream",
          "name": "stdout",
          "text": [
            "n_shots=5, Run=15, Accuracy: 89.80 %\n"
          ]
        },
        {
          "output_type": "stream",
          "name": "stderr",
          "text": [
            "\n",
            "100%|██████████████████████████| 10/10 [00:00<00:00, 128.75it/s, accuracy=0.901]"
          ]
        },
        {
          "output_type": "stream",
          "name": "stdout",
          "text": [
            "n_shots=6, Run=15, Accuracy: 90.10 %\n"
          ]
        },
        {
          "output_type": "stream",
          "name": "stderr",
          "text": [
            "\n",
            "100%|██████████████████████████| 10/10 [00:00<00:00, 133.15it/s, accuracy=0.899]"
          ]
        },
        {
          "output_type": "stream",
          "name": "stdout",
          "text": [
            "n_shots=8, Run=15, Accuracy: 89.93 %\n"
          ]
        },
        {
          "output_type": "stream",
          "name": "stderr",
          "text": [
            "\n",
            "100%|███████████████████████████| 10/10 [00:00<00:00, 125.23it/s, accuracy=0.91]"
          ]
        },
        {
          "output_type": "stream",
          "name": "stdout",
          "text": [
            "n_shots=10, Run=15, Accuracy: 91.00 %\n"
          ]
        },
        {
          "output_type": "stream",
          "name": "stderr",
          "text": [
            "\n",
            "100%|███████████████████████████| 10/10 [00:00<00:00, 135.66it/s, accuracy=0.93]"
          ]
        },
        {
          "output_type": "stream",
          "name": "stdout",
          "text": [
            "n_shots=12, Run=15, Accuracy: 93.00 %\n"
          ]
        },
        {
          "output_type": "stream",
          "name": "stderr",
          "text": [
            "\n",
            "100%|██████████████████████████| 10/10 [00:00<00:00, 136.46it/s, accuracy=0.917]"
          ]
        },
        {
          "output_type": "stream",
          "name": "stdout",
          "text": [
            "n_shots=16, Run=15, Accuracy: 91.70 %\n"
          ]
        },
        {
          "output_type": "stream",
          "name": "stderr",
          "text": [
            "\n",
            "100%|██████████████████████████| 10/10 [00:00<00:00, 126.58it/s, accuracy=0.913]"
          ]
        },
        {
          "output_type": "stream",
          "name": "stdout",
          "text": [
            "n_shots=24, Run=15, Accuracy: 91.30 %\n"
          ]
        },
        {
          "output_type": "stream",
          "name": "stderr",
          "text": [
            "\n",
            "100%|██████████████████████████| 10/10 [00:00<00:00, 130.30it/s, accuracy=0.909]"
          ]
        },
        {
          "output_type": "stream",
          "name": "stdout",
          "text": [
            "n_shots=32, Run=15, Accuracy: 90.87 %\n"
          ]
        },
        {
          "output_type": "stream",
          "name": "stderr",
          "text": [
            "\n",
            "100%|███████████████████████████| 10/10 [00:00<00:00, 130.34it/s, accuracy=0.72]"
          ]
        },
        {
          "output_type": "stream",
          "name": "stdout",
          "text": [
            "n_shots=1, Run=16, Accuracy: 71.97 %\n"
          ]
        },
        {
          "output_type": "stream",
          "name": "stderr",
          "text": [
            "\n",
            "100%|██████████████████████████| 10/10 [00:00<00:00, 133.58it/s, accuracy=0.824]"
          ]
        },
        {
          "output_type": "stream",
          "name": "stdout",
          "text": [
            "n_shots=2, Run=16, Accuracy: 82.43 %\n"
          ]
        },
        {
          "output_type": "stream",
          "name": "stderr",
          "text": [
            "\n",
            "100%|██████████████████████████| 10/10 [00:00<00:00, 133.43it/s, accuracy=0.869]"
          ]
        },
        {
          "output_type": "stream",
          "name": "stdout",
          "text": [
            "n_shots=3, Run=16, Accuracy: 86.87 %\n"
          ]
        },
        {
          "output_type": "stream",
          "name": "stderr",
          "text": [
            "\n",
            "100%|██████████████████████████| 10/10 [00:00<00:00, 137.66it/s, accuracy=0.878]"
          ]
        },
        {
          "output_type": "stream",
          "name": "stdout",
          "text": [
            "n_shots=4, Run=16, Accuracy: 87.77 %\n"
          ]
        },
        {
          "output_type": "stream",
          "name": "stderr",
          "text": [
            "\n",
            "100%|██████████████████████████| 10/10 [00:00<00:00, 135.97it/s, accuracy=0.873]"
          ]
        },
        {
          "output_type": "stream",
          "name": "stdout",
          "text": [
            "n_shots=5, Run=16, Accuracy: 87.33 %\n"
          ]
        },
        {
          "output_type": "stream",
          "name": "stderr",
          "text": [
            "\n",
            "100%|██████████████████████████| 10/10 [00:00<00:00, 126.53it/s, accuracy=0.898]"
          ]
        },
        {
          "output_type": "stream",
          "name": "stdout",
          "text": [
            "n_shots=6, Run=16, Accuracy: 89.77 %\n"
          ]
        },
        {
          "output_type": "stream",
          "name": "stderr",
          "text": [
            "\n",
            "100%|███████████████████████████| 10/10 [00:00<00:00, 133.14it/s, accuracy=0.91]"
          ]
        },
        {
          "output_type": "stream",
          "name": "stdout",
          "text": [
            "n_shots=8, Run=16, Accuracy: 90.97 %\n"
          ]
        },
        {
          "output_type": "stream",
          "name": "stderr",
          "text": [
            "\n",
            "100%|██████████████████████████| 10/10 [00:00<00:00, 118.71it/s, accuracy=0.911]"
          ]
        },
        {
          "output_type": "stream",
          "name": "stdout",
          "text": [
            "n_shots=10, Run=16, Accuracy: 91.10 %\n"
          ]
        },
        {
          "output_type": "stream",
          "name": "stderr",
          "text": [
            "\n",
            "100%|██████████████████████████| 10/10 [00:00<00:00, 132.14it/s, accuracy=0.908]\n"
          ]
        },
        {
          "output_type": "stream",
          "name": "stdout",
          "text": [
            "n_shots=12, Run=16, Accuracy: 90.77 %\n"
          ]
        },
        {
          "output_type": "stream",
          "name": "stderr",
          "text": [
            "100%|██████████████████████████| 10/10 [00:00<00:00, 131.79it/s, accuracy=0.923]"
          ]
        },
        {
          "output_type": "stream",
          "name": "stdout",
          "text": [
            "n_shots=16, Run=16, Accuracy: 92.33 %\n"
          ]
        },
        {
          "output_type": "stream",
          "name": "stderr",
          "text": [
            "\n",
            "100%|██████████████████████████| 10/10 [00:00<00:00, 131.50it/s, accuracy=0.918]"
          ]
        },
        {
          "output_type": "stream",
          "name": "stdout",
          "text": [
            "n_shots=24, Run=16, Accuracy: 91.77 %\n"
          ]
        },
        {
          "output_type": "stream",
          "name": "stderr",
          "text": [
            "\n",
            "100%|██████████████████████████| 10/10 [00:00<00:00, 121.42it/s, accuracy=0.917]"
          ]
        },
        {
          "output_type": "stream",
          "name": "stdout",
          "text": [
            "n_shots=32, Run=16, Accuracy: 91.73 %\n"
          ]
        },
        {
          "output_type": "stream",
          "name": "stderr",
          "text": [
            "\n",
            "100%|███████████████████████████| 10/10 [00:00<00:00, 125.23it/s, accuracy=0.71]"
          ]
        },
        {
          "output_type": "stream",
          "name": "stdout",
          "text": [
            "n_shots=1, Run=17, Accuracy: 71.03 %\n"
          ]
        },
        {
          "output_type": "stream",
          "name": "stderr",
          "text": [
            "\n",
            "100%|██████████████████████████| 10/10 [00:00<00:00, 135.30it/s, accuracy=0.799]"
          ]
        },
        {
          "output_type": "stream",
          "name": "stdout",
          "text": [
            "n_shots=2, Run=17, Accuracy: 79.93 %\n"
          ]
        },
        {
          "output_type": "stream",
          "name": "stderr",
          "text": [
            "\n",
            "100%|██████████████████████████| 10/10 [00:00<00:00, 130.44it/s, accuracy=0.862]"
          ]
        },
        {
          "output_type": "stream",
          "name": "stdout",
          "text": [
            "n_shots=3, Run=17, Accuracy: 86.23 %\n"
          ]
        },
        {
          "output_type": "stream",
          "name": "stderr",
          "text": [
            "\n",
            "100%|██████████████████████████| 10/10 [00:00<00:00, 137.46it/s, accuracy=0.869]"
          ]
        },
        {
          "output_type": "stream",
          "name": "stdout",
          "text": [
            "n_shots=4, Run=17, Accuracy: 86.87 %\n"
          ]
        },
        {
          "output_type": "stream",
          "name": "stderr",
          "text": [
            "\n",
            "100%|██████████████████████████| 10/10 [00:00<00:00, 138.46it/s, accuracy=0.889]"
          ]
        },
        {
          "output_type": "stream",
          "name": "stdout",
          "text": [
            "n_shots=5, Run=17, Accuracy: 88.93 %\n"
          ]
        },
        {
          "output_type": "stream",
          "name": "stderr",
          "text": [
            "\n",
            "100%|██████████████████████████| 10/10 [00:00<00:00, 137.07it/s, accuracy=0.916]"
          ]
        },
        {
          "output_type": "stream",
          "name": "stdout",
          "text": [
            "n_shots=6, Run=17, Accuracy: 91.57 %\n"
          ]
        },
        {
          "output_type": "stream",
          "name": "stderr",
          "text": [
            "\n",
            "100%|████████████████████████████| 10/10 [00:00<00:00, 134.45it/s, accuracy=0.9]"
          ]
        },
        {
          "output_type": "stream",
          "name": "stdout",
          "text": [
            "n_shots=8, Run=17, Accuracy: 90.00 %\n"
          ]
        },
        {
          "output_type": "stream",
          "name": "stderr",
          "text": [
            "\n",
            "100%|██████████████████████████| 10/10 [00:00<00:00, 130.48it/s, accuracy=0.895]"
          ]
        },
        {
          "output_type": "stream",
          "name": "stdout",
          "text": [
            "n_shots=10, Run=17, Accuracy: 89.47 %\n"
          ]
        },
        {
          "output_type": "stream",
          "name": "stderr",
          "text": [
            "\n",
            "100%|██████████████████████████| 10/10 [00:00<00:00, 131.28it/s, accuracy=0.909]"
          ]
        },
        {
          "output_type": "stream",
          "name": "stdout",
          "text": [
            "n_shots=12, Run=17, Accuracy: 90.90 %\n"
          ]
        },
        {
          "output_type": "stream",
          "name": "stderr",
          "text": [
            "\n",
            "100%|██████████████████████████| 10/10 [00:00<00:00, 131.19it/s, accuracy=0.905]"
          ]
        },
        {
          "output_type": "stream",
          "name": "stdout",
          "text": [
            "n_shots=16, Run=17, Accuracy: 90.53 %\n"
          ]
        },
        {
          "output_type": "stream",
          "name": "stderr",
          "text": [
            "\n",
            "100%|██████████████████████████| 10/10 [00:00<00:00, 127.52it/s, accuracy=0.923]"
          ]
        },
        {
          "output_type": "stream",
          "name": "stdout",
          "text": [
            "n_shots=24, Run=17, Accuracy: 92.33 %\n"
          ]
        },
        {
          "output_type": "stream",
          "name": "stderr",
          "text": [
            "\n",
            "100%|██████████████████████████| 10/10 [00:00<00:00, 125.95it/s, accuracy=0.921]"
          ]
        },
        {
          "output_type": "stream",
          "name": "stdout",
          "text": [
            "n_shots=32, Run=17, Accuracy: 92.10 %\n"
          ]
        },
        {
          "output_type": "stream",
          "name": "stderr",
          "text": [
            "\n",
            "100%|██████████████████████████| 10/10 [00:00<00:00, 126.67it/s, accuracy=0.745]"
          ]
        },
        {
          "output_type": "stream",
          "name": "stdout",
          "text": [
            "n_shots=1, Run=18, Accuracy: 74.47 %\n"
          ]
        },
        {
          "output_type": "stream",
          "name": "stderr",
          "text": [
            "\n",
            "100%|██████████████████████████| 10/10 [00:00<00:00, 131.74it/s, accuracy=0.835]"
          ]
        },
        {
          "output_type": "stream",
          "name": "stdout",
          "text": [
            "n_shots=2, Run=18, Accuracy: 83.50 %\n"
          ]
        },
        {
          "output_type": "stream",
          "name": "stderr",
          "text": [
            "\n",
            "100%|██████████████████████████| 10/10 [00:00<00:00, 137.97it/s, accuracy=0.793]"
          ]
        },
        {
          "output_type": "stream",
          "name": "stdout",
          "text": [
            "n_shots=3, Run=18, Accuracy: 79.33 %\n"
          ]
        },
        {
          "output_type": "stream",
          "name": "stderr",
          "text": [
            "\n",
            "100%|██████████████████████████| 10/10 [00:00<00:00, 134.78it/s, accuracy=0.878]"
          ]
        },
        {
          "output_type": "stream",
          "name": "stdout",
          "text": [
            "n_shots=4, Run=18, Accuracy: 87.80 %\n"
          ]
        },
        {
          "output_type": "stream",
          "name": "stderr",
          "text": [
            "\n",
            "100%|██████████████████████████| 10/10 [00:00<00:00, 137.26it/s, accuracy=0.872]"
          ]
        },
        {
          "output_type": "stream",
          "name": "stdout",
          "text": [
            "n_shots=5, Run=18, Accuracy: 87.17 %\n"
          ]
        },
        {
          "output_type": "stream",
          "name": "stderr",
          "text": [
            "\n",
            "100%|██████████████████████████| 10/10 [00:00<00:00, 136.14it/s, accuracy=0.878]"
          ]
        },
        {
          "output_type": "stream",
          "name": "stdout",
          "text": [
            "n_shots=6, Run=18, Accuracy: 87.77 %\n"
          ]
        },
        {
          "output_type": "stream",
          "name": "stderr",
          "text": [
            "\n",
            "100%|██████████████████████████| 10/10 [00:00<00:00, 123.65it/s, accuracy=0.891]"
          ]
        },
        {
          "output_type": "stream",
          "name": "stdout",
          "text": [
            "n_shots=8, Run=18, Accuracy: 89.13 %\n"
          ]
        },
        {
          "output_type": "stream",
          "name": "stderr",
          "text": [
            "\n",
            "100%|██████████████████████████| 10/10 [00:00<00:00, 130.95it/s, accuracy=0.887]"
          ]
        },
        {
          "output_type": "stream",
          "name": "stdout",
          "text": [
            "n_shots=10, Run=18, Accuracy: 88.70 %\n"
          ]
        },
        {
          "output_type": "stream",
          "name": "stderr",
          "text": [
            "\n",
            "100%|██████████████████████████| 10/10 [00:00<00:00, 132.74it/s, accuracy=0.901]"
          ]
        },
        {
          "output_type": "stream",
          "name": "stdout",
          "text": [
            "n_shots=12, Run=18, Accuracy: 90.10 %\n"
          ]
        },
        {
          "output_type": "stream",
          "name": "stderr",
          "text": [
            "\n",
            "100%|██████████████████████████| 10/10 [00:00<00:00, 129.12it/s, accuracy=0.915]"
          ]
        },
        {
          "output_type": "stream",
          "name": "stdout",
          "text": [
            "n_shots=16, Run=18, Accuracy: 91.53 %\n"
          ]
        },
        {
          "output_type": "stream",
          "name": "stderr",
          "text": [
            "\n",
            "100%|██████████████████████████| 10/10 [00:00<00:00, 128.02it/s, accuracy=0.912]"
          ]
        },
        {
          "output_type": "stream",
          "name": "stdout",
          "text": [
            "n_shots=24, Run=18, Accuracy: 91.20 %\n"
          ]
        },
        {
          "output_type": "stream",
          "name": "stderr",
          "text": [
            "\n",
            "100%|██████████████████████████| 10/10 [00:00<00:00, 124.34it/s, accuracy=0.919]\n"
          ]
        },
        {
          "output_type": "stream",
          "name": "stdout",
          "text": [
            "n_shots=32, Run=18, Accuracy: 91.87 %\n"
          ]
        },
        {
          "output_type": "stream",
          "name": "stderr",
          "text": [
            "100%|███████████████████████████| 10/10 [00:00<00:00, 129.40it/s, accuracy=0.71]"
          ]
        },
        {
          "output_type": "stream",
          "name": "stdout",
          "text": [
            "n_shots=1, Run=19, Accuracy: 70.97 %\n"
          ]
        },
        {
          "output_type": "stream",
          "name": "stderr",
          "text": [
            "\n",
            "100%|██████████████████████████| 10/10 [00:00<00:00, 134.98it/s, accuracy=0.834]"
          ]
        },
        {
          "output_type": "stream",
          "name": "stdout",
          "text": [
            "n_shots=2, Run=19, Accuracy: 83.40 %\n"
          ]
        },
        {
          "output_type": "stream",
          "name": "stderr",
          "text": [
            "\n",
            "100%|██████████████████████████| 10/10 [00:00<00:00, 135.08it/s, accuracy=0.841]"
          ]
        },
        {
          "output_type": "stream",
          "name": "stdout",
          "text": [
            "n_shots=3, Run=19, Accuracy: 84.07 %\n"
          ]
        },
        {
          "output_type": "stream",
          "name": "stderr",
          "text": [
            "\n",
            "100%|██████████████████████████| 10/10 [00:00<00:00, 132.96it/s, accuracy=0.869]"
          ]
        },
        {
          "output_type": "stream",
          "name": "stdout",
          "text": [
            "n_shots=4, Run=19, Accuracy: 86.93 %\n"
          ]
        },
        {
          "output_type": "stream",
          "name": "stderr",
          "text": [
            "\n",
            "100%|██████████████████████████| 10/10 [00:00<00:00, 132.59it/s, accuracy=0.893]"
          ]
        },
        {
          "output_type": "stream",
          "name": "stdout",
          "text": [
            "n_shots=5, Run=19, Accuracy: 89.33 %\n"
          ]
        },
        {
          "output_type": "stream",
          "name": "stderr",
          "text": [
            "\n",
            "100%|██████████████████████████| 10/10 [00:00<00:00, 136.60it/s, accuracy=0.888]"
          ]
        },
        {
          "output_type": "stream",
          "name": "stdout",
          "text": [
            "n_shots=6, Run=19, Accuracy: 88.83 %\n"
          ]
        },
        {
          "output_type": "stream",
          "name": "stderr",
          "text": [
            "\n",
            "100%|██████████████████████████| 10/10 [00:00<00:00, 133.18it/s, accuracy=0.901]"
          ]
        },
        {
          "output_type": "stream",
          "name": "stdout",
          "text": [
            "n_shots=8, Run=19, Accuracy: 90.13 %\n"
          ]
        },
        {
          "output_type": "stream",
          "name": "stderr",
          "text": [
            "\n",
            "100%|██████████████████████████| 10/10 [00:00<00:00, 130.09it/s, accuracy=0.914]"
          ]
        },
        {
          "output_type": "stream",
          "name": "stdout",
          "text": [
            "n_shots=10, Run=19, Accuracy: 91.37 %\n"
          ]
        },
        {
          "output_type": "stream",
          "name": "stderr",
          "text": [
            "\n",
            "100%|███████████████████████████| 10/10 [00:00<00:00, 132.45it/s, accuracy=0.91]"
          ]
        },
        {
          "output_type": "stream",
          "name": "stdout",
          "text": [
            "n_shots=12, Run=19, Accuracy: 91.03 %\n"
          ]
        },
        {
          "output_type": "stream",
          "name": "stderr",
          "text": [
            "\n",
            "100%|██████████████████████████| 10/10 [00:00<00:00, 126.25it/s, accuracy=0.912]"
          ]
        },
        {
          "output_type": "stream",
          "name": "stdout",
          "text": [
            "n_shots=16, Run=19, Accuracy: 91.17 %\n"
          ]
        },
        {
          "output_type": "stream",
          "name": "stderr",
          "text": [
            "\n",
            "100%|██████████████████████████| 10/10 [00:00<00:00, 131.32it/s, accuracy=0.905]"
          ]
        },
        {
          "output_type": "stream",
          "name": "stdout",
          "text": [
            "n_shots=24, Run=19, Accuracy: 90.53 %\n"
          ]
        },
        {
          "output_type": "stream",
          "name": "stderr",
          "text": [
            "\n",
            "100%|██████████████████████████| 10/10 [00:00<00:00, 118.80it/s, accuracy=0.936]\n"
          ]
        },
        {
          "output_type": "stream",
          "name": "stdout",
          "text": [
            "n_shots=32, Run=19, Accuracy: 93.57 %\n"
          ]
        },
        {
          "output_type": "stream",
          "name": "stderr",
          "text": [
            "100%|██████████████████████████| 10/10 [00:00<00:00, 118.43it/s, accuracy=0.692]"
          ]
        },
        {
          "output_type": "stream",
          "name": "stdout",
          "text": [
            "n_shots=1, Run=20, Accuracy: 69.23 %\n"
          ]
        },
        {
          "output_type": "stream",
          "name": "stderr",
          "text": [
            "\n",
            "100%|██████████████████████████| 10/10 [00:00<00:00, 127.82it/s, accuracy=0.821]"
          ]
        },
        {
          "output_type": "stream",
          "name": "stdout",
          "text": [
            "n_shots=2, Run=20, Accuracy: 82.10 %\n"
          ]
        },
        {
          "output_type": "stream",
          "name": "stderr",
          "text": [
            "\n",
            "100%|██████████████████████████| 10/10 [00:00<00:00, 135.75it/s, accuracy=0.869]"
          ]
        },
        {
          "output_type": "stream",
          "name": "stdout",
          "text": [
            "n_shots=3, Run=20, Accuracy: 86.87 %\n"
          ]
        },
        {
          "output_type": "stream",
          "name": "stderr",
          "text": [
            "\n",
            "100%|██████████████████████████| 10/10 [00:00<00:00, 131.72it/s, accuracy=0.864]"
          ]
        },
        {
          "output_type": "stream",
          "name": "stdout",
          "text": [
            "n_shots=4, Run=20, Accuracy: 86.40 %\n"
          ]
        },
        {
          "output_type": "stream",
          "name": "stderr",
          "text": [
            "\n",
            "100%|██████████████████████████| 10/10 [00:00<00:00, 138.24it/s, accuracy=0.886]"
          ]
        },
        {
          "output_type": "stream",
          "name": "stdout",
          "text": [
            "n_shots=5, Run=20, Accuracy: 88.63 %\n"
          ]
        },
        {
          "output_type": "stream",
          "name": "stderr",
          "text": [
            "\n",
            "100%|██████████████████████████| 10/10 [00:00<00:00, 136.71it/s, accuracy=0.894]"
          ]
        },
        {
          "output_type": "stream",
          "name": "stdout",
          "text": [
            "n_shots=6, Run=20, Accuracy: 89.43 %\n"
          ]
        },
        {
          "output_type": "stream",
          "name": "stderr",
          "text": [
            "\n",
            "100%|██████████████████████████| 10/10 [00:00<00:00, 131.77it/s, accuracy=0.897]"
          ]
        },
        {
          "output_type": "stream",
          "name": "stdout",
          "text": [
            "n_shots=8, Run=20, Accuracy: 89.70 %\n"
          ]
        },
        {
          "output_type": "stream",
          "name": "stderr",
          "text": [
            "\n",
            "100%|██████████████████████████| 10/10 [00:00<00:00, 130.72it/s, accuracy=0.916]"
          ]
        },
        {
          "output_type": "stream",
          "name": "stdout",
          "text": [
            "n_shots=10, Run=20, Accuracy: 91.60 %\n"
          ]
        },
        {
          "output_type": "stream",
          "name": "stderr",
          "text": [
            "\n",
            "100%|██████████████████████████| 10/10 [00:00<00:00, 130.05it/s, accuracy=0.903]"
          ]
        },
        {
          "output_type": "stream",
          "name": "stdout",
          "text": [
            "n_shots=12, Run=20, Accuracy: 90.33 %\n"
          ]
        },
        {
          "output_type": "stream",
          "name": "stderr",
          "text": [
            "\n",
            "100%|██████████████████████████| 10/10 [00:00<00:00, 124.60it/s, accuracy=0.916]"
          ]
        },
        {
          "output_type": "stream",
          "name": "stdout",
          "text": [
            "n_shots=16, Run=20, Accuracy: 91.63 %\n"
          ]
        },
        {
          "output_type": "stream",
          "name": "stderr",
          "text": [
            "\n",
            "100%|██████████████████████████| 10/10 [00:00<00:00, 129.82it/s, accuracy=0.912]"
          ]
        },
        {
          "output_type": "stream",
          "name": "stdout",
          "text": [
            "n_shots=24, Run=20, Accuracy: 91.20 %\n"
          ]
        },
        {
          "output_type": "stream",
          "name": "stderr",
          "text": [
            "\n",
            "100%|██████████████████████████| 10/10 [00:00<00:00, 126.73it/s, accuracy=0.911]"
          ]
        },
        {
          "output_type": "stream",
          "name": "stdout",
          "text": [
            "n_shots=32, Run=20, Accuracy: 91.13 %\n"
          ]
        },
        {
          "output_type": "stream",
          "name": "stderr",
          "text": [
            "\n"
          ]
        }
      ],
      "source": [
        "output_directory_t2 = Path(\"/home/rakib/models/paper_benchmarking_ssl_diverse_pathology/inference/TIGER_Combined2/moco/2\")\n",
        "\n",
        "data_to_test = Path(\"/home/rakib/data/TIGER_Combined2/\")\n",
        "\n",
        "testset = torchvision.datasets.ImageFolder(data_to_test, transform=transform)\n",
        "\n",
        "classes = testset.classes\n",
        "\n",
        "print(classes)\n",
        "\n",
        "dataloader = DataLoader(testset, batch_size=128, shuffle=False, drop_last=False)\n",
        "t2_emb_df = predict_embeddings(dataloader, model, device=device)\n",
        "t2_emb_dataset = FeaturesDataset.from_dataframe(t2_emb_df)\n",
        "t2_results_df = evaluate_few_shot_model(t2_emb_dataset, model, device=device, n_way=3)\n",
        "t2_results_df.sort_values([\"n_shots\", \"accuracy\"])\n",
        "\n",
        "mean_accuracies_t2 = t2_results_df.groupby(\"n_shots\")[\"accuracy\"].mean().reset_index()\n",
        "mean_accuracies_t2.rename(columns={\"accuracy\": \"mean\"}, inplace=True)\n",
        "std_accuracies_t2 = t2_results_df.groupby(\"n_shots\")[\"accuracy\"].std().reset_index()\n",
        "std_accuracies_t2.rename(columns={\"accuracy\": \"std\"}, inplace=True)\n",
        "# Merge the two DataFrames based on the 'n_shots' column\n",
        "merged_df_t2 = pd.merge(mean_accuracies_t2, std_accuracies_t2, on=\"n_shots\")\n",
        "\n",
        "# Save the average accuracy information in a separate CSV file\n",
        "acc_csv_filename = \"3way_average_accuracy_tiger_moco.csv\"\n",
        "merged_df_t2.to_csv(os.path.join(output_directory_t2, acc_csv_filename), index=False)\n"
      ]
    },
    {
      "cell_type": "code",
      "execution_count": null,
      "metadata": {
        "colab": {
          "base_uri": "https://localhost:8080/"
        },
        "id": "V-OTWQhpLS4X",
        "outputId": "f1c0e03d-0278-4317-aa1f-ba0b8cdeb752"
      },
      "outputs": [
        {
          "output_type": "stream",
          "name": "stdout",
          "text": [
            "['Norm', 'Tum']\n"
          ]
        },
        {
          "output_type": "stream",
          "name": "stderr",
          "text": [
            "Predicting embeddings: 100%|███████████████| 256/256 [01:01<00:00,  4.15batch/s]\n",
            "100%|███████████████████████████| 10/10 [00:00<00:00, 105.00it/s, accuracy=0.58]"
          ]
        },
        {
          "output_type": "stream",
          "name": "stdout",
          "text": [
            "n_shots=1, Run=1, Accuracy: 58.00 %\n"
          ]
        },
        {
          "output_type": "stream",
          "name": "stderr",
          "text": [
            "\n",
            "100%|██████████████████████████| 10/10 [00:00<00:00, 108.86it/s, accuracy=0.618]"
          ]
        },
        {
          "output_type": "stream",
          "name": "stdout",
          "text": [
            "n_shots=2, Run=1, Accuracy: 61.75 %\n"
          ]
        },
        {
          "output_type": "stream",
          "name": "stderr",
          "text": [
            "\n",
            "100%|███████████████████████████| 10/10 [00:00<00:00, 113.10it/s, accuracy=0.68]"
          ]
        },
        {
          "output_type": "stream",
          "name": "stdout",
          "text": [
            "n_shots=3, Run=1, Accuracy: 68.00 %\n"
          ]
        },
        {
          "output_type": "stream",
          "name": "stderr",
          "text": [
            "\n",
            "100%|████████████████████████████| 10/10 [00:00<00:00, 110.30it/s, accuracy=0.7]"
          ]
        },
        {
          "output_type": "stream",
          "name": "stdout",
          "text": [
            "n_shots=4, Run=1, Accuracy: 70.00 %\n"
          ]
        },
        {
          "output_type": "stream",
          "name": "stderr",
          "text": [
            "\n",
            "100%|██████████████████████████| 10/10 [00:00<00:00, 103.28it/s, accuracy=0.739]"
          ]
        },
        {
          "output_type": "stream",
          "name": "stdout",
          "text": [
            "n_shots=5, Run=1, Accuracy: 73.85 %\n"
          ]
        },
        {
          "output_type": "stream",
          "name": "stderr",
          "text": [
            "\n",
            "100%|██████████████████████████| 10/10 [00:00<00:00, 109.48it/s, accuracy=0.754]"
          ]
        },
        {
          "output_type": "stream",
          "name": "stdout",
          "text": [
            "n_shots=6, Run=1, Accuracy: 75.40 %\n"
          ]
        },
        {
          "output_type": "stream",
          "name": "stderr",
          "text": [
            "\n",
            "100%|██████████████████████████| 10/10 [00:00<00:00, 105.04it/s, accuracy=0.753]"
          ]
        },
        {
          "output_type": "stream",
          "name": "stdout",
          "text": [
            "n_shots=8, Run=1, Accuracy: 75.30 %\n"
          ]
        },
        {
          "output_type": "stream",
          "name": "stderr",
          "text": [
            "\n",
            "100%|██████████████████████████| 10/10 [00:00<00:00, 100.54it/s, accuracy=0.782]"
          ]
        },
        {
          "output_type": "stream",
          "name": "stdout",
          "text": [
            "n_shots=10, Run=1, Accuracy: 78.20 %\n"
          ]
        },
        {
          "output_type": "stream",
          "name": "stderr",
          "text": [
            "\n",
            "100%|██████████████████████████| 10/10 [00:00<00:00, 113.54it/s, accuracy=0.742]"
          ]
        },
        {
          "output_type": "stream",
          "name": "stdout",
          "text": [
            "n_shots=12, Run=1, Accuracy: 74.15 %\n"
          ]
        },
        {
          "output_type": "stream",
          "name": "stderr",
          "text": [
            "\n",
            "100%|██████████████████████████| 10/10 [00:00<00:00, 110.70it/s, accuracy=0.802]"
          ]
        },
        {
          "output_type": "stream",
          "name": "stdout",
          "text": [
            "n_shots=16, Run=1, Accuracy: 80.25 %\n"
          ]
        },
        {
          "output_type": "stream",
          "name": "stderr",
          "text": [
            "\n",
            "100%|██████████████████████████| 10/10 [00:00<00:00, 100.29it/s, accuracy=0.816]"
          ]
        },
        {
          "output_type": "stream",
          "name": "stdout",
          "text": [
            "n_shots=24, Run=1, Accuracy: 81.60 %\n"
          ]
        },
        {
          "output_type": "stream",
          "name": "stderr",
          "text": [
            "\n",
            "100%|██████████████████████████| 10/10 [00:00<00:00, 109.65it/s, accuracy=0.823]"
          ]
        },
        {
          "output_type": "stream",
          "name": "stdout",
          "text": [
            "n_shots=32, Run=1, Accuracy: 82.25 %\n"
          ]
        },
        {
          "output_type": "stream",
          "name": "stderr",
          "text": [
            "\n",
            "100%|██████████████████████████| 10/10 [00:00<00:00, 109.06it/s, accuracy=0.588]"
          ]
        },
        {
          "output_type": "stream",
          "name": "stdout",
          "text": [
            "n_shots=1, Run=2, Accuracy: 58.75 %\n"
          ]
        },
        {
          "output_type": "stream",
          "name": "stderr",
          "text": [
            "\n",
            "100%|██████████████████████████| 10/10 [00:00<00:00, 109.76it/s, accuracy=0.679]"
          ]
        },
        {
          "output_type": "stream",
          "name": "stdout",
          "text": [
            "n_shots=2, Run=2, Accuracy: 67.95 %\n"
          ]
        },
        {
          "output_type": "stream",
          "name": "stderr",
          "text": [
            "\n",
            "100%|███████████████████████████| 10/10 [00:00<00:00, 112.62it/s, accuracy=0.67]"
          ]
        },
        {
          "output_type": "stream",
          "name": "stdout",
          "text": [
            "n_shots=3, Run=2, Accuracy: 67.05 %\n"
          ]
        },
        {
          "output_type": "stream",
          "name": "stderr",
          "text": [
            "\n",
            "100%|███████████████████████████| 10/10 [00:00<00:00, 95.22it/s, accuracy=0.737]"
          ]
        },
        {
          "output_type": "stream",
          "name": "stdout",
          "text": [
            "n_shots=4, Run=2, Accuracy: 73.65 %\n"
          ]
        },
        {
          "output_type": "stream",
          "name": "stderr",
          "text": [
            "\n",
            "100%|██████████████████████████| 10/10 [00:00<00:00, 110.21it/s, accuracy=0.709]"
          ]
        },
        {
          "output_type": "stream",
          "name": "stdout",
          "text": [
            "n_shots=5, Run=2, Accuracy: 70.85 %\n"
          ]
        },
        {
          "output_type": "stream",
          "name": "stderr",
          "text": [
            "\n",
            "100%|██████████████████████████| 10/10 [00:00<00:00, 116.88it/s, accuracy=0.686]\n"
          ]
        },
        {
          "output_type": "stream",
          "name": "stdout",
          "text": [
            "n_shots=6, Run=2, Accuracy: 68.60 %\n"
          ]
        },
        {
          "output_type": "stream",
          "name": "stderr",
          "text": [
            "100%|██████████████████████████| 10/10 [00:00<00:00, 115.39it/s, accuracy=0.751]\n"
          ]
        },
        {
          "output_type": "stream",
          "name": "stdout",
          "text": [
            "n_shots=8, Run=2, Accuracy: 75.10 %\n"
          ]
        },
        {
          "output_type": "stream",
          "name": "stderr",
          "text": [
            "100%|██████████████████████████| 10/10 [00:00<00:00, 110.42it/s, accuracy=0.772]"
          ]
        },
        {
          "output_type": "stream",
          "name": "stdout",
          "text": [
            "n_shots=10, Run=2, Accuracy: 77.25 %\n"
          ]
        },
        {
          "output_type": "stream",
          "name": "stderr",
          "text": [
            "\n",
            "100%|██████████████████████████| 10/10 [00:00<00:00, 113.55it/s, accuracy=0.783]"
          ]
        },
        {
          "output_type": "stream",
          "name": "stdout",
          "text": [
            "n_shots=12, Run=2, Accuracy: 78.35 %\n"
          ]
        },
        {
          "output_type": "stream",
          "name": "stderr",
          "text": [
            "\n",
            "100%|██████████████████████████| 10/10 [00:00<00:00, 115.29it/s, accuracy=0.791]\n"
          ]
        },
        {
          "output_type": "stream",
          "name": "stdout",
          "text": [
            "n_shots=16, Run=2, Accuracy: 79.10 %\n"
          ]
        },
        {
          "output_type": "stream",
          "name": "stderr",
          "text": [
            "100%|██████████████████████████| 10/10 [00:00<00:00, 107.66it/s, accuracy=0.814]"
          ]
        },
        {
          "output_type": "stream",
          "name": "stdout",
          "text": [
            "n_shots=24, Run=2, Accuracy: 81.35 %\n"
          ]
        },
        {
          "output_type": "stream",
          "name": "stderr",
          "text": [
            "\n",
            "100%|██████████████████████████| 10/10 [00:00<00:00, 112.67it/s, accuracy=0.782]"
          ]
        },
        {
          "output_type": "stream",
          "name": "stdout",
          "text": [
            "n_shots=32, Run=2, Accuracy: 78.20 %\n"
          ]
        },
        {
          "output_type": "stream",
          "name": "stderr",
          "text": [
            "\n",
            "100%|██████████████████████████| 10/10 [00:00<00:00, 105.79it/s, accuracy=0.622]"
          ]
        },
        {
          "output_type": "stream",
          "name": "stdout",
          "text": [
            "n_shots=1, Run=3, Accuracy: 62.20 %\n"
          ]
        },
        {
          "output_type": "stream",
          "name": "stderr",
          "text": [
            "\n",
            "100%|██████████████████████████| 10/10 [00:00<00:00, 117.27it/s, accuracy=0.628]\n"
          ]
        },
        {
          "output_type": "stream",
          "name": "stdout",
          "text": [
            "n_shots=2, Run=3, Accuracy: 62.80 %\n"
          ]
        },
        {
          "output_type": "stream",
          "name": "stderr",
          "text": [
            "100%|███████████████████████████| 10/10 [00:00<00:00, 116.77it/s, accuracy=0.69]\n"
          ]
        },
        {
          "output_type": "stream",
          "name": "stdout",
          "text": [
            "n_shots=3, Run=3, Accuracy: 68.95 %\n"
          ]
        },
        {
          "output_type": "stream",
          "name": "stderr",
          "text": [
            "100%|██████████████████████████| 10/10 [00:00<00:00, 106.16it/s, accuracy=0.709]"
          ]
        },
        {
          "output_type": "stream",
          "name": "stdout",
          "text": [
            "n_shots=4, Run=3, Accuracy: 70.90 %\n"
          ]
        },
        {
          "output_type": "stream",
          "name": "stderr",
          "text": [
            "\n",
            "100%|██████████████████████████| 10/10 [00:00<00:00, 100.98it/s, accuracy=0.679]"
          ]
        },
        {
          "output_type": "stream",
          "name": "stdout",
          "text": [
            "n_shots=5, Run=3, Accuracy: 67.95 %\n"
          ]
        },
        {
          "output_type": "stream",
          "name": "stderr",
          "text": [
            "\n",
            "100%|██████████████████████████| 10/10 [00:00<00:00, 101.15it/s, accuracy=0.721]"
          ]
        },
        {
          "output_type": "stream",
          "name": "stdout",
          "text": [
            "n_shots=6, Run=3, Accuracy: 72.05 %\n"
          ]
        },
        {
          "output_type": "stream",
          "name": "stderr",
          "text": [
            "\n",
            "100%|██████████████████████████| 10/10 [00:00<00:00, 105.74it/s, accuracy=0.698]"
          ]
        },
        {
          "output_type": "stream",
          "name": "stdout",
          "text": [
            "n_shots=8, Run=3, Accuracy: 69.75 %\n"
          ]
        },
        {
          "output_type": "stream",
          "name": "stderr",
          "text": [
            "\n",
            "100%|██████████████████████████| 10/10 [00:00<00:00, 114.41it/s, accuracy=0.772]"
          ]
        },
        {
          "output_type": "stream",
          "name": "stdout",
          "text": [
            "n_shots=10, Run=3, Accuracy: 77.20 %\n"
          ]
        },
        {
          "output_type": "stream",
          "name": "stderr",
          "text": [
            "\n",
            "100%|██████████████████████████| 10/10 [00:00<00:00, 114.06it/s, accuracy=0.744]"
          ]
        },
        {
          "output_type": "stream",
          "name": "stdout",
          "text": [
            "n_shots=12, Run=3, Accuracy: 74.35 %\n"
          ]
        },
        {
          "output_type": "stream",
          "name": "stderr",
          "text": [
            "\n",
            "100%|██████████████████████████| 10/10 [00:00<00:00, 109.88it/s, accuracy=0.766]"
          ]
        },
        {
          "output_type": "stream",
          "name": "stdout",
          "text": [
            "n_shots=16, Run=3, Accuracy: 76.60 %\n"
          ]
        },
        {
          "output_type": "stream",
          "name": "stderr",
          "text": [
            "\n",
            "100%|███████████████████████████| 10/10 [00:00<00:00, 114.32it/s, accuracy=0.78]"
          ]
        },
        {
          "output_type": "stream",
          "name": "stdout",
          "text": [
            "n_shots=24, Run=3, Accuracy: 78.00 %\n"
          ]
        },
        {
          "output_type": "stream",
          "name": "stderr",
          "text": [
            "\n",
            "100%|██████████████████████████| 10/10 [00:00<00:00, 102.66it/s, accuracy=0.794]"
          ]
        },
        {
          "output_type": "stream",
          "name": "stdout",
          "text": [
            "n_shots=32, Run=3, Accuracy: 79.40 %\n"
          ]
        },
        {
          "output_type": "stream",
          "name": "stderr",
          "text": [
            "\n",
            "100%|██████████████████████████| 10/10 [00:00<00:00, 118.85it/s, accuracy=0.598]"
          ]
        },
        {
          "output_type": "stream",
          "name": "stdout",
          "text": [
            "n_shots=1, Run=4, Accuracy: 59.75 %\n"
          ]
        },
        {
          "output_type": "stream",
          "name": "stderr",
          "text": [
            "\n",
            "100%|██████████████████████████| 10/10 [00:00<00:00, 116.29it/s, accuracy=0.641]\n"
          ]
        },
        {
          "output_type": "stream",
          "name": "stdout",
          "text": [
            "n_shots=2, Run=4, Accuracy: 64.10 %\n"
          ]
        },
        {
          "output_type": "stream",
          "name": "stderr",
          "text": [
            "100%|██████████████████████████| 10/10 [00:00<00:00, 112.80it/s, accuracy=0.672]\n"
          ]
        },
        {
          "output_type": "stream",
          "name": "stdout",
          "text": [
            "n_shots=3, Run=4, Accuracy: 67.25 %\n"
          ]
        },
        {
          "output_type": "stream",
          "name": "stderr",
          "text": [
            "100%|██████████████████████████| 10/10 [00:00<00:00, 117.20it/s, accuracy=0.724]\n"
          ]
        },
        {
          "output_type": "stream",
          "name": "stdout",
          "text": [
            "n_shots=4, Run=4, Accuracy: 72.40 %\n"
          ]
        },
        {
          "output_type": "stream",
          "name": "stderr",
          "text": [
            "100%|██████████████████████████| 10/10 [00:00<00:00, 117.39it/s, accuracy=0.739]\n"
          ]
        },
        {
          "output_type": "stream",
          "name": "stdout",
          "text": [
            "n_shots=5, Run=4, Accuracy: 73.90 %\n"
          ]
        },
        {
          "output_type": "stream",
          "name": "stderr",
          "text": [
            "100%|██████████████████████████| 10/10 [00:00<00:00, 114.81it/s, accuracy=0.749]\n"
          ]
        },
        {
          "output_type": "stream",
          "name": "stdout",
          "text": [
            "n_shots=6, Run=4, Accuracy: 74.85 %\n"
          ]
        },
        {
          "output_type": "stream",
          "name": "stderr",
          "text": [
            "100%|██████████████████████████| 10/10 [00:00<00:00, 108.96it/s, accuracy=0.741]"
          ]
        },
        {
          "output_type": "stream",
          "name": "stdout",
          "text": [
            "n_shots=8, Run=4, Accuracy: 74.10 %\n"
          ]
        },
        {
          "output_type": "stream",
          "name": "stderr",
          "text": [
            "\n",
            "100%|██████████████████████████| 10/10 [00:00<00:00, 113.03it/s, accuracy=0.776]"
          ]
        },
        {
          "output_type": "stream",
          "name": "stdout",
          "text": [
            "n_shots=10, Run=4, Accuracy: 77.60 %\n"
          ]
        },
        {
          "output_type": "stream",
          "name": "stderr",
          "text": [
            "\n",
            "100%|██████████████████████████| 10/10 [00:00<00:00, 106.40it/s, accuracy=0.755]"
          ]
        },
        {
          "output_type": "stream",
          "name": "stdout",
          "text": [
            "n_shots=12, Run=4, Accuracy: 75.55 %\n"
          ]
        },
        {
          "output_type": "stream",
          "name": "stderr",
          "text": [
            "\n",
            "100%|██████████████████████████| 10/10 [00:00<00:00, 116.87it/s, accuracy=0.773]"
          ]
        },
        {
          "output_type": "stream",
          "name": "stdout",
          "text": [
            "n_shots=16, Run=4, Accuracy: 77.35 %\n"
          ]
        },
        {
          "output_type": "stream",
          "name": "stderr",
          "text": [
            "\n",
            "100%|██████████████████████████| 10/10 [00:00<00:00, 114.96it/s, accuracy=0.774]\n"
          ]
        },
        {
          "output_type": "stream",
          "name": "stdout",
          "text": [
            "n_shots=24, Run=4, Accuracy: 77.40 %\n"
          ]
        },
        {
          "output_type": "stream",
          "name": "stderr",
          "text": [
            "100%|██████████████████████████| 10/10 [00:00<00:00, 111.78it/s, accuracy=0.825]\n"
          ]
        },
        {
          "output_type": "stream",
          "name": "stdout",
          "text": [
            "n_shots=32, Run=4, Accuracy: 82.50 %\n"
          ]
        },
        {
          "output_type": "stream",
          "name": "stderr",
          "text": [
            "100%|██████████████████████████| 10/10 [00:00<00:00, 108.40it/s, accuracy=0.575]"
          ]
        },
        {
          "output_type": "stream",
          "name": "stdout",
          "text": [
            "n_shots=1, Run=5, Accuracy: 57.45 %\n"
          ]
        },
        {
          "output_type": "stream",
          "name": "stderr",
          "text": [
            "\n",
            "100%|██████████████████████████| 10/10 [00:00<00:00, 115.37it/s, accuracy=0.608]\n"
          ]
        },
        {
          "output_type": "stream",
          "name": "stdout",
          "text": [
            "n_shots=2, Run=5, Accuracy: 60.80 %\n"
          ]
        },
        {
          "output_type": "stream",
          "name": "stderr",
          "text": [
            "100%|██████████████████████████| 10/10 [00:00<00:00, 116.08it/s, accuracy=0.716]\n"
          ]
        },
        {
          "output_type": "stream",
          "name": "stdout",
          "text": [
            "n_shots=3, Run=5, Accuracy: 71.55 %\n"
          ]
        },
        {
          "output_type": "stream",
          "name": "stderr",
          "text": [
            "100%|██████████████████████████| 10/10 [00:00<00:00, 117.87it/s, accuracy=0.728]\n"
          ]
        },
        {
          "output_type": "stream",
          "name": "stdout",
          "text": [
            "n_shots=4, Run=5, Accuracy: 72.75 %\n"
          ]
        },
        {
          "output_type": "stream",
          "name": "stderr",
          "text": [
            "100%|██████████████████████████| 10/10 [00:00<00:00, 113.23it/s, accuracy=0.748]"
          ]
        },
        {
          "output_type": "stream",
          "name": "stdout",
          "text": [
            "n_shots=5, Run=5, Accuracy: 74.75 %\n"
          ]
        },
        {
          "output_type": "stream",
          "name": "stderr",
          "text": [
            "\n",
            "100%|██████████████████████████| 10/10 [00:00<00:00, 109.21it/s, accuracy=0.758]"
          ]
        },
        {
          "output_type": "stream",
          "name": "stdout",
          "text": [
            "n_shots=6, Run=5, Accuracy: 75.80 %\n"
          ]
        },
        {
          "output_type": "stream",
          "name": "stderr",
          "text": [
            "\n",
            "100%|███████████████████████████| 10/10 [00:00<00:00, 111.42it/s, accuracy=0.71]"
          ]
        },
        {
          "output_type": "stream",
          "name": "stdout",
          "text": [
            "n_shots=8, Run=5, Accuracy: 71.00 %\n"
          ]
        },
        {
          "output_type": "stream",
          "name": "stderr",
          "text": [
            "\n",
            "100%|██████████████████████████| 10/10 [00:00<00:00, 100.72it/s, accuracy=0.751]"
          ]
        },
        {
          "output_type": "stream",
          "name": "stdout",
          "text": [
            "n_shots=10, Run=5, Accuracy: 75.15 %\n"
          ]
        },
        {
          "output_type": "stream",
          "name": "stderr",
          "text": [
            "\n",
            "100%|██████████████████████████| 10/10 [00:00<00:00, 112.37it/s, accuracy=0.781]"
          ]
        },
        {
          "output_type": "stream",
          "name": "stdout",
          "text": [
            "n_shots=12, Run=5, Accuracy: 78.10 %\n"
          ]
        },
        {
          "output_type": "stream",
          "name": "stderr",
          "text": [
            "\n",
            "100%|██████████████████████████| 10/10 [00:00<00:00, 111.82it/s, accuracy=0.798]"
          ]
        },
        {
          "output_type": "stream",
          "name": "stdout",
          "text": [
            "n_shots=16, Run=5, Accuracy: 79.85 %\n"
          ]
        },
        {
          "output_type": "stream",
          "name": "stderr",
          "text": [
            "\n",
            "100%|██████████████████████████| 10/10 [00:00<00:00, 110.73it/s, accuracy=0.818]"
          ]
        },
        {
          "output_type": "stream",
          "name": "stdout",
          "text": [
            "n_shots=24, Run=5, Accuracy: 81.75 %\n"
          ]
        },
        {
          "output_type": "stream",
          "name": "stderr",
          "text": [
            "\n",
            "100%|██████████████████████████| 10/10 [00:00<00:00, 105.57it/s, accuracy=0.805]"
          ]
        },
        {
          "output_type": "stream",
          "name": "stdout",
          "text": [
            "n_shots=32, Run=5, Accuracy: 80.55 %\n"
          ]
        },
        {
          "output_type": "stream",
          "name": "stderr",
          "text": [
            "\n",
            "100%|██████████████████████████| 10/10 [00:00<00:00, 106.50it/s, accuracy=0.608]"
          ]
        },
        {
          "output_type": "stream",
          "name": "stdout",
          "text": [
            "n_shots=1, Run=6, Accuracy: 60.80 %\n"
          ]
        },
        {
          "output_type": "stream",
          "name": "stderr",
          "text": [
            "\n",
            "100%|██████████████████████████| 10/10 [00:00<00:00, 114.38it/s, accuracy=0.671]\n"
          ]
        },
        {
          "output_type": "stream",
          "name": "stdout",
          "text": [
            "n_shots=2, Run=6, Accuracy: 67.10 %\n"
          ]
        },
        {
          "output_type": "stream",
          "name": "stderr",
          "text": [
            "100%|██████████████████████████| 10/10 [00:00<00:00, 115.03it/s, accuracy=0.674]\n"
          ]
        },
        {
          "output_type": "stream",
          "name": "stdout",
          "text": [
            "n_shots=3, Run=6, Accuracy: 67.40 %\n"
          ]
        },
        {
          "output_type": "stream",
          "name": "stderr",
          "text": [
            "100%|██████████████████████████| 10/10 [00:00<00:00, 114.77it/s, accuracy=0.649]\n"
          ]
        },
        {
          "output_type": "stream",
          "name": "stdout",
          "text": [
            "n_shots=4, Run=6, Accuracy: 64.95 %\n"
          ]
        },
        {
          "output_type": "stream",
          "name": "stderr",
          "text": [
            "100%|██████████████████████████| 10/10 [00:00<00:00, 113.02it/s, accuracy=0.729]\n"
          ]
        },
        {
          "output_type": "stream",
          "name": "stdout",
          "text": [
            "n_shots=5, Run=6, Accuracy: 72.85 %\n"
          ]
        },
        {
          "output_type": "stream",
          "name": "stderr",
          "text": [
            "100%|██████████████████████████| 10/10 [00:00<00:00, 114.33it/s, accuracy=0.701]\n"
          ]
        },
        {
          "output_type": "stream",
          "name": "stdout",
          "text": [
            "n_shots=6, Run=6, Accuracy: 70.10 %\n"
          ]
        },
        {
          "output_type": "stream",
          "name": "stderr",
          "text": [
            "100%|██████████████████████████| 10/10 [00:00<00:00, 118.46it/s, accuracy=0.741]\n"
          ]
        },
        {
          "output_type": "stream",
          "name": "stdout",
          "text": [
            "n_shots=8, Run=6, Accuracy: 74.05 %\n"
          ]
        },
        {
          "output_type": "stream",
          "name": "stderr",
          "text": [
            "100%|██████████████████████████| 10/10 [00:00<00:00, 116.29it/s, accuracy=0.781]\n"
          ]
        },
        {
          "output_type": "stream",
          "name": "stdout",
          "text": [
            "n_shots=10, Run=6, Accuracy: 78.15 %\n"
          ]
        },
        {
          "output_type": "stream",
          "name": "stderr",
          "text": [
            "100%|██████████████████████████| 10/10 [00:00<00:00, 113.33it/s, accuracy=0.783]\n"
          ]
        },
        {
          "output_type": "stream",
          "name": "stdout",
          "text": [
            "n_shots=12, Run=6, Accuracy: 78.35 %\n"
          ]
        },
        {
          "output_type": "stream",
          "name": "stderr",
          "text": [
            "100%|██████████████████████████| 10/10 [00:00<00:00, 109.56it/s, accuracy=0.783]"
          ]
        },
        {
          "output_type": "stream",
          "name": "stdout",
          "text": [
            "n_shots=16, Run=6, Accuracy: 78.35 %\n"
          ]
        },
        {
          "output_type": "stream",
          "name": "stderr",
          "text": [
            "\n",
            "100%|██████████████████████████| 10/10 [00:00<00:00, 110.24it/s, accuracy=0.787]"
          ]
        },
        {
          "output_type": "stream",
          "name": "stdout",
          "text": [
            "n_shots=24, Run=6, Accuracy: 78.70 %\n"
          ]
        },
        {
          "output_type": "stream",
          "name": "stderr",
          "text": [
            "\n",
            "100%|██████████████████████████| 10/10 [00:00<00:00, 109.54it/s, accuracy=0.802]"
          ]
        },
        {
          "output_type": "stream",
          "name": "stdout",
          "text": [
            "n_shots=32, Run=6, Accuracy: 80.25 %\n"
          ]
        },
        {
          "output_type": "stream",
          "name": "stderr",
          "text": [
            "\n",
            "100%|██████████████████████████| 10/10 [00:00<00:00, 110.08it/s, accuracy=0.573]"
          ]
        },
        {
          "output_type": "stream",
          "name": "stdout",
          "text": [
            "n_shots=1, Run=7, Accuracy: 57.30 %\n"
          ]
        },
        {
          "output_type": "stream",
          "name": "stderr",
          "text": [
            "\n",
            "100%|██████████████████████████| 10/10 [00:00<00:00, 114.93it/s, accuracy=0.619]\n"
          ]
        },
        {
          "output_type": "stream",
          "name": "stdout",
          "text": [
            "n_shots=2, Run=7, Accuracy: 61.90 %\n"
          ]
        },
        {
          "output_type": "stream",
          "name": "stderr",
          "text": [
            "100%|██████████████████████████| 10/10 [00:00<00:00, 116.01it/s, accuracy=0.679]\n"
          ]
        },
        {
          "output_type": "stream",
          "name": "stdout",
          "text": [
            "n_shots=3, Run=7, Accuracy: 67.90 %\n"
          ]
        },
        {
          "output_type": "stream",
          "name": "stderr",
          "text": [
            "100%|██████████████████████████| 10/10 [00:00<00:00, 118.77it/s, accuracy=0.706]\n"
          ]
        },
        {
          "output_type": "stream",
          "name": "stdout",
          "text": [
            "n_shots=4, Run=7, Accuracy: 70.55 %\n"
          ]
        },
        {
          "output_type": "stream",
          "name": "stderr",
          "text": [
            "100%|██████████████████████████| 10/10 [00:00<00:00, 117.29it/s, accuracy=0.717]\n"
          ]
        },
        {
          "output_type": "stream",
          "name": "stdout",
          "text": [
            "n_shots=5, Run=7, Accuracy: 71.65 %\n"
          ]
        },
        {
          "output_type": "stream",
          "name": "stderr",
          "text": [
            "100%|███████████████████████████| 10/10 [00:00<00:00, 119.51it/s, accuracy=0.73]\n"
          ]
        },
        {
          "output_type": "stream",
          "name": "stdout",
          "text": [
            "n_shots=6, Run=7, Accuracy: 72.95 %\n"
          ]
        },
        {
          "output_type": "stream",
          "name": "stderr",
          "text": [
            "100%|██████████████████████████| 10/10 [00:00<00:00, 106.33it/s, accuracy=0.747]"
          ]
        },
        {
          "output_type": "stream",
          "name": "stdout",
          "text": [
            "n_shots=8, Run=7, Accuracy: 74.70 %\n"
          ]
        },
        {
          "output_type": "stream",
          "name": "stderr",
          "text": [
            "\n",
            "100%|██████████████████████████| 10/10 [00:00<00:00, 106.20it/s, accuracy=0.762]"
          ]
        },
        {
          "output_type": "stream",
          "name": "stdout",
          "text": [
            "n_shots=10, Run=7, Accuracy: 76.25 %\n"
          ]
        },
        {
          "output_type": "stream",
          "name": "stderr",
          "text": [
            "\n",
            "100%|██████████████████████████| 10/10 [00:00<00:00, 114.51it/s, accuracy=0.737]"
          ]
        },
        {
          "output_type": "stream",
          "name": "stdout",
          "text": [
            "n_shots=12, Run=7, Accuracy: 73.65 %\n"
          ]
        },
        {
          "output_type": "stream",
          "name": "stderr",
          "text": [
            "\n",
            "100%|██████████████████████████| 10/10 [00:00<00:00, 109.15it/s, accuracy=0.783]"
          ]
        },
        {
          "output_type": "stream",
          "name": "stdout",
          "text": [
            "n_shots=16, Run=7, Accuracy: 78.35 %\n"
          ]
        },
        {
          "output_type": "stream",
          "name": "stderr",
          "text": [
            "\n",
            "100%|██████████████████████████| 10/10 [00:00<00:00, 112.67it/s, accuracy=0.789]"
          ]
        },
        {
          "output_type": "stream",
          "name": "stdout",
          "text": [
            "n_shots=24, Run=7, Accuracy: 78.95 %\n"
          ]
        },
        {
          "output_type": "stream",
          "name": "stderr",
          "text": [
            "\n",
            "100%|██████████████████████████| 10/10 [00:00<00:00, 111.99it/s, accuracy=0.793]\n"
          ]
        },
        {
          "output_type": "stream",
          "name": "stdout",
          "text": [
            "n_shots=32, Run=7, Accuracy: 79.35 %\n"
          ]
        },
        {
          "output_type": "stream",
          "name": "stderr",
          "text": [
            "100%|██████████████████████████| 10/10 [00:00<00:00, 108.59it/s, accuracy=0.578]"
          ]
        },
        {
          "output_type": "stream",
          "name": "stdout",
          "text": [
            "n_shots=1, Run=8, Accuracy: 57.80 %\n"
          ]
        },
        {
          "output_type": "stream",
          "name": "stderr",
          "text": [
            "\n",
            "100%|██████████████████████████| 10/10 [00:00<00:00, 108.18it/s, accuracy=0.578]"
          ]
        },
        {
          "output_type": "stream",
          "name": "stdout",
          "text": [
            "n_shots=2, Run=8, Accuracy: 57.80 %\n"
          ]
        },
        {
          "output_type": "stream",
          "name": "stderr",
          "text": [
            "\n",
            "100%|██████████████████████████| 10/10 [00:00<00:00, 109.86it/s, accuracy=0.668]"
          ]
        },
        {
          "output_type": "stream",
          "name": "stdout",
          "text": [
            "n_shots=3, Run=8, Accuracy: 66.80 %\n"
          ]
        },
        {
          "output_type": "stream",
          "name": "stderr",
          "text": [
            "\n",
            "100%|██████████████████████████| 10/10 [00:00<00:00, 110.14it/s, accuracy=0.723]"
          ]
        },
        {
          "output_type": "stream",
          "name": "stdout",
          "text": [
            "n_shots=4, Run=8, Accuracy: 72.25 %\n"
          ]
        },
        {
          "output_type": "stream",
          "name": "stderr",
          "text": [
            "\n",
            "100%|██████████████████████████| 10/10 [00:00<00:00, 115.70it/s, accuracy=0.726]"
          ]
        },
        {
          "output_type": "stream",
          "name": "stdout",
          "text": [
            "n_shots=5, Run=8, Accuracy: 72.60 %\n"
          ]
        },
        {
          "output_type": "stream",
          "name": "stderr",
          "text": [
            "\n",
            "100%|██████████████████████████| 10/10 [00:00<00:00, 111.76it/s, accuracy=0.701]\n"
          ]
        },
        {
          "output_type": "stream",
          "name": "stdout",
          "text": [
            "n_shots=6, Run=8, Accuracy: 70.05 %\n"
          ]
        },
        {
          "output_type": "stream",
          "name": "stderr",
          "text": [
            "100%|██████████████████████████| 10/10 [00:00<00:00, 118.95it/s, accuracy=0.755]\n"
          ]
        },
        {
          "output_type": "stream",
          "name": "stdout",
          "text": [
            "n_shots=8, Run=8, Accuracy: 75.50 %\n"
          ]
        },
        {
          "output_type": "stream",
          "name": "stderr",
          "text": [
            "100%|██████████████████████████| 10/10 [00:00<00:00, 113.76it/s, accuracy=0.768]\n"
          ]
        },
        {
          "output_type": "stream",
          "name": "stdout",
          "text": [
            "n_shots=10, Run=8, Accuracy: 76.85 %\n"
          ]
        },
        {
          "output_type": "stream",
          "name": "stderr",
          "text": [
            "100%|██████████████████████████| 10/10 [00:00<00:00, 114.65it/s, accuracy=0.784]\n"
          ]
        },
        {
          "output_type": "stream",
          "name": "stdout",
          "text": [
            "n_shots=12, Run=8, Accuracy: 78.40 %\n"
          ]
        },
        {
          "output_type": "stream",
          "name": "stderr",
          "text": [
            "100%|██████████████████████████| 10/10 [00:00<00:00, 115.51it/s, accuracy=0.755]\n"
          ]
        },
        {
          "output_type": "stream",
          "name": "stdout",
          "text": [
            "n_shots=16, Run=8, Accuracy: 75.50 %\n"
          ]
        },
        {
          "output_type": "stream",
          "name": "stderr",
          "text": [
            "100%|██████████████████████████| 10/10 [00:00<00:00, 108.17it/s, accuracy=0.774]"
          ]
        },
        {
          "output_type": "stream",
          "name": "stdout",
          "text": [
            "n_shots=24, Run=8, Accuracy: 77.40 %\n"
          ]
        },
        {
          "output_type": "stream",
          "name": "stderr",
          "text": [
            "\n",
            "100%|██████████████████████████| 10/10 [00:00<00:00, 113.41it/s, accuracy=0.787]"
          ]
        },
        {
          "output_type": "stream",
          "name": "stdout",
          "text": [
            "n_shots=32, Run=8, Accuracy: 78.70 %\n"
          ]
        },
        {
          "output_type": "stream",
          "name": "stderr",
          "text": [
            "\n",
            "100%|██████████████████████████| 10/10 [00:00<00:00, 115.86it/s, accuracy=0.606]\n"
          ]
        },
        {
          "output_type": "stream",
          "name": "stdout",
          "text": [
            "n_shots=1, Run=9, Accuracy: 60.55 %\n"
          ]
        },
        {
          "output_type": "stream",
          "name": "stderr",
          "text": [
            "100%|██████████████████████████| 10/10 [00:00<00:00, 112.57it/s, accuracy=0.682]\n"
          ]
        },
        {
          "output_type": "stream",
          "name": "stdout",
          "text": [
            "n_shots=2, Run=9, Accuracy: 68.25 %\n"
          ]
        },
        {
          "output_type": "stream",
          "name": "stderr",
          "text": [
            "100%|██████████████████████████| 10/10 [00:00<00:00, 106.54it/s, accuracy=0.679]"
          ]
        },
        {
          "output_type": "stream",
          "name": "stdout",
          "text": [
            "n_shots=3, Run=9, Accuracy: 67.90 %\n"
          ]
        },
        {
          "output_type": "stream",
          "name": "stderr",
          "text": [
            "\n",
            "100%|██████████████████████████| 10/10 [00:00<00:00, 117.48it/s, accuracy=0.704]"
          ]
        },
        {
          "output_type": "stream",
          "name": "stdout",
          "text": [
            "n_shots=4, Run=9, Accuracy: 70.40 %\n"
          ]
        },
        {
          "output_type": "stream",
          "name": "stderr",
          "text": [
            "\n",
            "100%|██████████████████████████| 10/10 [00:00<00:00, 110.83it/s, accuracy=0.667]"
          ]
        },
        {
          "output_type": "stream",
          "name": "stdout",
          "text": [
            "n_shots=5, Run=9, Accuracy: 66.75 %\n"
          ]
        },
        {
          "output_type": "stream",
          "name": "stderr",
          "text": [
            "\n",
            "100%|██████████████████████████| 10/10 [00:00<00:00, 114.64it/s, accuracy=0.753]"
          ]
        },
        {
          "output_type": "stream",
          "name": "stdout",
          "text": [
            "n_shots=6, Run=9, Accuracy: 75.35 %\n"
          ]
        },
        {
          "output_type": "stream",
          "name": "stderr",
          "text": [
            "\n",
            "100%|██████████████████████████| 10/10 [00:00<00:00, 111.61it/s, accuracy=0.754]"
          ]
        },
        {
          "output_type": "stream",
          "name": "stdout",
          "text": [
            "n_shots=8, Run=9, Accuracy: 75.40 %\n"
          ]
        },
        {
          "output_type": "stream",
          "name": "stderr",
          "text": [
            "\n",
            "100%|██████████████████████████| 10/10 [00:00<00:00, 111.93it/s, accuracy=0.784]"
          ]
        },
        {
          "output_type": "stream",
          "name": "stdout",
          "text": [
            "n_shots=10, Run=9, Accuracy: 78.45 %\n"
          ]
        },
        {
          "output_type": "stream",
          "name": "stderr",
          "text": [
            "\n",
            "100%|██████████████████████████| 10/10 [00:00<00:00, 117.51it/s, accuracy=0.778]\n"
          ]
        },
        {
          "output_type": "stream",
          "name": "stdout",
          "text": [
            "n_shots=12, Run=9, Accuracy: 77.80 %\n"
          ]
        },
        {
          "output_type": "stream",
          "name": "stderr",
          "text": [
            "100%|██████████████████████████| 10/10 [00:00<00:00, 111.06it/s, accuracy=0.754]\n"
          ]
        },
        {
          "output_type": "stream",
          "name": "stdout",
          "text": [
            "n_shots=16, Run=9, Accuracy: 75.45 %\n"
          ]
        },
        {
          "output_type": "stream",
          "name": "stderr",
          "text": [
            "100%|██████████████████████████| 10/10 [00:00<00:00, 108.61it/s, accuracy=0.793]"
          ]
        },
        {
          "output_type": "stream",
          "name": "stdout",
          "text": [
            "n_shots=24, Run=9, Accuracy: 79.30 %\n"
          ]
        },
        {
          "output_type": "stream",
          "name": "stderr",
          "text": [
            "\n",
            "100%|██████████████████████████| 10/10 [00:00<00:00, 114.01it/s, accuracy=0.807]\n"
          ]
        },
        {
          "output_type": "stream",
          "name": "stdout",
          "text": [
            "n_shots=32, Run=9, Accuracy: 80.75 %\n"
          ]
        },
        {
          "output_type": "stream",
          "name": "stderr",
          "text": [
            "100%|██████████████████████████| 10/10 [00:00<00:00, 108.68it/s, accuracy=0.561]"
          ]
        },
        {
          "output_type": "stream",
          "name": "stdout",
          "text": [
            "n_shots=1, Run=10, Accuracy: 56.15 %\n"
          ]
        },
        {
          "output_type": "stream",
          "name": "stderr",
          "text": [
            "\n",
            "100%|██████████████████████████| 10/10 [00:00<00:00, 118.41it/s, accuracy=0.626]\n"
          ]
        },
        {
          "output_type": "stream",
          "name": "stdout",
          "text": [
            "n_shots=2, Run=10, Accuracy: 62.60 %\n"
          ]
        },
        {
          "output_type": "stream",
          "name": "stderr",
          "text": [
            "100%|██████████████████████████| 10/10 [00:00<00:00, 113.30it/s, accuracy=0.674]\n"
          ]
        },
        {
          "output_type": "stream",
          "name": "stdout",
          "text": [
            "n_shots=3, Run=10, Accuracy: 67.45 %\n"
          ]
        },
        {
          "output_type": "stream",
          "name": "stderr",
          "text": [
            "100%|██████████████████████████| 10/10 [00:00<00:00, 119.30it/s, accuracy=0.699]\n"
          ]
        },
        {
          "output_type": "stream",
          "name": "stdout",
          "text": [
            "n_shots=4, Run=10, Accuracy: 69.90 %\n"
          ]
        },
        {
          "output_type": "stream",
          "name": "stderr",
          "text": [
            "100%|██████████████████████████| 10/10 [00:00<00:00, 115.01it/s, accuracy=0.708]\n"
          ]
        },
        {
          "output_type": "stream",
          "name": "stdout",
          "text": [
            "n_shots=5, Run=10, Accuracy: 70.80 %\n"
          ]
        },
        {
          "output_type": "stream",
          "name": "stderr",
          "text": [
            "100%|██████████████████████████| 10/10 [00:00<00:00, 115.67it/s, accuracy=0.737]\n"
          ]
        },
        {
          "output_type": "stream",
          "name": "stdout",
          "text": [
            "n_shots=6, Run=10, Accuracy: 73.65 %\n"
          ]
        },
        {
          "output_type": "stream",
          "name": "stderr",
          "text": [
            "100%|██████████████████████████| 10/10 [00:00<00:00, 113.79it/s, accuracy=0.766]\n"
          ]
        },
        {
          "output_type": "stream",
          "name": "stdout",
          "text": [
            "n_shots=8, Run=10, Accuracy: 76.60 %\n"
          ]
        },
        {
          "output_type": "stream",
          "name": "stderr",
          "text": [
            "100%|██████████████████████████| 10/10 [00:00<00:00, 111.07it/s, accuracy=0.739]"
          ]
        },
        {
          "output_type": "stream",
          "name": "stdout",
          "text": [
            "n_shots=10, Run=10, Accuracy: 73.85 %\n"
          ]
        },
        {
          "output_type": "stream",
          "name": "stderr",
          "text": [
            "\n",
            "100%|██████████████████████████| 10/10 [00:00<00:00, 115.23it/s, accuracy=0.753]"
          ]
        },
        {
          "output_type": "stream",
          "name": "stdout",
          "text": [
            "n_shots=12, Run=10, Accuracy: 75.35 %\n"
          ]
        },
        {
          "output_type": "stream",
          "name": "stderr",
          "text": [
            "\n",
            "100%|██████████████████████████| 10/10 [00:00<00:00, 113.57it/s, accuracy=0.794]\n"
          ]
        },
        {
          "output_type": "stream",
          "name": "stdout",
          "text": [
            "n_shots=16, Run=10, Accuracy: 79.45 %\n"
          ]
        },
        {
          "output_type": "stream",
          "name": "stderr",
          "text": [
            "100%|██████████████████████████| 10/10 [00:00<00:00, 110.42it/s, accuracy=0.809]"
          ]
        },
        {
          "output_type": "stream",
          "name": "stdout",
          "text": [
            "n_shots=24, Run=10, Accuracy: 80.90 %\n"
          ]
        },
        {
          "output_type": "stream",
          "name": "stderr",
          "text": [
            "\n",
            "100%|███████████████████████████| 10/10 [00:00<00:00, 98.46it/s, accuracy=0.811]"
          ]
        },
        {
          "output_type": "stream",
          "name": "stdout",
          "text": [
            "n_shots=32, Run=10, Accuracy: 81.15 %\n"
          ]
        },
        {
          "output_type": "stream",
          "name": "stderr",
          "text": [
            "\n",
            "100%|███████████████████████████| 10/10 [00:00<00:00, 98.86it/s, accuracy=0.556]"
          ]
        },
        {
          "output_type": "stream",
          "name": "stdout",
          "text": [
            "n_shots=1, Run=11, Accuracy: 55.65 %\n"
          ]
        },
        {
          "output_type": "stream",
          "name": "stderr",
          "text": [
            "\n",
            "100%|███████████████████████████| 10/10 [00:00<00:00, 72.77it/s, accuracy=0.663]\n"
          ]
        },
        {
          "output_type": "stream",
          "name": "stdout",
          "text": [
            "n_shots=2, Run=11, Accuracy: 66.35 %\n"
          ]
        },
        {
          "output_type": "stream",
          "name": "stderr",
          "text": [
            "100%|██████████████████████████| 10/10 [00:00<00:00, 106.91it/s, accuracy=0.641]"
          ]
        },
        {
          "output_type": "stream",
          "name": "stdout",
          "text": [
            "n_shots=3, Run=11, Accuracy: 64.15 %\n"
          ]
        },
        {
          "output_type": "stream",
          "name": "stderr",
          "text": [
            "\n",
            "100%|███████████████████████████| 10/10 [00:00<00:00, 108.35it/s, accuracy=0.75]"
          ]
        },
        {
          "output_type": "stream",
          "name": "stdout",
          "text": [
            "n_shots=4, Run=11, Accuracy: 74.95 %\n"
          ]
        },
        {
          "output_type": "stream",
          "name": "stderr",
          "text": [
            "\n",
            "100%|██████████████████████████| 10/10 [00:00<00:00, 111.59it/s, accuracy=0.734]"
          ]
        },
        {
          "output_type": "stream",
          "name": "stdout",
          "text": [
            "n_shots=5, Run=11, Accuracy: 73.35 %\n"
          ]
        },
        {
          "output_type": "stream",
          "name": "stderr",
          "text": [
            "\n",
            "100%|███████████████████████████| 10/10 [00:00<00:00, 111.10it/s, accuracy=0.78]"
          ]
        },
        {
          "output_type": "stream",
          "name": "stdout",
          "text": [
            "n_shots=6, Run=11, Accuracy: 78.05 %\n"
          ]
        },
        {
          "output_type": "stream",
          "name": "stderr",
          "text": [
            "\n",
            "100%|████████████████████████████| 10/10 [00:00<00:00, 97.41it/s, accuracy=0.73]"
          ]
        },
        {
          "output_type": "stream",
          "name": "stdout",
          "text": [
            "n_shots=8, Run=11, Accuracy: 72.95 %\n"
          ]
        },
        {
          "output_type": "stream",
          "name": "stderr",
          "text": [
            "\n",
            "100%|██████████████████████████| 10/10 [00:00<00:00, 116.50it/s, accuracy=0.757]"
          ]
        },
        {
          "output_type": "stream",
          "name": "stdout",
          "text": [
            "n_shots=10, Run=11, Accuracy: 75.70 %\n"
          ]
        },
        {
          "output_type": "stream",
          "name": "stderr",
          "text": [
            "\n",
            "100%|██████████████████████████| 10/10 [00:00<00:00, 115.96it/s, accuracy=0.734]\n"
          ]
        },
        {
          "output_type": "stream",
          "name": "stdout",
          "text": [
            "n_shots=12, Run=11, Accuracy: 73.35 %\n"
          ]
        },
        {
          "output_type": "stream",
          "name": "stderr",
          "text": [
            "100%|██████████████████████████| 10/10 [00:00<00:00, 112.90it/s, accuracy=0.804]"
          ]
        },
        {
          "output_type": "stream",
          "name": "stdout",
          "text": [
            "n_shots=16, Run=11, Accuracy: 80.40 %\n"
          ]
        },
        {
          "output_type": "stream",
          "name": "stderr",
          "text": [
            "\n",
            "100%|██████████████████████████| 10/10 [00:00<00:00, 107.79it/s, accuracy=0.793]"
          ]
        },
        {
          "output_type": "stream",
          "name": "stdout",
          "text": [
            "n_shots=24, Run=11, Accuracy: 79.35 %\n"
          ]
        },
        {
          "output_type": "stream",
          "name": "stderr",
          "text": [
            "\n",
            "100%|██████████████████████████| 10/10 [00:00<00:00, 112.70it/s, accuracy=0.799]"
          ]
        },
        {
          "output_type": "stream",
          "name": "stdout",
          "text": [
            "n_shots=32, Run=11, Accuracy: 79.90 %\n"
          ]
        },
        {
          "output_type": "stream",
          "name": "stderr",
          "text": [
            "\n",
            "100%|███████████████████████████| 10/10 [00:00<00:00, 110.12it/s, accuracy=0.58]\n"
          ]
        },
        {
          "output_type": "stream",
          "name": "stdout",
          "text": [
            "n_shots=1, Run=12, Accuracy: 57.95 %\n"
          ]
        },
        {
          "output_type": "stream",
          "name": "stderr",
          "text": [
            "100%|██████████████████████████| 10/10 [00:00<00:00, 118.69it/s, accuracy=0.669]\n"
          ]
        },
        {
          "output_type": "stream",
          "name": "stdout",
          "text": [
            "n_shots=2, Run=12, Accuracy: 66.90 %\n"
          ]
        },
        {
          "output_type": "stream",
          "name": "stderr",
          "text": [
            "100%|████████████████████████████| 10/10 [00:00<00:00, 86.80it/s, accuracy=0.66]"
          ]
        },
        {
          "output_type": "stream",
          "name": "stdout",
          "text": [
            "n_shots=3, Run=12, Accuracy: 66.00 %\n"
          ]
        },
        {
          "output_type": "stream",
          "name": "stderr",
          "text": [
            "\n",
            "100%|██████████████████████████| 10/10 [00:00<00:00, 112.62it/s, accuracy=0.718]"
          ]
        },
        {
          "output_type": "stream",
          "name": "stdout",
          "text": [
            "n_shots=4, Run=12, Accuracy: 71.80 %\n"
          ]
        },
        {
          "output_type": "stream",
          "name": "stderr",
          "text": [
            "\n",
            "100%|██████████████████████████| 10/10 [00:00<00:00, 109.22it/s, accuracy=0.704]"
          ]
        },
        {
          "output_type": "stream",
          "name": "stdout",
          "text": [
            "n_shots=5, Run=12, Accuracy: 70.40 %\n"
          ]
        },
        {
          "output_type": "stream",
          "name": "stderr",
          "text": [
            "\n",
            "100%|██████████████████████████| 10/10 [00:00<00:00, 113.62it/s, accuracy=0.779]"
          ]
        },
        {
          "output_type": "stream",
          "name": "stdout",
          "text": [
            "n_shots=6, Run=12, Accuracy: 77.95 %\n"
          ]
        },
        {
          "output_type": "stream",
          "name": "stderr",
          "text": [
            "\n",
            "100%|██████████████████████████| 10/10 [00:00<00:00, 113.00it/s, accuracy=0.719]"
          ]
        },
        {
          "output_type": "stream",
          "name": "stdout",
          "text": [
            "n_shots=8, Run=12, Accuracy: 71.90 %\n"
          ]
        },
        {
          "output_type": "stream",
          "name": "stderr",
          "text": [
            "\n",
            "100%|██████████████████████████| 10/10 [00:00<00:00, 109.03it/s, accuracy=0.777]"
          ]
        },
        {
          "output_type": "stream",
          "name": "stdout",
          "text": [
            "n_shots=10, Run=12, Accuracy: 77.75 %\n"
          ]
        },
        {
          "output_type": "stream",
          "name": "stderr",
          "text": [
            "\n",
            "100%|██████████████████████████| 10/10 [00:00<00:00, 114.03it/s, accuracy=0.786]"
          ]
        },
        {
          "output_type": "stream",
          "name": "stdout",
          "text": [
            "n_shots=12, Run=12, Accuracy: 78.60 %\n"
          ]
        },
        {
          "output_type": "stream",
          "name": "stderr",
          "text": [
            "\n",
            "100%|██████████████████████████| 10/10 [00:00<00:00, 105.90it/s, accuracy=0.747]"
          ]
        },
        {
          "output_type": "stream",
          "name": "stdout",
          "text": [
            "n_shots=16, Run=12, Accuracy: 74.65 %\n"
          ]
        },
        {
          "output_type": "stream",
          "name": "stderr",
          "text": [
            "\n",
            "100%|██████████████████████████| 10/10 [00:00<00:00, 109.82it/s, accuracy=0.803]"
          ]
        },
        {
          "output_type": "stream",
          "name": "stdout",
          "text": [
            "n_shots=24, Run=12, Accuracy: 80.35 %\n"
          ]
        },
        {
          "output_type": "stream",
          "name": "stderr",
          "text": [
            "\n",
            "100%|██████████████████████████| 10/10 [00:00<00:00, 112.81it/s, accuracy=0.808]"
          ]
        },
        {
          "output_type": "stream",
          "name": "stdout",
          "text": [
            "n_shots=32, Run=12, Accuracy: 80.85 %\n"
          ]
        },
        {
          "output_type": "stream",
          "name": "stderr",
          "text": [
            "\n",
            "100%|██████████████████████████| 10/10 [00:00<00:00, 110.97it/s, accuracy=0.531]\n"
          ]
        },
        {
          "output_type": "stream",
          "name": "stdout",
          "text": [
            "n_shots=1, Run=13, Accuracy: 53.15 %\n"
          ]
        },
        {
          "output_type": "stream",
          "name": "stderr",
          "text": [
            "100%|██████████████████████████| 10/10 [00:00<00:00, 119.05it/s, accuracy=0.659]\n"
          ]
        },
        {
          "output_type": "stream",
          "name": "stdout",
          "text": [
            "n_shots=2, Run=13, Accuracy: 65.95 %\n"
          ]
        },
        {
          "output_type": "stream",
          "name": "stderr",
          "text": [
            "100%|██████████████████████████| 10/10 [00:00<00:00, 109.95it/s, accuracy=0.688]"
          ]
        },
        {
          "output_type": "stream",
          "name": "stdout",
          "text": [
            "n_shots=3, Run=13, Accuracy: 68.75 %\n"
          ]
        },
        {
          "output_type": "stream",
          "name": "stderr",
          "text": [
            "\n",
            "100%|██████████████████████████| 10/10 [00:00<00:00, 108.43it/s, accuracy=0.707]"
          ]
        },
        {
          "output_type": "stream",
          "name": "stdout",
          "text": [
            "n_shots=4, Run=13, Accuracy: 70.65 %\n"
          ]
        },
        {
          "output_type": "stream",
          "name": "stderr",
          "text": [
            "\n",
            "100%|██████████████████████████| 10/10 [00:00<00:00, 110.29it/s, accuracy=0.664]"
          ]
        },
        {
          "output_type": "stream",
          "name": "stdout",
          "text": [
            "n_shots=5, Run=13, Accuracy: 66.40 %\n"
          ]
        },
        {
          "output_type": "stream",
          "name": "stderr",
          "text": [
            "\n",
            "100%|██████████████████████████| 10/10 [00:00<00:00, 113.93it/s, accuracy=0.788]"
          ]
        },
        {
          "output_type": "stream",
          "name": "stdout",
          "text": [
            "n_shots=6, Run=13, Accuracy: 78.80 %\n"
          ]
        },
        {
          "output_type": "stream",
          "name": "stderr",
          "text": [
            "\n",
            "100%|██████████████████████████| 10/10 [00:00<00:00, 118.26it/s, accuracy=0.721]\n"
          ]
        },
        {
          "output_type": "stream",
          "name": "stdout",
          "text": [
            "n_shots=8, Run=13, Accuracy: 72.05 %\n"
          ]
        },
        {
          "output_type": "stream",
          "name": "stderr",
          "text": [
            "100%|██████████████████████████| 10/10 [00:00<00:00, 112.32it/s, accuracy=0.735]\n"
          ]
        },
        {
          "output_type": "stream",
          "name": "stdout",
          "text": [
            "n_shots=10, Run=13, Accuracy: 73.45 %\n"
          ]
        },
        {
          "output_type": "stream",
          "name": "stderr",
          "text": [
            "100%|███████████████████████████| 10/10 [00:00<00:00, 114.20it/s, accuracy=0.78]\n"
          ]
        },
        {
          "output_type": "stream",
          "name": "stdout",
          "text": [
            "n_shots=12, Run=13, Accuracy: 78.05 %\n"
          ]
        },
        {
          "output_type": "stream",
          "name": "stderr",
          "text": [
            "100%|██████████████████████████| 10/10 [00:00<00:00, 104.79it/s, accuracy=0.779]"
          ]
        },
        {
          "output_type": "stream",
          "name": "stdout",
          "text": [
            "n_shots=16, Run=13, Accuracy: 77.90 %\n"
          ]
        },
        {
          "output_type": "stream",
          "name": "stderr",
          "text": [
            "\n",
            "100%|██████████████████████████| 10/10 [00:00<00:00, 105.61it/s, accuracy=0.813]"
          ]
        },
        {
          "output_type": "stream",
          "name": "stdout",
          "text": [
            "n_shots=24, Run=13, Accuracy: 81.30 %\n"
          ]
        },
        {
          "output_type": "stream",
          "name": "stderr",
          "text": [
            "\n",
            "100%|██████████████████████████| 10/10 [00:00<00:00, 107.12it/s, accuracy=0.801]"
          ]
        },
        {
          "output_type": "stream",
          "name": "stdout",
          "text": [
            "n_shots=32, Run=13, Accuracy: 80.10 %\n"
          ]
        },
        {
          "output_type": "stream",
          "name": "stderr",
          "text": [
            "\n",
            "100%|██████████████████████████| 10/10 [00:00<00:00, 105.01it/s, accuracy=0.532]"
          ]
        },
        {
          "output_type": "stream",
          "name": "stdout",
          "text": [
            "n_shots=1, Run=14, Accuracy: 53.20 %\n"
          ]
        },
        {
          "output_type": "stream",
          "name": "stderr",
          "text": [
            "\n",
            "100%|██████████████████████████| 10/10 [00:00<00:00, 113.66it/s, accuracy=0.663]"
          ]
        },
        {
          "output_type": "stream",
          "name": "stdout",
          "text": [
            "n_shots=2, Run=14, Accuracy: 66.35 %\n"
          ]
        },
        {
          "output_type": "stream",
          "name": "stderr",
          "text": [
            "\n",
            "100%|██████████████████████████| 10/10 [00:00<00:00, 110.38it/s, accuracy=0.667]"
          ]
        },
        {
          "output_type": "stream",
          "name": "stdout",
          "text": [
            "n_shots=3, Run=14, Accuracy: 66.70 %\n"
          ]
        },
        {
          "output_type": "stream",
          "name": "stderr",
          "text": [
            "\n",
            "100%|██████████████████████████| 10/10 [00:00<00:00, 113.23it/s, accuracy=0.722]"
          ]
        },
        {
          "output_type": "stream",
          "name": "stdout",
          "text": [
            "n_shots=4, Run=14, Accuracy: 72.15 %\n"
          ]
        },
        {
          "output_type": "stream",
          "name": "stderr",
          "text": [
            "\n",
            "100%|██████████████████████████| 10/10 [00:00<00:00, 115.80it/s, accuracy=0.695]\n"
          ]
        },
        {
          "output_type": "stream",
          "name": "stdout",
          "text": [
            "n_shots=5, Run=14, Accuracy: 69.45 %\n"
          ]
        },
        {
          "output_type": "stream",
          "name": "stderr",
          "text": [
            "100%|██████████████████████████| 10/10 [00:00<00:00, 111.66it/s, accuracy=0.728]"
          ]
        },
        {
          "output_type": "stream",
          "name": "stdout",
          "text": [
            "n_shots=6, Run=14, Accuracy: 72.75 %\n"
          ]
        },
        {
          "output_type": "stream",
          "name": "stderr",
          "text": [
            "\n",
            "100%|██████████████████████████| 10/10 [00:00<00:00, 112.10it/s, accuracy=0.728]\n"
          ]
        },
        {
          "output_type": "stream",
          "name": "stdout",
          "text": [
            "n_shots=8, Run=14, Accuracy: 72.80 %\n"
          ]
        },
        {
          "output_type": "stream",
          "name": "stderr",
          "text": [
            "100%|██████████████████████████| 10/10 [00:00<00:00, 114.62it/s, accuracy=0.759]\n"
          ]
        },
        {
          "output_type": "stream",
          "name": "stdout",
          "text": [
            "n_shots=10, Run=14, Accuracy: 75.95 %\n"
          ]
        },
        {
          "output_type": "stream",
          "name": "stderr",
          "text": [
            "100%|██████████████████████████| 10/10 [00:00<00:00, 112.48it/s, accuracy=0.788]\n"
          ]
        },
        {
          "output_type": "stream",
          "name": "stdout",
          "text": [
            "n_shots=12, Run=14, Accuracy: 78.85 %\n"
          ]
        },
        {
          "output_type": "stream",
          "name": "stderr",
          "text": [
            "100%|██████████████████████████| 10/10 [00:00<00:00, 109.93it/s, accuracy=0.738]"
          ]
        },
        {
          "output_type": "stream",
          "name": "stdout",
          "text": [
            "n_shots=16, Run=14, Accuracy: 73.80 %\n"
          ]
        },
        {
          "output_type": "stream",
          "name": "stderr",
          "text": [
            "\n",
            "100%|██████████████████████████| 10/10 [00:00<00:00, 103.20it/s, accuracy=0.788]"
          ]
        },
        {
          "output_type": "stream",
          "name": "stdout",
          "text": [
            "n_shots=24, Run=14, Accuracy: 78.85 %\n"
          ]
        },
        {
          "output_type": "stream",
          "name": "stderr",
          "text": [
            "\n",
            "100%|███████████████████████████| 10/10 [00:00<00:00, 112.03it/s, accuracy=0.83]"
          ]
        },
        {
          "output_type": "stream",
          "name": "stdout",
          "text": [
            "n_shots=32, Run=14, Accuracy: 82.95 %\n"
          ]
        },
        {
          "output_type": "stream",
          "name": "stderr",
          "text": [
            "\n",
            "100%|██████████████████████████| 10/10 [00:00<00:00, 113.90it/s, accuracy=0.619]\n"
          ]
        },
        {
          "output_type": "stream",
          "name": "stdout",
          "text": [
            "n_shots=1, Run=15, Accuracy: 61.85 %\n"
          ]
        },
        {
          "output_type": "stream",
          "name": "stderr",
          "text": [
            "100%|██████████████████████████| 10/10 [00:00<00:00, 105.57it/s, accuracy=0.625]"
          ]
        },
        {
          "output_type": "stream",
          "name": "stdout",
          "text": [
            "n_shots=2, Run=15, Accuracy: 62.55 %\n"
          ]
        },
        {
          "output_type": "stream",
          "name": "stderr",
          "text": [
            "\n",
            "100%|██████████████████████████| 10/10 [00:00<00:00, 114.23it/s, accuracy=0.664]"
          ]
        },
        {
          "output_type": "stream",
          "name": "stdout",
          "text": [
            "n_shots=3, Run=15, Accuracy: 66.45 %\n"
          ]
        },
        {
          "output_type": "stream",
          "name": "stderr",
          "text": [
            "\n",
            "100%|███████████████████████████| 10/10 [00:00<00:00, 106.95it/s, accuracy=0.64]"
          ]
        },
        {
          "output_type": "stream",
          "name": "stdout",
          "text": [
            "n_shots=4, Run=15, Accuracy: 64.05 %\n"
          ]
        },
        {
          "output_type": "stream",
          "name": "stderr",
          "text": [
            "\n",
            "100%|██████████████████████████| 10/10 [00:00<00:00, 109.85it/s, accuracy=0.743]"
          ]
        },
        {
          "output_type": "stream",
          "name": "stdout",
          "text": [
            "n_shots=5, Run=15, Accuracy: 74.30 %\n"
          ]
        },
        {
          "output_type": "stream",
          "name": "stderr",
          "text": [
            "\n",
            "100%|██████████████████████████| 10/10 [00:00<00:00, 111.06it/s, accuracy=0.711]"
          ]
        },
        {
          "output_type": "stream",
          "name": "stdout",
          "text": [
            "n_shots=6, Run=15, Accuracy: 71.05 %\n"
          ]
        },
        {
          "output_type": "stream",
          "name": "stderr",
          "text": [
            "\n",
            "100%|██████████████████████████| 10/10 [00:00<00:00, 102.46it/s, accuracy=0.714]"
          ]
        },
        {
          "output_type": "stream",
          "name": "stdout",
          "text": [
            "n_shots=8, Run=15, Accuracy: 71.35 %\n"
          ]
        },
        {
          "output_type": "stream",
          "name": "stderr",
          "text": [
            "\n",
            "100%|██████████████████████████| 10/10 [00:00<00:00, 109.39it/s, accuracy=0.784]"
          ]
        },
        {
          "output_type": "stream",
          "name": "stdout",
          "text": [
            "n_shots=10, Run=15, Accuracy: 78.40 %\n"
          ]
        },
        {
          "output_type": "stream",
          "name": "stderr",
          "text": [
            "\n",
            "100%|██████████████████████████| 10/10 [00:00<00:00, 111.09it/s, accuracy=0.749]"
          ]
        },
        {
          "output_type": "stream",
          "name": "stdout",
          "text": [
            "n_shots=12, Run=15, Accuracy: 74.85 %\n"
          ]
        },
        {
          "output_type": "stream",
          "name": "stderr",
          "text": [
            "\n",
            "100%|██████████████████████████| 10/10 [00:00<00:00, 111.61it/s, accuracy=0.785]"
          ]
        },
        {
          "output_type": "stream",
          "name": "stdout",
          "text": [
            "n_shots=16, Run=15, Accuracy: 78.50 %\n"
          ]
        },
        {
          "output_type": "stream",
          "name": "stderr",
          "text": [
            "\n",
            "100%|██████████████████████████| 10/10 [00:00<00:00, 108.93it/s, accuracy=0.806]"
          ]
        },
        {
          "output_type": "stream",
          "name": "stdout",
          "text": [
            "n_shots=24, Run=15, Accuracy: 80.60 %\n"
          ]
        },
        {
          "output_type": "stream",
          "name": "stderr",
          "text": [
            "\n",
            "100%|██████████████████████████| 10/10 [00:00<00:00, 105.35it/s, accuracy=0.817]"
          ]
        },
        {
          "output_type": "stream",
          "name": "stdout",
          "text": [
            "n_shots=32, Run=15, Accuracy: 81.70 %\n"
          ]
        },
        {
          "output_type": "stream",
          "name": "stderr",
          "text": [
            "\n",
            "100%|██████████████████████████| 10/10 [00:00<00:00, 100.35it/s, accuracy=0.632]"
          ]
        },
        {
          "output_type": "stream",
          "name": "stdout",
          "text": [
            "n_shots=1, Run=16, Accuracy: 63.25 %\n"
          ]
        },
        {
          "output_type": "stream",
          "name": "stderr",
          "text": [
            "\n",
            "100%|███████████████████████████| 10/10 [00:00<00:00, 105.65it/s, accuracy=0.62]"
          ]
        },
        {
          "output_type": "stream",
          "name": "stdout",
          "text": [
            "n_shots=2, Run=16, Accuracy: 62.00 %\n"
          ]
        },
        {
          "output_type": "stream",
          "name": "stderr",
          "text": [
            "\n",
            "100%|██████████████████████████| 10/10 [00:00<00:00, 110.04it/s, accuracy=0.648]"
          ]
        },
        {
          "output_type": "stream",
          "name": "stdout",
          "text": [
            "n_shots=3, Run=16, Accuracy: 64.85 %\n"
          ]
        },
        {
          "output_type": "stream",
          "name": "stderr",
          "text": [
            "\n",
            "100%|██████████████████████████| 10/10 [00:00<00:00, 115.57it/s, accuracy=0.708]"
          ]
        },
        {
          "output_type": "stream",
          "name": "stdout",
          "text": [
            "n_shots=4, Run=16, Accuracy: 70.75 %\n"
          ]
        },
        {
          "output_type": "stream",
          "name": "stderr",
          "text": [
            "\n",
            "100%|██████████████████████████| 10/10 [00:00<00:00, 108.61it/s, accuracy=0.735]"
          ]
        },
        {
          "output_type": "stream",
          "name": "stdout",
          "text": [
            "n_shots=5, Run=16, Accuracy: 73.45 %\n"
          ]
        },
        {
          "output_type": "stream",
          "name": "stderr",
          "text": [
            "\n",
            "100%|███████████████████████████| 10/10 [00:00<00:00, 107.55it/s, accuracy=0.71]"
          ]
        },
        {
          "output_type": "stream",
          "name": "stdout",
          "text": [
            "n_shots=6, Run=16, Accuracy: 70.95 %\n"
          ]
        },
        {
          "output_type": "stream",
          "name": "stderr",
          "text": [
            "\n",
            "100%|██████████████████████████| 10/10 [00:00<00:00, 110.76it/s, accuracy=0.721]"
          ]
        },
        {
          "output_type": "stream",
          "name": "stdout",
          "text": [
            "n_shots=8, Run=16, Accuracy: 72.05 %\n"
          ]
        },
        {
          "output_type": "stream",
          "name": "stderr",
          "text": [
            "\n",
            "100%|██████████████████████████| 10/10 [00:00<00:00, 109.49it/s, accuracy=0.753]"
          ]
        },
        {
          "output_type": "stream",
          "name": "stdout",
          "text": [
            "n_shots=10, Run=16, Accuracy: 75.30 %\n"
          ]
        },
        {
          "output_type": "stream",
          "name": "stderr",
          "text": [
            "\n",
            "100%|███████████████████████████| 10/10 [00:00<00:00, 110.74it/s, accuracy=0.75]"
          ]
        },
        {
          "output_type": "stream",
          "name": "stdout",
          "text": [
            "n_shots=12, Run=16, Accuracy: 75.00 %\n"
          ]
        },
        {
          "output_type": "stream",
          "name": "stderr",
          "text": [
            "\n",
            "100%|██████████████████████████| 10/10 [00:00<00:00, 109.97it/s, accuracy=0.756]"
          ]
        },
        {
          "output_type": "stream",
          "name": "stdout",
          "text": [
            "n_shots=16, Run=16, Accuracy: 75.65 %\n"
          ]
        },
        {
          "output_type": "stream",
          "name": "stderr",
          "text": [
            "\n",
            "100%|██████████████████████████| 10/10 [00:00<00:00, 113.90it/s, accuracy=0.816]"
          ]
        },
        {
          "output_type": "stream",
          "name": "stdout",
          "text": [
            "n_shots=24, Run=16, Accuracy: 81.60 %\n"
          ]
        },
        {
          "output_type": "stream",
          "name": "stderr",
          "text": [
            "\n",
            "100%|██████████████████████████| 10/10 [00:00<00:00, 108.37it/s, accuracy=0.817]"
          ]
        },
        {
          "output_type": "stream",
          "name": "stdout",
          "text": [
            "n_shots=32, Run=16, Accuracy: 81.65 %\n"
          ]
        },
        {
          "output_type": "stream",
          "name": "stderr",
          "text": [
            "\n",
            "100%|██████████████████████████| 10/10 [00:00<00:00, 110.52it/s, accuracy=0.524]"
          ]
        },
        {
          "output_type": "stream",
          "name": "stdout",
          "text": [
            "n_shots=1, Run=17, Accuracy: 52.40 %\n"
          ]
        },
        {
          "output_type": "stream",
          "name": "stderr",
          "text": [
            "\n",
            "100%|██████████████████████████| 10/10 [00:00<00:00, 113.80it/s, accuracy=0.656]\n"
          ]
        },
        {
          "output_type": "stream",
          "name": "stdout",
          "text": [
            "n_shots=2, Run=17, Accuracy: 65.65 %\n"
          ]
        },
        {
          "output_type": "stream",
          "name": "stderr",
          "text": [
            "100%|██████████████████████████| 10/10 [00:00<00:00, 114.41it/s, accuracy=0.669]\n"
          ]
        },
        {
          "output_type": "stream",
          "name": "stdout",
          "text": [
            "n_shots=3, Run=17, Accuracy: 66.90 %\n"
          ]
        },
        {
          "output_type": "stream",
          "name": "stderr",
          "text": [
            "100%|██████████████████████████| 10/10 [00:00<00:00, 107.73it/s, accuracy=0.666]"
          ]
        },
        {
          "output_type": "stream",
          "name": "stdout",
          "text": [
            "n_shots=4, Run=17, Accuracy: 66.60 %\n"
          ]
        },
        {
          "output_type": "stream",
          "name": "stderr",
          "text": [
            "\n",
            "100%|██████████████████████████| 10/10 [00:00<00:00, 114.50it/s, accuracy=0.696]"
          ]
        },
        {
          "output_type": "stream",
          "name": "stdout",
          "text": [
            "n_shots=5, Run=17, Accuracy: 69.60 %\n"
          ]
        },
        {
          "output_type": "stream",
          "name": "stderr",
          "text": [
            "\n",
            "100%|██████████████████████████| 10/10 [00:00<00:00, 108.70it/s, accuracy=0.713]"
          ]
        },
        {
          "output_type": "stream",
          "name": "stdout",
          "text": [
            "n_shots=6, Run=17, Accuracy: 71.30 %\n"
          ]
        },
        {
          "output_type": "stream",
          "name": "stderr",
          "text": [
            "\n",
            "100%|███████████████████████████| 10/10 [00:00<00:00, 108.59it/s, accuracy=0.75]"
          ]
        },
        {
          "output_type": "stream",
          "name": "stdout",
          "text": [
            "n_shots=8, Run=17, Accuracy: 75.05 %\n"
          ]
        },
        {
          "output_type": "stream",
          "name": "stderr",
          "text": [
            "\n",
            "100%|██████████████████████████| 10/10 [00:00<00:00, 112.10it/s, accuracy=0.752]"
          ]
        },
        {
          "output_type": "stream",
          "name": "stdout",
          "text": [
            "n_shots=10, Run=17, Accuracy: 75.25 %\n"
          ]
        },
        {
          "output_type": "stream",
          "name": "stderr",
          "text": [
            "\n",
            "100%|██████████████████████████| 10/10 [00:00<00:00, 113.44it/s, accuracy=0.716]"
          ]
        },
        {
          "output_type": "stream",
          "name": "stdout",
          "text": [
            "n_shots=12, Run=17, Accuracy: 71.55 %\n"
          ]
        },
        {
          "output_type": "stream",
          "name": "stderr",
          "text": [
            "\n",
            "100%|██████████████████████████| 10/10 [00:00<00:00, 109.58it/s, accuracy=0.805]"
          ]
        },
        {
          "output_type": "stream",
          "name": "stdout",
          "text": [
            "n_shots=16, Run=17, Accuracy: 80.55 %\n"
          ]
        },
        {
          "output_type": "stream",
          "name": "stderr",
          "text": [
            "\n",
            "100%|██████████████████████████| 10/10 [00:00<00:00, 103.23it/s, accuracy=0.825]"
          ]
        },
        {
          "output_type": "stream",
          "name": "stdout",
          "text": [
            "n_shots=24, Run=17, Accuracy: 82.50 %\n"
          ]
        },
        {
          "output_type": "stream",
          "name": "stderr",
          "text": [
            "\n",
            "100%|██████████████████████████| 10/10 [00:00<00:00, 108.18it/s, accuracy=0.821]"
          ]
        },
        {
          "output_type": "stream",
          "name": "stdout",
          "text": [
            "n_shots=32, Run=17, Accuracy: 82.05 %\n"
          ]
        },
        {
          "output_type": "stream",
          "name": "stderr",
          "text": [
            "\n",
            "100%|██████████████████████████| 10/10 [00:00<00:00, 105.30it/s, accuracy=0.567]"
          ]
        },
        {
          "output_type": "stream",
          "name": "stdout",
          "text": [
            "n_shots=1, Run=18, Accuracy: 56.70 %\n"
          ]
        },
        {
          "output_type": "stream",
          "name": "stderr",
          "text": [
            "\n",
            "100%|██████████████████████████| 10/10 [00:00<00:00, 116.51it/s, accuracy=0.671]\n"
          ]
        },
        {
          "output_type": "stream",
          "name": "stdout",
          "text": [
            "n_shots=2, Run=18, Accuracy: 67.15 %\n"
          ]
        },
        {
          "output_type": "stream",
          "name": "stderr",
          "text": [
            "100%|██████████████████████████| 10/10 [00:00<00:00, 107.59it/s, accuracy=0.715]"
          ]
        },
        {
          "output_type": "stream",
          "name": "stdout",
          "text": [
            "n_shots=3, Run=18, Accuracy: 71.45 %\n"
          ]
        },
        {
          "output_type": "stream",
          "name": "stderr",
          "text": [
            "\n",
            "100%|██████████████████████████| 10/10 [00:00<00:00, 105.70it/s, accuracy=0.697]"
          ]
        },
        {
          "output_type": "stream",
          "name": "stdout",
          "text": [
            "n_shots=4, Run=18, Accuracy: 69.70 %\n"
          ]
        },
        {
          "output_type": "stream",
          "name": "stderr",
          "text": [
            "\n",
            "100%|██████████████████████████| 10/10 [00:00<00:00, 106.62it/s, accuracy=0.678]"
          ]
        },
        {
          "output_type": "stream",
          "name": "stdout",
          "text": [
            "n_shots=5, Run=18, Accuracy: 67.80 %\n"
          ]
        },
        {
          "output_type": "stream",
          "name": "stderr",
          "text": [
            "\n",
            "100%|██████████████████████████| 10/10 [00:00<00:00, 113.19it/s, accuracy=0.712]"
          ]
        },
        {
          "output_type": "stream",
          "name": "stdout",
          "text": [
            "n_shots=6, Run=18, Accuracy: 71.20 %\n"
          ]
        },
        {
          "output_type": "stream",
          "name": "stderr",
          "text": [
            "\n",
            "100%|██████████████████████████| 10/10 [00:00<00:00, 113.59it/s, accuracy=0.742]"
          ]
        },
        {
          "output_type": "stream",
          "name": "stdout",
          "text": [
            "n_shots=8, Run=18, Accuracy: 74.20 %\n"
          ]
        },
        {
          "output_type": "stream",
          "name": "stderr",
          "text": [
            "\n",
            "100%|███████████████████████████| 10/10 [00:00<00:00, 116.27it/s, accuracy=0.73]\n"
          ]
        },
        {
          "output_type": "stream",
          "name": "stdout",
          "text": [
            "n_shots=10, Run=18, Accuracy: 73.00 %\n"
          ]
        },
        {
          "output_type": "stream",
          "name": "stderr",
          "text": [
            "100%|██████████████████████████| 10/10 [00:00<00:00, 109.84it/s, accuracy=0.763]"
          ]
        },
        {
          "output_type": "stream",
          "name": "stdout",
          "text": [
            "n_shots=12, Run=18, Accuracy: 76.35 %\n"
          ]
        },
        {
          "output_type": "stream",
          "name": "stderr",
          "text": [
            "\n",
            "100%|██████████████████████████| 10/10 [00:00<00:00, 106.79it/s, accuracy=0.795]"
          ]
        },
        {
          "output_type": "stream",
          "name": "stdout",
          "text": [
            "n_shots=16, Run=18, Accuracy: 79.50 %\n"
          ]
        },
        {
          "output_type": "stream",
          "name": "stderr",
          "text": [
            "\n",
            "100%|██████████████████████████| 10/10 [00:00<00:00, 103.80it/s, accuracy=0.818]"
          ]
        },
        {
          "output_type": "stream",
          "name": "stdout",
          "text": [
            "n_shots=24, Run=18, Accuracy: 81.75 %\n"
          ]
        },
        {
          "output_type": "stream",
          "name": "stderr",
          "text": [
            "\n",
            "100%|██████████████████████████| 10/10 [00:00<00:00, 104.86it/s, accuracy=0.814]"
          ]
        },
        {
          "output_type": "stream",
          "name": "stdout",
          "text": [
            "n_shots=32, Run=18, Accuracy: 81.40 %\n"
          ]
        },
        {
          "output_type": "stream",
          "name": "stderr",
          "text": [
            "\n",
            "100%|██████████████████████████| 10/10 [00:00<00:00, 104.41it/s, accuracy=0.625]"
          ]
        },
        {
          "output_type": "stream",
          "name": "stdout",
          "text": [
            "n_shots=1, Run=19, Accuracy: 62.45 %\n"
          ]
        },
        {
          "output_type": "stream",
          "name": "stderr",
          "text": [
            "\n",
            "100%|██████████████████████████| 10/10 [00:00<00:00, 110.67it/s, accuracy=0.663]"
          ]
        },
        {
          "output_type": "stream",
          "name": "stdout",
          "text": [
            "n_shots=2, Run=19, Accuracy: 66.30 %\n"
          ]
        },
        {
          "output_type": "stream",
          "name": "stderr",
          "text": [
            "\n",
            "100%|██████████████████████████| 10/10 [00:00<00:00, 110.76it/s, accuracy=0.686]"
          ]
        },
        {
          "output_type": "stream",
          "name": "stdout",
          "text": [
            "n_shots=3, Run=19, Accuracy: 68.60 %\n"
          ]
        },
        {
          "output_type": "stream",
          "name": "stderr",
          "text": [
            "\n",
            "100%|███████████████████████████| 10/10 [00:00<00:00, 114.65it/s, accuracy=0.71]"
          ]
        },
        {
          "output_type": "stream",
          "name": "stdout",
          "text": [
            "n_shots=4, Run=19, Accuracy: 70.95 %\n"
          ]
        },
        {
          "output_type": "stream",
          "name": "stderr",
          "text": [
            "\n",
            "100%|██████████████████████████| 10/10 [00:00<00:00, 111.99it/s, accuracy=0.686]"
          ]
        },
        {
          "output_type": "stream",
          "name": "stdout",
          "text": [
            "n_shots=5, Run=19, Accuracy: 68.60 %\n"
          ]
        },
        {
          "output_type": "stream",
          "name": "stderr",
          "text": [
            "\n",
            "100%|██████████████████████████| 10/10 [00:00<00:00, 107.52it/s, accuracy=0.677]"
          ]
        },
        {
          "output_type": "stream",
          "name": "stdout",
          "text": [
            "n_shots=6, Run=19, Accuracy: 67.75 %\n"
          ]
        },
        {
          "output_type": "stream",
          "name": "stderr",
          "text": [
            "\n",
            "100%|██████████████████████████| 10/10 [00:00<00:00, 112.52it/s, accuracy=0.741]"
          ]
        },
        {
          "output_type": "stream",
          "name": "stdout",
          "text": [
            "n_shots=8, Run=19, Accuracy: 74.05 %\n"
          ]
        },
        {
          "output_type": "stream",
          "name": "stderr",
          "text": [
            "\n",
            "100%|██████████████████████████| 10/10 [00:00<00:00, 115.33it/s, accuracy=0.768]\n"
          ]
        },
        {
          "output_type": "stream",
          "name": "stdout",
          "text": [
            "n_shots=10, Run=19, Accuracy: 76.80 %\n"
          ]
        },
        {
          "output_type": "stream",
          "name": "stderr",
          "text": [
            "100%|██████████████████████████| 10/10 [00:00<00:00, 111.00it/s, accuracy=0.754]"
          ]
        },
        {
          "output_type": "stream",
          "name": "stdout",
          "text": [
            "n_shots=12, Run=19, Accuracy: 75.45 %\n"
          ]
        },
        {
          "output_type": "stream",
          "name": "stderr",
          "text": [
            "\n",
            "100%|██████████████████████████| 10/10 [00:00<00:00, 101.62it/s, accuracy=0.796]"
          ]
        },
        {
          "output_type": "stream",
          "name": "stdout",
          "text": [
            "n_shots=16, Run=19, Accuracy: 79.65 %\n"
          ]
        },
        {
          "output_type": "stream",
          "name": "stderr",
          "text": [
            "\n",
            "100%|██████████████████████████| 10/10 [00:00<00:00, 106.58it/s, accuracy=0.804]"
          ]
        },
        {
          "output_type": "stream",
          "name": "stdout",
          "text": [
            "n_shots=24, Run=19, Accuracy: 80.45 %\n"
          ]
        },
        {
          "output_type": "stream",
          "name": "stderr",
          "text": [
            "\n",
            "100%|██████████████████████████| 10/10 [00:00<00:00, 109.46it/s, accuracy=0.808]"
          ]
        },
        {
          "output_type": "stream",
          "name": "stdout",
          "text": [
            "n_shots=32, Run=19, Accuracy: 80.80 %\n"
          ]
        },
        {
          "output_type": "stream",
          "name": "stderr",
          "text": [
            "\n",
            "100%|██████████████████████████| 10/10 [00:00<00:00, 110.22it/s, accuracy=0.546]"
          ]
        },
        {
          "output_type": "stream",
          "name": "stdout",
          "text": [
            "n_shots=1, Run=20, Accuracy: 54.65 %\n"
          ]
        },
        {
          "output_type": "stream",
          "name": "stderr",
          "text": [
            "\n",
            "100%|██████████████████████████| 10/10 [00:00<00:00, 114.65it/s, accuracy=0.657]\n"
          ]
        },
        {
          "output_type": "stream",
          "name": "stdout",
          "text": [
            "n_shots=2, Run=20, Accuracy: 65.75 %\n"
          ]
        },
        {
          "output_type": "stream",
          "name": "stderr",
          "text": [
            "100%|██████████████████████████| 10/10 [00:00<00:00, 107.70it/s, accuracy=0.671]"
          ]
        },
        {
          "output_type": "stream",
          "name": "stdout",
          "text": [
            "n_shots=3, Run=20, Accuracy: 67.10 %\n"
          ]
        },
        {
          "output_type": "stream",
          "name": "stderr",
          "text": [
            "\n",
            "100%|██████████████████████████| 10/10 [00:00<00:00, 108.39it/s, accuracy=0.691]"
          ]
        },
        {
          "output_type": "stream",
          "name": "stdout",
          "text": [
            "n_shots=4, Run=20, Accuracy: 69.05 %\n"
          ]
        },
        {
          "output_type": "stream",
          "name": "stderr",
          "text": [
            "\n",
            "100%|██████████████████████████| 10/10 [00:00<00:00, 107.90it/s, accuracy=0.692]"
          ]
        },
        {
          "output_type": "stream",
          "name": "stdout",
          "text": [
            "n_shots=5, Run=20, Accuracy: 69.20 %\n"
          ]
        },
        {
          "output_type": "stream",
          "name": "stderr",
          "text": [
            "\n",
            "100%|███████████████████████████| 10/10 [00:00<00:00, 112.03it/s, accuracy=0.74]"
          ]
        },
        {
          "output_type": "stream",
          "name": "stdout",
          "text": [
            "n_shots=6, Run=20, Accuracy: 74.00 %\n"
          ]
        },
        {
          "output_type": "stream",
          "name": "stderr",
          "text": [
            "\n",
            "100%|██████████████████████████| 10/10 [00:00<00:00, 109.78it/s, accuracy=0.734]"
          ]
        },
        {
          "output_type": "stream",
          "name": "stdout",
          "text": [
            "n_shots=8, Run=20, Accuracy: 73.35 %\n"
          ]
        },
        {
          "output_type": "stream",
          "name": "stderr",
          "text": [
            "\n",
            "100%|███████████████████████████| 10/10 [00:00<00:00, 111.05it/s, accuracy=0.79]"
          ]
        },
        {
          "output_type": "stream",
          "name": "stdout",
          "text": [
            "n_shots=10, Run=20, Accuracy: 79.00 %\n"
          ]
        },
        {
          "output_type": "stream",
          "name": "stderr",
          "text": [
            "\n",
            "100%|██████████████████████████| 10/10 [00:00<00:00, 111.35it/s, accuracy=0.781]"
          ]
        },
        {
          "output_type": "stream",
          "name": "stdout",
          "text": [
            "n_shots=12, Run=20, Accuracy: 78.15 %\n"
          ]
        },
        {
          "output_type": "stream",
          "name": "stderr",
          "text": [
            "\n",
            "100%|██████████████████████████| 10/10 [00:00<00:00, 105.45it/s, accuracy=0.772]"
          ]
        },
        {
          "output_type": "stream",
          "name": "stdout",
          "text": [
            "n_shots=16, Run=20, Accuracy: 77.20 %\n"
          ]
        },
        {
          "output_type": "stream",
          "name": "stderr",
          "text": [
            "\n",
            "100%|██████████████████████████| 10/10 [00:00<00:00, 105.71it/s, accuracy=0.807]"
          ]
        },
        {
          "output_type": "stream",
          "name": "stdout",
          "text": [
            "n_shots=24, Run=20, Accuracy: 80.70 %\n"
          ]
        },
        {
          "output_type": "stream",
          "name": "stderr",
          "text": [
            "\n",
            "100%|███████████████████████████| 10/10 [00:00<00:00, 96.01it/s, accuracy=0.794]"
          ]
        },
        {
          "output_type": "stream",
          "name": "stdout",
          "text": [
            "n_shots=32, Run=20, Accuracy: 79.40 %\n"
          ]
        },
        {
          "output_type": "stream",
          "name": "stderr",
          "text": [
            "\n"
          ]
        }
      ],
      "source": [
        "output_directory_p = Path(\"/home/rakib/models/paper_benchmarking_ssl_diverse_pathology/inference/pcam/pcam_test/moco/2\")\n",
        "\n",
        "data_to_test = Path(\"/home/rakib/data/pcamv1/pcam_test/\")\n",
        "\n",
        "testset = torchvision.datasets.ImageFolder(data_to_test, transform=transform)\n",
        "\n",
        "classes = testset.classes\n",
        "\n",
        "print(classes)\n",
        "dataloader = DataLoader(testset, batch_size=128, shuffle=False, drop_last=False)\n",
        "p_emb_df = predict_embeddings(dataloader, model, device=device)\n",
        "p_emb_dataset = FeaturesDataset.from_dataframe(p_emb_df)\n",
        "p_results_df = evaluate_few_shot_model(p_emb_dataset, model, device=device, n_way=2)\n",
        "p_results_df.sort_values([\"n_shots\", \"accuracy\"])\n",
        "\n",
        "mean_accuracies_p = p_results_df.groupby(\"n_shots\")[\"accuracy\"].mean().reset_index()\n",
        "mean_accuracies_p.rename(columns={\"accuracy\": \"mean\"}, inplace=True)\n",
        "std_accuracies_p = p_results_df.groupby(\"n_shots\")[\"accuracy\"].std().reset_index()\n",
        "std_accuracies_p.rename(columns={\"accuracy\": \"std\"}, inplace=True)\n",
        "# Merge the two DataFrames based on the 'n_shots' column\n",
        "merged_df_p = pd.merge(mean_accuracies_p, std_accuracies_p, on=\"n_shots\")\n",
        "\n",
        "# Save the average accuracy information in a separate CSV file\n",
        "acc_csv_filename = \"2way_average_accuracy_pcam-test_moco.csv\"\n",
        "merged_df_p.to_csv(os.path.join(output_directory_p, acc_csv_filename), index=False)"
      ]
    },
    {
      "cell_type": "code",
      "execution_count": null,
      "metadata": {
        "colab": {
          "base_uri": "https://localhost:8080/",
          "height": 607
        },
        "id": "_mzw6sVuEhMl",
        "outputId": "a407b63d-8421-4e97-dceb-6a56de39cd85"
      },
      "outputs": [
        {
          "output_type": "display_data",
          "data": {
            "text/plain": [
              "<Figure size 1000x600 with 1 Axes>"
            ],
            "image/png": "[encoded data removed]"
          },
          "metadata": {}
        }
      ],
      "source": [
        "# Extract n_shots and avg_accuracy columns\n",
        "shots = merged_df_k['n_shots']\n",
        "avg_acc = merged_df_k['mean']\n",
        "std_acc = merged_df_k['std']\n",
        "\n",
        "avg_acc2 = merged_df_nct['mean']\n",
        "std_acc2 = merged_df_nct['std']\n",
        "\n",
        "avg_acc3 = merged_df_p['mean']\n",
        "std_acc3 = merged_df_p['std']\n",
        "\n",
        "avg_acc4 = merged_df_t2['mean']\n",
        "std_acc4 = merged_df_t2['std']\n",
        "\n",
        "# Create the plot\n",
        "plt.figure(figsize=(10, 6))\n",
        "plt.errorbar(shots, avg_acc, yerr=std_acc, fmt='-o', color='g', label='3way kather')\n",
        "plt.errorbar(shots, avg_acc2, yerr=std_acc2, fmt='-o', color='b', label='3way nct-7k')\n",
        "plt.errorbar(shots, avg_acc3, yerr=std_acc3, fmt='-o', color='r', label='2way pcam-test')\n",
        "plt.errorbar(shots, avg_acc4, yerr=std_acc4, fmt='-o', color='k', label='3way tiger-c2')\n",
        "plt.title('MoCo-V2 Average Accuracy with Std Deviation')\n",
        "plt.xlabel('n_shots')\n",
        "plt.ylabel('Average Accuracy')\n",
        "plt.grid(True)\n",
        "plt.xticks(shots)\n",
        "plt.legend()\n",
        "plt.tight_layout()\n",
        "plot_filename = \"moco-v2_few-shot_inference.png\"\n",
        "plt.savefig(os.path.join(output_directory_k, plot_filename), dpi=600, format='png')\n",
        "\n",
        "# Show the plot\n",
        "plt.show()\n"
      ]
    },
    {
      "cell_type": "code",
      "execution_count": null,
      "metadata": {
        "id": "3qsggQ58JusW"
      },
      "outputs": [],
      "source": []
    },
    {
      "cell_type": "code",
      "execution_count": null,
      "metadata": {
        "id": "pO1QDxSiJukM"
      },
      "outputs": [],
      "source": []
    },
    {
      "cell_type": "code",
      "execution_count": null,
      "metadata": {
        "id": "ch9aIvvmJuZI"
      },
      "outputs": [],
      "source": []
    },
    {
      "cell_type": "code",
      "execution_count": null,
      "metadata": {
        "id": "XYQMwL4CJuCj"
      },
      "outputs": [],
      "source": []
    },
    {
      "cell_type": "code",
      "execution_count": null,
      "metadata": {
        "id": "rQPXj_6E_2jq"
      },
      "outputs": [],
      "source": [
        "tsne = TSNE(n_components=2, random_state=0)\n",
        "embeddings_tsne = tsne.fit_transform(embeddings)\n",
        "\n",
        "output_path_tsne = os.path.join(output_directory, \"tsne_ibot_kather.png\")\n",
        "\n",
        "# In the above tsne plot, there are numeric labels. I want to visualize them using class name\n",
        "\n",
        "string_labels = [classes[int(label)] for label in data_labels]\n",
        "create_scatter_plot(embeddings_tsne, string_labels, output_path_tsne, \"Feature Output of Model\")"
      ]
    },
    {
      "cell_type": "code",
      "execution_count": null,
      "metadata": {
        "id": "XGzRY5XP_61n"
      },
      "outputs": [],
      "source": [
        "# KMeans\n",
        "\n",
        "kmeans1 = KMeans(n_clusters=8, init='k-means++', n_init=20, random_state=10)\n",
        "k_result1 = kmeans1.fit_predict(embeddings)\n",
        "psudo1 = np.zeros_like(k_result1)\n",
        "for i in range(8):\n",
        "    mask1 = (k_result1 == i)\n",
        "    psudo1[mask1] = mode(data_labels[mask1])[0]\n",
        "output_path_k = os.path.join(output_directory, \"kmeans_ibot_kather.csv\")\n",
        "k_performance_values = evaluate_clustering(data_labels, psudo1, output_path_k)\n",
        "print(\"KMeans Performance Values:\", k_performance_values)\n",
        "# Plot confusion matrix and visualize for KMeans\n",
        "k_cm = confusion_matrix(data_labels, psudo1)\n",
        "output_path_k_cf = os.path.join(output_directory, \"kmeans_cf_ibot_kather.png\")\n",
        "plot_and_save_confusion_matrix(k_cm, testset.classes, output_path_k_cf)\n",
        "\n",
        "output_path_km_plot = os.path.join(output_directory, \"kmeans_ibot_kather.png\")\n",
        "create_scatter_plot(embeddings_tsne, psudo1, output_path_km_plot, \"KMeans Model\")"
      ]
    },
    {
      "cell_type": "code",
      "execution_count": null,
      "metadata": {
        "id": "n3qr7tKDHmJC"
      },
      "outputs": [],
      "source": []
    }
  ],
  "metadata": {
    "colab": {
      "provenance": [],
      "authorship_tag": "ABX9TyM4Ijf+aDOZ4z71X+HE2PvH",
      "include_colab_link": true
    },
    "kernelspec": {
      "display_name": "Python 3",
      "name": "python3"
    },
    "language_info": {
      "name": "python"
    }
  },
  "nbformat": 4,
  "nbformat_minor": 0
}