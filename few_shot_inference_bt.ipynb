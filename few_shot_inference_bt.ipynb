{
  "cells": [
    {
      "cell_type": "markdown",
      "metadata": {
        "id": "view-in-github",
        "colab_type": "text"
      },
      "source": [
        "<a href=\"https://colab.research.google.com/github/Kazi-Rakib-Hasan-Jawwad/Histo-FSL/blob/master/few_shot_inference_bt.ipynb\" target=\"_parent\"><img src=\"https://colab.research.google.com/assets/colab-badge.svg\" alt=\"Open In Colab\"/></a>"
      ]
    },
    {
      "cell_type": "code",
      "execution_count": null,
      "metadata": {
        "id": "qeXowYNIoWpP"
      },
      "outputs": [],
      "source": [
        "import numpy as np\n",
        "import pandas as pd\n",
        "import matplotlib.pyplot as plt\n",
        "from matplotlib.patches import Patch\n",
        "import torch\n",
        "import torchvision\n",
        "import os\n",
        "import csv\n",
        "import sys\n",
        "from typing import Optional\n",
        "from torch import nn\n",
        "from torchvision.transforms import transforms  # Transformations we can perform on our dataset\n",
        "from torch.utils.data import DataLoader  # Gives easier dataset managment and creates mini batchesFi\n",
        "import seaborn as sns\n",
        "from scipy.stats import mode\n",
        "from sklearn.cluster import KMeans\n",
        "from sklearn.metrics import confusion_matrix, accuracy_score, silhouette_score, adjusted_rand_score, normalized_mutual_info_score, v_measure_score, classification_report\n",
        "from sklearn.manifold import TSNE"
      ]
    },
    {
      "cell_type": "code",
      "execution_count": null,
      "metadata": {
        "id": "efeXfPVqojOR"
      },
      "outputs": [],
      "source": [
        "from PIL import Image\n",
        "import torch\n",
        "#from transformers import AutoImageProcessor, ViTModel\n",
        "from pathlib import Path"
      ]
    },
    {
      "cell_type": "code",
      "execution_count": null,
      "metadata": {
        "id": "A_YAOsPeGmXz"
      },
      "outputs": [],
      "source": [
        "from easyfsl.datasets import FeaturesDataset\n",
        "from easyfsl.samplers import TaskSampler\n",
        "from easyfsl.methods import PrototypicalNetworks\n",
        "from easyfsl.utils import evaluate\n",
        "from tqdm import tqdm"
      ]
    },
    {
      "cell_type": "code",
      "execution_count": null,
      "metadata": {
        "id": "I5FuAIa3pW5u"
      },
      "outputs": [],
      "source": [
        "import matplotlib.pyplot as plt\n",
        "from matplotlib.colors import LinearSegmentedColormap\n",
        "\n",
        "# Define the colors in RGB format\n",
        "gold = (255/255, 215/255, 0)  # RGB for gold\n",
        "white = (1, 1, 1)  # RGB for white\n",
        "\n",
        "# Create a custom colormap with just white and gold\n",
        "colors = [white, gold]\n",
        "cmap_name = 'WhiteGold'\n",
        "cm = LinearSegmentedColormap.from_list(cmap_name, colors, N=256)"
      ]
    },
    {
      "cell_type": "code",
      "execution_count": null,
      "metadata": {
        "colab": {
          "base_uri": "https://localhost:8080/",
          "height": 38
        },
        "id": "P2wJgzLpphj7",
        "outputId": "9c63b27b-16c1-4ff0-9fd5-c8cba9969515"
      },
      "outputs": [
        {
          "output_type": "display_data",
          "data": {
            "text/plain": [
              "<Figure size 600x100 with 1 Axes>"
            ],
            "image/png": "[encoded data removed]"
          },
          "metadata": {}
        }
      ],
      "source": [
        "# prompt: help me visualize the above colormap 'cm'\n",
        "\n",
        "# Create a gradient of values from 0 to 1\n",
        "gradient = np.linspace(0, 1, 256).reshape(1, -1)\n",
        "\n",
        "# Create a figure and axes\n",
        "fig, ax = plt.subplots(figsize=(6, 1))\n",
        "\n",
        "# Plot the gradient with the custom colormap\n",
        "ax.imshow(gradient, cmap=cm)\n",
        "\n",
        "# Turn off the axes and ticks\n",
        "ax.set_xticks([])\n",
        "ax.set_yticks([])\n",
        "ax.axis('off')\n",
        "\n",
        "# Display the figure\n",
        "plt.show()\n"
      ]
    },
    {
      "cell_type": "code",
      "execution_count": null,
      "metadata": {
        "id": "aA8XsL_teEzg"
      },
      "outputs": [],
      "source": [
        "def load_encoder_weights(encoder, weights):\n",
        "    model_dict = encoder.state_dict()\n",
        "    weights = {k: v for k, v in weights.items() if k in model_dict}\n",
        "    if weights == {}:\n",
        "        print('No weight could be loaded..')\n",
        "    model_dict.update(weights)\n",
        "    encoder.load_state_dict(model_dict)\n",
        "    return encoder"
      ]
    },
    {
      "cell_type": "code",
      "execution_count": null,
      "metadata": {
        "id": "G0MCNOpGomzn"
      },
      "outputs": [],
      "source": [
        "# Function to evaluate clustering performance\n",
        "def evaluate_clustering(data_labels, cluster_labels, save_path): #\n",
        "    accuracy = accuracy_score(data_labels, cluster_labels)\n",
        "    nmi = normalized_mutual_info_score(data_labels, cluster_labels)\n",
        "    ari = adjusted_rand_score(data_labels, cluster_labels)\n",
        "\n",
        "    results = {\"NMI\": nmi, \"ARI\": ari, \"Accuracy\": accuracy}\n",
        "    with open(save_path, \"w\", newline=\"\") as csvfile:\n",
        "        writer = csv.DictWriter(csvfile, fieldnames=[\"Metric\", \"Value\"])\n",
        "        writer.writeheader()\n",
        "        for metric, value in results.items():\n",
        "            writer.writerow({\"Metric\": metric, \"Value\": value})\n",
        "\n",
        "    return nmi, ari, accuracy\n",
        "\n",
        "def create_scatter_plot(embeddings_tsne, labels, output_path, title):\n",
        "    # Map numeric labels to string labels\n",
        "    string_labels = labels    #[classes[int(label)] for label in labels]\n",
        "    # Plot feature map\n",
        "    fig, ax = plt.subplots()\n",
        "    sns.scatterplot(x=embeddings_tsne[:, 0], y=embeddings_tsne[:, 1], hue=string_labels, palette='tab10', s=6, alpha=0.4, ax=ax)\n",
        "    ax.set_title(title)\n",
        "    ax.set_aspect('equal')\n",
        "    # Move the legend to a better position\n",
        "    legend = ax.legend(bbox_to_anchor=(1.02, 1), loc='upper left')\n",
        "    # Adjust legend orientation and spacing\n",
        "    plt.setp(legend.get_title(), fontsize='small')\n",
        "    legend.get_frame().set_alpha(None)\n",
        "    legend.get_frame().set_facecolor('none')\n",
        "    plt.tight_layout()\n",
        "    fig.savefig(output_path, dpi=900, bbox_inches='tight')\n",
        "\n",
        "def plot_and_save_confusion_matrix(cm, classes, output_path):\n",
        "    fig, ax = plt.subplots()\n",
        "    #cmap = sns.diverging_palette(220, 10, as_cmap=True)\n",
        "    #cmap = sns.color_palette(\"YlGnBu\", as_cmap=True)\n",
        "    #cmap = 'YlGnBu'\n",
        "    cmap=cm\n",
        "    sns.heatmap(cm.T, ax=ax, square=False, annot=True, fmt='d', cbar=False, xticklabels=classes, yticklabels=classes, cmap=cmap)\n",
        "    ax.set_xlabel('True label', fontsize=11)\n",
        "    ax.set_ylabel('Predicted label', fontsize=11)\n",
        "    ax.set_title('Confusion Matrix', fontsize=12)\n",
        "    #ax.set_aspect('equal')\n",
        "    # Adjust layout to prevent labels from getting cut off\n",
        "    plt.tight_layout()\n",
        "    fig.savefig(output_path, dpi=900, bbox_inches='tight')\n"
      ]
    },
    {
      "cell_type": "code",
      "execution_count": null,
      "metadata": {
        "id": "AvyrVcZZBzS7"
      },
      "outputs": [],
      "source": [
        "def predict_embeddings(\n",
        "    dataloader: DataLoader,\n",
        "    model: nn.Module,\n",
        "    device: Optional[str] = None,\n",
        ") -> pd.DataFrame:\n",
        "    \"\"\"\n",
        "    Predict embeddings for a dataloader.\n",
        "    Args:\n",
        "        dataloader: dataloader to predict embeddings for. Must deliver tuples (images, class_names)\n",
        "        model: model to use for prediction\n",
        "        device: device to cast the images to. If none, no casting is performed. Must be the same as\n",
        "            the device the model is on.\n",
        "    Returns:\n",
        "        dataframe with columns embedding and class_name\n",
        "    \"\"\"\n",
        "    all_embeddings = []\n",
        "    all_class_names = []\n",
        "    with torch.no_grad():\n",
        "        for images, class_names in tqdm(\n",
        "            dataloader, unit=\"batch\", desc=\"Predicting embeddings\"\n",
        "        ):\n",
        "            if device is not None:\n",
        "                images = images.to(device)\n",
        "            all_embeddings.append(model(images).detach().cpu())\n",
        "            if isinstance(class_names, torch.Tensor):\n",
        "                all_class_names += class_names.tolist()\n",
        "            else:\n",
        "                all_class_names += class_names\n",
        "\n",
        "    concatenated_embeddings = torch.cat(all_embeddings)\n",
        "\n",
        "    return pd.DataFrame(\n",
        "        {\"embedding\": list(concatenated_embeddings), \"class_name\": all_class_names}\n",
        "    )"
      ]
    },
    {
      "cell_type": "code",
      "execution_count": null,
      "metadata": {
        "id": "vc6ebzAmGTmq"
      },
      "outputs": [],
      "source": [
        "def evaluate_few_shot_model(features_dataset, model, device, n_way, n_shots_range=[1, 2, 3, 4, 5, 6, 8, 10, 12, 16, 24, 32], num_runs=20):\n",
        "    \"\"\"\n",
        "    Evaluate a few-shot model using the Prototypical Networks approach.\n",
        "\n",
        "    Args:\n",
        "    - features_dataset: embeddings dataset.\n",
        "    - model (torch.nn.Module): Pre-trained model for feature extraction.\n",
        "    - device (str): Device to run the evaluation on ('cpu' or 'cuda').\n",
        "    - n_shots_range (list): List of integers specifying the number of support examples per class.\n",
        "    - num_runs (int): Number of evaluation runs.\n",
        "\n",
        "    Returns:\n",
        "    - pd.DataFrame: DataFrame containing the evaluation results.\n",
        "    \"\"\"\n",
        "    # Create an empty DataFrame to store the results\n",
        "    results_df = pd.DataFrame(columns=[\"n_shots\", \"accuracy\"])\n",
        "\n",
        "    # Move the model to the specified device\n",
        "    #model.to(device)\n",
        "\n",
        "    # Iterate over the specified number of runs\n",
        "    for run in range(1, num_runs + 1):\n",
        "        # Iterate over the range of n_shots\n",
        "        for n_shots in n_shots_range:\n",
        "            # Create the task sampler and data loader for the current n_shots\n",
        "            task_sampler = TaskSampler(\n",
        "                features_dataset,\n",
        "                n_way=n_way,\n",
        "                n_shot=n_shots,\n",
        "                n_query=100,\n",
        "                n_tasks=10,\n",
        "            )\n",
        "            features_loader = DataLoader(\n",
        "                features_dataset,\n",
        "                batch_sampler=task_sampler,\n",
        "                num_workers=1,\n",
        "                pin_memory=True,\n",
        "                collate_fn=task_sampler.episodic_collate_fn,\n",
        "            )\n",
        "\n",
        "            # Create and evaluate the classifier\n",
        "            few_shot_classifier = PrototypicalNetworks(backbone=nn.Identity())\n",
        "            accuracy = evaluate(\n",
        "                few_shot_classifier,\n",
        "                features_loader,\n",
        "                device=device,\n",
        "            )\n",
        "\n",
        "            # Print and save the accuracy for each run\n",
        "            print(f\"n_shots={n_shots}, Run={run}, Accuracy: {(100 * accuracy):.2f} %\")\n",
        "\n",
        "            # Append the results to the DataFrame\n",
        "            results_df = results_df._append({\"n_shots\": n_shots, \"accuracy\": accuracy}, ignore_index=True)\n",
        "\n",
        "    return results_df"
      ]
    },
    {
      "cell_type": "code",
      "execution_count": null,
      "metadata": {
        "colab": {
          "base_uri": "https://localhost:8080/"
        },
        "id": "d5wiR1nMp4lO",
        "outputId": "e4a38e13-ceeb-4a8b-8d43-9b6b89262637"
      },
      "outputs": [
        {
          "output_type": "stream",
          "name": "stderr",
          "text": [
            "/home/rakib/project-6/lib/python3.8/site-packages/torchvision/models/_utils.py:208: UserWarning: The parameter 'pretrained' is deprecated since 0.13 and may be removed in the future, please use 'weights' instead.\n",
            "  warnings.warn(\n",
            "/home/rakib/project-6/lib/python3.8/site-packages/torchvision/models/_utils.py:223: UserWarning: Arguments other than a weight enum or `None` for 'weights' are deprecated since 0.13 and may be removed in the future. The current behavior is equivalent to passing `weights=None`.\n",
            "  warnings.warn(msg)\n"
          ]
        },
        {
          "output_type": "execute_result",
          "data": {
            "text/plain": [
              "ResNet(\n",
              "  (conv1): Conv2d(3, 64, kernel_size=(7, 7), stride=(2, 2), padding=(3, 3), bias=False)\n",
              "  (bn1): BatchNorm2d(64, eps=1e-05, momentum=0.1, affine=True, track_running_stats=True)\n",
              "  (relu): ReLU(inplace=True)\n",
              "  (maxpool): MaxPool2d(kernel_size=3, stride=2, padding=1, dilation=1, ceil_mode=False)\n",
              "  (layer1): Sequential(\n",
              "    (0): Bottleneck(\n",
              "      (conv1): Conv2d(64, 64, kernel_size=(1, 1), stride=(1, 1), bias=False)\n",
              "      (bn1): BatchNorm2d(64, eps=1e-05, momentum=0.1, affine=True, track_running_stats=True)\n",
              "      (conv2): Conv2d(64, 64, kernel_size=(3, 3), stride=(1, 1), padding=(1, 1), bias=False)\n",
              "      (bn2): BatchNorm2d(64, eps=1e-05, momentum=0.1, affine=True, track_running_stats=True)\n",
              "      (conv3): Conv2d(64, 256, kernel_size=(1, 1), stride=(1, 1), bias=False)\n",
              "      (bn3): BatchNorm2d(256, eps=1e-05, momentum=0.1, affine=True, track_running_stats=True)\n",
              "      (relu): ReLU(inplace=True)\n",
              "      (downsample): Sequential(\n",
              "        (0): Conv2d(64, 256, kernel_size=(1, 1), stride=(1, 1), bias=False)\n",
              "        (1): BatchNorm2d(256, eps=1e-05, momentum=0.1, affine=True, track_running_stats=True)\n",
              "      )\n",
              "    )\n",
              "    (1): Bottleneck(\n",
              "      (conv1): Conv2d(256, 64, kernel_size=(1, 1), stride=(1, 1), bias=False)\n",
              "      (bn1): BatchNorm2d(64, eps=1e-05, momentum=0.1, affine=True, track_running_stats=True)\n",
              "      (conv2): Conv2d(64, 64, kernel_size=(3, 3), stride=(1, 1), padding=(1, 1), bias=False)\n",
              "      (bn2): BatchNorm2d(64, eps=1e-05, momentum=0.1, affine=True, track_running_stats=True)\n",
              "      (conv3): Conv2d(64, 256, kernel_size=(1, 1), stride=(1, 1), bias=False)\n",
              "      (bn3): BatchNorm2d(256, eps=1e-05, momentum=0.1, affine=True, track_running_stats=True)\n",
              "      (relu): ReLU(inplace=True)\n",
              "    )\n",
              "    (2): Bottleneck(\n",
              "      (conv1): Conv2d(256, 64, kernel_size=(1, 1), stride=(1, 1), bias=False)\n",
              "      (bn1): BatchNorm2d(64, eps=1e-05, momentum=0.1, affine=True, track_running_stats=True)\n",
              "      (conv2): Conv2d(64, 64, kernel_size=(3, 3), stride=(1, 1), padding=(1, 1), bias=False)\n",
              "      (bn2): BatchNorm2d(64, eps=1e-05, momentum=0.1, affine=True, track_running_stats=True)\n",
              "      (conv3): Conv2d(64, 256, kernel_size=(1, 1), stride=(1, 1), bias=False)\n",
              "      (bn3): BatchNorm2d(256, eps=1e-05, momentum=0.1, affine=True, track_running_stats=True)\n",
              "      (relu): ReLU(inplace=True)\n",
              "    )\n",
              "  )\n",
              "  (layer2): Sequential(\n",
              "    (0): Bottleneck(\n",
              "      (conv1): Conv2d(256, 128, kernel_size=(1, 1), stride=(1, 1), bias=False)\n",
              "      (bn1): BatchNorm2d(128, eps=1e-05, momentum=0.1, affine=True, track_running_stats=True)\n",
              "      (conv2): Conv2d(128, 128, kernel_size=(3, 3), stride=(2, 2), padding=(1, 1), bias=False)\n",
              "      (bn2): BatchNorm2d(128, eps=1e-05, momentum=0.1, affine=True, track_running_stats=True)\n",
              "      (conv3): Conv2d(128, 512, kernel_size=(1, 1), stride=(1, 1), bias=False)\n",
              "      (bn3): BatchNorm2d(512, eps=1e-05, momentum=0.1, affine=True, track_running_stats=True)\n",
              "      (relu): ReLU(inplace=True)\n",
              "      (downsample): Sequential(\n",
              "        (0): Conv2d(256, 512, kernel_size=(1, 1), stride=(2, 2), bias=False)\n",
              "        (1): BatchNorm2d(512, eps=1e-05, momentum=0.1, affine=True, track_running_stats=True)\n",
              "      )\n",
              "    )\n",
              "    (1): Bottleneck(\n",
              "      (conv1): Conv2d(512, 128, kernel_size=(1, 1), stride=(1, 1), bias=False)\n",
              "      (bn1): BatchNorm2d(128, eps=1e-05, momentum=0.1, affine=True, track_running_stats=True)\n",
              "      (conv2): Conv2d(128, 128, kernel_size=(3, 3), stride=(1, 1), padding=(1, 1), bias=False)\n",
              "      (bn2): BatchNorm2d(128, eps=1e-05, momentum=0.1, affine=True, track_running_stats=True)\n",
              "      (conv3): Conv2d(128, 512, kernel_size=(1, 1), stride=(1, 1), bias=False)\n",
              "      (bn3): BatchNorm2d(512, eps=1e-05, momentum=0.1, affine=True, track_running_stats=True)\n",
              "      (relu): ReLU(inplace=True)\n",
              "    )\n",
              "    (2): Bottleneck(\n",
              "      (conv1): Conv2d(512, 128, kernel_size=(1, 1), stride=(1, 1), bias=False)\n",
              "      (bn1): BatchNorm2d(128, eps=1e-05, momentum=0.1, affine=True, track_running_stats=True)\n",
              "      (conv2): Conv2d(128, 128, kernel_size=(3, 3), stride=(1, 1), padding=(1, 1), bias=False)\n",
              "      (bn2): BatchNorm2d(128, eps=1e-05, momentum=0.1, affine=True, track_running_stats=True)\n",
              "      (conv3): Conv2d(128, 512, kernel_size=(1, 1), stride=(1, 1), bias=False)\n",
              "      (bn3): BatchNorm2d(512, eps=1e-05, momentum=0.1, affine=True, track_running_stats=True)\n",
              "      (relu): ReLU(inplace=True)\n",
              "    )\n",
              "    (3): Bottleneck(\n",
              "      (conv1): Conv2d(512, 128, kernel_size=(1, 1), stride=(1, 1), bias=False)\n",
              "      (bn1): BatchNorm2d(128, eps=1e-05, momentum=0.1, affine=True, track_running_stats=True)\n",
              "      (conv2): Conv2d(128, 128, kernel_size=(3, 3), stride=(1, 1), padding=(1, 1), bias=False)\n",
              "      (bn2): BatchNorm2d(128, eps=1e-05, momentum=0.1, affine=True, track_running_stats=True)\n",
              "      (conv3): Conv2d(128, 512, kernel_size=(1, 1), stride=(1, 1), bias=False)\n",
              "      (bn3): BatchNorm2d(512, eps=1e-05, momentum=0.1, affine=True, track_running_stats=True)\n",
              "      (relu): ReLU(inplace=True)\n",
              "    )\n",
              "  )\n",
              "  (layer3): Sequential(\n",
              "    (0): Bottleneck(\n",
              "      (conv1): Conv2d(512, 256, kernel_size=(1, 1), stride=(1, 1), bias=False)\n",
              "      (bn1): BatchNorm2d(256, eps=1e-05, momentum=0.1, affine=True, track_running_stats=True)\n",
              "      (conv2): Conv2d(256, 256, kernel_size=(3, 3), stride=(2, 2), padding=(1, 1), bias=False)\n",
              "      (bn2): BatchNorm2d(256, eps=1e-05, momentum=0.1, affine=True, track_running_stats=True)\n",
              "      (conv3): Conv2d(256, 1024, kernel_size=(1, 1), stride=(1, 1), bias=False)\n",
              "      (bn3): BatchNorm2d(1024, eps=1e-05, momentum=0.1, affine=True, track_running_stats=True)\n",
              "      (relu): ReLU(inplace=True)\n",
              "      (downsample): Sequential(\n",
              "        (0): Conv2d(512, 1024, kernel_size=(1, 1), stride=(2, 2), bias=False)\n",
              "        (1): BatchNorm2d(1024, eps=1e-05, momentum=0.1, affine=True, track_running_stats=True)\n",
              "      )\n",
              "    )\n",
              "    (1): Bottleneck(\n",
              "      (conv1): Conv2d(1024, 256, kernel_size=(1, 1), stride=(1, 1), bias=False)\n",
              "      (bn1): BatchNorm2d(256, eps=1e-05, momentum=0.1, affine=True, track_running_stats=True)\n",
              "      (conv2): Conv2d(256, 256, kernel_size=(3, 3), stride=(1, 1), padding=(1, 1), bias=False)\n",
              "      (bn2): BatchNorm2d(256, eps=1e-05, momentum=0.1, affine=True, track_running_stats=True)\n",
              "      (conv3): Conv2d(256, 1024, kernel_size=(1, 1), stride=(1, 1), bias=False)\n",
              "      (bn3): BatchNorm2d(1024, eps=1e-05, momentum=0.1, affine=True, track_running_stats=True)\n",
              "      (relu): ReLU(inplace=True)\n",
              "    )\n",
              "    (2): Bottleneck(\n",
              "      (conv1): Conv2d(1024, 256, kernel_size=(1, 1), stride=(1, 1), bias=False)\n",
              "      (bn1): BatchNorm2d(256, eps=1e-05, momentum=0.1, affine=True, track_running_stats=True)\n",
              "      (conv2): Conv2d(256, 256, kernel_size=(3, 3), stride=(1, 1), padding=(1, 1), bias=False)\n",
              "      (bn2): BatchNorm2d(256, eps=1e-05, momentum=0.1, affine=True, track_running_stats=True)\n",
              "      (conv3): Conv2d(256, 1024, kernel_size=(1, 1), stride=(1, 1), bias=False)\n",
              "      (bn3): BatchNorm2d(1024, eps=1e-05, momentum=0.1, affine=True, track_running_stats=True)\n",
              "      (relu): ReLU(inplace=True)\n",
              "    )\n",
              "    (3): Bottleneck(\n",
              "      (conv1): Conv2d(1024, 256, kernel_size=(1, 1), stride=(1, 1), bias=False)\n",
              "      (bn1): BatchNorm2d(256, eps=1e-05, momentum=0.1, affine=True, track_running_stats=True)\n",
              "      (conv2): Conv2d(256, 256, kernel_size=(3, 3), stride=(1, 1), padding=(1, 1), bias=False)\n",
              "      (bn2): BatchNorm2d(256, eps=1e-05, momentum=0.1, affine=True, track_running_stats=True)\n",
              "      (conv3): Conv2d(256, 1024, kernel_size=(1, 1), stride=(1, 1), bias=False)\n",
              "      (bn3): BatchNorm2d(1024, eps=1e-05, momentum=0.1, affine=True, track_running_stats=True)\n",
              "      (relu): ReLU(inplace=True)\n",
              "    )\n",
              "    (4): Bottleneck(\n",
              "      (conv1): Conv2d(1024, 256, kernel_size=(1, 1), stride=(1, 1), bias=False)\n",
              "      (bn1): BatchNorm2d(256, eps=1e-05, momentum=0.1, affine=True, track_running_stats=True)\n",
              "      (conv2): Conv2d(256, 256, kernel_size=(3, 3), stride=(1, 1), padding=(1, 1), bias=False)\n",
              "      (bn2): BatchNorm2d(256, eps=1e-05, momentum=0.1, affine=True, track_running_stats=True)\n",
              "      (conv3): Conv2d(256, 1024, kernel_size=(1, 1), stride=(1, 1), bias=False)\n",
              "      (bn3): BatchNorm2d(1024, eps=1e-05, momentum=0.1, affine=True, track_running_stats=True)\n",
              "      (relu): ReLU(inplace=True)\n",
              "    )\n",
              "    (5): Bottleneck(\n",
              "      (conv1): Conv2d(1024, 256, kernel_size=(1, 1), stride=(1, 1), bias=False)\n",
              "      (bn1): BatchNorm2d(256, eps=1e-05, momentum=0.1, affine=True, track_running_stats=True)\n",
              "      (conv2): Conv2d(256, 256, kernel_size=(3, 3), stride=(1, 1), padding=(1, 1), bias=False)\n",
              "      (bn2): BatchNorm2d(256, eps=1e-05, momentum=0.1, affine=True, track_running_stats=True)\n",
              "      (conv3): Conv2d(256, 1024, kernel_size=(1, 1), stride=(1, 1), bias=False)\n",
              "      (bn3): BatchNorm2d(1024, eps=1e-05, momentum=0.1, affine=True, track_running_stats=True)\n",
              "      (relu): ReLU(inplace=True)\n",
              "    )\n",
              "  )\n",
              "  (layer4): Sequential(\n",
              "    (0): Bottleneck(\n",
              "      (conv1): Conv2d(1024, 512, kernel_size=(1, 1), stride=(1, 1), bias=False)\n",
              "      (bn1): BatchNorm2d(512, eps=1e-05, momentum=0.1, affine=True, track_running_stats=True)\n",
              "      (conv2): Conv2d(512, 512, kernel_size=(3, 3), stride=(2, 2), padding=(1, 1), bias=False)\n",
              "      (bn2): BatchNorm2d(512, eps=1e-05, momentum=0.1, affine=True, track_running_stats=True)\n",
              "      (conv3): Conv2d(512, 2048, kernel_size=(1, 1), stride=(1, 1), bias=False)\n",
              "      (bn3): BatchNorm2d(2048, eps=1e-05, momentum=0.1, affine=True, track_running_stats=True)\n",
              "      (relu): ReLU(inplace=True)\n",
              "      (downsample): Sequential(\n",
              "        (0): Conv2d(1024, 2048, kernel_size=(1, 1), stride=(2, 2), bias=False)\n",
              "        (1): BatchNorm2d(2048, eps=1e-05, momentum=0.1, affine=True, track_running_stats=True)\n",
              "      )\n",
              "    )\n",
              "    (1): Bottleneck(\n",
              "      (conv1): Conv2d(2048, 512, kernel_size=(1, 1), stride=(1, 1), bias=False)\n",
              "      (bn1): BatchNorm2d(512, eps=1e-05, momentum=0.1, affine=True, track_running_stats=True)\n",
              "      (conv2): Conv2d(512, 512, kernel_size=(3, 3), stride=(1, 1), padding=(1, 1), bias=False)\n",
              "      (bn2): BatchNorm2d(512, eps=1e-05, momentum=0.1, affine=True, track_running_stats=True)\n",
              "      (conv3): Conv2d(512, 2048, kernel_size=(1, 1), stride=(1, 1), bias=False)\n",
              "      (bn3): BatchNorm2d(2048, eps=1e-05, momentum=0.1, affine=True, track_running_stats=True)\n",
              "      (relu): ReLU(inplace=True)\n",
              "    )\n",
              "    (2): Bottleneck(\n",
              "      (conv1): Conv2d(2048, 512, kernel_size=(1, 1), stride=(1, 1), bias=False)\n",
              "      (bn1): BatchNorm2d(512, eps=1e-05, momentum=0.1, affine=True, track_running_stats=True)\n",
              "      (conv2): Conv2d(512, 512, kernel_size=(3, 3), stride=(1, 1), padding=(1, 1), bias=False)\n",
              "      (bn2): BatchNorm2d(512, eps=1e-05, momentum=0.1, affine=True, track_running_stats=True)\n",
              "      (conv3): Conv2d(512, 2048, kernel_size=(1, 1), stride=(1, 1), bias=False)\n",
              "      (bn3): BatchNorm2d(2048, eps=1e-05, momentum=0.1, affine=True, track_running_stats=True)\n",
              "      (relu): ReLU(inplace=True)\n",
              "    )\n",
              "  )\n",
              "  (avgpool): AdaptiveAvgPool2d(output_size=(1, 1))\n",
              "  (fc): Identity()\n",
              ")"
            ]
          },
          "metadata": {},
          "execution_count": 52
        }
      ],
      "source": [
        "device = torch.device(\"cuda\" if torch.cuda.is_available() else \"cpu\")\n",
        "\n",
        "# load barlow-twins\n",
        "encoder = torchvision.models.__dict__['resnet50'](pretrained=False)\n",
        "path = \"/home/rakib/models/paper_benchmarking_ssl_diverse_pathology/bt_rn50_ep200.torch\"\n",
        "state_dict = torch.load(path, map_location='cuda:0')\n",
        "#state_dict = state['state_dict']\n",
        "encoder.fc = torch.nn.Identity()\n",
        "model = load_encoder_weights(encoder, state_dict)\n",
        "\n",
        "model.to(device)\n",
        "model.eval()"
      ]
    },
    {
      "cell_type": "code",
      "source": [
        "model.parameters"
      ],
      "metadata": {
        "colab": {
          "base_uri": "https://localhost:8080/"
        },
        "id": "uIfwMx4-zQo2",
        "outputId": "cd21fbea-8699-4cab-c8dd-c781722b6205"
      },
      "execution_count": null,
      "outputs": [
        {
          "output_type": "execute_result",
          "data": {
            "text/plain": [
              "<bound method Module.parameters of ResNet(\n",
              "  (conv1): Conv2d(3, 64, kernel_size=(7, 7), stride=(2, 2), padding=(3, 3), bias=False)\n",
              "  (bn1): BatchNorm2d(64, eps=1e-05, momentum=0.1, affine=True, track_running_stats=True)\n",
              "  (relu): ReLU(inplace=True)\n",
              "  (maxpool): MaxPool2d(kernel_size=3, stride=2, padding=1, dilation=1, ceil_mode=False)\n",
              "  (layer1): Sequential(\n",
              "    (0): Bottleneck(\n",
              "      (conv1): Conv2d(64, 64, kernel_size=(1, 1), stride=(1, 1), bias=False)\n",
              "      (bn1): BatchNorm2d(64, eps=1e-05, momentum=0.1, affine=True, track_running_stats=True)\n",
              "      (conv2): Conv2d(64, 64, kernel_size=(3, 3), stride=(1, 1), padding=(1, 1), bias=False)\n",
              "      (bn2): BatchNorm2d(64, eps=1e-05, momentum=0.1, affine=True, track_running_stats=True)\n",
              "      (conv3): Conv2d(64, 256, kernel_size=(1, 1), stride=(1, 1), bias=False)\n",
              "      (bn3): BatchNorm2d(256, eps=1e-05, momentum=0.1, affine=True, track_running_stats=True)\n",
              "      (relu): ReLU(inplace=True)\n",
              "      (downsample): Sequential(\n",
              "        (0): Conv2d(64, 256, kernel_size=(1, 1), stride=(1, 1), bias=False)\n",
              "        (1): BatchNorm2d(256, eps=1e-05, momentum=0.1, affine=True, track_running_stats=True)\n",
              "      )\n",
              "    )\n",
              "    (1): Bottleneck(\n",
              "      (conv1): Conv2d(256, 64, kernel_size=(1, 1), stride=(1, 1), bias=False)\n",
              "      (bn1): BatchNorm2d(64, eps=1e-05, momentum=0.1, affine=True, track_running_stats=True)\n",
              "      (conv2): Conv2d(64, 64, kernel_size=(3, 3), stride=(1, 1), padding=(1, 1), bias=False)\n",
              "      (bn2): BatchNorm2d(64, eps=1e-05, momentum=0.1, affine=True, track_running_stats=True)\n",
              "      (conv3): Conv2d(64, 256, kernel_size=(1, 1), stride=(1, 1), bias=False)\n",
              "      (bn3): BatchNorm2d(256, eps=1e-05, momentum=0.1, affine=True, track_running_stats=True)\n",
              "      (relu): ReLU(inplace=True)\n",
              "    )\n",
              "    (2): Bottleneck(\n",
              "      (conv1): Conv2d(256, 64, kernel_size=(1, 1), stride=(1, 1), bias=False)\n",
              "      (bn1): BatchNorm2d(64, eps=1e-05, momentum=0.1, affine=True, track_running_stats=True)\n",
              "      (conv2): Conv2d(64, 64, kernel_size=(3, 3), stride=(1, 1), padding=(1, 1), bias=False)\n",
              "      (bn2): BatchNorm2d(64, eps=1e-05, momentum=0.1, affine=True, track_running_stats=True)\n",
              "      (conv3): Conv2d(64, 256, kernel_size=(1, 1), stride=(1, 1), bias=False)\n",
              "      (bn3): BatchNorm2d(256, eps=1e-05, momentum=0.1, affine=True, track_running_stats=True)\n",
              "      (relu): ReLU(inplace=True)\n",
              "    )\n",
              "  )\n",
              "  (layer2): Sequential(\n",
              "    (0): Bottleneck(\n",
              "      (conv1): Conv2d(256, 128, kernel_size=(1, 1), stride=(1, 1), bias=False)\n",
              "      (bn1): BatchNorm2d(128, eps=1e-05, momentum=0.1, affine=True, track_running_stats=True)\n",
              "      (conv2): Conv2d(128, 128, kernel_size=(3, 3), stride=(2, 2), padding=(1, 1), bias=False)\n",
              "      (bn2): BatchNorm2d(128, eps=1e-05, momentum=0.1, affine=True, track_running_stats=True)\n",
              "      (conv3): Conv2d(128, 512, kernel_size=(1, 1), stride=(1, 1), bias=False)\n",
              "      (bn3): BatchNorm2d(512, eps=1e-05, momentum=0.1, affine=True, track_running_stats=True)\n",
              "      (relu): ReLU(inplace=True)\n",
              "      (downsample): Sequential(\n",
              "        (0): Conv2d(256, 512, kernel_size=(1, 1), stride=(2, 2), bias=False)\n",
              "        (1): BatchNorm2d(512, eps=1e-05, momentum=0.1, affine=True, track_running_stats=True)\n",
              "      )\n",
              "    )\n",
              "    (1): Bottleneck(\n",
              "      (conv1): Conv2d(512, 128, kernel_size=(1, 1), stride=(1, 1), bias=False)\n",
              "      (bn1): BatchNorm2d(128, eps=1e-05, momentum=0.1, affine=True, track_running_stats=True)\n",
              "      (conv2): Conv2d(128, 128, kernel_size=(3, 3), stride=(1, 1), padding=(1, 1), bias=False)\n",
              "      (bn2): BatchNorm2d(128, eps=1e-05, momentum=0.1, affine=True, track_running_stats=True)\n",
              "      (conv3): Conv2d(128, 512, kernel_size=(1, 1), stride=(1, 1), bias=False)\n",
              "      (bn3): BatchNorm2d(512, eps=1e-05, momentum=0.1, affine=True, track_running_stats=True)\n",
              "      (relu): ReLU(inplace=True)\n",
              "    )\n",
              "    (2): Bottleneck(\n",
              "      (conv1): Conv2d(512, 128, kernel_size=(1, 1), stride=(1, 1), bias=False)\n",
              "      (bn1): BatchNorm2d(128, eps=1e-05, momentum=0.1, affine=True, track_running_stats=True)\n",
              "      (conv2): Conv2d(128, 128, kernel_size=(3, 3), stride=(1, 1), padding=(1, 1), bias=False)\n",
              "      (bn2): BatchNorm2d(128, eps=1e-05, momentum=0.1, affine=True, track_running_stats=True)\n",
              "      (conv3): Conv2d(128, 512, kernel_size=(1, 1), stride=(1, 1), bias=False)\n",
              "      (bn3): BatchNorm2d(512, eps=1e-05, momentum=0.1, affine=True, track_running_stats=True)\n",
              "      (relu): ReLU(inplace=True)\n",
              "    )\n",
              "    (3): Bottleneck(\n",
              "      (conv1): Conv2d(512, 128, kernel_size=(1, 1), stride=(1, 1), bias=False)\n",
              "      (bn1): BatchNorm2d(128, eps=1e-05, momentum=0.1, affine=True, track_running_stats=True)\n",
              "      (conv2): Conv2d(128, 128, kernel_size=(3, 3), stride=(1, 1), padding=(1, 1), bias=False)\n",
              "      (bn2): BatchNorm2d(128, eps=1e-05, momentum=0.1, affine=True, track_running_stats=True)\n",
              "      (conv3): Conv2d(128, 512, kernel_size=(1, 1), stride=(1, 1), bias=False)\n",
              "      (bn3): BatchNorm2d(512, eps=1e-05, momentum=0.1, affine=True, track_running_stats=True)\n",
              "      (relu): ReLU(inplace=True)\n",
              "    )\n",
              "  )\n",
              "  (layer3): Sequential(\n",
              "    (0): Bottleneck(\n",
              "      (conv1): Conv2d(512, 256, kernel_size=(1, 1), stride=(1, 1), bias=False)\n",
              "      (bn1): BatchNorm2d(256, eps=1e-05, momentum=0.1, affine=True, track_running_stats=True)\n",
              "      (conv2): Conv2d(256, 256, kernel_size=(3, 3), stride=(2, 2), padding=(1, 1), bias=False)\n",
              "      (bn2): BatchNorm2d(256, eps=1e-05, momentum=0.1, affine=True, track_running_stats=True)\n",
              "      (conv3): Conv2d(256, 1024, kernel_size=(1, 1), stride=(1, 1), bias=False)\n",
              "      (bn3): BatchNorm2d(1024, eps=1e-05, momentum=0.1, affine=True, track_running_stats=True)\n",
              "      (relu): ReLU(inplace=True)\n",
              "      (downsample): Sequential(\n",
              "        (0): Conv2d(512, 1024, kernel_size=(1, 1), stride=(2, 2), bias=False)\n",
              "        (1): BatchNorm2d(1024, eps=1e-05, momentum=0.1, affine=True, track_running_stats=True)\n",
              "      )\n",
              "    )\n",
              "    (1): Bottleneck(\n",
              "      (conv1): Conv2d(1024, 256, kernel_size=(1, 1), stride=(1, 1), bias=False)\n",
              "      (bn1): BatchNorm2d(256, eps=1e-05, momentum=0.1, affine=True, track_running_stats=True)\n",
              "      (conv2): Conv2d(256, 256, kernel_size=(3, 3), stride=(1, 1), padding=(1, 1), bias=False)\n",
              "      (bn2): BatchNorm2d(256, eps=1e-05, momentum=0.1, affine=True, track_running_stats=True)\n",
              "      (conv3): Conv2d(256, 1024, kernel_size=(1, 1), stride=(1, 1), bias=False)\n",
              "      (bn3): BatchNorm2d(1024, eps=1e-05, momentum=0.1, affine=True, track_running_stats=True)\n",
              "      (relu): ReLU(inplace=True)\n",
              "    )\n",
              "    (2): Bottleneck(\n",
              "      (conv1): Conv2d(1024, 256, kernel_size=(1, 1), stride=(1, 1), bias=False)\n",
              "      (bn1): BatchNorm2d(256, eps=1e-05, momentum=0.1, affine=True, track_running_stats=True)\n",
              "      (conv2): Conv2d(256, 256, kernel_size=(3, 3), stride=(1, 1), padding=(1, 1), bias=False)\n",
              "      (bn2): BatchNorm2d(256, eps=1e-05, momentum=0.1, affine=True, track_running_stats=True)\n",
              "      (conv3): Conv2d(256, 1024, kernel_size=(1, 1), stride=(1, 1), bias=False)\n",
              "      (bn3): BatchNorm2d(1024, eps=1e-05, momentum=0.1, affine=True, track_running_stats=True)\n",
              "      (relu): ReLU(inplace=True)\n",
              "    )\n",
              "    (3): Bottleneck(\n",
              "      (conv1): Conv2d(1024, 256, kernel_size=(1, 1), stride=(1, 1), bias=False)\n",
              "      (bn1): BatchNorm2d(256, eps=1e-05, momentum=0.1, affine=True, track_running_stats=True)\n",
              "      (conv2): Conv2d(256, 256, kernel_size=(3, 3), stride=(1, 1), padding=(1, 1), bias=False)\n",
              "      (bn2): BatchNorm2d(256, eps=1e-05, momentum=0.1, affine=True, track_running_stats=True)\n",
              "      (conv3): Conv2d(256, 1024, kernel_size=(1, 1), stride=(1, 1), bias=False)\n",
              "      (bn3): BatchNorm2d(1024, eps=1e-05, momentum=0.1, affine=True, track_running_stats=True)\n",
              "      (relu): ReLU(inplace=True)\n",
              "    )\n",
              "    (4): Bottleneck(\n",
              "      (conv1): Conv2d(1024, 256, kernel_size=(1, 1), stride=(1, 1), bias=False)\n",
              "      (bn1): BatchNorm2d(256, eps=1e-05, momentum=0.1, affine=True, track_running_stats=True)\n",
              "      (conv2): Conv2d(256, 256, kernel_size=(3, 3), stride=(1, 1), padding=(1, 1), bias=False)\n",
              "      (bn2): BatchNorm2d(256, eps=1e-05, momentum=0.1, affine=True, track_running_stats=True)\n",
              "      (conv3): Conv2d(256, 1024, kernel_size=(1, 1), stride=(1, 1), bias=False)\n",
              "      (bn3): BatchNorm2d(1024, eps=1e-05, momentum=0.1, affine=True, track_running_stats=True)\n",
              "      (relu): ReLU(inplace=True)\n",
              "    )\n",
              "    (5): Bottleneck(\n",
              "      (conv1): Conv2d(1024, 256, kernel_size=(1, 1), stride=(1, 1), bias=False)\n",
              "      (bn1): BatchNorm2d(256, eps=1e-05, momentum=0.1, affine=True, track_running_stats=True)\n",
              "      (conv2): Conv2d(256, 256, kernel_size=(3, 3), stride=(1, 1), padding=(1, 1), bias=False)\n",
              "      (bn2): BatchNorm2d(256, eps=1e-05, momentum=0.1, affine=True, track_running_stats=True)\n",
              "      (conv3): Conv2d(256, 1024, kernel_size=(1, 1), stride=(1, 1), bias=False)\n",
              "      (bn3): BatchNorm2d(1024, eps=1e-05, momentum=0.1, affine=True, track_running_stats=True)\n",
              "      (relu): ReLU(inplace=True)\n",
              "    )\n",
              "  )\n",
              "  (layer4): Sequential(\n",
              "    (0): Bottleneck(\n",
              "      (conv1): Conv2d(1024, 512, kernel_size=(1, 1), stride=(1, 1), bias=False)\n",
              "      (bn1): BatchNorm2d(512, eps=1e-05, momentum=0.1, affine=True, track_running_stats=True)\n",
              "      (conv2): Conv2d(512, 512, kernel_size=(3, 3), stride=(2, 2), padding=(1, 1), bias=False)\n",
              "      (bn2): BatchNorm2d(512, eps=1e-05, momentum=0.1, affine=True, track_running_stats=True)\n",
              "      (conv3): Conv2d(512, 2048, kernel_size=(1, 1), stride=(1, 1), bias=False)\n",
              "      (bn3): BatchNorm2d(2048, eps=1e-05, momentum=0.1, affine=True, track_running_stats=True)\n",
              "      (relu): ReLU(inplace=True)\n",
              "      (downsample): Sequential(\n",
              "        (0): Conv2d(1024, 2048, kernel_size=(1, 1), stride=(2, 2), bias=False)\n",
              "        (1): BatchNorm2d(2048, eps=1e-05, momentum=0.1, affine=True, track_running_stats=True)\n",
              "      )\n",
              "    )\n",
              "    (1): Bottleneck(\n",
              "      (conv1): Conv2d(2048, 512, kernel_size=(1, 1), stride=(1, 1), bias=False)\n",
              "      (bn1): BatchNorm2d(512, eps=1e-05, momentum=0.1, affine=True, track_running_stats=True)\n",
              "      (conv2): Conv2d(512, 512, kernel_size=(3, 3), stride=(1, 1), padding=(1, 1), bias=False)\n",
              "      (bn2): BatchNorm2d(512, eps=1e-05, momentum=0.1, affine=True, track_running_stats=True)\n",
              "      (conv3): Conv2d(512, 2048, kernel_size=(1, 1), stride=(1, 1), bias=False)\n",
              "      (bn3): BatchNorm2d(2048, eps=1e-05, momentum=0.1, affine=True, track_running_stats=True)\n",
              "      (relu): ReLU(inplace=True)\n",
              "    )\n",
              "    (2): Bottleneck(\n",
              "      (conv1): Conv2d(2048, 512, kernel_size=(1, 1), stride=(1, 1), bias=False)\n",
              "      (bn1): BatchNorm2d(512, eps=1e-05, momentum=0.1, affine=True, track_running_stats=True)\n",
              "      (conv2): Conv2d(512, 512, kernel_size=(3, 3), stride=(1, 1), padding=(1, 1), bias=False)\n",
              "      (bn2): BatchNorm2d(512, eps=1e-05, momentum=0.1, affine=True, track_running_stats=True)\n",
              "      (conv3): Conv2d(512, 2048, kernel_size=(1, 1), stride=(1, 1), bias=False)\n",
              "      (bn3): BatchNorm2d(2048, eps=1e-05, momentum=0.1, affine=True, track_running_stats=True)\n",
              "      (relu): ReLU(inplace=True)\n",
              "    )\n",
              "  )\n",
              "  (avgpool): AdaptiveAvgPool2d(output_size=(1, 1))\n",
              "  (fc): Identity()\n",
              ")>"
            ]
          },
          "metadata": {},
          "execution_count": 76
        }
      ]
    },
    {
      "cell_type": "code",
      "source": [],
      "metadata": {
        "id": "DIKHc3QtGwQ-"
      },
      "execution_count": null,
      "outputs": []
    },
    {
      "cell_type": "code",
      "execution_count": null,
      "metadata": {
        "colab": {
          "base_uri": "https://localhost:8080/"
        },
        "id": "x_0pAV-E_lL3",
        "outputId": "f11a6a82-6ee9-4ef4-9ffb-307007fab86a"
      },
      "outputs": [
        {
          "output_type": "stream",
          "name": "stdout",
          "text": [
            "['adipose', 'complex', 'debris', 'empty', 'lympho', 'mucosa', 'stroma', 'tumor']\n"
          ]
        },
        {
          "output_type": "stream",
          "name": "stderr",
          "text": [
            "Predicting embeddings: 100%|█████████████████| 40/40 [00:15<00:00,  2.62batch/s]\n",
            "100%|██████████████████████████| 10/10 [00:00<00:00, 100.14it/s, accuracy=0.758]"
          ]
        },
        {
          "output_type": "stream",
          "name": "stdout",
          "text": [
            "n_shots=1, Run=1, Accuracy: 75.80 %\n"
          ]
        },
        {
          "output_type": "stream",
          "name": "stderr",
          "text": [
            "\n",
            "100%|██████████████████████████| 10/10 [00:00<00:00, 106.56it/s, accuracy=0.893]"
          ]
        },
        {
          "output_type": "stream",
          "name": "stdout",
          "text": [
            "n_shots=2, Run=1, Accuracy: 89.30 %\n"
          ]
        },
        {
          "output_type": "stream",
          "name": "stderr",
          "text": [
            "\n",
            "100%|██████████████████████████| 10/10 [00:00<00:00, 104.45it/s, accuracy=0.929]"
          ]
        },
        {
          "output_type": "stream",
          "name": "stdout",
          "text": [
            "n_shots=3, Run=1, Accuracy: 92.93 %\n"
          ]
        },
        {
          "output_type": "stream",
          "name": "stderr",
          "text": [
            "\n",
            "100%|██████████████████████████| 10/10 [00:00<00:00, 105.54it/s, accuracy=0.933]"
          ]
        },
        {
          "output_type": "stream",
          "name": "stdout",
          "text": [
            "n_shots=4, Run=1, Accuracy: 93.33 %\n"
          ]
        },
        {
          "output_type": "stream",
          "name": "stderr",
          "text": [
            "\n",
            "100%|██████████████████████████| 10/10 [00:00<00:00, 106.93it/s, accuracy=0.918]"
          ]
        },
        {
          "output_type": "stream",
          "name": "stdout",
          "text": [
            "n_shots=5, Run=1, Accuracy: 91.77 %\n"
          ]
        },
        {
          "output_type": "stream",
          "name": "stderr",
          "text": [
            "\n",
            "100%|██████████████████████████| 10/10 [00:00<00:00, 108.12it/s, accuracy=0.933]"
          ]
        },
        {
          "output_type": "stream",
          "name": "stdout",
          "text": [
            "n_shots=6, Run=1, Accuracy: 93.30 %\n"
          ]
        },
        {
          "output_type": "stream",
          "name": "stderr",
          "text": [
            "\n",
            "100%|██████████████████████████| 10/10 [00:00<00:00, 108.22it/s, accuracy=0.941]"
          ]
        },
        {
          "output_type": "stream",
          "name": "stdout",
          "text": [
            "n_shots=8, Run=1, Accuracy: 94.10 %\n"
          ]
        },
        {
          "output_type": "stream",
          "name": "stderr",
          "text": [
            "\n",
            "100%|███████████████████████████| 10/10 [00:00<00:00, 107.24it/s, accuracy=0.94]"
          ]
        },
        {
          "output_type": "stream",
          "name": "stdout",
          "text": [
            "n_shots=10, Run=1, Accuracy: 93.97 %\n"
          ]
        },
        {
          "output_type": "stream",
          "name": "stderr",
          "text": [
            "\n",
            "100%|██████████████████████████| 10/10 [00:00<00:00, 105.88it/s, accuracy=0.954]"
          ]
        },
        {
          "output_type": "stream",
          "name": "stdout",
          "text": [
            "n_shots=12, Run=1, Accuracy: 95.40 %\n"
          ]
        },
        {
          "output_type": "stream",
          "name": "stderr",
          "text": [
            "\n",
            "100%|██████████████████████████| 10/10 [00:00<00:00, 105.50it/s, accuracy=0.947]"
          ]
        },
        {
          "output_type": "stream",
          "name": "stdout",
          "text": [
            "n_shots=16, Run=1, Accuracy: 94.73 %\n"
          ]
        },
        {
          "output_type": "stream",
          "name": "stderr",
          "text": [
            "\n",
            "100%|██████████████████████████| 10/10 [00:00<00:00, 106.96it/s, accuracy=0.949]"
          ]
        },
        {
          "output_type": "stream",
          "name": "stdout",
          "text": [
            "n_shots=24, Run=1, Accuracy: 94.93 %\n"
          ]
        },
        {
          "output_type": "stream",
          "name": "stderr",
          "text": [
            "\n",
            "100%|██████████████████████████| 10/10 [00:00<00:00, 103.38it/s, accuracy=0.949]"
          ]
        },
        {
          "output_type": "stream",
          "name": "stdout",
          "text": [
            "n_shots=32, Run=1, Accuracy: 94.90 %\n"
          ]
        },
        {
          "output_type": "stream",
          "name": "stderr",
          "text": [
            "\n",
            "100%|██████████████████████████| 10/10 [00:00<00:00, 103.52it/s, accuracy=0.846]"
          ]
        },
        {
          "output_type": "stream",
          "name": "stdout",
          "text": [
            "n_shots=1, Run=2, Accuracy: 84.60 %\n"
          ]
        },
        {
          "output_type": "stream",
          "name": "stderr",
          "text": [
            "\n",
            "100%|███████████████████████████| 10/10 [00:00<00:00, 96.32it/s, accuracy=0.864]"
          ]
        },
        {
          "output_type": "stream",
          "name": "stdout",
          "text": [
            "n_shots=2, Run=2, Accuracy: 86.37 %\n"
          ]
        },
        {
          "output_type": "stream",
          "name": "stderr",
          "text": [
            "\n",
            "100%|██████████████████████████| 10/10 [00:00<00:00, 110.82it/s, accuracy=0.887]"
          ]
        },
        {
          "output_type": "stream",
          "name": "stdout",
          "text": [
            "n_shots=3, Run=2, Accuracy: 88.70 %\n"
          ]
        },
        {
          "output_type": "stream",
          "name": "stderr",
          "text": [
            "\n",
            "100%|███████████████████████████| 10/10 [00:00<00:00, 106.68it/s, accuracy=0.92]"
          ]
        },
        {
          "output_type": "stream",
          "name": "stdout",
          "text": [
            "n_shots=4, Run=2, Accuracy: 92.03 %\n"
          ]
        },
        {
          "output_type": "stream",
          "name": "stderr",
          "text": [
            "\n",
            "100%|██████████████████████████| 10/10 [00:00<00:00, 110.93it/s, accuracy=0.918]"
          ]
        },
        {
          "output_type": "stream",
          "name": "stdout",
          "text": [
            "n_shots=5, Run=2, Accuracy: 91.80 %\n"
          ]
        },
        {
          "output_type": "stream",
          "name": "stderr",
          "text": [
            "\n",
            "100%|██████████████████████████| 10/10 [00:00<00:00, 110.06it/s, accuracy=0.932]"
          ]
        },
        {
          "output_type": "stream",
          "name": "stdout",
          "text": [
            "n_shots=6, Run=2, Accuracy: 93.23 %\n"
          ]
        },
        {
          "output_type": "stream",
          "name": "stderr",
          "text": [
            "\n",
            "100%|██████████████████████████| 10/10 [00:00<00:00, 102.45it/s, accuracy=0.945]"
          ]
        },
        {
          "output_type": "stream",
          "name": "stdout",
          "text": [
            "n_shots=8, Run=2, Accuracy: 94.47 %\n"
          ]
        },
        {
          "output_type": "stream",
          "name": "stderr",
          "text": [
            "\n",
            "100%|██████████████████████████| 10/10 [00:00<00:00, 103.45it/s, accuracy=0.949]"
          ]
        },
        {
          "output_type": "stream",
          "name": "stdout",
          "text": [
            "n_shots=10, Run=2, Accuracy: 94.87 %\n"
          ]
        },
        {
          "output_type": "stream",
          "name": "stderr",
          "text": [
            "\n",
            "100%|███████████████████████████| 10/10 [00:00<00:00, 93.09it/s, accuracy=0.932]"
          ]
        },
        {
          "output_type": "stream",
          "name": "stdout",
          "text": [
            "n_shots=12, Run=2, Accuracy: 93.23 %\n"
          ]
        },
        {
          "output_type": "stream",
          "name": "stderr",
          "text": [
            "\n",
            "100%|███████████████████████████| 10/10 [00:00<00:00, 90.41it/s, accuracy=0.942]"
          ]
        },
        {
          "output_type": "stream",
          "name": "stdout",
          "text": [
            "n_shots=16, Run=2, Accuracy: 94.17 %\n"
          ]
        },
        {
          "output_type": "stream",
          "name": "stderr",
          "text": [
            "\n",
            "100%|██████████████████████████| 10/10 [00:00<00:00, 104.54it/s, accuracy=0.948]"
          ]
        },
        {
          "output_type": "stream",
          "name": "stdout",
          "text": [
            "n_shots=24, Run=2, Accuracy: 94.80 %\n"
          ]
        },
        {
          "output_type": "stream",
          "name": "stderr",
          "text": [
            "\n",
            "100%|██████████████████████████| 10/10 [00:00<00:00, 100.71it/s, accuracy=0.932]"
          ]
        },
        {
          "output_type": "stream",
          "name": "stdout",
          "text": [
            "n_shots=32, Run=2, Accuracy: 93.23 %\n"
          ]
        },
        {
          "output_type": "stream",
          "name": "stderr",
          "text": [
            "\n",
            "100%|██████████████████████████| 10/10 [00:00<00:00, 104.67it/s, accuracy=0.811]"
          ]
        },
        {
          "output_type": "stream",
          "name": "stdout",
          "text": [
            "n_shots=1, Run=3, Accuracy: 81.10 %\n"
          ]
        },
        {
          "output_type": "stream",
          "name": "stderr",
          "text": [
            "\n",
            "100%|██████████████████████████| 10/10 [00:00<00:00, 111.41it/s, accuracy=0.838]\n"
          ]
        },
        {
          "output_type": "stream",
          "name": "stdout",
          "text": [
            "n_shots=2, Run=3, Accuracy: 83.83 %\n"
          ]
        },
        {
          "output_type": "stream",
          "name": "stderr",
          "text": [
            "100%|████████████████████████████| 10/10 [00:00<00:00, 111.51it/s, accuracy=0.9]"
          ]
        },
        {
          "output_type": "stream",
          "name": "stdout",
          "text": [
            "n_shots=3, Run=3, Accuracy: 90.00 %\n"
          ]
        },
        {
          "output_type": "stream",
          "name": "stderr",
          "text": [
            "\n",
            "100%|███████████████████████████| 10/10 [00:00<00:00, 104.69it/s, accuracy=0.93]"
          ]
        },
        {
          "output_type": "stream",
          "name": "stdout",
          "text": [
            "n_shots=4, Run=3, Accuracy: 92.97 %\n"
          ]
        },
        {
          "output_type": "stream",
          "name": "stderr",
          "text": [
            "\n",
            "100%|██████████████████████████| 10/10 [00:00<00:00, 105.02it/s, accuracy=0.924]"
          ]
        },
        {
          "output_type": "stream",
          "name": "stdout",
          "text": [
            "n_shots=5, Run=3, Accuracy: 92.37 %\n"
          ]
        },
        {
          "output_type": "stream",
          "name": "stderr",
          "text": [
            "\n",
            "100%|██████████████████████████| 10/10 [00:00<00:00, 101.50it/s, accuracy=0.904]"
          ]
        },
        {
          "output_type": "stream",
          "name": "stdout",
          "text": [
            "n_shots=6, Run=3, Accuracy: 90.37 %\n"
          ]
        },
        {
          "output_type": "stream",
          "name": "stderr",
          "text": [
            "\n",
            "100%|███████████████████████████| 10/10 [00:00<00:00, 99.62it/s, accuracy=0.917]"
          ]
        },
        {
          "output_type": "stream",
          "name": "stdout",
          "text": [
            "n_shots=8, Run=3, Accuracy: 91.70 %\n"
          ]
        },
        {
          "output_type": "stream",
          "name": "stderr",
          "text": [
            "\n",
            "100%|██████████████████████████| 10/10 [00:00<00:00, 105.09it/s, accuracy=0.938]"
          ]
        },
        {
          "output_type": "stream",
          "name": "stdout",
          "text": [
            "n_shots=10, Run=3, Accuracy: 93.77 %\n"
          ]
        },
        {
          "output_type": "stream",
          "name": "stderr",
          "text": [
            "\n",
            "100%|██████████████████████████| 10/10 [00:00<00:00, 109.05it/s, accuracy=0.955]"
          ]
        },
        {
          "output_type": "stream",
          "name": "stdout",
          "text": [
            "n_shots=12, Run=3, Accuracy: 95.47 %\n"
          ]
        },
        {
          "output_type": "stream",
          "name": "stderr",
          "text": [
            "\n",
            "100%|██████████████████████████| 10/10 [00:00<00:00, 101.81it/s, accuracy=0.963]"
          ]
        },
        {
          "output_type": "stream",
          "name": "stdout",
          "text": [
            "n_shots=16, Run=3, Accuracy: 96.30 %\n"
          ]
        },
        {
          "output_type": "stream",
          "name": "stderr",
          "text": [
            "\n",
            "100%|███████████████████████████| 10/10 [00:00<00:00, 99.43it/s, accuracy=0.935]"
          ]
        },
        {
          "output_type": "stream",
          "name": "stdout",
          "text": [
            "n_shots=24, Run=3, Accuracy: 93.50 %\n"
          ]
        },
        {
          "output_type": "stream",
          "name": "stderr",
          "text": [
            "\n",
            "100%|███████████████████████████| 10/10 [00:00<00:00, 97.13it/s, accuracy=0.946]"
          ]
        },
        {
          "output_type": "stream",
          "name": "stdout",
          "text": [
            "n_shots=32, Run=3, Accuracy: 94.63 %\n"
          ]
        },
        {
          "output_type": "stream",
          "name": "stderr",
          "text": [
            "\n",
            "100%|██████████████████████████| 10/10 [00:00<00:00, 104.28it/s, accuracy=0.816]"
          ]
        },
        {
          "output_type": "stream",
          "name": "stdout",
          "text": [
            "n_shots=1, Run=4, Accuracy: 81.63 %\n"
          ]
        },
        {
          "output_type": "stream",
          "name": "stderr",
          "text": [
            "\n",
            "100%|██████████████████████████| 10/10 [00:00<00:00, 107.67it/s, accuracy=0.859]"
          ]
        },
        {
          "output_type": "stream",
          "name": "stdout",
          "text": [
            "n_shots=2, Run=4, Accuracy: 85.90 %\n"
          ]
        },
        {
          "output_type": "stream",
          "name": "stderr",
          "text": [
            "\n",
            "100%|██████████████████████████| 10/10 [00:00<00:00, 108.85it/s, accuracy=0.897]"
          ]
        },
        {
          "output_type": "stream",
          "name": "stdout",
          "text": [
            "n_shots=3, Run=4, Accuracy: 89.73 %\n"
          ]
        },
        {
          "output_type": "stream",
          "name": "stderr",
          "text": [
            "\n",
            "100%|██████████████████████████| 10/10 [00:00<00:00, 101.44it/s, accuracy=0.923]"
          ]
        },
        {
          "output_type": "stream",
          "name": "stdout",
          "text": [
            "n_shots=4, Run=4, Accuracy: 92.30 %\n"
          ]
        },
        {
          "output_type": "stream",
          "name": "stderr",
          "text": [
            "\n",
            "100%|██████████████████████████| 10/10 [00:00<00:00, 105.07it/s, accuracy=0.942]"
          ]
        },
        {
          "output_type": "stream",
          "name": "stdout",
          "text": [
            "n_shots=5, Run=4, Accuracy: 94.20 %\n"
          ]
        },
        {
          "output_type": "stream",
          "name": "stderr",
          "text": [
            "\n",
            "100%|███████████████████████████| 10/10 [00:00<00:00, 99.41it/s, accuracy=0.934]"
          ]
        },
        {
          "output_type": "stream",
          "name": "stdout",
          "text": [
            "n_shots=6, Run=4, Accuracy: 93.43 %\n"
          ]
        },
        {
          "output_type": "stream",
          "name": "stderr",
          "text": [
            "\n",
            "100%|██████████████████████████| 10/10 [00:00<00:00, 101.13it/s, accuracy=0.939]"
          ]
        },
        {
          "output_type": "stream",
          "name": "stdout",
          "text": [
            "n_shots=8, Run=4, Accuracy: 93.90 %\n"
          ]
        },
        {
          "output_type": "stream",
          "name": "stderr",
          "text": [
            "\n",
            "100%|███████████████████████████| 10/10 [00:00<00:00, 99.86it/s, accuracy=0.918]"
          ]
        },
        {
          "output_type": "stream",
          "name": "stdout",
          "text": [
            "n_shots=10, Run=4, Accuracy: 91.77 %\n"
          ]
        },
        {
          "output_type": "stream",
          "name": "stderr",
          "text": [
            "\n",
            "100%|██████████████████████████| 10/10 [00:00<00:00, 107.84it/s, accuracy=0.931]"
          ]
        },
        {
          "output_type": "stream",
          "name": "stdout",
          "text": [
            "n_shots=12, Run=4, Accuracy: 93.07 %\n"
          ]
        },
        {
          "output_type": "stream",
          "name": "stderr",
          "text": [
            "\n",
            "100%|██████████████████████████| 10/10 [00:00<00:00, 103.12it/s, accuracy=0.957]"
          ]
        },
        {
          "output_type": "stream",
          "name": "stdout",
          "text": [
            "n_shots=16, Run=4, Accuracy: 95.73 %\n"
          ]
        },
        {
          "output_type": "stream",
          "name": "stderr",
          "text": [
            "\n",
            "100%|██████████████████████████| 10/10 [00:00<00:00, 102.64it/s, accuracy=0.961]"
          ]
        },
        {
          "output_type": "stream",
          "name": "stdout",
          "text": [
            "n_shots=24, Run=4, Accuracy: 96.13 %\n"
          ]
        },
        {
          "output_type": "stream",
          "name": "stderr",
          "text": [
            "\n",
            "100%|███████████████████████████| 10/10 [00:00<00:00, 97.52it/s, accuracy=0.962]"
          ]
        },
        {
          "output_type": "stream",
          "name": "stdout",
          "text": [
            "n_shots=32, Run=4, Accuracy: 96.17 %\n"
          ]
        },
        {
          "output_type": "stream",
          "name": "stderr",
          "text": [
            "\n",
            "100%|██████████████████████████| 10/10 [00:00<00:00, 103.96it/s, accuracy=0.831]"
          ]
        },
        {
          "output_type": "stream",
          "name": "stdout",
          "text": [
            "n_shots=1, Run=5, Accuracy: 83.13 %\n"
          ]
        },
        {
          "output_type": "stream",
          "name": "stderr",
          "text": [
            "\n",
            "100%|██████████████████████████| 10/10 [00:00<00:00, 101.49it/s, accuracy=0.882]"
          ]
        },
        {
          "output_type": "stream",
          "name": "stdout",
          "text": [
            "n_shots=2, Run=5, Accuracy: 88.17 %\n"
          ]
        },
        {
          "output_type": "stream",
          "name": "stderr",
          "text": [
            "\n",
            "100%|██████████████████████████| 10/10 [00:00<00:00, 107.77it/s, accuracy=0.932]"
          ]
        },
        {
          "output_type": "stream",
          "name": "stdout",
          "text": [
            "n_shots=3, Run=5, Accuracy: 93.17 %\n"
          ]
        },
        {
          "output_type": "stream",
          "name": "stderr",
          "text": [
            "\n",
            "100%|██████████████████████████| 10/10 [00:00<00:00, 106.37it/s, accuracy=0.924]"
          ]
        },
        {
          "output_type": "stream",
          "name": "stdout",
          "text": [
            "n_shots=4, Run=5, Accuracy: 92.37 %\n"
          ]
        },
        {
          "output_type": "stream",
          "name": "stderr",
          "text": [
            "\n",
            "100%|██████████████████████████| 10/10 [00:00<00:00, 105.78it/s, accuracy=0.921]"
          ]
        },
        {
          "output_type": "stream",
          "name": "stdout",
          "text": [
            "n_shots=5, Run=5, Accuracy: 92.07 %\n"
          ]
        },
        {
          "output_type": "stream",
          "name": "stderr",
          "text": [
            "\n",
            "100%|██████████████████████████| 10/10 [00:00<00:00, 105.42it/s, accuracy=0.936]"
          ]
        },
        {
          "output_type": "stream",
          "name": "stdout",
          "text": [
            "n_shots=6, Run=5, Accuracy: 93.63 %\n"
          ]
        },
        {
          "output_type": "stream",
          "name": "stderr",
          "text": [
            "\n",
            "100%|███████████████████████████| 10/10 [00:00<00:00, 105.48it/s, accuracy=0.94]"
          ]
        },
        {
          "output_type": "stream",
          "name": "stdout",
          "text": [
            "n_shots=8, Run=5, Accuracy: 94.03 %\n"
          ]
        },
        {
          "output_type": "stream",
          "name": "stderr",
          "text": [
            "\n",
            "100%|██████████████████████████| 10/10 [00:00<00:00, 107.15it/s, accuracy=0.959]"
          ]
        },
        {
          "output_type": "stream",
          "name": "stdout",
          "text": [
            "n_shots=10, Run=5, Accuracy: 95.87 %\n"
          ]
        },
        {
          "output_type": "stream",
          "name": "stderr",
          "text": [
            "\n",
            "100%|██████████████████████████| 10/10 [00:00<00:00, 108.47it/s, accuracy=0.928]"
          ]
        },
        {
          "output_type": "stream",
          "name": "stdout",
          "text": [
            "n_shots=12, Run=5, Accuracy: 92.80 %\n"
          ]
        },
        {
          "output_type": "stream",
          "name": "stderr",
          "text": [
            "\n",
            "100%|██████████████████████████| 10/10 [00:00<00:00, 109.20it/s, accuracy=0.947]"
          ]
        },
        {
          "output_type": "stream",
          "name": "stdout",
          "text": [
            "n_shots=16, Run=5, Accuracy: 94.73 %\n"
          ]
        },
        {
          "output_type": "stream",
          "name": "stderr",
          "text": [
            "\n",
            "100%|██████████████████████████| 10/10 [00:00<00:00, 103.93it/s, accuracy=0.948]"
          ]
        },
        {
          "output_type": "stream",
          "name": "stdout",
          "text": [
            "n_shots=24, Run=5, Accuracy: 94.83 %\n"
          ]
        },
        {
          "output_type": "stream",
          "name": "stderr",
          "text": [
            "\n",
            "100%|██████████████████████████| 10/10 [00:00<00:00, 100.75it/s, accuracy=0.911]"
          ]
        },
        {
          "output_type": "stream",
          "name": "stdout",
          "text": [
            "n_shots=32, Run=5, Accuracy: 91.10 %\n"
          ]
        },
        {
          "output_type": "stream",
          "name": "stderr",
          "text": [
            "\n",
            "100%|██████████████████████████| 10/10 [00:00<00:00, 103.37it/s, accuracy=0.832]"
          ]
        },
        {
          "output_type": "stream",
          "name": "stdout",
          "text": [
            "n_shots=1, Run=6, Accuracy: 83.20 %\n"
          ]
        },
        {
          "output_type": "stream",
          "name": "stderr",
          "text": [
            "\n",
            "100%|██████████████████████████| 10/10 [00:00<00:00, 105.23it/s, accuracy=0.921]"
          ]
        },
        {
          "output_type": "stream",
          "name": "stdout",
          "text": [
            "n_shots=2, Run=6, Accuracy: 92.07 %\n"
          ]
        },
        {
          "output_type": "stream",
          "name": "stderr",
          "text": [
            "\n",
            "100%|██████████████████████████| 10/10 [00:00<00:00, 103.59it/s, accuracy=0.904]"
          ]
        },
        {
          "output_type": "stream",
          "name": "stdout",
          "text": [
            "n_shots=3, Run=6, Accuracy: 90.40 %\n"
          ]
        },
        {
          "output_type": "stream",
          "name": "stderr",
          "text": [
            "\n",
            "100%|██████████████████████████| 10/10 [00:00<00:00, 103.79it/s, accuracy=0.931]"
          ]
        },
        {
          "output_type": "stream",
          "name": "stdout",
          "text": [
            "n_shots=4, Run=6, Accuracy: 93.13 %\n"
          ]
        },
        {
          "output_type": "stream",
          "name": "stderr",
          "text": [
            "\n",
            "100%|██████████████████████████| 10/10 [00:00<00:00, 105.50it/s, accuracy=0.948]"
          ]
        },
        {
          "output_type": "stream",
          "name": "stdout",
          "text": [
            "n_shots=5, Run=6, Accuracy: 94.83 %\n"
          ]
        },
        {
          "output_type": "stream",
          "name": "stderr",
          "text": [
            "\n",
            "100%|██████████████████████████| 10/10 [00:00<00:00, 108.20it/s, accuracy=0.911]"
          ]
        },
        {
          "output_type": "stream",
          "name": "stdout",
          "text": [
            "n_shots=6, Run=6, Accuracy: 91.07 %\n"
          ]
        },
        {
          "output_type": "stream",
          "name": "stderr",
          "text": [
            "\n",
            "100%|███████████████████████████| 10/10 [00:00<00:00, 104.23it/s, accuracy=0.92]"
          ]
        },
        {
          "output_type": "stream",
          "name": "stdout",
          "text": [
            "n_shots=8, Run=6, Accuracy: 92.00 %\n"
          ]
        },
        {
          "output_type": "stream",
          "name": "stderr",
          "text": [
            "\n",
            "100%|██████████████████████████| 10/10 [00:00<00:00, 106.69it/s, accuracy=0.948]"
          ]
        },
        {
          "output_type": "stream",
          "name": "stdout",
          "text": [
            "n_shots=10, Run=6, Accuracy: 94.80 %\n"
          ]
        },
        {
          "output_type": "stream",
          "name": "stderr",
          "text": [
            "\n",
            "100%|███████████████████████████| 10/10 [00:00<00:00, 92.91it/s, accuracy=0.937]"
          ]
        },
        {
          "output_type": "stream",
          "name": "stdout",
          "text": [
            "n_shots=12, Run=6, Accuracy: 93.70 %\n"
          ]
        },
        {
          "output_type": "stream",
          "name": "stderr",
          "text": [
            "\n",
            "100%|███████████████████████████| 10/10 [00:00<00:00, 99.90it/s, accuracy=0.949]"
          ]
        },
        {
          "output_type": "stream",
          "name": "stdout",
          "text": [
            "n_shots=16, Run=6, Accuracy: 94.93 %\n"
          ]
        },
        {
          "output_type": "stream",
          "name": "stderr",
          "text": [
            "\n",
            "100%|██████████████████████████| 10/10 [00:00<00:00, 101.44it/s, accuracy=0.967]"
          ]
        },
        {
          "output_type": "stream",
          "name": "stdout",
          "text": [
            "n_shots=24, Run=6, Accuracy: 96.67 %\n"
          ]
        },
        {
          "output_type": "stream",
          "name": "stderr",
          "text": [
            "\n",
            "100%|███████████████████████████| 10/10 [00:00<00:00, 105.54it/s, accuracy=0.93]"
          ]
        },
        {
          "output_type": "stream",
          "name": "stdout",
          "text": [
            "n_shots=32, Run=6, Accuracy: 93.03 %\n"
          ]
        },
        {
          "output_type": "stream",
          "name": "stderr",
          "text": [
            "\n",
            "100%|██████████████████████████| 10/10 [00:00<00:00, 106.20it/s, accuracy=0.812]"
          ]
        },
        {
          "output_type": "stream",
          "name": "stdout",
          "text": [
            "n_shots=1, Run=7, Accuracy: 81.17 %\n"
          ]
        },
        {
          "output_type": "stream",
          "name": "stderr",
          "text": [
            "\n",
            "100%|██████████████████████████| 10/10 [00:00<00:00, 108.93it/s, accuracy=0.885]"
          ]
        },
        {
          "output_type": "stream",
          "name": "stdout",
          "text": [
            "n_shots=2, Run=7, Accuracy: 88.47 %\n"
          ]
        },
        {
          "output_type": "stream",
          "name": "stderr",
          "text": [
            "\n",
            "100%|██████████████████████████| 10/10 [00:00<00:00, 108.36it/s, accuracy=0.918]"
          ]
        },
        {
          "output_type": "stream",
          "name": "stdout",
          "text": [
            "n_shots=3, Run=7, Accuracy: 91.77 %\n"
          ]
        },
        {
          "output_type": "stream",
          "name": "stderr",
          "text": [
            "\n",
            "100%|██████████████████████████| 10/10 [00:00<00:00, 102.46it/s, accuracy=0.905]"
          ]
        },
        {
          "output_type": "stream",
          "name": "stdout",
          "text": [
            "n_shots=4, Run=7, Accuracy: 90.47 %\n"
          ]
        },
        {
          "output_type": "stream",
          "name": "stderr",
          "text": [
            "\n",
            "100%|██████████████████████████| 10/10 [00:00<00:00, 106.49it/s, accuracy=0.941]"
          ]
        },
        {
          "output_type": "stream",
          "name": "stdout",
          "text": [
            "n_shots=5, Run=7, Accuracy: 94.10 %\n"
          ]
        },
        {
          "output_type": "stream",
          "name": "stderr",
          "text": [
            "\n",
            "100%|██████████████████████████| 10/10 [00:00<00:00, 106.72it/s, accuracy=0.937]"
          ]
        },
        {
          "output_type": "stream",
          "name": "stdout",
          "text": [
            "n_shots=6, Run=7, Accuracy: 93.73 %\n"
          ]
        },
        {
          "output_type": "stream",
          "name": "stderr",
          "text": [
            "\n",
            "100%|██████████████████████████| 10/10 [00:00<00:00, 101.97it/s, accuracy=0.955]"
          ]
        },
        {
          "output_type": "stream",
          "name": "stdout",
          "text": [
            "n_shots=8, Run=7, Accuracy: 95.47 %\n"
          ]
        },
        {
          "output_type": "stream",
          "name": "stderr",
          "text": [
            "\n",
            "100%|██████████████████████████| 10/10 [00:00<00:00, 105.31it/s, accuracy=0.931]"
          ]
        },
        {
          "output_type": "stream",
          "name": "stdout",
          "text": [
            "n_shots=10, Run=7, Accuracy: 93.10 %\n"
          ]
        },
        {
          "output_type": "stream",
          "name": "stderr",
          "text": [
            "\n",
            "100%|██████████████████████████| 10/10 [00:00<00:00, 104.19it/s, accuracy=0.924]"
          ]
        },
        {
          "output_type": "stream",
          "name": "stdout",
          "text": [
            "n_shots=12, Run=7, Accuracy: 92.43 %\n"
          ]
        },
        {
          "output_type": "stream",
          "name": "stderr",
          "text": [
            "\n",
            "100%|██████████████████████████| 10/10 [00:00<00:00, 103.03it/s, accuracy=0.942]"
          ]
        },
        {
          "output_type": "stream",
          "name": "stdout",
          "text": [
            "n_shots=16, Run=7, Accuracy: 94.17 %\n"
          ]
        },
        {
          "output_type": "stream",
          "name": "stderr",
          "text": [
            "\n",
            "100%|██████████████████████████| 10/10 [00:00<00:00, 101.03it/s, accuracy=0.941]"
          ]
        },
        {
          "output_type": "stream",
          "name": "stdout",
          "text": [
            "n_shots=24, Run=7, Accuracy: 94.07 %\n"
          ]
        },
        {
          "output_type": "stream",
          "name": "stderr",
          "text": [
            "\n",
            "100%|███████████████████████████| 10/10 [00:00<00:00, 99.06it/s, accuracy=0.958]"
          ]
        },
        {
          "output_type": "stream",
          "name": "stdout",
          "text": [
            "n_shots=32, Run=7, Accuracy: 95.83 %\n"
          ]
        },
        {
          "output_type": "stream",
          "name": "stderr",
          "text": [
            "\n",
            "100%|███████████████████████████| 10/10 [00:00<00:00, 93.54it/s, accuracy=0.774]"
          ]
        },
        {
          "output_type": "stream",
          "name": "stdout",
          "text": [
            "n_shots=1, Run=8, Accuracy: 77.40 %\n"
          ]
        },
        {
          "output_type": "stream",
          "name": "stderr",
          "text": [
            "\n",
            "100%|██████████████████████████| 10/10 [00:00<00:00, 102.81it/s, accuracy=0.911]"
          ]
        },
        {
          "output_type": "stream",
          "name": "stdout",
          "text": [
            "n_shots=2, Run=8, Accuracy: 91.13 %\n"
          ]
        },
        {
          "output_type": "stream",
          "name": "stderr",
          "text": [
            "\n",
            "100%|██████████████████████████| 10/10 [00:00<00:00, 100.60it/s, accuracy=0.884]"
          ]
        },
        {
          "output_type": "stream",
          "name": "stdout",
          "text": [
            "n_shots=3, Run=8, Accuracy: 88.37 %\n"
          ]
        },
        {
          "output_type": "stream",
          "name": "stderr",
          "text": [
            "\n",
            "100%|████████████████████████████| 10/10 [00:00<00:00, 102.99it/s, accuracy=0.9]"
          ]
        },
        {
          "output_type": "stream",
          "name": "stdout",
          "text": [
            "n_shots=4, Run=8, Accuracy: 89.97 %\n"
          ]
        },
        {
          "output_type": "stream",
          "name": "stderr",
          "text": [
            "\n",
            "100%|██████████████████████████| 10/10 [00:00<00:00, 107.26it/s, accuracy=0.923]"
          ]
        },
        {
          "output_type": "stream",
          "name": "stdout",
          "text": [
            "n_shots=5, Run=8, Accuracy: 92.27 %\n"
          ]
        },
        {
          "output_type": "stream",
          "name": "stderr",
          "text": [
            "\n",
            "100%|███████████████████████████| 10/10 [00:00<00:00, 88.76it/s, accuracy=0.916]"
          ]
        },
        {
          "output_type": "stream",
          "name": "stdout",
          "text": [
            "n_shots=6, Run=8, Accuracy: 91.63 %\n"
          ]
        },
        {
          "output_type": "stream",
          "name": "stderr",
          "text": [
            "\n",
            "100%|██████████████████████████| 10/10 [00:00<00:00, 105.10it/s, accuracy=0.953]"
          ]
        },
        {
          "output_type": "stream",
          "name": "stdout",
          "text": [
            "n_shots=8, Run=8, Accuracy: 95.27 %\n"
          ]
        },
        {
          "output_type": "stream",
          "name": "stderr",
          "text": [
            "\n",
            "100%|██████████████████████████| 10/10 [00:00<00:00, 110.44it/s, accuracy=0.931]"
          ]
        },
        {
          "output_type": "stream",
          "name": "stdout",
          "text": [
            "n_shots=10, Run=8, Accuracy: 93.13 %\n"
          ]
        },
        {
          "output_type": "stream",
          "name": "stderr",
          "text": [
            "\n",
            "100%|██████████████████████████| 10/10 [00:00<00:00, 105.64it/s, accuracy=0.936]"
          ]
        },
        {
          "output_type": "stream",
          "name": "stdout",
          "text": [
            "n_shots=12, Run=8, Accuracy: 93.60 %\n"
          ]
        },
        {
          "output_type": "stream",
          "name": "stderr",
          "text": [
            "\n",
            "100%|██████████████████████████| 10/10 [00:00<00:00, 107.65it/s, accuracy=0.928]"
          ]
        },
        {
          "output_type": "stream",
          "name": "stdout",
          "text": [
            "n_shots=16, Run=8, Accuracy: 92.80 %\n"
          ]
        },
        {
          "output_type": "stream",
          "name": "stderr",
          "text": [
            "\n",
            "100%|██████████████████████████| 10/10 [00:00<00:00, 105.87it/s, accuracy=0.959]"
          ]
        },
        {
          "output_type": "stream",
          "name": "stdout",
          "text": [
            "n_shots=24, Run=8, Accuracy: 95.87 %\n"
          ]
        },
        {
          "output_type": "stream",
          "name": "stderr",
          "text": [
            "\n",
            "100%|██████████████████████████| 10/10 [00:00<00:00, 102.60it/s, accuracy=0.959]"
          ]
        },
        {
          "output_type": "stream",
          "name": "stdout",
          "text": [
            "n_shots=32, Run=8, Accuracy: 95.93 %\n"
          ]
        },
        {
          "output_type": "stream",
          "name": "stderr",
          "text": [
            "\n",
            "100%|███████████████████████████| 10/10 [00:00<00:00, 104.90it/s, accuracy=0.79]"
          ]
        },
        {
          "output_type": "stream",
          "name": "stdout",
          "text": [
            "n_shots=1, Run=9, Accuracy: 79.00 %\n"
          ]
        },
        {
          "output_type": "stream",
          "name": "stderr",
          "text": [
            "\n",
            "100%|██████████████████████████| 10/10 [00:00<00:00, 108.83it/s, accuracy=0.849]"
          ]
        },
        {
          "output_type": "stream",
          "name": "stdout",
          "text": [
            "n_shots=2, Run=9, Accuracy: 84.93 %\n"
          ]
        },
        {
          "output_type": "stream",
          "name": "stderr",
          "text": [
            "\n",
            "100%|██████████████████████████| 10/10 [00:00<00:00, 112.14it/s, accuracy=0.893]"
          ]
        },
        {
          "output_type": "stream",
          "name": "stdout",
          "text": [
            "n_shots=3, Run=9, Accuracy: 89.27 %\n"
          ]
        },
        {
          "output_type": "stream",
          "name": "stderr",
          "text": [
            "\n",
            "100%|██████████████████████████| 10/10 [00:00<00:00, 111.94it/s, accuracy=0.918]"
          ]
        },
        {
          "output_type": "stream",
          "name": "stdout",
          "text": [
            "n_shots=4, Run=9, Accuracy: 91.83 %\n"
          ]
        },
        {
          "output_type": "stream",
          "name": "stderr",
          "text": [
            "\n",
            "100%|██████████████████████████| 10/10 [00:00<00:00, 110.76it/s, accuracy=0.907]"
          ]
        },
        {
          "output_type": "stream",
          "name": "stdout",
          "text": [
            "n_shots=5, Run=9, Accuracy: 90.73 %\n"
          ]
        },
        {
          "output_type": "stream",
          "name": "stderr",
          "text": [
            "\n",
            "100%|██████████████████████████| 10/10 [00:00<00:00, 107.47it/s, accuracy=0.954]"
          ]
        },
        {
          "output_type": "stream",
          "name": "stdout",
          "text": [
            "n_shots=6, Run=9, Accuracy: 95.37 %\n"
          ]
        },
        {
          "output_type": "stream",
          "name": "stderr",
          "text": [
            "\n",
            "100%|██████████████████████████| 10/10 [00:00<00:00, 107.97it/s, accuracy=0.929]"
          ]
        },
        {
          "output_type": "stream",
          "name": "stdout",
          "text": [
            "n_shots=8, Run=9, Accuracy: 92.93 %\n"
          ]
        },
        {
          "output_type": "stream",
          "name": "stderr",
          "text": [
            "\n",
            "100%|██████████████████████████| 10/10 [00:00<00:00, 108.40it/s, accuracy=0.966]"
          ]
        },
        {
          "output_type": "stream",
          "name": "stdout",
          "text": [
            "n_shots=10, Run=9, Accuracy: 96.63 %\n"
          ]
        },
        {
          "output_type": "stream",
          "name": "stderr",
          "text": [
            "\n",
            "100%|██████████████████████████| 10/10 [00:00<00:00, 107.23it/s, accuracy=0.945]"
          ]
        },
        {
          "output_type": "stream",
          "name": "stdout",
          "text": [
            "n_shots=12, Run=9, Accuracy: 94.50 %\n"
          ]
        },
        {
          "output_type": "stream",
          "name": "stderr",
          "text": [
            "\n",
            "100%|██████████████████████████| 10/10 [00:00<00:00, 106.98it/s, accuracy=0.943]"
          ]
        },
        {
          "output_type": "stream",
          "name": "stdout",
          "text": [
            "n_shots=16, Run=9, Accuracy: 94.27 %\n"
          ]
        },
        {
          "output_type": "stream",
          "name": "stderr",
          "text": [
            "\n",
            "100%|██████████████████████████| 10/10 [00:00<00:00, 103.78it/s, accuracy=0.954]"
          ]
        },
        {
          "output_type": "stream",
          "name": "stdout",
          "text": [
            "n_shots=24, Run=9, Accuracy: 95.43 %\n"
          ]
        },
        {
          "output_type": "stream",
          "name": "stderr",
          "text": [
            "\n",
            "100%|███████████████████████████| 10/10 [00:00<00:00, 105.37it/s, accuracy=0.95]"
          ]
        },
        {
          "output_type": "stream",
          "name": "stdout",
          "text": [
            "n_shots=32, Run=9, Accuracy: 95.00 %\n"
          ]
        },
        {
          "output_type": "stream",
          "name": "stderr",
          "text": [
            "\n",
            "100%|██████████████████████████| 10/10 [00:00<00:00, 104.14it/s, accuracy=0.784]"
          ]
        },
        {
          "output_type": "stream",
          "name": "stdout",
          "text": [
            "n_shots=1, Run=10, Accuracy: 78.40 %\n"
          ]
        },
        {
          "output_type": "stream",
          "name": "stderr",
          "text": [
            "\n",
            "100%|██████████████████████████| 10/10 [00:00<00:00, 111.24it/s, accuracy=0.802]"
          ]
        },
        {
          "output_type": "stream",
          "name": "stdout",
          "text": [
            "n_shots=2, Run=10, Accuracy: 80.20 %\n"
          ]
        },
        {
          "output_type": "stream",
          "name": "stderr",
          "text": [
            "\n",
            "100%|██████████████████████████| 10/10 [00:00<00:00, 107.95it/s, accuracy=0.924]"
          ]
        },
        {
          "output_type": "stream",
          "name": "stdout",
          "text": [
            "n_shots=3, Run=10, Accuracy: 92.37 %\n"
          ]
        },
        {
          "output_type": "stream",
          "name": "stderr",
          "text": [
            "\n",
            "100%|██████████████████████████| 10/10 [00:00<00:00, 101.28it/s, accuracy=0.957]"
          ]
        },
        {
          "output_type": "stream",
          "name": "stdout",
          "text": [
            "n_shots=4, Run=10, Accuracy: 95.73 %\n"
          ]
        },
        {
          "output_type": "stream",
          "name": "stderr",
          "text": [
            "\n",
            "100%|██████████████████████████| 10/10 [00:00<00:00, 109.39it/s, accuracy=0.944]"
          ]
        },
        {
          "output_type": "stream",
          "name": "stdout",
          "text": [
            "n_shots=5, Run=10, Accuracy: 94.40 %\n"
          ]
        },
        {
          "output_type": "stream",
          "name": "stderr",
          "text": [
            "\n",
            "100%|██████████████████████████| 10/10 [00:00<00:00, 108.51it/s, accuracy=0.939]"
          ]
        },
        {
          "output_type": "stream",
          "name": "stdout",
          "text": [
            "n_shots=6, Run=10, Accuracy: 93.90 %\n"
          ]
        },
        {
          "output_type": "stream",
          "name": "stderr",
          "text": [
            "\n",
            "100%|██████████████████████████| 10/10 [00:00<00:00, 102.27it/s, accuracy=0.943]"
          ]
        },
        {
          "output_type": "stream",
          "name": "stdout",
          "text": [
            "n_shots=8, Run=10, Accuracy: 94.30 %\n"
          ]
        },
        {
          "output_type": "stream",
          "name": "stderr",
          "text": [
            "\n",
            "100%|██████████████████████████| 10/10 [00:00<00:00, 103.34it/s, accuracy=0.923]"
          ]
        },
        {
          "output_type": "stream",
          "name": "stdout",
          "text": [
            "n_shots=10, Run=10, Accuracy: 92.33 %\n"
          ]
        },
        {
          "output_type": "stream",
          "name": "stderr",
          "text": [
            "\n",
            "100%|██████████████████████████| 10/10 [00:00<00:00, 102.75it/s, accuracy=0.925]"
          ]
        },
        {
          "output_type": "stream",
          "name": "stdout",
          "text": [
            "n_shots=12, Run=10, Accuracy: 92.50 %\n"
          ]
        },
        {
          "output_type": "stream",
          "name": "stderr",
          "text": [
            "\n",
            "100%|██████████████████████████| 10/10 [00:00<00:00, 100.28it/s, accuracy=0.953]"
          ]
        },
        {
          "output_type": "stream",
          "name": "stdout",
          "text": [
            "n_shots=16, Run=10, Accuracy: 95.30 %\n"
          ]
        },
        {
          "output_type": "stream",
          "name": "stderr",
          "text": [
            "\n",
            "100%|███████████████████████████| 10/10 [00:00<00:00, 98.98it/s, accuracy=0.952]"
          ]
        },
        {
          "output_type": "stream",
          "name": "stdout",
          "text": [
            "n_shots=24, Run=10, Accuracy: 95.17 %\n"
          ]
        },
        {
          "output_type": "stream",
          "name": "stderr",
          "text": [
            "\n",
            "100%|███████████████████████████| 10/10 [00:00<00:00, 94.35it/s, accuracy=0.952]"
          ]
        },
        {
          "output_type": "stream",
          "name": "stdout",
          "text": [
            "n_shots=32, Run=10, Accuracy: 95.20 %\n"
          ]
        },
        {
          "output_type": "stream",
          "name": "stderr",
          "text": [
            "\n",
            "100%|███████████████████████████| 10/10 [00:00<00:00, 97.43it/s, accuracy=0.865]"
          ]
        },
        {
          "output_type": "stream",
          "name": "stdout",
          "text": [
            "n_shots=1, Run=11, Accuracy: 86.53 %\n"
          ]
        },
        {
          "output_type": "stream",
          "name": "stderr",
          "text": [
            "\n",
            "100%|██████████████████████████| 10/10 [00:00<00:00, 111.11it/s, accuracy=0.922]"
          ]
        },
        {
          "output_type": "stream",
          "name": "stdout",
          "text": [
            "n_shots=2, Run=11, Accuracy: 92.17 %\n"
          ]
        },
        {
          "output_type": "stream",
          "name": "stderr",
          "text": [
            "\n",
            "100%|██████████████████████████| 10/10 [00:00<00:00, 109.67it/s, accuracy=0.871]"
          ]
        },
        {
          "output_type": "stream",
          "name": "stdout",
          "text": [
            "n_shots=3, Run=11, Accuracy: 87.10 %\n"
          ]
        },
        {
          "output_type": "stream",
          "name": "stderr",
          "text": [
            "\n",
            "100%|██████████████████████████| 10/10 [00:00<00:00, 109.34it/s, accuracy=0.909]"
          ]
        },
        {
          "output_type": "stream",
          "name": "stdout",
          "text": [
            "n_shots=4, Run=11, Accuracy: 90.90 %\n"
          ]
        },
        {
          "output_type": "stream",
          "name": "stderr",
          "text": [
            "\n",
            "100%|██████████████████████████| 10/10 [00:00<00:00, 108.77it/s, accuracy=0.931]"
          ]
        },
        {
          "output_type": "stream",
          "name": "stdout",
          "text": [
            "n_shots=5, Run=11, Accuracy: 93.07 %\n"
          ]
        },
        {
          "output_type": "stream",
          "name": "stderr",
          "text": [
            "\n",
            "100%|██████████████████████████| 10/10 [00:00<00:00, 107.73it/s, accuracy=0.961]"
          ]
        },
        {
          "output_type": "stream",
          "name": "stdout",
          "text": [
            "n_shots=6, Run=11, Accuracy: 96.07 %\n"
          ]
        },
        {
          "output_type": "stream",
          "name": "stderr",
          "text": [
            "\n",
            "100%|██████████████████████████| 10/10 [00:00<00:00, 107.95it/s, accuracy=0.932]"
          ]
        },
        {
          "output_type": "stream",
          "name": "stdout",
          "text": [
            "n_shots=8, Run=11, Accuracy: 93.23 %\n"
          ]
        },
        {
          "output_type": "stream",
          "name": "stderr",
          "text": [
            "\n",
            "100%|███████████████████████████| 10/10 [00:00<00:00, 91.06it/s, accuracy=0.948]"
          ]
        },
        {
          "output_type": "stream",
          "name": "stdout",
          "text": [
            "n_shots=10, Run=11, Accuracy: 94.77 %\n"
          ]
        },
        {
          "output_type": "stream",
          "name": "stderr",
          "text": [
            "\n",
            "100%|██████████████████████████| 10/10 [00:00<00:00, 106.55it/s, accuracy=0.934]"
          ]
        },
        {
          "output_type": "stream",
          "name": "stdout",
          "text": [
            "n_shots=12, Run=11, Accuracy: 93.43 %\n"
          ]
        },
        {
          "output_type": "stream",
          "name": "stderr",
          "text": [
            "\n",
            "100%|██████████████████████████| 10/10 [00:00<00:00, 100.53it/s, accuracy=0.948]"
          ]
        },
        {
          "output_type": "stream",
          "name": "stdout",
          "text": [
            "n_shots=16, Run=11, Accuracy: 94.83 %\n"
          ]
        },
        {
          "output_type": "stream",
          "name": "stderr",
          "text": [
            "\n",
            "100%|███████████████████████████| 10/10 [00:00<00:00, 105.08it/s, accuracy=0.96]"
          ]
        },
        {
          "output_type": "stream",
          "name": "stdout",
          "text": [
            "n_shots=24, Run=11, Accuracy: 96.03 %\n"
          ]
        },
        {
          "output_type": "stream",
          "name": "stderr",
          "text": [
            "\n",
            "100%|██████████████████████████| 10/10 [00:00<00:00, 100.55it/s, accuracy=0.956]"
          ]
        },
        {
          "output_type": "stream",
          "name": "stdout",
          "text": [
            "n_shots=32, Run=11, Accuracy: 95.57 %\n"
          ]
        },
        {
          "output_type": "stream",
          "name": "stderr",
          "text": [
            "\n",
            "100%|██████████████████████████| 10/10 [00:00<00:00, 100.29it/s, accuracy=0.789]"
          ]
        },
        {
          "output_type": "stream",
          "name": "stdout",
          "text": [
            "n_shots=1, Run=12, Accuracy: 78.93 %\n"
          ]
        },
        {
          "output_type": "stream",
          "name": "stderr",
          "text": [
            "\n",
            "100%|███████████████████████████| 10/10 [00:00<00:00, 107.77it/s, accuracy=0.84]"
          ]
        },
        {
          "output_type": "stream",
          "name": "stdout",
          "text": [
            "n_shots=2, Run=12, Accuracy: 83.97 %\n"
          ]
        },
        {
          "output_type": "stream",
          "name": "stderr",
          "text": [
            "\n",
            "100%|██████████████████████████| 10/10 [00:00<00:00, 104.26it/s, accuracy=0.954]"
          ]
        },
        {
          "output_type": "stream",
          "name": "stdout",
          "text": [
            "n_shots=3, Run=12, Accuracy: 95.40 %\n"
          ]
        },
        {
          "output_type": "stream",
          "name": "stderr",
          "text": [
            "\n",
            "100%|██████████████████████████| 10/10 [00:00<00:00, 107.13it/s, accuracy=0.925]"
          ]
        },
        {
          "output_type": "stream",
          "name": "stdout",
          "text": [
            "n_shots=4, Run=12, Accuracy: 92.47 %\n"
          ]
        },
        {
          "output_type": "stream",
          "name": "stderr",
          "text": [
            "\n",
            "100%|██████████████████████████| 10/10 [00:00<00:00, 107.63it/s, accuracy=0.935]"
          ]
        },
        {
          "output_type": "stream",
          "name": "stdout",
          "text": [
            "n_shots=5, Run=12, Accuracy: 93.53 %\n"
          ]
        },
        {
          "output_type": "stream",
          "name": "stderr",
          "text": [
            "\n",
            "100%|██████████████████████████| 10/10 [00:00<00:00, 106.61it/s, accuracy=0.956]"
          ]
        },
        {
          "output_type": "stream",
          "name": "stdout",
          "text": [
            "n_shots=6, Run=12, Accuracy: 95.63 %\n"
          ]
        },
        {
          "output_type": "stream",
          "name": "stderr",
          "text": [
            "\n",
            "100%|██████████████████████████| 10/10 [00:00<00:00, 105.81it/s, accuracy=0.944]"
          ]
        },
        {
          "output_type": "stream",
          "name": "stdout",
          "text": [
            "n_shots=8, Run=12, Accuracy: 94.37 %\n"
          ]
        },
        {
          "output_type": "stream",
          "name": "stderr",
          "text": [
            "\n",
            "100%|██████████████████████████| 10/10 [00:00<00:00, 105.79it/s, accuracy=0.928]"
          ]
        },
        {
          "output_type": "stream",
          "name": "stdout",
          "text": [
            "n_shots=10, Run=12, Accuracy: 92.80 %\n"
          ]
        },
        {
          "output_type": "stream",
          "name": "stderr",
          "text": [
            "\n",
            "100%|██████████████████████████| 10/10 [00:00<00:00, 105.27it/s, accuracy=0.922]"
          ]
        },
        {
          "output_type": "stream",
          "name": "stdout",
          "text": [
            "n_shots=12, Run=12, Accuracy: 92.23 %\n"
          ]
        },
        {
          "output_type": "stream",
          "name": "stderr",
          "text": [
            "\n",
            "100%|██████████████████████████| 10/10 [00:00<00:00, 102.87it/s, accuracy=0.954]"
          ]
        },
        {
          "output_type": "stream",
          "name": "stdout",
          "text": [
            "n_shots=16, Run=12, Accuracy: 95.37 %\n"
          ]
        },
        {
          "output_type": "stream",
          "name": "stderr",
          "text": [
            "\n",
            "100%|██████████████████████████| 10/10 [00:00<00:00, 103.05it/s, accuracy=0.954]"
          ]
        },
        {
          "output_type": "stream",
          "name": "stdout",
          "text": [
            "n_shots=24, Run=12, Accuracy: 95.40 %\n"
          ]
        },
        {
          "output_type": "stream",
          "name": "stderr",
          "text": [
            "\n",
            "100%|███████████████████████████| 10/10 [00:00<00:00, 99.36it/s, accuracy=0.943]"
          ]
        },
        {
          "output_type": "stream",
          "name": "stdout",
          "text": [
            "n_shots=32, Run=12, Accuracy: 94.33 %\n"
          ]
        },
        {
          "output_type": "stream",
          "name": "stderr",
          "text": [
            "\n",
            "100%|██████████████████████████| 10/10 [00:00<00:00, 103.41it/s, accuracy=0.765]"
          ]
        },
        {
          "output_type": "stream",
          "name": "stdout",
          "text": [
            "n_shots=1, Run=13, Accuracy: 76.47 %\n"
          ]
        },
        {
          "output_type": "stream",
          "name": "stderr",
          "text": [
            "\n",
            "100%|██████████████████████████| 10/10 [00:00<00:00, 108.89it/s, accuracy=0.935]"
          ]
        },
        {
          "output_type": "stream",
          "name": "stdout",
          "text": [
            "n_shots=2, Run=13, Accuracy: 93.47 %\n"
          ]
        },
        {
          "output_type": "stream",
          "name": "stderr",
          "text": [
            "\n",
            "100%|██████████████████████████| 10/10 [00:00<00:00, 112.41it/s, accuracy=0.904]"
          ]
        },
        {
          "output_type": "stream",
          "name": "stdout",
          "text": [
            "n_shots=3, Run=13, Accuracy: 90.43 %\n"
          ]
        },
        {
          "output_type": "stream",
          "name": "stderr",
          "text": [
            "\n",
            "100%|██████████████████████████| 10/10 [00:00<00:00, 107.57it/s, accuracy=0.909]"
          ]
        },
        {
          "output_type": "stream",
          "name": "stdout",
          "text": [
            "n_shots=4, Run=13, Accuracy: 90.90 %\n"
          ]
        },
        {
          "output_type": "stream",
          "name": "stderr",
          "text": [
            "\n",
            "100%|███████████████████████████| 10/10 [00:00<00:00, 111.31it/s, accuracy=0.95]"
          ]
        },
        {
          "output_type": "stream",
          "name": "stdout",
          "text": [
            "n_shots=5, Run=13, Accuracy: 94.97 %\n"
          ]
        },
        {
          "output_type": "stream",
          "name": "stderr",
          "text": [
            "\n",
            "100%|██████████████████████████| 10/10 [00:00<00:00, 107.84it/s, accuracy=0.928]"
          ]
        },
        {
          "output_type": "stream",
          "name": "stdout",
          "text": [
            "n_shots=6, Run=13, Accuracy: 92.83 %\n"
          ]
        },
        {
          "output_type": "stream",
          "name": "stderr",
          "text": [
            "\n",
            "100%|██████████████████████████| 10/10 [00:00<00:00, 105.13it/s, accuracy=0.956]"
          ]
        },
        {
          "output_type": "stream",
          "name": "stdout",
          "text": [
            "n_shots=8, Run=13, Accuracy: 95.63 %\n"
          ]
        },
        {
          "output_type": "stream",
          "name": "stderr",
          "text": [
            "\n",
            "100%|██████████████████████████| 10/10 [00:00<00:00, 108.21it/s, accuracy=0.949]"
          ]
        },
        {
          "output_type": "stream",
          "name": "stdout",
          "text": [
            "n_shots=10, Run=13, Accuracy: 94.90 %\n"
          ]
        },
        {
          "output_type": "stream",
          "name": "stderr",
          "text": [
            "\n",
            "100%|██████████████████████████| 10/10 [00:00<00:00, 109.91it/s, accuracy=0.922]"
          ]
        },
        {
          "output_type": "stream",
          "name": "stdout",
          "text": [
            "n_shots=12, Run=13, Accuracy: 92.23 %\n"
          ]
        },
        {
          "output_type": "stream",
          "name": "stderr",
          "text": [
            "\n",
            "100%|██████████████████████████| 10/10 [00:00<00:00, 107.83it/s, accuracy=0.952]"
          ]
        },
        {
          "output_type": "stream",
          "name": "stdout",
          "text": [
            "n_shots=16, Run=13, Accuracy: 95.17 %\n"
          ]
        },
        {
          "output_type": "stream",
          "name": "stderr",
          "text": [
            "\n",
            "100%|██████████████████████████| 10/10 [00:00<00:00, 108.06it/s, accuracy=0.964]"
          ]
        },
        {
          "output_type": "stream",
          "name": "stdout",
          "text": [
            "n_shots=24, Run=13, Accuracy: 96.40 %\n"
          ]
        },
        {
          "output_type": "stream",
          "name": "stderr",
          "text": [
            "\n",
            "100%|██████████████████████████| 10/10 [00:00<00:00, 103.37it/s, accuracy=0.958]"
          ]
        },
        {
          "output_type": "stream",
          "name": "stdout",
          "text": [
            "n_shots=32, Run=13, Accuracy: 95.80 %\n"
          ]
        },
        {
          "output_type": "stream",
          "name": "stderr",
          "text": [
            "\n",
            "100%|███████████████████████████| 10/10 [00:00<00:00, 96.39it/s, accuracy=0.866]"
          ]
        },
        {
          "output_type": "stream",
          "name": "stdout",
          "text": [
            "n_shots=1, Run=14, Accuracy: 86.60 %\n"
          ]
        },
        {
          "output_type": "stream",
          "name": "stderr",
          "text": [
            "\n",
            "100%|██████████████████████████| 10/10 [00:00<00:00, 107.89it/s, accuracy=0.917]"
          ]
        },
        {
          "output_type": "stream",
          "name": "stdout",
          "text": [
            "n_shots=2, Run=14, Accuracy: 91.67 %\n"
          ]
        },
        {
          "output_type": "stream",
          "name": "stderr",
          "text": [
            "\n",
            "100%|██████████████████████████| 10/10 [00:00<00:00, 111.43it/s, accuracy=0.878]"
          ]
        },
        {
          "output_type": "stream",
          "name": "stdout",
          "text": [
            "n_shots=3, Run=14, Accuracy: 87.77 %\n"
          ]
        },
        {
          "output_type": "stream",
          "name": "stderr",
          "text": [
            "\n",
            "100%|██████████████████████████| 10/10 [00:00<00:00, 109.13it/s, accuracy=0.906]"
          ]
        },
        {
          "output_type": "stream",
          "name": "stdout",
          "text": [
            "n_shots=4, Run=14, Accuracy: 90.57 %\n"
          ]
        },
        {
          "output_type": "stream",
          "name": "stderr",
          "text": [
            "\n",
            "100%|██████████████████████████| 10/10 [00:00<00:00, 110.83it/s, accuracy=0.926]"
          ]
        },
        {
          "output_type": "stream",
          "name": "stdout",
          "text": [
            "n_shots=5, Run=14, Accuracy: 92.63 %\n"
          ]
        },
        {
          "output_type": "stream",
          "name": "stderr",
          "text": [
            "\n",
            "100%|██████████████████████████| 10/10 [00:00<00:00, 109.93it/s, accuracy=0.915]"
          ]
        },
        {
          "output_type": "stream",
          "name": "stdout",
          "text": [
            "n_shots=6, Run=14, Accuracy: 91.47 %\n"
          ]
        },
        {
          "output_type": "stream",
          "name": "stderr",
          "text": [
            "\n",
            "100%|██████████████████████████| 10/10 [00:00<00:00, 112.21it/s, accuracy=0.931]"
          ]
        },
        {
          "output_type": "stream",
          "name": "stdout",
          "text": [
            "n_shots=8, Run=14, Accuracy: 93.07 %\n"
          ]
        },
        {
          "output_type": "stream",
          "name": "stderr",
          "text": [
            "\n",
            "100%|██████████████████████████| 10/10 [00:00<00:00, 107.69it/s, accuracy=0.921]"
          ]
        },
        {
          "output_type": "stream",
          "name": "stdout",
          "text": [
            "n_shots=10, Run=14, Accuracy: 92.07 %\n"
          ]
        },
        {
          "output_type": "stream",
          "name": "stderr",
          "text": [
            "\n",
            "100%|██████████████████████████| 10/10 [00:00<00:00, 110.06it/s, accuracy=0.942]"
          ]
        },
        {
          "output_type": "stream",
          "name": "stdout",
          "text": [
            "n_shots=12, Run=14, Accuracy: 94.17 %\n"
          ]
        },
        {
          "output_type": "stream",
          "name": "stderr",
          "text": [
            "\n",
            "100%|██████████████████████████| 10/10 [00:00<00:00, 108.23it/s, accuracy=0.948]"
          ]
        },
        {
          "output_type": "stream",
          "name": "stdout",
          "text": [
            "n_shots=16, Run=14, Accuracy: 94.83 %\n"
          ]
        },
        {
          "output_type": "stream",
          "name": "stderr",
          "text": [
            "\n",
            "100%|██████████████████████████| 10/10 [00:00<00:00, 106.32it/s, accuracy=0.952]"
          ]
        },
        {
          "output_type": "stream",
          "name": "stdout",
          "text": [
            "n_shots=24, Run=14, Accuracy: 95.23 %\n"
          ]
        },
        {
          "output_type": "stream",
          "name": "stderr",
          "text": [
            "\n",
            "100%|██████████████████████████| 10/10 [00:00<00:00, 103.65it/s, accuracy=0.951]"
          ]
        },
        {
          "output_type": "stream",
          "name": "stdout",
          "text": [
            "n_shots=32, Run=14, Accuracy: 95.07 %\n"
          ]
        },
        {
          "output_type": "stream",
          "name": "stderr",
          "text": [
            "\n",
            "100%|███████████████████████████| 10/10 [00:00<00:00, 105.53it/s, accuracy=0.83]"
          ]
        },
        {
          "output_type": "stream",
          "name": "stdout",
          "text": [
            "n_shots=1, Run=15, Accuracy: 83.03 %\n"
          ]
        },
        {
          "output_type": "stream",
          "name": "stderr",
          "text": [
            "\n",
            "100%|████████████████████████████| 10/10 [00:00<00:00, 107.81it/s, accuracy=0.9]"
          ]
        },
        {
          "output_type": "stream",
          "name": "stdout",
          "text": [
            "n_shots=2, Run=15, Accuracy: 89.97 %\n"
          ]
        },
        {
          "output_type": "stream",
          "name": "stderr",
          "text": [
            "\n",
            "100%|██████████████████████████| 10/10 [00:00<00:00, 110.13it/s, accuracy=0.897]"
          ]
        },
        {
          "output_type": "stream",
          "name": "stdout",
          "text": [
            "n_shots=3, Run=15, Accuracy: 89.70 %\n"
          ]
        },
        {
          "output_type": "stream",
          "name": "stderr",
          "text": [
            "\n",
            "100%|██████████████████████████| 10/10 [00:00<00:00, 106.94it/s, accuracy=0.929]"
          ]
        },
        {
          "output_type": "stream",
          "name": "stdout",
          "text": [
            "n_shots=4, Run=15, Accuracy: 92.90 %\n"
          ]
        },
        {
          "output_type": "stream",
          "name": "stderr",
          "text": [
            "\n",
            "100%|██████████████████████████| 10/10 [00:00<00:00, 108.01it/s, accuracy=0.941]"
          ]
        },
        {
          "output_type": "stream",
          "name": "stdout",
          "text": [
            "n_shots=5, Run=15, Accuracy: 94.07 %\n"
          ]
        },
        {
          "output_type": "stream",
          "name": "stderr",
          "text": [
            "\n",
            "100%|██████████████████████████| 10/10 [00:00<00:00, 111.25it/s, accuracy=0.936]"
          ]
        },
        {
          "output_type": "stream",
          "name": "stdout",
          "text": [
            "n_shots=6, Run=15, Accuracy: 93.63 %\n"
          ]
        },
        {
          "output_type": "stream",
          "name": "stderr",
          "text": [
            "\n",
            "100%|██████████████████████████| 10/10 [00:00<00:00, 107.16it/s, accuracy=0.923]"
          ]
        },
        {
          "output_type": "stream",
          "name": "stdout",
          "text": [
            "n_shots=8, Run=15, Accuracy: 92.33 %\n"
          ]
        },
        {
          "output_type": "stream",
          "name": "stderr",
          "text": [
            "\n",
            "100%|██████████████████████████| 10/10 [00:00<00:00, 107.92it/s, accuracy=0.949]"
          ]
        },
        {
          "output_type": "stream",
          "name": "stdout",
          "text": [
            "n_shots=10, Run=15, Accuracy: 94.90 %\n"
          ]
        },
        {
          "output_type": "stream",
          "name": "stderr",
          "text": [
            "\n",
            "100%|██████████████████████████| 10/10 [00:00<00:00, 106.12it/s, accuracy=0.921]"
          ]
        },
        {
          "output_type": "stream",
          "name": "stdout",
          "text": [
            "n_shots=12, Run=15, Accuracy: 92.10 %\n"
          ]
        },
        {
          "output_type": "stream",
          "name": "stderr",
          "text": [
            "\n",
            "100%|██████████████████████████| 10/10 [00:00<00:00, 103.81it/s, accuracy=0.931]"
          ]
        },
        {
          "output_type": "stream",
          "name": "stdout",
          "text": [
            "n_shots=16, Run=15, Accuracy: 93.10 %\n"
          ]
        },
        {
          "output_type": "stream",
          "name": "stderr",
          "text": [
            "\n",
            "100%|██████████████████████████| 10/10 [00:00<00:00, 103.19it/s, accuracy=0.937]"
          ]
        },
        {
          "output_type": "stream",
          "name": "stdout",
          "text": [
            "n_shots=24, Run=15, Accuracy: 93.67 %\n"
          ]
        },
        {
          "output_type": "stream",
          "name": "stderr",
          "text": [
            "\n",
            "100%|██████████████████████████| 10/10 [00:00<00:00, 100.55it/s, accuracy=0.936]"
          ]
        },
        {
          "output_type": "stream",
          "name": "stdout",
          "text": [
            "n_shots=32, Run=15, Accuracy: 93.63 %\n"
          ]
        },
        {
          "output_type": "stream",
          "name": "stderr",
          "text": [
            "\n",
            "100%|██████████████████████████| 10/10 [00:00<00:00, 105.05it/s, accuracy=0.794]"
          ]
        },
        {
          "output_type": "stream",
          "name": "stdout",
          "text": [
            "n_shots=1, Run=16, Accuracy: 79.37 %\n"
          ]
        },
        {
          "output_type": "stream",
          "name": "stderr",
          "text": [
            "\n",
            "100%|██████████████████████████| 10/10 [00:00<00:00, 106.41it/s, accuracy=0.854]"
          ]
        },
        {
          "output_type": "stream",
          "name": "stdout",
          "text": [
            "n_shots=2, Run=16, Accuracy: 85.43 %\n"
          ]
        },
        {
          "output_type": "stream",
          "name": "stderr",
          "text": [
            "\n",
            "100%|██████████████████████████| 10/10 [00:00<00:00, 111.32it/s, accuracy=0.944]"
          ]
        },
        {
          "output_type": "stream",
          "name": "stdout",
          "text": [
            "n_shots=3, Run=16, Accuracy: 94.43 %\n"
          ]
        },
        {
          "output_type": "stream",
          "name": "stderr",
          "text": [
            "\n",
            "100%|██████████████████████████| 10/10 [00:00<00:00, 109.22it/s, accuracy=0.905]"
          ]
        },
        {
          "output_type": "stream",
          "name": "stdout",
          "text": [
            "n_shots=4, Run=16, Accuracy: 90.47 %\n"
          ]
        },
        {
          "output_type": "stream",
          "name": "stderr",
          "text": [
            "\n",
            "100%|██████████████████████████| 10/10 [00:00<00:00, 108.63it/s, accuracy=0.937]"
          ]
        },
        {
          "output_type": "stream",
          "name": "stdout",
          "text": [
            "n_shots=5, Run=16, Accuracy: 93.73 %\n"
          ]
        },
        {
          "output_type": "stream",
          "name": "stderr",
          "text": [
            "\n",
            "100%|██████████████████████████| 10/10 [00:00<00:00, 109.27it/s, accuracy=0.941]"
          ]
        },
        {
          "output_type": "stream",
          "name": "stdout",
          "text": [
            "n_shots=6, Run=16, Accuracy: 94.07 %\n"
          ]
        },
        {
          "output_type": "stream",
          "name": "stderr",
          "text": [
            "\n",
            "100%|██████████████████████████| 10/10 [00:00<00:00, 107.96it/s, accuracy=0.944]"
          ]
        },
        {
          "output_type": "stream",
          "name": "stdout",
          "text": [
            "n_shots=8, Run=16, Accuracy: 94.43 %\n"
          ]
        },
        {
          "output_type": "stream",
          "name": "stderr",
          "text": [
            "\n",
            "100%|██████████████████████████| 10/10 [00:00<00:00, 103.62it/s, accuracy=0.923]"
          ]
        },
        {
          "output_type": "stream",
          "name": "stdout",
          "text": [
            "n_shots=10, Run=16, Accuracy: 92.33 %\n"
          ]
        },
        {
          "output_type": "stream",
          "name": "stderr",
          "text": [
            "\n",
            "100%|██████████████████████████| 10/10 [00:00<00:00, 104.79it/s, accuracy=0.943]"
          ]
        },
        {
          "output_type": "stream",
          "name": "stdout",
          "text": [
            "n_shots=12, Run=16, Accuracy: 94.30 %\n"
          ]
        },
        {
          "output_type": "stream",
          "name": "stderr",
          "text": [
            "\n",
            "100%|██████████████████████████| 10/10 [00:00<00:00, 101.34it/s, accuracy=0.948]"
          ]
        },
        {
          "output_type": "stream",
          "name": "stdout",
          "text": [
            "n_shots=16, Run=16, Accuracy: 94.77 %\n"
          ]
        },
        {
          "output_type": "stream",
          "name": "stderr",
          "text": [
            "\n",
            "100%|███████████████████████████| 10/10 [00:00<00:00, 99.49it/s, accuracy=0.927]"
          ]
        },
        {
          "output_type": "stream",
          "name": "stdout",
          "text": [
            "n_shots=24, Run=16, Accuracy: 92.73 %\n"
          ]
        },
        {
          "output_type": "stream",
          "name": "stderr",
          "text": [
            "\n",
            "100%|██████████████████████████| 10/10 [00:00<00:00, 100.39it/s, accuracy=0.928]"
          ]
        },
        {
          "output_type": "stream",
          "name": "stdout",
          "text": [
            "n_shots=32, Run=16, Accuracy: 92.77 %\n"
          ]
        },
        {
          "output_type": "stream",
          "name": "stderr",
          "text": [
            "\n",
            "100%|██████████████████████████| 10/10 [00:00<00:00, 102.46it/s, accuracy=0.817]"
          ]
        },
        {
          "output_type": "stream",
          "name": "stdout",
          "text": [
            "n_shots=1, Run=17, Accuracy: 81.70 %\n"
          ]
        },
        {
          "output_type": "stream",
          "name": "stderr",
          "text": [
            "\n",
            "100%|██████████████████████████| 10/10 [00:00<00:00, 107.29it/s, accuracy=0.904]"
          ]
        },
        {
          "output_type": "stream",
          "name": "stdout",
          "text": [
            "n_shots=2, Run=17, Accuracy: 90.37 %\n"
          ]
        },
        {
          "output_type": "stream",
          "name": "stderr",
          "text": [
            "\n",
            "100%|███████████████████████████| 10/10 [00:00<00:00, 101.68it/s, accuracy=0.93]"
          ]
        },
        {
          "output_type": "stream",
          "name": "stdout",
          "text": [
            "n_shots=3, Run=17, Accuracy: 93.00 %\n"
          ]
        },
        {
          "output_type": "stream",
          "name": "stderr",
          "text": [
            "\n",
            "100%|██████████████████████████| 10/10 [00:00<00:00, 103.66it/s, accuracy=0.926]"
          ]
        },
        {
          "output_type": "stream",
          "name": "stdout",
          "text": [
            "n_shots=4, Run=17, Accuracy: 92.63 %\n"
          ]
        },
        {
          "output_type": "stream",
          "name": "stderr",
          "text": [
            "\n",
            "100%|██████████████████████████| 10/10 [00:00<00:00, 106.29it/s, accuracy=0.905]"
          ]
        },
        {
          "output_type": "stream",
          "name": "stdout",
          "text": [
            "n_shots=5, Run=17, Accuracy: 90.47 %\n"
          ]
        },
        {
          "output_type": "stream",
          "name": "stderr",
          "text": [
            "\n",
            "100%|██████████████████████████| 10/10 [00:00<00:00, 108.70it/s, accuracy=0.908]"
          ]
        },
        {
          "output_type": "stream",
          "name": "stdout",
          "text": [
            "n_shots=6, Run=17, Accuracy: 90.77 %\n"
          ]
        },
        {
          "output_type": "stream",
          "name": "stderr",
          "text": [
            "\n",
            "100%|██████████████████████████| 10/10 [00:00<00:00, 107.93it/s, accuracy=0.942]"
          ]
        },
        {
          "output_type": "stream",
          "name": "stdout",
          "text": [
            "n_shots=8, Run=17, Accuracy: 94.23 %\n"
          ]
        },
        {
          "output_type": "stream",
          "name": "stderr",
          "text": [
            "\n",
            "100%|███████████████████████████| 10/10 [00:00<00:00, 97.96it/s, accuracy=0.931]"
          ]
        },
        {
          "output_type": "stream",
          "name": "stdout",
          "text": [
            "n_shots=10, Run=17, Accuracy: 93.10 %\n"
          ]
        },
        {
          "output_type": "stream",
          "name": "stderr",
          "text": [
            "\n",
            "100%|████████████████████████████| 10/10 [00:00<00:00, 99.60it/s, accuracy=0.93]"
          ]
        },
        {
          "output_type": "stream",
          "name": "stdout",
          "text": [
            "n_shots=12, Run=17, Accuracy: 93.00 %\n"
          ]
        },
        {
          "output_type": "stream",
          "name": "stderr",
          "text": [
            "\n",
            "100%|███████████████████████████| 10/10 [00:00<00:00, 96.45it/s, accuracy=0.945]"
          ]
        },
        {
          "output_type": "stream",
          "name": "stdout",
          "text": [
            "n_shots=16, Run=17, Accuracy: 94.47 %\n"
          ]
        },
        {
          "output_type": "stream",
          "name": "stderr",
          "text": [
            "\n",
            "100%|███████████████████████████| 10/10 [00:00<00:00, 98.61it/s, accuracy=0.941]"
          ]
        },
        {
          "output_type": "stream",
          "name": "stdout",
          "text": [
            "n_shots=24, Run=17, Accuracy: 94.13 %\n"
          ]
        },
        {
          "output_type": "stream",
          "name": "stderr",
          "text": [
            "\n",
            "100%|███████████████████████████| 10/10 [00:00<00:00, 98.04it/s, accuracy=0.946]"
          ]
        },
        {
          "output_type": "stream",
          "name": "stdout",
          "text": [
            "n_shots=32, Run=17, Accuracy: 94.57 %\n"
          ]
        },
        {
          "output_type": "stream",
          "name": "stderr",
          "text": [
            "\n",
            "100%|██████████████████████████| 10/10 [00:00<00:00, 101.19it/s, accuracy=0.799]"
          ]
        },
        {
          "output_type": "stream",
          "name": "stdout",
          "text": [
            "n_shots=1, Run=18, Accuracy: 79.87 %\n"
          ]
        },
        {
          "output_type": "stream",
          "name": "stderr",
          "text": [
            "\n",
            "100%|██████████████████████████| 10/10 [00:00<00:00, 106.67it/s, accuracy=0.875]"
          ]
        },
        {
          "output_type": "stream",
          "name": "stdout",
          "text": [
            "n_shots=2, Run=18, Accuracy: 87.50 %\n"
          ]
        },
        {
          "output_type": "stream",
          "name": "stderr",
          "text": [
            "\n",
            "100%|██████████████████████████| 10/10 [00:00<00:00, 107.49it/s, accuracy=0.874]"
          ]
        },
        {
          "output_type": "stream",
          "name": "stdout",
          "text": [
            "n_shots=3, Run=18, Accuracy: 87.40 %\n"
          ]
        },
        {
          "output_type": "stream",
          "name": "stderr",
          "text": [
            "\n",
            "100%|██████████████████████████| 10/10 [00:00<00:00, 107.66it/s, accuracy=0.927]"
          ]
        },
        {
          "output_type": "stream",
          "name": "stdout",
          "text": [
            "n_shots=4, Run=18, Accuracy: 92.67 %\n"
          ]
        },
        {
          "output_type": "stream",
          "name": "stderr",
          "text": [
            "\n",
            "100%|██████████████████████████| 10/10 [00:00<00:00, 104.69it/s, accuracy=0.939]"
          ]
        },
        {
          "output_type": "stream",
          "name": "stdout",
          "text": [
            "n_shots=5, Run=18, Accuracy: 93.87 %\n"
          ]
        },
        {
          "output_type": "stream",
          "name": "stderr",
          "text": [
            "\n",
            "100%|██████████████████████████| 10/10 [00:00<00:00, 106.33it/s, accuracy=0.912]"
          ]
        },
        {
          "output_type": "stream",
          "name": "stdout",
          "text": [
            "n_shots=6, Run=18, Accuracy: 91.23 %\n"
          ]
        },
        {
          "output_type": "stream",
          "name": "stderr",
          "text": [
            "\n",
            "100%|██████████████████████████| 10/10 [00:00<00:00, 108.01it/s, accuracy=0.943]"
          ]
        },
        {
          "output_type": "stream",
          "name": "stdout",
          "text": [
            "n_shots=8, Run=18, Accuracy: 94.30 %\n"
          ]
        },
        {
          "output_type": "stream",
          "name": "stderr",
          "text": [
            "\n",
            "100%|██████████████████████████| 10/10 [00:00<00:00, 108.83it/s, accuracy=0.936]"
          ]
        },
        {
          "output_type": "stream",
          "name": "stdout",
          "text": [
            "n_shots=10, Run=18, Accuracy: 93.63 %\n"
          ]
        },
        {
          "output_type": "stream",
          "name": "stderr",
          "text": [
            "\n",
            "100%|██████████████████████████| 10/10 [00:00<00:00, 110.76it/s, accuracy=0.937]"
          ]
        },
        {
          "output_type": "stream",
          "name": "stdout",
          "text": [
            "n_shots=12, Run=18, Accuracy: 93.67 %\n"
          ]
        },
        {
          "output_type": "stream",
          "name": "stderr",
          "text": [
            "\n",
            "100%|██████████████████████████| 10/10 [00:00<00:00, 106.53it/s, accuracy=0.957]"
          ]
        },
        {
          "output_type": "stream",
          "name": "stdout",
          "text": [
            "n_shots=16, Run=18, Accuracy: 95.70 %\n"
          ]
        },
        {
          "output_type": "stream",
          "name": "stderr",
          "text": [
            "\n",
            "100%|██████████████████████████| 10/10 [00:00<00:00, 105.47it/s, accuracy=0.956]"
          ]
        },
        {
          "output_type": "stream",
          "name": "stdout",
          "text": [
            "n_shots=24, Run=18, Accuracy: 95.63 %\n"
          ]
        },
        {
          "output_type": "stream",
          "name": "stderr",
          "text": [
            "\n",
            "100%|██████████████████████████| 10/10 [00:00<00:00, 104.31it/s, accuracy=0.965]"
          ]
        },
        {
          "output_type": "stream",
          "name": "stdout",
          "text": [
            "n_shots=32, Run=18, Accuracy: 96.47 %\n"
          ]
        },
        {
          "output_type": "stream",
          "name": "stderr",
          "text": [
            "\n",
            "100%|██████████████████████████| 10/10 [00:00<00:00, 105.18it/s, accuracy=0.823]"
          ]
        },
        {
          "output_type": "stream",
          "name": "stdout",
          "text": [
            "n_shots=1, Run=19, Accuracy: 82.27 %\n"
          ]
        },
        {
          "output_type": "stream",
          "name": "stderr",
          "text": [
            "\n",
            "100%|██████████████████████████| 10/10 [00:00<00:00, 109.69it/s, accuracy=0.899]"
          ]
        },
        {
          "output_type": "stream",
          "name": "stdout",
          "text": [
            "n_shots=2, Run=19, Accuracy: 89.87 %\n"
          ]
        },
        {
          "output_type": "stream",
          "name": "stderr",
          "text": [
            "\n",
            "100%|██████████████████████████| 10/10 [00:00<00:00, 110.27it/s, accuracy=0.947]"
          ]
        },
        {
          "output_type": "stream",
          "name": "stdout",
          "text": [
            "n_shots=3, Run=19, Accuracy: 94.67 %\n"
          ]
        },
        {
          "output_type": "stream",
          "name": "stderr",
          "text": [
            "\n",
            "100%|██████████████████████████| 10/10 [00:00<00:00, 112.04it/s, accuracy=0.896]\n"
          ]
        },
        {
          "output_type": "stream",
          "name": "stdout",
          "text": [
            "n_shots=4, Run=19, Accuracy: 89.60 %\n"
          ]
        },
        {
          "output_type": "stream",
          "name": "stderr",
          "text": [
            "100%|██████████████████████████| 10/10 [00:00<00:00, 107.37it/s, accuracy=0.938]"
          ]
        },
        {
          "output_type": "stream",
          "name": "stdout",
          "text": [
            "n_shots=5, Run=19, Accuracy: 93.80 %\n"
          ]
        },
        {
          "output_type": "stream",
          "name": "stderr",
          "text": [
            "\n",
            "100%|██████████████████████████| 10/10 [00:00<00:00, 101.15it/s, accuracy=0.926]"
          ]
        },
        {
          "output_type": "stream",
          "name": "stdout",
          "text": [
            "n_shots=6, Run=19, Accuracy: 92.57 %\n"
          ]
        },
        {
          "output_type": "stream",
          "name": "stderr",
          "text": [
            "\n",
            "100%|██████████████████████████| 10/10 [00:00<00:00, 109.20it/s, accuracy=0.956]"
          ]
        },
        {
          "output_type": "stream",
          "name": "stdout",
          "text": [
            "n_shots=8, Run=19, Accuracy: 95.57 %\n"
          ]
        },
        {
          "output_type": "stream",
          "name": "stderr",
          "text": [
            "\n",
            "100%|██████████████████████████| 10/10 [00:00<00:00, 104.45it/s, accuracy=0.949]"
          ]
        },
        {
          "output_type": "stream",
          "name": "stdout",
          "text": [
            "n_shots=10, Run=19, Accuracy: 94.87 %\n"
          ]
        },
        {
          "output_type": "stream",
          "name": "stderr",
          "text": [
            "\n",
            "100%|██████████████████████████| 10/10 [00:00<00:00, 108.84it/s, accuracy=0.932]"
          ]
        },
        {
          "output_type": "stream",
          "name": "stdout",
          "text": [
            "n_shots=12, Run=19, Accuracy: 93.20 %\n"
          ]
        },
        {
          "output_type": "stream",
          "name": "stderr",
          "text": [
            "\n",
            "100%|██████████████████████████| 10/10 [00:00<00:00, 109.77it/s, accuracy=0.926]"
          ]
        },
        {
          "output_type": "stream",
          "name": "stdout",
          "text": [
            "n_shots=16, Run=19, Accuracy: 92.60 %\n"
          ]
        },
        {
          "output_type": "stream",
          "name": "stderr",
          "text": [
            "\n",
            "100%|██████████████████████████| 10/10 [00:00<00:00, 108.26it/s, accuracy=0.963]"
          ]
        },
        {
          "output_type": "stream",
          "name": "stdout",
          "text": [
            "n_shots=24, Run=19, Accuracy: 96.33 %\n"
          ]
        },
        {
          "output_type": "stream",
          "name": "stderr",
          "text": [
            "\n",
            "100%|███████████████████████████| 10/10 [00:00<00:00, 96.81it/s, accuracy=0.933]"
          ]
        },
        {
          "output_type": "stream",
          "name": "stdout",
          "text": [
            "n_shots=32, Run=19, Accuracy: 93.30 %\n"
          ]
        },
        {
          "output_type": "stream",
          "name": "stderr",
          "text": [
            "\n",
            "100%|███████████████████████████| 10/10 [00:00<00:00, 97.38it/s, accuracy=0.812]"
          ]
        },
        {
          "output_type": "stream",
          "name": "stdout",
          "text": [
            "n_shots=1, Run=20, Accuracy: 81.23 %\n"
          ]
        },
        {
          "output_type": "stream",
          "name": "stderr",
          "text": [
            "\n",
            "100%|██████████████████████████| 10/10 [00:00<00:00, 108.41it/s, accuracy=0.898]"
          ]
        },
        {
          "output_type": "stream",
          "name": "stdout",
          "text": [
            "n_shots=2, Run=20, Accuracy: 89.80 %\n"
          ]
        },
        {
          "output_type": "stream",
          "name": "stderr",
          "text": [
            "\n",
            "100%|██████████████████████████| 10/10 [00:00<00:00, 112.80it/s, accuracy=0.879]"
          ]
        },
        {
          "output_type": "stream",
          "name": "stdout",
          "text": [
            "n_shots=3, Run=20, Accuracy: 87.90 %\n"
          ]
        },
        {
          "output_type": "stream",
          "name": "stderr",
          "text": [
            "\n",
            "100%|███████████████████████████| 10/10 [00:00<00:00, 104.27it/s, accuracy=0.93]"
          ]
        },
        {
          "output_type": "stream",
          "name": "stdout",
          "text": [
            "n_shots=4, Run=20, Accuracy: 92.97 %\n"
          ]
        },
        {
          "output_type": "stream",
          "name": "stderr",
          "text": [
            "\n",
            "100%|██████████████████████████| 10/10 [00:00<00:00, 104.37it/s, accuracy=0.888]"
          ]
        },
        {
          "output_type": "stream",
          "name": "stdout",
          "text": [
            "n_shots=5, Run=20, Accuracy: 88.80 %\n"
          ]
        },
        {
          "output_type": "stream",
          "name": "stderr",
          "text": [
            "\n",
            "100%|██████████████████████████| 10/10 [00:00<00:00, 108.75it/s, accuracy=0.954]"
          ]
        },
        {
          "output_type": "stream",
          "name": "stdout",
          "text": [
            "n_shots=6, Run=20, Accuracy: 95.40 %\n"
          ]
        },
        {
          "output_type": "stream",
          "name": "stderr",
          "text": [
            "\n",
            "100%|██████████████████████████| 10/10 [00:00<00:00, 108.22it/s, accuracy=0.936]"
          ]
        },
        {
          "output_type": "stream",
          "name": "stdout",
          "text": [
            "n_shots=8, Run=20, Accuracy: 93.57 %\n"
          ]
        },
        {
          "output_type": "stream",
          "name": "stderr",
          "text": [
            "\n",
            "100%|██████████████████████████| 10/10 [00:00<00:00, 109.09it/s, accuracy=0.955]"
          ]
        },
        {
          "output_type": "stream",
          "name": "stdout",
          "text": [
            "n_shots=10, Run=20, Accuracy: 95.50 %\n"
          ]
        },
        {
          "output_type": "stream",
          "name": "stderr",
          "text": [
            "\n",
            "100%|██████████████████████████| 10/10 [00:00<00:00, 105.39it/s, accuracy=0.966]"
          ]
        },
        {
          "output_type": "stream",
          "name": "stdout",
          "text": [
            "n_shots=12, Run=20, Accuracy: 96.60 %\n"
          ]
        },
        {
          "output_type": "stream",
          "name": "stderr",
          "text": [
            "\n",
            "100%|██████████████████████████| 10/10 [00:00<00:00, 106.77it/s, accuracy=0.933]"
          ]
        },
        {
          "output_type": "stream",
          "name": "stdout",
          "text": [
            "n_shots=16, Run=20, Accuracy: 93.27 %\n"
          ]
        },
        {
          "output_type": "stream",
          "name": "stderr",
          "text": [
            "\n",
            "100%|██████████████████████████| 10/10 [00:00<00:00, 104.78it/s, accuracy=0.942]"
          ]
        },
        {
          "output_type": "stream",
          "name": "stdout",
          "text": [
            "n_shots=24, Run=20, Accuracy: 94.23 %\n"
          ]
        },
        {
          "output_type": "stream",
          "name": "stderr",
          "text": [
            "\n",
            "100%|██████████████████████████| 10/10 [00:00<00:00, 105.58it/s, accuracy=0.949]"
          ]
        },
        {
          "output_type": "stream",
          "name": "stdout",
          "text": [
            "n_shots=32, Run=20, Accuracy: 94.90 %\n"
          ]
        },
        {
          "output_type": "stream",
          "name": "stderr",
          "text": [
            "\n"
          ]
        }
      ],
      "source": [
        "output_directory_k = Path(\"/home/rakib/models/paper_benchmarking_ssl_diverse_pathology/inference/kather/bt/2\")\n",
        "\n",
        "data_to_test = Path(\"/home/rakib/data/kather_texture/\")\n",
        "transform = transforms.Compose([transforms.Resize((224, 224)),\n",
        "                                transforms.ToTensor()])\n",
        "testset = torchvision.datasets.ImageFolder(data_to_test, transform=transform)\n",
        "\n",
        "classes = testset.classes\n",
        "print(classes)\n",
        "dataloader = DataLoader(testset, batch_size=128, shuffle=False, drop_last=False)\n",
        "kather_emb_df = predict_embeddings(dataloader, model, device=device)\n",
        "kather_emb_dataset = FeaturesDataset.from_dataframe(kather_emb_df)\n",
        "kather_results_df = evaluate_few_shot_model(kather_emb_dataset, model, device=device, n_way=3)\n",
        "kather_results_df.sort_values([\"n_shots\", \"accuracy\"])\n",
        "\n",
        "mean_accuracies_k = kather_results_df.groupby(\"n_shots\")[\"accuracy\"].mean().reset_index()\n",
        "mean_accuracies_k.rename(columns={\"accuracy\": \"mean\"}, inplace=True)\n",
        "std_accuracies_k = kather_results_df.groupby(\"n_shots\")[\"accuracy\"].std().reset_index()\n",
        "std_accuracies_k.rename(columns={\"accuracy\": \"std\"}, inplace=True)\n",
        "# Merge the two DataFrames based on the 'n_shots' column\n",
        "merged_df_k = pd.merge(mean_accuracies_k, std_accuracies_k, on=\"n_shots\")\n",
        "\n",
        "# Save the average accuracy information in a separate CSV file\n",
        "acc_csv_filename = \"3way_average_accuracy_kather_bt.csv\"\n",
        "merged_df_k.to_csv(os.path.join(output_directory_k, acc_csv_filename), index=False)"
      ]
    },
    {
      "cell_type": "code",
      "execution_count": null,
      "metadata": {
        "colab": {
          "base_uri": "https://localhost:8080/"
        },
        "id": "prbYFs6w_oLt",
        "outputId": "b17c854d-66b9-466f-b56d-7d5d725e40c3"
      },
      "outputs": [
        {
          "output_type": "stream",
          "name": "stdout",
          "text": [
            "['ADI', 'BACK', 'DEB', 'LYM', 'MUC', 'MUS', 'NORM', 'STR', 'TUM']\n"
          ]
        },
        {
          "output_type": "stream",
          "name": "stderr",
          "text": [
            "Predicting embeddings: 100%|█████████████████| 57/57 [00:16<00:00,  3.47batch/s]\n",
            "100%|███████████████████████████| 10/10 [00:00<00:00, 104.10it/s, accuracy=0.91]"
          ]
        },
        {
          "output_type": "stream",
          "name": "stdout",
          "text": [
            "n_shots=1, Run=1, Accuracy: 90.97 %\n"
          ]
        },
        {
          "output_type": "stream",
          "name": "stderr",
          "text": [
            "\n",
            "100%|██████████████████████████| 10/10 [00:00<00:00, 103.89it/s, accuracy=0.865]"
          ]
        },
        {
          "output_type": "stream",
          "name": "stdout",
          "text": [
            "n_shots=2, Run=1, Accuracy: 86.50 %\n"
          ]
        },
        {
          "output_type": "stream",
          "name": "stderr",
          "text": [
            "\n",
            "100%|███████████████████████████| 10/10 [00:00<00:00, 106.25it/s, accuracy=0.94]"
          ]
        },
        {
          "output_type": "stream",
          "name": "stdout",
          "text": [
            "n_shots=3, Run=1, Accuracy: 94.03 %\n"
          ]
        },
        {
          "output_type": "stream",
          "name": "stderr",
          "text": [
            "\n",
            "100%|██████████████████████████| 10/10 [00:00<00:00, 111.04it/s, accuracy=0.961]"
          ]
        },
        {
          "output_type": "stream",
          "name": "stdout",
          "text": [
            "n_shots=4, Run=1, Accuracy: 96.13 %\n"
          ]
        },
        {
          "output_type": "stream",
          "name": "stderr",
          "text": [
            "\n",
            "100%|██████████████████████████| 10/10 [00:00<00:00, 110.38it/s, accuracy=0.985]"
          ]
        },
        {
          "output_type": "stream",
          "name": "stdout",
          "text": [
            "n_shots=5, Run=1, Accuracy: 98.53 %\n"
          ]
        },
        {
          "output_type": "stream",
          "name": "stderr",
          "text": [
            "\n",
            "100%|██████████████████████████| 10/10 [00:00<00:00, 107.68it/s, accuracy=0.961]"
          ]
        },
        {
          "output_type": "stream",
          "name": "stdout",
          "text": [
            "n_shots=6, Run=1, Accuracy: 96.10 %\n"
          ]
        },
        {
          "output_type": "stream",
          "name": "stderr",
          "text": [
            "\n",
            "100%|██████████████████████████| 10/10 [00:00<00:00, 109.09it/s, accuracy=0.956]"
          ]
        },
        {
          "output_type": "stream",
          "name": "stdout",
          "text": [
            "n_shots=8, Run=1, Accuracy: 95.63 %\n"
          ]
        },
        {
          "output_type": "stream",
          "name": "stderr",
          "text": [
            "\n",
            "100%|██████████████████████████| 10/10 [00:00<00:00, 107.56it/s, accuracy=0.965]"
          ]
        },
        {
          "output_type": "stream",
          "name": "stdout",
          "text": [
            "n_shots=10, Run=1, Accuracy: 96.47 %\n"
          ]
        },
        {
          "output_type": "stream",
          "name": "stderr",
          "text": [
            "\n",
            "100%|██████████████████████████| 10/10 [00:00<00:00, 105.77it/s, accuracy=0.996]"
          ]
        },
        {
          "output_type": "stream",
          "name": "stdout",
          "text": [
            "n_shots=12, Run=1, Accuracy: 99.57 %\n"
          ]
        },
        {
          "output_type": "stream",
          "name": "stderr",
          "text": [
            "\n",
            "100%|██████████████████████████| 10/10 [00:00<00:00, 109.34it/s, accuracy=0.993]"
          ]
        },
        {
          "output_type": "stream",
          "name": "stdout",
          "text": [
            "n_shots=16, Run=1, Accuracy: 99.30 %\n"
          ]
        },
        {
          "output_type": "stream",
          "name": "stderr",
          "text": [
            "\n",
            "100%|██████████████████████████| 10/10 [00:00<00:00, 104.61it/s, accuracy=0.979]"
          ]
        },
        {
          "output_type": "stream",
          "name": "stdout",
          "text": [
            "n_shots=24, Run=1, Accuracy: 97.93 %\n"
          ]
        },
        {
          "output_type": "stream",
          "name": "stderr",
          "text": [
            "\n",
            "100%|██████████████████████████| 10/10 [00:00<00:00, 106.57it/s, accuracy=0.954]"
          ]
        },
        {
          "output_type": "stream",
          "name": "stdout",
          "text": [
            "n_shots=32, Run=1, Accuracy: 95.43 %\n"
          ]
        },
        {
          "output_type": "stream",
          "name": "stderr",
          "text": [
            "\n",
            "100%|██████████████████████████| 10/10 [00:00<00:00, 108.99it/s, accuracy=0.864]"
          ]
        },
        {
          "output_type": "stream",
          "name": "stdout",
          "text": [
            "n_shots=1, Run=2, Accuracy: 86.40 %\n"
          ]
        },
        {
          "output_type": "stream",
          "name": "stderr",
          "text": [
            "\n",
            "100%|██████████████████████████| 10/10 [00:00<00:00, 111.36it/s, accuracy=0.945]"
          ]
        },
        {
          "output_type": "stream",
          "name": "stdout",
          "text": [
            "n_shots=2, Run=2, Accuracy: 94.50 %\n"
          ]
        },
        {
          "output_type": "stream",
          "name": "stderr",
          "text": [
            "\n",
            "100%|██████████████████████████| 10/10 [00:00<00:00, 111.88it/s, accuracy=0.926]"
          ]
        },
        {
          "output_type": "stream",
          "name": "stdout",
          "text": [
            "n_shots=3, Run=2, Accuracy: 92.57 %\n"
          ]
        },
        {
          "output_type": "stream",
          "name": "stderr",
          "text": [
            "\n",
            "100%|██████████████████████████| 10/10 [00:00<00:00, 109.38it/s, accuracy=0.948]"
          ]
        },
        {
          "output_type": "stream",
          "name": "stdout",
          "text": [
            "n_shots=4, Run=2, Accuracy: 94.80 %\n"
          ]
        },
        {
          "output_type": "stream",
          "name": "stderr",
          "text": [
            "\n",
            "100%|██████████████████████████| 10/10 [00:00<00:00, 108.87it/s, accuracy=0.971]"
          ]
        },
        {
          "output_type": "stream",
          "name": "stdout",
          "text": [
            "n_shots=5, Run=2, Accuracy: 97.10 %\n"
          ]
        },
        {
          "output_type": "stream",
          "name": "stderr",
          "text": [
            "\n",
            "100%|██████████████████████████| 10/10 [00:00<00:00, 108.98it/s, accuracy=0.991]"
          ]
        },
        {
          "output_type": "stream",
          "name": "stdout",
          "text": [
            "n_shots=6, Run=2, Accuracy: 99.07 %\n"
          ]
        },
        {
          "output_type": "stream",
          "name": "stderr",
          "text": [
            "\n",
            "100%|███████████████████████████| 10/10 [00:00<00:00, 108.95it/s, accuracy=0.97]"
          ]
        },
        {
          "output_type": "stream",
          "name": "stdout",
          "text": [
            "n_shots=8, Run=2, Accuracy: 97.03 %\n"
          ]
        },
        {
          "output_type": "stream",
          "name": "stderr",
          "text": [
            "\n",
            "100%|██████████████████████████| 10/10 [00:00<00:00, 110.71it/s, accuracy=0.988]"
          ]
        },
        {
          "output_type": "stream",
          "name": "stdout",
          "text": [
            "n_shots=10, Run=2, Accuracy: 98.77 %\n"
          ]
        },
        {
          "output_type": "stream",
          "name": "stderr",
          "text": [
            "\n",
            "100%|██████████████████████████| 10/10 [00:00<00:00, 107.98it/s, accuracy=0.974]"
          ]
        },
        {
          "output_type": "stream",
          "name": "stdout",
          "text": [
            "n_shots=12, Run=2, Accuracy: 97.43 %\n"
          ]
        },
        {
          "output_type": "stream",
          "name": "stderr",
          "text": [
            "\n",
            "100%|██████████████████████████| 10/10 [00:00<00:00, 102.71it/s, accuracy=0.987]"
          ]
        },
        {
          "output_type": "stream",
          "name": "stdout",
          "text": [
            "n_shots=16, Run=2, Accuracy: 98.70 %\n"
          ]
        },
        {
          "output_type": "stream",
          "name": "stderr",
          "text": [
            "\n",
            "100%|██████████████████████████| 10/10 [00:00<00:00, 103.39it/s, accuracy=0.984]"
          ]
        },
        {
          "output_type": "stream",
          "name": "stdout",
          "text": [
            "n_shots=24, Run=2, Accuracy: 98.40 %\n"
          ]
        },
        {
          "output_type": "stream",
          "name": "stderr",
          "text": [
            "\n",
            "100%|██████████████████████████| 10/10 [00:00<00:00, 105.53it/s, accuracy=0.985]"
          ]
        },
        {
          "output_type": "stream",
          "name": "stdout",
          "text": [
            "n_shots=32, Run=2, Accuracy: 98.50 %\n"
          ]
        },
        {
          "output_type": "stream",
          "name": "stderr",
          "text": [
            "\n",
            "100%|███████████████████████████| 10/10 [00:00<00:00, 105.62it/s, accuracy=0.88]"
          ]
        },
        {
          "output_type": "stream",
          "name": "stdout",
          "text": [
            "n_shots=1, Run=3, Accuracy: 87.97 %\n"
          ]
        },
        {
          "output_type": "stream",
          "name": "stderr",
          "text": [
            "\n",
            "100%|██████████████████████████| 10/10 [00:00<00:00, 108.33it/s, accuracy=0.965]"
          ]
        },
        {
          "output_type": "stream",
          "name": "stdout",
          "text": [
            "n_shots=2, Run=3, Accuracy: 96.47 %\n"
          ]
        },
        {
          "output_type": "stream",
          "name": "stderr",
          "text": [
            "\n",
            "100%|██████████████████████████| 10/10 [00:00<00:00, 109.47it/s, accuracy=0.948]"
          ]
        },
        {
          "output_type": "stream",
          "name": "stdout",
          "text": [
            "n_shots=3, Run=3, Accuracy: 94.77 %\n"
          ]
        },
        {
          "output_type": "stream",
          "name": "stderr",
          "text": [
            "\n",
            "100%|██████████████████████████| 10/10 [00:00<00:00, 108.82it/s, accuracy=0.983]"
          ]
        },
        {
          "output_type": "stream",
          "name": "stdout",
          "text": [
            "n_shots=4, Run=3, Accuracy: 98.33 %\n"
          ]
        },
        {
          "output_type": "stream",
          "name": "stderr",
          "text": [
            "\n",
            "100%|██████████████████████████| 10/10 [00:00<00:00, 110.63it/s, accuracy=0.968]"
          ]
        },
        {
          "output_type": "stream",
          "name": "stdout",
          "text": [
            "n_shots=5, Run=3, Accuracy: 96.83 %\n"
          ]
        },
        {
          "output_type": "stream",
          "name": "stderr",
          "text": [
            "\n",
            "100%|██████████████████████████| 10/10 [00:00<00:00, 107.16it/s, accuracy=0.956]"
          ]
        },
        {
          "output_type": "stream",
          "name": "stdout",
          "text": [
            "n_shots=6, Run=3, Accuracy: 95.60 %\n"
          ]
        },
        {
          "output_type": "stream",
          "name": "stderr",
          "text": [
            "\n",
            "100%|██████████████████████████| 10/10 [00:00<00:00, 110.72it/s, accuracy=0.975]"
          ]
        },
        {
          "output_type": "stream",
          "name": "stdout",
          "text": [
            "n_shots=8, Run=3, Accuracy: 97.53 %\n"
          ]
        },
        {
          "output_type": "stream",
          "name": "stderr",
          "text": [
            "\n",
            "100%|███████████████████████████| 10/10 [00:00<00:00, 105.75it/s, accuracy=0.99]"
          ]
        },
        {
          "output_type": "stream",
          "name": "stdout",
          "text": [
            "n_shots=10, Run=3, Accuracy: 98.97 %\n"
          ]
        },
        {
          "output_type": "stream",
          "name": "stderr",
          "text": [
            "\n",
            "100%|██████████████████████████| 10/10 [00:00<00:00, 111.10it/s, accuracy=0.971]"
          ]
        },
        {
          "output_type": "stream",
          "name": "stdout",
          "text": [
            "n_shots=12, Run=3, Accuracy: 97.10 %\n"
          ]
        },
        {
          "output_type": "stream",
          "name": "stderr",
          "text": [
            "\n",
            "100%|███████████████████████████| 10/10 [00:00<00:00, 107.68it/s, accuracy=0.98]"
          ]
        },
        {
          "output_type": "stream",
          "name": "stdout",
          "text": [
            "n_shots=16, Run=3, Accuracy: 98.03 %\n"
          ]
        },
        {
          "output_type": "stream",
          "name": "stderr",
          "text": [
            "\n",
            "100%|███████████████████████████| 10/10 [00:00<00:00, 102.84it/s, accuracy=0.98]"
          ]
        },
        {
          "output_type": "stream",
          "name": "stdout",
          "text": [
            "n_shots=24, Run=3, Accuracy: 97.97 %\n"
          ]
        },
        {
          "output_type": "stream",
          "name": "stderr",
          "text": [
            "\n",
            "100%|██████████████████████████| 10/10 [00:00<00:00, 104.96it/s, accuracy=0.972]"
          ]
        },
        {
          "output_type": "stream",
          "name": "stdout",
          "text": [
            "n_shots=32, Run=3, Accuracy: 97.17 %\n"
          ]
        },
        {
          "output_type": "stream",
          "name": "stderr",
          "text": [
            "\n",
            "100%|███████████████████████████| 10/10 [00:00<00:00, 103.15it/s, accuracy=0.84]"
          ]
        },
        {
          "output_type": "stream",
          "name": "stdout",
          "text": [
            "n_shots=1, Run=4, Accuracy: 83.97 %\n"
          ]
        },
        {
          "output_type": "stream",
          "name": "stderr",
          "text": [
            "\n",
            "100%|██████████████████████████| 10/10 [00:00<00:00, 104.43it/s, accuracy=0.908]"
          ]
        },
        {
          "output_type": "stream",
          "name": "stdout",
          "text": [
            "n_shots=2, Run=4, Accuracy: 90.80 %\n"
          ]
        },
        {
          "output_type": "stream",
          "name": "stderr",
          "text": [
            "\n",
            "100%|██████████████████████████| 10/10 [00:00<00:00, 105.89it/s, accuracy=0.928]"
          ]
        },
        {
          "output_type": "stream",
          "name": "stdout",
          "text": [
            "n_shots=3, Run=4, Accuracy: 92.77 %\n"
          ]
        },
        {
          "output_type": "stream",
          "name": "stderr",
          "text": [
            "\n",
            "100%|██████████████████████████| 10/10 [00:00<00:00, 108.30it/s, accuracy=0.955]"
          ]
        },
        {
          "output_type": "stream",
          "name": "stdout",
          "text": [
            "n_shots=4, Run=4, Accuracy: 95.53 %\n"
          ]
        },
        {
          "output_type": "stream",
          "name": "stderr",
          "text": [
            "\n",
            "100%|██████████████████████████| 10/10 [00:00<00:00, 110.37it/s, accuracy=0.982]"
          ]
        },
        {
          "output_type": "stream",
          "name": "stdout",
          "text": [
            "n_shots=5, Run=4, Accuracy: 98.23 %\n"
          ]
        },
        {
          "output_type": "stream",
          "name": "stderr",
          "text": [
            "\n",
            "100%|██████████████████████████| 10/10 [00:00<00:00, 111.79it/s, accuracy=0.993]"
          ]
        },
        {
          "output_type": "stream",
          "name": "stdout",
          "text": [
            "n_shots=6, Run=4, Accuracy: 99.30 %\n"
          ]
        },
        {
          "output_type": "stream",
          "name": "stderr",
          "text": [
            "\n",
            "100%|███████████████████████████| 10/10 [00:00<00:00, 109.22it/s, accuracy=0.97]"
          ]
        },
        {
          "output_type": "stream",
          "name": "stdout",
          "text": [
            "n_shots=8, Run=4, Accuracy: 97.00 %\n"
          ]
        },
        {
          "output_type": "stream",
          "name": "stderr",
          "text": [
            "\n",
            "100%|██████████████████████████| 10/10 [00:00<00:00, 105.54it/s, accuracy=0.991]"
          ]
        },
        {
          "output_type": "stream",
          "name": "stdout",
          "text": [
            "n_shots=10, Run=4, Accuracy: 99.13 %\n"
          ]
        },
        {
          "output_type": "stream",
          "name": "stderr",
          "text": [
            "\n",
            "100%|██████████████████████████| 10/10 [00:00<00:00, 100.46it/s, accuracy=0.986]"
          ]
        },
        {
          "output_type": "stream",
          "name": "stdout",
          "text": [
            "n_shots=12, Run=4, Accuracy: 98.63 %\n"
          ]
        },
        {
          "output_type": "stream",
          "name": "stderr",
          "text": [
            "\n",
            "100%|███████████████████████████| 10/10 [00:00<00:00, 106.68it/s, accuracy=0.98]"
          ]
        },
        {
          "output_type": "stream",
          "name": "stdout",
          "text": [
            "n_shots=16, Run=4, Accuracy: 98.03 %\n"
          ]
        },
        {
          "output_type": "stream",
          "name": "stderr",
          "text": [
            "\n",
            "100%|███████████████████████████| 10/10 [00:00<00:00, 98.35it/s, accuracy=0.973]"
          ]
        },
        {
          "output_type": "stream",
          "name": "stdout",
          "text": [
            "n_shots=24, Run=4, Accuracy: 97.27 %\n"
          ]
        },
        {
          "output_type": "stream",
          "name": "stderr",
          "text": [
            "\n",
            "100%|███████████████████████████| 10/10 [00:00<00:00, 98.90it/s, accuracy=0.976]"
          ]
        },
        {
          "output_type": "stream",
          "name": "stdout",
          "text": [
            "n_shots=32, Run=4, Accuracy: 97.57 %\n"
          ]
        },
        {
          "output_type": "stream",
          "name": "stderr",
          "text": [
            "\n",
            "100%|██████████████████████████| 10/10 [00:00<00:00, 100.68it/s, accuracy=0.772]"
          ]
        },
        {
          "output_type": "stream",
          "name": "stdout",
          "text": [
            "n_shots=1, Run=5, Accuracy: 77.17 %\n"
          ]
        },
        {
          "output_type": "stream",
          "name": "stderr",
          "text": [
            "\n",
            "100%|██████████████████████████| 10/10 [00:00<00:00, 107.34it/s, accuracy=0.908]"
          ]
        },
        {
          "output_type": "stream",
          "name": "stdout",
          "text": [
            "n_shots=2, Run=5, Accuracy: 90.83 %\n"
          ]
        },
        {
          "output_type": "stream",
          "name": "stderr",
          "text": [
            "\n",
            "100%|██████████████████████████| 10/10 [00:00<00:00, 107.52it/s, accuracy=0.898]"
          ]
        },
        {
          "output_type": "stream",
          "name": "stdout",
          "text": [
            "n_shots=3, Run=5, Accuracy: 89.80 %\n"
          ]
        },
        {
          "output_type": "stream",
          "name": "stderr",
          "text": [
            "\n",
            "100%|███████████████████████████| 10/10 [00:00<00:00, 103.62it/s, accuracy=0.98]"
          ]
        },
        {
          "output_type": "stream",
          "name": "stdout",
          "text": [
            "n_shots=4, Run=5, Accuracy: 97.97 %\n"
          ]
        },
        {
          "output_type": "stream",
          "name": "stderr",
          "text": [
            "\n",
            "100%|██████████████████████████| 10/10 [00:00<00:00, 112.01it/s, accuracy=0.981]"
          ]
        },
        {
          "output_type": "stream",
          "name": "stdout",
          "text": [
            "n_shots=5, Run=5, Accuracy: 98.10 %\n"
          ]
        },
        {
          "output_type": "stream",
          "name": "stderr",
          "text": [
            "\n",
            "100%|██████████████████████████| 10/10 [00:00<00:00, 109.73it/s, accuracy=0.982]"
          ]
        },
        {
          "output_type": "stream",
          "name": "stdout",
          "text": [
            "n_shots=6, Run=5, Accuracy: 98.20 %\n"
          ]
        },
        {
          "output_type": "stream",
          "name": "stderr",
          "text": [
            "\n",
            "100%|██████████████████████████| 10/10 [00:00<00:00, 108.43it/s, accuracy=0.945]"
          ]
        },
        {
          "output_type": "stream",
          "name": "stdout",
          "text": [
            "n_shots=8, Run=5, Accuracy: 94.47 %\n"
          ]
        },
        {
          "output_type": "stream",
          "name": "stderr",
          "text": [
            "\n",
            "100%|██████████████████████████| 10/10 [00:00<00:00, 108.51it/s, accuracy=0.948]"
          ]
        },
        {
          "output_type": "stream",
          "name": "stdout",
          "text": [
            "n_shots=10, Run=5, Accuracy: 94.83 %\n"
          ]
        },
        {
          "output_type": "stream",
          "name": "stderr",
          "text": [
            "\n",
            "100%|██████████████████████████| 10/10 [00:00<00:00, 105.17it/s, accuracy=0.969]"
          ]
        },
        {
          "output_type": "stream",
          "name": "stdout",
          "text": [
            "n_shots=12, Run=5, Accuracy: 96.93 %\n"
          ]
        },
        {
          "output_type": "stream",
          "name": "stderr",
          "text": [
            "\n",
            "100%|██████████████████████████| 10/10 [00:00<00:00, 106.54it/s, accuracy=0.972]"
          ]
        },
        {
          "output_type": "stream",
          "name": "stdout",
          "text": [
            "n_shots=16, Run=5, Accuracy: 97.20 %\n"
          ]
        },
        {
          "output_type": "stream",
          "name": "stderr",
          "text": [
            "\n",
            "100%|███████████████████████████| 10/10 [00:00<00:00, 106.63it/s, accuracy=0.99]"
          ]
        },
        {
          "output_type": "stream",
          "name": "stdout",
          "text": [
            "n_shots=24, Run=5, Accuracy: 99.00 %\n"
          ]
        },
        {
          "output_type": "stream",
          "name": "stderr",
          "text": [
            "\n",
            "100%|██████████████████████████| 10/10 [00:00<00:00, 103.69it/s, accuracy=0.979]"
          ]
        },
        {
          "output_type": "stream",
          "name": "stdout",
          "text": [
            "n_shots=32, Run=5, Accuracy: 97.90 %\n"
          ]
        },
        {
          "output_type": "stream",
          "name": "stderr",
          "text": [
            "\n",
            "100%|██████████████████████████| 10/10 [00:00<00:00, 105.97it/s, accuracy=0.883]"
          ]
        },
        {
          "output_type": "stream",
          "name": "stdout",
          "text": [
            "n_shots=1, Run=6, Accuracy: 88.30 %\n"
          ]
        },
        {
          "output_type": "stream",
          "name": "stderr",
          "text": [
            "\n",
            "100%|██████████████████████████| 10/10 [00:00<00:00, 104.31it/s, accuracy=0.944]"
          ]
        },
        {
          "output_type": "stream",
          "name": "stdout",
          "text": [
            "n_shots=2, Run=6, Accuracy: 94.37 %\n"
          ]
        },
        {
          "output_type": "stream",
          "name": "stderr",
          "text": [
            "\n",
            "100%|██████████████████████████| 10/10 [00:00<00:00, 111.75it/s, accuracy=0.936]"
          ]
        },
        {
          "output_type": "stream",
          "name": "stdout",
          "text": [
            "n_shots=3, Run=6, Accuracy: 93.63 %\n"
          ]
        },
        {
          "output_type": "stream",
          "name": "stderr",
          "text": [
            "\n",
            "100%|██████████████████████████| 10/10 [00:00<00:00, 111.57it/s, accuracy=0.949]"
          ]
        },
        {
          "output_type": "stream",
          "name": "stdout",
          "text": [
            "n_shots=4, Run=6, Accuracy: 94.93 %\n"
          ]
        },
        {
          "output_type": "stream",
          "name": "stderr",
          "text": [
            "\n",
            "100%|██████████████████████████| 10/10 [00:00<00:00, 111.27it/s, accuracy=0.972]"
          ]
        },
        {
          "output_type": "stream",
          "name": "stdout",
          "text": [
            "n_shots=5, Run=6, Accuracy: 97.17 %\n"
          ]
        },
        {
          "output_type": "stream",
          "name": "stderr",
          "text": [
            "\n",
            "100%|██████████████████████████| 10/10 [00:00<00:00, 108.14it/s, accuracy=0.962]"
          ]
        },
        {
          "output_type": "stream",
          "name": "stdout",
          "text": [
            "n_shots=6, Run=6, Accuracy: 96.17 %\n"
          ]
        },
        {
          "output_type": "stream",
          "name": "stderr",
          "text": [
            "\n",
            "100%|██████████████████████████| 10/10 [00:00<00:00, 106.95it/s, accuracy=0.975]"
          ]
        },
        {
          "output_type": "stream",
          "name": "stdout",
          "text": [
            "n_shots=8, Run=6, Accuracy: 97.50 %\n"
          ]
        },
        {
          "output_type": "stream",
          "name": "stderr",
          "text": [
            "\n",
            "100%|██████████████████████████| 10/10 [00:00<00:00, 106.70it/s, accuracy=0.952]"
          ]
        },
        {
          "output_type": "stream",
          "name": "stdout",
          "text": [
            "n_shots=10, Run=6, Accuracy: 95.17 %\n"
          ]
        },
        {
          "output_type": "stream",
          "name": "stderr",
          "text": [
            "\n",
            "100%|██████████████████████████| 10/10 [00:00<00:00, 105.10it/s, accuracy=0.992]"
          ]
        },
        {
          "output_type": "stream",
          "name": "stdout",
          "text": [
            "n_shots=12, Run=6, Accuracy: 99.23 %\n"
          ]
        },
        {
          "output_type": "stream",
          "name": "stderr",
          "text": [
            "\n",
            "100%|██████████████████████████| 10/10 [00:00<00:00, 107.40it/s, accuracy=0.962]"
          ]
        },
        {
          "output_type": "stream",
          "name": "stdout",
          "text": [
            "n_shots=16, Run=6, Accuracy: 96.17 %\n"
          ]
        },
        {
          "output_type": "stream",
          "name": "stderr",
          "text": [
            "\n",
            "100%|██████████████████████████| 10/10 [00:00<00:00, 106.01it/s, accuracy=0.987]"
          ]
        },
        {
          "output_type": "stream",
          "name": "stdout",
          "text": [
            "n_shots=24, Run=6, Accuracy: 98.67 %\n"
          ]
        },
        {
          "output_type": "stream",
          "name": "stderr",
          "text": [
            "\n",
            "100%|██████████████████████████| 10/10 [00:00<00:00, 105.74it/s, accuracy=0.988]"
          ]
        },
        {
          "output_type": "stream",
          "name": "stdout",
          "text": [
            "n_shots=32, Run=6, Accuracy: 98.83 %\n"
          ]
        },
        {
          "output_type": "stream",
          "name": "stderr",
          "text": [
            "\n",
            "100%|██████████████████████████| 10/10 [00:00<00:00, 104.82it/s, accuracy=0.832]"
          ]
        },
        {
          "output_type": "stream",
          "name": "stdout",
          "text": [
            "n_shots=1, Run=7, Accuracy: 83.17 %\n"
          ]
        },
        {
          "output_type": "stream",
          "name": "stderr",
          "text": [
            "\n",
            "100%|██████████████████████████| 10/10 [00:00<00:00, 108.85it/s, accuracy=0.926]"
          ]
        },
        {
          "output_type": "stream",
          "name": "stdout",
          "text": [
            "n_shots=2, Run=7, Accuracy: 92.57 %\n"
          ]
        },
        {
          "output_type": "stream",
          "name": "stderr",
          "text": [
            "\n",
            "100%|██████████████████████████| 10/10 [00:00<00:00, 107.75it/s, accuracy=0.957]"
          ]
        },
        {
          "output_type": "stream",
          "name": "stdout",
          "text": [
            "n_shots=3, Run=7, Accuracy: 95.70 %\n"
          ]
        },
        {
          "output_type": "stream",
          "name": "stderr",
          "text": [
            "\n",
            "100%|██████████████████████████| 10/10 [00:00<00:00, 108.70it/s, accuracy=0.931]"
          ]
        },
        {
          "output_type": "stream",
          "name": "stdout",
          "text": [
            "n_shots=4, Run=7, Accuracy: 93.10 %\n"
          ]
        },
        {
          "output_type": "stream",
          "name": "stderr",
          "text": [
            "\n",
            "100%|██████████████████████████| 10/10 [00:00<00:00, 105.84it/s, accuracy=0.977]"
          ]
        },
        {
          "output_type": "stream",
          "name": "stdout",
          "text": [
            "n_shots=5, Run=7, Accuracy: 97.70 %\n"
          ]
        },
        {
          "output_type": "stream",
          "name": "stderr",
          "text": [
            "\n",
            "100%|██████████████████████████| 10/10 [00:00<00:00, 104.76it/s, accuracy=0.968]"
          ]
        },
        {
          "output_type": "stream",
          "name": "stdout",
          "text": [
            "n_shots=6, Run=7, Accuracy: 96.77 %\n"
          ]
        },
        {
          "output_type": "stream",
          "name": "stderr",
          "text": [
            "\n",
            "100%|██████████████████████████| 10/10 [00:00<00:00, 104.95it/s, accuracy=0.957]"
          ]
        },
        {
          "output_type": "stream",
          "name": "stdout",
          "text": [
            "n_shots=8, Run=7, Accuracy: 95.73 %\n"
          ]
        },
        {
          "output_type": "stream",
          "name": "stderr",
          "text": [
            "\n",
            "100%|███████████████████████████| 10/10 [00:00<00:00, 107.36it/s, accuracy=0.99]"
          ]
        },
        {
          "output_type": "stream",
          "name": "stdout",
          "text": [
            "n_shots=10, Run=7, Accuracy: 99.00 %\n"
          ]
        },
        {
          "output_type": "stream",
          "name": "stderr",
          "text": [
            "\n",
            "100%|██████████████████████████| 10/10 [00:00<00:00, 108.82it/s, accuracy=0.992]"
          ]
        },
        {
          "output_type": "stream",
          "name": "stdout",
          "text": [
            "n_shots=12, Run=7, Accuracy: 99.20 %\n"
          ]
        },
        {
          "output_type": "stream",
          "name": "stderr",
          "text": [
            "\n",
            "100%|██████████████████████████| 10/10 [00:00<00:00, 108.55it/s, accuracy=0.972]"
          ]
        },
        {
          "output_type": "stream",
          "name": "stdout",
          "text": [
            "n_shots=16, Run=7, Accuracy: 97.20 %\n"
          ]
        },
        {
          "output_type": "stream",
          "name": "stderr",
          "text": [
            "\n",
            "100%|██████████████████████████| 10/10 [00:00<00:00, 105.67it/s, accuracy=0.984]"
          ]
        },
        {
          "output_type": "stream",
          "name": "stdout",
          "text": [
            "n_shots=24, Run=7, Accuracy: 98.37 %\n"
          ]
        },
        {
          "output_type": "stream",
          "name": "stderr",
          "text": [
            "\n",
            "100%|██████████████████████████| 10/10 [00:00<00:00, 103.08it/s, accuracy=0.965]"
          ]
        },
        {
          "output_type": "stream",
          "name": "stdout",
          "text": [
            "n_shots=32, Run=7, Accuracy: 96.53 %\n"
          ]
        },
        {
          "output_type": "stream",
          "name": "stderr",
          "text": [
            "\n",
            "100%|██████████████████████████| 10/10 [00:00<00:00, 106.84it/s, accuracy=0.885]"
          ]
        },
        {
          "output_type": "stream",
          "name": "stdout",
          "text": [
            "n_shots=1, Run=8, Accuracy: 88.50 %\n"
          ]
        },
        {
          "output_type": "stream",
          "name": "stderr",
          "text": [
            "\n",
            "100%|██████████████████████████| 10/10 [00:00<00:00, 110.09it/s, accuracy=0.875]"
          ]
        },
        {
          "output_type": "stream",
          "name": "stdout",
          "text": [
            "n_shots=2, Run=8, Accuracy: 87.50 %\n"
          ]
        },
        {
          "output_type": "stream",
          "name": "stderr",
          "text": [
            "\n",
            "100%|██████████████████████████| 10/10 [00:00<00:00, 110.94it/s, accuracy=0.974]"
          ]
        },
        {
          "output_type": "stream",
          "name": "stdout",
          "text": [
            "n_shots=3, Run=8, Accuracy: 97.43 %\n"
          ]
        },
        {
          "output_type": "stream",
          "name": "stderr",
          "text": [
            "\n",
            "100%|██████████████████████████| 10/10 [00:00<00:00, 110.84it/s, accuracy=0.988]"
          ]
        },
        {
          "output_type": "stream",
          "name": "stdout",
          "text": [
            "n_shots=4, Run=8, Accuracy: 98.77 %\n"
          ]
        },
        {
          "output_type": "stream",
          "name": "stderr",
          "text": [
            "\n",
            "100%|██████████████████████████| 10/10 [00:00<00:00, 108.80it/s, accuracy=0.987]"
          ]
        },
        {
          "output_type": "stream",
          "name": "stdout",
          "text": [
            "n_shots=5, Run=8, Accuracy: 98.73 %\n"
          ]
        },
        {
          "output_type": "stream",
          "name": "stderr",
          "text": [
            "\n",
            "100%|██████████████████████████| 10/10 [00:00<00:00, 110.58it/s, accuracy=0.955]"
          ]
        },
        {
          "output_type": "stream",
          "name": "stdout",
          "text": [
            "n_shots=6, Run=8, Accuracy: 95.50 %\n"
          ]
        },
        {
          "output_type": "stream",
          "name": "stderr",
          "text": [
            "\n",
            "100%|██████████████████████████| 10/10 [00:00<00:00, 110.09it/s, accuracy=0.971]"
          ]
        },
        {
          "output_type": "stream",
          "name": "stdout",
          "text": [
            "n_shots=8, Run=8, Accuracy: 97.13 %\n"
          ]
        },
        {
          "output_type": "stream",
          "name": "stderr",
          "text": [
            "\n",
            "100%|███████████████████████████| 10/10 [00:00<00:00, 108.89it/s, accuracy=0.97]"
          ]
        },
        {
          "output_type": "stream",
          "name": "stdout",
          "text": [
            "n_shots=10, Run=8, Accuracy: 96.97 %\n"
          ]
        },
        {
          "output_type": "stream",
          "name": "stderr",
          "text": [
            "\n",
            "100%|██████████████████████████| 10/10 [00:00<00:00, 108.56it/s, accuracy=0.981]"
          ]
        },
        {
          "output_type": "stream",
          "name": "stdout",
          "text": [
            "n_shots=12, Run=8, Accuracy: 98.13 %\n"
          ]
        },
        {
          "output_type": "stream",
          "name": "stderr",
          "text": [
            "\n",
            "100%|██████████████████████████| 10/10 [00:00<00:00, 105.39it/s, accuracy=0.988]"
          ]
        },
        {
          "output_type": "stream",
          "name": "stdout",
          "text": [
            "n_shots=16, Run=8, Accuracy: 98.80 %\n"
          ]
        },
        {
          "output_type": "stream",
          "name": "stderr",
          "text": [
            "\n",
            "100%|██████████████████████████| 10/10 [00:00<00:00, 103.91it/s, accuracy=0.968]"
          ]
        },
        {
          "output_type": "stream",
          "name": "stdout",
          "text": [
            "n_shots=24, Run=8, Accuracy: 96.83 %\n"
          ]
        },
        {
          "output_type": "stream",
          "name": "stderr",
          "text": [
            "\n",
            "100%|██████████████████████████| 10/10 [00:00<00:00, 104.64it/s, accuracy=0.976]"
          ]
        },
        {
          "output_type": "stream",
          "name": "stdout",
          "text": [
            "n_shots=32, Run=8, Accuracy: 97.60 %\n"
          ]
        },
        {
          "output_type": "stream",
          "name": "stderr",
          "text": [
            "\n",
            "100%|██████████████████████████| 10/10 [00:00<00:00, 103.56it/s, accuracy=0.834]"
          ]
        },
        {
          "output_type": "stream",
          "name": "stdout",
          "text": [
            "n_shots=1, Run=9, Accuracy: 83.37 %\n"
          ]
        },
        {
          "output_type": "stream",
          "name": "stderr",
          "text": [
            "\n",
            "100%|███████████████████████████| 10/10 [00:00<00:00, 106.49it/s, accuracy=0.94]"
          ]
        },
        {
          "output_type": "stream",
          "name": "stdout",
          "text": [
            "n_shots=2, Run=9, Accuracy: 94.03 %\n"
          ]
        },
        {
          "output_type": "stream",
          "name": "stderr",
          "text": [
            "\n",
            "100%|███████████████████████████| 10/10 [00:00<00:00, 91.33it/s, accuracy=0.943]"
          ]
        },
        {
          "output_type": "stream",
          "name": "stdout",
          "text": [
            "n_shots=3, Run=9, Accuracy: 94.27 %\n"
          ]
        },
        {
          "output_type": "stream",
          "name": "stderr",
          "text": [
            "\n",
            "100%|██████████████████████████| 10/10 [00:00<00:00, 106.89it/s, accuracy=0.986]"
          ]
        },
        {
          "output_type": "stream",
          "name": "stdout",
          "text": [
            "n_shots=4, Run=9, Accuracy: 98.57 %\n"
          ]
        },
        {
          "output_type": "stream",
          "name": "stderr",
          "text": [
            "\n",
            "100%|██████████████████████████| 10/10 [00:00<00:00, 106.17it/s, accuracy=0.988]"
          ]
        },
        {
          "output_type": "stream",
          "name": "stdout",
          "text": [
            "n_shots=5, Run=9, Accuracy: 98.80 %\n"
          ]
        },
        {
          "output_type": "stream",
          "name": "stderr",
          "text": [
            "\n",
            "100%|██████████████████████████| 10/10 [00:00<00:00, 104.71it/s, accuracy=0.976]"
          ]
        },
        {
          "output_type": "stream",
          "name": "stdout",
          "text": [
            "n_shots=6, Run=9, Accuracy: 97.57 %\n"
          ]
        },
        {
          "output_type": "stream",
          "name": "stderr",
          "text": [
            "\n",
            "100%|██████████████████████████| 10/10 [00:00<00:00, 101.22it/s, accuracy=0.947]"
          ]
        },
        {
          "output_type": "stream",
          "name": "stdout",
          "text": [
            "n_shots=8, Run=9, Accuracy: 94.70 %\n"
          ]
        },
        {
          "output_type": "stream",
          "name": "stderr",
          "text": [
            "\n",
            "100%|██████████████████████████| 10/10 [00:00<00:00, 106.60it/s, accuracy=0.992]"
          ]
        },
        {
          "output_type": "stream",
          "name": "stdout",
          "text": [
            "n_shots=10, Run=9, Accuracy: 99.23 %\n"
          ]
        },
        {
          "output_type": "stream",
          "name": "stderr",
          "text": [
            "\n",
            "100%|██████████████████████████| 10/10 [00:00<00:00, 101.93it/s, accuracy=0.982]"
          ]
        },
        {
          "output_type": "stream",
          "name": "stdout",
          "text": [
            "n_shots=12, Run=9, Accuracy: 98.17 %\n"
          ]
        },
        {
          "output_type": "stream",
          "name": "stderr",
          "text": [
            "\n",
            "100%|██████████████████████████| 10/10 [00:00<00:00, 101.97it/s, accuracy=0.987]"
          ]
        },
        {
          "output_type": "stream",
          "name": "stdout",
          "text": [
            "n_shots=16, Run=9, Accuracy: 98.67 %\n"
          ]
        },
        {
          "output_type": "stream",
          "name": "stderr",
          "text": [
            "\n",
            "100%|███████████████████████████| 10/10 [00:00<00:00, 93.03it/s, accuracy=0.974]"
          ]
        },
        {
          "output_type": "stream",
          "name": "stdout",
          "text": [
            "n_shots=24, Run=9, Accuracy: 97.37 %\n"
          ]
        },
        {
          "output_type": "stream",
          "name": "stderr",
          "text": [
            "\n",
            "100%|███████████████████████████| 10/10 [00:00<00:00, 97.21it/s, accuracy=0.992]"
          ]
        },
        {
          "output_type": "stream",
          "name": "stdout",
          "text": [
            "n_shots=32, Run=9, Accuracy: 99.23 %\n"
          ]
        },
        {
          "output_type": "stream",
          "name": "stderr",
          "text": [
            "\n",
            "100%|██████████████████████████| 10/10 [00:00<00:00, 101.69it/s, accuracy=0.853]"
          ]
        },
        {
          "output_type": "stream",
          "name": "stdout",
          "text": [
            "n_shots=1, Run=10, Accuracy: 85.33 %\n"
          ]
        },
        {
          "output_type": "stream",
          "name": "stderr",
          "text": [
            "\n",
            "100%|██████████████████████████| 10/10 [00:00<00:00, 108.68it/s, accuracy=0.936]"
          ]
        },
        {
          "output_type": "stream",
          "name": "stdout",
          "text": [
            "n_shots=2, Run=10, Accuracy: 93.57 %\n"
          ]
        },
        {
          "output_type": "stream",
          "name": "stderr",
          "text": [
            "\n",
            "100%|███████████████████████████| 10/10 [00:00<00:00, 106.04it/s, accuracy=0.95]"
          ]
        },
        {
          "output_type": "stream",
          "name": "stdout",
          "text": [
            "n_shots=3, Run=10, Accuracy: 94.97 %\n"
          ]
        },
        {
          "output_type": "stream",
          "name": "stderr",
          "text": [
            "\n",
            "100%|██████████████████████████| 10/10 [00:00<00:00, 106.22it/s, accuracy=0.953]"
          ]
        },
        {
          "output_type": "stream",
          "name": "stdout",
          "text": [
            "n_shots=4, Run=10, Accuracy: 95.33 %\n"
          ]
        },
        {
          "output_type": "stream",
          "name": "stderr",
          "text": [
            "\n",
            "100%|███████████████████████████| 10/10 [00:00<00:00, 107.03it/s, accuracy=0.97]"
          ]
        },
        {
          "output_type": "stream",
          "name": "stdout",
          "text": [
            "n_shots=5, Run=10, Accuracy: 97.00 %\n"
          ]
        },
        {
          "output_type": "stream",
          "name": "stderr",
          "text": [
            "\n",
            "100%|██████████████████████████| 10/10 [00:00<00:00, 103.96it/s, accuracy=0.987]"
          ]
        },
        {
          "output_type": "stream",
          "name": "stdout",
          "text": [
            "n_shots=6, Run=10, Accuracy: 98.73 %\n"
          ]
        },
        {
          "output_type": "stream",
          "name": "stderr",
          "text": [
            "\n",
            "100%|██████████████████████████| 10/10 [00:00<00:00, 102.72it/s, accuracy=0.982]"
          ]
        },
        {
          "output_type": "stream",
          "name": "stdout",
          "text": [
            "n_shots=8, Run=10, Accuracy: 98.23 %\n"
          ]
        },
        {
          "output_type": "stream",
          "name": "stderr",
          "text": [
            "\n",
            "100%|██████████████████████████| 10/10 [00:00<00:00, 105.81it/s, accuracy=0.991]"
          ]
        },
        {
          "output_type": "stream",
          "name": "stdout",
          "text": [
            "n_shots=10, Run=10, Accuracy: 99.07 %\n"
          ]
        },
        {
          "output_type": "stream",
          "name": "stderr",
          "text": [
            "\n",
            "100%|███████████████████████████| 10/10 [00:00<00:00, 106.17it/s, accuracy=0.99]"
          ]
        },
        {
          "output_type": "stream",
          "name": "stdout",
          "text": [
            "n_shots=12, Run=10, Accuracy: 99.03 %\n"
          ]
        },
        {
          "output_type": "stream",
          "name": "stderr",
          "text": [
            "\n",
            "100%|███████████████████████████| 10/10 [00:00<00:00, 109.22it/s, accuracy=0.99]"
          ]
        },
        {
          "output_type": "stream",
          "name": "stdout",
          "text": [
            "n_shots=16, Run=10, Accuracy: 99.03 %\n"
          ]
        },
        {
          "output_type": "stream",
          "name": "stderr",
          "text": [
            "\n",
            "100%|██████████████████████████| 10/10 [00:00<00:00, 106.65it/s, accuracy=0.991]"
          ]
        },
        {
          "output_type": "stream",
          "name": "stdout",
          "text": [
            "n_shots=24, Run=10, Accuracy: 99.13 %\n"
          ]
        },
        {
          "output_type": "stream",
          "name": "stderr",
          "text": [
            "\n",
            "100%|██████████████████████████| 10/10 [00:00<00:00, 104.58it/s, accuracy=0.989]"
          ]
        },
        {
          "output_type": "stream",
          "name": "stdout",
          "text": [
            "n_shots=32, Run=10, Accuracy: 98.93 %\n"
          ]
        },
        {
          "output_type": "stream",
          "name": "stderr",
          "text": [
            "\n",
            "100%|██████████████████████████| 10/10 [00:00<00:00, 105.58it/s, accuracy=0.871]"
          ]
        },
        {
          "output_type": "stream",
          "name": "stdout",
          "text": [
            "n_shots=1, Run=11, Accuracy: 87.13 %\n"
          ]
        },
        {
          "output_type": "stream",
          "name": "stderr",
          "text": [
            "\n",
            "100%|███████████████████████████| 10/10 [00:00<00:00, 97.48it/s, accuracy=0.919]"
          ]
        },
        {
          "output_type": "stream",
          "name": "stdout",
          "text": [
            "n_shots=2, Run=11, Accuracy: 91.87 %\n"
          ]
        },
        {
          "output_type": "stream",
          "name": "stderr",
          "text": [
            "\n",
            "100%|██████████████████████████| 10/10 [00:00<00:00, 105.49it/s, accuracy=0.973]"
          ]
        },
        {
          "output_type": "stream",
          "name": "stdout",
          "text": [
            "n_shots=3, Run=11, Accuracy: 97.33 %\n"
          ]
        },
        {
          "output_type": "stream",
          "name": "stderr",
          "text": [
            "\n",
            "100%|██████████████████████████| 10/10 [00:00<00:00, 108.04it/s, accuracy=0.952]"
          ]
        },
        {
          "output_type": "stream",
          "name": "stdout",
          "text": [
            "n_shots=4, Run=11, Accuracy: 95.23 %\n"
          ]
        },
        {
          "output_type": "stream",
          "name": "stderr",
          "text": [
            "\n",
            "100%|██████████████████████████| 10/10 [00:00<00:00, 107.36it/s, accuracy=0.934]"
          ]
        },
        {
          "output_type": "stream",
          "name": "stdout",
          "text": [
            "n_shots=5, Run=11, Accuracy: 93.37 %\n"
          ]
        },
        {
          "output_type": "stream",
          "name": "stderr",
          "text": [
            "\n",
            "100%|██████████████████████████| 10/10 [00:00<00:00, 104.33it/s, accuracy=0.993]"
          ]
        },
        {
          "output_type": "stream",
          "name": "stdout",
          "text": [
            "n_shots=6, Run=11, Accuracy: 99.30 %\n"
          ]
        },
        {
          "output_type": "stream",
          "name": "stderr",
          "text": [
            "\n",
            "100%|██████████████████████████| 10/10 [00:00<00:00, 110.14it/s, accuracy=0.977]"
          ]
        },
        {
          "output_type": "stream",
          "name": "stdout",
          "text": [
            "n_shots=8, Run=11, Accuracy: 97.70 %\n"
          ]
        },
        {
          "output_type": "stream",
          "name": "stderr",
          "text": [
            "\n",
            "100%|██████████████████████████| 10/10 [00:00<00:00, 101.88it/s, accuracy=0.977]"
          ]
        },
        {
          "output_type": "stream",
          "name": "stdout",
          "text": [
            "n_shots=10, Run=11, Accuracy: 97.73 %\n"
          ]
        },
        {
          "output_type": "stream",
          "name": "stderr",
          "text": [
            "\n",
            "100%|██████████████████████████| 10/10 [00:00<00:00, 100.55it/s, accuracy=0.973]"
          ]
        },
        {
          "output_type": "stream",
          "name": "stdout",
          "text": [
            "n_shots=12, Run=11, Accuracy: 97.30 %\n"
          ]
        },
        {
          "output_type": "stream",
          "name": "stderr",
          "text": [
            "\n",
            "100%|██████████████████████████| 10/10 [00:00<00:00, 107.56it/s, accuracy=0.994]"
          ]
        },
        {
          "output_type": "stream",
          "name": "stdout",
          "text": [
            "n_shots=16, Run=11, Accuracy: 99.40 %\n"
          ]
        },
        {
          "output_type": "stream",
          "name": "stderr",
          "text": [
            "\n",
            "100%|██████████████████████████| 10/10 [00:00<00:00, 107.83it/s, accuracy=0.971]"
          ]
        },
        {
          "output_type": "stream",
          "name": "stdout",
          "text": [
            "n_shots=24, Run=11, Accuracy: 97.10 %\n"
          ]
        },
        {
          "output_type": "stream",
          "name": "stderr",
          "text": [
            "\n",
            "100%|███████████████████████████| 10/10 [00:00<00:00, 105.60it/s, accuracy=0.98]"
          ]
        },
        {
          "output_type": "stream",
          "name": "stdout",
          "text": [
            "n_shots=32, Run=11, Accuracy: 97.97 %\n"
          ]
        },
        {
          "output_type": "stream",
          "name": "stderr",
          "text": [
            "\n",
            "100%|██████████████████████████| 10/10 [00:00<00:00, 107.30it/s, accuracy=0.893]"
          ]
        },
        {
          "output_type": "stream",
          "name": "stdout",
          "text": [
            "n_shots=1, Run=12, Accuracy: 89.27 %\n"
          ]
        },
        {
          "output_type": "stream",
          "name": "stderr",
          "text": [
            "\n",
            "100%|███████████████████████████| 10/10 [00:00<00:00, 106.74it/s, accuracy=0.91]"
          ]
        },
        {
          "output_type": "stream",
          "name": "stdout",
          "text": [
            "n_shots=2, Run=12, Accuracy: 91.00 %\n"
          ]
        },
        {
          "output_type": "stream",
          "name": "stderr",
          "text": [
            "\n",
            "100%|██████████████████████████| 10/10 [00:00<00:00, 109.98it/s, accuracy=0.934]"
          ]
        },
        {
          "output_type": "stream",
          "name": "stdout",
          "text": [
            "n_shots=3, Run=12, Accuracy: 93.40 %\n"
          ]
        },
        {
          "output_type": "stream",
          "name": "stderr",
          "text": [
            "\n",
            "100%|██████████████████████████| 10/10 [00:00<00:00, 107.69it/s, accuracy=0.961]"
          ]
        },
        {
          "output_type": "stream",
          "name": "stdout",
          "text": [
            "n_shots=4, Run=12, Accuracy: 96.07 %\n"
          ]
        },
        {
          "output_type": "stream",
          "name": "stderr",
          "text": [
            "\n",
            "100%|██████████████████████████| 10/10 [00:00<00:00, 106.06it/s, accuracy=0.957]"
          ]
        },
        {
          "output_type": "stream",
          "name": "stdout",
          "text": [
            "n_shots=5, Run=12, Accuracy: 95.70 %\n"
          ]
        },
        {
          "output_type": "stream",
          "name": "stderr",
          "text": [
            "\n",
            "100%|██████████████████████████| 10/10 [00:00<00:00, 108.57it/s, accuracy=0.978]"
          ]
        },
        {
          "output_type": "stream",
          "name": "stdout",
          "text": [
            "n_shots=6, Run=12, Accuracy: 97.77 %\n"
          ]
        },
        {
          "output_type": "stream",
          "name": "stderr",
          "text": [
            "\n",
            "100%|███████████████████████████| 10/10 [00:00<00:00, 108.73it/s, accuracy=0.98]"
          ]
        },
        {
          "output_type": "stream",
          "name": "stdout",
          "text": [
            "n_shots=8, Run=12, Accuracy: 98.00 %\n"
          ]
        },
        {
          "output_type": "stream",
          "name": "stderr",
          "text": [
            "\n",
            "100%|██████████████████████████| 10/10 [00:00<00:00, 106.52it/s, accuracy=0.975]"
          ]
        },
        {
          "output_type": "stream",
          "name": "stdout",
          "text": [
            "n_shots=10, Run=12, Accuracy: 97.53 %\n"
          ]
        },
        {
          "output_type": "stream",
          "name": "stderr",
          "text": [
            "\n",
            "100%|██████████████████████████| 10/10 [00:00<00:00, 103.45it/s, accuracy=0.973]"
          ]
        },
        {
          "output_type": "stream",
          "name": "stdout",
          "text": [
            "n_shots=12, Run=12, Accuracy: 97.33 %\n"
          ]
        },
        {
          "output_type": "stream",
          "name": "stderr",
          "text": [
            "\n",
            "100%|██████████████████████████| 10/10 [00:00<00:00, 101.65it/s, accuracy=0.958]"
          ]
        },
        {
          "output_type": "stream",
          "name": "stdout",
          "text": [
            "n_shots=16, Run=12, Accuracy: 95.83 %\n"
          ]
        },
        {
          "output_type": "stream",
          "name": "stderr",
          "text": [
            "\n",
            "100%|██████████████████████████| 10/10 [00:00<00:00, 105.01it/s, accuracy=0.997]"
          ]
        },
        {
          "output_type": "stream",
          "name": "stdout",
          "text": [
            "n_shots=24, Run=12, Accuracy: 99.70 %\n"
          ]
        },
        {
          "output_type": "stream",
          "name": "stderr",
          "text": [
            "\n",
            "100%|██████████████████████████| 10/10 [00:00<00:00, 104.39it/s, accuracy=0.976]"
          ]
        },
        {
          "output_type": "stream",
          "name": "stdout",
          "text": [
            "n_shots=32, Run=12, Accuracy: 97.57 %\n"
          ]
        },
        {
          "output_type": "stream",
          "name": "stderr",
          "text": [
            "\n",
            "100%|██████████████████████████| 10/10 [00:00<00:00, 104.55it/s, accuracy=0.867]"
          ]
        },
        {
          "output_type": "stream",
          "name": "stdout",
          "text": [
            "n_shots=1, Run=13, Accuracy: 86.73 %\n"
          ]
        },
        {
          "output_type": "stream",
          "name": "stderr",
          "text": [
            "\n",
            "100%|██████████████████████████| 10/10 [00:00<00:00, 111.59it/s, accuracy=0.936]"
          ]
        },
        {
          "output_type": "stream",
          "name": "stdout",
          "text": [
            "n_shots=2, Run=13, Accuracy: 93.60 %\n"
          ]
        },
        {
          "output_type": "stream",
          "name": "stderr",
          "text": [
            "\n",
            "100%|███████████████████████████| 10/10 [00:00<00:00, 113.17it/s, accuracy=0.95]"
          ]
        },
        {
          "output_type": "stream",
          "name": "stdout",
          "text": [
            "n_shots=3, Run=13, Accuracy: 95.00 %\n"
          ]
        },
        {
          "output_type": "stream",
          "name": "stderr",
          "text": [
            "\n",
            "100%|███████████████████████████| 10/10 [00:00<00:00, 109.96it/s, accuracy=0.97]"
          ]
        },
        {
          "output_type": "stream",
          "name": "stdout",
          "text": [
            "n_shots=4, Run=13, Accuracy: 97.00 %\n"
          ]
        },
        {
          "output_type": "stream",
          "name": "stderr",
          "text": [
            "\n",
            "100%|██████████████████████████| 10/10 [00:00<00:00, 104.57it/s, accuracy=0.985]"
          ]
        },
        {
          "output_type": "stream",
          "name": "stdout",
          "text": [
            "n_shots=5, Run=13, Accuracy: 98.47 %\n"
          ]
        },
        {
          "output_type": "stream",
          "name": "stderr",
          "text": [
            "\n",
            "100%|██████████████████████████| 10/10 [00:00<00:00, 103.85it/s, accuracy=0.963]"
          ]
        },
        {
          "output_type": "stream",
          "name": "stdout",
          "text": [
            "n_shots=6, Run=13, Accuracy: 96.27 %\n"
          ]
        },
        {
          "output_type": "stream",
          "name": "stderr",
          "text": [
            "\n",
            "100%|██████████████████████████| 10/10 [00:00<00:00, 107.28it/s, accuracy=0.954]"
          ]
        },
        {
          "output_type": "stream",
          "name": "stdout",
          "text": [
            "n_shots=8, Run=13, Accuracy: 95.40 %\n"
          ]
        },
        {
          "output_type": "stream",
          "name": "stderr",
          "text": [
            "\n",
            "100%|██████████████████████████| 10/10 [00:00<00:00, 109.50it/s, accuracy=0.968]"
          ]
        },
        {
          "output_type": "stream",
          "name": "stdout",
          "text": [
            "n_shots=10, Run=13, Accuracy: 96.83 %\n"
          ]
        },
        {
          "output_type": "stream",
          "name": "stderr",
          "text": [
            "\n",
            "100%|██████████████████████████| 10/10 [00:00<00:00, 106.63it/s, accuracy=0.992]"
          ]
        },
        {
          "output_type": "stream",
          "name": "stdout",
          "text": [
            "n_shots=12, Run=13, Accuracy: 99.17 %\n"
          ]
        },
        {
          "output_type": "stream",
          "name": "stderr",
          "text": [
            "\n",
            "100%|███████████████████████████| 10/10 [00:00<00:00, 106.25it/s, accuracy=0.98]"
          ]
        },
        {
          "output_type": "stream",
          "name": "stdout",
          "text": [
            "n_shots=16, Run=13, Accuracy: 98.03 %\n"
          ]
        },
        {
          "output_type": "stream",
          "name": "stderr",
          "text": [
            "\n",
            "100%|██████████████████████████| 10/10 [00:00<00:00, 102.04it/s, accuracy=0.983]"
          ]
        },
        {
          "output_type": "stream",
          "name": "stdout",
          "text": [
            "n_shots=24, Run=13, Accuracy: 98.33 %\n"
          ]
        },
        {
          "output_type": "stream",
          "name": "stderr",
          "text": [
            "\n",
            "100%|██████████████████████████| 10/10 [00:00<00:00, 101.50it/s, accuracy=0.956]"
          ]
        },
        {
          "output_type": "stream",
          "name": "stdout",
          "text": [
            "n_shots=32, Run=13, Accuracy: 95.57 %\n"
          ]
        },
        {
          "output_type": "stream",
          "name": "stderr",
          "text": [
            "\n",
            "100%|██████████████████████████| 10/10 [00:00<00:00, 100.91it/s, accuracy=0.905]"
          ]
        },
        {
          "output_type": "stream",
          "name": "stdout",
          "text": [
            "n_shots=1, Run=14, Accuracy: 90.53 %\n"
          ]
        },
        {
          "output_type": "stream",
          "name": "stderr",
          "text": [
            "\n",
            "100%|██████████████████████████| 10/10 [00:00<00:00, 106.99it/s, accuracy=0.937]"
          ]
        },
        {
          "output_type": "stream",
          "name": "stdout",
          "text": [
            "n_shots=2, Run=14, Accuracy: 93.67 %\n"
          ]
        },
        {
          "output_type": "stream",
          "name": "stderr",
          "text": [
            "\n",
            "100%|██████████████████████████| 10/10 [00:00<00:00, 103.25it/s, accuracy=0.939]"
          ]
        },
        {
          "output_type": "stream",
          "name": "stdout",
          "text": [
            "n_shots=3, Run=14, Accuracy: 93.93 %\n"
          ]
        },
        {
          "output_type": "stream",
          "name": "stderr",
          "text": [
            "\n",
            "100%|██████████████████████████| 10/10 [00:00<00:00, 100.85it/s, accuracy=0.922]"
          ]
        },
        {
          "output_type": "stream",
          "name": "stdout",
          "text": [
            "n_shots=4, Run=14, Accuracy: 92.17 %\n"
          ]
        },
        {
          "output_type": "stream",
          "name": "stderr",
          "text": [
            "\n",
            "100%|██████████████████████████| 10/10 [00:00<00:00, 103.42it/s, accuracy=0.964]"
          ]
        },
        {
          "output_type": "stream",
          "name": "stdout",
          "text": [
            "n_shots=5, Run=14, Accuracy: 96.40 %\n"
          ]
        },
        {
          "output_type": "stream",
          "name": "stderr",
          "text": [
            "\n",
            "100%|███████████████████████████| 10/10 [00:00<00:00, 99.77it/s, accuracy=0.901]"
          ]
        },
        {
          "output_type": "stream",
          "name": "stdout",
          "text": [
            "n_shots=6, Run=14, Accuracy: 90.13 %\n"
          ]
        },
        {
          "output_type": "stream",
          "name": "stderr",
          "text": [
            "\n",
            "100%|██████████████████████████| 10/10 [00:00<00:00, 103.39it/s, accuracy=0.971]"
          ]
        },
        {
          "output_type": "stream",
          "name": "stdout",
          "text": [
            "n_shots=8, Run=14, Accuracy: 97.07 %\n"
          ]
        },
        {
          "output_type": "stream",
          "name": "stderr",
          "text": [
            "\n",
            "100%|██████████████████████████| 10/10 [00:00<00:00, 104.76it/s, accuracy=0.958]"
          ]
        },
        {
          "output_type": "stream",
          "name": "stdout",
          "text": [
            "n_shots=10, Run=14, Accuracy: 95.77 %\n"
          ]
        },
        {
          "output_type": "stream",
          "name": "stderr",
          "text": [
            "\n",
            "100%|██████████████████████████| 10/10 [00:00<00:00, 105.78it/s, accuracy=0.986]"
          ]
        },
        {
          "output_type": "stream",
          "name": "stdout",
          "text": [
            "n_shots=12, Run=14, Accuracy: 98.57 %\n"
          ]
        },
        {
          "output_type": "stream",
          "name": "stderr",
          "text": [
            "\n",
            "100%|██████████████████████████| 10/10 [00:00<00:00, 103.08it/s, accuracy=0.977]"
          ]
        },
        {
          "output_type": "stream",
          "name": "stdout",
          "text": [
            "n_shots=16, Run=14, Accuracy: 97.67 %\n"
          ]
        },
        {
          "output_type": "stream",
          "name": "stderr",
          "text": [
            "\n",
            "100%|██████████████████████████| 10/10 [00:00<00:00, 102.63it/s, accuracy=0.979]"
          ]
        },
        {
          "output_type": "stream",
          "name": "stdout",
          "text": [
            "n_shots=24, Run=14, Accuracy: 97.87 %\n"
          ]
        },
        {
          "output_type": "stream",
          "name": "stderr",
          "text": [
            "\n",
            "100%|██████████████████████████| 10/10 [00:00<00:00, 101.74it/s, accuracy=0.979]"
          ]
        },
        {
          "output_type": "stream",
          "name": "stdout",
          "text": [
            "n_shots=32, Run=14, Accuracy: 97.90 %\n"
          ]
        },
        {
          "output_type": "stream",
          "name": "stderr",
          "text": [
            "\n",
            "100%|██████████████████████████| 10/10 [00:00<00:00, 106.17it/s, accuracy=0.896]"
          ]
        },
        {
          "output_type": "stream",
          "name": "stdout",
          "text": [
            "n_shots=1, Run=15, Accuracy: 89.63 %\n"
          ]
        },
        {
          "output_type": "stream",
          "name": "stderr",
          "text": [
            "\n",
            "100%|██████████████████████████| 10/10 [00:00<00:00, 106.37it/s, accuracy=0.957]"
          ]
        },
        {
          "output_type": "stream",
          "name": "stdout",
          "text": [
            "n_shots=2, Run=15, Accuracy: 95.67 %\n"
          ]
        },
        {
          "output_type": "stream",
          "name": "stderr",
          "text": [
            "\n",
            "100%|██████████████████████████| 10/10 [00:00<00:00, 102.84it/s, accuracy=0.968]"
          ]
        },
        {
          "output_type": "stream",
          "name": "stdout",
          "text": [
            "n_shots=3, Run=15, Accuracy: 96.83 %\n"
          ]
        },
        {
          "output_type": "stream",
          "name": "stderr",
          "text": [
            "\n",
            "100%|██████████████████████████| 10/10 [00:00<00:00, 105.18it/s, accuracy=0.951]"
          ]
        },
        {
          "output_type": "stream",
          "name": "stdout",
          "text": [
            "n_shots=4, Run=15, Accuracy: 95.10 %\n"
          ]
        },
        {
          "output_type": "stream",
          "name": "stderr",
          "text": [
            "\n",
            "100%|██████████████████████████| 10/10 [00:00<00:00, 109.77it/s, accuracy=0.983]"
          ]
        },
        {
          "output_type": "stream",
          "name": "stdout",
          "text": [
            "n_shots=5, Run=15, Accuracy: 98.27 %\n"
          ]
        },
        {
          "output_type": "stream",
          "name": "stderr",
          "text": [
            "\n",
            "100%|██████████████████████████| 10/10 [00:00<00:00, 101.75it/s, accuracy=0.968]"
          ]
        },
        {
          "output_type": "stream",
          "name": "stdout",
          "text": [
            "n_shots=6, Run=15, Accuracy: 96.80 %\n"
          ]
        },
        {
          "output_type": "stream",
          "name": "stderr",
          "text": [
            "\n",
            "100%|██████████████████████████| 10/10 [00:00<00:00, 103.27it/s, accuracy=0.968]"
          ]
        },
        {
          "output_type": "stream",
          "name": "stdout",
          "text": [
            "n_shots=8, Run=15, Accuracy: 96.80 %\n"
          ]
        },
        {
          "output_type": "stream",
          "name": "stderr",
          "text": [
            "\n",
            "100%|███████████████████████████| 10/10 [00:00<00:00, 96.18it/s, accuracy=0.975]"
          ]
        },
        {
          "output_type": "stream",
          "name": "stdout",
          "text": [
            "n_shots=10, Run=15, Accuracy: 97.47 %\n"
          ]
        },
        {
          "output_type": "stream",
          "name": "stderr",
          "text": [
            "\n",
            "100%|██████████████████████████| 10/10 [00:00<00:00, 101.50it/s, accuracy=0.983]"
          ]
        },
        {
          "output_type": "stream",
          "name": "stdout",
          "text": [
            "n_shots=12, Run=15, Accuracy: 98.33 %\n"
          ]
        },
        {
          "output_type": "stream",
          "name": "stderr",
          "text": [
            "\n",
            "100%|███████████████████████████| 10/10 [00:00<00:00, 98.57it/s, accuracy=0.991]"
          ]
        },
        {
          "output_type": "stream",
          "name": "stdout",
          "text": [
            "n_shots=16, Run=15, Accuracy: 99.07 %\n"
          ]
        },
        {
          "output_type": "stream",
          "name": "stderr",
          "text": [
            "\n",
            "100%|███████████████████████████| 10/10 [00:00<00:00, 89.30it/s, accuracy=0.971]"
          ]
        },
        {
          "output_type": "stream",
          "name": "stdout",
          "text": [
            "n_shots=24, Run=15, Accuracy: 97.07 %\n"
          ]
        },
        {
          "output_type": "stream",
          "name": "stderr",
          "text": [
            "\n",
            "100%|███████████████████████████| 10/10 [00:00<00:00, 94.88it/s, accuracy=0.988]"
          ]
        },
        {
          "output_type": "stream",
          "name": "stdout",
          "text": [
            "n_shots=32, Run=15, Accuracy: 98.80 %\n"
          ]
        },
        {
          "output_type": "stream",
          "name": "stderr",
          "text": [
            "\n",
            "100%|██████████████████████████| 10/10 [00:00<00:00, 100.35it/s, accuracy=0.849]"
          ]
        },
        {
          "output_type": "stream",
          "name": "stdout",
          "text": [
            "n_shots=1, Run=16, Accuracy: 84.93 %\n"
          ]
        },
        {
          "output_type": "stream",
          "name": "stderr",
          "text": [
            "\n",
            "100%|██████████████████████████| 10/10 [00:00<00:00, 106.10it/s, accuracy=0.874]"
          ]
        },
        {
          "output_type": "stream",
          "name": "stdout",
          "text": [
            "n_shots=2, Run=16, Accuracy: 87.37 %\n"
          ]
        },
        {
          "output_type": "stream",
          "name": "stderr",
          "text": [
            "\n",
            "100%|██████████████████████████| 10/10 [00:00<00:00, 104.62it/s, accuracy=0.939]"
          ]
        },
        {
          "output_type": "stream",
          "name": "stdout",
          "text": [
            "n_shots=3, Run=16, Accuracy: 93.93 %\n"
          ]
        },
        {
          "output_type": "stream",
          "name": "stderr",
          "text": [
            "\n",
            "100%|██████████████████████████| 10/10 [00:00<00:00, 105.50it/s, accuracy=0.947]"
          ]
        },
        {
          "output_type": "stream",
          "name": "stdout",
          "text": [
            "n_shots=4, Run=16, Accuracy: 94.70 %\n"
          ]
        },
        {
          "output_type": "stream",
          "name": "stderr",
          "text": [
            "\n",
            "100%|███████████████████████████| 10/10 [00:00<00:00, 101.93it/s, accuracy=0.93]"
          ]
        },
        {
          "output_type": "stream",
          "name": "stdout",
          "text": [
            "n_shots=5, Run=16, Accuracy: 93.03 %\n"
          ]
        },
        {
          "output_type": "stream",
          "name": "stderr",
          "text": [
            "\n",
            "100%|██████████████████████████| 10/10 [00:00<00:00, 105.12it/s, accuracy=0.989]"
          ]
        },
        {
          "output_type": "stream",
          "name": "stdout",
          "text": [
            "n_shots=6, Run=16, Accuracy: 98.93 %\n"
          ]
        },
        {
          "output_type": "stream",
          "name": "stderr",
          "text": [
            "\n",
            "100%|███████████████████████████| 10/10 [00:00<00:00, 105.35it/s, accuracy=0.98]"
          ]
        },
        {
          "output_type": "stream",
          "name": "stdout",
          "text": [
            "n_shots=8, Run=16, Accuracy: 98.03 %\n"
          ]
        },
        {
          "output_type": "stream",
          "name": "stderr",
          "text": [
            "\n",
            "100%|██████████████████████████| 10/10 [00:00<00:00, 107.26it/s, accuracy=0.978]"
          ]
        },
        {
          "output_type": "stream",
          "name": "stdout",
          "text": [
            "n_shots=10, Run=16, Accuracy: 97.80 %\n"
          ]
        },
        {
          "output_type": "stream",
          "name": "stderr",
          "text": [
            "\n",
            "100%|██████████████████████████| 10/10 [00:00<00:00, 100.39it/s, accuracy=0.974]"
          ]
        },
        {
          "output_type": "stream",
          "name": "stdout",
          "text": [
            "n_shots=12, Run=16, Accuracy: 97.40 %\n"
          ]
        },
        {
          "output_type": "stream",
          "name": "stderr",
          "text": [
            "\n",
            "100%|███████████████████████████| 10/10 [00:00<00:00, 105.76it/s, accuracy=0.97]"
          ]
        },
        {
          "output_type": "stream",
          "name": "stdout",
          "text": [
            "n_shots=16, Run=16, Accuracy: 96.97 %\n"
          ]
        },
        {
          "output_type": "stream",
          "name": "stderr",
          "text": [
            "\n",
            "100%|██████████████████████████| 10/10 [00:00<00:00, 101.71it/s, accuracy=0.977]"
          ]
        },
        {
          "output_type": "stream",
          "name": "stdout",
          "text": [
            "n_shots=24, Run=16, Accuracy: 97.70 %\n"
          ]
        },
        {
          "output_type": "stream",
          "name": "stderr",
          "text": [
            "\n",
            "100%|██████████████████████████| 10/10 [00:00<00:00, 104.05it/s, accuracy=0.977]"
          ]
        },
        {
          "output_type": "stream",
          "name": "stdout",
          "text": [
            "n_shots=32, Run=16, Accuracy: 97.73 %\n"
          ]
        },
        {
          "output_type": "stream",
          "name": "stderr",
          "text": [
            "\n",
            "100%|██████████████████████████| 10/10 [00:00<00:00, 101.83it/s, accuracy=0.861]"
          ]
        },
        {
          "output_type": "stream",
          "name": "stdout",
          "text": [
            "n_shots=1, Run=17, Accuracy: 86.10 %\n"
          ]
        },
        {
          "output_type": "stream",
          "name": "stderr",
          "text": [
            "\n",
            "100%|██████████████████████████| 10/10 [00:00<00:00, 108.81it/s, accuracy=0.863]"
          ]
        },
        {
          "output_type": "stream",
          "name": "stdout",
          "text": [
            "n_shots=2, Run=17, Accuracy: 86.30 %\n"
          ]
        },
        {
          "output_type": "stream",
          "name": "stderr",
          "text": [
            "\n",
            "100%|██████████████████████████| 10/10 [00:00<00:00, 110.43it/s, accuracy=0.958]"
          ]
        },
        {
          "output_type": "stream",
          "name": "stdout",
          "text": [
            "n_shots=3, Run=17, Accuracy: 95.83 %\n"
          ]
        },
        {
          "output_type": "stream",
          "name": "stderr",
          "text": [
            "\n",
            "100%|██████████████████████████| 10/10 [00:00<00:00, 106.13it/s, accuracy=0.951]"
          ]
        },
        {
          "output_type": "stream",
          "name": "stdout",
          "text": [
            "n_shots=4, Run=17, Accuracy: 95.10 %\n"
          ]
        },
        {
          "output_type": "stream",
          "name": "stderr",
          "text": [
            "\n",
            "100%|██████████████████████████| 10/10 [00:00<00:00, 109.15it/s, accuracy=0.942]"
          ]
        },
        {
          "output_type": "stream",
          "name": "stdout",
          "text": [
            "n_shots=5, Run=17, Accuracy: 94.20 %\n"
          ]
        },
        {
          "output_type": "stream",
          "name": "stderr",
          "text": [
            "\n",
            "100%|██████████████████████████| 10/10 [00:00<00:00, 106.15it/s, accuracy=0.978]"
          ]
        },
        {
          "output_type": "stream",
          "name": "stdout",
          "text": [
            "n_shots=6, Run=17, Accuracy: 97.83 %\n"
          ]
        },
        {
          "output_type": "stream",
          "name": "stderr",
          "text": [
            "\n",
            "100%|███████████████████████████| 10/10 [00:00<00:00, 108.16it/s, accuracy=0.99]"
          ]
        },
        {
          "output_type": "stream",
          "name": "stdout",
          "text": [
            "n_shots=8, Run=17, Accuracy: 99.03 %\n"
          ]
        },
        {
          "output_type": "stream",
          "name": "stderr",
          "text": [
            "\n",
            "100%|██████████████████████████| 10/10 [00:00<00:00, 110.48it/s, accuracy=0.981]"
          ]
        },
        {
          "output_type": "stream",
          "name": "stdout",
          "text": [
            "n_shots=10, Run=17, Accuracy: 98.10 %\n"
          ]
        },
        {
          "output_type": "stream",
          "name": "stderr",
          "text": [
            "\n",
            "100%|███████████████████████████| 10/10 [00:00<00:00, 92.81it/s, accuracy=0.975]"
          ]
        },
        {
          "output_type": "stream",
          "name": "stdout",
          "text": [
            "n_shots=12, Run=17, Accuracy: 97.47 %\n"
          ]
        },
        {
          "output_type": "stream",
          "name": "stderr",
          "text": [
            "\n",
            "100%|██████████████████████████| 10/10 [00:00<00:00, 102.09it/s, accuracy=0.984]"
          ]
        },
        {
          "output_type": "stream",
          "name": "stdout",
          "text": [
            "n_shots=16, Run=17, Accuracy: 98.40 %\n"
          ]
        },
        {
          "output_type": "stream",
          "name": "stderr",
          "text": [
            "\n",
            "100%|██████████████████████████| 10/10 [00:00<00:00, 106.07it/s, accuracy=0.988]"
          ]
        },
        {
          "output_type": "stream",
          "name": "stdout",
          "text": [
            "n_shots=24, Run=17, Accuracy: 98.77 %\n"
          ]
        },
        {
          "output_type": "stream",
          "name": "stderr",
          "text": [
            "\n",
            "100%|██████████████████████████| 10/10 [00:00<00:00, 104.82it/s, accuracy=0.979]"
          ]
        },
        {
          "output_type": "stream",
          "name": "stdout",
          "text": [
            "n_shots=32, Run=17, Accuracy: 97.90 %\n"
          ]
        },
        {
          "output_type": "stream",
          "name": "stderr",
          "text": [
            "\n",
            "100%|██████████████████████████| 10/10 [00:00<00:00, 103.94it/s, accuracy=0.911]"
          ]
        },
        {
          "output_type": "stream",
          "name": "stdout",
          "text": [
            "n_shots=1, Run=18, Accuracy: 91.10 %\n"
          ]
        },
        {
          "output_type": "stream",
          "name": "stderr",
          "text": [
            "\n",
            "100%|██████████████████████████| 10/10 [00:00<00:00, 110.45it/s, accuracy=0.935]"
          ]
        },
        {
          "output_type": "stream",
          "name": "stdout",
          "text": [
            "n_shots=2, Run=18, Accuracy: 93.53 %\n"
          ]
        },
        {
          "output_type": "stream",
          "name": "stderr",
          "text": [
            "\n",
            "100%|██████████████████████████| 10/10 [00:00<00:00, 111.38it/s, accuracy=0.961]"
          ]
        },
        {
          "output_type": "stream",
          "name": "stdout",
          "text": [
            "n_shots=3, Run=18, Accuracy: 96.13 %\n"
          ]
        },
        {
          "output_type": "stream",
          "name": "stderr",
          "text": [
            "\n",
            "100%|███████████████████████████| 10/10 [00:00<00:00, 95.03it/s, accuracy=0.954]"
          ]
        },
        {
          "output_type": "stream",
          "name": "stdout",
          "text": [
            "n_shots=4, Run=18, Accuracy: 95.40 %\n"
          ]
        },
        {
          "output_type": "stream",
          "name": "stderr",
          "text": [
            "\n",
            "100%|██████████████████████████| 10/10 [00:00<00:00, 107.38it/s, accuracy=0.949]"
          ]
        },
        {
          "output_type": "stream",
          "name": "stdout",
          "text": [
            "n_shots=5, Run=18, Accuracy: 94.90 %\n"
          ]
        },
        {
          "output_type": "stream",
          "name": "stderr",
          "text": [
            "\n",
            "100%|██████████████████████████| 10/10 [00:00<00:00, 105.83it/s, accuracy=0.985]"
          ]
        },
        {
          "output_type": "stream",
          "name": "stdout",
          "text": [
            "n_shots=6, Run=18, Accuracy: 98.50 %\n"
          ]
        },
        {
          "output_type": "stream",
          "name": "stderr",
          "text": [
            "\n",
            "100%|██████████████████████████| 10/10 [00:00<00:00, 106.48it/s, accuracy=0.935]"
          ]
        },
        {
          "output_type": "stream",
          "name": "stdout",
          "text": [
            "n_shots=8, Run=18, Accuracy: 93.53 %\n"
          ]
        },
        {
          "output_type": "stream",
          "name": "stderr",
          "text": [
            "\n",
            "100%|██████████████████████████| 10/10 [00:00<00:00, 108.57it/s, accuracy=0.996]"
          ]
        },
        {
          "output_type": "stream",
          "name": "stdout",
          "text": [
            "n_shots=10, Run=18, Accuracy: 99.57 %\n"
          ]
        },
        {
          "output_type": "stream",
          "name": "stderr",
          "text": [
            "\n",
            "100%|██████████████████████████| 10/10 [00:00<00:00, 106.93it/s, accuracy=0.985]"
          ]
        },
        {
          "output_type": "stream",
          "name": "stdout",
          "text": [
            "n_shots=12, Run=18, Accuracy: 98.53 %\n"
          ]
        },
        {
          "output_type": "stream",
          "name": "stderr",
          "text": [
            "\n",
            "100%|██████████████████████████| 10/10 [00:00<00:00, 106.04it/s, accuracy=0.989]"
          ]
        },
        {
          "output_type": "stream",
          "name": "stdout",
          "text": [
            "n_shots=16, Run=18, Accuracy: 98.87 %\n"
          ]
        },
        {
          "output_type": "stream",
          "name": "stderr",
          "text": [
            "\n",
            "100%|██████████████████████████| 10/10 [00:00<00:00, 104.90it/s, accuracy=0.968]"
          ]
        },
        {
          "output_type": "stream",
          "name": "stdout",
          "text": [
            "n_shots=24, Run=18, Accuracy: 96.80 %\n"
          ]
        },
        {
          "output_type": "stream",
          "name": "stderr",
          "text": [
            "\n",
            "100%|███████████████████████████| 10/10 [00:00<00:00, 104.07it/s, accuracy=0.96]"
          ]
        },
        {
          "output_type": "stream",
          "name": "stdout",
          "text": [
            "n_shots=32, Run=18, Accuracy: 96.03 %\n"
          ]
        },
        {
          "output_type": "stream",
          "name": "stderr",
          "text": [
            "\n",
            "100%|██████████████████████████| 10/10 [00:00<00:00, 103.22it/s, accuracy=0.906]"
          ]
        },
        {
          "output_type": "stream",
          "name": "stdout",
          "text": [
            "n_shots=1, Run=19, Accuracy: 90.60 %\n"
          ]
        },
        {
          "output_type": "stream",
          "name": "stderr",
          "text": [
            "\n",
            "100%|██████████████████████████| 10/10 [00:00<00:00, 107.93it/s, accuracy=0.916]"
          ]
        },
        {
          "output_type": "stream",
          "name": "stdout",
          "text": [
            "n_shots=2, Run=19, Accuracy: 91.57 %\n"
          ]
        },
        {
          "output_type": "stream",
          "name": "stderr",
          "text": [
            "\n",
            "100%|██████████████████████████| 10/10 [00:00<00:00, 110.16it/s, accuracy=0.918]"
          ]
        },
        {
          "output_type": "stream",
          "name": "stdout",
          "text": [
            "n_shots=3, Run=19, Accuracy: 91.80 %\n"
          ]
        },
        {
          "output_type": "stream",
          "name": "stderr",
          "text": [
            "\n",
            "100%|██████████████████████████| 10/10 [00:00<00:00, 108.00it/s, accuracy=0.932]"
          ]
        },
        {
          "output_type": "stream",
          "name": "stdout",
          "text": [
            "n_shots=4, Run=19, Accuracy: 93.23 %\n"
          ]
        },
        {
          "output_type": "stream",
          "name": "stderr",
          "text": [
            "\n",
            "100%|██████████████████████████| 10/10 [00:00<00:00, 103.95it/s, accuracy=0.968]"
          ]
        },
        {
          "output_type": "stream",
          "name": "stdout",
          "text": [
            "n_shots=5, Run=19, Accuracy: 96.80 %\n"
          ]
        },
        {
          "output_type": "stream",
          "name": "stderr",
          "text": [
            "\n",
            "100%|██████████████████████████| 10/10 [00:00<00:00, 106.51it/s, accuracy=0.968]"
          ]
        },
        {
          "output_type": "stream",
          "name": "stdout",
          "text": [
            "n_shots=6, Run=19, Accuracy: 96.77 %\n"
          ]
        },
        {
          "output_type": "stream",
          "name": "stderr",
          "text": [
            "\n",
            "100%|██████████████████████████| 10/10 [00:00<00:00, 108.31it/s, accuracy=0.988]"
          ]
        },
        {
          "output_type": "stream",
          "name": "stdout",
          "text": [
            "n_shots=8, Run=19, Accuracy: 98.80 %\n"
          ]
        },
        {
          "output_type": "stream",
          "name": "stderr",
          "text": [
            "\n",
            "100%|██████████████████████████| 10/10 [00:00<00:00, 110.02it/s, accuracy=0.963]"
          ]
        },
        {
          "output_type": "stream",
          "name": "stdout",
          "text": [
            "n_shots=10, Run=19, Accuracy: 96.33 %\n"
          ]
        },
        {
          "output_type": "stream",
          "name": "stderr",
          "text": [
            "\n",
            "100%|██████████████████████████| 10/10 [00:00<00:00, 103.38it/s, accuracy=0.991]"
          ]
        },
        {
          "output_type": "stream",
          "name": "stdout",
          "text": [
            "n_shots=12, Run=19, Accuracy: 99.13 %\n"
          ]
        },
        {
          "output_type": "stream",
          "name": "stderr",
          "text": [
            "\n",
            "100%|██████████████████████████| 10/10 [00:00<00:00, 107.43it/s, accuracy=0.963]"
          ]
        },
        {
          "output_type": "stream",
          "name": "stdout",
          "text": [
            "n_shots=16, Run=19, Accuracy: 96.27 %\n"
          ]
        },
        {
          "output_type": "stream",
          "name": "stderr",
          "text": [
            "\n",
            "100%|███████████████████████████| 10/10 [00:00<00:00, 106.45it/s, accuracy=0.98]"
          ]
        },
        {
          "output_type": "stream",
          "name": "stdout",
          "text": [
            "n_shots=24, Run=19, Accuracy: 98.03 %\n"
          ]
        },
        {
          "output_type": "stream",
          "name": "stderr",
          "text": [
            "\n",
            "100%|██████████████████████████| 10/10 [00:00<00:00, 101.87it/s, accuracy=0.993]"
          ]
        },
        {
          "output_type": "stream",
          "name": "stdout",
          "text": [
            "n_shots=32, Run=19, Accuracy: 99.33 %\n"
          ]
        },
        {
          "output_type": "stream",
          "name": "stderr",
          "text": [
            "\n",
            "100%|██████████████████████████| 10/10 [00:00<00:00, 103.77it/s, accuracy=0.881]"
          ]
        },
        {
          "output_type": "stream",
          "name": "stdout",
          "text": [
            "n_shots=1, Run=20, Accuracy: 88.13 %\n"
          ]
        },
        {
          "output_type": "stream",
          "name": "stderr",
          "text": [
            "\n",
            "100%|██████████████████████████| 10/10 [00:00<00:00, 111.18it/s, accuracy=0.901]"
          ]
        },
        {
          "output_type": "stream",
          "name": "stdout",
          "text": [
            "n_shots=2, Run=20, Accuracy: 90.07 %\n"
          ]
        },
        {
          "output_type": "stream",
          "name": "stderr",
          "text": [
            "\n",
            "100%|██████████████████████████| 10/10 [00:00<00:00, 112.72it/s, accuracy=0.952]"
          ]
        },
        {
          "output_type": "stream",
          "name": "stdout",
          "text": [
            "n_shots=3, Run=20, Accuracy: 95.23 %\n"
          ]
        },
        {
          "output_type": "stream",
          "name": "stderr",
          "text": [
            "\n",
            "100%|██████████████████████████| 10/10 [00:00<00:00, 109.00it/s, accuracy=0.942]"
          ]
        },
        {
          "output_type": "stream",
          "name": "stdout",
          "text": [
            "n_shots=4, Run=20, Accuracy: 94.17 %\n"
          ]
        },
        {
          "output_type": "stream",
          "name": "stderr",
          "text": [
            "\n",
            "100%|██████████████████████████| 10/10 [00:00<00:00, 108.92it/s, accuracy=0.947]"
          ]
        },
        {
          "output_type": "stream",
          "name": "stdout",
          "text": [
            "n_shots=5, Run=20, Accuracy: 94.73 %\n"
          ]
        },
        {
          "output_type": "stream",
          "name": "stderr",
          "text": [
            "\n",
            "100%|██████████████████████████| 10/10 [00:00<00:00, 107.72it/s, accuracy=0.966]"
          ]
        },
        {
          "output_type": "stream",
          "name": "stdout",
          "text": [
            "n_shots=6, Run=20, Accuracy: 96.57 %\n"
          ]
        },
        {
          "output_type": "stream",
          "name": "stderr",
          "text": [
            "\n",
            "100%|██████████████████████████| 10/10 [00:00<00:00, 108.28it/s, accuracy=0.965]"
          ]
        },
        {
          "output_type": "stream",
          "name": "stdout",
          "text": [
            "n_shots=8, Run=20, Accuracy: 96.50 %\n"
          ]
        },
        {
          "output_type": "stream",
          "name": "stderr",
          "text": [
            "\n",
            "100%|██████████████████████████| 10/10 [00:00<00:00, 110.57it/s, accuracy=0.966]"
          ]
        },
        {
          "output_type": "stream",
          "name": "stdout",
          "text": [
            "n_shots=10, Run=20, Accuracy: 96.63 %\n"
          ]
        },
        {
          "output_type": "stream",
          "name": "stderr",
          "text": [
            "\n",
            "100%|██████████████████████████| 10/10 [00:00<00:00, 108.02it/s, accuracy=0.976]"
          ]
        },
        {
          "output_type": "stream",
          "name": "stdout",
          "text": [
            "n_shots=12, Run=20, Accuracy: 97.63 %\n"
          ]
        },
        {
          "output_type": "stream",
          "name": "stderr",
          "text": [
            "\n",
            "100%|██████████████████████████| 10/10 [00:00<00:00, 105.17it/s, accuracy=0.983]"
          ]
        },
        {
          "output_type": "stream",
          "name": "stdout",
          "text": [
            "n_shots=16, Run=20, Accuracy: 98.27 %\n"
          ]
        },
        {
          "output_type": "stream",
          "name": "stderr",
          "text": [
            "\n",
            "100%|██████████████████████████| 10/10 [00:00<00:00, 103.80it/s, accuracy=0.982]"
          ]
        },
        {
          "output_type": "stream",
          "name": "stdout",
          "text": [
            "n_shots=24, Run=20, Accuracy: 98.17 %\n"
          ]
        },
        {
          "output_type": "stream",
          "name": "stderr",
          "text": [
            "\n",
            "100%|███████████████████████████| 10/10 [00:00<00:00, 95.18it/s, accuracy=0.982]"
          ]
        },
        {
          "output_type": "stream",
          "name": "stdout",
          "text": [
            "n_shots=32, Run=20, Accuracy: 98.17 %\n"
          ]
        },
        {
          "output_type": "stream",
          "name": "stderr",
          "text": [
            "\n"
          ]
        }
      ],
      "source": [
        "output_directory_n = Path(\"/home/rakib/models/paper_benchmarking_ssl_diverse_pathology/inference/nct0/bt/2\")\n",
        "#data_to_test = \"/home/rakib/data/TIGER\"\n",
        "data_to_test = Path(\"/home/rakib/data/CRC-VAL-HE-7K/\")\n",
        "transform = transforms.Compose([transforms.Resize((224, 224)),\n",
        "                                transforms.ToTensor()])\n",
        "testset = torchvision.datasets.ImageFolder(data_to_test, transform=transform)\n",
        "\n",
        "classes = testset.classes\n",
        "\n",
        "print(classes)\n",
        "dataloader = DataLoader(testset, batch_size=128, shuffle=False, drop_last=False)\n",
        "nct_emb_df = predict_embeddings(dataloader, model, device=device)\n",
        "nct_emb_dataset = FeaturesDataset.from_dataframe(nct_emb_df)\n",
        "nct_results_df = evaluate_few_shot_model(nct_emb_dataset, model, device=device, n_way=3)\n",
        "nct_results_df.sort_values([\"n_shots\", \"accuracy\"])\n",
        "\n",
        "mean_accuracies_nct = nct_results_df.groupby(\"n_shots\")[\"accuracy\"].mean().reset_index()\n",
        "mean_accuracies_nct.rename(columns={\"accuracy\": \"mean\"}, inplace=True)\n",
        "std_accuracies_nct = nct_results_df.groupby(\"n_shots\")[\"accuracy\"].std().reset_index()\n",
        "std_accuracies_nct.rename(columns={\"accuracy\": \"std\"}, inplace=True)\n",
        "# Merge the two DataFrames based on the 'n_shots' column\n",
        "merged_df_nct = pd.merge(mean_accuracies_nct, std_accuracies_nct, on=\"n_shots\")\n",
        "\n",
        "# Save the average accuracy information in a separate CSV file\n",
        "acc_csv_filename = \"3way_average_accuracy_nct_bt.csv\"\n",
        "merged_df_nct.to_csv(os.path.join(output_directory_n, acc_csv_filename), index=False)"
      ]
    },
    {
      "cell_type": "code",
      "execution_count": null,
      "metadata": {
        "colab": {
          "base_uri": "https://localhost:8080/"
        },
        "id": "PtdAAnAJKNBt",
        "outputId": "6cf23cc5-1f29-47bc-bd2c-4d33ed30cc38"
      },
      "outputs": [
        {
          "output_type": "stream",
          "name": "stdout",
          "text": [
            "['Inflamed_STR', 'Invasive_TUM', 'Necrosis-not-InSitu', 'TUM_STR']\n"
          ]
        },
        {
          "output_type": "stream",
          "name": "stderr",
          "text": [
            "Predicting embeddings: 100%|█████████████████| 74/74 [00:37<00:00,  1.95batch/s]\n",
            "100%|██████████████████████████| 10/10 [00:00<00:00, 104.74it/s, accuracy=0.721]"
          ]
        },
        {
          "output_type": "stream",
          "name": "stdout",
          "text": [
            "n_shots=1, Run=1, Accuracy: 72.13 %\n"
          ]
        },
        {
          "output_type": "stream",
          "name": "stderr",
          "text": [
            "\n",
            "100%|██████████████████████████| 10/10 [00:00<00:00, 111.18it/s, accuracy=0.806]\n"
          ]
        },
        {
          "output_type": "stream",
          "name": "stdout",
          "text": [
            "n_shots=2, Run=1, Accuracy: 80.57 %\n"
          ]
        },
        {
          "output_type": "stream",
          "name": "stderr",
          "text": [
            "100%|██████████████████████████| 10/10 [00:00<00:00, 112.91it/s, accuracy=0.812]\n"
          ]
        },
        {
          "output_type": "stream",
          "name": "stdout",
          "text": [
            "n_shots=3, Run=1, Accuracy: 81.17 %\n"
          ]
        },
        {
          "output_type": "stream",
          "name": "stderr",
          "text": [
            "100%|██████████████████████████| 10/10 [00:00<00:00, 107.03it/s, accuracy=0.891]\n"
          ]
        },
        {
          "output_type": "stream",
          "name": "stdout",
          "text": [
            "n_shots=4, Run=1, Accuracy: 89.13 %\n"
          ]
        },
        {
          "output_type": "stream",
          "name": "stderr",
          "text": [
            "100%|██████████████████████████| 10/10 [00:00<00:00, 114.05it/s, accuracy=0.897]\n"
          ]
        },
        {
          "output_type": "stream",
          "name": "stdout",
          "text": [
            "n_shots=5, Run=1, Accuracy: 89.67 %\n"
          ]
        },
        {
          "output_type": "stream",
          "name": "stderr",
          "text": [
            "100%|██████████████████████████| 10/10 [00:00<00:00, 116.80it/s, accuracy=0.874]\n"
          ]
        },
        {
          "output_type": "stream",
          "name": "stdout",
          "text": [
            "n_shots=6, Run=1, Accuracy: 87.37 %\n"
          ]
        },
        {
          "output_type": "stream",
          "name": "stderr",
          "text": [
            "100%|██████████████████████████| 10/10 [00:00<00:00, 112.15it/s, accuracy=0.891]\n"
          ]
        },
        {
          "output_type": "stream",
          "name": "stdout",
          "text": [
            "n_shots=8, Run=1, Accuracy: 89.10 %\n"
          ]
        },
        {
          "output_type": "stream",
          "name": "stderr",
          "text": [
            "100%|████████████████████████████| 10/10 [00:00<00:00, 104.81it/s, accuracy=0.9]"
          ]
        },
        {
          "output_type": "stream",
          "name": "stdout",
          "text": [
            "n_shots=10, Run=1, Accuracy: 89.97 %\n"
          ]
        },
        {
          "output_type": "stream",
          "name": "stderr",
          "text": [
            "\n",
            "100%|██████████████████████████| 10/10 [00:00<00:00, 108.62it/s, accuracy=0.916]\n"
          ]
        },
        {
          "output_type": "stream",
          "name": "stdout",
          "text": [
            "n_shots=12, Run=1, Accuracy: 91.57 %\n"
          ]
        },
        {
          "output_type": "stream",
          "name": "stderr",
          "text": [
            "100%|██████████████████████████| 10/10 [00:00<00:00, 106.07it/s, accuracy=0.917]\n"
          ]
        },
        {
          "output_type": "stream",
          "name": "stdout",
          "text": [
            "n_shots=16, Run=1, Accuracy: 91.70 %\n"
          ]
        },
        {
          "output_type": "stream",
          "name": "stderr",
          "text": [
            "100%|██████████████████████████| 10/10 [00:00<00:00, 105.18it/s, accuracy=0.921]"
          ]
        },
        {
          "output_type": "stream",
          "name": "stdout",
          "text": [
            "n_shots=24, Run=1, Accuracy: 92.10 %\n"
          ]
        },
        {
          "output_type": "stream",
          "name": "stderr",
          "text": [
            "\n",
            "100%|██████████████████████████| 10/10 [00:00<00:00, 104.48it/s, accuracy=0.926]"
          ]
        },
        {
          "output_type": "stream",
          "name": "stdout",
          "text": [
            "n_shots=32, Run=1, Accuracy: 92.60 %\n"
          ]
        },
        {
          "output_type": "stream",
          "name": "stderr",
          "text": [
            "\n",
            "100%|██████████████████████████| 10/10 [00:00<00:00, 107.79it/s, accuracy=0.725]\n"
          ]
        },
        {
          "output_type": "stream",
          "name": "stdout",
          "text": [
            "n_shots=1, Run=2, Accuracy: 72.50 %\n"
          ]
        },
        {
          "output_type": "stream",
          "name": "stderr",
          "text": [
            "100%|██████████████████████████| 10/10 [00:00<00:00, 114.20it/s, accuracy=0.769]\n"
          ]
        },
        {
          "output_type": "stream",
          "name": "stdout",
          "text": [
            "n_shots=2, Run=2, Accuracy: 76.90 %\n"
          ]
        },
        {
          "output_type": "stream",
          "name": "stderr",
          "text": [
            "100%|██████████████████████████| 10/10 [00:00<00:00, 112.04it/s, accuracy=0.848]\n"
          ]
        },
        {
          "output_type": "stream",
          "name": "stdout",
          "text": [
            "n_shots=3, Run=2, Accuracy: 84.83 %\n"
          ]
        },
        {
          "output_type": "stream",
          "name": "stderr",
          "text": [
            "100%|██████████████████████████| 10/10 [00:00<00:00, 108.24it/s, accuracy=0.877]\n"
          ]
        },
        {
          "output_type": "stream",
          "name": "stdout",
          "text": [
            "n_shots=4, Run=2, Accuracy: 87.67 %\n"
          ]
        },
        {
          "output_type": "stream",
          "name": "stderr",
          "text": [
            "100%|██████████████████████████| 10/10 [00:00<00:00, 108.72it/s, accuracy=0.875]\n"
          ]
        },
        {
          "output_type": "stream",
          "name": "stdout",
          "text": [
            "n_shots=5, Run=2, Accuracy: 87.47 %\n"
          ]
        },
        {
          "output_type": "stream",
          "name": "stderr",
          "text": [
            "100%|██████████████████████████| 10/10 [00:00<00:00, 106.62it/s, accuracy=0.897]"
          ]
        },
        {
          "output_type": "stream",
          "name": "stdout",
          "text": [
            "n_shots=6, Run=2, Accuracy: 89.67 %\n"
          ]
        },
        {
          "output_type": "stream",
          "name": "stderr",
          "text": [
            "\n",
            "100%|██████████████████████████| 10/10 [00:00<00:00, 110.36it/s, accuracy=0.905]\n"
          ]
        },
        {
          "output_type": "stream",
          "name": "stdout",
          "text": [
            "n_shots=8, Run=2, Accuracy: 90.47 %\n"
          ]
        },
        {
          "output_type": "stream",
          "name": "stderr",
          "text": [
            "100%|██████████████████████████| 10/10 [00:00<00:00, 112.57it/s, accuracy=0.916]\n"
          ]
        },
        {
          "output_type": "stream",
          "name": "stdout",
          "text": [
            "n_shots=10, Run=2, Accuracy: 91.60 %\n"
          ]
        },
        {
          "output_type": "stream",
          "name": "stderr",
          "text": [
            "100%|██████████████████████████| 10/10 [00:00<00:00, 115.15it/s, accuracy=0.905]\n"
          ]
        },
        {
          "output_type": "stream",
          "name": "stdout",
          "text": [
            "n_shots=12, Run=2, Accuracy: 90.50 %\n"
          ]
        },
        {
          "output_type": "stream",
          "name": "stderr",
          "text": [
            "100%|██████████████████████████| 10/10 [00:00<00:00, 109.89it/s, accuracy=0.933]\n"
          ]
        },
        {
          "output_type": "stream",
          "name": "stdout",
          "text": [
            "n_shots=16, Run=2, Accuracy: 93.27 %\n"
          ]
        },
        {
          "output_type": "stream",
          "name": "stderr",
          "text": [
            "100%|██████████████████████████| 10/10 [00:00<00:00, 111.29it/s, accuracy=0.918]\n"
          ]
        },
        {
          "output_type": "stream",
          "name": "stdout",
          "text": [
            "n_shots=24, Run=2, Accuracy: 91.83 %\n"
          ]
        },
        {
          "output_type": "stream",
          "name": "stderr",
          "text": [
            "100%|██████████████████████████| 10/10 [00:00<00:00, 110.90it/s, accuracy=0.925]\n"
          ]
        },
        {
          "output_type": "stream",
          "name": "stdout",
          "text": [
            "n_shots=32, Run=2, Accuracy: 92.50 %\n"
          ]
        },
        {
          "output_type": "stream",
          "name": "stderr",
          "text": [
            "100%|███████████████████████████| 10/10 [00:00<00:00, 97.89it/s, accuracy=0.658]"
          ]
        },
        {
          "output_type": "stream",
          "name": "stdout",
          "text": [
            "n_shots=1, Run=3, Accuracy: 65.77 %\n"
          ]
        },
        {
          "output_type": "stream",
          "name": "stderr",
          "text": [
            "\n",
            "100%|███████████████████████████| 10/10 [00:00<00:00, 97.27it/s, accuracy=0.796]"
          ]
        },
        {
          "output_type": "stream",
          "name": "stdout",
          "text": [
            "n_shots=2, Run=3, Accuracy: 79.60 %\n"
          ]
        },
        {
          "output_type": "stream",
          "name": "stderr",
          "text": [
            "\n",
            "100%|██████████████████████████| 10/10 [00:00<00:00, 103.89it/s, accuracy=0.843]"
          ]
        },
        {
          "output_type": "stream",
          "name": "stdout",
          "text": [
            "n_shots=3, Run=3, Accuracy: 84.30 %\n"
          ]
        },
        {
          "output_type": "stream",
          "name": "stderr",
          "text": [
            "\n",
            "100%|██████████████████████████| 10/10 [00:00<00:00, 110.61it/s, accuracy=0.871]\n"
          ]
        },
        {
          "output_type": "stream",
          "name": "stdout",
          "text": [
            "n_shots=4, Run=3, Accuracy: 87.13 %\n"
          ]
        },
        {
          "output_type": "stream",
          "name": "stderr",
          "text": [
            "100%|██████████████████████████| 10/10 [00:00<00:00, 110.35it/s, accuracy=0.871]\n"
          ]
        },
        {
          "output_type": "stream",
          "name": "stdout",
          "text": [
            "n_shots=5, Run=3, Accuracy: 87.07 %\n"
          ]
        },
        {
          "output_type": "stream",
          "name": "stderr",
          "text": [
            "100%|██████████████████████████| 10/10 [00:00<00:00, 110.80it/s, accuracy=0.896]\n"
          ]
        },
        {
          "output_type": "stream",
          "name": "stdout",
          "text": [
            "n_shots=6, Run=3, Accuracy: 89.63 %\n"
          ]
        },
        {
          "output_type": "stream",
          "name": "stderr",
          "text": [
            "100%|██████████████████████████| 10/10 [00:00<00:00, 112.38it/s, accuracy=0.891]\n"
          ]
        },
        {
          "output_type": "stream",
          "name": "stdout",
          "text": [
            "n_shots=8, Run=3, Accuracy: 89.10 %\n"
          ]
        },
        {
          "output_type": "stream",
          "name": "stderr",
          "text": [
            "100%|██████████████████████████| 10/10 [00:00<00:00, 105.17it/s, accuracy=0.899]\n"
          ]
        },
        {
          "output_type": "stream",
          "name": "stdout",
          "text": [
            "n_shots=10, Run=3, Accuracy: 89.93 %\n"
          ]
        },
        {
          "output_type": "stream",
          "name": "stderr",
          "text": [
            "100%|███████████████████████████| 10/10 [00:00<00:00, 92.55it/s, accuracy=0.902]"
          ]
        },
        {
          "output_type": "stream",
          "name": "stdout",
          "text": [
            "n_shots=12, Run=3, Accuracy: 90.23 %\n"
          ]
        },
        {
          "output_type": "stream",
          "name": "stderr",
          "text": [
            "\n",
            "100%|██████████████████████████| 10/10 [00:00<00:00, 112.83it/s, accuracy=0.918]\n"
          ]
        },
        {
          "output_type": "stream",
          "name": "stdout",
          "text": [
            "n_shots=16, Run=3, Accuracy: 91.83 %\n"
          ]
        },
        {
          "output_type": "stream",
          "name": "stderr",
          "text": [
            "100%|███████████████████████████| 10/10 [00:00<00:00, 106.68it/s, accuracy=0.91]\n"
          ]
        },
        {
          "output_type": "stream",
          "name": "stdout",
          "text": [
            "n_shots=24, Run=3, Accuracy: 90.97 %\n"
          ]
        },
        {
          "output_type": "stream",
          "name": "stderr",
          "text": [
            "100%|██████████████████████████| 10/10 [00:00<00:00, 109.16it/s, accuracy=0.912]\n"
          ]
        },
        {
          "output_type": "stream",
          "name": "stdout",
          "text": [
            "n_shots=32, Run=3, Accuracy: 91.17 %\n"
          ]
        },
        {
          "output_type": "stream",
          "name": "stderr",
          "text": [
            "100%|██████████████████████████| 10/10 [00:00<00:00, 105.76it/s, accuracy=0.679]\n"
          ]
        },
        {
          "output_type": "stream",
          "name": "stdout",
          "text": [
            "n_shots=1, Run=4, Accuracy: 67.93 %\n"
          ]
        },
        {
          "output_type": "stream",
          "name": "stderr",
          "text": [
            "100%|███████████████████████████| 10/10 [00:00<00:00, 115.50it/s, accuracy=0.79]\n"
          ]
        },
        {
          "output_type": "stream",
          "name": "stdout",
          "text": [
            "n_shots=2, Run=4, Accuracy: 79.03 %\n"
          ]
        },
        {
          "output_type": "stream",
          "name": "stderr",
          "text": [
            "100%|██████████████████████████| 10/10 [00:00<00:00, 111.39it/s, accuracy=0.872]\n"
          ]
        },
        {
          "output_type": "stream",
          "name": "stdout",
          "text": [
            "n_shots=3, Run=4, Accuracy: 87.17 %\n"
          ]
        },
        {
          "output_type": "stream",
          "name": "stderr",
          "text": [
            "100%|██████████████████████████| 10/10 [00:00<00:00, 117.31it/s, accuracy=0.863]\n"
          ]
        },
        {
          "output_type": "stream",
          "name": "stdout",
          "text": [
            "n_shots=4, Run=4, Accuracy: 86.27 %\n"
          ]
        },
        {
          "output_type": "stream",
          "name": "stderr",
          "text": [
            "100%|██████████████████████████| 10/10 [00:00<00:00, 116.39it/s, accuracy=0.895]\n"
          ]
        },
        {
          "output_type": "stream",
          "name": "stdout",
          "text": [
            "n_shots=5, Run=4, Accuracy: 89.53 %\n"
          ]
        },
        {
          "output_type": "stream",
          "name": "stderr",
          "text": [
            "100%|██████████████████████████| 10/10 [00:00<00:00, 112.47it/s, accuracy=0.892]\n"
          ]
        },
        {
          "output_type": "stream",
          "name": "stdout",
          "text": [
            "n_shots=6, Run=4, Accuracy: 89.20 %\n"
          ]
        },
        {
          "output_type": "stream",
          "name": "stderr",
          "text": [
            "100%|███████████████████████████| 10/10 [00:00<00:00, 113.44it/s, accuracy=0.91]\n"
          ]
        },
        {
          "output_type": "stream",
          "name": "stdout",
          "text": [
            "n_shots=8, Run=4, Accuracy: 90.97 %\n"
          ]
        },
        {
          "output_type": "stream",
          "name": "stderr",
          "text": [
            "100%|██████████████████████████| 10/10 [00:00<00:00, 116.79it/s, accuracy=0.915]\n"
          ]
        },
        {
          "output_type": "stream",
          "name": "stdout",
          "text": [
            "n_shots=10, Run=4, Accuracy: 91.47 %\n"
          ]
        },
        {
          "output_type": "stream",
          "name": "stderr",
          "text": [
            "100%|██████████████████████████| 10/10 [00:00<00:00, 111.56it/s, accuracy=0.908]\n"
          ]
        },
        {
          "output_type": "stream",
          "name": "stdout",
          "text": [
            "n_shots=12, Run=4, Accuracy: 90.77 %\n"
          ]
        },
        {
          "output_type": "stream",
          "name": "stderr",
          "text": [
            "100%|██████████████████████████| 10/10 [00:00<00:00, 113.22it/s, accuracy=0.913]\n"
          ]
        },
        {
          "output_type": "stream",
          "name": "stdout",
          "text": [
            "n_shots=16, Run=4, Accuracy: 91.30 %\n"
          ]
        },
        {
          "output_type": "stream",
          "name": "stderr",
          "text": [
            "100%|███████████████████████████| 10/10 [00:00<00:00, 110.56it/s, accuracy=0.92]\n"
          ]
        },
        {
          "output_type": "stream",
          "name": "stdout",
          "text": [
            "n_shots=24, Run=4, Accuracy: 92.00 %\n"
          ]
        },
        {
          "output_type": "stream",
          "name": "stderr",
          "text": [
            "100%|██████████████████████████| 10/10 [00:00<00:00, 106.15it/s, accuracy=0.914]\n"
          ]
        },
        {
          "output_type": "stream",
          "name": "stdout",
          "text": [
            "n_shots=32, Run=4, Accuracy: 91.40 %\n"
          ]
        },
        {
          "output_type": "stream",
          "name": "stderr",
          "text": [
            "100%|██████████████████████████| 10/10 [00:00<00:00, 109.74it/s, accuracy=0.676]\n"
          ]
        },
        {
          "output_type": "stream",
          "name": "stdout",
          "text": [
            "n_shots=1, Run=5, Accuracy: 67.60 %\n"
          ]
        },
        {
          "output_type": "stream",
          "name": "stderr",
          "text": [
            "100%|██████████████████████████| 10/10 [00:00<00:00, 108.20it/s, accuracy=0.778]\n"
          ]
        },
        {
          "output_type": "stream",
          "name": "stdout",
          "text": [
            "n_shots=2, Run=5, Accuracy: 77.77 %\n"
          ]
        },
        {
          "output_type": "stream",
          "name": "stderr",
          "text": [
            "100%|██████████████████████████| 10/10 [00:00<00:00, 112.98it/s, accuracy=0.862]\n"
          ]
        },
        {
          "output_type": "stream",
          "name": "stdout",
          "text": [
            "n_shots=3, Run=5, Accuracy: 86.17 %\n"
          ]
        },
        {
          "output_type": "stream",
          "name": "stderr",
          "text": [
            "100%|██████████████████████████| 10/10 [00:00<00:00, 115.78it/s, accuracy=0.852]\n"
          ]
        },
        {
          "output_type": "stream",
          "name": "stdout",
          "text": [
            "n_shots=4, Run=5, Accuracy: 85.20 %\n"
          ]
        },
        {
          "output_type": "stream",
          "name": "stderr",
          "text": [
            "100%|██████████████████████████| 10/10 [00:00<00:00, 112.07it/s, accuracy=0.895]\n"
          ]
        },
        {
          "output_type": "stream",
          "name": "stdout",
          "text": [
            "n_shots=5, Run=5, Accuracy: 89.53 %\n"
          ]
        },
        {
          "output_type": "stream",
          "name": "stderr",
          "text": [
            "100%|██████████████████████████| 10/10 [00:00<00:00, 114.32it/s, accuracy=0.884]\n"
          ]
        },
        {
          "output_type": "stream",
          "name": "stdout",
          "text": [
            "n_shots=6, Run=5, Accuracy: 88.43 %\n"
          ]
        },
        {
          "output_type": "stream",
          "name": "stderr",
          "text": [
            "100%|██████████████████████████| 10/10 [00:00<00:00, 114.31it/s, accuracy=0.899]\n"
          ]
        },
        {
          "output_type": "stream",
          "name": "stdout",
          "text": [
            "n_shots=8, Run=5, Accuracy: 89.93 %\n"
          ]
        },
        {
          "output_type": "stream",
          "name": "stderr",
          "text": [
            "100%|██████████████████████████| 10/10 [00:00<00:00, 115.19it/s, accuracy=0.919]\n"
          ]
        },
        {
          "output_type": "stream",
          "name": "stdout",
          "text": [
            "n_shots=10, Run=5, Accuracy: 91.87 %\n"
          ]
        },
        {
          "output_type": "stream",
          "name": "stderr",
          "text": [
            "100%|██████████████████████████| 10/10 [00:00<00:00, 111.26it/s, accuracy=0.911]\n"
          ]
        },
        {
          "output_type": "stream",
          "name": "stdout",
          "text": [
            "n_shots=12, Run=5, Accuracy: 91.07 %\n"
          ]
        },
        {
          "output_type": "stream",
          "name": "stderr",
          "text": [
            "100%|██████████████████████████| 10/10 [00:00<00:00, 112.62it/s, accuracy=0.919]\n"
          ]
        },
        {
          "output_type": "stream",
          "name": "stdout",
          "text": [
            "n_shots=16, Run=5, Accuracy: 91.90 %\n"
          ]
        },
        {
          "output_type": "stream",
          "name": "stderr",
          "text": [
            "100%|██████████████████████████| 10/10 [00:00<00:00, 109.27it/s, accuracy=0.924]\n"
          ]
        },
        {
          "output_type": "stream",
          "name": "stdout",
          "text": [
            "n_shots=24, Run=5, Accuracy: 92.37 %\n"
          ]
        },
        {
          "output_type": "stream",
          "name": "stderr",
          "text": [
            "100%|██████████████████████████| 10/10 [00:00<00:00, 106.43it/s, accuracy=0.921]\n"
          ]
        },
        {
          "output_type": "stream",
          "name": "stdout",
          "text": [
            "n_shots=32, Run=5, Accuracy: 92.07 %\n"
          ]
        },
        {
          "output_type": "stream",
          "name": "stderr",
          "text": [
            "100%|██████████████████████████| 10/10 [00:00<00:00, 109.21it/s, accuracy=0.738]"
          ]
        },
        {
          "output_type": "stream",
          "name": "stdout",
          "text": [
            "n_shots=1, Run=6, Accuracy: 73.83 %\n"
          ]
        },
        {
          "output_type": "stream",
          "name": "stderr",
          "text": [
            "\n",
            "100%|██████████████████████████| 10/10 [00:00<00:00, 117.12it/s, accuracy=0.817]\n"
          ]
        },
        {
          "output_type": "stream",
          "name": "stdout",
          "text": [
            "n_shots=2, Run=6, Accuracy: 81.73 %\n"
          ]
        },
        {
          "output_type": "stream",
          "name": "stderr",
          "text": [
            "100%|██████████████████████████| 10/10 [00:00<00:00, 114.53it/s, accuracy=0.855]\n"
          ]
        },
        {
          "output_type": "stream",
          "name": "stdout",
          "text": [
            "n_shots=3, Run=6, Accuracy: 85.50 %\n"
          ]
        },
        {
          "output_type": "stream",
          "name": "stderr",
          "text": [
            "100%|██████████████████████████| 10/10 [00:00<00:00, 111.12it/s, accuracy=0.878]\n"
          ]
        },
        {
          "output_type": "stream",
          "name": "stdout",
          "text": [
            "n_shots=4, Run=6, Accuracy: 87.80 %\n"
          ]
        },
        {
          "output_type": "stream",
          "name": "stderr",
          "text": [
            "100%|██████████████████████████| 10/10 [00:00<00:00, 115.08it/s, accuracy=0.886]\n"
          ]
        },
        {
          "output_type": "stream",
          "name": "stdout",
          "text": [
            "n_shots=5, Run=6, Accuracy: 88.63 %\n"
          ]
        },
        {
          "output_type": "stream",
          "name": "stderr",
          "text": [
            "100%|██████████████████████████| 10/10 [00:00<00:00, 117.96it/s, accuracy=0.897]\n"
          ]
        },
        {
          "output_type": "stream",
          "name": "stdout",
          "text": [
            "n_shots=6, Run=6, Accuracy: 89.73 %\n"
          ]
        },
        {
          "output_type": "stream",
          "name": "stderr",
          "text": [
            "100%|██████████████████████████| 10/10 [00:00<00:00, 113.52it/s, accuracy=0.897]\n"
          ]
        },
        {
          "output_type": "stream",
          "name": "stdout",
          "text": [
            "n_shots=8, Run=6, Accuracy: 89.67 %\n"
          ]
        },
        {
          "output_type": "stream",
          "name": "stderr",
          "text": [
            "100%|██████████████████████████| 10/10 [00:00<00:00, 111.77it/s, accuracy=0.907]\n"
          ]
        },
        {
          "output_type": "stream",
          "name": "stdout",
          "text": [
            "n_shots=10, Run=6, Accuracy: 90.70 %\n"
          ]
        },
        {
          "output_type": "stream",
          "name": "stderr",
          "text": [
            "100%|███████████████████████████| 10/10 [00:00<00:00, 109.14it/s, accuracy=0.91]\n"
          ]
        },
        {
          "output_type": "stream",
          "name": "stdout",
          "text": [
            "n_shots=12, Run=6, Accuracy: 90.97 %\n"
          ]
        },
        {
          "output_type": "stream",
          "name": "stderr",
          "text": [
            "100%|██████████████████████████| 10/10 [00:00<00:00, 111.94it/s, accuracy=0.902]\n"
          ]
        },
        {
          "output_type": "stream",
          "name": "stdout",
          "text": [
            "n_shots=16, Run=6, Accuracy: 90.23 %\n"
          ]
        },
        {
          "output_type": "stream",
          "name": "stderr",
          "text": [
            "100%|██████████████████████████| 10/10 [00:00<00:00, 108.08it/s, accuracy=0.918]\n"
          ]
        },
        {
          "output_type": "stream",
          "name": "stdout",
          "text": [
            "n_shots=24, Run=6, Accuracy: 91.83 %\n"
          ]
        },
        {
          "output_type": "stream",
          "name": "stderr",
          "text": [
            "100%|███████████████████████████| 10/10 [00:00<00:00, 110.08it/s, accuracy=0.92]\n"
          ]
        },
        {
          "output_type": "stream",
          "name": "stdout",
          "text": [
            "n_shots=32, Run=6, Accuracy: 91.97 %\n"
          ]
        },
        {
          "output_type": "stream",
          "name": "stderr",
          "text": [
            "100%|██████████████████████████| 10/10 [00:00<00:00, 108.28it/s, accuracy=0.654]\n"
          ]
        },
        {
          "output_type": "stream",
          "name": "stdout",
          "text": [
            "n_shots=1, Run=7, Accuracy: 65.37 %\n"
          ]
        },
        {
          "output_type": "stream",
          "name": "stderr",
          "text": [
            "100%|██████████████████████████| 10/10 [00:00<00:00, 116.21it/s, accuracy=0.772]\n"
          ]
        },
        {
          "output_type": "stream",
          "name": "stdout",
          "text": [
            "n_shots=2, Run=7, Accuracy: 77.20 %\n"
          ]
        },
        {
          "output_type": "stream",
          "name": "stderr",
          "text": [
            "100%|██████████████████████████| 10/10 [00:00<00:00, 114.34it/s, accuracy=0.875]\n"
          ]
        },
        {
          "output_type": "stream",
          "name": "stdout",
          "text": [
            "n_shots=3, Run=7, Accuracy: 87.53 %\n"
          ]
        },
        {
          "output_type": "stream",
          "name": "stderr",
          "text": [
            "100%|██████████████████████████| 10/10 [00:00<00:00, 115.19it/s, accuracy=0.894]\n"
          ]
        },
        {
          "output_type": "stream",
          "name": "stdout",
          "text": [
            "n_shots=4, Run=7, Accuracy: 89.37 %\n"
          ]
        },
        {
          "output_type": "stream",
          "name": "stderr",
          "text": [
            "100%|██████████████████████████| 10/10 [00:00<00:00, 113.45it/s, accuracy=0.889]\n"
          ]
        },
        {
          "output_type": "stream",
          "name": "stdout",
          "text": [
            "n_shots=5, Run=7, Accuracy: 88.87 %\n"
          ]
        },
        {
          "output_type": "stream",
          "name": "stderr",
          "text": [
            "100%|██████████████████████████| 10/10 [00:00<00:00, 112.86it/s, accuracy=0.885]\n"
          ]
        },
        {
          "output_type": "stream",
          "name": "stdout",
          "text": [
            "n_shots=6, Run=7, Accuracy: 88.53 %\n"
          ]
        },
        {
          "output_type": "stream",
          "name": "stderr",
          "text": [
            "100%|██████████████████████████| 10/10 [00:00<00:00, 113.21it/s, accuracy=0.913]\n"
          ]
        },
        {
          "output_type": "stream",
          "name": "stdout",
          "text": [
            "n_shots=8, Run=7, Accuracy: 91.30 %\n"
          ]
        },
        {
          "output_type": "stream",
          "name": "stderr",
          "text": [
            "100%|██████████████████████████| 10/10 [00:00<00:00, 113.38it/s, accuracy=0.905]\n"
          ]
        },
        {
          "output_type": "stream",
          "name": "stdout",
          "text": [
            "n_shots=10, Run=7, Accuracy: 90.50 %\n"
          ]
        },
        {
          "output_type": "stream",
          "name": "stderr",
          "text": [
            "100%|██████████████████████████| 10/10 [00:00<00:00, 110.50it/s, accuracy=0.915]\n"
          ]
        },
        {
          "output_type": "stream",
          "name": "stdout",
          "text": [
            "n_shots=12, Run=7, Accuracy: 91.47 %\n"
          ]
        },
        {
          "output_type": "stream",
          "name": "stderr",
          "text": [
            "100%|██████████████████████████| 10/10 [00:00<00:00, 110.83it/s, accuracy=0.922]\n"
          ]
        },
        {
          "output_type": "stream",
          "name": "stdout",
          "text": [
            "n_shots=16, Run=7, Accuracy: 92.23 %\n"
          ]
        },
        {
          "output_type": "stream",
          "name": "stderr",
          "text": [
            "100%|██████████████████████████| 10/10 [00:00<00:00, 106.55it/s, accuracy=0.917]\n"
          ]
        },
        {
          "output_type": "stream",
          "name": "stdout",
          "text": [
            "n_shots=24, Run=7, Accuracy: 91.67 %\n"
          ]
        },
        {
          "output_type": "stream",
          "name": "stderr",
          "text": [
            "100%|██████████████████████████| 10/10 [00:00<00:00, 106.53it/s, accuracy=0.919]"
          ]
        },
        {
          "output_type": "stream",
          "name": "stdout",
          "text": [
            "n_shots=32, Run=7, Accuracy: 91.93 %\n"
          ]
        },
        {
          "output_type": "stream",
          "name": "stderr",
          "text": [
            "\n",
            "100%|██████████████████████████| 10/10 [00:00<00:00, 107.55it/s, accuracy=0.708]"
          ]
        },
        {
          "output_type": "stream",
          "name": "stdout",
          "text": [
            "n_shots=1, Run=8, Accuracy: 70.80 %\n"
          ]
        },
        {
          "output_type": "stream",
          "name": "stderr",
          "text": [
            "\n",
            "100%|██████████████████████████| 10/10 [00:00<00:00, 112.76it/s, accuracy=0.835]\n"
          ]
        },
        {
          "output_type": "stream",
          "name": "stdout",
          "text": [
            "n_shots=2, Run=8, Accuracy: 83.47 %\n"
          ]
        },
        {
          "output_type": "stream",
          "name": "stderr",
          "text": [
            "100%|██████████████████████████| 10/10 [00:00<00:00, 112.35it/s, accuracy=0.851]\n"
          ]
        },
        {
          "output_type": "stream",
          "name": "stdout",
          "text": [
            "n_shots=3, Run=8, Accuracy: 85.13 %\n"
          ]
        },
        {
          "output_type": "stream",
          "name": "stderr",
          "text": [
            "100%|██████████████████████████| 10/10 [00:00<00:00, 116.37it/s, accuracy=0.855]\n"
          ]
        },
        {
          "output_type": "stream",
          "name": "stdout",
          "text": [
            "n_shots=4, Run=8, Accuracy: 85.50 %\n"
          ]
        },
        {
          "output_type": "stream",
          "name": "stderr",
          "text": [
            "100%|██████████████████████████| 10/10 [00:00<00:00, 113.13it/s, accuracy=0.876]\n"
          ]
        },
        {
          "output_type": "stream",
          "name": "stdout",
          "text": [
            "n_shots=5, Run=8, Accuracy: 87.63 %\n"
          ]
        },
        {
          "output_type": "stream",
          "name": "stderr",
          "text": [
            "100%|██████████████████████████| 10/10 [00:00<00:00, 113.71it/s, accuracy=0.903]\n"
          ]
        },
        {
          "output_type": "stream",
          "name": "stdout",
          "text": [
            "n_shots=6, Run=8, Accuracy: 90.27 %\n"
          ]
        },
        {
          "output_type": "stream",
          "name": "stderr",
          "text": [
            "100%|██████████████████████████| 10/10 [00:00<00:00, 114.25it/s, accuracy=0.896]\n"
          ]
        },
        {
          "output_type": "stream",
          "name": "stdout",
          "text": [
            "n_shots=8, Run=8, Accuracy: 89.60 %\n"
          ]
        },
        {
          "output_type": "stream",
          "name": "stderr",
          "text": [
            "100%|██████████████████████████| 10/10 [00:00<00:00, 115.71it/s, accuracy=0.923]\n"
          ]
        },
        {
          "output_type": "stream",
          "name": "stdout",
          "text": [
            "n_shots=10, Run=8, Accuracy: 92.27 %\n"
          ]
        },
        {
          "output_type": "stream",
          "name": "stderr",
          "text": [
            "100%|██████████████████████████| 10/10 [00:00<00:00, 110.47it/s, accuracy=0.914]\n"
          ]
        },
        {
          "output_type": "stream",
          "name": "stdout",
          "text": [
            "n_shots=12, Run=8, Accuracy: 91.40 %\n"
          ]
        },
        {
          "output_type": "stream",
          "name": "stderr",
          "text": [
            "100%|██████████████████████████| 10/10 [00:00<00:00, 108.89it/s, accuracy=0.922]\n"
          ]
        },
        {
          "output_type": "stream",
          "name": "stdout",
          "text": [
            "n_shots=16, Run=8, Accuracy: 92.17 %\n"
          ]
        },
        {
          "output_type": "stream",
          "name": "stderr",
          "text": [
            "100%|██████████████████████████| 10/10 [00:00<00:00, 109.32it/s, accuracy=0.928]\n"
          ]
        },
        {
          "output_type": "stream",
          "name": "stdout",
          "text": [
            "n_shots=24, Run=8, Accuracy: 92.77 %\n"
          ]
        },
        {
          "output_type": "stream",
          "name": "stderr",
          "text": [
            "100%|██████████████████████████| 10/10 [00:00<00:00, 109.57it/s, accuracy=0.925]\n"
          ]
        },
        {
          "output_type": "stream",
          "name": "stdout",
          "text": [
            "n_shots=32, Run=8, Accuracy: 92.50 %\n"
          ]
        },
        {
          "output_type": "stream",
          "name": "stderr",
          "text": [
            "100%|████████████████████████████| 10/10 [00:00<00:00, 108.27it/s, accuracy=0.7]\n"
          ]
        },
        {
          "output_type": "stream",
          "name": "stdout",
          "text": [
            "n_shots=1, Run=9, Accuracy: 70.03 %\n"
          ]
        },
        {
          "output_type": "stream",
          "name": "stderr",
          "text": [
            "100%|██████████████████████████| 10/10 [00:00<00:00, 115.33it/s, accuracy=0.801]\n"
          ]
        },
        {
          "output_type": "stream",
          "name": "stdout",
          "text": [
            "n_shots=2, Run=9, Accuracy: 80.13 %\n"
          ]
        },
        {
          "output_type": "stream",
          "name": "stderr",
          "text": [
            "100%|██████████████████████████| 10/10 [00:00<00:00, 115.59it/s, accuracy=0.858]\n"
          ]
        },
        {
          "output_type": "stream",
          "name": "stdout",
          "text": [
            "n_shots=3, Run=9, Accuracy: 85.77 %\n"
          ]
        },
        {
          "output_type": "stream",
          "name": "stderr",
          "text": [
            "100%|██████████████████████████| 10/10 [00:00<00:00, 111.73it/s, accuracy=0.898]\n"
          ]
        },
        {
          "output_type": "stream",
          "name": "stdout",
          "text": [
            "n_shots=4, Run=9, Accuracy: 89.80 %\n"
          ]
        },
        {
          "output_type": "stream",
          "name": "stderr",
          "text": [
            "100%|██████████████████████████| 10/10 [00:00<00:00, 110.18it/s, accuracy=0.882]\n"
          ]
        },
        {
          "output_type": "stream",
          "name": "stdout",
          "text": [
            "n_shots=5, Run=9, Accuracy: 88.17 %\n"
          ]
        },
        {
          "output_type": "stream",
          "name": "stderr",
          "text": [
            "100%|██████████████████████████| 10/10 [00:00<00:00, 114.11it/s, accuracy=0.867]\n"
          ]
        },
        {
          "output_type": "stream",
          "name": "stdout",
          "text": [
            "n_shots=6, Run=9, Accuracy: 86.67 %\n"
          ]
        },
        {
          "output_type": "stream",
          "name": "stderr",
          "text": [
            "100%|███████████████████████████| 10/10 [00:00<00:00, 111.33it/s, accuracy=0.91]\n"
          ]
        },
        {
          "output_type": "stream",
          "name": "stdout",
          "text": [
            "n_shots=8, Run=9, Accuracy: 90.97 %\n"
          ]
        },
        {
          "output_type": "stream",
          "name": "stderr",
          "text": [
            "100%|██████████████████████████| 10/10 [00:00<00:00, 114.21it/s, accuracy=0.886]\n"
          ]
        },
        {
          "output_type": "stream",
          "name": "stdout",
          "text": [
            "n_shots=10, Run=9, Accuracy: 88.60 %\n"
          ]
        },
        {
          "output_type": "stream",
          "name": "stderr",
          "text": [
            "100%|██████████████████████████| 10/10 [00:00<00:00, 106.92it/s, accuracy=0.925]\n"
          ]
        },
        {
          "output_type": "stream",
          "name": "stdout",
          "text": [
            "n_shots=12, Run=9, Accuracy: 92.53 %\n"
          ]
        },
        {
          "output_type": "stream",
          "name": "stderr",
          "text": [
            "100%|██████████████████████████| 10/10 [00:00<00:00, 109.89it/s, accuracy=0.899]\n"
          ]
        },
        {
          "output_type": "stream",
          "name": "stdout",
          "text": [
            "n_shots=16, Run=9, Accuracy: 89.90 %\n"
          ]
        },
        {
          "output_type": "stream",
          "name": "stderr",
          "text": [
            "100%|██████████████████████████| 10/10 [00:00<00:00, 106.74it/s, accuracy=0.928]\n"
          ]
        },
        {
          "output_type": "stream",
          "name": "stdout",
          "text": [
            "n_shots=24, Run=9, Accuracy: 92.80 %\n"
          ]
        },
        {
          "output_type": "stream",
          "name": "stderr",
          "text": [
            "100%|██████████████████████████| 10/10 [00:00<00:00, 112.44it/s, accuracy=0.932]\n"
          ]
        },
        {
          "output_type": "stream",
          "name": "stdout",
          "text": [
            "n_shots=32, Run=9, Accuracy: 93.23 %\n"
          ]
        },
        {
          "output_type": "stream",
          "name": "stderr",
          "text": [
            "100%|██████████████████████████| 10/10 [00:00<00:00, 109.29it/s, accuracy=0.736]\n"
          ]
        },
        {
          "output_type": "stream",
          "name": "stdout",
          "text": [
            "n_shots=1, Run=10, Accuracy: 73.60 %\n"
          ]
        },
        {
          "output_type": "stream",
          "name": "stderr",
          "text": [
            "100%|██████████████████████████| 10/10 [00:00<00:00, 113.22it/s, accuracy=0.789]\n"
          ]
        },
        {
          "output_type": "stream",
          "name": "stdout",
          "text": [
            "n_shots=2, Run=10, Accuracy: 78.93 %\n"
          ]
        },
        {
          "output_type": "stream",
          "name": "stderr",
          "text": [
            "100%|██████████████████████████| 10/10 [00:00<00:00, 114.09it/s, accuracy=0.833]\n"
          ]
        },
        {
          "output_type": "stream",
          "name": "stdout",
          "text": [
            "n_shots=3, Run=10, Accuracy: 83.27 %\n"
          ]
        },
        {
          "output_type": "stream",
          "name": "stderr",
          "text": [
            "100%|██████████████████████████| 10/10 [00:00<00:00, 112.16it/s, accuracy=0.843]\n"
          ]
        },
        {
          "output_type": "stream",
          "name": "stdout",
          "text": [
            "n_shots=4, Run=10, Accuracy: 84.33 %\n"
          ]
        },
        {
          "output_type": "stream",
          "name": "stderr",
          "text": [
            "100%|██████████████████████████| 10/10 [00:00<00:00, 112.90it/s, accuracy=0.881]\n"
          ]
        },
        {
          "output_type": "stream",
          "name": "stdout",
          "text": [
            "n_shots=5, Run=10, Accuracy: 88.13 %\n"
          ]
        },
        {
          "output_type": "stream",
          "name": "stderr",
          "text": [
            "100%|██████████████████████████| 10/10 [00:00<00:00, 114.89it/s, accuracy=0.863]\n"
          ]
        },
        {
          "output_type": "stream",
          "name": "stdout",
          "text": [
            "n_shots=6, Run=10, Accuracy: 86.33 %\n"
          ]
        },
        {
          "output_type": "stream",
          "name": "stderr",
          "text": [
            "100%|██████████████████████████| 10/10 [00:00<00:00, 112.00it/s, accuracy=0.908]\n"
          ]
        },
        {
          "output_type": "stream",
          "name": "stdout",
          "text": [
            "n_shots=8, Run=10, Accuracy: 90.80 %\n"
          ]
        },
        {
          "output_type": "stream",
          "name": "stderr",
          "text": [
            "100%|██████████████████████████| 10/10 [00:00<00:00, 112.77it/s, accuracy=0.903]\n"
          ]
        },
        {
          "output_type": "stream",
          "name": "stdout",
          "text": [
            "n_shots=10, Run=10, Accuracy: 90.30 %\n"
          ]
        },
        {
          "output_type": "stream",
          "name": "stderr",
          "text": [
            "100%|██████████████████████████| 10/10 [00:00<00:00, 114.59it/s, accuracy=0.891]\n"
          ]
        },
        {
          "output_type": "stream",
          "name": "stdout",
          "text": [
            "n_shots=12, Run=10, Accuracy: 89.13 %\n"
          ]
        },
        {
          "output_type": "stream",
          "name": "stderr",
          "text": [
            "100%|██████████████████████████| 10/10 [00:00<00:00, 109.73it/s, accuracy=0.912]\n"
          ]
        },
        {
          "output_type": "stream",
          "name": "stdout",
          "text": [
            "n_shots=16, Run=10, Accuracy: 91.23 %\n"
          ]
        },
        {
          "output_type": "stream",
          "name": "stderr",
          "text": [
            "100%|███████████████████████████| 10/10 [00:00<00:00, 109.02it/s, accuracy=0.92]\n"
          ]
        },
        {
          "output_type": "stream",
          "name": "stdout",
          "text": [
            "n_shots=24, Run=10, Accuracy: 92.00 %\n"
          ]
        },
        {
          "output_type": "stream",
          "name": "stderr",
          "text": [
            "100%|██████████████████████████| 10/10 [00:00<00:00, 102.87it/s, accuracy=0.922]"
          ]
        },
        {
          "output_type": "stream",
          "name": "stdout",
          "text": [
            "n_shots=32, Run=10, Accuracy: 92.17 %\n"
          ]
        },
        {
          "output_type": "stream",
          "name": "stderr",
          "text": [
            "\n",
            "100%|██████████████████████████| 10/10 [00:00<00:00, 108.77it/s, accuracy=0.635]\n"
          ]
        },
        {
          "output_type": "stream",
          "name": "stdout",
          "text": [
            "n_shots=1, Run=11, Accuracy: 63.53 %\n"
          ]
        },
        {
          "output_type": "stream",
          "name": "stderr",
          "text": [
            "100%|██████████████████████████| 10/10 [00:00<00:00, 109.45it/s, accuracy=0.846]\n"
          ]
        },
        {
          "output_type": "stream",
          "name": "stdout",
          "text": [
            "n_shots=2, Run=11, Accuracy: 84.63 %\n"
          ]
        },
        {
          "output_type": "stream",
          "name": "stderr",
          "text": [
            "100%|██████████████████████████| 10/10 [00:00<00:00, 115.07it/s, accuracy=0.839]\n"
          ]
        },
        {
          "output_type": "stream",
          "name": "stdout",
          "text": [
            "n_shots=3, Run=11, Accuracy: 83.90 %\n"
          ]
        },
        {
          "output_type": "stream",
          "name": "stderr",
          "text": [
            "100%|██████████████████████████| 10/10 [00:00<00:00, 112.91it/s, accuracy=0.841]\n"
          ]
        },
        {
          "output_type": "stream",
          "name": "stdout",
          "text": [
            "n_shots=4, Run=11, Accuracy: 84.13 %\n"
          ]
        },
        {
          "output_type": "stream",
          "name": "stderr",
          "text": [
            "100%|██████████████████████████| 10/10 [00:00<00:00, 110.78it/s, accuracy=0.856]\n"
          ]
        },
        {
          "output_type": "stream",
          "name": "stdout",
          "text": [
            "n_shots=5, Run=11, Accuracy: 85.57 %\n"
          ]
        },
        {
          "output_type": "stream",
          "name": "stderr",
          "text": [
            "100%|██████████████████████████| 10/10 [00:00<00:00, 112.01it/s, accuracy=0.871]\n"
          ]
        },
        {
          "output_type": "stream",
          "name": "stdout",
          "text": [
            "n_shots=6, Run=11, Accuracy: 87.07 %\n"
          ]
        },
        {
          "output_type": "stream",
          "name": "stderr",
          "text": [
            "100%|██████████████████████████| 10/10 [00:00<00:00, 110.64it/s, accuracy=0.906]\n"
          ]
        },
        {
          "output_type": "stream",
          "name": "stdout",
          "text": [
            "n_shots=8, Run=11, Accuracy: 90.60 %\n"
          ]
        },
        {
          "output_type": "stream",
          "name": "stderr",
          "text": [
            "100%|██████████████████████████| 10/10 [00:00<00:00, 107.13it/s, accuracy=0.907]\n"
          ]
        },
        {
          "output_type": "stream",
          "name": "stdout",
          "text": [
            "n_shots=10, Run=11, Accuracy: 90.67 %\n"
          ]
        },
        {
          "output_type": "stream",
          "name": "stderr",
          "text": [
            "100%|██████████████████████████| 10/10 [00:00<00:00, 110.67it/s, accuracy=0.901]"
          ]
        },
        {
          "output_type": "stream",
          "name": "stdout",
          "text": [
            "n_shots=12, Run=11, Accuracy: 90.13 %\n"
          ]
        },
        {
          "output_type": "stream",
          "name": "stderr",
          "text": [
            "\n",
            "100%|██████████████████████████| 10/10 [00:00<00:00, 111.51it/s, accuracy=0.917]\n"
          ]
        },
        {
          "output_type": "stream",
          "name": "stdout",
          "text": [
            "n_shots=16, Run=11, Accuracy: 91.67 %\n"
          ]
        },
        {
          "output_type": "stream",
          "name": "stderr",
          "text": [
            "100%|███████████████████████████| 10/10 [00:00<00:00, 108.37it/s, accuracy=0.92]\n"
          ]
        },
        {
          "output_type": "stream",
          "name": "stdout",
          "text": [
            "n_shots=24, Run=11, Accuracy: 92.00 %\n"
          ]
        },
        {
          "output_type": "stream",
          "name": "stderr",
          "text": [
            "100%|██████████████████████████| 10/10 [00:00<00:00, 107.36it/s, accuracy=0.916]\n"
          ]
        },
        {
          "output_type": "stream",
          "name": "stdout",
          "text": [
            "n_shots=32, Run=11, Accuracy: 91.63 %\n"
          ]
        },
        {
          "output_type": "stream",
          "name": "stderr",
          "text": [
            "100%|██████████████████████████| 10/10 [00:00<00:00, 110.39it/s, accuracy=0.695]\n"
          ]
        },
        {
          "output_type": "stream",
          "name": "stdout",
          "text": [
            "n_shots=1, Run=12, Accuracy: 69.50 %\n"
          ]
        },
        {
          "output_type": "stream",
          "name": "stderr",
          "text": [
            "100%|██████████████████████████| 10/10 [00:00<00:00, 111.24it/s, accuracy=0.814]\n"
          ]
        },
        {
          "output_type": "stream",
          "name": "stdout",
          "text": [
            "n_shots=2, Run=12, Accuracy: 81.37 %\n"
          ]
        },
        {
          "output_type": "stream",
          "name": "stderr",
          "text": [
            "100%|██████████████████████████| 10/10 [00:00<00:00, 112.21it/s, accuracy=0.831]\n"
          ]
        },
        {
          "output_type": "stream",
          "name": "stdout",
          "text": [
            "n_shots=3, Run=12, Accuracy: 83.13 %\n"
          ]
        },
        {
          "output_type": "stream",
          "name": "stderr",
          "text": [
            "100%|██████████████████████████| 10/10 [00:00<00:00, 109.21it/s, accuracy=0.846]\n"
          ]
        },
        {
          "output_type": "stream",
          "name": "stdout",
          "text": [
            "n_shots=4, Run=12, Accuracy: 84.57 %\n"
          ]
        },
        {
          "output_type": "stream",
          "name": "stderr",
          "text": [
            "100%|██████████████████████████| 10/10 [00:00<00:00, 112.57it/s, accuracy=0.904]\n"
          ]
        },
        {
          "output_type": "stream",
          "name": "stdout",
          "text": [
            "n_shots=5, Run=12, Accuracy: 90.40 %\n"
          ]
        },
        {
          "output_type": "stream",
          "name": "stderr",
          "text": [
            "100%|████████████████████████████| 10/10 [00:00<00:00, 116.62it/s, accuracy=0.9]\n"
          ]
        },
        {
          "output_type": "stream",
          "name": "stdout",
          "text": [
            "n_shots=6, Run=12, Accuracy: 89.97 %\n"
          ]
        },
        {
          "output_type": "stream",
          "name": "stderr",
          "text": [
            "100%|██████████████████████████| 10/10 [00:00<00:00, 114.73it/s, accuracy=0.912]\n"
          ]
        },
        {
          "output_type": "stream",
          "name": "stdout",
          "text": [
            "n_shots=8, Run=12, Accuracy: 91.17 %\n"
          ]
        },
        {
          "output_type": "stream",
          "name": "stderr",
          "text": [
            "100%|██████████████████████████| 10/10 [00:00<00:00, 114.27it/s, accuracy=0.919]\n"
          ]
        },
        {
          "output_type": "stream",
          "name": "stdout",
          "text": [
            "n_shots=10, Run=12, Accuracy: 91.93 %\n"
          ]
        },
        {
          "output_type": "stream",
          "name": "stderr",
          "text": [
            "100%|██████████████████████████| 10/10 [00:00<00:00, 111.97it/s, accuracy=0.904]\n"
          ]
        },
        {
          "output_type": "stream",
          "name": "stdout",
          "text": [
            "n_shots=12, Run=12, Accuracy: 90.40 %\n"
          ]
        },
        {
          "output_type": "stream",
          "name": "stderr",
          "text": [
            "100%|██████████████████████████| 10/10 [00:00<00:00, 112.98it/s, accuracy=0.923]\n"
          ]
        },
        {
          "output_type": "stream",
          "name": "stdout",
          "text": [
            "n_shots=16, Run=12, Accuracy: 92.33 %\n"
          ]
        },
        {
          "output_type": "stream",
          "name": "stderr",
          "text": [
            "100%|██████████████████████████| 10/10 [00:00<00:00, 111.74it/s, accuracy=0.922]\n"
          ]
        },
        {
          "output_type": "stream",
          "name": "stdout",
          "text": [
            "n_shots=24, Run=12, Accuracy: 92.20 %\n"
          ]
        },
        {
          "output_type": "stream",
          "name": "stderr",
          "text": [
            "100%|███████████████████████████| 10/10 [00:00<00:00, 110.79it/s, accuracy=0.93]\n"
          ]
        },
        {
          "output_type": "stream",
          "name": "stdout",
          "text": [
            "n_shots=32, Run=12, Accuracy: 93.03 %\n"
          ]
        },
        {
          "output_type": "stream",
          "name": "stderr",
          "text": [
            "100%|██████████████████████████| 10/10 [00:00<00:00, 112.68it/s, accuracy=0.653]\n"
          ]
        },
        {
          "output_type": "stream",
          "name": "stdout",
          "text": [
            "n_shots=1, Run=13, Accuracy: 65.33 %\n"
          ]
        },
        {
          "output_type": "stream",
          "name": "stderr",
          "text": [
            "100%|██████████████████████████| 10/10 [00:00<00:00, 115.42it/s, accuracy=0.812]\n"
          ]
        },
        {
          "output_type": "stream",
          "name": "stdout",
          "text": [
            "n_shots=2, Run=13, Accuracy: 81.17 %\n"
          ]
        },
        {
          "output_type": "stream",
          "name": "stderr",
          "text": [
            "100%|██████████████████████████| 10/10 [00:00<00:00, 113.79it/s, accuracy=0.831]\n"
          ]
        },
        {
          "output_type": "stream",
          "name": "stdout",
          "text": [
            "n_shots=3, Run=13, Accuracy: 83.13 %\n"
          ]
        },
        {
          "output_type": "stream",
          "name": "stderr",
          "text": [
            "100%|██████████████████████████| 10/10 [00:00<00:00, 117.68it/s, accuracy=0.925]\n"
          ]
        },
        {
          "output_type": "stream",
          "name": "stdout",
          "text": [
            "n_shots=4, Run=13, Accuracy: 92.47 %\n"
          ]
        },
        {
          "output_type": "stream",
          "name": "stderr",
          "text": [
            "100%|██████████████████████████| 10/10 [00:00<00:00, 115.50it/s, accuracy=0.885]\n"
          ]
        },
        {
          "output_type": "stream",
          "name": "stdout",
          "text": [
            "n_shots=5, Run=13, Accuracy: 88.47 %\n"
          ]
        },
        {
          "output_type": "stream",
          "name": "stderr",
          "text": [
            "100%|██████████████████████████| 10/10 [00:00<00:00, 113.03it/s, accuracy=0.884]\n"
          ]
        },
        {
          "output_type": "stream",
          "name": "stdout",
          "text": [
            "n_shots=6, Run=13, Accuracy: 88.37 %\n"
          ]
        },
        {
          "output_type": "stream",
          "name": "stderr",
          "text": [
            "100%|██████████████████████████| 10/10 [00:00<00:00, 112.40it/s, accuracy=0.897]\n"
          ]
        },
        {
          "output_type": "stream",
          "name": "stdout",
          "text": [
            "n_shots=8, Run=13, Accuracy: 89.67 %\n"
          ]
        },
        {
          "output_type": "stream",
          "name": "stderr",
          "text": [
            "100%|██████████████████████████| 10/10 [00:00<00:00, 111.26it/s, accuracy=0.915]\n"
          ]
        },
        {
          "output_type": "stream",
          "name": "stdout",
          "text": [
            "n_shots=10, Run=13, Accuracy: 91.47 %\n"
          ]
        },
        {
          "output_type": "stream",
          "name": "stderr",
          "text": [
            "100%|██████████████████████████| 10/10 [00:00<00:00, 110.51it/s, accuracy=0.906]\n"
          ]
        },
        {
          "output_type": "stream",
          "name": "stdout",
          "text": [
            "n_shots=12, Run=13, Accuracy: 90.63 %\n"
          ]
        },
        {
          "output_type": "stream",
          "name": "stderr",
          "text": [
            "100%|██████████████████████████| 10/10 [00:00<00:00, 113.78it/s, accuracy=0.914]\n"
          ]
        },
        {
          "output_type": "stream",
          "name": "stdout",
          "text": [
            "n_shots=16, Run=13, Accuracy: 91.37 %\n"
          ]
        },
        {
          "output_type": "stream",
          "name": "stderr",
          "text": [
            "100%|██████████████████████████| 10/10 [00:00<00:00, 110.61it/s, accuracy=0.918]\n"
          ]
        },
        {
          "output_type": "stream",
          "name": "stdout",
          "text": [
            "n_shots=24, Run=13, Accuracy: 91.77 %\n"
          ]
        },
        {
          "output_type": "stream",
          "name": "stderr",
          "text": [
            "100%|██████████████████████████| 10/10 [00:00<00:00, 106.83it/s, accuracy=0.922]\n"
          ]
        },
        {
          "output_type": "stream",
          "name": "stdout",
          "text": [
            "n_shots=32, Run=13, Accuracy: 92.20 %\n"
          ]
        },
        {
          "output_type": "stream",
          "name": "stderr",
          "text": [
            "100%|██████████████████████████| 10/10 [00:00<00:00, 108.07it/s, accuracy=0.691]\n"
          ]
        },
        {
          "output_type": "stream",
          "name": "stdout",
          "text": [
            "n_shots=1, Run=14, Accuracy: 69.13 %\n"
          ]
        },
        {
          "output_type": "stream",
          "name": "stderr",
          "text": [
            "100%|██████████████████████████| 10/10 [00:00<00:00, 115.82it/s, accuracy=0.823]\n"
          ]
        },
        {
          "output_type": "stream",
          "name": "stdout",
          "text": [
            "n_shots=2, Run=14, Accuracy: 82.27 %\n"
          ]
        },
        {
          "output_type": "stream",
          "name": "stderr",
          "text": [
            "100%|██████████████████████████| 10/10 [00:00<00:00, 111.77it/s, accuracy=0.821]\n"
          ]
        },
        {
          "output_type": "stream",
          "name": "stdout",
          "text": [
            "n_shots=3, Run=14, Accuracy: 82.10 %\n"
          ]
        },
        {
          "output_type": "stream",
          "name": "stderr",
          "text": [
            "100%|██████████████████████████| 10/10 [00:00<00:00, 103.73it/s, accuracy=0.869]\n"
          ]
        },
        {
          "output_type": "stream",
          "name": "stdout",
          "text": [
            "n_shots=4, Run=14, Accuracy: 86.93 %\n"
          ]
        },
        {
          "output_type": "stream",
          "name": "stderr",
          "text": [
            "100%|██████████████████████████| 10/10 [00:00<00:00, 113.51it/s, accuracy=0.897]\n"
          ]
        },
        {
          "output_type": "stream",
          "name": "stdout",
          "text": [
            "n_shots=5, Run=14, Accuracy: 89.73 %\n"
          ]
        },
        {
          "output_type": "stream",
          "name": "stderr",
          "text": [
            "100%|██████████████████████████| 10/10 [00:00<00:00, 112.52it/s, accuracy=0.896]\n"
          ]
        },
        {
          "output_type": "stream",
          "name": "stdout",
          "text": [
            "n_shots=6, Run=14, Accuracy: 89.63 %\n"
          ]
        },
        {
          "output_type": "stream",
          "name": "stderr",
          "text": [
            "100%|██████████████████████████| 10/10 [00:00<00:00, 112.51it/s, accuracy=0.904]\n"
          ]
        },
        {
          "output_type": "stream",
          "name": "stdout",
          "text": [
            "n_shots=8, Run=14, Accuracy: 90.40 %\n"
          ]
        },
        {
          "output_type": "stream",
          "name": "stderr",
          "text": [
            "100%|██████████████████████████| 10/10 [00:00<00:00, 115.90it/s, accuracy=0.907]\n"
          ]
        },
        {
          "output_type": "stream",
          "name": "stdout",
          "text": [
            "n_shots=10, Run=14, Accuracy: 90.67 %\n"
          ]
        },
        {
          "output_type": "stream",
          "name": "stderr",
          "text": [
            "100%|██████████████████████████| 10/10 [00:00<00:00, 102.03it/s, accuracy=0.901]"
          ]
        },
        {
          "output_type": "stream",
          "name": "stdout",
          "text": [
            "n_shots=12, Run=14, Accuracy: 90.10 %\n"
          ]
        },
        {
          "output_type": "stream",
          "name": "stderr",
          "text": [
            "\n",
            "100%|██████████████████████████| 10/10 [00:00<00:00, 112.54it/s, accuracy=0.913]\n"
          ]
        },
        {
          "output_type": "stream",
          "name": "stdout",
          "text": [
            "n_shots=16, Run=14, Accuracy: 91.30 %\n"
          ]
        },
        {
          "output_type": "stream",
          "name": "stderr",
          "text": [
            "100%|██████████████████████████| 10/10 [00:00<00:00, 106.88it/s, accuracy=0.927]\n"
          ]
        },
        {
          "output_type": "stream",
          "name": "stdout",
          "text": [
            "n_shots=24, Run=14, Accuracy: 92.70 %\n"
          ]
        },
        {
          "output_type": "stream",
          "name": "stderr",
          "text": [
            "100%|██████████████████████████| 10/10 [00:00<00:00, 106.09it/s, accuracy=0.918]\n"
          ]
        },
        {
          "output_type": "stream",
          "name": "stdout",
          "text": [
            "n_shots=32, Run=14, Accuracy: 91.77 %\n"
          ]
        },
        {
          "output_type": "stream",
          "name": "stderr",
          "text": [
            "100%|██████████████████████████| 10/10 [00:00<00:00, 108.97it/s, accuracy=0.736]\n"
          ]
        },
        {
          "output_type": "stream",
          "name": "stdout",
          "text": [
            "n_shots=1, Run=15, Accuracy: 73.63 %\n"
          ]
        },
        {
          "output_type": "stream",
          "name": "stderr",
          "text": [
            "100%|██████████████████████████| 10/10 [00:00<00:00, 112.65it/s, accuracy=0.794]\n"
          ]
        },
        {
          "output_type": "stream",
          "name": "stdout",
          "text": [
            "n_shots=2, Run=15, Accuracy: 79.37 %\n"
          ]
        },
        {
          "output_type": "stream",
          "name": "stderr",
          "text": [
            "100%|██████████████████████████| 10/10 [00:00<00:00, 114.25it/s, accuracy=0.845]\n"
          ]
        },
        {
          "output_type": "stream",
          "name": "stdout",
          "text": [
            "n_shots=3, Run=15, Accuracy: 84.50 %\n"
          ]
        },
        {
          "output_type": "stream",
          "name": "stderr",
          "text": [
            "100%|██████████████████████████| 10/10 [00:00<00:00, 112.45it/s, accuracy=0.849]\n"
          ]
        },
        {
          "output_type": "stream",
          "name": "stdout",
          "text": [
            "n_shots=4, Run=15, Accuracy: 84.87 %\n"
          ]
        },
        {
          "output_type": "stream",
          "name": "stderr",
          "text": [
            "100%|██████████████████████████| 10/10 [00:00<00:00, 114.10it/s, accuracy=0.877]\n"
          ]
        },
        {
          "output_type": "stream",
          "name": "stdout",
          "text": [
            "n_shots=5, Run=15, Accuracy: 87.70 %\n"
          ]
        },
        {
          "output_type": "stream",
          "name": "stderr",
          "text": [
            "100%|██████████████████████████| 10/10 [00:00<00:00, 114.34it/s, accuracy=0.873]\n"
          ]
        },
        {
          "output_type": "stream",
          "name": "stdout",
          "text": [
            "n_shots=6, Run=15, Accuracy: 87.30 %\n"
          ]
        },
        {
          "output_type": "stream",
          "name": "stderr",
          "text": [
            "100%|██████████████████████████| 10/10 [00:00<00:00, 113.56it/s, accuracy=0.896]\n"
          ]
        },
        {
          "output_type": "stream",
          "name": "stdout",
          "text": [
            "n_shots=8, Run=15, Accuracy: 89.60 %\n"
          ]
        },
        {
          "output_type": "stream",
          "name": "stderr",
          "text": [
            "100%|██████████████████████████| 10/10 [00:00<00:00, 114.71it/s, accuracy=0.902]\n"
          ]
        },
        {
          "output_type": "stream",
          "name": "stdout",
          "text": [
            "n_shots=10, Run=15, Accuracy: 90.17 %\n"
          ]
        },
        {
          "output_type": "stream",
          "name": "stderr",
          "text": [
            "100%|██████████████████████████| 10/10 [00:00<00:00, 113.94it/s, accuracy=0.897]\n"
          ]
        },
        {
          "output_type": "stream",
          "name": "stdout",
          "text": [
            "n_shots=12, Run=15, Accuracy: 89.70 %\n"
          ]
        },
        {
          "output_type": "stream",
          "name": "stderr",
          "text": [
            "100%|██████████████████████████| 10/10 [00:00<00:00, 111.71it/s, accuracy=0.902]\n"
          ]
        },
        {
          "output_type": "stream",
          "name": "stdout",
          "text": [
            "n_shots=16, Run=15, Accuracy: 90.20 %\n"
          ]
        },
        {
          "output_type": "stream",
          "name": "stderr",
          "text": [
            "100%|██████████████████████████| 10/10 [00:00<00:00, 111.31it/s, accuracy=0.919]\n"
          ]
        },
        {
          "output_type": "stream",
          "name": "stdout",
          "text": [
            "n_shots=24, Run=15, Accuracy: 91.93 %\n"
          ]
        },
        {
          "output_type": "stream",
          "name": "stderr",
          "text": [
            "100%|██████████████████████████| 10/10 [00:00<00:00, 108.74it/s, accuracy=0.915]\n"
          ]
        },
        {
          "output_type": "stream",
          "name": "stdout",
          "text": [
            "n_shots=32, Run=15, Accuracy: 91.47 %\n"
          ]
        },
        {
          "output_type": "stream",
          "name": "stderr",
          "text": [
            "100%|██████████████████████████| 10/10 [00:00<00:00, 109.68it/s, accuracy=0.735]\n"
          ]
        },
        {
          "output_type": "stream",
          "name": "stdout",
          "text": [
            "n_shots=1, Run=16, Accuracy: 73.53 %\n"
          ]
        },
        {
          "output_type": "stream",
          "name": "stderr",
          "text": [
            "100%|██████████████████████████| 10/10 [00:00<00:00, 115.62it/s, accuracy=0.812]\n"
          ]
        },
        {
          "output_type": "stream",
          "name": "stdout",
          "text": [
            "n_shots=2, Run=16, Accuracy: 81.23 %\n"
          ]
        },
        {
          "output_type": "stream",
          "name": "stderr",
          "text": [
            "100%|██████████████████████████| 10/10 [00:00<00:00, 115.99it/s, accuracy=0.858]\n"
          ]
        },
        {
          "output_type": "stream",
          "name": "stdout",
          "text": [
            "n_shots=3, Run=16, Accuracy: 85.80 %\n"
          ]
        },
        {
          "output_type": "stream",
          "name": "stderr",
          "text": [
            "100%|██████████████████████████| 10/10 [00:00<00:00, 113.30it/s, accuracy=0.881]\n"
          ]
        },
        {
          "output_type": "stream",
          "name": "stdout",
          "text": [
            "n_shots=4, Run=16, Accuracy: 88.13 %\n"
          ]
        },
        {
          "output_type": "stream",
          "name": "stderr",
          "text": [
            "100%|████████████████████████████| 10/10 [00:00<00:00, 111.80it/s, accuracy=0.9]\n"
          ]
        },
        {
          "output_type": "stream",
          "name": "stdout",
          "text": [
            "n_shots=5, Run=16, Accuracy: 90.03 %\n"
          ]
        },
        {
          "output_type": "stream",
          "name": "stderr",
          "text": [
            "100%|██████████████████████████| 10/10 [00:00<00:00, 114.12it/s, accuracy=0.851]\n"
          ]
        },
        {
          "output_type": "stream",
          "name": "stdout",
          "text": [
            "n_shots=6, Run=16, Accuracy: 85.13 %\n"
          ]
        },
        {
          "output_type": "stream",
          "name": "stderr",
          "text": [
            "100%|██████████████████████████| 10/10 [00:00<00:00, 107.22it/s, accuracy=0.891]\n"
          ]
        },
        {
          "output_type": "stream",
          "name": "stdout",
          "text": [
            "n_shots=8, Run=16, Accuracy: 89.10 %\n"
          ]
        },
        {
          "output_type": "stream",
          "name": "stderr",
          "text": [
            "100%|██████████████████████████| 10/10 [00:00<00:00, 108.99it/s, accuracy=0.913]\n"
          ]
        },
        {
          "output_type": "stream",
          "name": "stdout",
          "text": [
            "n_shots=10, Run=16, Accuracy: 91.27 %\n"
          ]
        },
        {
          "output_type": "stream",
          "name": "stderr",
          "text": [
            "100%|██████████████████████████| 10/10 [00:00<00:00, 108.97it/s, accuracy=0.898]\n"
          ]
        },
        {
          "output_type": "stream",
          "name": "stdout",
          "text": [
            "n_shots=12, Run=16, Accuracy: 89.80 %\n"
          ]
        },
        {
          "output_type": "stream",
          "name": "stderr",
          "text": [
            "100%|██████████████████████████| 10/10 [00:00<00:00, 112.27it/s, accuracy=0.927]\n"
          ]
        },
        {
          "output_type": "stream",
          "name": "stdout",
          "text": [
            "n_shots=16, Run=16, Accuracy: 92.67 %\n"
          ]
        },
        {
          "output_type": "stream",
          "name": "stderr",
          "text": [
            "100%|██████████████████████████| 10/10 [00:00<00:00, 106.29it/s, accuracy=0.908]\n"
          ]
        },
        {
          "output_type": "stream",
          "name": "stdout",
          "text": [
            "n_shots=24, Run=16, Accuracy: 90.77 %\n"
          ]
        },
        {
          "output_type": "stream",
          "name": "stderr",
          "text": [
            "100%|██████████████████████████| 10/10 [00:00<00:00, 106.80it/s, accuracy=0.901]\n"
          ]
        },
        {
          "output_type": "stream",
          "name": "stdout",
          "text": [
            "n_shots=32, Run=16, Accuracy: 90.10 %\n"
          ]
        },
        {
          "output_type": "stream",
          "name": "stderr",
          "text": [
            "100%|██████████████████████████| 10/10 [00:00<00:00, 106.98it/s, accuracy=0.724]"
          ]
        },
        {
          "output_type": "stream",
          "name": "stdout",
          "text": [
            "n_shots=1, Run=17, Accuracy: 72.43 %\n"
          ]
        },
        {
          "output_type": "stream",
          "name": "stderr",
          "text": [
            "\n",
            "100%|████████████████████████████| 10/10 [00:00<00:00, 109.67it/s, accuracy=0.8]\n"
          ]
        },
        {
          "output_type": "stream",
          "name": "stdout",
          "text": [
            "n_shots=2, Run=17, Accuracy: 80.03 %\n"
          ]
        },
        {
          "output_type": "stream",
          "name": "stderr",
          "text": [
            "100%|██████████████████████████| 10/10 [00:00<00:00, 116.85it/s, accuracy=0.854]\n"
          ]
        },
        {
          "output_type": "stream",
          "name": "stdout",
          "text": [
            "n_shots=3, Run=17, Accuracy: 85.43 %\n"
          ]
        },
        {
          "output_type": "stream",
          "name": "stderr",
          "text": [
            "100%|██████████████████████████| 10/10 [00:00<00:00, 111.03it/s, accuracy=0.877]\n"
          ]
        },
        {
          "output_type": "stream",
          "name": "stdout",
          "text": [
            "n_shots=4, Run=17, Accuracy: 87.73 %\n"
          ]
        },
        {
          "output_type": "stream",
          "name": "stderr",
          "text": [
            "100%|██████████████████████████| 10/10 [00:00<00:00, 114.14it/s, accuracy=0.876]\n"
          ]
        },
        {
          "output_type": "stream",
          "name": "stdout",
          "text": [
            "n_shots=5, Run=17, Accuracy: 87.60 %\n"
          ]
        },
        {
          "output_type": "stream",
          "name": "stderr",
          "text": [
            "100%|██████████████████████████| 10/10 [00:00<00:00, 115.34it/s, accuracy=0.886]\n"
          ]
        },
        {
          "output_type": "stream",
          "name": "stdout",
          "text": [
            "n_shots=6, Run=17, Accuracy: 88.63 %\n"
          ]
        },
        {
          "output_type": "stream",
          "name": "stderr",
          "text": [
            "100%|██████████████████████████| 10/10 [00:00<00:00, 113.18it/s, accuracy=0.895]\n"
          ]
        },
        {
          "output_type": "stream",
          "name": "stdout",
          "text": [
            "n_shots=8, Run=17, Accuracy: 89.47 %\n"
          ]
        },
        {
          "output_type": "stream",
          "name": "stderr",
          "text": [
            "100%|██████████████████████████| 10/10 [00:00<00:00, 114.56it/s, accuracy=0.876]\n"
          ]
        },
        {
          "output_type": "stream",
          "name": "stdout",
          "text": [
            "n_shots=10, Run=17, Accuracy: 87.63 %\n"
          ]
        },
        {
          "output_type": "stream",
          "name": "stderr",
          "text": [
            "100%|██████████████████████████| 10/10 [00:00<00:00, 114.84it/s, accuracy=0.924]\n"
          ]
        },
        {
          "output_type": "stream",
          "name": "stdout",
          "text": [
            "n_shots=12, Run=17, Accuracy: 92.43 %\n"
          ]
        },
        {
          "output_type": "stream",
          "name": "stderr",
          "text": [
            "100%|██████████████████████████| 10/10 [00:00<00:00, 112.83it/s, accuracy=0.917]\n"
          ]
        },
        {
          "output_type": "stream",
          "name": "stdout",
          "text": [
            "n_shots=16, Run=17, Accuracy: 91.67 %\n"
          ]
        },
        {
          "output_type": "stream",
          "name": "stderr",
          "text": [
            "100%|██████████████████████████| 10/10 [00:00<00:00, 110.48it/s, accuracy=0.906]\n"
          ]
        },
        {
          "output_type": "stream",
          "name": "stdout",
          "text": [
            "n_shots=24, Run=17, Accuracy: 90.60 %\n"
          ]
        },
        {
          "output_type": "stream",
          "name": "stderr",
          "text": [
            "100%|██████████████████████████| 10/10 [00:00<00:00, 109.52it/s, accuracy=0.932]\n"
          ]
        },
        {
          "output_type": "stream",
          "name": "stdout",
          "text": [
            "n_shots=32, Run=17, Accuracy: 93.23 %\n"
          ]
        },
        {
          "output_type": "stream",
          "name": "stderr",
          "text": [
            "100%|██████████████████████████| 10/10 [00:00<00:00, 108.63it/s, accuracy=0.731]\n"
          ]
        },
        {
          "output_type": "stream",
          "name": "stdout",
          "text": [
            "n_shots=1, Run=18, Accuracy: 73.13 %\n"
          ]
        },
        {
          "output_type": "stream",
          "name": "stderr",
          "text": [
            "100%|██████████████████████████| 10/10 [00:00<00:00, 114.72it/s, accuracy=0.736]\n"
          ]
        },
        {
          "output_type": "stream",
          "name": "stdout",
          "text": [
            "n_shots=2, Run=18, Accuracy: 73.63 %\n"
          ]
        },
        {
          "output_type": "stream",
          "name": "stderr",
          "text": [
            "100%|██████████████████████████| 10/10 [00:00<00:00, 111.31it/s, accuracy=0.881]\n"
          ]
        },
        {
          "output_type": "stream",
          "name": "stdout",
          "text": [
            "n_shots=3, Run=18, Accuracy: 88.07 %\n"
          ]
        },
        {
          "output_type": "stream",
          "name": "stderr",
          "text": [
            "100%|██████████████████████████| 10/10 [00:00<00:00, 114.64it/s, accuracy=0.878]\n"
          ]
        },
        {
          "output_type": "stream",
          "name": "stdout",
          "text": [
            "n_shots=4, Run=18, Accuracy: 87.77 %\n"
          ]
        },
        {
          "output_type": "stream",
          "name": "stderr",
          "text": [
            "100%|██████████████████████████| 10/10 [00:00<00:00, 110.44it/s, accuracy=0.872]\n"
          ]
        },
        {
          "output_type": "stream",
          "name": "stdout",
          "text": [
            "n_shots=5, Run=18, Accuracy: 87.17 %\n"
          ]
        },
        {
          "output_type": "stream",
          "name": "stderr",
          "text": [
            "100%|███████████████████████████| 10/10 [00:00<00:00, 108.58it/s, accuracy=0.89]\n"
          ]
        },
        {
          "output_type": "stream",
          "name": "stdout",
          "text": [
            "n_shots=6, Run=18, Accuracy: 89.00 %\n"
          ]
        },
        {
          "output_type": "stream",
          "name": "stderr",
          "text": [
            "100%|██████████████████████████| 10/10 [00:00<00:00, 110.17it/s, accuracy=0.913]"
          ]
        },
        {
          "output_type": "stream",
          "name": "stdout",
          "text": [
            "n_shots=8, Run=18, Accuracy: 91.30 %\n"
          ]
        },
        {
          "output_type": "stream",
          "name": "stderr",
          "text": [
            "\n",
            "100%|██████████████████████████| 10/10 [00:00<00:00, 114.08it/s, accuracy=0.892]\n"
          ]
        },
        {
          "output_type": "stream",
          "name": "stdout",
          "text": [
            "n_shots=10, Run=18, Accuracy: 89.20 %\n"
          ]
        },
        {
          "output_type": "stream",
          "name": "stderr",
          "text": [
            "100%|██████████████████████████| 10/10 [00:00<00:00, 112.96it/s, accuracy=0.917]\n"
          ]
        },
        {
          "output_type": "stream",
          "name": "stdout",
          "text": [
            "n_shots=12, Run=18, Accuracy: 91.73 %\n"
          ]
        },
        {
          "output_type": "stream",
          "name": "stderr",
          "text": [
            "100%|██████████████████████████| 10/10 [00:00<00:00, 108.34it/s, accuracy=0.915]\n"
          ]
        },
        {
          "output_type": "stream",
          "name": "stdout",
          "text": [
            "n_shots=16, Run=18, Accuracy: 91.53 %\n"
          ]
        },
        {
          "output_type": "stream",
          "name": "stderr",
          "text": [
            "100%|██████████████████████████| 10/10 [00:00<00:00, 107.60it/s, accuracy=0.922]\n"
          ]
        },
        {
          "output_type": "stream",
          "name": "stdout",
          "text": [
            "n_shots=24, Run=18, Accuracy: 92.20 %\n"
          ]
        },
        {
          "output_type": "stream",
          "name": "stderr",
          "text": [
            "100%|██████████████████████████| 10/10 [00:00<00:00, 107.69it/s, accuracy=0.929]\n"
          ]
        },
        {
          "output_type": "stream",
          "name": "stdout",
          "text": [
            "n_shots=32, Run=18, Accuracy: 92.93 %\n"
          ]
        },
        {
          "output_type": "stream",
          "name": "stderr",
          "text": [
            "100%|██████████████████████████| 10/10 [00:00<00:00, 109.68it/s, accuracy=0.659]\n"
          ]
        },
        {
          "output_type": "stream",
          "name": "stdout",
          "text": [
            "n_shots=1, Run=19, Accuracy: 65.93 %\n"
          ]
        },
        {
          "output_type": "stream",
          "name": "stderr",
          "text": [
            "100%|██████████████████████████| 10/10 [00:00<00:00, 114.50it/s, accuracy=0.828]\n"
          ]
        },
        {
          "output_type": "stream",
          "name": "stdout",
          "text": [
            "n_shots=2, Run=19, Accuracy: 82.77 %\n"
          ]
        },
        {
          "output_type": "stream",
          "name": "stderr",
          "text": [
            "100%|██████████████████████████| 10/10 [00:00<00:00, 114.19it/s, accuracy=0.843]\n"
          ]
        },
        {
          "output_type": "stream",
          "name": "stdout",
          "text": [
            "n_shots=3, Run=19, Accuracy: 84.33 %\n"
          ]
        },
        {
          "output_type": "stream",
          "name": "stderr",
          "text": [
            "100%|██████████████████████████| 10/10 [00:00<00:00, 113.79it/s, accuracy=0.876]\n"
          ]
        },
        {
          "output_type": "stream",
          "name": "stdout",
          "text": [
            "n_shots=4, Run=19, Accuracy: 87.57 %\n"
          ]
        },
        {
          "output_type": "stream",
          "name": "stderr",
          "text": [
            "100%|██████████████████████████| 10/10 [00:00<00:00, 113.84it/s, accuracy=0.879]\n"
          ]
        },
        {
          "output_type": "stream",
          "name": "stdout",
          "text": [
            "n_shots=5, Run=19, Accuracy: 87.87 %\n"
          ]
        },
        {
          "output_type": "stream",
          "name": "stderr",
          "text": [
            "100%|██████████████████████████| 10/10 [00:00<00:00, 115.98it/s, accuracy=0.891]\n"
          ]
        },
        {
          "output_type": "stream",
          "name": "stdout",
          "text": [
            "n_shots=6, Run=19, Accuracy: 89.07 %\n"
          ]
        },
        {
          "output_type": "stream",
          "name": "stderr",
          "text": [
            "100%|██████████████████████████| 10/10 [00:00<00:00, 112.83it/s, accuracy=0.907]\n"
          ]
        },
        {
          "output_type": "stream",
          "name": "stdout",
          "text": [
            "n_shots=8, Run=19, Accuracy: 90.73 %\n"
          ]
        },
        {
          "output_type": "stream",
          "name": "stderr",
          "text": [
            "100%|██████████████████████████| 10/10 [00:00<00:00, 114.59it/s, accuracy=0.911]\n"
          ]
        },
        {
          "output_type": "stream",
          "name": "stdout",
          "text": [
            "n_shots=10, Run=19, Accuracy: 91.07 %\n"
          ]
        },
        {
          "output_type": "stream",
          "name": "stderr",
          "text": [
            "100%|██████████████████████████| 10/10 [00:00<00:00, 112.85it/s, accuracy=0.904]\n"
          ]
        },
        {
          "output_type": "stream",
          "name": "stdout",
          "text": [
            "n_shots=12, Run=19, Accuracy: 90.43 %\n"
          ]
        },
        {
          "output_type": "stream",
          "name": "stderr",
          "text": [
            "100%|██████████████████████████| 10/10 [00:00<00:00, 105.94it/s, accuracy=0.919]\n"
          ]
        },
        {
          "output_type": "stream",
          "name": "stdout",
          "text": [
            "n_shots=16, Run=19, Accuracy: 91.93 %\n"
          ]
        },
        {
          "output_type": "stream",
          "name": "stderr",
          "text": [
            "100%|██████████████████████████| 10/10 [00:00<00:00, 108.76it/s, accuracy=0.922]"
          ]
        },
        {
          "output_type": "stream",
          "name": "stdout",
          "text": [
            "n_shots=24, Run=19, Accuracy: 92.20 %\n"
          ]
        },
        {
          "output_type": "stream",
          "name": "stderr",
          "text": [
            "\n",
            "100%|██████████████████████████| 10/10 [00:00<00:00, 107.88it/s, accuracy=0.929]\n"
          ]
        },
        {
          "output_type": "stream",
          "name": "stdout",
          "text": [
            "n_shots=32, Run=19, Accuracy: 92.87 %\n"
          ]
        },
        {
          "output_type": "stream",
          "name": "stderr",
          "text": [
            "100%|██████████████████████████| 10/10 [00:00<00:00, 108.21it/s, accuracy=0.662]\n"
          ]
        },
        {
          "output_type": "stream",
          "name": "stdout",
          "text": [
            "n_shots=1, Run=20, Accuracy: 66.20 %\n"
          ]
        },
        {
          "output_type": "stream",
          "name": "stderr",
          "text": [
            "100%|██████████████████████████| 10/10 [00:00<00:00, 114.03it/s, accuracy=0.794]\n"
          ]
        },
        {
          "output_type": "stream",
          "name": "stdout",
          "text": [
            "n_shots=2, Run=20, Accuracy: 79.43 %\n"
          ]
        },
        {
          "output_type": "stream",
          "name": "stderr",
          "text": [
            "100%|██████████████████████████| 10/10 [00:00<00:00, 113.99it/s, accuracy=0.852]\n"
          ]
        },
        {
          "output_type": "stream",
          "name": "stdout",
          "text": [
            "n_shots=3, Run=20, Accuracy: 85.23 %\n"
          ]
        },
        {
          "output_type": "stream",
          "name": "stderr",
          "text": [
            "100%|██████████████████████████| 10/10 [00:00<00:00, 114.33it/s, accuracy=0.874]\n"
          ]
        },
        {
          "output_type": "stream",
          "name": "stdout",
          "text": [
            "n_shots=4, Run=20, Accuracy: 87.43 %\n"
          ]
        },
        {
          "output_type": "stream",
          "name": "stderr",
          "text": [
            "100%|██████████████████████████| 10/10 [00:00<00:00, 113.11it/s, accuracy=0.872]\n"
          ]
        },
        {
          "output_type": "stream",
          "name": "stdout",
          "text": [
            "n_shots=5, Run=20, Accuracy: 87.20 %\n"
          ]
        },
        {
          "output_type": "stream",
          "name": "stderr",
          "text": [
            "100%|███████████████████████████| 10/10 [00:00<00:00, 97.62it/s, accuracy=0.867]"
          ]
        },
        {
          "output_type": "stream",
          "name": "stdout",
          "text": [
            "n_shots=6, Run=20, Accuracy: 86.67 %\n"
          ]
        },
        {
          "output_type": "stream",
          "name": "stderr",
          "text": [
            "\n",
            "100%|██████████████████████████| 10/10 [00:00<00:00, 111.96it/s, accuracy=0.895]"
          ]
        },
        {
          "output_type": "stream",
          "name": "stdout",
          "text": [
            "n_shots=8, Run=20, Accuracy: 89.47 %\n"
          ]
        },
        {
          "output_type": "stream",
          "name": "stderr",
          "text": [
            "\n",
            "100%|██████████████████████████| 10/10 [00:00<00:00, 112.94it/s, accuracy=0.907]\n"
          ]
        },
        {
          "output_type": "stream",
          "name": "stdout",
          "text": [
            "n_shots=10, Run=20, Accuracy: 90.70 %\n"
          ]
        },
        {
          "output_type": "stream",
          "name": "stderr",
          "text": [
            "100%|██████████████████████████| 10/10 [00:00<00:00, 114.13it/s, accuracy=0.904]\n"
          ]
        },
        {
          "output_type": "stream",
          "name": "stdout",
          "text": [
            "n_shots=12, Run=20, Accuracy: 90.37 %\n"
          ]
        },
        {
          "output_type": "stream",
          "name": "stderr",
          "text": [
            "100%|██████████████████████████| 10/10 [00:00<00:00, 109.39it/s, accuracy=0.915]\n"
          ]
        },
        {
          "output_type": "stream",
          "name": "stdout",
          "text": [
            "n_shots=16, Run=20, Accuracy: 91.47 %\n"
          ]
        },
        {
          "output_type": "stream",
          "name": "stderr",
          "text": [
            "100%|██████████████████████████| 10/10 [00:00<00:00, 109.88it/s, accuracy=0.925]\n"
          ]
        },
        {
          "output_type": "stream",
          "name": "stdout",
          "text": [
            "n_shots=24, Run=20, Accuracy: 92.47 %\n"
          ]
        },
        {
          "output_type": "stream",
          "name": "stderr",
          "text": [
            "100%|███████████████████████████| 10/10 [00:00<00:00, 106.65it/s, accuracy=0.92]\n"
          ]
        },
        {
          "output_type": "stream",
          "name": "stdout",
          "text": [
            "n_shots=32, Run=20, Accuracy: 92.00 %\n"
          ]
        }
      ],
      "source": [
        "output_directory_t2 = Path(\"/home/rakib/models/paper_benchmarking_ssl_diverse_pathology/inference/TIGER_Combined2/bt/2\")\n",
        "#data_to_test = \"/home/rakib/data/TIGER\"\n",
        "data_to_test = Path(\"/home/rakib/data/TIGER_Combined2/\")\n",
        "\n",
        "testset = torchvision.datasets.ImageFolder(data_to_test, transform=transform)\n",
        "\n",
        "classes = testset.classes\n",
        "\n",
        "print(classes)\n",
        "dataloader = DataLoader(testset, batch_size=128, shuffle=False, drop_last=False)\n",
        "t2_emb_df = predict_embeddings(dataloader, model, device=device)\n",
        "t2_emb_dataset = FeaturesDataset.from_dataframe(t2_emb_df)\n",
        "t2_results_df = evaluate_few_shot_model(t2_emb_dataset, model, device=device, n_way=3)\n",
        "t2_results_df.sort_values([\"n_shots\", \"accuracy\"])\n",
        "\n",
        "mean_accuracies_t2 = t2_results_df.groupby(\"n_shots\")[\"accuracy\"].mean().reset_index()\n",
        "mean_accuracies_t2.rename(columns={\"accuracy\": \"mean\"}, inplace=True)\n",
        "std_accuracies_t2 = t2_results_df.groupby(\"n_shots\")[\"accuracy\"].std().reset_index()\n",
        "std_accuracies_t2.rename(columns={\"accuracy\": \"std\"}, inplace=True)\n",
        "# Merge the two DataFrames based on the 'n_shots' column\n",
        "merged_df_t2 = pd.merge(mean_accuracies_t2, std_accuracies_t2, on=\"n_shots\")\n",
        "\n",
        "# Save the average accuracy information in a separate CSV file\n",
        "acc_csv_filename = \"3way_average_accuracy_tiger_bt.csv\"\n",
        "merged_df_t2.to_csv(os.path.join(output_directory_t2, acc_csv_filename), index=False)\n"
      ]
    },
    {
      "cell_type": "code",
      "execution_count": null,
      "metadata": {
        "colab": {
          "base_uri": "https://localhost:8080/"
        },
        "id": "V-OTWQhpLS4X",
        "outputId": "e2827e9a-20e7-4daa-d3c8-0fff79857948"
      },
      "outputs": [
        {
          "output_type": "stream",
          "name": "stdout",
          "text": [
            "['Norm', 'Tum']\n"
          ]
        },
        {
          "output_type": "stream",
          "name": "stderr",
          "text": [
            "Predicting embeddings: 100%|███████████████| 256/256 [00:55<00:00,  4.62batch/s]\n",
            "100%|██████████████████████████| 10/10 [00:00<00:00, 117.86it/s, accuracy=0.628]"
          ]
        },
        {
          "output_type": "stream",
          "name": "stdout",
          "text": [
            "n_shots=1, Run=1, Accuracy: 62.85 %\n"
          ]
        },
        {
          "output_type": "stream",
          "name": "stderr",
          "text": [
            "\n",
            "100%|██████████████████████████| 10/10 [00:00<00:00, 125.16it/s, accuracy=0.624]\n"
          ]
        },
        {
          "output_type": "stream",
          "name": "stdout",
          "text": [
            "n_shots=2, Run=1, Accuracy: 62.35 %\n"
          ]
        },
        {
          "output_type": "stream",
          "name": "stderr",
          "text": [
            "100%|██████████████████████████| 10/10 [00:00<00:00, 125.02it/s, accuracy=0.671]\n"
          ]
        },
        {
          "output_type": "stream",
          "name": "stdout",
          "text": [
            "n_shots=3, Run=1, Accuracy: 67.10 %\n"
          ]
        },
        {
          "output_type": "stream",
          "name": "stderr",
          "text": [
            "100%|██████████████████████████| 10/10 [00:00<00:00, 126.12it/s, accuracy=0.682]\n"
          ]
        },
        {
          "output_type": "stream",
          "name": "stdout",
          "text": [
            "n_shots=4, Run=1, Accuracy: 68.25 %\n"
          ]
        },
        {
          "output_type": "stream",
          "name": "stderr",
          "text": [
            "100%|██████████████████████████| 10/10 [00:00<00:00, 120.65it/s, accuracy=0.742]\n"
          ]
        },
        {
          "output_type": "stream",
          "name": "stdout",
          "text": [
            "n_shots=5, Run=1, Accuracy: 74.20 %\n"
          ]
        },
        {
          "output_type": "stream",
          "name": "stderr",
          "text": [
            "100%|██████████████████████████| 10/10 [00:00<00:00, 120.18it/s, accuracy=0.758]\n"
          ]
        },
        {
          "output_type": "stream",
          "name": "stdout",
          "text": [
            "n_shots=6, Run=1, Accuracy: 75.85 %\n"
          ]
        },
        {
          "output_type": "stream",
          "name": "stderr",
          "text": [
            "100%|██████████████████████████| 10/10 [00:00<00:00, 118.39it/s, accuracy=0.774]\n"
          ]
        },
        {
          "output_type": "stream",
          "name": "stdout",
          "text": [
            "n_shots=8, Run=1, Accuracy: 77.45 %\n"
          ]
        },
        {
          "output_type": "stream",
          "name": "stderr",
          "text": [
            "100%|██████████████████████████| 10/10 [00:00<00:00, 122.08it/s, accuracy=0.731]\n"
          ]
        },
        {
          "output_type": "stream",
          "name": "stdout",
          "text": [
            "n_shots=10, Run=1, Accuracy: 73.05 %\n"
          ]
        },
        {
          "output_type": "stream",
          "name": "stderr",
          "text": [
            "100%|██████████████████████████| 10/10 [00:00<00:00, 125.82it/s, accuracy=0.758]\n"
          ]
        },
        {
          "output_type": "stream",
          "name": "stdout",
          "text": [
            "n_shots=12, Run=1, Accuracy: 75.85 %\n"
          ]
        },
        {
          "output_type": "stream",
          "name": "stderr",
          "text": [
            "100%|██████████████████████████| 10/10 [00:00<00:00, 120.48it/s, accuracy=0.787]\n"
          ]
        },
        {
          "output_type": "stream",
          "name": "stdout",
          "text": [
            "n_shots=16, Run=1, Accuracy: 78.70 %\n"
          ]
        },
        {
          "output_type": "stream",
          "name": "stderr",
          "text": [
            "100%|██████████████████████████| 10/10 [00:00<00:00, 124.81it/s, accuracy=0.792]\n"
          ]
        },
        {
          "output_type": "stream",
          "name": "stdout",
          "text": [
            "n_shots=24, Run=1, Accuracy: 79.20 %\n"
          ]
        },
        {
          "output_type": "stream",
          "name": "stderr",
          "text": [
            "100%|██████████████████████████| 10/10 [00:00<00:00, 118.53it/s, accuracy=0.798]\n"
          ]
        },
        {
          "output_type": "stream",
          "name": "stdout",
          "text": [
            "n_shots=32, Run=1, Accuracy: 79.80 %\n"
          ]
        },
        {
          "output_type": "stream",
          "name": "stderr",
          "text": [
            "100%|██████████████████████████| 10/10 [00:00<00:00, 125.86it/s, accuracy=0.599]\n"
          ]
        },
        {
          "output_type": "stream",
          "name": "stdout",
          "text": [
            "n_shots=1, Run=2, Accuracy: 59.85 %\n"
          ]
        },
        {
          "output_type": "stream",
          "name": "stderr",
          "text": [
            "100%|██████████████████████████| 10/10 [00:00<00:00, 124.77it/s, accuracy=0.632]\n"
          ]
        },
        {
          "output_type": "stream",
          "name": "stdout",
          "text": [
            "n_shots=2, Run=2, Accuracy: 63.20 %\n"
          ]
        },
        {
          "output_type": "stream",
          "name": "stderr",
          "text": [
            "100%|██████████████████████████| 10/10 [00:00<00:00, 126.53it/s, accuracy=0.643]\n"
          ]
        },
        {
          "output_type": "stream",
          "name": "stdout",
          "text": [
            "n_shots=3, Run=2, Accuracy: 64.30 %\n"
          ]
        },
        {
          "output_type": "stream",
          "name": "stderr",
          "text": [
            "100%|██████████████████████████| 10/10 [00:00<00:00, 123.31it/s, accuracy=0.718]\n"
          ]
        },
        {
          "output_type": "stream",
          "name": "stdout",
          "text": [
            "n_shots=4, Run=2, Accuracy: 71.80 %\n"
          ]
        },
        {
          "output_type": "stream",
          "name": "stderr",
          "text": [
            "100%|██████████████████████████| 10/10 [00:00<00:00, 124.61it/s, accuracy=0.693]\n"
          ]
        },
        {
          "output_type": "stream",
          "name": "stdout",
          "text": [
            "n_shots=5, Run=2, Accuracy: 69.25 %\n"
          ]
        },
        {
          "output_type": "stream",
          "name": "stderr",
          "text": [
            "100%|██████████████████████████| 10/10 [00:00<00:00, 125.55it/s, accuracy=0.767]\n"
          ]
        },
        {
          "output_type": "stream",
          "name": "stdout",
          "text": [
            "n_shots=6, Run=2, Accuracy: 76.70 %\n"
          ]
        },
        {
          "output_type": "stream",
          "name": "stderr",
          "text": [
            "100%|██████████████████████████| 10/10 [00:00<00:00, 126.78it/s, accuracy=0.758]\n"
          ]
        },
        {
          "output_type": "stream",
          "name": "stdout",
          "text": [
            "n_shots=8, Run=2, Accuracy: 75.85 %\n"
          ]
        },
        {
          "output_type": "stream",
          "name": "stderr",
          "text": [
            "100%|██████████████████████████| 10/10 [00:00<00:00, 126.00it/s, accuracy=0.772]\n"
          ]
        },
        {
          "output_type": "stream",
          "name": "stdout",
          "text": [
            "n_shots=10, Run=2, Accuracy: 77.25 %\n"
          ]
        },
        {
          "output_type": "stream",
          "name": "stderr",
          "text": [
            "100%|██████████████████████████| 10/10 [00:00<00:00, 123.81it/s, accuracy=0.756]\n"
          ]
        },
        {
          "output_type": "stream",
          "name": "stdout",
          "text": [
            "n_shots=12, Run=2, Accuracy: 75.65 %\n"
          ]
        },
        {
          "output_type": "stream",
          "name": "stderr",
          "text": [
            "100%|██████████████████████████| 10/10 [00:00<00:00, 125.64it/s, accuracy=0.802]\n"
          ]
        },
        {
          "output_type": "stream",
          "name": "stdout",
          "text": [
            "n_shots=16, Run=2, Accuracy: 80.25 %\n"
          ]
        },
        {
          "output_type": "stream",
          "name": "stderr",
          "text": [
            "100%|██████████████████████████| 10/10 [00:00<00:00, 122.51it/s, accuracy=0.787]\n"
          ]
        },
        {
          "output_type": "stream",
          "name": "stdout",
          "text": [
            "n_shots=24, Run=2, Accuracy: 78.70 %\n"
          ]
        },
        {
          "output_type": "stream",
          "name": "stderr",
          "text": [
            "100%|██████████████████████████| 10/10 [00:00<00:00, 111.21it/s, accuracy=0.817]\n"
          ]
        },
        {
          "output_type": "stream",
          "name": "stdout",
          "text": [
            "n_shots=32, Run=2, Accuracy: 81.70 %\n"
          ]
        },
        {
          "output_type": "stream",
          "name": "stderr",
          "text": [
            "100%|███████████████████████████| 10/10 [00:00<00:00, 123.69it/s, accuracy=0.59]\n"
          ]
        },
        {
          "output_type": "stream",
          "name": "stdout",
          "text": [
            "n_shots=1, Run=3, Accuracy: 58.95 %\n"
          ]
        },
        {
          "output_type": "stream",
          "name": "stderr",
          "text": [
            "100%|██████████████████████████| 10/10 [00:00<00:00, 126.23it/s, accuracy=0.625]\n"
          ]
        },
        {
          "output_type": "stream",
          "name": "stdout",
          "text": [
            "n_shots=2, Run=3, Accuracy: 62.50 %\n"
          ]
        },
        {
          "output_type": "stream",
          "name": "stderr",
          "text": [
            "100%|██████████████████████████| 10/10 [00:00<00:00, 127.10it/s, accuracy=0.649]"
          ]
        },
        {
          "output_type": "stream",
          "name": "stdout",
          "text": [
            "n_shots=3, Run=3, Accuracy: 64.95 %\n"
          ]
        },
        {
          "output_type": "stream",
          "name": "stderr",
          "text": [
            "\n",
            "100%|██████████████████████████| 10/10 [00:00<00:00, 123.65it/s, accuracy=0.714]\n"
          ]
        },
        {
          "output_type": "stream",
          "name": "stdout",
          "text": [
            "n_shots=4, Run=3, Accuracy: 71.35 %\n"
          ]
        },
        {
          "output_type": "stream",
          "name": "stderr",
          "text": [
            "100%|██████████████████████████| 10/10 [00:00<00:00, 129.49it/s, accuracy=0.699]"
          ]
        },
        {
          "output_type": "stream",
          "name": "stdout",
          "text": [
            "n_shots=5, Run=3, Accuracy: 69.85 %\n"
          ]
        },
        {
          "output_type": "stream",
          "name": "stderr",
          "text": [
            "\n",
            "100%|██████████████████████████| 10/10 [00:00<00:00, 127.39it/s, accuracy=0.756]"
          ]
        },
        {
          "output_type": "stream",
          "name": "stdout",
          "text": [
            "n_shots=6, Run=3, Accuracy: 75.65 %\n"
          ]
        },
        {
          "output_type": "stream",
          "name": "stderr",
          "text": [
            "\n",
            "100%|██████████████████████████| 10/10 [00:00<00:00, 127.15it/s, accuracy=0.769]\n"
          ]
        },
        {
          "output_type": "stream",
          "name": "stdout",
          "text": [
            "n_shots=8, Run=3, Accuracy: 76.95 %\n"
          ]
        },
        {
          "output_type": "stream",
          "name": "stderr",
          "text": [
            "100%|██████████████████████████| 10/10 [00:00<00:00, 125.52it/s, accuracy=0.762]\n"
          ]
        },
        {
          "output_type": "stream",
          "name": "stdout",
          "text": [
            "n_shots=10, Run=3, Accuracy: 76.25 %\n"
          ]
        },
        {
          "output_type": "stream",
          "name": "stderr",
          "text": [
            "100%|██████████████████████████| 10/10 [00:00<00:00, 126.75it/s, accuracy=0.747]"
          ]
        },
        {
          "output_type": "stream",
          "name": "stdout",
          "text": [
            "n_shots=12, Run=3, Accuracy: 74.70 %\n"
          ]
        },
        {
          "output_type": "stream",
          "name": "stderr",
          "text": [
            "\n",
            "100%|██████████████████████████| 10/10 [00:00<00:00, 122.55it/s, accuracy=0.761]\n"
          ]
        },
        {
          "output_type": "stream",
          "name": "stdout",
          "text": [
            "n_shots=16, Run=3, Accuracy: 76.15 %\n"
          ]
        },
        {
          "output_type": "stream",
          "name": "stderr",
          "text": [
            "100%|██████████████████████████| 10/10 [00:00<00:00, 124.08it/s, accuracy=0.751]\n"
          ]
        },
        {
          "output_type": "stream",
          "name": "stdout",
          "text": [
            "n_shots=24, Run=3, Accuracy: 75.15 %\n"
          ]
        },
        {
          "output_type": "stream",
          "name": "stderr",
          "text": [
            "100%|██████████████████████████| 10/10 [00:00<00:00, 122.80it/s, accuracy=0.811]\n"
          ]
        },
        {
          "output_type": "stream",
          "name": "stdout",
          "text": [
            "n_shots=32, Run=3, Accuracy: 81.10 %\n"
          ]
        },
        {
          "output_type": "stream",
          "name": "stderr",
          "text": [
            "100%|███████████████████████████| 10/10 [00:00<00:00, 123.60it/s, accuracy=0.61]\n"
          ]
        },
        {
          "output_type": "stream",
          "name": "stdout",
          "text": [
            "n_shots=1, Run=4, Accuracy: 61.00 %\n"
          ]
        },
        {
          "output_type": "stream",
          "name": "stderr",
          "text": [
            "100%|███████████████████████████| 10/10 [00:00<00:00, 129.01it/s, accuracy=0.68]\n"
          ]
        },
        {
          "output_type": "stream",
          "name": "stdout",
          "text": [
            "n_shots=2, Run=4, Accuracy: 68.00 %\n"
          ]
        },
        {
          "output_type": "stream",
          "name": "stderr",
          "text": [
            "100%|██████████████████████████| 10/10 [00:00<00:00, 127.04it/s, accuracy=0.682]"
          ]
        },
        {
          "output_type": "stream",
          "name": "stdout",
          "text": [
            "n_shots=3, Run=4, Accuracy: 68.25 %\n"
          ]
        },
        {
          "output_type": "stream",
          "name": "stderr",
          "text": [
            "\n",
            "100%|██████████████████████████| 10/10 [00:00<00:00, 126.91it/s, accuracy=0.707]\n"
          ]
        },
        {
          "output_type": "stream",
          "name": "stdout",
          "text": [
            "n_shots=4, Run=4, Accuracy: 70.70 %\n"
          ]
        },
        {
          "output_type": "stream",
          "name": "stderr",
          "text": [
            "100%|██████████████████████████| 10/10 [00:00<00:00, 125.89it/s, accuracy=0.722]"
          ]
        },
        {
          "output_type": "stream",
          "name": "stdout",
          "text": [
            "n_shots=5, Run=4, Accuracy: 72.15 %\n"
          ]
        },
        {
          "output_type": "stream",
          "name": "stderr",
          "text": [
            "\n",
            "100%|██████████████████████████| 10/10 [00:00<00:00, 125.40it/s, accuracy=0.758]\n"
          ]
        },
        {
          "output_type": "stream",
          "name": "stdout",
          "text": [
            "n_shots=6, Run=4, Accuracy: 75.85 %\n"
          ]
        },
        {
          "output_type": "stream",
          "name": "stderr",
          "text": [
            "100%|██████████████████████████| 10/10 [00:00<00:00, 122.83it/s, accuracy=0.748]\n"
          ]
        },
        {
          "output_type": "stream",
          "name": "stdout",
          "text": [
            "n_shots=8, Run=4, Accuracy: 74.80 %\n"
          ]
        },
        {
          "output_type": "stream",
          "name": "stderr",
          "text": [
            "100%|██████████████████████████| 10/10 [00:00<00:00, 126.73it/s, accuracy=0.778]\n"
          ]
        },
        {
          "output_type": "stream",
          "name": "stdout",
          "text": [
            "n_shots=10, Run=4, Accuracy: 77.80 %\n"
          ]
        },
        {
          "output_type": "stream",
          "name": "stderr",
          "text": [
            "100%|██████████████████████████| 10/10 [00:00<00:00, 126.72it/s, accuracy=0.777]\n"
          ]
        },
        {
          "output_type": "stream",
          "name": "stdout",
          "text": [
            "n_shots=12, Run=4, Accuracy: 77.70 %\n"
          ]
        },
        {
          "output_type": "stream",
          "name": "stderr",
          "text": [
            "100%|██████████████████████████| 10/10 [00:00<00:00, 124.36it/s, accuracy=0.777]\n"
          ]
        },
        {
          "output_type": "stream",
          "name": "stdout",
          "text": [
            "n_shots=16, Run=4, Accuracy: 77.70 %\n"
          ]
        },
        {
          "output_type": "stream",
          "name": "stderr",
          "text": [
            "100%|██████████████████████████| 10/10 [00:00<00:00, 122.01it/s, accuracy=0.787]\n"
          ]
        },
        {
          "output_type": "stream",
          "name": "stdout",
          "text": [
            "n_shots=24, Run=4, Accuracy: 78.75 %\n"
          ]
        },
        {
          "output_type": "stream",
          "name": "stderr",
          "text": [
            "100%|██████████████████████████| 10/10 [00:00<00:00, 122.93it/s, accuracy=0.809]\n"
          ]
        },
        {
          "output_type": "stream",
          "name": "stdout",
          "text": [
            "n_shots=32, Run=4, Accuracy: 80.90 %\n"
          ]
        },
        {
          "output_type": "stream",
          "name": "stderr",
          "text": [
            "100%|██████████████████████████| 10/10 [00:00<00:00, 124.50it/s, accuracy=0.603]\n"
          ]
        },
        {
          "output_type": "stream",
          "name": "stdout",
          "text": [
            "n_shots=1, Run=5, Accuracy: 60.30 %\n"
          ]
        },
        {
          "output_type": "stream",
          "name": "stderr",
          "text": [
            "100%|██████████████████████████| 10/10 [00:00<00:00, 127.01it/s, accuracy=0.654]\n"
          ]
        },
        {
          "output_type": "stream",
          "name": "stdout",
          "text": [
            "n_shots=2, Run=5, Accuracy: 65.45 %\n"
          ]
        },
        {
          "output_type": "stream",
          "name": "stderr",
          "text": [
            "100%|██████████████████████████| 10/10 [00:00<00:00, 126.45it/s, accuracy=0.706]\n"
          ]
        },
        {
          "output_type": "stream",
          "name": "stdout",
          "text": [
            "n_shots=3, Run=5, Accuracy: 70.60 %\n"
          ]
        },
        {
          "output_type": "stream",
          "name": "stderr",
          "text": [
            "100%|██████████████████████████| 10/10 [00:00<00:00, 123.97it/s, accuracy=0.711]\n"
          ]
        },
        {
          "output_type": "stream",
          "name": "stdout",
          "text": [
            "n_shots=4, Run=5, Accuracy: 71.10 %\n"
          ]
        },
        {
          "output_type": "stream",
          "name": "stderr",
          "text": [
            "100%|███████████████████████████| 10/10 [00:00<00:00, 126.76it/s, accuracy=0.72]\n"
          ]
        },
        {
          "output_type": "stream",
          "name": "stdout",
          "text": [
            "n_shots=5, Run=5, Accuracy: 71.95 %\n"
          ]
        },
        {
          "output_type": "stream",
          "name": "stderr",
          "text": [
            "100%|██████████████████████████| 10/10 [00:00<00:00, 127.06it/s, accuracy=0.712]\n"
          ]
        },
        {
          "output_type": "stream",
          "name": "stdout",
          "text": [
            "n_shots=6, Run=5, Accuracy: 71.20 %\n"
          ]
        },
        {
          "output_type": "stream",
          "name": "stderr",
          "text": [
            "100%|██████████████████████████| 10/10 [00:00<00:00, 113.35it/s, accuracy=0.737]\n"
          ]
        },
        {
          "output_type": "stream",
          "name": "stdout",
          "text": [
            "n_shots=8, Run=5, Accuracy: 73.65 %\n"
          ]
        },
        {
          "output_type": "stream",
          "name": "stderr",
          "text": [
            "100%|██████████████████████████| 10/10 [00:00<00:00, 126.05it/s, accuracy=0.736]\n"
          ]
        },
        {
          "output_type": "stream",
          "name": "stdout",
          "text": [
            "n_shots=10, Run=5, Accuracy: 73.60 %\n"
          ]
        },
        {
          "output_type": "stream",
          "name": "stderr",
          "text": [
            "100%|██████████████████████████| 10/10 [00:00<00:00, 123.40it/s, accuracy=0.708]\n"
          ]
        },
        {
          "output_type": "stream",
          "name": "stdout",
          "text": [
            "n_shots=12, Run=5, Accuracy: 70.75 %\n"
          ]
        },
        {
          "output_type": "stream",
          "name": "stderr",
          "text": [
            "100%|██████████████████████████| 10/10 [00:00<00:00, 125.05it/s, accuracy=0.766]\n"
          ]
        },
        {
          "output_type": "stream",
          "name": "stdout",
          "text": [
            "n_shots=16, Run=5, Accuracy: 76.65 %\n"
          ]
        },
        {
          "output_type": "stream",
          "name": "stderr",
          "text": [
            "100%|██████████████████████████| 10/10 [00:00<00:00, 127.87it/s, accuracy=0.792]\n"
          ]
        },
        {
          "output_type": "stream",
          "name": "stdout",
          "text": [
            "n_shots=24, Run=5, Accuracy: 79.20 %\n"
          ]
        },
        {
          "output_type": "stream",
          "name": "stderr",
          "text": [
            "100%|██████████████████████████| 10/10 [00:00<00:00, 123.42it/s, accuracy=0.792]\n"
          ]
        },
        {
          "output_type": "stream",
          "name": "stdout",
          "text": [
            "n_shots=32, Run=5, Accuracy: 79.25 %\n"
          ]
        },
        {
          "output_type": "stream",
          "name": "stderr",
          "text": [
            "100%|██████████████████████████| 10/10 [00:00<00:00, 121.59it/s, accuracy=0.568]\n"
          ]
        },
        {
          "output_type": "stream",
          "name": "stdout",
          "text": [
            "n_shots=1, Run=6, Accuracy: 56.75 %\n"
          ]
        },
        {
          "output_type": "stream",
          "name": "stderr",
          "text": [
            "100%|██████████████████████████| 10/10 [00:00<00:00, 126.05it/s, accuracy=0.612]\n"
          ]
        },
        {
          "output_type": "stream",
          "name": "stdout",
          "text": [
            "n_shots=2, Run=6, Accuracy: 61.15 %\n"
          ]
        },
        {
          "output_type": "stream",
          "name": "stderr",
          "text": [
            "100%|██████████████████████████| 10/10 [00:00<00:00, 123.68it/s, accuracy=0.701]\n"
          ]
        },
        {
          "output_type": "stream",
          "name": "stdout",
          "text": [
            "n_shots=3, Run=6, Accuracy: 70.10 %\n"
          ]
        },
        {
          "output_type": "stream",
          "name": "stderr",
          "text": [
            "100%|██████████████████████████| 10/10 [00:00<00:00, 127.12it/s, accuracy=0.695]\n"
          ]
        },
        {
          "output_type": "stream",
          "name": "stdout",
          "text": [
            "n_shots=4, Run=6, Accuracy: 69.50 %\n"
          ]
        },
        {
          "output_type": "stream",
          "name": "stderr",
          "text": [
            "100%|███████████████████████████| 10/10 [00:00<00:00, 126.46it/s, accuracy=0.73]\n"
          ]
        },
        {
          "output_type": "stream",
          "name": "stdout",
          "text": [
            "n_shots=5, Run=6, Accuracy: 72.95 %\n"
          ]
        },
        {
          "output_type": "stream",
          "name": "stderr",
          "text": [
            "100%|██████████████████████████| 10/10 [00:00<00:00, 126.63it/s, accuracy=0.776]"
          ]
        },
        {
          "output_type": "stream",
          "name": "stdout",
          "text": [
            "n_shots=6, Run=6, Accuracy: 77.60 %\n"
          ]
        },
        {
          "output_type": "stream",
          "name": "stderr",
          "text": [
            "\n",
            "100%|██████████████████████████| 10/10 [00:00<00:00, 123.63it/s, accuracy=0.743]\n"
          ]
        },
        {
          "output_type": "stream",
          "name": "stdout",
          "text": [
            "n_shots=8, Run=6, Accuracy: 74.25 %\n"
          ]
        },
        {
          "output_type": "stream",
          "name": "stderr",
          "text": [
            "100%|██████████████████████████| 10/10 [00:00<00:00, 128.99it/s, accuracy=0.751]\n"
          ]
        },
        {
          "output_type": "stream",
          "name": "stdout",
          "text": [
            "n_shots=10, Run=6, Accuracy: 75.10 %\n"
          ]
        },
        {
          "output_type": "stream",
          "name": "stderr",
          "text": [
            "100%|██████████████████████████| 10/10 [00:00<00:00, 128.81it/s, accuracy=0.767]"
          ]
        },
        {
          "output_type": "stream",
          "name": "stdout",
          "text": [
            "n_shots=12, Run=6, Accuracy: 76.75 %\n"
          ]
        },
        {
          "output_type": "stream",
          "name": "stderr",
          "text": [
            "\n",
            "100%|██████████████████████████| 10/10 [00:00<00:00, 125.07it/s, accuracy=0.766]"
          ]
        },
        {
          "output_type": "stream",
          "name": "stdout",
          "text": [
            "n_shots=16, Run=6, Accuracy: 76.65 %\n"
          ]
        },
        {
          "output_type": "stream",
          "name": "stderr",
          "text": [
            "\n",
            "100%|██████████████████████████| 10/10 [00:00<00:00, 120.38it/s, accuracy=0.789]\n"
          ]
        },
        {
          "output_type": "stream",
          "name": "stdout",
          "text": [
            "n_shots=24, Run=6, Accuracy: 78.95 %\n"
          ]
        },
        {
          "output_type": "stream",
          "name": "stderr",
          "text": [
            "100%|██████████████████████████| 10/10 [00:00<00:00, 123.76it/s, accuracy=0.802]\n"
          ]
        },
        {
          "output_type": "stream",
          "name": "stdout",
          "text": [
            "n_shots=32, Run=6, Accuracy: 80.25 %\n"
          ]
        },
        {
          "output_type": "stream",
          "name": "stderr",
          "text": [
            "100%|██████████████████████████| 10/10 [00:00<00:00, 126.26it/s, accuracy=0.608]\n"
          ]
        },
        {
          "output_type": "stream",
          "name": "stdout",
          "text": [
            "n_shots=1, Run=7, Accuracy: 60.80 %\n"
          ]
        },
        {
          "output_type": "stream",
          "name": "stderr",
          "text": [
            "100%|██████████████████████████| 10/10 [00:00<00:00, 125.79it/s, accuracy=0.699]\n"
          ]
        },
        {
          "output_type": "stream",
          "name": "stdout",
          "text": [
            "n_shots=2, Run=7, Accuracy: 69.90 %\n"
          ]
        },
        {
          "output_type": "stream",
          "name": "stderr",
          "text": [
            "100%|██████████████████████████| 10/10 [00:00<00:00, 125.48it/s, accuracy=0.666]\n"
          ]
        },
        {
          "output_type": "stream",
          "name": "stdout",
          "text": [
            "n_shots=3, Run=7, Accuracy: 66.60 %\n"
          ]
        },
        {
          "output_type": "stream",
          "name": "stderr",
          "text": [
            "100%|██████████████████████████| 10/10 [00:00<00:00, 124.74it/s, accuracy=0.705]\n"
          ]
        },
        {
          "output_type": "stream",
          "name": "stdout",
          "text": [
            "n_shots=4, Run=7, Accuracy: 70.45 %\n"
          ]
        },
        {
          "output_type": "stream",
          "name": "stderr",
          "text": [
            "100%|██████████████████████████| 10/10 [00:00<00:00, 129.95it/s, accuracy=0.727]"
          ]
        },
        {
          "output_type": "stream",
          "name": "stdout",
          "text": [
            "n_shots=5, Run=7, Accuracy: 72.65 %\n"
          ]
        },
        {
          "output_type": "stream",
          "name": "stderr",
          "text": [
            "\n",
            "100%|██████████████████████████| 10/10 [00:00<00:00, 125.39it/s, accuracy=0.736]"
          ]
        },
        {
          "output_type": "stream",
          "name": "stdout",
          "text": [
            "n_shots=6, Run=7, Accuracy: 73.60 %\n"
          ]
        },
        {
          "output_type": "stream",
          "name": "stderr",
          "text": [
            "\n",
            "100%|██████████████████████████| 10/10 [00:00<00:00, 125.07it/s, accuracy=0.741]\n"
          ]
        },
        {
          "output_type": "stream",
          "name": "stdout",
          "text": [
            "n_shots=8, Run=7, Accuracy: 74.10 %\n"
          ]
        },
        {
          "output_type": "stream",
          "name": "stderr",
          "text": [
            "100%|██████████████████████████| 10/10 [00:00<00:00, 127.09it/s, accuracy=0.783]\n"
          ]
        },
        {
          "output_type": "stream",
          "name": "stdout",
          "text": [
            "n_shots=10, Run=7, Accuracy: 78.35 %\n"
          ]
        },
        {
          "output_type": "stream",
          "name": "stderr",
          "text": [
            "100%|██████████████████████████| 10/10 [00:00<00:00, 127.47it/s, accuracy=0.761]\n"
          ]
        },
        {
          "output_type": "stream",
          "name": "stdout",
          "text": [
            "n_shots=12, Run=7, Accuracy: 76.15 %\n"
          ]
        },
        {
          "output_type": "stream",
          "name": "stderr",
          "text": [
            "100%|██████████████████████████| 10/10 [00:00<00:00, 127.69it/s, accuracy=0.808]"
          ]
        },
        {
          "output_type": "stream",
          "name": "stdout",
          "text": [
            "n_shots=16, Run=7, Accuracy: 80.80 %\n"
          ]
        },
        {
          "output_type": "stream",
          "name": "stderr",
          "text": [
            "\n",
            "100%|██████████████████████████| 10/10 [00:00<00:00, 123.87it/s, accuracy=0.794]\n"
          ]
        },
        {
          "output_type": "stream",
          "name": "stdout",
          "text": [
            "n_shots=24, Run=7, Accuracy: 79.40 %\n"
          ]
        },
        {
          "output_type": "stream",
          "name": "stderr",
          "text": [
            "100%|██████████████████████████| 10/10 [00:00<00:00, 124.18it/s, accuracy=0.803]\n"
          ]
        },
        {
          "output_type": "stream",
          "name": "stdout",
          "text": [
            "n_shots=32, Run=7, Accuracy: 80.35 %\n"
          ]
        },
        {
          "output_type": "stream",
          "name": "stderr",
          "text": [
            "100%|██████████████████████████| 10/10 [00:00<00:00, 125.81it/s, accuracy=0.623]\n"
          ]
        },
        {
          "output_type": "stream",
          "name": "stdout",
          "text": [
            "n_shots=1, Run=8, Accuracy: 62.25 %\n"
          ]
        },
        {
          "output_type": "stream",
          "name": "stderr",
          "text": [
            "100%|██████████████████████████| 10/10 [00:00<00:00, 125.92it/s, accuracy=0.644]\n"
          ]
        },
        {
          "output_type": "stream",
          "name": "stdout",
          "text": [
            "n_shots=2, Run=8, Accuracy: 64.45 %\n"
          ]
        },
        {
          "output_type": "stream",
          "name": "stderr",
          "text": [
            "100%|██████████████████████████| 10/10 [00:00<00:00, 128.55it/s, accuracy=0.704]\n"
          ]
        },
        {
          "output_type": "stream",
          "name": "stdout",
          "text": [
            "n_shots=3, Run=8, Accuracy: 70.35 %\n"
          ]
        },
        {
          "output_type": "stream",
          "name": "stderr",
          "text": [
            "100%|███████████████████████████| 10/10 [00:00<00:00, 124.14it/s, accuracy=0.66]\n"
          ]
        },
        {
          "output_type": "stream",
          "name": "stdout",
          "text": [
            "n_shots=4, Run=8, Accuracy: 66.00 %\n"
          ]
        },
        {
          "output_type": "stream",
          "name": "stderr",
          "text": [
            "100%|██████████████████████████| 10/10 [00:00<00:00, 124.85it/s, accuracy=0.718]\n"
          ]
        },
        {
          "output_type": "stream",
          "name": "stdout",
          "text": [
            "n_shots=5, Run=8, Accuracy: 71.80 %\n"
          ]
        },
        {
          "output_type": "stream",
          "name": "stderr",
          "text": [
            "100%|██████████████████████████| 10/10 [00:00<00:00, 122.00it/s, accuracy=0.717]\n"
          ]
        },
        {
          "output_type": "stream",
          "name": "stdout",
          "text": [
            "n_shots=6, Run=8, Accuracy: 71.65 %\n"
          ]
        },
        {
          "output_type": "stream",
          "name": "stderr",
          "text": [
            "100%|██████████████████████████| 10/10 [00:00<00:00, 122.46it/s, accuracy=0.727]\n"
          ]
        },
        {
          "output_type": "stream",
          "name": "stdout",
          "text": [
            "n_shots=8, Run=8, Accuracy: 72.65 %\n"
          ]
        },
        {
          "output_type": "stream",
          "name": "stderr",
          "text": [
            "100%|██████████████████████████| 10/10 [00:00<00:00, 126.57it/s, accuracy=0.742]\n"
          ]
        },
        {
          "output_type": "stream",
          "name": "stdout",
          "text": [
            "n_shots=10, Run=8, Accuracy: 74.20 %\n"
          ]
        },
        {
          "output_type": "stream",
          "name": "stderr",
          "text": [
            "100%|██████████████████████████| 10/10 [00:00<00:00, 120.54it/s, accuracy=0.787]\n"
          ]
        },
        {
          "output_type": "stream",
          "name": "stdout",
          "text": [
            "n_shots=12, Run=8, Accuracy: 78.70 %\n"
          ]
        },
        {
          "output_type": "stream",
          "name": "stderr",
          "text": [
            "100%|████████████████████████████| 10/10 [00:00<00:00, 120.00it/s, accuracy=0.8]\n"
          ]
        },
        {
          "output_type": "stream",
          "name": "stdout",
          "text": [
            "n_shots=16, Run=8, Accuracy: 80.00 %\n"
          ]
        },
        {
          "output_type": "stream",
          "name": "stderr",
          "text": [
            "100%|██████████████████████████| 10/10 [00:00<00:00, 122.04it/s, accuracy=0.799]\n"
          ]
        },
        {
          "output_type": "stream",
          "name": "stdout",
          "text": [
            "n_shots=24, Run=8, Accuracy: 79.95 %\n"
          ]
        },
        {
          "output_type": "stream",
          "name": "stderr",
          "text": [
            "100%|██████████████████████████| 10/10 [00:00<00:00, 120.07it/s, accuracy=0.801]\n"
          ]
        },
        {
          "output_type": "stream",
          "name": "stdout",
          "text": [
            "n_shots=32, Run=8, Accuracy: 80.10 %\n"
          ]
        },
        {
          "output_type": "stream",
          "name": "stderr",
          "text": [
            "100%|██████████████████████████| 10/10 [00:00<00:00, 110.24it/s, accuracy=0.608]\n"
          ]
        },
        {
          "output_type": "stream",
          "name": "stdout",
          "text": [
            "n_shots=1, Run=9, Accuracy: 60.80 %\n"
          ]
        },
        {
          "output_type": "stream",
          "name": "stderr",
          "text": [
            "100%|██████████████████████████| 10/10 [00:00<00:00, 119.08it/s, accuracy=0.635]\n"
          ]
        },
        {
          "output_type": "stream",
          "name": "stdout",
          "text": [
            "n_shots=2, Run=9, Accuracy: 63.55 %\n"
          ]
        },
        {
          "output_type": "stream",
          "name": "stderr",
          "text": [
            "100%|██████████████████████████| 10/10 [00:00<00:00, 124.47it/s, accuracy=0.711]\n"
          ]
        },
        {
          "output_type": "stream",
          "name": "stdout",
          "text": [
            "n_shots=3, Run=9, Accuracy: 71.10 %\n"
          ]
        },
        {
          "output_type": "stream",
          "name": "stderr",
          "text": [
            "100%|███████████████████████████| 10/10 [00:00<00:00, 125.02it/s, accuracy=0.72]\n"
          ]
        },
        {
          "output_type": "stream",
          "name": "stdout",
          "text": [
            "n_shots=4, Run=9, Accuracy: 72.00 %\n"
          ]
        },
        {
          "output_type": "stream",
          "name": "stderr",
          "text": [
            "100%|███████████████████████████| 10/10 [00:00<00:00, 126.94it/s, accuracy=0.74]\n"
          ]
        },
        {
          "output_type": "stream",
          "name": "stdout",
          "text": [
            "n_shots=5, Run=9, Accuracy: 74.00 %\n"
          ]
        },
        {
          "output_type": "stream",
          "name": "stderr",
          "text": [
            "100%|██████████████████████████| 10/10 [00:00<00:00, 125.63it/s, accuracy=0.731]\n"
          ]
        },
        {
          "output_type": "stream",
          "name": "stdout",
          "text": [
            "n_shots=6, Run=9, Accuracy: 73.05 %\n"
          ]
        },
        {
          "output_type": "stream",
          "name": "stderr",
          "text": [
            "100%|██████████████████████████| 10/10 [00:00<00:00, 125.38it/s, accuracy=0.756]\n"
          ]
        },
        {
          "output_type": "stream",
          "name": "stdout",
          "text": [
            "n_shots=8, Run=9, Accuracy: 75.60 %\n"
          ]
        },
        {
          "output_type": "stream",
          "name": "stderr",
          "text": [
            "100%|███████████████████████████| 10/10 [00:00<00:00, 128.96it/s, accuracy=0.75]\n"
          ]
        },
        {
          "output_type": "stream",
          "name": "stdout",
          "text": [
            "n_shots=10, Run=9, Accuracy: 75.00 %\n"
          ]
        },
        {
          "output_type": "stream",
          "name": "stderr",
          "text": [
            "100%|██████████████████████████| 10/10 [00:00<00:00, 128.29it/s, accuracy=0.736]"
          ]
        },
        {
          "output_type": "stream",
          "name": "stdout",
          "text": [
            "n_shots=12, Run=9, Accuracy: 73.60 %\n"
          ]
        },
        {
          "output_type": "stream",
          "name": "stderr",
          "text": [
            "\n",
            "100%|██████████████████████████| 10/10 [00:00<00:00, 124.00it/s, accuracy=0.743]\n"
          ]
        },
        {
          "output_type": "stream",
          "name": "stdout",
          "text": [
            "n_shots=16, Run=9, Accuracy: 74.30 %\n"
          ]
        },
        {
          "output_type": "stream",
          "name": "stderr",
          "text": [
            "100%|██████████████████████████| 10/10 [00:00<00:00, 122.81it/s, accuracy=0.805]\n"
          ]
        },
        {
          "output_type": "stream",
          "name": "stdout",
          "text": [
            "n_shots=24, Run=9, Accuracy: 80.55 %\n"
          ]
        },
        {
          "output_type": "stream",
          "name": "stderr",
          "text": [
            "100%|██████████████████████████| 10/10 [00:00<00:00, 124.51it/s, accuracy=0.806]\n"
          ]
        },
        {
          "output_type": "stream",
          "name": "stdout",
          "text": [
            "n_shots=32, Run=9, Accuracy: 80.60 %\n"
          ]
        },
        {
          "output_type": "stream",
          "name": "stderr",
          "text": [
            "100%|██████████████████████████| 10/10 [00:00<00:00, 123.09it/s, accuracy=0.596]\n"
          ]
        },
        {
          "output_type": "stream",
          "name": "stdout",
          "text": [
            "n_shots=1, Run=10, Accuracy: 59.55 %\n"
          ]
        },
        {
          "output_type": "stream",
          "name": "stderr",
          "text": [
            "100%|██████████████████████████| 10/10 [00:00<00:00, 127.48it/s, accuracy=0.666]\n"
          ]
        },
        {
          "output_type": "stream",
          "name": "stdout",
          "text": [
            "n_shots=2, Run=10, Accuracy: 66.60 %\n"
          ]
        },
        {
          "output_type": "stream",
          "name": "stderr",
          "text": [
            "100%|██████████████████████████| 10/10 [00:00<00:00, 131.00it/s, accuracy=0.699]"
          ]
        },
        {
          "output_type": "stream",
          "name": "stdout",
          "text": [
            "n_shots=3, Run=10, Accuracy: 69.90 %\n"
          ]
        },
        {
          "output_type": "stream",
          "name": "stderr",
          "text": [
            "\n",
            "100%|██████████████████████████| 10/10 [00:00<00:00, 125.51it/s, accuracy=0.686]\n"
          ]
        },
        {
          "output_type": "stream",
          "name": "stdout",
          "text": [
            "n_shots=4, Run=10, Accuracy: 68.60 %\n"
          ]
        },
        {
          "output_type": "stream",
          "name": "stderr",
          "text": [
            "100%|██████████████████████████| 10/10 [00:00<00:00, 120.94it/s, accuracy=0.731]\n"
          ]
        },
        {
          "output_type": "stream",
          "name": "stdout",
          "text": [
            "n_shots=5, Run=10, Accuracy: 73.05 %\n"
          ]
        },
        {
          "output_type": "stream",
          "name": "stderr",
          "text": [
            "100%|██████████████████████████| 10/10 [00:00<00:00, 126.17it/s, accuracy=0.727]\n"
          ]
        },
        {
          "output_type": "stream",
          "name": "stdout",
          "text": [
            "n_shots=6, Run=10, Accuracy: 72.65 %\n"
          ]
        },
        {
          "output_type": "stream",
          "name": "stderr",
          "text": [
            "100%|██████████████████████████| 10/10 [00:00<00:00, 126.53it/s, accuracy=0.784]\n"
          ]
        },
        {
          "output_type": "stream",
          "name": "stdout",
          "text": [
            "n_shots=8, Run=10, Accuracy: 78.45 %\n"
          ]
        },
        {
          "output_type": "stream",
          "name": "stderr",
          "text": [
            "100%|██████████████████████████| 10/10 [00:00<00:00, 121.83it/s, accuracy=0.748]\n"
          ]
        },
        {
          "output_type": "stream",
          "name": "stdout",
          "text": [
            "n_shots=10, Run=10, Accuracy: 74.80 %\n"
          ]
        },
        {
          "output_type": "stream",
          "name": "stderr",
          "text": [
            "100%|██████████████████████████| 10/10 [00:00<00:00, 126.38it/s, accuracy=0.755]\n"
          ]
        },
        {
          "output_type": "stream",
          "name": "stdout",
          "text": [
            "n_shots=12, Run=10, Accuracy: 75.50 %\n"
          ]
        },
        {
          "output_type": "stream",
          "name": "stderr",
          "text": [
            "100%|██████████████████████████| 10/10 [00:00<00:00, 125.17it/s, accuracy=0.779]\n"
          ]
        },
        {
          "output_type": "stream",
          "name": "stdout",
          "text": [
            "n_shots=16, Run=10, Accuracy: 77.95 %\n"
          ]
        },
        {
          "output_type": "stream",
          "name": "stderr",
          "text": [
            "100%|██████████████████████████| 10/10 [00:00<00:00, 123.83it/s, accuracy=0.816]\n"
          ]
        },
        {
          "output_type": "stream",
          "name": "stdout",
          "text": [
            "n_shots=24, Run=10, Accuracy: 81.55 %\n"
          ]
        },
        {
          "output_type": "stream",
          "name": "stderr",
          "text": [
            "100%|██████████████████████████| 10/10 [00:00<00:00, 122.20it/s, accuracy=0.801]\n"
          ]
        },
        {
          "output_type": "stream",
          "name": "stdout",
          "text": [
            "n_shots=32, Run=10, Accuracy: 80.10 %\n"
          ]
        },
        {
          "output_type": "stream",
          "name": "stderr",
          "text": [
            "100%|███████████████████████████| 10/10 [00:00<00:00, 122.71it/s, accuracy=0.63]\n"
          ]
        },
        {
          "output_type": "stream",
          "name": "stdout",
          "text": [
            "n_shots=1, Run=11, Accuracy: 63.05 %\n"
          ]
        },
        {
          "output_type": "stream",
          "name": "stderr",
          "text": [
            "100%|████████████████████████████| 10/10 [00:00<00:00, 125.98it/s, accuracy=0.6]\n"
          ]
        },
        {
          "output_type": "stream",
          "name": "stdout",
          "text": [
            "n_shots=2, Run=11, Accuracy: 60.00 %\n"
          ]
        },
        {
          "output_type": "stream",
          "name": "stderr",
          "text": [
            "100%|██████████████████████████| 10/10 [00:00<00:00, 126.53it/s, accuracy=0.721]\n"
          ]
        },
        {
          "output_type": "stream",
          "name": "stdout",
          "text": [
            "n_shots=3, Run=11, Accuracy: 72.10 %\n"
          ]
        },
        {
          "output_type": "stream",
          "name": "stderr",
          "text": [
            "100%|███████████████████████████| 10/10 [00:00<00:00, 126.46it/s, accuracy=0.75]\n"
          ]
        },
        {
          "output_type": "stream",
          "name": "stdout",
          "text": [
            "n_shots=4, Run=11, Accuracy: 74.95 %\n"
          ]
        },
        {
          "output_type": "stream",
          "name": "stderr",
          "text": [
            "100%|██████████████████████████| 10/10 [00:00<00:00, 124.91it/s, accuracy=0.736]\n"
          ]
        },
        {
          "output_type": "stream",
          "name": "stdout",
          "text": [
            "n_shots=5, Run=11, Accuracy: 73.60 %\n"
          ]
        },
        {
          "output_type": "stream",
          "name": "stderr",
          "text": [
            "100%|██████████████████████████| 10/10 [00:00<00:00, 124.42it/s, accuracy=0.773]\n"
          ]
        },
        {
          "output_type": "stream",
          "name": "stdout",
          "text": [
            "n_shots=6, Run=11, Accuracy: 77.30 %\n"
          ]
        },
        {
          "output_type": "stream",
          "name": "stderr",
          "text": [
            "100%|███████████████████████████| 10/10 [00:00<00:00, 124.83it/s, accuracy=0.76]\n"
          ]
        },
        {
          "output_type": "stream",
          "name": "stdout",
          "text": [
            "n_shots=8, Run=11, Accuracy: 76.00 %\n"
          ]
        },
        {
          "output_type": "stream",
          "name": "stderr",
          "text": [
            "100%|██████████████████████████| 10/10 [00:00<00:00, 126.34it/s, accuracy=0.761]\n"
          ]
        },
        {
          "output_type": "stream",
          "name": "stdout",
          "text": [
            "n_shots=10, Run=11, Accuracy: 76.10 %\n"
          ]
        },
        {
          "output_type": "stream",
          "name": "stderr",
          "text": [
            "100%|██████████████████████████| 10/10 [00:00<00:00, 120.04it/s, accuracy=0.772]\n"
          ]
        },
        {
          "output_type": "stream",
          "name": "stdout",
          "text": [
            "n_shots=12, Run=11, Accuracy: 77.25 %\n"
          ]
        },
        {
          "output_type": "stream",
          "name": "stderr",
          "text": [
            "100%|██████████████████████████| 10/10 [00:00<00:00, 126.37it/s, accuracy=0.757]\n"
          ]
        },
        {
          "output_type": "stream",
          "name": "stdout",
          "text": [
            "n_shots=16, Run=11, Accuracy: 75.75 %\n"
          ]
        },
        {
          "output_type": "stream",
          "name": "stderr",
          "text": [
            "100%|██████████████████████████| 10/10 [00:00<00:00, 124.20it/s, accuracy=0.785]\n"
          ]
        },
        {
          "output_type": "stream",
          "name": "stdout",
          "text": [
            "n_shots=24, Run=11, Accuracy: 78.55 %\n"
          ]
        },
        {
          "output_type": "stream",
          "name": "stderr",
          "text": [
            "100%|████████████████████████████| 10/10 [00:00<00:00, 118.73it/s, accuracy=0.8]\n"
          ]
        },
        {
          "output_type": "stream",
          "name": "stdout",
          "text": [
            "n_shots=32, Run=11, Accuracy: 80.05 %\n"
          ]
        },
        {
          "output_type": "stream",
          "name": "stderr",
          "text": [
            "100%|██████████████████████████| 10/10 [00:00<00:00, 116.10it/s, accuracy=0.531]\n"
          ]
        },
        {
          "output_type": "stream",
          "name": "stdout",
          "text": [
            "n_shots=1, Run=12, Accuracy: 53.15 %\n"
          ]
        },
        {
          "output_type": "stream",
          "name": "stderr",
          "text": [
            "100%|██████████████████████████| 10/10 [00:00<00:00, 122.85it/s, accuracy=0.676]\n"
          ]
        },
        {
          "output_type": "stream",
          "name": "stdout",
          "text": [
            "n_shots=2, Run=12, Accuracy: 67.65 %\n"
          ]
        },
        {
          "output_type": "stream",
          "name": "stderr",
          "text": [
            "100%|██████████████████████████| 10/10 [00:00<00:00, 127.12it/s, accuracy=0.724]\n"
          ]
        },
        {
          "output_type": "stream",
          "name": "stdout",
          "text": [
            "n_shots=3, Run=12, Accuracy: 72.40 %\n"
          ]
        },
        {
          "output_type": "stream",
          "name": "stderr",
          "text": [
            "100%|██████████████████████████| 10/10 [00:00<00:00, 125.54it/s, accuracy=0.773]\n"
          ]
        },
        {
          "output_type": "stream",
          "name": "stdout",
          "text": [
            "n_shots=4, Run=12, Accuracy: 77.35 %\n"
          ]
        },
        {
          "output_type": "stream",
          "name": "stderr",
          "text": [
            "100%|██████████████████████████| 10/10 [00:00<00:00, 128.87it/s, accuracy=0.711]\n"
          ]
        },
        {
          "output_type": "stream",
          "name": "stdout",
          "text": [
            "n_shots=5, Run=12, Accuracy: 71.05 %\n"
          ]
        },
        {
          "output_type": "stream",
          "name": "stderr",
          "text": [
            "100%|██████████████████████████| 10/10 [00:00<00:00, 129.51it/s, accuracy=0.755]"
          ]
        },
        {
          "output_type": "stream",
          "name": "stdout",
          "text": [
            "n_shots=6, Run=12, Accuracy: 75.55 %\n"
          ]
        },
        {
          "output_type": "stream",
          "name": "stderr",
          "text": [
            "\n",
            "100%|██████████████████████████| 10/10 [00:00<00:00, 123.83it/s, accuracy=0.744]\n"
          ]
        },
        {
          "output_type": "stream",
          "name": "stdout",
          "text": [
            "n_shots=8, Run=12, Accuracy: 74.35 %\n"
          ]
        },
        {
          "output_type": "stream",
          "name": "stderr",
          "text": [
            "100%|██████████████████████████| 10/10 [00:00<00:00, 127.04it/s, accuracy=0.728]\n"
          ]
        },
        {
          "output_type": "stream",
          "name": "stdout",
          "text": [
            "n_shots=10, Run=12, Accuracy: 72.75 %\n"
          ]
        },
        {
          "output_type": "stream",
          "name": "stderr",
          "text": [
            "100%|██████████████████████████| 10/10 [00:00<00:00, 127.79it/s, accuracy=0.744]\n"
          ]
        },
        {
          "output_type": "stream",
          "name": "stdout",
          "text": [
            "n_shots=12, Run=12, Accuracy: 74.40 %\n"
          ]
        },
        {
          "output_type": "stream",
          "name": "stderr",
          "text": [
            "100%|██████████████████████████| 10/10 [00:00<00:00, 128.91it/s, accuracy=0.785]"
          ]
        },
        {
          "output_type": "stream",
          "name": "stdout",
          "text": [
            "n_shots=16, Run=12, Accuracy: 78.50 %\n"
          ]
        },
        {
          "output_type": "stream",
          "name": "stderr",
          "text": [
            "\n",
            "100%|██████████████████████████| 10/10 [00:00<00:00, 126.40it/s, accuracy=0.774]\n"
          ]
        },
        {
          "output_type": "stream",
          "name": "stdout",
          "text": [
            "n_shots=24, Run=12, Accuracy: 77.40 %\n"
          ]
        },
        {
          "output_type": "stream",
          "name": "stderr",
          "text": [
            "100%|██████████████████████████| 10/10 [00:00<00:00, 121.19it/s, accuracy=0.791]\n"
          ]
        },
        {
          "output_type": "stream",
          "name": "stdout",
          "text": [
            "n_shots=32, Run=12, Accuracy: 79.15 %\n"
          ]
        },
        {
          "output_type": "stream",
          "name": "stderr",
          "text": [
            "100%|██████████████████████████| 10/10 [00:00<00:00, 114.50it/s, accuracy=0.624]\n"
          ]
        },
        {
          "output_type": "stream",
          "name": "stdout",
          "text": [
            "n_shots=1, Run=13, Accuracy: 62.35 %\n"
          ]
        },
        {
          "output_type": "stream",
          "name": "stderr",
          "text": [
            "100%|██████████████████████████| 10/10 [00:00<00:00, 128.59it/s, accuracy=0.702]\n"
          ]
        },
        {
          "output_type": "stream",
          "name": "stdout",
          "text": [
            "n_shots=2, Run=13, Accuracy: 70.15 %\n"
          ]
        },
        {
          "output_type": "stream",
          "name": "stderr",
          "text": [
            "100%|██████████████████████████| 10/10 [00:00<00:00, 128.90it/s, accuracy=0.676]"
          ]
        },
        {
          "output_type": "stream",
          "name": "stdout",
          "text": [
            "n_shots=3, Run=13, Accuracy: 67.65 %\n"
          ]
        },
        {
          "output_type": "stream",
          "name": "stderr",
          "text": [
            "\n",
            "100%|██████████████████████████| 10/10 [00:00<00:00, 126.99it/s, accuracy=0.728]"
          ]
        },
        {
          "output_type": "stream",
          "name": "stdout",
          "text": [
            "n_shots=4, Run=13, Accuracy: 72.80 %\n"
          ]
        },
        {
          "output_type": "stream",
          "name": "stderr",
          "text": [
            "\n",
            "100%|███████████████████████████| 10/10 [00:00<00:00, 124.94it/s, accuracy=0.72]\n"
          ]
        },
        {
          "output_type": "stream",
          "name": "stdout",
          "text": [
            "n_shots=5, Run=13, Accuracy: 71.95 %\n"
          ]
        },
        {
          "output_type": "stream",
          "name": "stderr",
          "text": [
            "100%|██████████████████████████| 10/10 [00:00<00:00, 125.44it/s, accuracy=0.745]\n"
          ]
        },
        {
          "output_type": "stream",
          "name": "stdout",
          "text": [
            "n_shots=6, Run=13, Accuracy: 74.45 %\n"
          ]
        },
        {
          "output_type": "stream",
          "name": "stderr",
          "text": [
            "100%|██████████████████████████| 10/10 [00:00<00:00, 124.08it/s, accuracy=0.747]\n"
          ]
        },
        {
          "output_type": "stream",
          "name": "stdout",
          "text": [
            "n_shots=8, Run=13, Accuracy: 74.65 %\n"
          ]
        },
        {
          "output_type": "stream",
          "name": "stderr",
          "text": [
            "100%|██████████████████████████| 10/10 [00:00<00:00, 122.05it/s, accuracy=0.772]\n"
          ]
        },
        {
          "output_type": "stream",
          "name": "stdout",
          "text": [
            "n_shots=10, Run=13, Accuracy: 77.20 %\n"
          ]
        },
        {
          "output_type": "stream",
          "name": "stderr",
          "text": [
            "100%|██████████████████████████| 10/10 [00:00<00:00, 122.83it/s, accuracy=0.745]\n"
          ]
        },
        {
          "output_type": "stream",
          "name": "stdout",
          "text": [
            "n_shots=12, Run=13, Accuracy: 74.45 %\n"
          ]
        },
        {
          "output_type": "stream",
          "name": "stderr",
          "text": [
            "100%|██████████████████████████| 10/10 [00:00<00:00, 124.17it/s, accuracy=0.767]\n"
          ]
        },
        {
          "output_type": "stream",
          "name": "stdout",
          "text": [
            "n_shots=16, Run=13, Accuracy: 76.75 %\n"
          ]
        },
        {
          "output_type": "stream",
          "name": "stderr",
          "text": [
            "100%|███████████████████████████| 10/10 [00:00<00:00, 120.66it/s, accuracy=0.78]\n"
          ]
        },
        {
          "output_type": "stream",
          "name": "stdout",
          "text": [
            "n_shots=24, Run=13, Accuracy: 78.00 %\n"
          ]
        },
        {
          "output_type": "stream",
          "name": "stderr",
          "text": [
            "100%|██████████████████████████| 10/10 [00:00<00:00, 119.68it/s, accuracy=0.785]\n"
          ]
        },
        {
          "output_type": "stream",
          "name": "stdout",
          "text": [
            "n_shots=32, Run=13, Accuracy: 78.50 %\n"
          ]
        },
        {
          "output_type": "stream",
          "name": "stderr",
          "text": [
            "100%|██████████████████████████| 10/10 [00:00<00:00, 118.79it/s, accuracy=0.625]\n"
          ]
        },
        {
          "output_type": "stream",
          "name": "stdout",
          "text": [
            "n_shots=1, Run=14, Accuracy: 62.55 %\n"
          ]
        },
        {
          "output_type": "stream",
          "name": "stderr",
          "text": [
            "100%|██████████████████████████| 10/10 [00:00<00:00, 126.64it/s, accuracy=0.635]\n"
          ]
        },
        {
          "output_type": "stream",
          "name": "stdout",
          "text": [
            "n_shots=2, Run=14, Accuracy: 63.55 %\n"
          ]
        },
        {
          "output_type": "stream",
          "name": "stderr",
          "text": [
            "100%|███████████████████████████| 10/10 [00:00<00:00, 125.43it/s, accuracy=0.71]\n"
          ]
        },
        {
          "output_type": "stream",
          "name": "stdout",
          "text": [
            "n_shots=3, Run=14, Accuracy: 71.00 %\n"
          ]
        },
        {
          "output_type": "stream",
          "name": "stderr",
          "text": [
            "100%|██████████████████████████| 10/10 [00:00<00:00, 120.58it/s, accuracy=0.682]\n"
          ]
        },
        {
          "output_type": "stream",
          "name": "stdout",
          "text": [
            "n_shots=4, Run=14, Accuracy: 68.20 %\n"
          ]
        },
        {
          "output_type": "stream",
          "name": "stderr",
          "text": [
            "100%|██████████████████████████| 10/10 [00:00<00:00, 124.28it/s, accuracy=0.724]\n"
          ]
        },
        {
          "output_type": "stream",
          "name": "stdout",
          "text": [
            "n_shots=5, Run=14, Accuracy: 72.40 %\n"
          ]
        },
        {
          "output_type": "stream",
          "name": "stderr",
          "text": [
            "100%|██████████████████████████| 10/10 [00:00<00:00, 124.05it/s, accuracy=0.739]\n"
          ]
        },
        {
          "output_type": "stream",
          "name": "stdout",
          "text": [
            "n_shots=6, Run=14, Accuracy: 73.85 %\n"
          ]
        },
        {
          "output_type": "stream",
          "name": "stderr",
          "text": [
            "100%|███████████████████████████| 10/10 [00:00<00:00, 115.48it/s, accuracy=0.76]\n"
          ]
        },
        {
          "output_type": "stream",
          "name": "stdout",
          "text": [
            "n_shots=8, Run=14, Accuracy: 76.00 %\n"
          ]
        },
        {
          "output_type": "stream",
          "name": "stderr",
          "text": [
            "100%|██████████████████████████| 10/10 [00:00<00:00, 115.41it/s, accuracy=0.791]\n"
          ]
        },
        {
          "output_type": "stream",
          "name": "stdout",
          "text": [
            "n_shots=10, Run=14, Accuracy: 79.15 %\n"
          ]
        },
        {
          "output_type": "stream",
          "name": "stderr",
          "text": [
            "100%|██████████████████████████| 10/10 [00:00<00:00, 126.81it/s, accuracy=0.721]\n"
          ]
        },
        {
          "output_type": "stream",
          "name": "stdout",
          "text": [
            "n_shots=12, Run=14, Accuracy: 72.05 %\n"
          ]
        },
        {
          "output_type": "stream",
          "name": "stderr",
          "text": [
            "100%|██████████████████████████| 10/10 [00:00<00:00, 128.60it/s, accuracy=0.754]"
          ]
        },
        {
          "output_type": "stream",
          "name": "stdout",
          "text": [
            "n_shots=16, Run=14, Accuracy: 75.40 %\n"
          ]
        },
        {
          "output_type": "stream",
          "name": "stderr",
          "text": [
            "\n",
            "100%|██████████████████████████| 10/10 [00:00<00:00, 120.81it/s, accuracy=0.811]\n"
          ]
        },
        {
          "output_type": "stream",
          "name": "stdout",
          "text": [
            "n_shots=24, Run=14, Accuracy: 81.15 %\n"
          ]
        },
        {
          "output_type": "stream",
          "name": "stderr",
          "text": [
            "100%|██████████████████████████| 10/10 [00:00<00:00, 123.12it/s, accuracy=0.771]\n"
          ]
        },
        {
          "output_type": "stream",
          "name": "stdout",
          "text": [
            "n_shots=32, Run=14, Accuracy: 77.15 %\n"
          ]
        },
        {
          "output_type": "stream",
          "name": "stderr",
          "text": [
            "100%|██████████████████████████| 10/10 [00:00<00:00, 122.69it/s, accuracy=0.553]\n"
          ]
        },
        {
          "output_type": "stream",
          "name": "stdout",
          "text": [
            "n_shots=1, Run=15, Accuracy: 55.30 %\n"
          ]
        },
        {
          "output_type": "stream",
          "name": "stderr",
          "text": [
            "100%|██████████████████████████| 10/10 [00:00<00:00, 128.21it/s, accuracy=0.653]\n"
          ]
        },
        {
          "output_type": "stream",
          "name": "stdout",
          "text": [
            "n_shots=2, Run=15, Accuracy: 65.35 %\n"
          ]
        },
        {
          "output_type": "stream",
          "name": "stderr",
          "text": [
            "100%|███████████████████████████| 10/10 [00:00<00:00, 127.16it/s, accuracy=0.67]\n"
          ]
        },
        {
          "output_type": "stream",
          "name": "stdout",
          "text": [
            "n_shots=3, Run=15, Accuracy: 67.05 %\n"
          ]
        },
        {
          "output_type": "stream",
          "name": "stderr",
          "text": [
            "100%|██████████████████████████| 10/10 [00:00<00:00, 122.59it/s, accuracy=0.664]\n"
          ]
        },
        {
          "output_type": "stream",
          "name": "stdout",
          "text": [
            "n_shots=4, Run=15, Accuracy: 66.40 %\n"
          ]
        },
        {
          "output_type": "stream",
          "name": "stderr",
          "text": [
            "100%|██████████████████████████| 10/10 [00:00<00:00, 124.84it/s, accuracy=0.681]\n"
          ]
        },
        {
          "output_type": "stream",
          "name": "stdout",
          "text": [
            "n_shots=5, Run=15, Accuracy: 68.10 %\n"
          ]
        },
        {
          "output_type": "stream",
          "name": "stderr",
          "text": [
            "100%|███████████████████████████| 10/10 [00:00<00:00, 129.70it/s, accuracy=0.71]"
          ]
        },
        {
          "output_type": "stream",
          "name": "stdout",
          "text": [
            "n_shots=6, Run=15, Accuracy: 71.00 %\n"
          ]
        },
        {
          "output_type": "stream",
          "name": "stderr",
          "text": [
            "\n",
            "100%|██████████████████████████| 10/10 [00:00<00:00, 128.57it/s, accuracy=0.745]"
          ]
        },
        {
          "output_type": "stream",
          "name": "stdout",
          "text": [
            "n_shots=8, Run=15, Accuracy: 74.45 %\n"
          ]
        },
        {
          "output_type": "stream",
          "name": "stderr",
          "text": [
            "\n",
            "100%|██████████████████████████| 10/10 [00:00<00:00, 123.22it/s, accuracy=0.725]\n"
          ]
        },
        {
          "output_type": "stream",
          "name": "stdout",
          "text": [
            "n_shots=10, Run=15, Accuracy: 72.45 %\n"
          ]
        },
        {
          "output_type": "stream",
          "name": "stderr",
          "text": [
            "100%|██████████████████████████| 10/10 [00:00<00:00, 123.12it/s, accuracy=0.762]\n"
          ]
        },
        {
          "output_type": "stream",
          "name": "stdout",
          "text": [
            "n_shots=12, Run=15, Accuracy: 76.25 %\n"
          ]
        },
        {
          "output_type": "stream",
          "name": "stderr",
          "text": [
            "100%|███████████████████████████| 10/10 [00:00<00:00, 122.56it/s, accuracy=0.76]\n"
          ]
        },
        {
          "output_type": "stream",
          "name": "stdout",
          "text": [
            "n_shots=16, Run=15, Accuracy: 76.00 %\n"
          ]
        },
        {
          "output_type": "stream",
          "name": "stderr",
          "text": [
            "100%|████████████████████████████| 10/10 [00:00<00:00, 118.98it/s, accuracy=0.8]\n"
          ]
        },
        {
          "output_type": "stream",
          "name": "stdout",
          "text": [
            "n_shots=24, Run=15, Accuracy: 80.05 %\n"
          ]
        },
        {
          "output_type": "stream",
          "name": "stderr",
          "text": [
            "100%|██████████████████████████| 10/10 [00:00<00:00, 120.53it/s, accuracy=0.795]\n"
          ]
        },
        {
          "output_type": "stream",
          "name": "stdout",
          "text": [
            "n_shots=32, Run=15, Accuracy: 79.50 %\n"
          ]
        },
        {
          "output_type": "stream",
          "name": "stderr",
          "text": [
            "100%|██████████████████████████| 10/10 [00:00<00:00, 114.48it/s, accuracy=0.616]\n"
          ]
        },
        {
          "output_type": "stream",
          "name": "stdout",
          "text": [
            "n_shots=1, Run=16, Accuracy: 61.60 %\n"
          ]
        },
        {
          "output_type": "stream",
          "name": "stderr",
          "text": [
            "100%|██████████████████████████| 10/10 [00:00<00:00, 123.71it/s, accuracy=0.628]\n"
          ]
        },
        {
          "output_type": "stream",
          "name": "stdout",
          "text": [
            "n_shots=2, Run=16, Accuracy: 62.80 %\n"
          ]
        },
        {
          "output_type": "stream",
          "name": "stderr",
          "text": [
            "100%|███████████████████████████| 10/10 [00:00<00:00, 119.04it/s, accuracy=0.68]\n"
          ]
        },
        {
          "output_type": "stream",
          "name": "stdout",
          "text": [
            "n_shots=3, Run=16, Accuracy: 68.05 %\n"
          ]
        },
        {
          "output_type": "stream",
          "name": "stderr",
          "text": [
            "100%|██████████████████████████| 10/10 [00:00<00:00, 124.85it/s, accuracy=0.687]\n"
          ]
        },
        {
          "output_type": "stream",
          "name": "stdout",
          "text": [
            "n_shots=4, Run=16, Accuracy: 68.70 %\n"
          ]
        },
        {
          "output_type": "stream",
          "name": "stderr",
          "text": [
            "100%|██████████████████████████| 10/10 [00:00<00:00, 122.99it/s, accuracy=0.798]\n"
          ]
        },
        {
          "output_type": "stream",
          "name": "stdout",
          "text": [
            "n_shots=5, Run=16, Accuracy: 79.80 %\n"
          ]
        },
        {
          "output_type": "stream",
          "name": "stderr",
          "text": [
            "100%|██████████████████████████| 10/10 [00:00<00:00, 121.69it/s, accuracy=0.748]\n"
          ]
        },
        {
          "output_type": "stream",
          "name": "stdout",
          "text": [
            "n_shots=6, Run=16, Accuracy: 74.80 %\n"
          ]
        },
        {
          "output_type": "stream",
          "name": "stderr",
          "text": [
            "100%|██████████████████████████| 10/10 [00:00<00:00, 121.82it/s, accuracy=0.786]\n"
          ]
        },
        {
          "output_type": "stream",
          "name": "stdout",
          "text": [
            "n_shots=8, Run=16, Accuracy: 78.65 %\n"
          ]
        },
        {
          "output_type": "stream",
          "name": "stderr",
          "text": [
            "100%|██████████████████████████| 10/10 [00:00<00:00, 124.17it/s, accuracy=0.776]\n"
          ]
        },
        {
          "output_type": "stream",
          "name": "stdout",
          "text": [
            "n_shots=10, Run=16, Accuracy: 77.65 %\n"
          ]
        },
        {
          "output_type": "stream",
          "name": "stderr",
          "text": [
            "100%|██████████████████████████| 10/10 [00:00<00:00, 120.76it/s, accuracy=0.744]\n"
          ]
        },
        {
          "output_type": "stream",
          "name": "stdout",
          "text": [
            "n_shots=12, Run=16, Accuracy: 74.40 %\n"
          ]
        },
        {
          "output_type": "stream",
          "name": "stderr",
          "text": [
            "100%|██████████████████████████| 10/10 [00:00<00:00, 118.31it/s, accuracy=0.765]\n"
          ]
        },
        {
          "output_type": "stream",
          "name": "stdout",
          "text": [
            "n_shots=16, Run=16, Accuracy: 76.55 %\n"
          ]
        },
        {
          "output_type": "stream",
          "name": "stderr",
          "text": [
            "100%|██████████████████████████| 10/10 [00:00<00:00, 116.60it/s, accuracy=0.806]\n"
          ]
        },
        {
          "output_type": "stream",
          "name": "stdout",
          "text": [
            "n_shots=24, Run=16, Accuracy: 80.60 %\n"
          ]
        },
        {
          "output_type": "stream",
          "name": "stderr",
          "text": [
            "100%|██████████████████████████| 10/10 [00:00<00:00, 121.74it/s, accuracy=0.793]\n"
          ]
        },
        {
          "output_type": "stream",
          "name": "stdout",
          "text": [
            "n_shots=32, Run=16, Accuracy: 79.35 %\n"
          ]
        },
        {
          "output_type": "stream",
          "name": "stderr",
          "text": [
            "100%|██████████████████████████| 10/10 [00:00<00:00, 122.68it/s, accuracy=0.616]\n"
          ]
        },
        {
          "output_type": "stream",
          "name": "stdout",
          "text": [
            "n_shots=1, Run=17, Accuracy: 61.60 %\n"
          ]
        },
        {
          "output_type": "stream",
          "name": "stderr",
          "text": [
            "100%|██████████████████████████| 10/10 [00:00<00:00, 126.27it/s, accuracy=0.606]\n"
          ]
        },
        {
          "output_type": "stream",
          "name": "stdout",
          "text": [
            "n_shots=2, Run=17, Accuracy: 60.55 %\n"
          ]
        },
        {
          "output_type": "stream",
          "name": "stderr",
          "text": [
            "100%|██████████████████████████| 10/10 [00:00<00:00, 123.55it/s, accuracy=0.694]\n"
          ]
        },
        {
          "output_type": "stream",
          "name": "stdout",
          "text": [
            "n_shots=3, Run=17, Accuracy: 69.35 %\n"
          ]
        },
        {
          "output_type": "stream",
          "name": "stderr",
          "text": [
            "100%|██████████████████████████| 10/10 [00:00<00:00, 128.07it/s, accuracy=0.734]\n"
          ]
        },
        {
          "output_type": "stream",
          "name": "stdout",
          "text": [
            "n_shots=4, Run=17, Accuracy: 73.40 %\n"
          ]
        },
        {
          "output_type": "stream",
          "name": "stderr",
          "text": [
            "100%|██████████████████████████| 10/10 [00:00<00:00, 127.46it/s, accuracy=0.738]\n"
          ]
        },
        {
          "output_type": "stream",
          "name": "stdout",
          "text": [
            "n_shots=5, Run=17, Accuracy: 73.75 %\n"
          ]
        },
        {
          "output_type": "stream",
          "name": "stderr",
          "text": [
            "100%|██████████████████████████| 10/10 [00:00<00:00, 124.76it/s, accuracy=0.759]\n"
          ]
        },
        {
          "output_type": "stream",
          "name": "stdout",
          "text": [
            "n_shots=6, Run=17, Accuracy: 75.90 %\n"
          ]
        },
        {
          "output_type": "stream",
          "name": "stderr",
          "text": [
            "100%|███████████████████████████| 10/10 [00:00<00:00, 125.49it/s, accuracy=0.75]\n"
          ]
        },
        {
          "output_type": "stream",
          "name": "stdout",
          "text": [
            "n_shots=8, Run=17, Accuracy: 74.95 %\n"
          ]
        },
        {
          "output_type": "stream",
          "name": "stderr",
          "text": [
            "100%|██████████████████████████| 10/10 [00:00<00:00, 127.89it/s, accuracy=0.752]\n"
          ]
        },
        {
          "output_type": "stream",
          "name": "stdout",
          "text": [
            "n_shots=10, Run=17, Accuracy: 75.20 %\n"
          ]
        },
        {
          "output_type": "stream",
          "name": "stderr",
          "text": [
            "100%|██████████████████████████| 10/10 [00:00<00:00, 126.87it/s, accuracy=0.765]\n"
          ]
        },
        {
          "output_type": "stream",
          "name": "stdout",
          "text": [
            "n_shots=12, Run=17, Accuracy: 76.55 %\n"
          ]
        },
        {
          "output_type": "stream",
          "name": "stderr",
          "text": [
            "100%|██████████████████████████| 10/10 [00:00<00:00, 122.04it/s, accuracy=0.799]\n"
          ]
        },
        {
          "output_type": "stream",
          "name": "stdout",
          "text": [
            "n_shots=16, Run=17, Accuracy: 79.95 %\n"
          ]
        },
        {
          "output_type": "stream",
          "name": "stderr",
          "text": [
            "100%|██████████████████████████| 10/10 [00:00<00:00, 124.83it/s, accuracy=0.809]\n"
          ]
        },
        {
          "output_type": "stream",
          "name": "stdout",
          "text": [
            "n_shots=24, Run=17, Accuracy: 80.90 %\n"
          ]
        },
        {
          "output_type": "stream",
          "name": "stderr",
          "text": [
            "100%|██████████████████████████| 10/10 [00:00<00:00, 118.97it/s, accuracy=0.786]\n"
          ]
        },
        {
          "output_type": "stream",
          "name": "stdout",
          "text": [
            "n_shots=32, Run=17, Accuracy: 78.65 %\n"
          ]
        },
        {
          "output_type": "stream",
          "name": "stderr",
          "text": [
            "100%|██████████████████████████| 10/10 [00:00<00:00, 124.15it/s, accuracy=0.601]\n"
          ]
        },
        {
          "output_type": "stream",
          "name": "stdout",
          "text": [
            "n_shots=1, Run=18, Accuracy: 60.10 %\n"
          ]
        },
        {
          "output_type": "stream",
          "name": "stderr",
          "text": [
            "100%|██████████████████████████| 10/10 [00:00<00:00, 128.91it/s, accuracy=0.663]\n"
          ]
        },
        {
          "output_type": "stream",
          "name": "stdout",
          "text": [
            "n_shots=2, Run=18, Accuracy: 66.35 %\n"
          ]
        },
        {
          "output_type": "stream",
          "name": "stderr",
          "text": [
            "100%|██████████████████████████| 10/10 [00:00<00:00, 126.36it/s, accuracy=0.656]\n"
          ]
        },
        {
          "output_type": "stream",
          "name": "stdout",
          "text": [
            "n_shots=3, Run=18, Accuracy: 65.65 %\n"
          ]
        },
        {
          "output_type": "stream",
          "name": "stderr",
          "text": [
            "100%|██████████████████████████| 10/10 [00:00<00:00, 126.17it/s, accuracy=0.673]\n"
          ]
        },
        {
          "output_type": "stream",
          "name": "stdout",
          "text": [
            "n_shots=4, Run=18, Accuracy: 67.30 %\n"
          ]
        },
        {
          "output_type": "stream",
          "name": "stderr",
          "text": [
            "100%|██████████████████████████| 10/10 [00:00<00:00, 127.34it/s, accuracy=0.644]\n"
          ]
        },
        {
          "output_type": "stream",
          "name": "stdout",
          "text": [
            "n_shots=5, Run=18, Accuracy: 64.40 %\n"
          ]
        },
        {
          "output_type": "stream",
          "name": "stderr",
          "text": [
            "100%|██████████████████████████| 10/10 [00:00<00:00, 123.21it/s, accuracy=0.746]\n"
          ]
        },
        {
          "output_type": "stream",
          "name": "stdout",
          "text": [
            "n_shots=6, Run=18, Accuracy: 74.60 %\n"
          ]
        },
        {
          "output_type": "stream",
          "name": "stderr",
          "text": [
            "100%|██████████████████████████| 10/10 [00:00<00:00, 121.80it/s, accuracy=0.751]\n"
          ]
        },
        {
          "output_type": "stream",
          "name": "stdout",
          "text": [
            "n_shots=8, Run=18, Accuracy: 75.10 %\n"
          ]
        },
        {
          "output_type": "stream",
          "name": "stderr",
          "text": [
            "100%|██████████████████████████| 10/10 [00:00<00:00, 118.21it/s, accuracy=0.784]\n"
          ]
        },
        {
          "output_type": "stream",
          "name": "stdout",
          "text": [
            "n_shots=10, Run=18, Accuracy: 78.45 %\n"
          ]
        },
        {
          "output_type": "stream",
          "name": "stderr",
          "text": [
            "100%|██████████████████████████| 10/10 [00:00<00:00, 117.16it/s, accuracy=0.764]\n"
          ]
        },
        {
          "output_type": "stream",
          "name": "stdout",
          "text": [
            "n_shots=12, Run=18, Accuracy: 76.40 %\n"
          ]
        },
        {
          "output_type": "stream",
          "name": "stderr",
          "text": [
            "100%|██████████████████████████| 10/10 [00:00<00:00, 120.02it/s, accuracy=0.791]\n"
          ]
        },
        {
          "output_type": "stream",
          "name": "stdout",
          "text": [
            "n_shots=16, Run=18, Accuracy: 79.15 %\n"
          ]
        },
        {
          "output_type": "stream",
          "name": "stderr",
          "text": [
            "100%|██████████████████████████| 10/10 [00:00<00:00, 121.77it/s, accuracy=0.782]\n"
          ]
        },
        {
          "output_type": "stream",
          "name": "stdout",
          "text": [
            "n_shots=24, Run=18, Accuracy: 78.25 %\n"
          ]
        },
        {
          "output_type": "stream",
          "name": "stderr",
          "text": [
            "100%|██████████████████████████| 10/10 [00:00<00:00, 120.21it/s, accuracy=0.808]\n"
          ]
        },
        {
          "output_type": "stream",
          "name": "stdout",
          "text": [
            "n_shots=32, Run=18, Accuracy: 80.85 %\n"
          ]
        },
        {
          "output_type": "stream",
          "name": "stderr",
          "text": [
            "100%|███████████████████████████| 10/10 [00:00<00:00, 125.63it/s, accuracy=0.62]\n"
          ]
        },
        {
          "output_type": "stream",
          "name": "stdout",
          "text": [
            "n_shots=1, Run=19, Accuracy: 61.95 %\n"
          ]
        },
        {
          "output_type": "stream",
          "name": "stderr",
          "text": [
            "100%|██████████████████████████| 10/10 [00:00<00:00, 121.75it/s, accuracy=0.693]\n"
          ]
        },
        {
          "output_type": "stream",
          "name": "stdout",
          "text": [
            "n_shots=2, Run=19, Accuracy: 69.25 %\n"
          ]
        },
        {
          "output_type": "stream",
          "name": "stderr",
          "text": [
            "100%|██████████████████████████| 10/10 [00:00<00:00, 124.71it/s, accuracy=0.679]\n"
          ]
        },
        {
          "output_type": "stream",
          "name": "stdout",
          "text": [
            "n_shots=3, Run=19, Accuracy: 67.90 %\n"
          ]
        },
        {
          "output_type": "stream",
          "name": "stderr",
          "text": [
            "100%|██████████████████████████| 10/10 [00:00<00:00, 119.70it/s, accuracy=0.704]\n"
          ]
        },
        {
          "output_type": "stream",
          "name": "stdout",
          "text": [
            "n_shots=4, Run=19, Accuracy: 70.40 %\n"
          ]
        },
        {
          "output_type": "stream",
          "name": "stderr",
          "text": [
            "100%|██████████████████████████| 10/10 [00:00<00:00, 124.09it/s, accuracy=0.721]\n"
          ]
        },
        {
          "output_type": "stream",
          "name": "stdout",
          "text": [
            "n_shots=5, Run=19, Accuracy: 72.05 %\n"
          ]
        },
        {
          "output_type": "stream",
          "name": "stderr",
          "text": [
            "100%|██████████████████████████| 10/10 [00:00<00:00, 129.54it/s, accuracy=0.717]\n"
          ]
        },
        {
          "output_type": "stream",
          "name": "stdout",
          "text": [
            "n_shots=6, Run=19, Accuracy: 71.70 %\n"
          ]
        },
        {
          "output_type": "stream",
          "name": "stderr",
          "text": [
            "100%|██████████████████████████| 10/10 [00:00<00:00, 123.53it/s, accuracy=0.796]\n"
          ]
        },
        {
          "output_type": "stream",
          "name": "stdout",
          "text": [
            "n_shots=8, Run=19, Accuracy: 79.65 %\n"
          ]
        },
        {
          "output_type": "stream",
          "name": "stderr",
          "text": [
            "100%|██████████████████████████| 10/10 [00:00<00:00, 118.86it/s, accuracy=0.768]\n"
          ]
        },
        {
          "output_type": "stream",
          "name": "stdout",
          "text": [
            "n_shots=10, Run=19, Accuracy: 76.85 %\n"
          ]
        },
        {
          "output_type": "stream",
          "name": "stderr",
          "text": [
            "100%|██████████████████████████| 10/10 [00:00<00:00, 116.82it/s, accuracy=0.791]\n"
          ]
        },
        {
          "output_type": "stream",
          "name": "stdout",
          "text": [
            "n_shots=12, Run=19, Accuracy: 79.15 %\n"
          ]
        },
        {
          "output_type": "stream",
          "name": "stderr",
          "text": [
            "100%|██████████████████████████| 10/10 [00:00<00:00, 125.27it/s, accuracy=0.794]\n"
          ]
        },
        {
          "output_type": "stream",
          "name": "stdout",
          "text": [
            "n_shots=16, Run=19, Accuracy: 79.40 %\n"
          ]
        },
        {
          "output_type": "stream",
          "name": "stderr",
          "text": [
            "100%|██████████████████████████| 10/10 [00:00<00:00, 124.76it/s, accuracy=0.805]\n"
          ]
        },
        {
          "output_type": "stream",
          "name": "stdout",
          "text": [
            "n_shots=24, Run=19, Accuracy: 80.50 %\n"
          ]
        },
        {
          "output_type": "stream",
          "name": "stderr",
          "text": [
            "100%|██████████████████████████| 10/10 [00:00<00:00, 113.25it/s, accuracy=0.786]\n"
          ]
        },
        {
          "output_type": "stream",
          "name": "stdout",
          "text": [
            "n_shots=32, Run=19, Accuracy: 78.65 %\n"
          ]
        },
        {
          "output_type": "stream",
          "name": "stderr",
          "text": [
            "100%|██████████████████████████| 10/10 [00:00<00:00, 118.06it/s, accuracy=0.601]\n"
          ]
        },
        {
          "output_type": "stream",
          "name": "stdout",
          "text": [
            "n_shots=1, Run=20, Accuracy: 60.10 %\n"
          ]
        },
        {
          "output_type": "stream",
          "name": "stderr",
          "text": [
            "100%|██████████████████████████| 10/10 [00:00<00:00, 117.02it/s, accuracy=0.698]\n"
          ]
        },
        {
          "output_type": "stream",
          "name": "stdout",
          "text": [
            "n_shots=2, Run=20, Accuracy: 69.75 %\n"
          ]
        },
        {
          "output_type": "stream",
          "name": "stderr",
          "text": [
            "100%|██████████████████████████| 10/10 [00:00<00:00, 125.18it/s, accuracy=0.666]\n"
          ]
        },
        {
          "output_type": "stream",
          "name": "stdout",
          "text": [
            "n_shots=3, Run=20, Accuracy: 66.65 %\n"
          ]
        },
        {
          "output_type": "stream",
          "name": "stderr",
          "text": [
            "100%|██████████████████████████| 10/10 [00:00<00:00, 124.00it/s, accuracy=0.712]\n"
          ]
        },
        {
          "output_type": "stream",
          "name": "stdout",
          "text": [
            "n_shots=4, Run=20, Accuracy: 71.20 %\n"
          ]
        },
        {
          "output_type": "stream",
          "name": "stderr",
          "text": [
            "100%|██████████████████████████| 10/10 [00:00<00:00, 124.10it/s, accuracy=0.691]\n"
          ]
        },
        {
          "output_type": "stream",
          "name": "stdout",
          "text": [
            "n_shots=5, Run=20, Accuracy: 69.05 %\n"
          ]
        },
        {
          "output_type": "stream",
          "name": "stderr",
          "text": [
            "100%|██████████████████████████| 10/10 [00:00<00:00, 127.36it/s, accuracy=0.703]\n"
          ]
        },
        {
          "output_type": "stream",
          "name": "stdout",
          "text": [
            "n_shots=6, Run=20, Accuracy: 70.30 %\n"
          ]
        },
        {
          "output_type": "stream",
          "name": "stderr",
          "text": [
            "100%|██████████████████████████| 10/10 [00:00<00:00, 127.09it/s, accuracy=0.758]\n"
          ]
        },
        {
          "output_type": "stream",
          "name": "stdout",
          "text": [
            "n_shots=8, Run=20, Accuracy: 75.85 %\n"
          ]
        },
        {
          "output_type": "stream",
          "name": "stderr",
          "text": [
            "100%|██████████████████████████| 10/10 [00:00<00:00, 127.76it/s, accuracy=0.736]\n"
          ]
        },
        {
          "output_type": "stream",
          "name": "stdout",
          "text": [
            "n_shots=10, Run=20, Accuracy: 73.60 %\n"
          ]
        },
        {
          "output_type": "stream",
          "name": "stderr",
          "text": [
            "100%|██████████████████████████| 10/10 [00:00<00:00, 122.67it/s, accuracy=0.754]\n"
          ]
        },
        {
          "output_type": "stream",
          "name": "stdout",
          "text": [
            "n_shots=12, Run=20, Accuracy: 75.40 %\n"
          ]
        },
        {
          "output_type": "stream",
          "name": "stderr",
          "text": [
            "100%|████████████████████████████| 10/10 [00:00<00:00, 125.56it/s, accuracy=0.8]\n"
          ]
        },
        {
          "output_type": "stream",
          "name": "stdout",
          "text": [
            "n_shots=16, Run=20, Accuracy: 80.05 %\n"
          ]
        },
        {
          "output_type": "stream",
          "name": "stderr",
          "text": [
            "100%|██████████████████████████| 10/10 [00:00<00:00, 121.97it/s, accuracy=0.816]\n"
          ]
        },
        {
          "output_type": "stream",
          "name": "stdout",
          "text": [
            "n_shots=24, Run=20, Accuracy: 81.55 %\n"
          ]
        },
        {
          "output_type": "stream",
          "name": "stderr",
          "text": [
            "100%|██████████████████████████| 10/10 [00:00<00:00, 121.02it/s, accuracy=0.808]\n"
          ]
        },
        {
          "output_type": "stream",
          "name": "stdout",
          "text": [
            "n_shots=32, Run=20, Accuracy: 80.80 %\n"
          ]
        }
      ],
      "source": [
        "output_directory_p = Path(\"/home/rakib/models/paper_benchmarking_ssl_diverse_pathology/inference/pcam/pcam_test/bt/2\")\n",
        "#data_to_test = \"/home/rakib/data/TIGER\"\n",
        "data_to_test = Path(\"/home/rakib/data/pcamv1/pcam_test/\")\n",
        "\n",
        "testset = torchvision.datasets.ImageFolder(data_to_test, transform=transform)\n",
        "\n",
        "classes = testset.classes\n",
        "\n",
        "print(classes)\n",
        "dataloader = DataLoader(testset, batch_size=128, shuffle=False, drop_last=False)\n",
        "p_emb_df = predict_embeddings(dataloader, model, device=device)\n",
        "p_emb_dataset = FeaturesDataset.from_dataframe(p_emb_df)\n",
        "p_results_df = evaluate_few_shot_model(p_emb_dataset, model, device=device, n_way=2)\n",
        "p_results_df.sort_values([\"n_shots\", \"accuracy\"])\n",
        "\n",
        "mean_accuracies_p = p_results_df.groupby(\"n_shots\")[\"accuracy\"].mean().reset_index()\n",
        "mean_accuracies_p.rename(columns={\"accuracy\": \"mean\"}, inplace=True)\n",
        "std_accuracies_p = p_results_df.groupby(\"n_shots\")[\"accuracy\"].std().reset_index()\n",
        "std_accuracies_p.rename(columns={\"accuracy\": \"std\"}, inplace=True)\n",
        "# Merge the two DataFrames based on the 'n_shots' column\n",
        "merged_df_p = pd.merge(mean_accuracies_p, std_accuracies_p, on=\"n_shots\")\n",
        "\n",
        "# Save the average accuracy information in a separate CSV file\n",
        "acc_csv_filename = \"2way_average_accuracy_pcam-test_bt.csv\"\n",
        "merged_df_p.to_csv(os.path.join(output_directory_p, acc_csv_filename), index=False)"
      ]
    },
    {
      "cell_type": "code",
      "execution_count": null,
      "metadata": {
        "colab": {
          "base_uri": "https://localhost:8080/",
          "height": 624
        },
        "id": "_mzw6sVuEhMl",
        "outputId": "ae8237a0-f233-47d9-f0f2-bf02943404d0"
      },
      "outputs": [
        {
          "output_type": "display_data",
          "data": {
            "text/plain": [
              "<Figure size 1000x600 with 1 Axes>"
            ],
            "image/png": "[encoded data removed]"
          },
          "metadata": {}
        },
        {
          "output_type": "stream",
          "name": "stdout",
          "text": [
            "yeah!\n"
          ]
        }
      ],
      "source": [
        "# Extract n_shots and avg_accuracy columns\n",
        "shots = merged_df_k['n_shots']\n",
        "avg_acc = merged_df_k['mean']\n",
        "std_acc = merged_df_k['std']\n",
        "\n",
        "avg_acc2 = merged_df_nct['mean']\n",
        "std_acc2 = merged_df_nct['std']\n",
        "\n",
        "avg_acc3 = merged_df_p['mean']\n",
        "std_acc3 = merged_df_p['std']\n",
        "\n",
        "avg_acc4 = merged_df_t2['mean']\n",
        "std_acc4 = merged_df_t2['std']\n",
        "\n",
        "# Create the plot\n",
        "plt.figure(figsize=(10, 6))\n",
        "plt.errorbar(shots, avg_acc, yerr=std_acc, fmt='-o', color='g', label='3way kather')\n",
        "plt.errorbar(shots, avg_acc2, yerr=std_acc2, fmt='-o', color='b', label='3way nct-7k')\n",
        "plt.errorbar(shots, avg_acc3, yerr=std_acc3, fmt='-o', color='r', label='2way pcam-test')\n",
        "plt.errorbar(shots, avg_acc4, yerr=std_acc4, fmt='-o', color='k', label='3way tiger-c2')\n",
        "plt.title('Barlow-Twins Average Accuracy with Std Deviation')\n",
        "plt.xlabel('n_shots')\n",
        "plt.ylabel('Average Accuracy')\n",
        "plt.grid(True)\n",
        "plt.xticks(shots)\n",
        "plt.legend()\n",
        "plt.tight_layout()\n",
        "plot_filename = \"barlow-twins_few-shot_inference.png\"\n",
        "plt.savefig(os.path.join(output_directory_k, plot_filename), dpi=600, format='png')\n",
        "\n",
        "# Show the plot\n",
        "plt.show()\n",
        "print(\"yeah!\")"
      ]
    },
    {
      "cell_type": "code",
      "execution_count": null,
      "metadata": {
        "id": "3qsggQ58JusW",
        "colab": {
          "base_uri": "https://localhost:8080/"
        },
        "outputId": "413ae704-841a-4126-b1b7-46bbbdcf5943"
      },
      "outputs": [
        {
          "output_type": "stream",
          "name": "stdout",
          "text": [
            "['Norm', 'Tum']\n"
          ]
        },
        {
          "output_type": "stream",
          "name": "stderr",
          "text": [
            "Predicting embeddings: 100%|███████████████| 328/328 [00:34<00:00,  9.46batch/s]\n",
            "100%|███████████████████████████| 10/10 [00:00<00:00, 42.19it/s, accuracy=0.558]"
          ]
        },
        {
          "output_type": "stream",
          "name": "stdout",
          "text": [
            "n_shots=1, Run=1, Accuracy: 55.85 %\n"
          ]
        },
        {
          "output_type": "stream",
          "name": "stderr",
          "text": [
            "\n",
            "100%|██████████████████████████| 10/10 [00:00<00:00, 106.93it/s, accuracy=0.639]"
          ]
        },
        {
          "output_type": "stream",
          "name": "stdout",
          "text": [
            "n_shots=2, Run=1, Accuracy: 63.95 %\n"
          ]
        },
        {
          "output_type": "stream",
          "name": "stderr",
          "text": [
            "\n",
            "100%|██████████████████████████| 10/10 [00:00<00:00, 111.66it/s, accuracy=0.625]\n"
          ]
        },
        {
          "output_type": "stream",
          "name": "stdout",
          "text": [
            "n_shots=3, Run=1, Accuracy: 62.50 %\n"
          ]
        },
        {
          "output_type": "stream",
          "name": "stderr",
          "text": [
            "100%|██████████████████████████| 10/10 [00:00<00:00, 119.23it/s, accuracy=0.653]\n"
          ]
        },
        {
          "output_type": "stream",
          "name": "stdout",
          "text": [
            "n_shots=4, Run=1, Accuracy: 65.30 %\n"
          ]
        },
        {
          "output_type": "stream",
          "name": "stderr",
          "text": [
            "100%|██████████████████████████| 10/10 [00:00<00:00, 117.56it/s, accuracy=0.707]\n"
          ]
        },
        {
          "output_type": "stream",
          "name": "stdout",
          "text": [
            "n_shots=5, Run=1, Accuracy: 70.65 %\n"
          ]
        },
        {
          "output_type": "stream",
          "name": "stderr",
          "text": [
            "100%|██████████████████████████| 10/10 [00:00<00:00, 116.81it/s, accuracy=0.663]\n"
          ]
        },
        {
          "output_type": "stream",
          "name": "stdout",
          "text": [
            "n_shots=6, Run=1, Accuracy: 66.35 %\n"
          ]
        },
        {
          "output_type": "stream",
          "name": "stderr",
          "text": [
            "100%|██████████████████████████| 10/10 [00:00<00:00, 112.12it/s, accuracy=0.706]\n"
          ]
        },
        {
          "output_type": "stream",
          "name": "stdout",
          "text": [
            "n_shots=8, Run=1, Accuracy: 70.60 %\n"
          ]
        },
        {
          "output_type": "stream",
          "name": "stderr",
          "text": [
            "100%|███████████████████████████| 10/10 [00:00<00:00, 119.03it/s, accuracy=0.73]\n"
          ]
        },
        {
          "output_type": "stream",
          "name": "stdout",
          "text": [
            "n_shots=10, Run=1, Accuracy: 72.95 %\n"
          ]
        },
        {
          "output_type": "stream",
          "name": "stderr",
          "text": [
            "100%|██████████████████████████| 10/10 [00:00<00:00, 118.35it/s, accuracy=0.735]\n"
          ]
        },
        {
          "output_type": "stream",
          "name": "stdout",
          "text": [
            "n_shots=12, Run=1, Accuracy: 73.50 %\n"
          ]
        },
        {
          "output_type": "stream",
          "name": "stderr",
          "text": [
            "100%|██████████████████████████| 10/10 [00:00<00:00, 119.12it/s, accuracy=0.738]\n"
          ]
        },
        {
          "output_type": "stream",
          "name": "stdout",
          "text": [
            "n_shots=16, Run=1, Accuracy: 73.75 %\n"
          ]
        },
        {
          "output_type": "stream",
          "name": "stderr",
          "text": [
            "100%|███████████████████████████| 10/10 [00:00<00:00, 122.34it/s, accuracy=0.78]\n"
          ]
        },
        {
          "output_type": "stream",
          "name": "stdout",
          "text": [
            "n_shots=24, Run=1, Accuracy: 78.05 %\n"
          ]
        },
        {
          "output_type": "stream",
          "name": "stderr",
          "text": [
            "100%|██████████████████████████| 10/10 [00:00<00:00, 108.91it/s, accuracy=0.757]\n"
          ]
        },
        {
          "output_type": "stream",
          "name": "stdout",
          "text": [
            "n_shots=32, Run=1, Accuracy: 75.75 %\n"
          ]
        },
        {
          "output_type": "stream",
          "name": "stderr",
          "text": [
            "100%|███████████████████████████| 10/10 [00:00<00:00, 117.32it/s, accuracy=0.56]\n"
          ]
        },
        {
          "output_type": "stream",
          "name": "stdout",
          "text": [
            "n_shots=1, Run=2, Accuracy: 56.05 %\n"
          ]
        },
        {
          "output_type": "stream",
          "name": "stderr",
          "text": [
            "100%|██████████████████████████| 10/10 [00:00<00:00, 120.87it/s, accuracy=0.598]\n"
          ]
        },
        {
          "output_type": "stream",
          "name": "stdout",
          "text": [
            "n_shots=2, Run=2, Accuracy: 59.80 %\n"
          ]
        },
        {
          "output_type": "stream",
          "name": "stderr",
          "text": [
            "100%|██████████████████████████| 10/10 [00:00<00:00, 118.06it/s, accuracy=0.632]\n"
          ]
        },
        {
          "output_type": "stream",
          "name": "stdout",
          "text": [
            "n_shots=3, Run=2, Accuracy: 63.20 %\n"
          ]
        },
        {
          "output_type": "stream",
          "name": "stderr",
          "text": [
            "100%|██████████████████████████| 10/10 [00:00<00:00, 119.78it/s, accuracy=0.689]\n"
          ]
        },
        {
          "output_type": "stream",
          "name": "stdout",
          "text": [
            "n_shots=4, Run=2, Accuracy: 68.85 %\n"
          ]
        },
        {
          "output_type": "stream",
          "name": "stderr",
          "text": [
            "100%|██████████████████████████| 10/10 [00:00<00:00, 109.02it/s, accuracy=0.671]\n"
          ]
        },
        {
          "output_type": "stream",
          "name": "stdout",
          "text": [
            "n_shots=5, Run=2, Accuracy: 67.15 %\n"
          ]
        },
        {
          "output_type": "stream",
          "name": "stderr",
          "text": [
            "100%|██████████████████████████| 10/10 [00:00<00:00, 110.63it/s, accuracy=0.729]"
          ]
        },
        {
          "output_type": "stream",
          "name": "stdout",
          "text": [
            "n_shots=6, Run=2, Accuracy: 72.90 %\n"
          ]
        },
        {
          "output_type": "stream",
          "name": "stderr",
          "text": [
            "\n",
            "100%|██████████████████████████| 10/10 [00:00<00:00, 106.22it/s, accuracy=0.735]"
          ]
        },
        {
          "output_type": "stream",
          "name": "stdout",
          "text": [
            "n_shots=8, Run=2, Accuracy: 73.45 %\n"
          ]
        },
        {
          "output_type": "stream",
          "name": "stderr",
          "text": [
            "\n",
            "100%|██████████████████████████| 10/10 [00:00<00:00, 118.70it/s, accuracy=0.746]"
          ]
        },
        {
          "output_type": "stream",
          "name": "stdout",
          "text": [
            "n_shots=10, Run=2, Accuracy: 74.60 %\n"
          ]
        },
        {
          "output_type": "stream",
          "name": "stderr",
          "text": [
            "\n",
            "100%|██████████████████████████| 10/10 [00:00<00:00, 119.79it/s, accuracy=0.724]\n"
          ]
        },
        {
          "output_type": "stream",
          "name": "stdout",
          "text": [
            "n_shots=12, Run=2, Accuracy: 72.35 %\n"
          ]
        },
        {
          "output_type": "stream",
          "name": "stderr",
          "text": [
            "100%|██████████████████████████| 10/10 [00:00<00:00, 117.80it/s, accuracy=0.771]\n"
          ]
        },
        {
          "output_type": "stream",
          "name": "stdout",
          "text": [
            "n_shots=16, Run=2, Accuracy: 77.15 %\n"
          ]
        },
        {
          "output_type": "stream",
          "name": "stderr",
          "text": [
            "100%|███████████████████████████| 10/10 [00:00<00:00, 118.78it/s, accuracy=0.77]\n"
          ]
        },
        {
          "output_type": "stream",
          "name": "stdout",
          "text": [
            "n_shots=24, Run=2, Accuracy: 77.05 %\n"
          ]
        },
        {
          "output_type": "stream",
          "name": "stderr",
          "text": [
            "100%|███████████████████████████| 10/10 [00:00<00:00, 117.27it/s, accuracy=0.78]\n"
          ]
        },
        {
          "output_type": "stream",
          "name": "stdout",
          "text": [
            "n_shots=32, Run=2, Accuracy: 78.00 %\n"
          ]
        },
        {
          "output_type": "stream",
          "name": "stderr",
          "text": [
            "100%|██████████████████████████| 10/10 [00:00<00:00, 115.58it/s, accuracy=0.568]\n"
          ]
        },
        {
          "output_type": "stream",
          "name": "stdout",
          "text": [
            "n_shots=1, Run=3, Accuracy: 56.80 %\n"
          ]
        },
        {
          "output_type": "stream",
          "name": "stderr",
          "text": [
            "100%|██████████████████████████| 10/10 [00:00<00:00, 109.66it/s, accuracy=0.662]\n"
          ]
        },
        {
          "output_type": "stream",
          "name": "stdout",
          "text": [
            "n_shots=2, Run=3, Accuracy: 66.25 %\n"
          ]
        },
        {
          "output_type": "stream",
          "name": "stderr",
          "text": [
            "100%|██████████████████████████| 10/10 [00:00<00:00, 119.63it/s, accuracy=0.643]\n"
          ]
        },
        {
          "output_type": "stream",
          "name": "stdout",
          "text": [
            "n_shots=3, Run=3, Accuracy: 64.30 %\n"
          ]
        },
        {
          "output_type": "stream",
          "name": "stderr",
          "text": [
            "100%|██████████████████████████| 10/10 [00:00<00:00, 122.76it/s, accuracy=0.663]\n"
          ]
        },
        {
          "output_type": "stream",
          "name": "stdout",
          "text": [
            "n_shots=4, Run=3, Accuracy: 66.30 %\n"
          ]
        },
        {
          "output_type": "stream",
          "name": "stderr",
          "text": [
            "100%|██████████████████████████| 10/10 [00:00<00:00, 122.50it/s, accuracy=0.706]\n"
          ]
        },
        {
          "output_type": "stream",
          "name": "stdout",
          "text": [
            "n_shots=5, Run=3, Accuracy: 70.55 %\n"
          ]
        },
        {
          "output_type": "stream",
          "name": "stderr",
          "text": [
            "100%|████████████████████████████| 10/10 [00:00<00:00, 119.86it/s, accuracy=0.7]\n"
          ]
        },
        {
          "output_type": "stream",
          "name": "stdout",
          "text": [
            "n_shots=6, Run=3, Accuracy: 70.00 %\n"
          ]
        },
        {
          "output_type": "stream",
          "name": "stderr",
          "text": [
            "100%|██████████████████████████| 10/10 [00:00<00:00, 120.69it/s, accuracy=0.696]\n"
          ]
        },
        {
          "output_type": "stream",
          "name": "stdout",
          "text": [
            "n_shots=8, Run=3, Accuracy: 69.60 %\n"
          ]
        },
        {
          "output_type": "stream",
          "name": "stderr",
          "text": [
            "100%|██████████████████████████| 10/10 [00:00<00:00, 118.87it/s, accuracy=0.751]\n"
          ]
        },
        {
          "output_type": "stream",
          "name": "stdout",
          "text": [
            "n_shots=10, Run=3, Accuracy: 75.15 %\n"
          ]
        },
        {
          "output_type": "stream",
          "name": "stderr",
          "text": [
            "100%|██████████████████████████| 10/10 [00:00<00:00, 118.15it/s, accuracy=0.747]\n"
          ]
        },
        {
          "output_type": "stream",
          "name": "stdout",
          "text": [
            "n_shots=12, Run=3, Accuracy: 74.70 %\n"
          ]
        },
        {
          "output_type": "stream",
          "name": "stderr",
          "text": [
            "100%|███████████████████████████| 10/10 [00:00<00:00, 117.49it/s, accuracy=0.74]\n"
          ]
        },
        {
          "output_type": "stream",
          "name": "stdout",
          "text": [
            "n_shots=16, Run=3, Accuracy: 73.95 %\n"
          ]
        },
        {
          "output_type": "stream",
          "name": "stderr",
          "text": [
            "100%|██████████████████████████| 10/10 [00:00<00:00, 117.91it/s, accuracy=0.759]\n"
          ]
        },
        {
          "output_type": "stream",
          "name": "stdout",
          "text": [
            "n_shots=24, Run=3, Accuracy: 75.95 %\n"
          ]
        },
        {
          "output_type": "stream",
          "name": "stderr",
          "text": [
            "100%|███████████████████████████| 10/10 [00:00<00:00, 120.25it/s, accuracy=0.76]\n"
          ]
        },
        {
          "output_type": "stream",
          "name": "stdout",
          "text": [
            "n_shots=32, Run=3, Accuracy: 76.05 %\n"
          ]
        },
        {
          "output_type": "stream",
          "name": "stderr",
          "text": [
            "100%|██████████████████████████| 10/10 [00:00<00:00, 116.12it/s, accuracy=0.566]\n"
          ]
        },
        {
          "output_type": "stream",
          "name": "stdout",
          "text": [
            "n_shots=1, Run=4, Accuracy: 56.55 %\n"
          ]
        },
        {
          "output_type": "stream",
          "name": "stderr",
          "text": [
            "100%|██████████████████████████| 10/10 [00:00<00:00, 119.52it/s, accuracy=0.611]\n"
          ]
        },
        {
          "output_type": "stream",
          "name": "stdout",
          "text": [
            "n_shots=2, Run=4, Accuracy: 61.10 %\n"
          ]
        },
        {
          "output_type": "stream",
          "name": "stderr",
          "text": [
            "100%|██████████████████████████| 10/10 [00:00<00:00, 122.24it/s, accuracy=0.679]\n"
          ]
        },
        {
          "output_type": "stream",
          "name": "stdout",
          "text": [
            "n_shots=3, Run=4, Accuracy: 67.90 %\n"
          ]
        },
        {
          "output_type": "stream",
          "name": "stderr",
          "text": [
            "100%|██████████████████████████| 10/10 [00:00<00:00, 122.65it/s, accuracy=0.722]\n"
          ]
        },
        {
          "output_type": "stream",
          "name": "stdout",
          "text": [
            "n_shots=4, Run=4, Accuracy: 72.20 %\n"
          ]
        },
        {
          "output_type": "stream",
          "name": "stderr",
          "text": [
            "100%|██████████████████████████| 10/10 [00:00<00:00, 123.07it/s, accuracy=0.691]\n"
          ]
        },
        {
          "output_type": "stream",
          "name": "stdout",
          "text": [
            "n_shots=5, Run=4, Accuracy: 69.05 %\n"
          ]
        },
        {
          "output_type": "stream",
          "name": "stderr",
          "text": [
            "100%|██████████████████████████| 10/10 [00:00<00:00, 122.95it/s, accuracy=0.741]\n"
          ]
        },
        {
          "output_type": "stream",
          "name": "stdout",
          "text": [
            "n_shots=6, Run=4, Accuracy: 74.05 %\n"
          ]
        },
        {
          "output_type": "stream",
          "name": "stderr",
          "text": [
            "100%|██████████████████████████| 10/10 [00:00<00:00, 116.68it/s, accuracy=0.707]\n"
          ]
        },
        {
          "output_type": "stream",
          "name": "stdout",
          "text": [
            "n_shots=8, Run=4, Accuracy: 70.70 %\n"
          ]
        },
        {
          "output_type": "stream",
          "name": "stderr",
          "text": [
            "100%|██████████████████████████| 10/10 [00:00<00:00, 109.05it/s, accuracy=0.749]"
          ]
        },
        {
          "output_type": "stream",
          "name": "stdout",
          "text": [
            "n_shots=10, Run=4, Accuracy: 74.90 %\n"
          ]
        },
        {
          "output_type": "stream",
          "name": "stderr",
          "text": [
            "\n",
            "100%|██████████████████████████| 10/10 [00:00<00:00, 109.20it/s, accuracy=0.705]"
          ]
        },
        {
          "output_type": "stream",
          "name": "stdout",
          "text": [
            "n_shots=12, Run=4, Accuracy: 70.45 %\n"
          ]
        },
        {
          "output_type": "stream",
          "name": "stderr",
          "text": [
            "\n",
            "100%|██████████████████████████| 10/10 [00:00<00:00, 122.05it/s, accuracy=0.764]\n"
          ]
        },
        {
          "output_type": "stream",
          "name": "stdout",
          "text": [
            "n_shots=16, Run=4, Accuracy: 76.40 %\n"
          ]
        },
        {
          "output_type": "stream",
          "name": "stderr",
          "text": [
            "100%|██████████████████████████| 10/10 [00:00<00:00, 119.92it/s, accuracy=0.756]\n"
          ]
        },
        {
          "output_type": "stream",
          "name": "stdout",
          "text": [
            "n_shots=24, Run=4, Accuracy: 75.65 %\n"
          ]
        },
        {
          "output_type": "stream",
          "name": "stderr",
          "text": [
            "100%|██████████████████████████| 10/10 [00:00<00:00, 116.37it/s, accuracy=0.797]\n"
          ]
        },
        {
          "output_type": "stream",
          "name": "stdout",
          "text": [
            "n_shots=32, Run=4, Accuracy: 79.75 %\n"
          ]
        },
        {
          "output_type": "stream",
          "name": "stderr",
          "text": [
            "100%|██████████████████████████| 10/10 [00:00<00:00, 112.05it/s, accuracy=0.567]\n"
          ]
        },
        {
          "output_type": "stream",
          "name": "stdout",
          "text": [
            "n_shots=1, Run=5, Accuracy: 56.70 %\n"
          ]
        },
        {
          "output_type": "stream",
          "name": "stderr",
          "text": [
            "100%|██████████████████████████| 10/10 [00:00<00:00, 122.01it/s, accuracy=0.608]\n"
          ]
        },
        {
          "output_type": "stream",
          "name": "stdout",
          "text": [
            "n_shots=2, Run=5, Accuracy: 60.80 %\n"
          ]
        },
        {
          "output_type": "stream",
          "name": "stderr",
          "text": [
            "100%|██████████████████████████| 10/10 [00:00<00:00, 119.53it/s, accuracy=0.616]\n"
          ]
        },
        {
          "output_type": "stream",
          "name": "stdout",
          "text": [
            "n_shots=3, Run=5, Accuracy: 61.55 %\n"
          ]
        },
        {
          "output_type": "stream",
          "name": "stderr",
          "text": [
            "100%|██████████████████████████| 10/10 [00:00<00:00, 122.07it/s, accuracy=0.652]\n"
          ]
        },
        {
          "output_type": "stream",
          "name": "stdout",
          "text": [
            "n_shots=4, Run=5, Accuracy: 65.20 %\n"
          ]
        },
        {
          "output_type": "stream",
          "name": "stderr",
          "text": [
            "100%|██████████████████████████| 10/10 [00:00<00:00, 113.83it/s, accuracy=0.689]\n"
          ]
        },
        {
          "output_type": "stream",
          "name": "stdout",
          "text": [
            "n_shots=5, Run=5, Accuracy: 68.85 %\n"
          ]
        },
        {
          "output_type": "stream",
          "name": "stderr",
          "text": [
            "100%|██████████████████████████| 10/10 [00:00<00:00, 119.88it/s, accuracy=0.714]\n"
          ]
        },
        {
          "output_type": "stream",
          "name": "stdout",
          "text": [
            "n_shots=6, Run=5, Accuracy: 71.40 %\n"
          ]
        },
        {
          "output_type": "stream",
          "name": "stderr",
          "text": [
            "100%|██████████████████████████| 10/10 [00:00<00:00, 116.14it/s, accuracy=0.677]\n"
          ]
        },
        {
          "output_type": "stream",
          "name": "stdout",
          "text": [
            "n_shots=8, Run=5, Accuracy: 67.70 %\n"
          ]
        },
        {
          "output_type": "stream",
          "name": "stderr",
          "text": [
            "100%|███████████████████████████| 10/10 [00:00<00:00, 117.72it/s, accuracy=0.73]\n"
          ]
        },
        {
          "output_type": "stream",
          "name": "stdout",
          "text": [
            "n_shots=10, Run=5, Accuracy: 72.95 %\n"
          ]
        },
        {
          "output_type": "stream",
          "name": "stderr",
          "text": [
            "100%|██████████████████████████| 10/10 [00:00<00:00, 120.90it/s, accuracy=0.704]\n"
          ]
        },
        {
          "output_type": "stream",
          "name": "stdout",
          "text": [
            "n_shots=12, Run=5, Accuracy: 70.35 %\n"
          ]
        },
        {
          "output_type": "stream",
          "name": "stderr",
          "text": [
            "100%|██████████████████████████| 10/10 [00:00<00:00, 120.84it/s, accuracy=0.772]\n"
          ]
        },
        {
          "output_type": "stream",
          "name": "stdout",
          "text": [
            "n_shots=16, Run=5, Accuracy: 77.20 %\n"
          ]
        },
        {
          "output_type": "stream",
          "name": "stderr",
          "text": [
            "100%|██████████████████████████| 10/10 [00:00<00:00, 118.15it/s, accuracy=0.786]\n"
          ]
        },
        {
          "output_type": "stream",
          "name": "stdout",
          "text": [
            "n_shots=24, Run=5, Accuracy: 78.65 %\n"
          ]
        },
        {
          "output_type": "stream",
          "name": "stderr",
          "text": [
            "100%|██████████████████████████| 10/10 [00:00<00:00, 114.58it/s, accuracy=0.757]\n"
          ]
        },
        {
          "output_type": "stream",
          "name": "stdout",
          "text": [
            "n_shots=32, Run=5, Accuracy: 75.70 %\n"
          ]
        },
        {
          "output_type": "stream",
          "name": "stderr",
          "text": [
            "100%|██████████████████████████| 10/10 [00:00<00:00, 118.59it/s, accuracy=0.558]\n"
          ]
        },
        {
          "output_type": "stream",
          "name": "stdout",
          "text": [
            "n_shots=1, Run=6, Accuracy: 55.85 %\n"
          ]
        },
        {
          "output_type": "stream",
          "name": "stderr",
          "text": [
            "100%|██████████████████████████| 10/10 [00:00<00:00, 124.17it/s, accuracy=0.663]\n"
          ]
        },
        {
          "output_type": "stream",
          "name": "stdout",
          "text": [
            "n_shots=2, Run=6, Accuracy: 66.35 %\n"
          ]
        },
        {
          "output_type": "stream",
          "name": "stderr",
          "text": [
            "100%|██████████████████████████| 10/10 [00:00<00:00, 123.00it/s, accuracy=0.624]\n"
          ]
        },
        {
          "output_type": "stream",
          "name": "stdout",
          "text": [
            "n_shots=3, Run=6, Accuracy: 62.40 %\n"
          ]
        },
        {
          "output_type": "stream",
          "name": "stderr",
          "text": [
            "100%|██████████████████████████| 10/10 [00:00<00:00, 122.05it/s, accuracy=0.706]\n"
          ]
        },
        {
          "output_type": "stream",
          "name": "stdout",
          "text": [
            "n_shots=4, Run=6, Accuracy: 70.60 %\n"
          ]
        },
        {
          "output_type": "stream",
          "name": "stderr",
          "text": [
            "100%|███████████████████████████| 10/10 [00:00<00:00, 107.91it/s, accuracy=0.64]"
          ]
        },
        {
          "output_type": "stream",
          "name": "stdout",
          "text": [
            "n_shots=5, Run=6, Accuracy: 64.00 %\n"
          ]
        },
        {
          "output_type": "stream",
          "name": "stderr",
          "text": [
            "\n",
            "100%|██████████████████████████| 10/10 [00:00<00:00, 106.22it/s, accuracy=0.648]"
          ]
        },
        {
          "output_type": "stream",
          "name": "stdout",
          "text": [
            "n_shots=6, Run=6, Accuracy: 64.80 %\n"
          ]
        },
        {
          "output_type": "stream",
          "name": "stderr",
          "text": [
            "\n",
            "100%|██████████████████████████| 10/10 [00:00<00:00, 110.39it/s, accuracy=0.719]"
          ]
        },
        {
          "output_type": "stream",
          "name": "stdout",
          "text": [
            "n_shots=8, Run=6, Accuracy: 71.85 %\n"
          ]
        },
        {
          "output_type": "stream",
          "name": "stderr",
          "text": [
            "\n",
            "100%|██████████████████████████| 10/10 [00:00<00:00, 118.73it/s, accuracy=0.742]\n"
          ]
        },
        {
          "output_type": "stream",
          "name": "stdout",
          "text": [
            "n_shots=10, Run=6, Accuracy: 74.20 %\n"
          ]
        },
        {
          "output_type": "stream",
          "name": "stderr",
          "text": [
            "100%|███████████████████████████| 10/10 [00:00<00:00, 121.44it/s, accuracy=0.73]\n"
          ]
        },
        {
          "output_type": "stream",
          "name": "stdout",
          "text": [
            "n_shots=12, Run=6, Accuracy: 72.95 %\n"
          ]
        },
        {
          "output_type": "stream",
          "name": "stderr",
          "text": [
            "100%|██████████████████████████| 10/10 [00:00<00:00, 119.86it/s, accuracy=0.772]\n"
          ]
        },
        {
          "output_type": "stream",
          "name": "stdout",
          "text": [
            "n_shots=16, Run=6, Accuracy: 77.20 %\n"
          ]
        },
        {
          "output_type": "stream",
          "name": "stderr",
          "text": [
            "100%|███████████████████████████| 10/10 [00:00<00:00, 119.29it/s, accuracy=0.76]\n"
          ]
        },
        {
          "output_type": "stream",
          "name": "stdout",
          "text": [
            "n_shots=24, Run=6, Accuracy: 76.00 %\n"
          ]
        },
        {
          "output_type": "stream",
          "name": "stderr",
          "text": [
            "100%|██████████████████████████| 10/10 [00:00<00:00, 117.78it/s, accuracy=0.802]\n"
          ]
        },
        {
          "output_type": "stream",
          "name": "stdout",
          "text": [
            "n_shots=32, Run=6, Accuracy: 80.20 %\n"
          ]
        },
        {
          "output_type": "stream",
          "name": "stderr",
          "text": [
            "100%|██████████████████████████| 10/10 [00:00<00:00, 111.92it/s, accuracy=0.603]\n"
          ]
        },
        {
          "output_type": "stream",
          "name": "stdout",
          "text": [
            "n_shots=1, Run=7, Accuracy: 60.30 %\n"
          ]
        },
        {
          "output_type": "stream",
          "name": "stderr",
          "text": [
            "100%|██████████████████████████| 10/10 [00:00<00:00, 121.22it/s, accuracy=0.619]\n"
          ]
        },
        {
          "output_type": "stream",
          "name": "stdout",
          "text": [
            "n_shots=2, Run=7, Accuracy: 61.85 %\n"
          ]
        },
        {
          "output_type": "stream",
          "name": "stderr",
          "text": [
            "100%|██████████████████████████| 10/10 [00:00<00:00, 117.55it/s, accuracy=0.707]\n"
          ]
        },
        {
          "output_type": "stream",
          "name": "stdout",
          "text": [
            "n_shots=3, Run=7, Accuracy: 70.65 %\n"
          ]
        },
        {
          "output_type": "stream",
          "name": "stderr",
          "text": [
            "100%|██████████████████████████| 10/10 [00:00<00:00, 122.79it/s, accuracy=0.662]\n"
          ]
        },
        {
          "output_type": "stream",
          "name": "stdout",
          "text": [
            "n_shots=4, Run=7, Accuracy: 66.25 %\n"
          ]
        },
        {
          "output_type": "stream",
          "name": "stderr",
          "text": [
            "100%|██████████████████████████| 10/10 [00:00<00:00, 119.14it/s, accuracy=0.697]\n"
          ]
        },
        {
          "output_type": "stream",
          "name": "stdout",
          "text": [
            "n_shots=5, Run=7, Accuracy: 69.65 %\n"
          ]
        },
        {
          "output_type": "stream",
          "name": "stderr",
          "text": [
            "100%|██████████████████████████| 10/10 [00:00<00:00, 120.62it/s, accuracy=0.668]\n"
          ]
        },
        {
          "output_type": "stream",
          "name": "stdout",
          "text": [
            "n_shots=6, Run=7, Accuracy: 66.85 %\n"
          ]
        },
        {
          "output_type": "stream",
          "name": "stderr",
          "text": [
            "100%|██████████████████████████| 10/10 [00:00<00:00, 110.18it/s, accuracy=0.729]\n"
          ]
        },
        {
          "output_type": "stream",
          "name": "stdout",
          "text": [
            "n_shots=8, Run=7, Accuracy: 72.85 %\n"
          ]
        },
        {
          "output_type": "stream",
          "name": "stderr",
          "text": [
            "100%|████████████████████████████| 10/10 [00:00<00:00, 116.44it/s, accuracy=0.7]\n"
          ]
        },
        {
          "output_type": "stream",
          "name": "stdout",
          "text": [
            "n_shots=10, Run=7, Accuracy: 70.00 %\n"
          ]
        },
        {
          "output_type": "stream",
          "name": "stderr",
          "text": [
            "100%|██████████████████████████| 10/10 [00:00<00:00, 120.51it/s, accuracy=0.707]\n"
          ]
        },
        {
          "output_type": "stream",
          "name": "stdout",
          "text": [
            "n_shots=12, Run=7, Accuracy: 70.65 %\n"
          ]
        },
        {
          "output_type": "stream",
          "name": "stderr",
          "text": [
            "100%|███████████████████████████| 10/10 [00:00<00:00, 118.40it/s, accuracy=0.75]\n"
          ]
        },
        {
          "output_type": "stream",
          "name": "stdout",
          "text": [
            "n_shots=16, Run=7, Accuracy: 75.05 %\n"
          ]
        },
        {
          "output_type": "stream",
          "name": "stderr",
          "text": [
            "100%|██████████████████████████| 10/10 [00:00<00:00, 117.87it/s, accuracy=0.758]\n"
          ]
        },
        {
          "output_type": "stream",
          "name": "stdout",
          "text": [
            "n_shots=24, Run=7, Accuracy: 75.80 %\n"
          ]
        },
        {
          "output_type": "stream",
          "name": "stderr",
          "text": [
            "100%|██████████████████████████| 10/10 [00:00<00:00, 119.72it/s, accuracy=0.768]\n"
          ]
        },
        {
          "output_type": "stream",
          "name": "stdout",
          "text": [
            "n_shots=32, Run=7, Accuracy: 76.80 %\n"
          ]
        },
        {
          "output_type": "stream",
          "name": "stderr",
          "text": [
            "100%|██████████████████████████| 10/10 [00:00<00:00, 112.62it/s, accuracy=0.583]\n"
          ]
        },
        {
          "output_type": "stream",
          "name": "stdout",
          "text": [
            "n_shots=1, Run=8, Accuracy: 58.25 %\n"
          ]
        },
        {
          "output_type": "stream",
          "name": "stderr",
          "text": [
            "100%|██████████████████████████| 10/10 [00:00<00:00, 121.76it/s, accuracy=0.615]\n"
          ]
        },
        {
          "output_type": "stream",
          "name": "stdout",
          "text": [
            "n_shots=2, Run=8, Accuracy: 61.50 %\n"
          ]
        },
        {
          "output_type": "stream",
          "name": "stderr",
          "text": [
            "100%|██████████████████████████| 10/10 [00:00<00:00, 116.62it/s, accuracy=0.664]\n"
          ]
        },
        {
          "output_type": "stream",
          "name": "stdout",
          "text": [
            "n_shots=3, Run=8, Accuracy: 66.45 %\n"
          ]
        },
        {
          "output_type": "stream",
          "name": "stderr",
          "text": [
            "100%|███████████████████████████| 10/10 [00:00<00:00, 89.40it/s, accuracy=0.679]"
          ]
        },
        {
          "output_type": "stream",
          "name": "stdout",
          "text": [
            "n_shots=4, Run=8, Accuracy: 67.95 %\n"
          ]
        },
        {
          "output_type": "stream",
          "name": "stderr",
          "text": [
            "\n",
            "100%|██████████████████████████| 10/10 [00:00<00:00, 104.98it/s, accuracy=0.696]"
          ]
        },
        {
          "output_type": "stream",
          "name": "stdout",
          "text": [
            "n_shots=5, Run=8, Accuracy: 69.55 %\n"
          ]
        },
        {
          "output_type": "stream",
          "name": "stderr",
          "text": [
            "\n",
            "100%|██████████████████████████| 10/10 [00:00<00:00, 104.60it/s, accuracy=0.729]"
          ]
        },
        {
          "output_type": "stream",
          "name": "stdout",
          "text": [
            "n_shots=6, Run=8, Accuracy: 72.85 %\n"
          ]
        },
        {
          "output_type": "stream",
          "name": "stderr",
          "text": [
            "\n",
            "100%|██████████████████████████| 10/10 [00:00<00:00, 117.29it/s, accuracy=0.728]"
          ]
        },
        {
          "output_type": "stream",
          "name": "stdout",
          "text": [
            "n_shots=8, Run=8, Accuracy: 72.75 %\n"
          ]
        },
        {
          "output_type": "stream",
          "name": "stderr",
          "text": [
            "\n",
            "100%|██████████████████████████| 10/10 [00:00<00:00, 109.05it/s, accuracy=0.709]"
          ]
        },
        {
          "output_type": "stream",
          "name": "stdout",
          "text": [
            "n_shots=10, Run=8, Accuracy: 70.90 %\n"
          ]
        },
        {
          "output_type": "stream",
          "name": "stderr",
          "text": [
            "\n",
            "100%|██████████████████████████| 10/10 [00:00<00:00, 109.66it/s, accuracy=0.771]"
          ]
        },
        {
          "output_type": "stream",
          "name": "stdout",
          "text": [
            "n_shots=12, Run=8, Accuracy: 77.10 %\n"
          ]
        },
        {
          "output_type": "stream",
          "name": "stderr",
          "text": [
            "\n",
            "100%|██████████████████████████| 10/10 [00:00<00:00, 110.55it/s, accuracy=0.741]"
          ]
        },
        {
          "output_type": "stream",
          "name": "stdout",
          "text": [
            "n_shots=16, Run=8, Accuracy: 74.10 %\n"
          ]
        },
        {
          "output_type": "stream",
          "name": "stderr",
          "text": [
            "\n",
            "100%|███████████████████████████| 10/10 [00:00<00:00, 109.84it/s, accuracy=0.79]"
          ]
        },
        {
          "output_type": "stream",
          "name": "stdout",
          "text": [
            "n_shots=24, Run=8, Accuracy: 79.05 %\n"
          ]
        },
        {
          "output_type": "stream",
          "name": "stderr",
          "text": [
            "\n",
            "100%|██████████████████████████| 10/10 [00:00<00:00, 100.48it/s, accuracy=0.789]"
          ]
        },
        {
          "output_type": "stream",
          "name": "stdout",
          "text": [
            "n_shots=32, Run=8, Accuracy: 78.95 %\n"
          ]
        },
        {
          "output_type": "stream",
          "name": "stderr",
          "text": [
            "\n",
            "100%|███████████████████████████| 10/10 [00:00<00:00, 103.60it/s, accuracy=0.59]"
          ]
        },
        {
          "output_type": "stream",
          "name": "stdout",
          "text": [
            "n_shots=1, Run=9, Accuracy: 58.95 %\n"
          ]
        },
        {
          "output_type": "stream",
          "name": "stderr",
          "text": [
            "\n",
            "100%|██████████████████████████| 10/10 [00:00<00:00, 106.00it/s, accuracy=0.588]"
          ]
        },
        {
          "output_type": "stream",
          "name": "stdout",
          "text": [
            "n_shots=2, Run=9, Accuracy: 58.80 %\n"
          ]
        },
        {
          "output_type": "stream",
          "name": "stderr",
          "text": [
            "\n",
            "100%|██████████████████████████| 10/10 [00:00<00:00, 108.23it/s, accuracy=0.661]"
          ]
        },
        {
          "output_type": "stream",
          "name": "stdout",
          "text": [
            "n_shots=3, Run=9, Accuracy: 66.15 %\n"
          ]
        },
        {
          "output_type": "stream",
          "name": "stderr",
          "text": [
            "\n",
            "100%|██████████████████████████| 10/10 [00:00<00:00, 105.97it/s, accuracy=0.653]"
          ]
        },
        {
          "output_type": "stream",
          "name": "stdout",
          "text": [
            "n_shots=4, Run=9, Accuracy: 65.30 %\n"
          ]
        },
        {
          "output_type": "stream",
          "name": "stderr",
          "text": [
            "\n",
            "100%|██████████████████████████| 10/10 [00:00<00:00, 104.56it/s, accuracy=0.659]"
          ]
        },
        {
          "output_type": "stream",
          "name": "stdout",
          "text": [
            "n_shots=5, Run=9, Accuracy: 65.90 %\n"
          ]
        },
        {
          "output_type": "stream",
          "name": "stderr",
          "text": [
            "\n",
            "100%|██████████████████████████| 10/10 [00:00<00:00, 105.03it/s, accuracy=0.684]"
          ]
        },
        {
          "output_type": "stream",
          "name": "stdout",
          "text": [
            "n_shots=6, Run=9, Accuracy: 68.45 %\n"
          ]
        },
        {
          "output_type": "stream",
          "name": "stderr",
          "text": [
            "\n",
            "100%|███████████████████████████| 10/10 [00:00<00:00, 98.56it/s, accuracy=0.691]"
          ]
        },
        {
          "output_type": "stream",
          "name": "stdout",
          "text": [
            "n_shots=8, Run=9, Accuracy: 69.10 %\n"
          ]
        },
        {
          "output_type": "stream",
          "name": "stderr",
          "text": [
            "\n",
            "100%|██████████████████████████| 10/10 [00:00<00:00, 107.95it/s, accuracy=0.718]"
          ]
        },
        {
          "output_type": "stream",
          "name": "stdout",
          "text": [
            "n_shots=10, Run=9, Accuracy: 71.75 %\n"
          ]
        },
        {
          "output_type": "stream",
          "name": "stderr",
          "text": [
            "\n",
            "100%|██████████████████████████| 10/10 [00:00<00:00, 105.39it/s, accuracy=0.764]"
          ]
        },
        {
          "output_type": "stream",
          "name": "stdout",
          "text": [
            "n_shots=12, Run=9, Accuracy: 76.45 %\n"
          ]
        },
        {
          "output_type": "stream",
          "name": "stderr",
          "text": [
            "\n",
            "100%|██████████████████████████| 10/10 [00:00<00:00, 118.79it/s, accuracy=0.737]"
          ]
        },
        {
          "output_type": "stream",
          "name": "stdout",
          "text": [
            "n_shots=16, Run=9, Accuracy: 73.65 %\n"
          ]
        },
        {
          "output_type": "stream",
          "name": "stderr",
          "text": [
            "\n",
            "100%|██████████████████████████| 10/10 [00:00<00:00, 115.60it/s, accuracy=0.785]\n"
          ]
        },
        {
          "output_type": "stream",
          "name": "stdout",
          "text": [
            "n_shots=24, Run=9, Accuracy: 78.55 %\n"
          ]
        },
        {
          "output_type": "stream",
          "name": "stderr",
          "text": [
            "100%|██████████████████████████| 10/10 [00:00<00:00, 116.64it/s, accuracy=0.778]\n"
          ]
        },
        {
          "output_type": "stream",
          "name": "stdout",
          "text": [
            "n_shots=32, Run=9, Accuracy: 77.85 %\n"
          ]
        },
        {
          "output_type": "stream",
          "name": "stderr",
          "text": [
            "100%|██████████████████████████| 10/10 [00:00<00:00, 113.10it/s, accuracy=0.583]\n"
          ]
        },
        {
          "output_type": "stream",
          "name": "stdout",
          "text": [
            "n_shots=1, Run=10, Accuracy: 58.25 %\n"
          ]
        },
        {
          "output_type": "stream",
          "name": "stderr",
          "text": [
            "100%|██████████████████████████| 10/10 [00:00<00:00, 118.22it/s, accuracy=0.639]\n"
          ]
        },
        {
          "output_type": "stream",
          "name": "stdout",
          "text": [
            "n_shots=2, Run=10, Accuracy: 63.95 %\n"
          ]
        },
        {
          "output_type": "stream",
          "name": "stderr",
          "text": [
            "100%|██████████████████████████| 10/10 [00:00<00:00, 109.26it/s, accuracy=0.689]"
          ]
        },
        {
          "output_type": "stream",
          "name": "stdout",
          "text": [
            "n_shots=3, Run=10, Accuracy: 68.85 %\n"
          ]
        },
        {
          "output_type": "stream",
          "name": "stderr",
          "text": [
            "\n",
            "100%|██████████████████████████| 10/10 [00:00<00:00, 110.04it/s, accuracy=0.708]"
          ]
        },
        {
          "output_type": "stream",
          "name": "stdout",
          "text": [
            "n_shots=4, Run=10, Accuracy: 70.75 %\n"
          ]
        },
        {
          "output_type": "stream",
          "name": "stderr",
          "text": [
            "\n",
            "100%|██████████████████████████| 10/10 [00:00<00:00, 112.93it/s, accuracy=0.686]"
          ]
        },
        {
          "output_type": "stream",
          "name": "stdout",
          "text": [
            "n_shots=5, Run=10, Accuracy: 68.60 %\n"
          ]
        },
        {
          "output_type": "stream",
          "name": "stderr",
          "text": [
            "\n",
            "100%|██████████████████████████| 10/10 [00:00<00:00, 118.15it/s, accuracy=0.673]\n"
          ]
        },
        {
          "output_type": "stream",
          "name": "stdout",
          "text": [
            "n_shots=6, Run=10, Accuracy: 67.30 %\n"
          ]
        },
        {
          "output_type": "stream",
          "name": "stderr",
          "text": [
            "100%|██████████████████████████| 10/10 [00:00<00:00, 120.55it/s, accuracy=0.719]\n"
          ]
        },
        {
          "output_type": "stream",
          "name": "stdout",
          "text": [
            "n_shots=8, Run=10, Accuracy: 71.85 %\n"
          ]
        },
        {
          "output_type": "stream",
          "name": "stderr",
          "text": [
            "100%|██████████████████████████| 10/10 [00:00<00:00, 121.50it/s, accuracy=0.742]\n"
          ]
        },
        {
          "output_type": "stream",
          "name": "stdout",
          "text": [
            "n_shots=10, Run=10, Accuracy: 74.20 %\n"
          ]
        },
        {
          "output_type": "stream",
          "name": "stderr",
          "text": [
            "100%|██████████████████████████| 10/10 [00:00<00:00, 108.29it/s, accuracy=0.742]\n"
          ]
        },
        {
          "output_type": "stream",
          "name": "stdout",
          "text": [
            "n_shots=12, Run=10, Accuracy: 74.15 %\n"
          ]
        },
        {
          "output_type": "stream",
          "name": "stderr",
          "text": [
            "100%|██████████████████████████| 10/10 [00:00<00:00, 109.33it/s, accuracy=0.724]"
          ]
        },
        {
          "output_type": "stream",
          "name": "stdout",
          "text": [
            "n_shots=16, Run=10, Accuracy: 72.35 %\n"
          ]
        },
        {
          "output_type": "stream",
          "name": "stderr",
          "text": [
            "\n",
            "100%|███████████████████████████| 10/10 [00:00<00:00, 89.80it/s, accuracy=0.775]"
          ]
        },
        {
          "output_type": "stream",
          "name": "stdout",
          "text": [
            "n_shots=24, Run=10, Accuracy: 77.55 %\n"
          ]
        },
        {
          "output_type": "stream",
          "name": "stderr",
          "text": [
            "\n",
            "100%|██████████████████████████| 10/10 [00:00<00:00, 107.10it/s, accuracy=0.775]"
          ]
        },
        {
          "output_type": "stream",
          "name": "stdout",
          "text": [
            "n_shots=32, Run=10, Accuracy: 77.50 %\n"
          ]
        },
        {
          "output_type": "stream",
          "name": "stderr",
          "text": [
            "\n",
            "100%|███████████████████████████| 10/10 [00:00<00:00, 99.67it/s, accuracy=0.573]"
          ]
        },
        {
          "output_type": "stream",
          "name": "stdout",
          "text": [
            "n_shots=1, Run=11, Accuracy: 57.30 %\n"
          ]
        },
        {
          "output_type": "stream",
          "name": "stderr",
          "text": [
            "\n",
            "100%|██████████████████████████| 10/10 [00:00<00:00, 110.94it/s, accuracy=0.656]"
          ]
        },
        {
          "output_type": "stream",
          "name": "stdout",
          "text": [
            "n_shots=2, Run=11, Accuracy: 65.65 %\n"
          ]
        },
        {
          "output_type": "stream",
          "name": "stderr",
          "text": [
            "\n",
            "100%|██████████████████████████| 10/10 [00:00<00:00, 116.74it/s, accuracy=0.669]\n"
          ]
        },
        {
          "output_type": "stream",
          "name": "stdout",
          "text": [
            "n_shots=3, Run=11, Accuracy: 66.95 %\n"
          ]
        },
        {
          "output_type": "stream",
          "name": "stderr",
          "text": [
            "100%|██████████████████████████| 10/10 [00:00<00:00, 109.02it/s, accuracy=0.664]"
          ]
        },
        {
          "output_type": "stream",
          "name": "stdout",
          "text": [
            "n_shots=4, Run=11, Accuracy: 66.45 %\n"
          ]
        },
        {
          "output_type": "stream",
          "name": "stderr",
          "text": [
            "\n",
            "100%|██████████████████████████| 10/10 [00:00<00:00, 107.75it/s, accuracy=0.686]"
          ]
        },
        {
          "output_type": "stream",
          "name": "stdout",
          "text": [
            "n_shots=5, Run=11, Accuracy: 68.65 %\n"
          ]
        },
        {
          "output_type": "stream",
          "name": "stderr",
          "text": [
            "\n",
            "100%|██████████████████████████| 10/10 [00:00<00:00, 112.67it/s, accuracy=0.726]"
          ]
        },
        {
          "output_type": "stream",
          "name": "stdout",
          "text": [
            "n_shots=6, Run=11, Accuracy: 72.60 %\n"
          ]
        },
        {
          "output_type": "stream",
          "name": "stderr",
          "text": [
            "\n",
            "100%|██████████████████████████| 10/10 [00:00<00:00, 106.71it/s, accuracy=0.725]"
          ]
        },
        {
          "output_type": "stream",
          "name": "stdout",
          "text": [
            "n_shots=8, Run=11, Accuracy: 72.45 %\n"
          ]
        },
        {
          "output_type": "stream",
          "name": "stderr",
          "text": [
            "\n",
            "100%|██████████████████████████| 10/10 [00:00<00:00, 113.16it/s, accuracy=0.744]"
          ]
        },
        {
          "output_type": "stream",
          "name": "stdout",
          "text": [
            "n_shots=10, Run=11, Accuracy: 74.35 %\n"
          ]
        },
        {
          "output_type": "stream",
          "name": "stderr",
          "text": [
            "\n",
            "100%|██████████████████████████| 10/10 [00:00<00:00, 111.05it/s, accuracy=0.761]"
          ]
        },
        {
          "output_type": "stream",
          "name": "stdout",
          "text": [
            "n_shots=12, Run=11, Accuracy: 76.10 %\n"
          ]
        },
        {
          "output_type": "stream",
          "name": "stderr",
          "text": [
            "\n",
            "100%|██████████████████████████| 10/10 [00:00<00:00, 103.48it/s, accuracy=0.732]"
          ]
        },
        {
          "output_type": "stream",
          "name": "stdout",
          "text": [
            "n_shots=16, Run=11, Accuracy: 73.20 %\n"
          ]
        },
        {
          "output_type": "stream",
          "name": "stderr",
          "text": [
            "\n",
            "100%|██████████████████████████| 10/10 [00:00<00:00, 111.44it/s, accuracy=0.785]"
          ]
        },
        {
          "output_type": "stream",
          "name": "stdout",
          "text": [
            "n_shots=24, Run=11, Accuracy: 78.50 %\n"
          ]
        },
        {
          "output_type": "stream",
          "name": "stderr",
          "text": [
            "\n",
            "100%|███████████████████████████| 10/10 [00:00<00:00, 105.88it/s, accuracy=0.78]"
          ]
        },
        {
          "output_type": "stream",
          "name": "stdout",
          "text": [
            "n_shots=32, Run=11, Accuracy: 78.00 %\n"
          ]
        },
        {
          "output_type": "stream",
          "name": "stderr",
          "text": [
            "\n",
            "100%|██████████████████████████| 10/10 [00:00<00:00, 106.65it/s, accuracy=0.594]"
          ]
        },
        {
          "output_type": "stream",
          "name": "stdout",
          "text": [
            "n_shots=1, Run=12, Accuracy: 59.40 %\n"
          ]
        },
        {
          "output_type": "stream",
          "name": "stderr",
          "text": [
            "\n",
            "100%|██████████████████████████| 10/10 [00:00<00:00, 123.39it/s, accuracy=0.631]\n"
          ]
        },
        {
          "output_type": "stream",
          "name": "stdout",
          "text": [
            "n_shots=2, Run=12, Accuracy: 63.15 %\n"
          ]
        },
        {
          "output_type": "stream",
          "name": "stderr",
          "text": [
            "100%|██████████████████████████| 10/10 [00:00<00:00, 113.96it/s, accuracy=0.628]\n"
          ]
        },
        {
          "output_type": "stream",
          "name": "stdout",
          "text": [
            "n_shots=3, Run=12, Accuracy: 62.80 %\n"
          ]
        },
        {
          "output_type": "stream",
          "name": "stderr",
          "text": [
            "100%|██████████████████████████| 10/10 [00:00<00:00, 111.17it/s, accuracy=0.694]"
          ]
        },
        {
          "output_type": "stream",
          "name": "stdout",
          "text": [
            "n_shots=4, Run=12, Accuracy: 69.40 %\n"
          ]
        },
        {
          "output_type": "stream",
          "name": "stderr",
          "text": [
            "\n",
            "100%|██████████████████████████| 10/10 [00:00<00:00, 105.96it/s, accuracy=0.686]"
          ]
        },
        {
          "output_type": "stream",
          "name": "stdout",
          "text": [
            "n_shots=5, Run=12, Accuracy: 68.65 %\n"
          ]
        },
        {
          "output_type": "stream",
          "name": "stderr",
          "text": [
            "\n",
            "100%|██████████████████████████| 10/10 [00:00<00:00, 112.24it/s, accuracy=0.663]"
          ]
        },
        {
          "output_type": "stream",
          "name": "stdout",
          "text": [
            "n_shots=6, Run=12, Accuracy: 66.35 %\n"
          ]
        },
        {
          "output_type": "stream",
          "name": "stderr",
          "text": [
            "\n",
            "100%|██████████████████████████| 10/10 [00:00<00:00, 105.75it/s, accuracy=0.728]"
          ]
        },
        {
          "output_type": "stream",
          "name": "stdout",
          "text": [
            "n_shots=8, Run=12, Accuracy: 72.75 %\n"
          ]
        },
        {
          "output_type": "stream",
          "name": "stderr",
          "text": [
            "\n",
            "100%|███████████████████████████| 10/10 [00:00<00:00, 103.84it/s, accuracy=0.76]"
          ]
        },
        {
          "output_type": "stream",
          "name": "stdout",
          "text": [
            "n_shots=10, Run=12, Accuracy: 76.05 %\n"
          ]
        },
        {
          "output_type": "stream",
          "name": "stderr",
          "text": [
            "\n",
            "100%|██████████████████████████| 10/10 [00:00<00:00, 113.19it/s, accuracy=0.752]"
          ]
        },
        {
          "output_type": "stream",
          "name": "stdout",
          "text": [
            "n_shots=12, Run=12, Accuracy: 75.25 %\n"
          ]
        },
        {
          "output_type": "stream",
          "name": "stderr",
          "text": [
            "\n",
            "100%|██████████████████████████| 10/10 [00:00<00:00, 106.37it/s, accuracy=0.761]"
          ]
        },
        {
          "output_type": "stream",
          "name": "stdout",
          "text": [
            "n_shots=16, Run=12, Accuracy: 76.15 %\n"
          ]
        },
        {
          "output_type": "stream",
          "name": "stderr",
          "text": [
            "\n",
            "100%|██████████████████████████| 10/10 [00:00<00:00, 108.19it/s, accuracy=0.777]"
          ]
        },
        {
          "output_type": "stream",
          "name": "stdout",
          "text": [
            "n_shots=24, Run=12, Accuracy: 77.70 %\n"
          ]
        },
        {
          "output_type": "stream",
          "name": "stderr",
          "text": [
            "\n",
            "100%|██████████████████████████| 10/10 [00:00<00:00, 102.86it/s, accuracy=0.783]"
          ]
        },
        {
          "output_type": "stream",
          "name": "stdout",
          "text": [
            "n_shots=32, Run=12, Accuracy: 78.30 %\n"
          ]
        },
        {
          "output_type": "stream",
          "name": "stderr",
          "text": [
            "\n",
            "100%|███████████████████████████| 10/10 [00:00<00:00, 98.72it/s, accuracy=0.586]"
          ]
        },
        {
          "output_type": "stream",
          "name": "stdout",
          "text": [
            "n_shots=1, Run=13, Accuracy: 58.60 %\n"
          ]
        },
        {
          "output_type": "stream",
          "name": "stderr",
          "text": [
            "\n",
            "100%|██████████████████████████| 10/10 [00:00<00:00, 121.43it/s, accuracy=0.631]\n"
          ]
        },
        {
          "output_type": "stream",
          "name": "stdout",
          "text": [
            "n_shots=2, Run=13, Accuracy: 63.10 %\n"
          ]
        },
        {
          "output_type": "stream",
          "name": "stderr",
          "text": [
            "100%|██████████████████████████| 10/10 [00:00<00:00, 116.19it/s, accuracy=0.666]\n"
          ]
        },
        {
          "output_type": "stream",
          "name": "stdout",
          "text": [
            "n_shots=3, Run=13, Accuracy: 66.65 %\n"
          ]
        },
        {
          "output_type": "stream",
          "name": "stderr",
          "text": [
            "100%|██████████████████████████| 10/10 [00:00<00:00, 115.96it/s, accuracy=0.662]"
          ]
        },
        {
          "output_type": "stream",
          "name": "stdout",
          "text": [
            "n_shots=4, Run=13, Accuracy: 66.20 %\n"
          ]
        },
        {
          "output_type": "stream",
          "name": "stderr",
          "text": [
            "\n",
            "100%|███████████████████████████| 10/10 [00:00<00:00, 111.91it/s, accuracy=0.67]\n"
          ]
        },
        {
          "output_type": "stream",
          "name": "stdout",
          "text": [
            "n_shots=5, Run=13, Accuracy: 67.05 %\n"
          ]
        },
        {
          "output_type": "stream",
          "name": "stderr",
          "text": [
            "100%|██████████████████████████| 10/10 [00:00<00:00, 114.93it/s, accuracy=0.731]\n"
          ]
        },
        {
          "output_type": "stream",
          "name": "stdout",
          "text": [
            "n_shots=6, Run=13, Accuracy: 73.10 %\n"
          ]
        },
        {
          "output_type": "stream",
          "name": "stderr",
          "text": [
            "100%|██████████████████████████| 10/10 [00:00<00:00, 108.96it/s, accuracy=0.682]\n"
          ]
        },
        {
          "output_type": "stream",
          "name": "stdout",
          "text": [
            "n_shots=8, Run=13, Accuracy: 68.25 %\n"
          ]
        },
        {
          "output_type": "stream",
          "name": "stderr",
          "text": [
            "100%|██████████████████████████| 10/10 [00:00<00:00, 114.89it/s, accuracy=0.738]"
          ]
        },
        {
          "output_type": "stream",
          "name": "stdout",
          "text": [
            "n_shots=10, Run=13, Accuracy: 73.75 %\n"
          ]
        },
        {
          "output_type": "stream",
          "name": "stderr",
          "text": [
            "\n",
            "100%|██████████████████████████| 10/10 [00:00<00:00, 116.23it/s, accuracy=0.738]"
          ]
        },
        {
          "output_type": "stream",
          "name": "stdout",
          "text": [
            "n_shots=12, Run=13, Accuracy: 73.75 %\n"
          ]
        },
        {
          "output_type": "stream",
          "name": "stderr",
          "text": [
            "\n",
            "100%|██████████████████████████| 10/10 [00:00<00:00, 113.98it/s, accuracy=0.774]\n"
          ]
        },
        {
          "output_type": "stream",
          "name": "stdout",
          "text": [
            "n_shots=16, Run=13, Accuracy: 77.40 %\n"
          ]
        },
        {
          "output_type": "stream",
          "name": "stderr",
          "text": [
            "100%|██████████████████████████| 10/10 [00:00<00:00, 107.30it/s, accuracy=0.754]"
          ]
        },
        {
          "output_type": "stream",
          "name": "stdout",
          "text": [
            "n_shots=24, Run=13, Accuracy: 75.45 %\n"
          ]
        },
        {
          "output_type": "stream",
          "name": "stderr",
          "text": [
            "\n",
            "100%|██████████████████████████| 10/10 [00:00<00:00, 110.43it/s, accuracy=0.774]"
          ]
        },
        {
          "output_type": "stream",
          "name": "stdout",
          "text": [
            "n_shots=32, Run=13, Accuracy: 77.45 %\n"
          ]
        },
        {
          "output_type": "stream",
          "name": "stderr",
          "text": [
            "\n",
            "100%|███████████████████████████| 10/10 [00:00<00:00, 115.63it/s, accuracy=0.53]\n"
          ]
        },
        {
          "output_type": "stream",
          "name": "stdout",
          "text": [
            "n_shots=1, Run=14, Accuracy: 53.00 %\n"
          ]
        },
        {
          "output_type": "stream",
          "name": "stderr",
          "text": [
            "100%|██████████████████████████| 10/10 [00:00<00:00, 107.07it/s, accuracy=0.554]"
          ]
        },
        {
          "output_type": "stream",
          "name": "stdout",
          "text": [
            "n_shots=2, Run=14, Accuracy: 55.45 %\n"
          ]
        },
        {
          "output_type": "stream",
          "name": "stderr",
          "text": [
            "\n",
            "100%|███████████████████████████| 10/10 [00:00<00:00, 111.81it/s, accuracy=0.64]"
          ]
        },
        {
          "output_type": "stream",
          "name": "stdout",
          "text": [
            "n_shots=3, Run=14, Accuracy: 64.05 %\n"
          ]
        },
        {
          "output_type": "stream",
          "name": "stderr",
          "text": [
            "\n",
            "100%|██████████████████████████| 10/10 [00:00<00:00, 121.25it/s, accuracy=0.683]\n"
          ]
        },
        {
          "output_type": "stream",
          "name": "stdout",
          "text": [
            "n_shots=4, Run=14, Accuracy: 68.30 %\n"
          ]
        },
        {
          "output_type": "stream",
          "name": "stderr",
          "text": [
            "100%|██████████████████████████| 10/10 [00:00<00:00, 118.04it/s, accuracy=0.671]\n"
          ]
        },
        {
          "output_type": "stream",
          "name": "stdout",
          "text": [
            "n_shots=5, Run=14, Accuracy: 67.10 %\n"
          ]
        },
        {
          "output_type": "stream",
          "name": "stderr",
          "text": [
            "100%|██████████████████████████| 10/10 [00:00<00:00, 121.87it/s, accuracy=0.686]\n"
          ]
        },
        {
          "output_type": "stream",
          "name": "stdout",
          "text": [
            "n_shots=6, Run=14, Accuracy: 68.60 %\n"
          ]
        },
        {
          "output_type": "stream",
          "name": "stderr",
          "text": [
            "100%|██████████████████████████| 10/10 [00:00<00:00, 124.31it/s, accuracy=0.703]\n"
          ]
        },
        {
          "output_type": "stream",
          "name": "stdout",
          "text": [
            "n_shots=8, Run=14, Accuracy: 70.25 %\n"
          ]
        },
        {
          "output_type": "stream",
          "name": "stderr",
          "text": [
            "100%|██████████████████████████| 10/10 [00:00<00:00, 109.38it/s, accuracy=0.733]"
          ]
        },
        {
          "output_type": "stream",
          "name": "stdout",
          "text": [
            "n_shots=10, Run=14, Accuracy: 73.30 %\n"
          ]
        },
        {
          "output_type": "stream",
          "name": "stderr",
          "text": [
            "\n",
            "100%|██████████████████████████| 10/10 [00:00<00:00, 103.33it/s, accuracy=0.763]"
          ]
        },
        {
          "output_type": "stream",
          "name": "stdout",
          "text": [
            "n_shots=12, Run=14, Accuracy: 76.30 %\n"
          ]
        },
        {
          "output_type": "stream",
          "name": "stderr",
          "text": [
            "\n",
            "100%|███████████████████████████| 10/10 [00:00<00:00, 101.12it/s, accuracy=0.76]"
          ]
        },
        {
          "output_type": "stream",
          "name": "stdout",
          "text": [
            "n_shots=16, Run=14, Accuracy: 76.00 %\n"
          ]
        },
        {
          "output_type": "stream",
          "name": "stderr",
          "text": [
            "\n",
            "100%|██████████████████████████| 10/10 [00:00<00:00, 102.71it/s, accuracy=0.769]"
          ]
        },
        {
          "output_type": "stream",
          "name": "stdout",
          "text": [
            "n_shots=24, Run=14, Accuracy: 76.90 %\n"
          ]
        },
        {
          "output_type": "stream",
          "name": "stderr",
          "text": [
            "\n",
            "100%|██████████████████████████| 10/10 [00:00<00:00, 106.96it/s, accuracy=0.782]"
          ]
        },
        {
          "output_type": "stream",
          "name": "stdout",
          "text": [
            "n_shots=32, Run=14, Accuracy: 78.25 %\n"
          ]
        },
        {
          "output_type": "stream",
          "name": "stderr",
          "text": [
            "\n",
            "100%|██████████████████████████| 10/10 [00:00<00:00, 106.85it/s, accuracy=0.564]"
          ]
        },
        {
          "output_type": "stream",
          "name": "stdout",
          "text": [
            "n_shots=1, Run=15, Accuracy: 56.35 %\n"
          ]
        },
        {
          "output_type": "stream",
          "name": "stderr",
          "text": [
            "\n",
            "100%|██████████████████████████| 10/10 [00:00<00:00, 107.06it/s, accuracy=0.613]"
          ]
        },
        {
          "output_type": "stream",
          "name": "stdout",
          "text": [
            "n_shots=2, Run=15, Accuracy: 61.30 %\n"
          ]
        },
        {
          "output_type": "stream",
          "name": "stderr",
          "text": [
            "\n",
            "100%|██████████████████████████| 10/10 [00:00<00:00, 104.62it/s, accuracy=0.654]"
          ]
        },
        {
          "output_type": "stream",
          "name": "stdout",
          "text": [
            "n_shots=3, Run=15, Accuracy: 65.40 %\n"
          ]
        },
        {
          "output_type": "stream",
          "name": "stderr",
          "text": [
            "\n",
            "100%|███████████████████████████| 10/10 [00:00<00:00, 107.06it/s, accuracy=0.69]"
          ]
        },
        {
          "output_type": "stream",
          "name": "stdout",
          "text": [
            "n_shots=4, Run=15, Accuracy: 68.95 %\n"
          ]
        },
        {
          "output_type": "stream",
          "name": "stderr",
          "text": [
            "\n",
            "100%|██████████████████████████| 10/10 [00:00<00:00, 106.75it/s, accuracy=0.703]"
          ]
        },
        {
          "output_type": "stream",
          "name": "stdout",
          "text": [
            "n_shots=5, Run=15, Accuracy: 70.25 %\n"
          ]
        },
        {
          "output_type": "stream",
          "name": "stderr",
          "text": [
            "\n",
            "100%|██████████████████████████| 10/10 [00:00<00:00, 109.46it/s, accuracy=0.737]"
          ]
        },
        {
          "output_type": "stream",
          "name": "stdout",
          "text": [
            "n_shots=6, Run=15, Accuracy: 73.70 %\n"
          ]
        },
        {
          "output_type": "stream",
          "name": "stderr",
          "text": [
            "\n",
            "100%|██████████████████████████| 10/10 [00:00<00:00, 106.27it/s, accuracy=0.676]"
          ]
        },
        {
          "output_type": "stream",
          "name": "stdout",
          "text": [
            "n_shots=8, Run=15, Accuracy: 67.60 %\n"
          ]
        },
        {
          "output_type": "stream",
          "name": "stderr",
          "text": [
            "\n",
            "100%|██████████████████████████| 10/10 [00:00<00:00, 105.25it/s, accuracy=0.713]"
          ]
        },
        {
          "output_type": "stream",
          "name": "stdout",
          "text": [
            "n_shots=10, Run=15, Accuracy: 71.25 %\n"
          ]
        },
        {
          "output_type": "stream",
          "name": "stderr",
          "text": [
            "\n",
            "100%|██████████████████████████| 10/10 [00:00<00:00, 108.08it/s, accuracy=0.745]"
          ]
        },
        {
          "output_type": "stream",
          "name": "stdout",
          "text": [
            "n_shots=12, Run=15, Accuracy: 74.50 %\n"
          ]
        },
        {
          "output_type": "stream",
          "name": "stderr",
          "text": [
            "\n",
            "100%|██████████████████████████| 10/10 [00:00<00:00, 107.80it/s, accuracy=0.742]"
          ]
        },
        {
          "output_type": "stream",
          "name": "stdout",
          "text": [
            "n_shots=16, Run=15, Accuracy: 74.20 %\n"
          ]
        },
        {
          "output_type": "stream",
          "name": "stderr",
          "text": [
            "\n",
            "100%|██████████████████████████| 10/10 [00:00<00:00, 118.65it/s, accuracy=0.781]\n"
          ]
        },
        {
          "output_type": "stream",
          "name": "stdout",
          "text": [
            "n_shots=24, Run=15, Accuracy: 78.10 %\n"
          ]
        },
        {
          "output_type": "stream",
          "name": "stderr",
          "text": [
            "100%|██████████████████████████| 10/10 [00:00<00:00, 114.54it/s, accuracy=0.787]\n"
          ]
        },
        {
          "output_type": "stream",
          "name": "stdout",
          "text": [
            "n_shots=32, Run=15, Accuracy: 78.75 %\n"
          ]
        },
        {
          "output_type": "stream",
          "name": "stderr",
          "text": [
            "100%|██████████████████████████| 10/10 [00:00<00:00, 117.08it/s, accuracy=0.583]\n"
          ]
        },
        {
          "output_type": "stream",
          "name": "stdout",
          "text": [
            "n_shots=1, Run=16, Accuracy: 58.25 %\n"
          ]
        },
        {
          "output_type": "stream",
          "name": "stderr",
          "text": [
            "100%|██████████████████████████| 10/10 [00:00<00:00, 110.02it/s, accuracy=0.642]"
          ]
        },
        {
          "output_type": "stream",
          "name": "stdout",
          "text": [
            "n_shots=2, Run=16, Accuracy: 64.25 %\n"
          ]
        },
        {
          "output_type": "stream",
          "name": "stderr",
          "text": [
            "\n",
            "100%|██████████████████████████| 10/10 [00:00<00:00, 119.78it/s, accuracy=0.677]\n"
          ]
        },
        {
          "output_type": "stream",
          "name": "stdout",
          "text": [
            "n_shots=3, Run=16, Accuracy: 67.70 %\n"
          ]
        },
        {
          "output_type": "stream",
          "name": "stderr",
          "text": [
            "100%|██████████████████████████| 10/10 [00:00<00:00, 124.57it/s, accuracy=0.685]\n"
          ]
        },
        {
          "output_type": "stream",
          "name": "stdout",
          "text": [
            "n_shots=4, Run=16, Accuracy: 68.50 %\n"
          ]
        },
        {
          "output_type": "stream",
          "name": "stderr",
          "text": [
            "100%|██████████████████████████| 10/10 [00:00<00:00, 102.10it/s, accuracy=0.703]"
          ]
        },
        {
          "output_type": "stream",
          "name": "stdout",
          "text": [
            "n_shots=5, Run=16, Accuracy: 70.30 %\n"
          ]
        },
        {
          "output_type": "stream",
          "name": "stderr",
          "text": [
            "\n",
            "100%|██████████████████████████| 10/10 [00:00<00:00, 118.03it/s, accuracy=0.674]"
          ]
        },
        {
          "output_type": "stream",
          "name": "stdout",
          "text": [
            "n_shots=6, Run=16, Accuracy: 67.45 %\n"
          ]
        },
        {
          "output_type": "stream",
          "name": "stderr",
          "text": [
            "\n",
            "100%|██████████████████████████| 10/10 [00:00<00:00, 121.01it/s, accuracy=0.705]\n"
          ]
        },
        {
          "output_type": "stream",
          "name": "stdout",
          "text": [
            "n_shots=8, Run=16, Accuracy: 70.45 %\n"
          ]
        },
        {
          "output_type": "stream",
          "name": "stderr",
          "text": [
            "100%|██████████████████████████| 10/10 [00:00<00:00, 117.15it/s, accuracy=0.759]\n"
          ]
        },
        {
          "output_type": "stream",
          "name": "stdout",
          "text": [
            "n_shots=10, Run=16, Accuracy: 75.95 %\n"
          ]
        },
        {
          "output_type": "stream",
          "name": "stderr",
          "text": [
            "100%|██████████████████████████| 10/10 [00:00<00:00, 119.02it/s, accuracy=0.739]\n"
          ]
        },
        {
          "output_type": "stream",
          "name": "stdout",
          "text": [
            "n_shots=12, Run=16, Accuracy: 73.85 %\n"
          ]
        },
        {
          "output_type": "stream",
          "name": "stderr",
          "text": [
            "100%|██████████████████████████| 10/10 [00:00<00:00, 121.41it/s, accuracy=0.761]\n"
          ]
        },
        {
          "output_type": "stream",
          "name": "stdout",
          "text": [
            "n_shots=16, Run=16, Accuracy: 76.10 %\n"
          ]
        },
        {
          "output_type": "stream",
          "name": "stderr",
          "text": [
            "100%|██████████████████████████| 10/10 [00:00<00:00, 121.48it/s, accuracy=0.742]\n"
          ]
        },
        {
          "output_type": "stream",
          "name": "stdout",
          "text": [
            "n_shots=24, Run=16, Accuracy: 74.15 %\n"
          ]
        },
        {
          "output_type": "stream",
          "name": "stderr",
          "text": [
            "100%|██████████████████████████| 10/10 [00:00<00:00, 119.30it/s, accuracy=0.798]\n"
          ]
        },
        {
          "output_type": "stream",
          "name": "stdout",
          "text": [
            "n_shots=32, Run=16, Accuracy: 79.85 %\n"
          ]
        },
        {
          "output_type": "stream",
          "name": "stderr",
          "text": [
            "100%|██████████████████████████| 10/10 [00:00<00:00, 114.74it/s, accuracy=0.581]\n"
          ]
        },
        {
          "output_type": "stream",
          "name": "stdout",
          "text": [
            "n_shots=1, Run=17, Accuracy: 58.05 %\n"
          ]
        },
        {
          "output_type": "stream",
          "name": "stderr",
          "text": [
            "100%|██████████████████████████| 10/10 [00:00<00:00, 117.63it/s, accuracy=0.638]\n"
          ]
        },
        {
          "output_type": "stream",
          "name": "stdout",
          "text": [
            "n_shots=2, Run=17, Accuracy: 63.85 %\n"
          ]
        },
        {
          "output_type": "stream",
          "name": "stderr",
          "text": [
            "100%|██████████████████████████| 10/10 [00:00<00:00, 116.11it/s, accuracy=0.637]\n"
          ]
        },
        {
          "output_type": "stream",
          "name": "stdout",
          "text": [
            "n_shots=3, Run=17, Accuracy: 63.75 %\n"
          ]
        },
        {
          "output_type": "stream",
          "name": "stderr",
          "text": [
            "100%|██████████████████████████| 10/10 [00:00<00:00, 105.17it/s, accuracy=0.643]"
          ]
        },
        {
          "output_type": "stream",
          "name": "stdout",
          "text": [
            "n_shots=4, Run=17, Accuracy: 64.35 %\n"
          ]
        },
        {
          "output_type": "stream",
          "name": "stderr",
          "text": [
            "\n",
            "100%|██████████████████████████| 10/10 [00:00<00:00, 106.70it/s, accuracy=0.713]"
          ]
        },
        {
          "output_type": "stream",
          "name": "stdout",
          "text": [
            "n_shots=5, Run=17, Accuracy: 71.25 %\n"
          ]
        },
        {
          "output_type": "stream",
          "name": "stderr",
          "text": [
            "\n",
            "100%|██████████████████████████| 10/10 [00:00<00:00, 109.37it/s, accuracy=0.688]"
          ]
        },
        {
          "output_type": "stream",
          "name": "stdout",
          "text": [
            "n_shots=6, Run=17, Accuracy: 68.80 %\n"
          ]
        },
        {
          "output_type": "stream",
          "name": "stderr",
          "text": [
            "\n",
            "100%|██████████████████████████| 10/10 [00:00<00:00, 111.94it/s, accuracy=0.744]"
          ]
        },
        {
          "output_type": "stream",
          "name": "stdout",
          "text": [
            "n_shots=8, Run=17, Accuracy: 74.35 %\n"
          ]
        },
        {
          "output_type": "stream",
          "name": "stderr",
          "text": [
            "\n",
            "100%|██████████████████████████| 10/10 [00:00<00:00, 119.12it/s, accuracy=0.723]\n"
          ]
        },
        {
          "output_type": "stream",
          "name": "stdout",
          "text": [
            "n_shots=10, Run=17, Accuracy: 72.25 %\n"
          ]
        },
        {
          "output_type": "stream",
          "name": "stderr",
          "text": [
            "100%|██████████████████████████| 10/10 [00:00<00:00, 119.91it/s, accuracy=0.711]\n"
          ]
        },
        {
          "output_type": "stream",
          "name": "stdout",
          "text": [
            "n_shots=12, Run=17, Accuracy: 71.05 %\n"
          ]
        },
        {
          "output_type": "stream",
          "name": "stderr",
          "text": [
            "100%|██████████████████████████| 10/10 [00:00<00:00, 119.35it/s, accuracy=0.755]\n"
          ]
        },
        {
          "output_type": "stream",
          "name": "stdout",
          "text": [
            "n_shots=16, Run=17, Accuracy: 75.55 %\n"
          ]
        },
        {
          "output_type": "stream",
          "name": "stderr",
          "text": [
            "100%|██████████████████████████| 10/10 [00:00<00:00, 112.95it/s, accuracy=0.773]\n"
          ]
        },
        {
          "output_type": "stream",
          "name": "stdout",
          "text": [
            "n_shots=24, Run=17, Accuracy: 77.30 %\n"
          ]
        },
        {
          "output_type": "stream",
          "name": "stderr",
          "text": [
            "100%|██████████████████████████| 10/10 [00:00<00:00, 110.25it/s, accuracy=0.771]"
          ]
        },
        {
          "output_type": "stream",
          "name": "stdout",
          "text": [
            "n_shots=32, Run=17, Accuracy: 77.15 %\n"
          ]
        },
        {
          "output_type": "stream",
          "name": "stderr",
          "text": [
            "\n",
            "100%|███████████████████████████| 10/10 [00:00<00:00, 109.20it/s, accuracy=0.58]"
          ]
        },
        {
          "output_type": "stream",
          "name": "stdout",
          "text": [
            "n_shots=1, Run=18, Accuracy: 58.00 %\n"
          ]
        },
        {
          "output_type": "stream",
          "name": "stderr",
          "text": [
            "\n",
            "100%|█████████████████████████████| 10/10 [00:00<00:00, 99.72it/s, accuracy=0.6]"
          ]
        },
        {
          "output_type": "stream",
          "name": "stdout",
          "text": [
            "n_shots=2, Run=18, Accuracy: 59.95 %\n"
          ]
        },
        {
          "output_type": "stream",
          "name": "stderr",
          "text": [
            "\n",
            "100%|██████████████████████████| 10/10 [00:00<00:00, 107.56it/s, accuracy=0.673]"
          ]
        },
        {
          "output_type": "stream",
          "name": "stdout",
          "text": [
            "n_shots=3, Run=18, Accuracy: 67.30 %\n"
          ]
        },
        {
          "output_type": "stream",
          "name": "stderr",
          "text": [
            "\n",
            "100%|██████████████████████████| 10/10 [00:00<00:00, 104.71it/s, accuracy=0.658]"
          ]
        },
        {
          "output_type": "stream",
          "name": "stdout",
          "text": [
            "n_shots=4, Run=18, Accuracy: 65.80 %\n"
          ]
        },
        {
          "output_type": "stream",
          "name": "stderr",
          "text": [
            "\n",
            "100%|██████████████████████████| 10/10 [00:00<00:00, 109.50it/s, accuracy=0.697]"
          ]
        },
        {
          "output_type": "stream",
          "name": "stdout",
          "text": [
            "n_shots=5, Run=18, Accuracy: 69.70 %\n"
          ]
        },
        {
          "output_type": "stream",
          "name": "stderr",
          "text": [
            "\n",
            "100%|██████████████████████████| 10/10 [00:00<00:00, 111.37it/s, accuracy=0.673]"
          ]
        },
        {
          "output_type": "stream",
          "name": "stdout",
          "text": [
            "n_shots=6, Run=18, Accuracy: 67.35 %\n"
          ]
        },
        {
          "output_type": "stream",
          "name": "stderr",
          "text": [
            "\n",
            "100%|██████████████████████████| 10/10 [00:00<00:00, 105.91it/s, accuracy=0.689]"
          ]
        },
        {
          "output_type": "stream",
          "name": "stdout",
          "text": [
            "n_shots=8, Run=18, Accuracy: 68.90 %\n"
          ]
        },
        {
          "output_type": "stream",
          "name": "stderr",
          "text": [
            "\n",
            "100%|██████████████████████████| 10/10 [00:00<00:00, 111.25it/s, accuracy=0.725]"
          ]
        },
        {
          "output_type": "stream",
          "name": "stdout",
          "text": [
            "n_shots=10, Run=18, Accuracy: 72.45 %\n"
          ]
        },
        {
          "output_type": "stream",
          "name": "stderr",
          "text": [
            "\n",
            "100%|████████████████████████████| 10/10 [00:00<00:00, 81.58it/s, accuracy=0.71]"
          ]
        },
        {
          "output_type": "stream",
          "name": "stdout",
          "text": [
            "n_shots=12, Run=18, Accuracy: 71.00 %\n"
          ]
        },
        {
          "output_type": "stream",
          "name": "stderr",
          "text": [
            "\n",
            "100%|███████████████████████████| 10/10 [00:00<00:00, 94.30it/s, accuracy=0.753]"
          ]
        },
        {
          "output_type": "stream",
          "name": "stdout",
          "text": [
            "n_shots=16, Run=18, Accuracy: 75.35 %\n"
          ]
        },
        {
          "output_type": "stream",
          "name": "stderr",
          "text": [
            "\n",
            "100%|███████████████████████████| 10/10 [00:00<00:00, 101.21it/s, accuracy=0.78]"
          ]
        },
        {
          "output_type": "stream",
          "name": "stdout",
          "text": [
            "n_shots=24, Run=18, Accuracy: 78.05 %\n"
          ]
        },
        {
          "output_type": "stream",
          "name": "stderr",
          "text": [
            "\n",
            "100%|██████████████████████████| 10/10 [00:00<00:00, 105.37it/s, accuracy=0.791]"
          ]
        },
        {
          "output_type": "stream",
          "name": "stdout",
          "text": [
            "n_shots=32, Run=18, Accuracy: 79.15 %\n"
          ]
        },
        {
          "output_type": "stream",
          "name": "stderr",
          "text": [
            "\n",
            "100%|██████████████████████████| 10/10 [00:00<00:00, 104.48it/s, accuracy=0.587]"
          ]
        },
        {
          "output_type": "stream",
          "name": "stdout",
          "text": [
            "n_shots=1, Run=19, Accuracy: 58.65 %\n"
          ]
        },
        {
          "output_type": "stream",
          "name": "stderr",
          "text": [
            "\n",
            "100%|██████████████████████████| 10/10 [00:00<00:00, 107.22it/s, accuracy=0.639]"
          ]
        },
        {
          "output_type": "stream",
          "name": "stdout",
          "text": [
            "n_shots=2, Run=19, Accuracy: 63.90 %\n"
          ]
        },
        {
          "output_type": "stream",
          "name": "stderr",
          "text": [
            "\n",
            "100%|██████████████████████████| 10/10 [00:00<00:00, 105.88it/s, accuracy=0.662]"
          ]
        },
        {
          "output_type": "stream",
          "name": "stdout",
          "text": [
            "n_shots=3, Run=19, Accuracy: 66.25 %\n"
          ]
        },
        {
          "output_type": "stream",
          "name": "stderr",
          "text": [
            "\n",
            "100%|███████████████████████████| 10/10 [00:00<00:00, 111.71it/s, accuracy=0.62]"
          ]
        },
        {
          "output_type": "stream",
          "name": "stdout",
          "text": [
            "n_shots=4, Run=19, Accuracy: 61.95 %\n"
          ]
        },
        {
          "output_type": "stream",
          "name": "stderr",
          "text": [
            "\n",
            "100%|██████████████████████████| 10/10 [00:00<00:00, 109.39it/s, accuracy=0.682]"
          ]
        },
        {
          "output_type": "stream",
          "name": "stdout",
          "text": [
            "n_shots=5, Run=19, Accuracy: 68.25 %\n"
          ]
        },
        {
          "output_type": "stream",
          "name": "stderr",
          "text": [
            "\n",
            "100%|████████████████████████████| 10/10 [00:00<00:00, 109.94it/s, accuracy=0.7]"
          ]
        },
        {
          "output_type": "stream",
          "name": "stdout",
          "text": [
            "n_shots=6, Run=19, Accuracy: 69.95 %\n"
          ]
        },
        {
          "output_type": "stream",
          "name": "stderr",
          "text": [
            "\n",
            "100%|██████████████████████████| 10/10 [00:00<00:00, 107.96it/s, accuracy=0.702]"
          ]
        },
        {
          "output_type": "stream",
          "name": "stdout",
          "text": [
            "n_shots=8, Run=19, Accuracy: 70.20 %\n"
          ]
        },
        {
          "output_type": "stream",
          "name": "stderr",
          "text": [
            "\n",
            "100%|██████████████████████████| 10/10 [00:00<00:00, 107.52it/s, accuracy=0.753]"
          ]
        },
        {
          "output_type": "stream",
          "name": "stdout",
          "text": [
            "n_shots=10, Run=19, Accuracy: 75.30 %\n"
          ]
        },
        {
          "output_type": "stream",
          "name": "stderr",
          "text": [
            "\n",
            "100%|██████████████████████████| 10/10 [00:00<00:00, 109.15it/s, accuracy=0.721]"
          ]
        },
        {
          "output_type": "stream",
          "name": "stdout",
          "text": [
            "n_shots=12, Run=19, Accuracy: 72.10 %\n"
          ]
        },
        {
          "output_type": "stream",
          "name": "stderr",
          "text": [
            "\n",
            "100%|██████████████████████████| 10/10 [00:00<00:00, 105.10it/s, accuracy=0.762]"
          ]
        },
        {
          "output_type": "stream",
          "name": "stdout",
          "text": [
            "n_shots=16, Run=19, Accuracy: 76.25 %\n"
          ]
        },
        {
          "output_type": "stream",
          "name": "stderr",
          "text": [
            "\n",
            "100%|███████████████████████████| 10/10 [00:00<00:00, 98.71it/s, accuracy=0.765]"
          ]
        },
        {
          "output_type": "stream",
          "name": "stdout",
          "text": [
            "n_shots=24, Run=19, Accuracy: 76.55 %\n"
          ]
        },
        {
          "output_type": "stream",
          "name": "stderr",
          "text": [
            "\n",
            "100%|██████████████████████████| 10/10 [00:00<00:00, 107.28it/s, accuracy=0.775]"
          ]
        },
        {
          "output_type": "stream",
          "name": "stdout",
          "text": [
            "n_shots=32, Run=19, Accuracy: 77.55 %\n"
          ]
        },
        {
          "output_type": "stream",
          "name": "stderr",
          "text": [
            "\n",
            "100%|██████████████████████████| 10/10 [00:00<00:00, 106.45it/s, accuracy=0.589]"
          ]
        },
        {
          "output_type": "stream",
          "name": "stdout",
          "text": [
            "n_shots=1, Run=20, Accuracy: 58.90 %\n"
          ]
        },
        {
          "output_type": "stream",
          "name": "stderr",
          "text": [
            "\n",
            "100%|██████████████████████████| 10/10 [00:00<00:00, 104.14it/s, accuracy=0.603]"
          ]
        },
        {
          "output_type": "stream",
          "name": "stdout",
          "text": [
            "n_shots=2, Run=20, Accuracy: 60.25 %\n"
          ]
        },
        {
          "output_type": "stream",
          "name": "stderr",
          "text": [
            "\n",
            "100%|██████████████████████████| 10/10 [00:00<00:00, 105.83it/s, accuracy=0.648]"
          ]
        },
        {
          "output_type": "stream",
          "name": "stdout",
          "text": [
            "n_shots=3, Run=20, Accuracy: 64.85 %\n"
          ]
        },
        {
          "output_type": "stream",
          "name": "stderr",
          "text": [
            "\n",
            "100%|███████████████████████████| 10/10 [00:00<00:00, 110.16it/s, accuracy=0.64]"
          ]
        },
        {
          "output_type": "stream",
          "name": "stdout",
          "text": [
            "n_shots=4, Run=20, Accuracy: 64.00 %\n"
          ]
        },
        {
          "output_type": "stream",
          "name": "stderr",
          "text": [
            "\n",
            "100%|██████████████████████████| 10/10 [00:00<00:00, 107.58it/s, accuracy=0.664]"
          ]
        },
        {
          "output_type": "stream",
          "name": "stdout",
          "text": [
            "n_shots=5, Run=20, Accuracy: 66.40 %\n"
          ]
        },
        {
          "output_type": "stream",
          "name": "stderr",
          "text": [
            "\n",
            "100%|██████████████████████████| 10/10 [00:00<00:00, 105.34it/s, accuracy=0.717]"
          ]
        },
        {
          "output_type": "stream",
          "name": "stdout",
          "text": [
            "n_shots=6, Run=20, Accuracy: 71.65 %\n"
          ]
        },
        {
          "output_type": "stream",
          "name": "stderr",
          "text": [
            "\n",
            "100%|██████████████████████████| 10/10 [00:00<00:00, 107.25it/s, accuracy=0.715]"
          ]
        },
        {
          "output_type": "stream",
          "name": "stdout",
          "text": [
            "n_shots=8, Run=20, Accuracy: 71.45 %\n"
          ]
        },
        {
          "output_type": "stream",
          "name": "stderr",
          "text": [
            "\n",
            "100%|██████████████████████████| 10/10 [00:00<00:00, 110.87it/s, accuracy=0.743]"
          ]
        },
        {
          "output_type": "stream",
          "name": "stdout",
          "text": [
            "n_shots=10, Run=20, Accuracy: 74.30 %\n"
          ]
        },
        {
          "output_type": "stream",
          "name": "stderr",
          "text": [
            "\n",
            "100%|██████████████████████████| 10/10 [00:00<00:00, 104.12it/s, accuracy=0.755]"
          ]
        },
        {
          "output_type": "stream",
          "name": "stdout",
          "text": [
            "n_shots=12, Run=20, Accuracy: 75.50 %\n"
          ]
        },
        {
          "output_type": "stream",
          "name": "stderr",
          "text": [
            "\n",
            "100%|██████████████████████████| 10/10 [00:00<00:00, 104.24it/s, accuracy=0.748]"
          ]
        },
        {
          "output_type": "stream",
          "name": "stdout",
          "text": [
            "n_shots=16, Run=20, Accuracy: 74.80 %\n"
          ]
        },
        {
          "output_type": "stream",
          "name": "stderr",
          "text": [
            "\n",
            "100%|██████████████████████████| 10/10 [00:00<00:00, 105.99it/s, accuracy=0.761]"
          ]
        },
        {
          "output_type": "stream",
          "name": "stdout",
          "text": [
            "n_shots=24, Run=20, Accuracy: 76.10 %\n"
          ]
        },
        {
          "output_type": "stream",
          "name": "stderr",
          "text": [
            "\n",
            "100%|██████████████████████████| 10/10 [00:00<00:00, 102.79it/s, accuracy=0.801]"
          ]
        },
        {
          "output_type": "stream",
          "name": "stdout",
          "text": [
            "n_shots=32, Run=20, Accuracy: 80.15 %\n"
          ]
        },
        {
          "output_type": "stream",
          "name": "stderr",
          "text": [
            "\n"
          ]
        }
      ],
      "source": [
        "output_directory_p = Path(\"/home/rakib/models/paper_benchmarking_ssl_diverse_pathology/inference/pcam/pcam_test/bt/2\")\n",
        "#data_to_test = \"/home/rakib/data/TIGER\"\n",
        "data_to_test = Path(\"/home/rakib/data/pcamv1/pcam_test/\")\n",
        "transform = transforms.Compose([transforms.Resize((96, 96)),\n",
        "                                transforms.ToTensor()])\n",
        "testset = torchvision.datasets.ImageFolder(data_to_test, transform=transform)\n",
        "\n",
        "classes = testset.classes\n",
        "\n",
        "print(classes)\n",
        "dataloader = DataLoader(testset, batch_size=100, shuffle=False, drop_last=False)\n",
        "p2_emb_df = predict_embeddings(dataloader, model, device=device)\n",
        "p2_emb_dataset = FeaturesDataset.from_dataframe(p2_emb_df)\n",
        "p2_results_df = evaluate_few_shot_model(p2_emb_dataset, model, device=device, n_way=2)\n",
        "p2_results_df.sort_values([\"n_shots\", \"accuracy\"])\n",
        "\n",
        "mean_accuracies_p2 = p2_results_df.groupby(\"n_shots\")[\"accuracy\"].mean().reset_index()\n",
        "mean_accuracies_p2.rename(columns={\"accuracy\": \"mean\"}, inplace=True)\n",
        "std_accuracies_p2 = p2_results_df.groupby(\"n_shots\")[\"accuracy\"].std().reset_index()\n",
        "std_accuracies_p2.rename(columns={\"accuracy\": \"std\"}, inplace=True)\n",
        "# Merge the two DataFrames based on the 'n_shots' column\n",
        "merged_df_p2 = pd.merge(mean_accuracies_p2, std_accuracies_p2, on=\"n_shots\")\n",
        "\n",
        "# Save the average accuracy information in a separate CSV file\n",
        "#acc_csv_filename = \"2way_average_accuracy_pcam-test_bt.csv\"\n",
        "#merged_df_p.to_csv(os.path.join(output_directory_p, acc_csv_filename), index=False)"
      ]
    },
    {
      "cell_type": "markdown",
      "source": [
        "mean: [0.70322989, 0.53606487, 0.66096631]\n",
        "std: [0.21716536, 0.26081574, 0.20723464]"
      ],
      "metadata": {
        "id": "uEIWa1Sk4uY7"
      }
    },
    {
      "cell_type": "code",
      "execution_count": null,
      "metadata": {
        "id": "ch9aIvvmJuZI",
        "colab": {
          "base_uri": "https://localhost:8080/"
        },
        "outputId": "5ca92878-3c19-407c-eaf7-c90f6939049e"
      },
      "outputs": [
        {
          "output_type": "stream",
          "name": "stdout",
          "text": [
            "['Norm', 'Tum']\n"
          ]
        },
        {
          "output_type": "stream",
          "name": "stderr",
          "text": [
            "Predicting embeddings: 100%|███████████████| 328/328 [00:37<00:00,  8.79batch/s]\n",
            "100%|███████████████████████████| 10/10 [00:00<00:00, 61.85it/s, accuracy=0.503]"
          ]
        },
        {
          "output_type": "stream",
          "name": "stdout",
          "text": [
            "n_shots=1, Run=1, Accuracy: 50.30 %\n"
          ]
        },
        {
          "output_type": "stream",
          "name": "stderr",
          "text": [
            "\n",
            "100%|███████████████████████████| 10/10 [00:00<00:00, 97.31it/s, accuracy=0.614]"
          ]
        },
        {
          "output_type": "stream",
          "name": "stdout",
          "text": [
            "n_shots=2, Run=1, Accuracy: 61.40 %\n"
          ]
        },
        {
          "output_type": "stream",
          "name": "stderr",
          "text": [
            "\n",
            "100%|███████████████████████████| 10/10 [00:00<00:00, 98.53it/s, accuracy=0.629]"
          ]
        },
        {
          "output_type": "stream",
          "name": "stdout",
          "text": [
            "n_shots=3, Run=1, Accuracy: 62.95 %\n"
          ]
        },
        {
          "output_type": "stream",
          "name": "stderr",
          "text": [
            "\n",
            "100%|███████████████████████████| 10/10 [00:00<00:00, 94.51it/s, accuracy=0.692]"
          ]
        },
        {
          "output_type": "stream",
          "name": "stdout",
          "text": [
            "n_shots=4, Run=1, Accuracy: 69.20 %\n"
          ]
        },
        {
          "output_type": "stream",
          "name": "stderr",
          "text": [
            "\n",
            "100%|███████████████████████████| 10/10 [00:00<00:00, 98.41it/s, accuracy=0.688]"
          ]
        },
        {
          "output_type": "stream",
          "name": "stdout",
          "text": [
            "n_shots=5, Run=1, Accuracy: 68.75 %\n"
          ]
        },
        {
          "output_type": "stream",
          "name": "stderr",
          "text": [
            "\n",
            "100%|███████████████████████████| 10/10 [00:00<00:00, 96.54it/s, accuracy=0.687]"
          ]
        },
        {
          "output_type": "stream",
          "name": "stdout",
          "text": [
            "n_shots=6, Run=1, Accuracy: 68.70 %\n"
          ]
        },
        {
          "output_type": "stream",
          "name": "stderr",
          "text": [
            "\n",
            "100%|██████████████████████████| 10/10 [00:00<00:00, 100.41it/s, accuracy=0.736]"
          ]
        },
        {
          "output_type": "stream",
          "name": "stdout",
          "text": [
            "n_shots=8, Run=1, Accuracy: 73.55 %\n"
          ]
        },
        {
          "output_type": "stream",
          "name": "stderr",
          "text": [
            "\n",
            "100%|███████████████████████████| 10/10 [00:00<00:00, 97.08it/s, accuracy=0.705]"
          ]
        },
        {
          "output_type": "stream",
          "name": "stdout",
          "text": [
            "n_shots=10, Run=1, Accuracy: 70.45 %\n"
          ]
        },
        {
          "output_type": "stream",
          "name": "stderr",
          "text": [
            "\n",
            "100%|███████████████████████████| 10/10 [00:00<00:00, 98.23it/s, accuracy=0.716]"
          ]
        },
        {
          "output_type": "stream",
          "name": "stdout",
          "text": [
            "n_shots=12, Run=1, Accuracy: 71.60 %\n"
          ]
        },
        {
          "output_type": "stream",
          "name": "stderr",
          "text": [
            "\n",
            "100%|██████████████████████████| 10/10 [00:00<00:00, 100.05it/s, accuracy=0.739]"
          ]
        },
        {
          "output_type": "stream",
          "name": "stdout",
          "text": [
            "n_shots=16, Run=1, Accuracy: 73.85 %\n"
          ]
        },
        {
          "output_type": "stream",
          "name": "stderr",
          "text": [
            "\n",
            "100%|███████████████████████████| 10/10 [00:00<00:00, 94.49it/s, accuracy=0.795]"
          ]
        },
        {
          "output_type": "stream",
          "name": "stdout",
          "text": [
            "n_shots=24, Run=1, Accuracy: 79.55 %\n"
          ]
        },
        {
          "output_type": "stream",
          "name": "stderr",
          "text": [
            "\n",
            "100%|███████████████████████████| 10/10 [00:00<00:00, 95.53it/s, accuracy=0.753]"
          ]
        },
        {
          "output_type": "stream",
          "name": "stdout",
          "text": [
            "n_shots=32, Run=1, Accuracy: 75.35 %\n"
          ]
        },
        {
          "output_type": "stream",
          "name": "stderr",
          "text": [
            "\n",
            "100%|███████████████████████████| 10/10 [00:00<00:00, 95.01it/s, accuracy=0.578]"
          ]
        },
        {
          "output_type": "stream",
          "name": "stdout",
          "text": [
            "n_shots=1, Run=2, Accuracy: 57.75 %\n"
          ]
        },
        {
          "output_type": "stream",
          "name": "stderr",
          "text": [
            "\n",
            "100%|███████████████████████████| 10/10 [00:00<00:00, 99.62it/s, accuracy=0.622]"
          ]
        },
        {
          "output_type": "stream",
          "name": "stdout",
          "text": [
            "n_shots=2, Run=2, Accuracy: 62.20 %\n"
          ]
        },
        {
          "output_type": "stream",
          "name": "stderr",
          "text": [
            "\n",
            "100%|████████████████████████████| 10/10 [00:00<00:00, 97.09it/s, accuracy=0.62]"
          ]
        },
        {
          "output_type": "stream",
          "name": "stdout",
          "text": [
            "n_shots=3, Run=2, Accuracy: 61.95 %\n"
          ]
        },
        {
          "output_type": "stream",
          "name": "stderr",
          "text": [
            "\n",
            "100%|███████████████████████████| 10/10 [00:00<00:00, 98.96it/s, accuracy=0.696]"
          ]
        },
        {
          "output_type": "stream",
          "name": "stdout",
          "text": [
            "n_shots=4, Run=2, Accuracy: 69.55 %\n"
          ]
        },
        {
          "output_type": "stream",
          "name": "stderr",
          "text": [
            "\n",
            "100%|███████████████████████████| 10/10 [00:00<00:00, 99.24it/s, accuracy=0.709]"
          ]
        },
        {
          "output_type": "stream",
          "name": "stdout",
          "text": [
            "n_shots=5, Run=2, Accuracy: 70.90 %\n"
          ]
        },
        {
          "output_type": "stream",
          "name": "stderr",
          "text": [
            "\n",
            "100%|███████████████████████████| 10/10 [00:00<00:00, 94.18it/s, accuracy=0.656]"
          ]
        },
        {
          "output_type": "stream",
          "name": "stdout",
          "text": [
            "n_shots=6, Run=2, Accuracy: 65.65 %\n"
          ]
        },
        {
          "output_type": "stream",
          "name": "stderr",
          "text": [
            "\n",
            "100%|███████████████████████████| 10/10 [00:00<00:00, 98.86it/s, accuracy=0.685]"
          ]
        },
        {
          "output_type": "stream",
          "name": "stdout",
          "text": [
            "n_shots=8, Run=2, Accuracy: 68.55 %\n"
          ]
        },
        {
          "output_type": "stream",
          "name": "stderr",
          "text": [
            "\n",
            "100%|███████████████████████████| 10/10 [00:00<00:00, 98.57it/s, accuracy=0.731]"
          ]
        },
        {
          "output_type": "stream",
          "name": "stdout",
          "text": [
            "n_shots=10, Run=2, Accuracy: 73.05 %\n"
          ]
        },
        {
          "output_type": "stream",
          "name": "stderr",
          "text": [
            "\n",
            "100%|███████████████████████████| 10/10 [00:00<00:00, 96.86it/s, accuracy=0.738]"
          ]
        },
        {
          "output_type": "stream",
          "name": "stdout",
          "text": [
            "n_shots=12, Run=2, Accuracy: 73.80 %\n"
          ]
        },
        {
          "output_type": "stream",
          "name": "stderr",
          "text": [
            "\n",
            "100%|███████████████████████████| 10/10 [00:00<00:00, 93.62it/s, accuracy=0.728]"
          ]
        },
        {
          "output_type": "stream",
          "name": "stdout",
          "text": [
            "n_shots=16, Run=2, Accuracy: 72.80 %\n"
          ]
        },
        {
          "output_type": "stream",
          "name": "stderr",
          "text": [
            "\n",
            "100%|███████████████████████████| 10/10 [00:00<00:00, 94.00it/s, accuracy=0.785]"
          ]
        },
        {
          "output_type": "stream",
          "name": "stdout",
          "text": [
            "n_shots=24, Run=2, Accuracy: 78.55 %\n"
          ]
        },
        {
          "output_type": "stream",
          "name": "stderr",
          "text": [
            "\n",
            "100%|███████████████████████████| 10/10 [00:00<00:00, 97.12it/s, accuracy=0.768]"
          ]
        },
        {
          "output_type": "stream",
          "name": "stdout",
          "text": [
            "n_shots=32, Run=2, Accuracy: 76.85 %\n"
          ]
        },
        {
          "output_type": "stream",
          "name": "stderr",
          "text": [
            "\n",
            "100%|███████████████████████████| 10/10 [00:00<00:00, 92.13it/s, accuracy=0.569]"
          ]
        },
        {
          "output_type": "stream",
          "name": "stdout",
          "text": [
            "n_shots=1, Run=3, Accuracy: 56.85 %\n"
          ]
        },
        {
          "output_type": "stream",
          "name": "stderr",
          "text": [
            "\n",
            "100%|███████████████████████████| 10/10 [00:00<00:00, 97.00it/s, accuracy=0.591]"
          ]
        },
        {
          "output_type": "stream",
          "name": "stdout",
          "text": [
            "n_shots=2, Run=3, Accuracy: 59.05 %\n"
          ]
        },
        {
          "output_type": "stream",
          "name": "stderr",
          "text": [
            "\n",
            "100%|███████████████████████████| 10/10 [00:00<00:00, 97.41it/s, accuracy=0.644]"
          ]
        },
        {
          "output_type": "stream",
          "name": "stdout",
          "text": [
            "n_shots=3, Run=3, Accuracy: 64.45 %\n"
          ]
        },
        {
          "output_type": "stream",
          "name": "stderr",
          "text": [
            "\n",
            "100%|███████████████████████████| 10/10 [00:00<00:00, 100.67it/s, accuracy=0.68]"
          ]
        },
        {
          "output_type": "stream",
          "name": "stdout",
          "text": [
            "n_shots=4, Run=3, Accuracy: 68.05 %\n"
          ]
        },
        {
          "output_type": "stream",
          "name": "stderr",
          "text": [
            "\n",
            "100%|██████████████████████████| 10/10 [00:00<00:00, 100.68it/s, accuracy=0.693]"
          ]
        },
        {
          "output_type": "stream",
          "name": "stdout",
          "text": [
            "n_shots=5, Run=3, Accuracy: 69.25 %\n"
          ]
        },
        {
          "output_type": "stream",
          "name": "stderr",
          "text": [
            "\n",
            "100%|███████████████████████████| 10/10 [00:00<00:00, 99.08it/s, accuracy=0.676]"
          ]
        },
        {
          "output_type": "stream",
          "name": "stdout",
          "text": [
            "n_shots=6, Run=3, Accuracy: 67.60 %\n"
          ]
        },
        {
          "output_type": "stream",
          "name": "stderr",
          "text": [
            "\n",
            "100%|███████████████████████████| 10/10 [00:00<00:00, 97.26it/s, accuracy=0.702]"
          ]
        },
        {
          "output_type": "stream",
          "name": "stdout",
          "text": [
            "n_shots=8, Run=3, Accuracy: 70.20 %\n"
          ]
        },
        {
          "output_type": "stream",
          "name": "stderr",
          "text": [
            "\n",
            "100%|███████████████████████████| 10/10 [00:00<00:00, 97.94it/s, accuracy=0.712]"
          ]
        },
        {
          "output_type": "stream",
          "name": "stdout",
          "text": [
            "n_shots=10, Run=3, Accuracy: 71.20 %\n"
          ]
        },
        {
          "output_type": "stream",
          "name": "stderr",
          "text": [
            "\n",
            "100%|███████████████████████████| 10/10 [00:00<00:00, 96.96it/s, accuracy=0.714]"
          ]
        },
        {
          "output_type": "stream",
          "name": "stdout",
          "text": [
            "n_shots=12, Run=3, Accuracy: 71.35 %\n"
          ]
        },
        {
          "output_type": "stream",
          "name": "stderr",
          "text": [
            "\n",
            "100%|███████████████████████████| 10/10 [00:00<00:00, 99.53it/s, accuracy=0.717]"
          ]
        },
        {
          "output_type": "stream",
          "name": "stdout",
          "text": [
            "n_shots=16, Run=3, Accuracy: 71.65 %\n"
          ]
        },
        {
          "output_type": "stream",
          "name": "stderr",
          "text": [
            "\n",
            "100%|██████████████████████████| 10/10 [00:00<00:00, 100.64it/s, accuracy=0.758]"
          ]
        },
        {
          "output_type": "stream",
          "name": "stdout",
          "text": [
            "n_shots=24, Run=3, Accuracy: 75.80 %\n"
          ]
        },
        {
          "output_type": "stream",
          "name": "stderr",
          "text": [
            "\n",
            "100%|███████████████████████████| 10/10 [00:00<00:00, 95.31it/s, accuracy=0.773]"
          ]
        },
        {
          "output_type": "stream",
          "name": "stdout",
          "text": [
            "n_shots=32, Run=3, Accuracy: 77.35 %\n"
          ]
        },
        {
          "output_type": "stream",
          "name": "stderr",
          "text": [
            "\n",
            "100%|███████████████████████████| 10/10 [00:00<00:00, 97.38it/s, accuracy=0.578]"
          ]
        },
        {
          "output_type": "stream",
          "name": "stdout",
          "text": [
            "n_shots=1, Run=4, Accuracy: 57.75 %\n"
          ]
        },
        {
          "output_type": "stream",
          "name": "stderr",
          "text": [
            "\n",
            "100%|███████████████████████████| 10/10 [00:00<00:00, 99.93it/s, accuracy=0.588]"
          ]
        },
        {
          "output_type": "stream",
          "name": "stdout",
          "text": [
            "n_shots=2, Run=4, Accuracy: 58.80 %\n"
          ]
        },
        {
          "output_type": "stream",
          "name": "stderr",
          "text": [
            "\n",
            "100%|██████████████████████████| 10/10 [00:00<00:00, 100.50it/s, accuracy=0.594]"
          ]
        },
        {
          "output_type": "stream",
          "name": "stdout",
          "text": [
            "n_shots=3, Run=4, Accuracy: 59.35 %\n"
          ]
        },
        {
          "output_type": "stream",
          "name": "stderr",
          "text": [
            "\n",
            "100%|███████████████████████████| 10/10 [00:00<00:00, 99.65it/s, accuracy=0.688]"
          ]
        },
        {
          "output_type": "stream",
          "name": "stdout",
          "text": [
            "n_shots=4, Run=4, Accuracy: 68.75 %\n"
          ]
        },
        {
          "output_type": "stream",
          "name": "stderr",
          "text": [
            "\n",
            "100%|███████████████████████████| 10/10 [00:00<00:00, 100.66it/s, accuracy=0.68]"
          ]
        },
        {
          "output_type": "stream",
          "name": "stdout",
          "text": [
            "n_shots=5, Run=4, Accuracy: 68.00 %\n"
          ]
        },
        {
          "output_type": "stream",
          "name": "stderr",
          "text": [
            "\n",
            "100%|███████████████████████████| 10/10 [00:00<00:00, 96.39it/s, accuracy=0.674]"
          ]
        },
        {
          "output_type": "stream",
          "name": "stdout",
          "text": [
            "n_shots=6, Run=4, Accuracy: 67.45 %\n"
          ]
        },
        {
          "output_type": "stream",
          "name": "stderr",
          "text": [
            "\n",
            "100%|███████████████████████████| 10/10 [00:00<00:00, 97.42it/s, accuracy=0.738]"
          ]
        },
        {
          "output_type": "stream",
          "name": "stdout",
          "text": [
            "n_shots=8, Run=4, Accuracy: 73.75 %\n"
          ]
        },
        {
          "output_type": "stream",
          "name": "stderr",
          "text": [
            "\n",
            "100%|███████████████████████████| 10/10 [00:00<00:00, 99.18it/s, accuracy=0.736]"
          ]
        },
        {
          "output_type": "stream",
          "name": "stdout",
          "text": [
            "n_shots=10, Run=4, Accuracy: 73.60 %\n"
          ]
        },
        {
          "output_type": "stream",
          "name": "stderr",
          "text": [
            "\n",
            "100%|███████████████████████████| 10/10 [00:00<00:00, 99.02it/s, accuracy=0.742]"
          ]
        },
        {
          "output_type": "stream",
          "name": "stdout",
          "text": [
            "n_shots=12, Run=4, Accuracy: 74.15 %\n"
          ]
        },
        {
          "output_type": "stream",
          "name": "stderr",
          "text": [
            "\n",
            "100%|███████████████████████████| 10/10 [00:00<00:00, 98.78it/s, accuracy=0.742]"
          ]
        },
        {
          "output_type": "stream",
          "name": "stdout",
          "text": [
            "n_shots=16, Run=4, Accuracy: 74.20 %\n"
          ]
        },
        {
          "output_type": "stream",
          "name": "stderr",
          "text": [
            "\n",
            "100%|███████████████████████████| 10/10 [00:00<00:00, 95.44it/s, accuracy=0.769]"
          ]
        },
        {
          "output_type": "stream",
          "name": "stdout",
          "text": [
            "n_shots=24, Run=4, Accuracy: 76.95 %\n"
          ]
        },
        {
          "output_type": "stream",
          "name": "stderr",
          "text": [
            "\n",
            "100%|███████████████████████████| 10/10 [00:00<00:00, 96.73it/s, accuracy=0.803]"
          ]
        },
        {
          "output_type": "stream",
          "name": "stdout",
          "text": [
            "n_shots=32, Run=4, Accuracy: 80.35 %\n"
          ]
        },
        {
          "output_type": "stream",
          "name": "stderr",
          "text": [
            "\n",
            "100%|████████████████████████████| 10/10 [00:00<00:00, 92.07it/s, accuracy=0.55]"
          ]
        },
        {
          "output_type": "stream",
          "name": "stdout",
          "text": [
            "n_shots=1, Run=5, Accuracy: 55.05 %\n"
          ]
        },
        {
          "output_type": "stream",
          "name": "stderr",
          "text": [
            "\n",
            "100%|██████████████████████████| 10/10 [00:00<00:00, 100.83it/s, accuracy=0.627]"
          ]
        },
        {
          "output_type": "stream",
          "name": "stdout",
          "text": [
            "n_shots=2, Run=5, Accuracy: 62.75 %\n"
          ]
        },
        {
          "output_type": "stream",
          "name": "stderr",
          "text": [
            "\n",
            "100%|███████████████████████████| 10/10 [00:00<00:00, 96.91it/s, accuracy=0.652]"
          ]
        },
        {
          "output_type": "stream",
          "name": "stdout",
          "text": [
            "n_shots=3, Run=5, Accuracy: 65.20 %\n"
          ]
        },
        {
          "output_type": "stream",
          "name": "stderr",
          "text": [
            "\n",
            "100%|██████████████████████████| 10/10 [00:00<00:00, 102.51it/s, accuracy=0.696]"
          ]
        },
        {
          "output_type": "stream",
          "name": "stdout",
          "text": [
            "n_shots=4, Run=5, Accuracy: 69.55 %\n"
          ]
        },
        {
          "output_type": "stream",
          "name": "stderr",
          "text": [
            "\n",
            "100%|███████████████████████████| 10/10 [00:00<00:00, 101.07it/s, accuracy=0.69]"
          ]
        },
        {
          "output_type": "stream",
          "name": "stdout",
          "text": [
            "n_shots=5, Run=5, Accuracy: 69.00 %\n"
          ]
        },
        {
          "output_type": "stream",
          "name": "stderr",
          "text": [
            "\n",
            "100%|███████████████████████████| 10/10 [00:00<00:00, 98.87it/s, accuracy=0.691]"
          ]
        },
        {
          "output_type": "stream",
          "name": "stdout",
          "text": [
            "n_shots=6, Run=5, Accuracy: 69.10 %\n"
          ]
        },
        {
          "output_type": "stream",
          "name": "stderr",
          "text": [
            "\n",
            "100%|██████████████████████████| 10/10 [00:00<00:00, 100.82it/s, accuracy=0.702]"
          ]
        },
        {
          "output_type": "stream",
          "name": "stdout",
          "text": [
            "n_shots=8, Run=5, Accuracy: 70.15 %\n"
          ]
        },
        {
          "output_type": "stream",
          "name": "stderr",
          "text": [
            "\n",
            "100%|███████████████████████████| 10/10 [00:00<00:00, 94.27it/s, accuracy=0.693]"
          ]
        },
        {
          "output_type": "stream",
          "name": "stdout",
          "text": [
            "n_shots=10, Run=5, Accuracy: 69.25 %\n"
          ]
        },
        {
          "output_type": "stream",
          "name": "stderr",
          "text": [
            "\n",
            "100%|███████████████████████████| 10/10 [00:00<00:00, 95.47it/s, accuracy=0.733]"
          ]
        },
        {
          "output_type": "stream",
          "name": "stdout",
          "text": [
            "n_shots=12, Run=5, Accuracy: 73.30 %\n"
          ]
        },
        {
          "output_type": "stream",
          "name": "stderr",
          "text": [
            "\n",
            "100%|███████████████████████████| 10/10 [00:00<00:00, 95.90it/s, accuracy=0.754]"
          ]
        },
        {
          "output_type": "stream",
          "name": "stdout",
          "text": [
            "n_shots=16, Run=5, Accuracy: 75.45 %\n"
          ]
        },
        {
          "output_type": "stream",
          "name": "stderr",
          "text": [
            "\n",
            "100%|███████████████████████████| 10/10 [00:00<00:00, 97.76it/s, accuracy=0.769]"
          ]
        },
        {
          "output_type": "stream",
          "name": "stdout",
          "text": [
            "n_shots=24, Run=5, Accuracy: 76.90 %\n"
          ]
        },
        {
          "output_type": "stream",
          "name": "stderr",
          "text": [
            "\n",
            "100%|███████████████████████████| 10/10 [00:00<00:00, 93.93it/s, accuracy=0.773]"
          ]
        },
        {
          "output_type": "stream",
          "name": "stdout",
          "text": [
            "n_shots=32, Run=5, Accuracy: 77.30 %\n"
          ]
        },
        {
          "output_type": "stream",
          "name": "stderr",
          "text": [
            "\n",
            "100%|███████████████████████████| 10/10 [00:00<00:00, 95.27it/s, accuracy=0.589]"
          ]
        },
        {
          "output_type": "stream",
          "name": "stdout",
          "text": [
            "n_shots=1, Run=6, Accuracy: 58.85 %\n"
          ]
        },
        {
          "output_type": "stream",
          "name": "stderr",
          "text": [
            "\n",
            "100%|███████████████████████████| 10/10 [00:00<00:00, 97.22it/s, accuracy=0.575]"
          ]
        },
        {
          "output_type": "stream",
          "name": "stdout",
          "text": [
            "n_shots=2, Run=6, Accuracy: 57.50 %\n"
          ]
        },
        {
          "output_type": "stream",
          "name": "stderr",
          "text": [
            "\n",
            "100%|███████████████████████████| 10/10 [00:00<00:00, 97.47it/s, accuracy=0.639]"
          ]
        },
        {
          "output_type": "stream",
          "name": "stdout",
          "text": [
            "n_shots=3, Run=6, Accuracy: 63.95 %\n"
          ]
        },
        {
          "output_type": "stream",
          "name": "stderr",
          "text": [
            "\n",
            "100%|███████████████████████████| 10/10 [00:00<00:00, 98.48it/s, accuracy=0.645]"
          ]
        },
        {
          "output_type": "stream",
          "name": "stdout",
          "text": [
            "n_shots=4, Run=6, Accuracy: 64.50 %\n"
          ]
        },
        {
          "output_type": "stream",
          "name": "stderr",
          "text": [
            "\n",
            "100%|███████████████████████████| 10/10 [00:00<00:00, 96.97it/s, accuracy=0.652]"
          ]
        },
        {
          "output_type": "stream",
          "name": "stdout",
          "text": [
            "n_shots=5, Run=6, Accuracy: 65.25 %\n"
          ]
        },
        {
          "output_type": "stream",
          "name": "stderr",
          "text": [
            "\n",
            "100%|███████████████████████████| 10/10 [00:00<00:00, 97.04it/s, accuracy=0.719]"
          ]
        },
        {
          "output_type": "stream",
          "name": "stdout",
          "text": [
            "n_shots=6, Run=6, Accuracy: 71.85 %\n"
          ]
        },
        {
          "output_type": "stream",
          "name": "stderr",
          "text": [
            "\n",
            "100%|███████████████████████████| 10/10 [00:00<00:00, 99.05it/s, accuracy=0.702]"
          ]
        },
        {
          "output_type": "stream",
          "name": "stdout",
          "text": [
            "n_shots=8, Run=6, Accuracy: 70.20 %\n"
          ]
        },
        {
          "output_type": "stream",
          "name": "stderr",
          "text": [
            "\n",
            "100%|███████████████████████████| 10/10 [00:00<00:00, 96.97it/s, accuracy=0.708]"
          ]
        },
        {
          "output_type": "stream",
          "name": "stdout",
          "text": [
            "n_shots=10, Run=6, Accuracy: 70.75 %\n"
          ]
        },
        {
          "output_type": "stream",
          "name": "stderr",
          "text": [
            "\n",
            "100%|███████████████████████████| 10/10 [00:00<00:00, 96.80it/s, accuracy=0.672]"
          ]
        },
        {
          "output_type": "stream",
          "name": "stdout",
          "text": [
            "n_shots=12, Run=6, Accuracy: 67.25 %\n"
          ]
        },
        {
          "output_type": "stream",
          "name": "stderr",
          "text": [
            "\n",
            "100%|███████████████████████████| 10/10 [00:00<00:00, 93.79it/s, accuracy=0.729]"
          ]
        },
        {
          "output_type": "stream",
          "name": "stdout",
          "text": [
            "n_shots=16, Run=6, Accuracy: 72.85 %\n"
          ]
        },
        {
          "output_type": "stream",
          "name": "stderr",
          "text": [
            "\n",
            "100%|███████████████████████████| 10/10 [00:00<00:00, 96.48it/s, accuracy=0.763]"
          ]
        },
        {
          "output_type": "stream",
          "name": "stdout",
          "text": [
            "n_shots=24, Run=6, Accuracy: 76.35 %\n"
          ]
        },
        {
          "output_type": "stream",
          "name": "stderr",
          "text": [
            "\n",
            "100%|███████████████████████████| 10/10 [00:00<00:00, 89.84it/s, accuracy=0.767]"
          ]
        },
        {
          "output_type": "stream",
          "name": "stdout",
          "text": [
            "n_shots=32, Run=6, Accuracy: 76.75 %\n"
          ]
        },
        {
          "output_type": "stream",
          "name": "stderr",
          "text": [
            "\n",
            "100%|███████████████████████████| 10/10 [00:00<00:00, 92.03it/s, accuracy=0.591]"
          ]
        },
        {
          "output_type": "stream",
          "name": "stdout",
          "text": [
            "n_shots=1, Run=7, Accuracy: 59.05 %\n"
          ]
        },
        {
          "output_type": "stream",
          "name": "stderr",
          "text": [
            "\n",
            "100%|███████████████████████████| 10/10 [00:00<00:00, 99.26it/s, accuracy=0.584]"
          ]
        },
        {
          "output_type": "stream",
          "name": "stdout",
          "text": [
            "n_shots=2, Run=7, Accuracy: 58.35 %\n"
          ]
        },
        {
          "output_type": "stream",
          "name": "stderr",
          "text": [
            "\n",
            "100%|███████████████████████████| 10/10 [00:00<00:00, 98.05it/s, accuracy=0.646]"
          ]
        },
        {
          "output_type": "stream",
          "name": "stdout",
          "text": [
            "n_shots=3, Run=7, Accuracy: 64.65 %\n"
          ]
        },
        {
          "output_type": "stream",
          "name": "stderr",
          "text": [
            "\n",
            "100%|███████████████████████████| 10/10 [00:00<00:00, 95.86it/s, accuracy=0.699]"
          ]
        },
        {
          "output_type": "stream",
          "name": "stdout",
          "text": [
            "n_shots=4, Run=7, Accuracy: 69.85 %\n"
          ]
        },
        {
          "output_type": "stream",
          "name": "stderr",
          "text": [
            "\n",
            "100%|██████████████████████████| 10/10 [00:00<00:00, 101.33it/s, accuracy=0.715]"
          ]
        },
        {
          "output_type": "stream",
          "name": "stdout",
          "text": [
            "n_shots=5, Run=7, Accuracy: 71.45 %\n"
          ]
        },
        {
          "output_type": "stream",
          "name": "stderr",
          "text": [
            "\n",
            "100%|███████████████████████████| 10/10 [00:00<00:00, 99.87it/s, accuracy=0.654]"
          ]
        },
        {
          "output_type": "stream",
          "name": "stdout",
          "text": [
            "n_shots=6, Run=7, Accuracy: 65.40 %\n"
          ]
        },
        {
          "output_type": "stream",
          "name": "stderr",
          "text": [
            "\n",
            "100%|███████████████████████████| 10/10 [00:00<00:00, 99.60it/s, accuracy=0.713]"
          ]
        },
        {
          "output_type": "stream",
          "name": "stdout",
          "text": [
            "n_shots=8, Run=7, Accuracy: 71.30 %\n"
          ]
        },
        {
          "output_type": "stream",
          "name": "stderr",
          "text": [
            "\n",
            "100%|███████████████████████████| 10/10 [00:00<00:00, 99.18it/s, accuracy=0.722]"
          ]
        },
        {
          "output_type": "stream",
          "name": "stdout",
          "text": [
            "n_shots=10, Run=7, Accuracy: 72.15 %\n"
          ]
        },
        {
          "output_type": "stream",
          "name": "stderr",
          "text": [
            "\n",
            "100%|███████████████████████████| 10/10 [00:00<00:00, 97.41it/s, accuracy=0.725]"
          ]
        },
        {
          "output_type": "stream",
          "name": "stdout",
          "text": [
            "n_shots=12, Run=7, Accuracy: 72.50 %\n"
          ]
        },
        {
          "output_type": "stream",
          "name": "stderr",
          "text": [
            "\n",
            "100%|██████████████████████████| 10/10 [00:00<00:00, 100.79it/s, accuracy=0.709]"
          ]
        },
        {
          "output_type": "stream",
          "name": "stdout",
          "text": [
            "n_shots=16, Run=7, Accuracy: 70.90 %\n"
          ]
        },
        {
          "output_type": "stream",
          "name": "stderr",
          "text": [
            "\n",
            "100%|███████████████████████████| 10/10 [00:00<00:00, 95.58it/s, accuracy=0.767]"
          ]
        },
        {
          "output_type": "stream",
          "name": "stdout",
          "text": [
            "n_shots=24, Run=7, Accuracy: 76.75 %\n"
          ]
        },
        {
          "output_type": "stream",
          "name": "stderr",
          "text": [
            "\n",
            "100%|███████████████████████████| 10/10 [00:00<00:00, 98.90it/s, accuracy=0.781]"
          ]
        },
        {
          "output_type": "stream",
          "name": "stdout",
          "text": [
            "n_shots=32, Run=7, Accuracy: 78.10 %\n"
          ]
        },
        {
          "output_type": "stream",
          "name": "stderr",
          "text": [
            "\n",
            "100%|███████████████████████████| 10/10 [00:00<00:00, 95.68it/s, accuracy=0.599]"
          ]
        },
        {
          "output_type": "stream",
          "name": "stdout",
          "text": [
            "n_shots=1, Run=8, Accuracy: 59.90 %\n"
          ]
        },
        {
          "output_type": "stream",
          "name": "stderr",
          "text": [
            "\n",
            "100%|██████████████████████████| 10/10 [00:00<00:00, 100.49it/s, accuracy=0.613]"
          ]
        },
        {
          "output_type": "stream",
          "name": "stdout",
          "text": [
            "n_shots=2, Run=8, Accuracy: 61.25 %\n"
          ]
        },
        {
          "output_type": "stream",
          "name": "stderr",
          "text": [
            "\n",
            "100%|██████████████████████████| 10/10 [00:00<00:00, 100.22it/s, accuracy=0.588]"
          ]
        },
        {
          "output_type": "stream",
          "name": "stdout",
          "text": [
            "n_shots=3, Run=8, Accuracy: 58.75 %\n"
          ]
        },
        {
          "output_type": "stream",
          "name": "stderr",
          "text": [
            "\n",
            "100%|███████████████████████████| 10/10 [00:00<00:00, 96.43it/s, accuracy=0.648]"
          ]
        },
        {
          "output_type": "stream",
          "name": "stdout",
          "text": [
            "n_shots=4, Run=8, Accuracy: 64.85 %\n"
          ]
        },
        {
          "output_type": "stream",
          "name": "stderr",
          "text": [
            "\n",
            "100%|███████████████████████████| 10/10 [00:00<00:00, 99.47it/s, accuracy=0.696]"
          ]
        },
        {
          "output_type": "stream",
          "name": "stdout",
          "text": [
            "n_shots=5, Run=8, Accuracy: 69.60 %\n"
          ]
        },
        {
          "output_type": "stream",
          "name": "stderr",
          "text": [
            "\n",
            "100%|███████████████████████████| 10/10 [00:00<00:00, 99.55it/s, accuracy=0.678]"
          ]
        },
        {
          "output_type": "stream",
          "name": "stdout",
          "text": [
            "n_shots=6, Run=8, Accuracy: 67.85 %\n"
          ]
        },
        {
          "output_type": "stream",
          "name": "stderr",
          "text": [
            "\n",
            "100%|███████████████████████████| 10/10 [00:00<00:00, 97.12it/s, accuracy=0.682]"
          ]
        },
        {
          "output_type": "stream",
          "name": "stdout",
          "text": [
            "n_shots=8, Run=8, Accuracy: 68.25 %\n"
          ]
        },
        {
          "output_type": "stream",
          "name": "stderr",
          "text": [
            "\n",
            "100%|███████████████████████████| 10/10 [00:00<00:00, 98.57it/s, accuracy=0.721]"
          ]
        },
        {
          "output_type": "stream",
          "name": "stdout",
          "text": [
            "n_shots=10, Run=8, Accuracy: 72.05 %\n"
          ]
        },
        {
          "output_type": "stream",
          "name": "stderr",
          "text": [
            "\n",
            "100%|██████████████████████████| 10/10 [00:00<00:00, 100.67it/s, accuracy=0.721]"
          ]
        },
        {
          "output_type": "stream",
          "name": "stdout",
          "text": [
            "n_shots=12, Run=8, Accuracy: 72.10 %\n"
          ]
        },
        {
          "output_type": "stream",
          "name": "stderr",
          "text": [
            "\n",
            "100%|███████████████████████████| 10/10 [00:00<00:00, 96.69it/s, accuracy=0.776]"
          ]
        },
        {
          "output_type": "stream",
          "name": "stdout",
          "text": [
            "n_shots=16, Run=8, Accuracy: 77.65 %\n"
          ]
        },
        {
          "output_type": "stream",
          "name": "stderr",
          "text": [
            "\n",
            "100%|███████████████████████████| 10/10 [00:00<00:00, 96.51it/s, accuracy=0.777]"
          ]
        },
        {
          "output_type": "stream",
          "name": "stdout",
          "text": [
            "n_shots=24, Run=8, Accuracy: 77.75 %\n"
          ]
        },
        {
          "output_type": "stream",
          "name": "stderr",
          "text": [
            "\n",
            "100%|███████████████████████████| 10/10 [00:00<00:00, 95.48it/s, accuracy=0.806]"
          ]
        },
        {
          "output_type": "stream",
          "name": "stdout",
          "text": [
            "n_shots=32, Run=8, Accuracy: 80.60 %\n"
          ]
        },
        {
          "output_type": "stream",
          "name": "stderr",
          "text": [
            "\n",
            "100%|███████████████████████████| 10/10 [00:00<00:00, 95.34it/s, accuracy=0.594]"
          ]
        },
        {
          "output_type": "stream",
          "name": "stdout",
          "text": [
            "n_shots=1, Run=9, Accuracy: 59.40 %\n"
          ]
        },
        {
          "output_type": "stream",
          "name": "stderr",
          "text": [
            "\n",
            "100%|██████████████████████████| 10/10 [00:00<00:00, 100.19it/s, accuracy=0.589]"
          ]
        },
        {
          "output_type": "stream",
          "name": "stdout",
          "text": [
            "n_shots=2, Run=9, Accuracy: 58.90 %\n"
          ]
        },
        {
          "output_type": "stream",
          "name": "stderr",
          "text": [
            "\n",
            "100%|███████████████████████████| 10/10 [00:00<00:00, 92.73it/s, accuracy=0.641]"
          ]
        },
        {
          "output_type": "stream",
          "name": "stdout",
          "text": [
            "n_shots=3, Run=9, Accuracy: 64.10 %\n"
          ]
        },
        {
          "output_type": "stream",
          "name": "stderr",
          "text": [
            "\n",
            "100%|████████████████████████████| 10/10 [00:00<00:00, 96.78it/s, accuracy=0.64]"
          ]
        },
        {
          "output_type": "stream",
          "name": "stdout",
          "text": [
            "n_shots=4, Run=9, Accuracy: 64.00 %\n"
          ]
        },
        {
          "output_type": "stream",
          "name": "stderr",
          "text": [
            "\n",
            "100%|███████████████████████████| 10/10 [00:00<00:00, 97.50it/s, accuracy=0.703]"
          ]
        },
        {
          "output_type": "stream",
          "name": "stdout",
          "text": [
            "n_shots=5, Run=9, Accuracy: 70.30 %\n"
          ]
        },
        {
          "output_type": "stream",
          "name": "stderr",
          "text": [
            "\n",
            "100%|███████████████████████████| 10/10 [00:00<00:00, 92.14it/s, accuracy=0.708]"
          ]
        },
        {
          "output_type": "stream",
          "name": "stdout",
          "text": [
            "n_shots=6, Run=9, Accuracy: 70.80 %\n"
          ]
        },
        {
          "output_type": "stream",
          "name": "stderr",
          "text": [
            "\n",
            "100%|███████████████████████████| 10/10 [00:00<00:00, 92.32it/s, accuracy=0.716]"
          ]
        },
        {
          "output_type": "stream",
          "name": "stdout",
          "text": [
            "n_shots=8, Run=9, Accuracy: 71.60 %\n"
          ]
        },
        {
          "output_type": "stream",
          "name": "stderr",
          "text": [
            "\n",
            "100%|██████████████████████████| 10/10 [00:00<00:00, 100.11it/s, accuracy=0.732]"
          ]
        },
        {
          "output_type": "stream",
          "name": "stdout",
          "text": [
            "n_shots=10, Run=9, Accuracy: 73.15 %\n"
          ]
        },
        {
          "output_type": "stream",
          "name": "stderr",
          "text": [
            "\n",
            "100%|███████████████████████████| 10/10 [00:00<00:00, 95.32it/s, accuracy=0.726]"
          ]
        },
        {
          "output_type": "stream",
          "name": "stdout",
          "text": [
            "n_shots=12, Run=9, Accuracy: 72.60 %\n"
          ]
        },
        {
          "output_type": "stream",
          "name": "stderr",
          "text": [
            "\n",
            "100%|███████████████████████████| 10/10 [00:00<00:00, 96.72it/s, accuracy=0.745]"
          ]
        },
        {
          "output_type": "stream",
          "name": "stdout",
          "text": [
            "n_shots=16, Run=9, Accuracy: 74.50 %\n"
          ]
        },
        {
          "output_type": "stream",
          "name": "stderr",
          "text": [
            "\n",
            "100%|███████████████████████████| 10/10 [00:00<00:00, 97.32it/s, accuracy=0.779]"
          ]
        },
        {
          "output_type": "stream",
          "name": "stdout",
          "text": [
            "n_shots=24, Run=9, Accuracy: 77.95 %\n"
          ]
        },
        {
          "output_type": "stream",
          "name": "stderr",
          "text": [
            "\n",
            "100%|███████████████████████████| 10/10 [00:00<00:00, 96.04it/s, accuracy=0.777]"
          ]
        },
        {
          "output_type": "stream",
          "name": "stdout",
          "text": [
            "n_shots=32, Run=9, Accuracy: 77.70 %\n"
          ]
        },
        {
          "output_type": "stream",
          "name": "stderr",
          "text": [
            "\n",
            "100%|████████████████████████████| 10/10 [00:00<00:00, 95.29it/s, accuracy=0.58]"
          ]
        },
        {
          "output_type": "stream",
          "name": "stdout",
          "text": [
            "n_shots=1, Run=10, Accuracy: 57.95 %\n"
          ]
        },
        {
          "output_type": "stream",
          "name": "stderr",
          "text": [
            "\n",
            "100%|███████████████████████████| 10/10 [00:00<00:00, 95.16it/s, accuracy=0.595]"
          ]
        },
        {
          "output_type": "stream",
          "name": "stdout",
          "text": [
            "n_shots=2, Run=10, Accuracy: 59.50 %\n"
          ]
        },
        {
          "output_type": "stream",
          "name": "stderr",
          "text": [
            "\n",
            "100%|███████████████████████████| 10/10 [00:00<00:00, 93.50it/s, accuracy=0.613]"
          ]
        },
        {
          "output_type": "stream",
          "name": "stdout",
          "text": [
            "n_shots=3, Run=10, Accuracy: 61.25 %\n"
          ]
        },
        {
          "output_type": "stream",
          "name": "stderr",
          "text": [
            "\n",
            "100%|███████████████████████████| 10/10 [00:00<00:00, 86.77it/s, accuracy=0.656]"
          ]
        },
        {
          "output_type": "stream",
          "name": "stdout",
          "text": [
            "n_shots=4, Run=10, Accuracy: 65.65 %\n"
          ]
        },
        {
          "output_type": "stream",
          "name": "stderr",
          "text": [
            "\n",
            "100%|███████████████████████████| 10/10 [00:00<00:00, 98.63it/s, accuracy=0.646]"
          ]
        },
        {
          "output_type": "stream",
          "name": "stdout",
          "text": [
            "n_shots=5, Run=10, Accuracy: 64.65 %\n"
          ]
        },
        {
          "output_type": "stream",
          "name": "stderr",
          "text": [
            "\n",
            "100%|███████████████████████████| 10/10 [00:00<00:00, 97.08it/s, accuracy=0.695]"
          ]
        },
        {
          "output_type": "stream",
          "name": "stdout",
          "text": [
            "n_shots=6, Run=10, Accuracy: 69.50 %\n"
          ]
        },
        {
          "output_type": "stream",
          "name": "stderr",
          "text": [
            "\n",
            "100%|███████████████████████████| 10/10 [00:00<00:00, 98.25it/s, accuracy=0.732]"
          ]
        },
        {
          "output_type": "stream",
          "name": "stdout",
          "text": [
            "n_shots=8, Run=10, Accuracy: 73.15 %\n"
          ]
        },
        {
          "output_type": "stream",
          "name": "stderr",
          "text": [
            "\n",
            "100%|███████████████████████████| 10/10 [00:00<00:00, 97.42it/s, accuracy=0.724]"
          ]
        },
        {
          "output_type": "stream",
          "name": "stdout",
          "text": [
            "n_shots=10, Run=10, Accuracy: 72.35 %\n"
          ]
        },
        {
          "output_type": "stream",
          "name": "stderr",
          "text": [
            "\n",
            "100%|███████████████████████████| 10/10 [00:00<00:00, 98.47it/s, accuracy=0.711]"
          ]
        },
        {
          "output_type": "stream",
          "name": "stdout",
          "text": [
            "n_shots=12, Run=10, Accuracy: 71.10 %\n"
          ]
        },
        {
          "output_type": "stream",
          "name": "stderr",
          "text": [
            "\n",
            "100%|███████████████████████████| 10/10 [00:00<00:00, 96.65it/s, accuracy=0.739]"
          ]
        },
        {
          "output_type": "stream",
          "name": "stdout",
          "text": [
            "n_shots=16, Run=10, Accuracy: 73.90 %\n"
          ]
        },
        {
          "output_type": "stream",
          "name": "stderr",
          "text": [
            "\n",
            "100%|███████████████████████████| 10/10 [00:00<00:00, 99.23it/s, accuracy=0.768]"
          ]
        },
        {
          "output_type": "stream",
          "name": "stdout",
          "text": [
            "n_shots=24, Run=10, Accuracy: 76.85 %\n"
          ]
        },
        {
          "output_type": "stream",
          "name": "stderr",
          "text": [
            "\n",
            "100%|███████████████████████████| 10/10 [00:00<00:00, 96.69it/s, accuracy=0.752]"
          ]
        },
        {
          "output_type": "stream",
          "name": "stdout",
          "text": [
            "n_shots=32, Run=10, Accuracy: 75.20 %\n"
          ]
        },
        {
          "output_type": "stream",
          "name": "stderr",
          "text": [
            "\n",
            "100%|███████████████████████████| 10/10 [00:00<00:00, 95.80it/s, accuracy=0.589]"
          ]
        },
        {
          "output_type": "stream",
          "name": "stdout",
          "text": [
            "n_shots=1, Run=11, Accuracy: 58.90 %\n"
          ]
        },
        {
          "output_type": "stream",
          "name": "stderr",
          "text": [
            "\n",
            "100%|██████████████████████████| 10/10 [00:00<00:00, 101.10it/s, accuracy=0.571]"
          ]
        },
        {
          "output_type": "stream",
          "name": "stdout",
          "text": [
            "n_shots=2, Run=11, Accuracy: 57.10 %\n"
          ]
        },
        {
          "output_type": "stream",
          "name": "stderr",
          "text": [
            "\n",
            "100%|███████████████████████████| 10/10 [00:00<00:00, 98.48it/s, accuracy=0.649]"
          ]
        },
        {
          "output_type": "stream",
          "name": "stdout",
          "text": [
            "n_shots=3, Run=11, Accuracy: 64.90 %\n"
          ]
        },
        {
          "output_type": "stream",
          "name": "stderr",
          "text": [
            "\n",
            "100%|███████████████████████████| 10/10 [00:00<00:00, 93.90it/s, accuracy=0.669]"
          ]
        },
        {
          "output_type": "stream",
          "name": "stdout",
          "text": [
            "n_shots=4, Run=11, Accuracy: 66.90 %\n"
          ]
        },
        {
          "output_type": "stream",
          "name": "stderr",
          "text": [
            "\n",
            "100%|███████████████████████████| 10/10 [00:00<00:00, 82.97it/s, accuracy=0.711]"
          ]
        },
        {
          "output_type": "stream",
          "name": "stdout",
          "text": [
            "n_shots=5, Run=11, Accuracy: 71.05 %\n"
          ]
        },
        {
          "output_type": "stream",
          "name": "stderr",
          "text": [
            "\n",
            "100%|███████████████████████████| 10/10 [00:00<00:00, 94.90it/s, accuracy=0.681]"
          ]
        },
        {
          "output_type": "stream",
          "name": "stdout",
          "text": [
            "n_shots=6, Run=11, Accuracy: 68.10 %\n"
          ]
        },
        {
          "output_type": "stream",
          "name": "stderr",
          "text": [
            "\n",
            "100%|███████████████████████████| 10/10 [00:00<00:00, 97.54it/s, accuracy=0.649]"
          ]
        },
        {
          "output_type": "stream",
          "name": "stdout",
          "text": [
            "n_shots=8, Run=11, Accuracy: 64.90 %\n"
          ]
        },
        {
          "output_type": "stream",
          "name": "stderr",
          "text": [
            "\n",
            "100%|███████████████████████████| 10/10 [00:00<00:00, 98.94it/s, accuracy=0.708]"
          ]
        },
        {
          "output_type": "stream",
          "name": "stdout",
          "text": [
            "n_shots=10, Run=11, Accuracy: 70.80 %\n"
          ]
        },
        {
          "output_type": "stream",
          "name": "stderr",
          "text": [
            "\n",
            "100%|████████████████████████████| 10/10 [00:00<00:00, 99.38it/s, accuracy=0.72]"
          ]
        },
        {
          "output_type": "stream",
          "name": "stdout",
          "text": [
            "n_shots=12, Run=11, Accuracy: 71.95 %\n"
          ]
        },
        {
          "output_type": "stream",
          "name": "stderr",
          "text": [
            "\n",
            "100%|███████████████████████████| 10/10 [00:00<00:00, 97.20it/s, accuracy=0.731]"
          ]
        },
        {
          "output_type": "stream",
          "name": "stdout",
          "text": [
            "n_shots=16, Run=11, Accuracy: 73.10 %\n"
          ]
        },
        {
          "output_type": "stream",
          "name": "stderr",
          "text": [
            "\n",
            "100%|███████████████████████████| 10/10 [00:00<00:00, 81.00it/s, accuracy=0.755]"
          ]
        },
        {
          "output_type": "stream",
          "name": "stdout",
          "text": [
            "n_shots=24, Run=11, Accuracy: 75.50 %\n"
          ]
        },
        {
          "output_type": "stream",
          "name": "stderr",
          "text": [
            "\n",
            "100%|████████████████████████████| 10/10 [00:00<00:00, 92.78it/s, accuracy=0.78]"
          ]
        },
        {
          "output_type": "stream",
          "name": "stdout",
          "text": [
            "n_shots=32, Run=11, Accuracy: 78.05 %\n"
          ]
        },
        {
          "output_type": "stream",
          "name": "stderr",
          "text": [
            "\n",
            "100%|████████████████████████████| 10/10 [00:00<00:00, 95.62it/s, accuracy=0.58]"
          ]
        },
        {
          "output_type": "stream",
          "name": "stdout",
          "text": [
            "n_shots=1, Run=12, Accuracy: 58.00 %\n"
          ]
        },
        {
          "output_type": "stream",
          "name": "stderr",
          "text": [
            "\n",
            "100%|███████████████████████████| 10/10 [00:00<00:00, 96.58it/s, accuracy=0.599]"
          ]
        },
        {
          "output_type": "stream",
          "name": "stdout",
          "text": [
            "n_shots=2, Run=12, Accuracy: 59.85 %\n"
          ]
        },
        {
          "output_type": "stream",
          "name": "stderr",
          "text": [
            "\n",
            "100%|███████████████████████████| 10/10 [00:00<00:00, 97.63it/s, accuracy=0.695]"
          ]
        },
        {
          "output_type": "stream",
          "name": "stdout",
          "text": [
            "n_shots=3, Run=12, Accuracy: 69.45 %\n"
          ]
        },
        {
          "output_type": "stream",
          "name": "stderr",
          "text": [
            "\n",
            "100%|███████████████████████████| 10/10 [00:00<00:00, 97.62it/s, accuracy=0.663]"
          ]
        },
        {
          "output_type": "stream",
          "name": "stdout",
          "text": [
            "n_shots=4, Run=12, Accuracy: 66.30 %\n"
          ]
        },
        {
          "output_type": "stream",
          "name": "stderr",
          "text": [
            "\n",
            "100%|███████████████████████████| 10/10 [00:00<00:00, 93.62it/s, accuracy=0.731]"
          ]
        },
        {
          "output_type": "stream",
          "name": "stdout",
          "text": [
            "n_shots=5, Run=12, Accuracy: 73.05 %\n"
          ]
        },
        {
          "output_type": "stream",
          "name": "stderr",
          "text": [
            "\n",
            "100%|███████████████████████████| 10/10 [00:00<00:00, 97.93it/s, accuracy=0.651]"
          ]
        },
        {
          "output_type": "stream",
          "name": "stdout",
          "text": [
            "n_shots=6, Run=12, Accuracy: 65.10 %\n"
          ]
        },
        {
          "output_type": "stream",
          "name": "stderr",
          "text": [
            "\n",
            "100%|███████████████████████████| 10/10 [00:00<00:00, 97.76it/s, accuracy=0.734]"
          ]
        },
        {
          "output_type": "stream",
          "name": "stdout",
          "text": [
            "n_shots=8, Run=12, Accuracy: 73.40 %\n"
          ]
        },
        {
          "output_type": "stream",
          "name": "stderr",
          "text": [
            "\n",
            "100%|███████████████████████████| 10/10 [00:00<00:00, 96.50it/s, accuracy=0.703]"
          ]
        },
        {
          "output_type": "stream",
          "name": "stdout",
          "text": [
            "n_shots=10, Run=12, Accuracy: 70.25 %\n"
          ]
        },
        {
          "output_type": "stream",
          "name": "stderr",
          "text": [
            "\n",
            "100%|███████████████████████████| 10/10 [00:00<00:00, 99.75it/s, accuracy=0.767]"
          ]
        },
        {
          "output_type": "stream",
          "name": "stdout",
          "text": [
            "n_shots=12, Run=12, Accuracy: 76.75 %\n"
          ]
        },
        {
          "output_type": "stream",
          "name": "stderr",
          "text": [
            "\n",
            "100%|███████████████████████████| 10/10 [00:00<00:00, 99.47it/s, accuracy=0.768]"
          ]
        },
        {
          "output_type": "stream",
          "name": "stdout",
          "text": [
            "n_shots=16, Run=12, Accuracy: 76.85 %\n"
          ]
        },
        {
          "output_type": "stream",
          "name": "stderr",
          "text": [
            "\n",
            "100%|███████████████████████████| 10/10 [00:00<00:00, 96.85it/s, accuracy=0.734]"
          ]
        },
        {
          "output_type": "stream",
          "name": "stdout",
          "text": [
            "n_shots=24, Run=12, Accuracy: 73.40 %\n"
          ]
        },
        {
          "output_type": "stream",
          "name": "stderr",
          "text": [
            "\n",
            "100%|███████████████████████████| 10/10 [00:00<00:00, 95.25it/s, accuracy=0.798]"
          ]
        },
        {
          "output_type": "stream",
          "name": "stdout",
          "text": [
            "n_shots=32, Run=12, Accuracy: 79.85 %\n"
          ]
        },
        {
          "output_type": "stream",
          "name": "stderr",
          "text": [
            "\n",
            "100%|███████████████████████████| 10/10 [00:00<00:00, 93.80it/s, accuracy=0.561]"
          ]
        },
        {
          "output_type": "stream",
          "name": "stdout",
          "text": [
            "n_shots=1, Run=13, Accuracy: 56.15 %\n"
          ]
        },
        {
          "output_type": "stream",
          "name": "stderr",
          "text": [
            "\n",
            "100%|████████████████████████████| 10/10 [00:00<00:00, 98.68it/s, accuracy=0.64]"
          ]
        },
        {
          "output_type": "stream",
          "name": "stdout",
          "text": [
            "n_shots=2, Run=13, Accuracy: 64.00 %\n"
          ]
        },
        {
          "output_type": "stream",
          "name": "stderr",
          "text": [
            "\n",
            "100%|███████████████████████████| 10/10 [00:00<00:00, 93.55it/s, accuracy=0.637]"
          ]
        },
        {
          "output_type": "stream",
          "name": "stdout",
          "text": [
            "n_shots=3, Run=13, Accuracy: 63.75 %\n"
          ]
        },
        {
          "output_type": "stream",
          "name": "stderr",
          "text": [
            "\n",
            "100%|██████████████████████████| 10/10 [00:00<00:00, 100.60it/s, accuracy=0.651]"
          ]
        },
        {
          "output_type": "stream",
          "name": "stdout",
          "text": [
            "n_shots=4, Run=13, Accuracy: 65.15 %\n"
          ]
        },
        {
          "output_type": "stream",
          "name": "stderr",
          "text": [
            "\n",
            "100%|██████████████████████████| 10/10 [00:00<00:00, 100.46it/s, accuracy=0.689]"
          ]
        },
        {
          "output_type": "stream",
          "name": "stdout",
          "text": [
            "n_shots=5, Run=13, Accuracy: 68.85 %\n"
          ]
        },
        {
          "output_type": "stream",
          "name": "stderr",
          "text": [
            "\n",
            "100%|███████████████████████████| 10/10 [00:00<00:00, 96.03it/s, accuracy=0.741]"
          ]
        },
        {
          "output_type": "stream",
          "name": "stdout",
          "text": [
            "n_shots=6, Run=13, Accuracy: 74.10 %\n"
          ]
        },
        {
          "output_type": "stream",
          "name": "stderr",
          "text": [
            "\n",
            "100%|██████████████████████████| 10/10 [00:00<00:00, 101.03it/s, accuracy=0.717]"
          ]
        },
        {
          "output_type": "stream",
          "name": "stdout",
          "text": [
            "n_shots=8, Run=13, Accuracy: 71.65 %\n"
          ]
        },
        {
          "output_type": "stream",
          "name": "stderr",
          "text": [
            "\n",
            "100%|███████████████████████████| 10/10 [00:00<00:00, 99.11it/s, accuracy=0.706]"
          ]
        },
        {
          "output_type": "stream",
          "name": "stdout",
          "text": [
            "n_shots=10, Run=13, Accuracy: 70.60 %\n"
          ]
        },
        {
          "output_type": "stream",
          "name": "stderr",
          "text": [
            "\n",
            "100%|███████████████████████████| 10/10 [00:00<00:00, 97.44it/s, accuracy=0.751]"
          ]
        },
        {
          "output_type": "stream",
          "name": "stdout",
          "text": [
            "n_shots=12, Run=13, Accuracy: 75.15 %\n"
          ]
        },
        {
          "output_type": "stream",
          "name": "stderr",
          "text": [
            "\n",
            "100%|███████████████████████████| 10/10 [00:00<00:00, 93.76it/s, accuracy=0.754]"
          ]
        },
        {
          "output_type": "stream",
          "name": "stdout",
          "text": [
            "n_shots=16, Run=13, Accuracy: 75.40 %\n"
          ]
        },
        {
          "output_type": "stream",
          "name": "stderr",
          "text": [
            "\n",
            "100%|███████████████████████████| 10/10 [00:00<00:00, 97.15it/s, accuracy=0.766]"
          ]
        },
        {
          "output_type": "stream",
          "name": "stdout",
          "text": [
            "n_shots=24, Run=13, Accuracy: 76.65 %\n"
          ]
        },
        {
          "output_type": "stream",
          "name": "stderr",
          "text": [
            "\n",
            "100%|███████████████████████████| 10/10 [00:00<00:00, 91.62it/s, accuracy=0.798]"
          ]
        },
        {
          "output_type": "stream",
          "name": "stdout",
          "text": [
            "n_shots=32, Run=13, Accuracy: 79.85 %\n"
          ]
        },
        {
          "output_type": "stream",
          "name": "stderr",
          "text": [
            "\n",
            "100%|███████████████████████████| 10/10 [00:00<00:00, 96.82it/s, accuracy=0.587]"
          ]
        },
        {
          "output_type": "stream",
          "name": "stdout",
          "text": [
            "n_shots=1, Run=14, Accuracy: 58.70 %\n"
          ]
        },
        {
          "output_type": "stream",
          "name": "stderr",
          "text": [
            "\n",
            "100%|███████████████████████████| 10/10 [00:00<00:00, 97.96it/s, accuracy=0.623]"
          ]
        },
        {
          "output_type": "stream",
          "name": "stdout",
          "text": [
            "n_shots=2, Run=14, Accuracy: 62.25 %\n"
          ]
        },
        {
          "output_type": "stream",
          "name": "stderr",
          "text": [
            "\n",
            "100%|███████████████████████████| 10/10 [00:00<00:00, 94.93it/s, accuracy=0.626]"
          ]
        },
        {
          "output_type": "stream",
          "name": "stdout",
          "text": [
            "n_shots=3, Run=14, Accuracy: 62.65 %\n"
          ]
        },
        {
          "output_type": "stream",
          "name": "stderr",
          "text": [
            "\n",
            "100%|███████████████████████████| 10/10 [00:00<00:00, 95.69it/s, accuracy=0.641]"
          ]
        },
        {
          "output_type": "stream",
          "name": "stdout",
          "text": [
            "n_shots=4, Run=14, Accuracy: 64.15 %\n"
          ]
        },
        {
          "output_type": "stream",
          "name": "stderr",
          "text": [
            "\n",
            "100%|███████████████████████████| 10/10 [00:00<00:00, 95.28it/s, accuracy=0.696]"
          ]
        },
        {
          "output_type": "stream",
          "name": "stdout",
          "text": [
            "n_shots=5, Run=14, Accuracy: 69.55 %\n"
          ]
        },
        {
          "output_type": "stream",
          "name": "stderr",
          "text": [
            "\n",
            "100%|███████████████████████████| 10/10 [00:00<00:00, 98.49it/s, accuracy=0.712]"
          ]
        },
        {
          "output_type": "stream",
          "name": "stdout",
          "text": [
            "n_shots=6, Run=14, Accuracy: 71.20 %\n"
          ]
        },
        {
          "output_type": "stream",
          "name": "stderr",
          "text": [
            "\n",
            "100%|███████████████████████████| 10/10 [00:00<00:00, 98.32it/s, accuracy=0.682]"
          ]
        },
        {
          "output_type": "stream",
          "name": "stdout",
          "text": [
            "n_shots=8, Run=14, Accuracy: 68.25 %\n"
          ]
        },
        {
          "output_type": "stream",
          "name": "stderr",
          "text": [
            "\n",
            "100%|███████████████████████████| 10/10 [00:00<00:00, 95.17it/s, accuracy=0.707]"
          ]
        },
        {
          "output_type": "stream",
          "name": "stdout",
          "text": [
            "n_shots=10, Run=14, Accuracy: 70.65 %\n"
          ]
        },
        {
          "output_type": "stream",
          "name": "stderr",
          "text": [
            "\n",
            "100%|███████████████████████████| 10/10 [00:00<00:00, 97.22it/s, accuracy=0.737]"
          ]
        },
        {
          "output_type": "stream",
          "name": "stdout",
          "text": [
            "n_shots=12, Run=14, Accuracy: 73.65 %\n"
          ]
        },
        {
          "output_type": "stream",
          "name": "stderr",
          "text": [
            "\n",
            "100%|███████████████████████████| 10/10 [00:00<00:00, 99.89it/s, accuracy=0.748]"
          ]
        },
        {
          "output_type": "stream",
          "name": "stdout",
          "text": [
            "n_shots=16, Run=14, Accuracy: 74.75 %\n"
          ]
        },
        {
          "output_type": "stream",
          "name": "stderr",
          "text": [
            "\n",
            "100%|███████████████████████████| 10/10 [00:00<00:00, 98.04it/s, accuracy=0.774]"
          ]
        },
        {
          "output_type": "stream",
          "name": "stdout",
          "text": [
            "n_shots=24, Run=14, Accuracy: 77.40 %\n"
          ]
        },
        {
          "output_type": "stream",
          "name": "stderr",
          "text": [
            "\n",
            "100%|████████████████████████████| 10/10 [00:00<00:00, 98.21it/s, accuracy=0.77]"
          ]
        },
        {
          "output_type": "stream",
          "name": "stdout",
          "text": [
            "n_shots=32, Run=14, Accuracy: 77.00 %\n"
          ]
        },
        {
          "output_type": "stream",
          "name": "stderr",
          "text": [
            "\n",
            "100%|███████████████████████████| 10/10 [00:00<00:00, 96.11it/s, accuracy=0.599]"
          ]
        },
        {
          "output_type": "stream",
          "name": "stdout",
          "text": [
            "n_shots=1, Run=15, Accuracy: 59.85 %\n"
          ]
        },
        {
          "output_type": "stream",
          "name": "stderr",
          "text": [
            "\n",
            "100%|██████████████████████████| 10/10 [00:00<00:00, 100.51it/s, accuracy=0.635]"
          ]
        },
        {
          "output_type": "stream",
          "name": "stdout",
          "text": [
            "n_shots=2, Run=15, Accuracy: 63.55 %\n"
          ]
        },
        {
          "output_type": "stream",
          "name": "stderr",
          "text": [
            "\n",
            "100%|███████████████████████████| 10/10 [00:00<00:00, 99.43it/s, accuracy=0.675]"
          ]
        },
        {
          "output_type": "stream",
          "name": "stdout",
          "text": [
            "n_shots=3, Run=15, Accuracy: 67.55 %\n"
          ]
        },
        {
          "output_type": "stream",
          "name": "stderr",
          "text": [
            "\n",
            "100%|███████████████████████████| 10/10 [00:00<00:00, 97.06it/s, accuracy=0.645]"
          ]
        },
        {
          "output_type": "stream",
          "name": "stdout",
          "text": [
            "n_shots=4, Run=15, Accuracy: 64.50 %\n"
          ]
        },
        {
          "output_type": "stream",
          "name": "stderr",
          "text": [
            "\n",
            "100%|███████████████████████████| 10/10 [00:00<00:00, 99.66it/s, accuracy=0.659]"
          ]
        },
        {
          "output_type": "stream",
          "name": "stdout",
          "text": [
            "n_shots=5, Run=15, Accuracy: 65.95 %\n"
          ]
        },
        {
          "output_type": "stream",
          "name": "stderr",
          "text": [
            "\n",
            "100%|███████████████████████████| 10/10 [00:00<00:00, 101.27it/s, accuracy=0.68]"
          ]
        },
        {
          "output_type": "stream",
          "name": "stdout",
          "text": [
            "n_shots=6, Run=15, Accuracy: 68.00 %\n"
          ]
        },
        {
          "output_type": "stream",
          "name": "stderr",
          "text": [
            "\n",
            "100%|███████████████████████████| 10/10 [00:00<00:00, 94.07it/s, accuracy=0.684]"
          ]
        },
        {
          "output_type": "stream",
          "name": "stdout",
          "text": [
            "n_shots=8, Run=15, Accuracy: 68.40 %\n"
          ]
        },
        {
          "output_type": "stream",
          "name": "stderr",
          "text": [
            "\n",
            "100%|███████████████████████████| 10/10 [00:00<00:00, 88.76it/s, accuracy=0.728]"
          ]
        },
        {
          "output_type": "stream",
          "name": "stdout",
          "text": [
            "n_shots=10, Run=15, Accuracy: 72.75 %\n"
          ]
        },
        {
          "output_type": "stream",
          "name": "stderr",
          "text": [
            "\n",
            "100%|█████████████████████████████| 10/10 [00:00<00:00, 94.43it/s, accuracy=0.7]"
          ]
        },
        {
          "output_type": "stream",
          "name": "stdout",
          "text": [
            "n_shots=12, Run=15, Accuracy: 69.95 %\n"
          ]
        },
        {
          "output_type": "stream",
          "name": "stderr",
          "text": [
            "\n",
            "100%|███████████████████████████| 10/10 [00:00<00:00, 94.67it/s, accuracy=0.754]"
          ]
        },
        {
          "output_type": "stream",
          "name": "stdout",
          "text": [
            "n_shots=16, Run=15, Accuracy: 75.40 %\n"
          ]
        },
        {
          "output_type": "stream",
          "name": "stderr",
          "text": [
            "\n",
            "100%|███████████████████████████| 10/10 [00:00<00:00, 98.57it/s, accuracy=0.795]"
          ]
        },
        {
          "output_type": "stream",
          "name": "stdout",
          "text": [
            "n_shots=24, Run=15, Accuracy: 79.50 %\n"
          ]
        },
        {
          "output_type": "stream",
          "name": "stderr",
          "text": [
            "\n",
            "100%|███████████████████████████| 10/10 [00:00<00:00, 94.40it/s, accuracy=0.772]"
          ]
        },
        {
          "output_type": "stream",
          "name": "stdout",
          "text": [
            "n_shots=32, Run=15, Accuracy: 77.20 %\n"
          ]
        },
        {
          "output_type": "stream",
          "name": "stderr",
          "text": [
            "\n",
            "100%|███████████████████████████| 10/10 [00:00<00:00, 96.36it/s, accuracy=0.519]"
          ]
        },
        {
          "output_type": "stream",
          "name": "stdout",
          "text": [
            "n_shots=1, Run=16, Accuracy: 51.95 %\n"
          ]
        },
        {
          "output_type": "stream",
          "name": "stderr",
          "text": [
            "\n",
            "100%|██████████████████████████| 10/10 [00:00<00:00, 101.08it/s, accuracy=0.627]"
          ]
        },
        {
          "output_type": "stream",
          "name": "stdout",
          "text": [
            "n_shots=2, Run=16, Accuracy: 62.70 %\n"
          ]
        },
        {
          "output_type": "stream",
          "name": "stderr",
          "text": [
            "\n",
            "100%|███████████████████████████| 10/10 [00:00<00:00, 99.16it/s, accuracy=0.612]"
          ]
        },
        {
          "output_type": "stream",
          "name": "stdout",
          "text": [
            "n_shots=3, Run=16, Accuracy: 61.20 %\n"
          ]
        },
        {
          "output_type": "stream",
          "name": "stderr",
          "text": [
            "\n",
            "100%|██████████████████████████| 10/10 [00:00<00:00, 102.46it/s, accuracy=0.649]"
          ]
        },
        {
          "output_type": "stream",
          "name": "stdout",
          "text": [
            "n_shots=4, Run=16, Accuracy: 64.90 %\n"
          ]
        },
        {
          "output_type": "stream",
          "name": "stderr",
          "text": [
            "\n",
            "100%|███████████████████████████| 10/10 [00:00<00:00, 99.74it/s, accuracy=0.651]"
          ]
        },
        {
          "output_type": "stream",
          "name": "stdout",
          "text": [
            "n_shots=5, Run=16, Accuracy: 65.15 %\n"
          ]
        },
        {
          "output_type": "stream",
          "name": "stderr",
          "text": [
            "\n",
            "100%|███████████████████████████| 10/10 [00:00<00:00, 95.94it/s, accuracy=0.692]"
          ]
        },
        {
          "output_type": "stream",
          "name": "stdout",
          "text": [
            "n_shots=6, Run=16, Accuracy: 69.15 %\n"
          ]
        },
        {
          "output_type": "stream",
          "name": "stderr",
          "text": [
            "\n",
            "100%|███████████████████████████| 10/10 [00:00<00:00, 91.70it/s, accuracy=0.727]"
          ]
        },
        {
          "output_type": "stream",
          "name": "stdout",
          "text": [
            "n_shots=8, Run=16, Accuracy: 72.70 %\n"
          ]
        },
        {
          "output_type": "stream",
          "name": "stderr",
          "text": [
            "\n",
            "100%|███████████████████████████| 10/10 [00:00<00:00, 98.53it/s, accuracy=0.718]"
          ]
        },
        {
          "output_type": "stream",
          "name": "stdout",
          "text": [
            "n_shots=10, Run=16, Accuracy: 71.80 %\n"
          ]
        },
        {
          "output_type": "stream",
          "name": "stderr",
          "text": [
            "\n",
            "100%|███████████████████████████| 10/10 [00:00<00:00, 98.89it/s, accuracy=0.755]"
          ]
        },
        {
          "output_type": "stream",
          "name": "stdout",
          "text": [
            "n_shots=12, Run=16, Accuracy: 75.50 %\n"
          ]
        },
        {
          "output_type": "stream",
          "name": "stderr",
          "text": [
            "\n",
            "100%|███████████████████████████| 10/10 [00:00<00:00, 97.73it/s, accuracy=0.745]"
          ]
        },
        {
          "output_type": "stream",
          "name": "stdout",
          "text": [
            "n_shots=16, Run=16, Accuracy: 74.50 %\n"
          ]
        },
        {
          "output_type": "stream",
          "name": "stderr",
          "text": [
            "\n",
            "100%|███████████████████████████| 10/10 [00:00<00:00, 99.72it/s, accuracy=0.754]"
          ]
        },
        {
          "output_type": "stream",
          "name": "stdout",
          "text": [
            "n_shots=24, Run=16, Accuracy: 75.45 %\n"
          ]
        },
        {
          "output_type": "stream",
          "name": "stderr",
          "text": [
            "\n",
            "100%|████████████████████████████| 10/10 [00:00<00:00, 93.86it/s, accuracy=0.78]"
          ]
        },
        {
          "output_type": "stream",
          "name": "stdout",
          "text": [
            "n_shots=32, Run=16, Accuracy: 78.00 %\n"
          ]
        },
        {
          "output_type": "stream",
          "name": "stderr",
          "text": [
            "\n",
            "100%|███████████████████████████| 10/10 [00:00<00:00, 94.85it/s, accuracy=0.551]"
          ]
        },
        {
          "output_type": "stream",
          "name": "stdout",
          "text": [
            "n_shots=1, Run=17, Accuracy: 55.10 %\n"
          ]
        },
        {
          "output_type": "stream",
          "name": "stderr",
          "text": [
            "\n",
            "100%|███████████████████████████| 10/10 [00:00<00:00, 98.92it/s, accuracy=0.605]"
          ]
        },
        {
          "output_type": "stream",
          "name": "stdout",
          "text": [
            "n_shots=2, Run=17, Accuracy: 60.50 %\n"
          ]
        },
        {
          "output_type": "stream",
          "name": "stderr",
          "text": [
            "\n",
            "100%|██████████████████████████| 10/10 [00:00<00:00, 100.06it/s, accuracy=0.661]"
          ]
        },
        {
          "output_type": "stream",
          "name": "stdout",
          "text": [
            "n_shots=3, Run=17, Accuracy: 66.15 %\n"
          ]
        },
        {
          "output_type": "stream",
          "name": "stderr",
          "text": [
            "\n",
            "100%|███████████████████████████| 10/10 [00:00<00:00, 96.79it/s, accuracy=0.638]"
          ]
        },
        {
          "output_type": "stream",
          "name": "stdout",
          "text": [
            "n_shots=4, Run=17, Accuracy: 63.80 %\n"
          ]
        },
        {
          "output_type": "stream",
          "name": "stderr",
          "text": [
            "\n",
            "100%|██████████████████████████| 10/10 [00:00<00:00, 101.43it/s, accuracy=0.666]"
          ]
        },
        {
          "output_type": "stream",
          "name": "stdout",
          "text": [
            "n_shots=5, Run=17, Accuracy: 66.60 %\n"
          ]
        },
        {
          "output_type": "stream",
          "name": "stderr",
          "text": [
            "\n",
            "100%|███████████████████████████| 10/10 [00:00<00:00, 98.95it/s, accuracy=0.681]"
          ]
        },
        {
          "output_type": "stream",
          "name": "stdout",
          "text": [
            "n_shots=6, Run=17, Accuracy: 68.15 %\n"
          ]
        },
        {
          "output_type": "stream",
          "name": "stderr",
          "text": [
            "\n",
            "100%|███████████████████████████| 10/10 [00:00<00:00, 96.22it/s, accuracy=0.701]"
          ]
        },
        {
          "output_type": "stream",
          "name": "stdout",
          "text": [
            "n_shots=8, Run=17, Accuracy: 70.10 %\n"
          ]
        },
        {
          "output_type": "stream",
          "name": "stderr",
          "text": [
            "\n",
            "100%|███████████████████████████| 10/10 [00:00<00:00, 97.13it/s, accuracy=0.704]"
          ]
        },
        {
          "output_type": "stream",
          "name": "stdout",
          "text": [
            "n_shots=10, Run=17, Accuracy: 70.40 %\n"
          ]
        },
        {
          "output_type": "stream",
          "name": "stderr",
          "text": [
            "\n",
            "100%|████████████████████████████| 10/10 [00:00<00:00, 99.01it/s, accuracy=0.69]"
          ]
        },
        {
          "output_type": "stream",
          "name": "stdout",
          "text": [
            "n_shots=12, Run=17, Accuracy: 68.95 %\n"
          ]
        },
        {
          "output_type": "stream",
          "name": "stderr",
          "text": [
            "\n",
            "100%|███████████████████████████| 10/10 [00:00<00:00, 99.40it/s, accuracy=0.768]"
          ]
        },
        {
          "output_type": "stream",
          "name": "stdout",
          "text": [
            "n_shots=16, Run=17, Accuracy: 76.85 %\n"
          ]
        },
        {
          "output_type": "stream",
          "name": "stderr",
          "text": [
            "\n",
            "100%|███████████████████████████| 10/10 [00:00<00:00, 97.40it/s, accuracy=0.769]"
          ]
        },
        {
          "output_type": "stream",
          "name": "stdout",
          "text": [
            "n_shots=24, Run=17, Accuracy: 76.95 %\n"
          ]
        },
        {
          "output_type": "stream",
          "name": "stderr",
          "text": [
            "\n",
            "100%|█████████████████████████████| 10/10 [00:00<00:00, 88.94it/s, accuracy=0.8]"
          ]
        },
        {
          "output_type": "stream",
          "name": "stdout",
          "text": [
            "n_shots=32, Run=17, Accuracy: 80.05 %\n"
          ]
        },
        {
          "output_type": "stream",
          "name": "stderr",
          "text": [
            "\n",
            "100%|███████████████████████████| 10/10 [00:00<00:00, 90.56it/s, accuracy=0.555]"
          ]
        },
        {
          "output_type": "stream",
          "name": "stdout",
          "text": [
            "n_shots=1, Run=18, Accuracy: 55.50 %\n"
          ]
        },
        {
          "output_type": "stream",
          "name": "stderr",
          "text": [
            "\n",
            "100%|██████████████████████████| 10/10 [00:00<00:00, 101.24it/s, accuracy=0.614]"
          ]
        },
        {
          "output_type": "stream",
          "name": "stdout",
          "text": [
            "n_shots=2, Run=18, Accuracy: 61.40 %\n"
          ]
        },
        {
          "output_type": "stream",
          "name": "stderr",
          "text": [
            "\n",
            "100%|███████████████████████████| 10/10 [00:00<00:00, 99.90it/s, accuracy=0.648]"
          ]
        },
        {
          "output_type": "stream",
          "name": "stdout",
          "text": [
            "n_shots=3, Run=18, Accuracy: 64.85 %\n"
          ]
        },
        {
          "output_type": "stream",
          "name": "stderr",
          "text": [
            "\n",
            "100%|███████████████████████████| 10/10 [00:00<00:00, 99.77it/s, accuracy=0.631]"
          ]
        },
        {
          "output_type": "stream",
          "name": "stdout",
          "text": [
            "n_shots=4, Run=18, Accuracy: 63.10 %\n"
          ]
        },
        {
          "output_type": "stream",
          "name": "stderr",
          "text": [
            "\n",
            "100%|██████████████████████████| 10/10 [00:00<00:00, 101.67it/s, accuracy=0.657]"
          ]
        },
        {
          "output_type": "stream",
          "name": "stdout",
          "text": [
            "n_shots=5, Run=18, Accuracy: 65.70 %\n"
          ]
        },
        {
          "output_type": "stream",
          "name": "stderr",
          "text": [
            "\n",
            "100%|███████████████████████████| 10/10 [00:00<00:00, 97.58it/s, accuracy=0.676]"
          ]
        },
        {
          "output_type": "stream",
          "name": "stdout",
          "text": [
            "n_shots=6, Run=18, Accuracy: 67.60 %\n"
          ]
        },
        {
          "output_type": "stream",
          "name": "stderr",
          "text": [
            "\n",
            "100%|██████████████████████████| 10/10 [00:00<00:00, 100.26it/s, accuracy=0.685]"
          ]
        },
        {
          "output_type": "stream",
          "name": "stdout",
          "text": [
            "n_shots=8, Run=18, Accuracy: 68.50 %\n"
          ]
        },
        {
          "output_type": "stream",
          "name": "stderr",
          "text": [
            "\n",
            "100%|███████████████████████████| 10/10 [00:00<00:00, 99.76it/s, accuracy=0.748]"
          ]
        },
        {
          "output_type": "stream",
          "name": "stdout",
          "text": [
            "n_shots=10, Run=18, Accuracy: 74.75 %\n"
          ]
        },
        {
          "output_type": "stream",
          "name": "stderr",
          "text": [
            "\n",
            "100%|███████████████████████████| 10/10 [00:00<00:00, 97.88it/s, accuracy=0.725]"
          ]
        },
        {
          "output_type": "stream",
          "name": "stdout",
          "text": [
            "n_shots=12, Run=18, Accuracy: 72.50 %\n"
          ]
        },
        {
          "output_type": "stream",
          "name": "stderr",
          "text": [
            "\n",
            "100%|███████████████████████████| 10/10 [00:00<00:00, 98.16it/s, accuracy=0.765]"
          ]
        },
        {
          "output_type": "stream",
          "name": "stdout",
          "text": [
            "n_shots=16, Run=18, Accuracy: 76.55 %\n"
          ]
        },
        {
          "output_type": "stream",
          "name": "stderr",
          "text": [
            "\n",
            "100%|███████████████████████████| 10/10 [00:00<00:00, 97.59it/s, accuracy=0.789]"
          ]
        },
        {
          "output_type": "stream",
          "name": "stdout",
          "text": [
            "n_shots=24, Run=18, Accuracy: 78.95 %\n"
          ]
        },
        {
          "output_type": "stream",
          "name": "stderr",
          "text": [
            "\n",
            "100%|███████████████████████████| 10/10 [00:00<00:00, 96.14it/s, accuracy=0.781]"
          ]
        },
        {
          "output_type": "stream",
          "name": "stdout",
          "text": [
            "n_shots=32, Run=18, Accuracy: 78.10 %\n"
          ]
        },
        {
          "output_type": "stream",
          "name": "stderr",
          "text": [
            "\n",
            "100%|███████████████████████████| 10/10 [00:00<00:00, 99.49it/s, accuracy=0.588]"
          ]
        },
        {
          "output_type": "stream",
          "name": "stdout",
          "text": [
            "n_shots=1, Run=19, Accuracy: 58.75 %\n"
          ]
        },
        {
          "output_type": "stream",
          "name": "stderr",
          "text": [
            "\n",
            "100%|███████████████████████████| 10/10 [00:00<00:00, 99.88it/s, accuracy=0.633]"
          ]
        },
        {
          "output_type": "stream",
          "name": "stdout",
          "text": [
            "n_shots=2, Run=19, Accuracy: 63.35 %\n"
          ]
        },
        {
          "output_type": "stream",
          "name": "stderr",
          "text": [
            "\n",
            "100%|███████████████████████████| 10/10 [00:00<00:00, 99.38it/s, accuracy=0.663]"
          ]
        },
        {
          "output_type": "stream",
          "name": "stdout",
          "text": [
            "n_shots=3, Run=19, Accuracy: 66.35 %\n"
          ]
        },
        {
          "output_type": "stream",
          "name": "stderr",
          "text": [
            "\n",
            "100%|███████████████████████████| 10/10 [00:00<00:00, 98.41it/s, accuracy=0.676]"
          ]
        },
        {
          "output_type": "stream",
          "name": "stdout",
          "text": [
            "n_shots=4, Run=19, Accuracy: 67.65 %\n"
          ]
        },
        {
          "output_type": "stream",
          "name": "stderr",
          "text": [
            "\n",
            "100%|██████████████████████████| 10/10 [00:00<00:00, 100.05it/s, accuracy=0.713]"
          ]
        },
        {
          "output_type": "stream",
          "name": "stdout",
          "text": [
            "n_shots=5, Run=19, Accuracy: 71.30 %\n"
          ]
        },
        {
          "output_type": "stream",
          "name": "stderr",
          "text": [
            "\n",
            "100%|██████████████████████████| 10/10 [00:00<00:00, 101.34it/s, accuracy=0.679]"
          ]
        },
        {
          "output_type": "stream",
          "name": "stdout",
          "text": [
            "n_shots=6, Run=19, Accuracy: 67.90 %\n"
          ]
        },
        {
          "output_type": "stream",
          "name": "stderr",
          "text": [
            "\n",
            "100%|███████████████████████████| 10/10 [00:00<00:00, 99.24it/s, accuracy=0.694]"
          ]
        },
        {
          "output_type": "stream",
          "name": "stdout",
          "text": [
            "n_shots=8, Run=19, Accuracy: 69.35 %\n"
          ]
        },
        {
          "output_type": "stream",
          "name": "stderr",
          "text": [
            "\n",
            "100%|███████████████████████████| 10/10 [00:00<00:00, 99.01it/s, accuracy=0.728]"
          ]
        },
        {
          "output_type": "stream",
          "name": "stdout",
          "text": [
            "n_shots=10, Run=19, Accuracy: 72.80 %\n"
          ]
        },
        {
          "output_type": "stream",
          "name": "stderr",
          "text": [
            "\n",
            "100%|███████████████████████████| 10/10 [00:00<00:00, 95.90it/s, accuracy=0.758]"
          ]
        },
        {
          "output_type": "stream",
          "name": "stdout",
          "text": [
            "n_shots=12, Run=19, Accuracy: 75.85 %\n"
          ]
        },
        {
          "output_type": "stream",
          "name": "stderr",
          "text": [
            "\n",
            "100%|███████████████████████████| 10/10 [00:00<00:00, 98.83it/s, accuracy=0.744]"
          ]
        },
        {
          "output_type": "stream",
          "name": "stdout",
          "text": [
            "n_shots=16, Run=19, Accuracy: 74.35 %\n"
          ]
        },
        {
          "output_type": "stream",
          "name": "stderr",
          "text": [
            "\n",
            "100%|███████████████████████████| 10/10 [00:00<00:00, 97.87it/s, accuracy=0.793]"
          ]
        },
        {
          "output_type": "stream",
          "name": "stdout",
          "text": [
            "n_shots=24, Run=19, Accuracy: 79.30 %\n"
          ]
        },
        {
          "output_type": "stream",
          "name": "stderr",
          "text": [
            "\n",
            "100%|███████████████████████████| 10/10 [00:00<00:00, 94.98it/s, accuracy=0.778]"
          ]
        },
        {
          "output_type": "stream",
          "name": "stdout",
          "text": [
            "n_shots=32, Run=19, Accuracy: 77.80 %\n"
          ]
        },
        {
          "output_type": "stream",
          "name": "stderr",
          "text": [
            "\n",
            "100%|███████████████████████████| 10/10 [00:00<00:00, 92.75it/s, accuracy=0.582]"
          ]
        },
        {
          "output_type": "stream",
          "name": "stdout",
          "text": [
            "n_shots=1, Run=20, Accuracy: 58.15 %\n"
          ]
        },
        {
          "output_type": "stream",
          "name": "stderr",
          "text": [
            "\n",
            "100%|██████████████████████████| 10/10 [00:00<00:00, 101.41it/s, accuracy=0.617]"
          ]
        },
        {
          "output_type": "stream",
          "name": "stdout",
          "text": [
            "n_shots=2, Run=20, Accuracy: 61.65 %\n"
          ]
        },
        {
          "output_type": "stream",
          "name": "stderr",
          "text": [
            "\n",
            "100%|███████████████████████████| 10/10 [00:00<00:00, 99.72it/s, accuracy=0.681]"
          ]
        },
        {
          "output_type": "stream",
          "name": "stdout",
          "text": [
            "n_shots=3, Run=20, Accuracy: 68.10 %\n"
          ]
        },
        {
          "output_type": "stream",
          "name": "stderr",
          "text": [
            "\n",
            "100%|███████████████████████████| 10/10 [00:00<00:00, 99.30it/s, accuracy=0.635]"
          ]
        },
        {
          "output_type": "stream",
          "name": "stdout",
          "text": [
            "n_shots=4, Run=20, Accuracy: 63.50 %\n"
          ]
        },
        {
          "output_type": "stream",
          "name": "stderr",
          "text": [
            "\n",
            "100%|███████████████████████████| 10/10 [00:00<00:00, 98.75it/s, accuracy=0.663]"
          ]
        },
        {
          "output_type": "stream",
          "name": "stdout",
          "text": [
            "n_shots=5, Run=20, Accuracy: 66.35 %\n"
          ]
        },
        {
          "output_type": "stream",
          "name": "stderr",
          "text": [
            "\n",
            "100%|███████████████████████████| 10/10 [00:00<00:00, 99.91it/s, accuracy=0.708]"
          ]
        },
        {
          "output_type": "stream",
          "name": "stdout",
          "text": [
            "n_shots=6, Run=20, Accuracy: 70.75 %\n"
          ]
        },
        {
          "output_type": "stream",
          "name": "stderr",
          "text": [
            "\n",
            "100%|███████████████████████████| 10/10 [00:00<00:00, 97.46it/s, accuracy=0.704]"
          ]
        },
        {
          "output_type": "stream",
          "name": "stdout",
          "text": [
            "n_shots=8, Run=20, Accuracy: 70.35 %\n"
          ]
        },
        {
          "output_type": "stream",
          "name": "stderr",
          "text": [
            "\n",
            "100%|███████████████████████████| 10/10 [00:00<00:00, 97.88it/s, accuracy=0.706]"
          ]
        },
        {
          "output_type": "stream",
          "name": "stdout",
          "text": [
            "n_shots=10, Run=20, Accuracy: 70.60 %\n"
          ]
        },
        {
          "output_type": "stream",
          "name": "stderr",
          "text": [
            "\n",
            "100%|███████████████████████████| 10/10 [00:00<00:00, 97.71it/s, accuracy=0.721]"
          ]
        },
        {
          "output_type": "stream",
          "name": "stdout",
          "text": [
            "n_shots=12, Run=20, Accuracy: 72.05 %\n"
          ]
        },
        {
          "output_type": "stream",
          "name": "stderr",
          "text": [
            "\n",
            "100%|███████████████████████████| 10/10 [00:00<00:00, 97.27it/s, accuracy=0.708]"
          ]
        },
        {
          "output_type": "stream",
          "name": "stdout",
          "text": [
            "n_shots=16, Run=20, Accuracy: 70.75 %\n"
          ]
        },
        {
          "output_type": "stream",
          "name": "stderr",
          "text": [
            "\n",
            "100%|███████████████████████████| 10/10 [00:00<00:00, 99.45it/s, accuracy=0.769]"
          ]
        },
        {
          "output_type": "stream",
          "name": "stdout",
          "text": [
            "n_shots=24, Run=20, Accuracy: 76.90 %\n"
          ]
        },
        {
          "output_type": "stream",
          "name": "stderr",
          "text": [
            "\n",
            "100%|███████████████████████████| 10/10 [00:00<00:00, 94.04it/s, accuracy=0.757]"
          ]
        },
        {
          "output_type": "stream",
          "name": "stdout",
          "text": [
            "n_shots=32, Run=20, Accuracy: 75.75 %\n"
          ]
        },
        {
          "output_type": "stream",
          "name": "stderr",
          "text": [
            "\n"
          ]
        }
      ],
      "source": [
        "transform = transforms.Compose([transforms.CenterCrop((96, 96)),\n",
        "                                transforms.Resize((96, 96)),\n",
        "                                transforms.ToTensor(),\n",
        "                                transforms.Normalize(mean=[0.70322989, 0.53606487, 0.66096631], std=[0.21716536, 0.26081574, 0.20723464])])\n",
        "testset = torchvision.datasets.ImageFolder(data_to_test, transform=transform)\n",
        "\n",
        "classes = testset.classes\n",
        "\n",
        "print(classes)\n",
        "dataloader = DataLoader(testset, batch_size=100, shuffle=False, drop_last=False)\n",
        "p3_emb_df = predict_embeddings(dataloader, model, device=device)\n",
        "p3_emb_dataset = FeaturesDataset.from_dataframe(p3_emb_df)\n",
        "p3_results_df = evaluate_few_shot_model(p3_emb_dataset, model, device=device, n_way=2)\n",
        "p3_results_df.sort_values([\"n_shots\", \"accuracy\"])\n",
        "\n",
        "mean_accuracies_p3 = p3_results_df.groupby(\"n_shots\")[\"accuracy\"].mean().reset_index()\n",
        "mean_accuracies_p3.rename(columns={\"accuracy\": \"mean\"}, inplace=True)\n",
        "std_accuracies_p3 = p3_results_df.groupby(\"n_shots\")[\"accuracy\"].std().reset_index()\n",
        "std_accuracies_p3.rename(columns={\"accuracy\": \"std\"}, inplace=True)\n",
        "# Merge the two DataFrames based on the 'n_shots' column\n",
        "merged_df_p3 = pd.merge(mean_accuracies_p3, std_accuracies_p3, on=\"n_shots\")"
      ]
    },
    {
      "cell_type": "code",
      "source": [
        "transform = transforms.Compose([transforms.CenterCrop((96, 96)),\n",
        "                                transforms.Resize((224, 224)),\n",
        "                                transforms.ToTensor(),\n",
        "                                transforms.Normalize(mean=[0.70322989, 0.53606487, 0.66096631], std=[0.21716536, 0.26081574, 0.20723464])])\n",
        "testset = torchvision.datasets.ImageFolder(data_to_test, transform=transform)\n",
        "\n",
        "classes = testset.classes\n",
        "\n",
        "print(classes)\n",
        "dataloader = DataLoader(testset, batch_size=100, shuffle=False, drop_last=False)\n",
        "p4_emb_df = predict_embeddings(dataloader, model, device=device)\n",
        "p4_emb_dataset = FeaturesDataset.from_dataframe(p4_emb_df)\n",
        "p4_results_df = evaluate_few_shot_model(p4_emb_dataset, model, device=device, n_way=2)\n",
        "p4_results_df.sort_values([\"n_shots\", \"accuracy\"])\n",
        "\n",
        "mean_accuracies_p4 = p4_results_df.groupby(\"n_shots\")[\"accuracy\"].mean().reset_index()\n",
        "mean_accuracies_p4.rename(columns={\"accuracy\": \"mean\"}, inplace=True)\n",
        "std_accuracies_p4 = p4_results_df.groupby(\"n_shots\")[\"accuracy\"].std().reset_index()\n",
        "std_accuracies_p4.rename(columns={\"accuracy\": \"std\"}, inplace=True)\n",
        "# Merge the two DataFrames based on the 'n_shots' column\n",
        "merged_df_p4 = pd.merge(mean_accuracies_p4, std_accuracies_p4, on=\"n_shots\")"
      ],
      "metadata": {
        "colab": {
          "base_uri": "https://localhost:8080/"
        },
        "id": "XzOfOe0b6hUT",
        "outputId": "ec2e7414-fa71-4c91-d11d-d1c63f277699"
      },
      "execution_count": null,
      "outputs": [
        {
          "output_type": "stream",
          "name": "stdout",
          "text": [
            "['Norm', 'Tum']\n"
          ]
        },
        {
          "output_type": "stream",
          "name": "stderr",
          "text": [
            "Predicting embeddings: 100%|███████████████| 328/328 [01:24<00:00,  3.90batch/s]\n",
            "100%|███████████████████████████| 10/10 [00:00<00:00, 82.66it/s, accuracy=0.598]"
          ]
        },
        {
          "output_type": "stream",
          "name": "stdout",
          "text": [
            "n_shots=1, Run=1, Accuracy: 59.75 %\n"
          ]
        },
        {
          "output_type": "stream",
          "name": "stderr",
          "text": [
            "\n",
            "100%|███████████████████████████| 10/10 [00:00<00:00, 93.77it/s, accuracy=0.669]"
          ]
        },
        {
          "output_type": "stream",
          "name": "stdout",
          "text": [
            "n_shots=2, Run=1, Accuracy: 66.90 %\n"
          ]
        },
        {
          "output_type": "stream",
          "name": "stderr",
          "text": [
            "\n",
            "100%|███████████████████████████| 10/10 [00:00<00:00, 71.85it/s, accuracy=0.696]"
          ]
        },
        {
          "output_type": "stream",
          "name": "stdout",
          "text": [
            "n_shots=3, Run=1, Accuracy: 69.55 %\n"
          ]
        },
        {
          "output_type": "stream",
          "name": "stderr",
          "text": [
            "\n",
            "100%|████████████████████████████| 10/10 [00:00<00:00, 92.51it/s, accuracy=0.73]"
          ]
        },
        {
          "output_type": "stream",
          "name": "stdout",
          "text": [
            "n_shots=4, Run=1, Accuracy: 73.00 %\n"
          ]
        },
        {
          "output_type": "stream",
          "name": "stderr",
          "text": [
            "\n",
            "100%|███████████████████████████| 10/10 [00:00<00:00, 95.92it/s, accuracy=0.722]"
          ]
        },
        {
          "output_type": "stream",
          "name": "stdout",
          "text": [
            "n_shots=5, Run=1, Accuracy: 72.15 %\n"
          ]
        },
        {
          "output_type": "stream",
          "name": "stderr",
          "text": [
            "\n",
            "100%|███████████████████████████| 10/10 [00:00<00:00, 98.33it/s, accuracy=0.703]"
          ]
        },
        {
          "output_type": "stream",
          "name": "stdout",
          "text": [
            "n_shots=6, Run=1, Accuracy: 70.30 %\n"
          ]
        },
        {
          "output_type": "stream",
          "name": "stderr",
          "text": [
            "\n",
            "100%|███████████████████████████| 10/10 [00:00<00:00, 98.11it/s, accuracy=0.734]"
          ]
        },
        {
          "output_type": "stream",
          "name": "stdout",
          "text": [
            "n_shots=8, Run=1, Accuracy: 73.40 %\n"
          ]
        },
        {
          "output_type": "stream",
          "name": "stderr",
          "text": [
            "\n",
            "100%|███████████████████████████| 10/10 [00:00<00:00, 92.97it/s, accuracy=0.741]"
          ]
        },
        {
          "output_type": "stream",
          "name": "stdout",
          "text": [
            "n_shots=10, Run=1, Accuracy: 74.10 %\n"
          ]
        },
        {
          "output_type": "stream",
          "name": "stderr",
          "text": [
            "\n",
            "100%|███████████████████████████| 10/10 [00:00<00:00, 68.94it/s, accuracy=0.742]"
          ]
        },
        {
          "output_type": "stream",
          "name": "stdout",
          "text": [
            "n_shots=12, Run=1, Accuracy: 74.20 %\n"
          ]
        },
        {
          "output_type": "stream",
          "name": "stderr",
          "text": [
            "\n",
            "100%|███████████████████████████| 10/10 [00:00<00:00, 89.89it/s, accuracy=0.781]"
          ]
        },
        {
          "output_type": "stream",
          "name": "stdout",
          "text": [
            "n_shots=16, Run=1, Accuracy: 78.10 %\n"
          ]
        },
        {
          "output_type": "stream",
          "name": "stderr",
          "text": [
            "\n",
            "100%|███████████████████████████| 10/10 [00:00<00:00, 97.05it/s, accuracy=0.778]"
          ]
        },
        {
          "output_type": "stream",
          "name": "stdout",
          "text": [
            "n_shots=24, Run=1, Accuracy: 77.85 %\n"
          ]
        },
        {
          "output_type": "stream",
          "name": "stderr",
          "text": [
            "\n",
            "100%|███████████████████████████| 10/10 [00:00<00:00, 85.54it/s, accuracy=0.832]"
          ]
        },
        {
          "output_type": "stream",
          "name": "stdout",
          "text": [
            "n_shots=32, Run=1, Accuracy: 83.15 %\n"
          ]
        },
        {
          "output_type": "stream",
          "name": "stderr",
          "text": [
            "\n",
            "100%|███████████████████████████| 10/10 [00:00<00:00, 97.04it/s, accuracy=0.607]"
          ]
        },
        {
          "output_type": "stream",
          "name": "stdout",
          "text": [
            "n_shots=1, Run=2, Accuracy: 60.70 %\n"
          ]
        },
        {
          "output_type": "stream",
          "name": "stderr",
          "text": [
            "\n",
            "100%|███████████████████████████| 10/10 [00:00<00:00, 97.88it/s, accuracy=0.662]"
          ]
        },
        {
          "output_type": "stream",
          "name": "stdout",
          "text": [
            "n_shots=2, Run=2, Accuracy: 66.25 %\n"
          ]
        },
        {
          "output_type": "stream",
          "name": "stderr",
          "text": [
            "\n",
            "100%|███████████████████████████| 10/10 [00:00<00:00, 93.53it/s, accuracy=0.725]"
          ]
        },
        {
          "output_type": "stream",
          "name": "stdout",
          "text": [
            "n_shots=3, Run=2, Accuracy: 72.45 %\n"
          ]
        },
        {
          "output_type": "stream",
          "name": "stderr",
          "text": [
            "\n",
            "100%|███████████████████████████| 10/10 [00:00<00:00, 95.55it/s, accuracy=0.708]"
          ]
        },
        {
          "output_type": "stream",
          "name": "stdout",
          "text": [
            "n_shots=4, Run=2, Accuracy: 70.80 %\n"
          ]
        },
        {
          "output_type": "stream",
          "name": "stderr",
          "text": [
            "\n",
            "100%|███████████████████████████| 10/10 [00:00<00:00, 97.93it/s, accuracy=0.712]"
          ]
        },
        {
          "output_type": "stream",
          "name": "stdout",
          "text": [
            "n_shots=5, Run=2, Accuracy: 71.20 %\n"
          ]
        },
        {
          "output_type": "stream",
          "name": "stderr",
          "text": [
            "\n",
            "100%|███████████████████████████| 10/10 [00:00<00:00, 90.54it/s, accuracy=0.721]"
          ]
        },
        {
          "output_type": "stream",
          "name": "stdout",
          "text": [
            "n_shots=6, Run=2, Accuracy: 72.10 %\n"
          ]
        },
        {
          "output_type": "stream",
          "name": "stderr",
          "text": [
            "\n",
            "100%|██████████████████████████| 10/10 [00:00<00:00, 100.20it/s, accuracy=0.708]"
          ]
        },
        {
          "output_type": "stream",
          "name": "stdout",
          "text": [
            "n_shots=8, Run=2, Accuracy: 70.75 %\n"
          ]
        },
        {
          "output_type": "stream",
          "name": "stderr",
          "text": [
            "\n",
            "100%|███████████████████████████| 10/10 [00:00<00:00, 88.90it/s, accuracy=0.747]"
          ]
        },
        {
          "output_type": "stream",
          "name": "stdout",
          "text": [
            "n_shots=10, Run=2, Accuracy: 74.70 %\n"
          ]
        },
        {
          "output_type": "stream",
          "name": "stderr",
          "text": [
            "\n",
            "100%|███████████████████████████| 10/10 [00:00<00:00, 87.50it/s, accuracy=0.767]"
          ]
        },
        {
          "output_type": "stream",
          "name": "stdout",
          "text": [
            "n_shots=12, Run=2, Accuracy: 76.75 %\n"
          ]
        },
        {
          "output_type": "stream",
          "name": "stderr",
          "text": [
            "\n",
            "100%|███████████████████████████| 10/10 [00:00<00:00, 91.28it/s, accuracy=0.766]"
          ]
        },
        {
          "output_type": "stream",
          "name": "stdout",
          "text": [
            "n_shots=16, Run=2, Accuracy: 76.65 %\n"
          ]
        },
        {
          "output_type": "stream",
          "name": "stderr",
          "text": [
            "\n",
            "100%|███████████████████████████| 10/10 [00:00<00:00, 91.77it/s, accuracy=0.779]"
          ]
        },
        {
          "output_type": "stream",
          "name": "stdout",
          "text": [
            "n_shots=24, Run=2, Accuracy: 77.90 %\n"
          ]
        },
        {
          "output_type": "stream",
          "name": "stderr",
          "text": [
            "\n",
            "100%|███████████████████████████| 10/10 [00:00<00:00, 91.63it/s, accuracy=0.811]"
          ]
        },
        {
          "output_type": "stream",
          "name": "stdout",
          "text": [
            "n_shots=32, Run=2, Accuracy: 81.10 %\n"
          ]
        },
        {
          "output_type": "stream",
          "name": "stderr",
          "text": [
            "\n",
            "100%|███████████████████████████| 10/10 [00:00<00:00, 93.63it/s, accuracy=0.594]"
          ]
        },
        {
          "output_type": "stream",
          "name": "stdout",
          "text": [
            "n_shots=1, Run=3, Accuracy: 59.40 %\n"
          ]
        },
        {
          "output_type": "stream",
          "name": "stderr",
          "text": [
            "\n",
            "100%|███████████████████████████| 10/10 [00:00<00:00, 97.21it/s, accuracy=0.642]"
          ]
        },
        {
          "output_type": "stream",
          "name": "stdout",
          "text": [
            "n_shots=2, Run=3, Accuracy: 64.25 %\n"
          ]
        },
        {
          "output_type": "stream",
          "name": "stderr",
          "text": [
            "\n",
            "100%|███████████████████████████| 10/10 [00:00<00:00, 88.15it/s, accuracy=0.651]"
          ]
        },
        {
          "output_type": "stream",
          "name": "stdout",
          "text": [
            "n_shots=3, Run=3, Accuracy: 65.10 %\n"
          ]
        },
        {
          "output_type": "stream",
          "name": "stderr",
          "text": [
            "\n",
            "100%|███████████████████████████| 10/10 [00:00<00:00, 89.91it/s, accuracy=0.717]"
          ]
        },
        {
          "output_type": "stream",
          "name": "stdout",
          "text": [
            "n_shots=4, Run=3, Accuracy: 71.70 %\n"
          ]
        },
        {
          "output_type": "stream",
          "name": "stderr",
          "text": [
            "\n",
            "100%|███████████████████████████| 10/10 [00:00<00:00, 95.17it/s, accuracy=0.736]"
          ]
        },
        {
          "output_type": "stream",
          "name": "stdout",
          "text": [
            "n_shots=5, Run=3, Accuracy: 73.55 %\n"
          ]
        },
        {
          "output_type": "stream",
          "name": "stderr",
          "text": [
            "\n",
            "100%|███████████████████████████| 10/10 [00:00<00:00, 96.64it/s, accuracy=0.725]"
          ]
        },
        {
          "output_type": "stream",
          "name": "stdout",
          "text": [
            "n_shots=6, Run=3, Accuracy: 72.50 %\n"
          ]
        },
        {
          "output_type": "stream",
          "name": "stderr",
          "text": [
            "\n",
            "100%|███████████████████████████| 10/10 [00:00<00:00, 99.44it/s, accuracy=0.755]"
          ]
        },
        {
          "output_type": "stream",
          "name": "stdout",
          "text": [
            "n_shots=8, Run=3, Accuracy: 75.50 %\n"
          ]
        },
        {
          "output_type": "stream",
          "name": "stderr",
          "text": [
            "\n",
            "100%|███████████████████████████| 10/10 [00:00<00:00, 88.48it/s, accuracy=0.793]"
          ]
        },
        {
          "output_type": "stream",
          "name": "stdout",
          "text": [
            "n_shots=10, Run=3, Accuracy: 79.30 %\n"
          ]
        },
        {
          "output_type": "stream",
          "name": "stderr",
          "text": [
            "\n",
            "100%|███████████████████████████| 10/10 [00:00<00:00, 92.63it/s, accuracy=0.779]"
          ]
        },
        {
          "output_type": "stream",
          "name": "stdout",
          "text": [
            "n_shots=12, Run=3, Accuracy: 77.95 %\n"
          ]
        },
        {
          "output_type": "stream",
          "name": "stderr",
          "text": [
            "\n",
            "100%|███████████████████████████| 10/10 [00:00<00:00, 97.20it/s, accuracy=0.756]"
          ]
        },
        {
          "output_type": "stream",
          "name": "stdout",
          "text": [
            "n_shots=16, Run=3, Accuracy: 75.60 %\n"
          ]
        },
        {
          "output_type": "stream",
          "name": "stderr",
          "text": [
            "\n",
            "100%|███████████████████████████| 10/10 [00:00<00:00, 95.26it/s, accuracy=0.815]"
          ]
        },
        {
          "output_type": "stream",
          "name": "stdout",
          "text": [
            "n_shots=24, Run=3, Accuracy: 81.45 %\n"
          ]
        },
        {
          "output_type": "stream",
          "name": "stderr",
          "text": [
            "\n",
            "100%|███████████████████████████| 10/10 [00:00<00:00, 96.96it/s, accuracy=0.818]"
          ]
        },
        {
          "output_type": "stream",
          "name": "stdout",
          "text": [
            "n_shots=32, Run=3, Accuracy: 81.80 %\n"
          ]
        },
        {
          "output_type": "stream",
          "name": "stderr",
          "text": [
            "\n",
            "100%|███████████████████████████| 10/10 [00:00<00:00, 97.11it/s, accuracy=0.641]"
          ]
        },
        {
          "output_type": "stream",
          "name": "stdout",
          "text": [
            "n_shots=1, Run=4, Accuracy: 64.15 %\n"
          ]
        },
        {
          "output_type": "stream",
          "name": "stderr",
          "text": [
            "\n",
            "100%|███████████████████████████| 10/10 [00:00<00:00, 93.92it/s, accuracy=0.682]"
          ]
        },
        {
          "output_type": "stream",
          "name": "stdout",
          "text": [
            "n_shots=2, Run=4, Accuracy: 68.20 %\n"
          ]
        },
        {
          "output_type": "stream",
          "name": "stderr",
          "text": [
            "\n",
            "100%|███████████████████████████| 10/10 [00:00<00:00, 95.13it/s, accuracy=0.673]"
          ]
        },
        {
          "output_type": "stream",
          "name": "stdout",
          "text": [
            "n_shots=3, Run=4, Accuracy: 67.30 %\n"
          ]
        },
        {
          "output_type": "stream",
          "name": "stderr",
          "text": [
            "\n",
            "100%|███████████████████████████| 10/10 [00:00<00:00, 94.25it/s, accuracy=0.672]"
          ]
        },
        {
          "output_type": "stream",
          "name": "stdout",
          "text": [
            "n_shots=4, Run=4, Accuracy: 67.25 %\n"
          ]
        },
        {
          "output_type": "stream",
          "name": "stderr",
          "text": [
            "\n",
            "100%|██████████████████████████| 10/10 [00:00<00:00, 101.17it/s, accuracy=0.717]"
          ]
        },
        {
          "output_type": "stream",
          "name": "stdout",
          "text": [
            "n_shots=5, Run=4, Accuracy: 71.70 %\n"
          ]
        },
        {
          "output_type": "stream",
          "name": "stderr",
          "text": [
            "\n",
            "100%|███████████████████████████| 10/10 [00:00<00:00, 99.45it/s, accuracy=0.726]"
          ]
        },
        {
          "output_type": "stream",
          "name": "stdout",
          "text": [
            "n_shots=6, Run=4, Accuracy: 72.60 %\n"
          ]
        },
        {
          "output_type": "stream",
          "name": "stderr",
          "text": [
            "\n",
            "100%|██████████████████████████| 10/10 [00:00<00:00, 100.49it/s, accuracy=0.775]"
          ]
        },
        {
          "output_type": "stream",
          "name": "stdout",
          "text": [
            "n_shots=8, Run=4, Accuracy: 77.50 %\n"
          ]
        },
        {
          "output_type": "stream",
          "name": "stderr",
          "text": [
            "\n",
            "100%|███████████████████████████| 10/10 [00:00<00:00, 99.76it/s, accuracy=0.742]"
          ]
        },
        {
          "output_type": "stream",
          "name": "stdout",
          "text": [
            "n_shots=10, Run=4, Accuracy: 74.15 %\n"
          ]
        },
        {
          "output_type": "stream",
          "name": "stderr",
          "text": [
            "\n",
            "100%|███████████████████████████| 10/10 [00:00<00:00, 96.93it/s, accuracy=0.745]"
          ]
        },
        {
          "output_type": "stream",
          "name": "stdout",
          "text": [
            "n_shots=12, Run=4, Accuracy: 74.45 %\n"
          ]
        },
        {
          "output_type": "stream",
          "name": "stderr",
          "text": [
            "\n",
            "100%|███████████████████████████| 10/10 [00:00<00:00, 90.29it/s, accuracy=0.721]"
          ]
        },
        {
          "output_type": "stream",
          "name": "stdout",
          "text": [
            "n_shots=16, Run=4, Accuracy: 72.05 %\n"
          ]
        },
        {
          "output_type": "stream",
          "name": "stderr",
          "text": [
            "\n",
            "100%|███████████████████████████| 10/10 [00:00<00:00, 97.04it/s, accuracy=0.811]"
          ]
        },
        {
          "output_type": "stream",
          "name": "stdout",
          "text": [
            "n_shots=24, Run=4, Accuracy: 81.10 %\n"
          ]
        },
        {
          "output_type": "stream",
          "name": "stderr",
          "text": [
            "\n",
            "100%|███████████████████████████| 10/10 [00:00<00:00, 92.43it/s, accuracy=0.807]"
          ]
        },
        {
          "output_type": "stream",
          "name": "stdout",
          "text": [
            "n_shots=32, Run=4, Accuracy: 80.70 %\n"
          ]
        },
        {
          "output_type": "stream",
          "name": "stderr",
          "text": [
            "\n",
            "100%|█████████████████████████████| 10/10 [00:00<00:00, 96.60it/s, accuracy=0.6]"
          ]
        },
        {
          "output_type": "stream",
          "name": "stdout",
          "text": [
            "n_shots=1, Run=5, Accuracy: 60.00 %\n"
          ]
        },
        {
          "output_type": "stream",
          "name": "stderr",
          "text": [
            "\n",
            "100%|███████████████████████████| 10/10 [00:00<00:00, 96.93it/s, accuracy=0.663]"
          ]
        },
        {
          "output_type": "stream",
          "name": "stdout",
          "text": [
            "n_shots=2, Run=5, Accuracy: 66.30 %\n"
          ]
        },
        {
          "output_type": "stream",
          "name": "stderr",
          "text": [
            "\n",
            "100%|███████████████████████████| 10/10 [00:00<00:00, 97.54it/s, accuracy=0.666]"
          ]
        },
        {
          "output_type": "stream",
          "name": "stdout",
          "text": [
            "n_shots=3, Run=5, Accuracy: 66.60 %\n"
          ]
        },
        {
          "output_type": "stream",
          "name": "stderr",
          "text": [
            "\n",
            "100%|███████████████████████████| 10/10 [00:00<00:00, 95.79it/s, accuracy=0.728]"
          ]
        },
        {
          "output_type": "stream",
          "name": "stdout",
          "text": [
            "n_shots=4, Run=5, Accuracy: 72.80 %\n"
          ]
        },
        {
          "output_type": "stream",
          "name": "stderr",
          "text": [
            "\n",
            "100%|███████████████████████████| 10/10 [00:00<00:00, 99.86it/s, accuracy=0.742]"
          ]
        },
        {
          "output_type": "stream",
          "name": "stdout",
          "text": [
            "n_shots=5, Run=5, Accuracy: 74.20 %\n"
          ]
        },
        {
          "output_type": "stream",
          "name": "stderr",
          "text": [
            "\n",
            "100%|████████████████████████████| 10/10 [00:00<00:00, 99.89it/s, accuracy=0.72]"
          ]
        },
        {
          "output_type": "stream",
          "name": "stdout",
          "text": [
            "n_shots=6, Run=5, Accuracy: 72.00 %\n"
          ]
        },
        {
          "output_type": "stream",
          "name": "stderr",
          "text": [
            "\n",
            "100%|███████████████████████████| 10/10 [00:00<00:00, 100.26it/s, accuracy=0.74]"
          ]
        },
        {
          "output_type": "stream",
          "name": "stdout",
          "text": [
            "n_shots=8, Run=5, Accuracy: 74.00 %\n"
          ]
        },
        {
          "output_type": "stream",
          "name": "stderr",
          "text": [
            "\n",
            "100%|███████████████████████████| 10/10 [00:00<00:00, 95.60it/s, accuracy=0.758]"
          ]
        },
        {
          "output_type": "stream",
          "name": "stdout",
          "text": [
            "n_shots=10, Run=5, Accuracy: 75.80 %\n"
          ]
        },
        {
          "output_type": "stream",
          "name": "stderr",
          "text": [
            "\n",
            "100%|███████████████████████████| 10/10 [00:00<00:00, 95.80it/s, accuracy=0.763]"
          ]
        },
        {
          "output_type": "stream",
          "name": "stdout",
          "text": [
            "n_shots=12, Run=5, Accuracy: 76.35 %\n"
          ]
        },
        {
          "output_type": "stream",
          "name": "stderr",
          "text": [
            "\n",
            "100%|███████████████████████████| 10/10 [00:00<00:00, 96.94it/s, accuracy=0.819]"
          ]
        },
        {
          "output_type": "stream",
          "name": "stdout",
          "text": [
            "n_shots=16, Run=5, Accuracy: 81.85 %\n"
          ]
        },
        {
          "output_type": "stream",
          "name": "stderr",
          "text": [
            "\n",
            "100%|███████████████████████████| 10/10 [00:00<00:00, 92.39it/s, accuracy=0.803]"
          ]
        },
        {
          "output_type": "stream",
          "name": "stdout",
          "text": [
            "n_shots=24, Run=5, Accuracy: 80.30 %\n"
          ]
        },
        {
          "output_type": "stream",
          "name": "stderr",
          "text": [
            "\n",
            "100%|███████████████████████████| 10/10 [00:00<00:00, 96.38it/s, accuracy=0.785]"
          ]
        },
        {
          "output_type": "stream",
          "name": "stdout",
          "text": [
            "n_shots=32, Run=5, Accuracy: 78.50 %\n"
          ]
        },
        {
          "output_type": "stream",
          "name": "stderr",
          "text": [
            "\n",
            "100%|███████████████████████████| 10/10 [00:00<00:00, 94.77it/s, accuracy=0.573]"
          ]
        },
        {
          "output_type": "stream",
          "name": "stdout",
          "text": [
            "n_shots=1, Run=6, Accuracy: 57.30 %\n"
          ]
        },
        {
          "output_type": "stream",
          "name": "stderr",
          "text": [
            "\n",
            "100%|███████████████████████████| 10/10 [00:00<00:00, 95.46it/s, accuracy=0.697]"
          ]
        },
        {
          "output_type": "stream",
          "name": "stdout",
          "text": [
            "n_shots=2, Run=6, Accuracy: 69.70 %\n"
          ]
        },
        {
          "output_type": "stream",
          "name": "stderr",
          "text": [
            "\n",
            "100%|███████████████████████████| 10/10 [00:00<00:00, 99.89it/s, accuracy=0.667]"
          ]
        },
        {
          "output_type": "stream",
          "name": "stdout",
          "text": [
            "n_shots=3, Run=6, Accuracy: 66.70 %\n"
          ]
        },
        {
          "output_type": "stream",
          "name": "stderr",
          "text": [
            "\n",
            "100%|███████████████████████████| 10/10 [00:00<00:00, 99.12it/s, accuracy=0.676]"
          ]
        },
        {
          "output_type": "stream",
          "name": "stdout",
          "text": [
            "n_shots=4, Run=6, Accuracy: 67.65 %\n"
          ]
        },
        {
          "output_type": "stream",
          "name": "stderr",
          "text": [
            "\n",
            "100%|████████████████████████████| 10/10 [00:00<00:00, 93.44it/s, accuracy=0.71]"
          ]
        },
        {
          "output_type": "stream",
          "name": "stdout",
          "text": [
            "n_shots=5, Run=6, Accuracy: 71.00 %\n"
          ]
        },
        {
          "output_type": "stream",
          "name": "stderr",
          "text": [
            "\n",
            "100%|███████████████████████████| 10/10 [00:00<00:00, 99.09it/s, accuracy=0.728]"
          ]
        },
        {
          "output_type": "stream",
          "name": "stdout",
          "text": [
            "n_shots=6, Run=6, Accuracy: 72.80 %\n"
          ]
        },
        {
          "output_type": "stream",
          "name": "stderr",
          "text": [
            "\n",
            "100%|███████████████████████████| 10/10 [00:00<00:00, 96.57it/s, accuracy=0.773]"
          ]
        },
        {
          "output_type": "stream",
          "name": "stdout",
          "text": [
            "n_shots=8, Run=6, Accuracy: 77.35 %\n"
          ]
        },
        {
          "output_type": "stream",
          "name": "stderr",
          "text": [
            "\n",
            "100%|███████████████████████████| 10/10 [00:00<00:00, 95.17it/s, accuracy=0.777]"
          ]
        },
        {
          "output_type": "stream",
          "name": "stdout",
          "text": [
            "n_shots=10, Run=6, Accuracy: 77.75 %\n"
          ]
        },
        {
          "output_type": "stream",
          "name": "stderr",
          "text": [
            "\n",
            "100%|███████████████████████████| 10/10 [00:00<00:00, 91.76it/s, accuracy=0.782]"
          ]
        },
        {
          "output_type": "stream",
          "name": "stdout",
          "text": [
            "n_shots=12, Run=6, Accuracy: 78.25 %\n"
          ]
        },
        {
          "output_type": "stream",
          "name": "stderr",
          "text": [
            "\n",
            "100%|████████████████████████████| 10/10 [00:00<00:00, 94.78it/s, accuracy=0.78]"
          ]
        },
        {
          "output_type": "stream",
          "name": "stdout",
          "text": [
            "n_shots=16, Run=6, Accuracy: 78.00 %\n"
          ]
        },
        {
          "output_type": "stream",
          "name": "stderr",
          "text": [
            "\n",
            "100%|███████████████████████████| 10/10 [00:00<00:00, 95.87it/s, accuracy=0.788]"
          ]
        },
        {
          "output_type": "stream",
          "name": "stdout",
          "text": [
            "n_shots=24, Run=6, Accuracy: 78.80 %\n"
          ]
        },
        {
          "output_type": "stream",
          "name": "stderr",
          "text": [
            "\n",
            "100%|████████████████████████████| 10/10 [00:00<00:00, 95.54it/s, accuracy=0.81]"
          ]
        },
        {
          "output_type": "stream",
          "name": "stdout",
          "text": [
            "n_shots=32, Run=6, Accuracy: 81.00 %\n"
          ]
        },
        {
          "output_type": "stream",
          "name": "stderr",
          "text": [
            "\n",
            "100%|███████████████████████████| 10/10 [00:00<00:00, 90.69it/s, accuracy=0.618]"
          ]
        },
        {
          "output_type": "stream",
          "name": "stdout",
          "text": [
            "n_shots=1, Run=7, Accuracy: 61.80 %\n"
          ]
        },
        {
          "output_type": "stream",
          "name": "stderr",
          "text": [
            "\n",
            "100%|███████████████████████████| 10/10 [00:00<00:00, 100.00it/s, accuracy=0.67]"
          ]
        },
        {
          "output_type": "stream",
          "name": "stdout",
          "text": [
            "n_shots=2, Run=7, Accuracy: 67.00 %\n"
          ]
        },
        {
          "output_type": "stream",
          "name": "stderr",
          "text": [
            "\n",
            "100%|███████████████████████████| 10/10 [00:00<00:00, 93.65it/s, accuracy=0.679]"
          ]
        },
        {
          "output_type": "stream",
          "name": "stdout",
          "text": [
            "n_shots=3, Run=7, Accuracy: 67.90 %\n"
          ]
        },
        {
          "output_type": "stream",
          "name": "stderr",
          "text": [
            "\n",
            "100%|███████████████████████████| 10/10 [00:00<00:00, 96.86it/s, accuracy=0.679]"
          ]
        },
        {
          "output_type": "stream",
          "name": "stdout",
          "text": [
            "n_shots=4, Run=7, Accuracy: 67.90 %\n"
          ]
        },
        {
          "output_type": "stream",
          "name": "stderr",
          "text": [
            "\n",
            "100%|███████████████████████████| 10/10 [00:00<00:00, 97.95it/s, accuracy=0.723]"
          ]
        },
        {
          "output_type": "stream",
          "name": "stdout",
          "text": [
            "n_shots=5, Run=7, Accuracy: 72.25 %\n"
          ]
        },
        {
          "output_type": "stream",
          "name": "stderr",
          "text": [
            "\n",
            "100%|███████████████████████████| 10/10 [00:00<00:00, 93.79it/s, accuracy=0.736]"
          ]
        },
        {
          "output_type": "stream",
          "name": "stdout",
          "text": [
            "n_shots=6, Run=7, Accuracy: 73.55 %\n"
          ]
        },
        {
          "output_type": "stream",
          "name": "stderr",
          "text": [
            "\n",
            "100%|███████████████████████████| 10/10 [00:00<00:00, 93.72it/s, accuracy=0.727]"
          ]
        },
        {
          "output_type": "stream",
          "name": "stdout",
          "text": [
            "n_shots=8, Run=7, Accuracy: 72.65 %\n"
          ]
        },
        {
          "output_type": "stream",
          "name": "stderr",
          "text": [
            "\n",
            "100%|███████████████████████████| 10/10 [00:00<00:00, 93.83it/s, accuracy=0.748]"
          ]
        },
        {
          "output_type": "stream",
          "name": "stdout",
          "text": [
            "n_shots=10, Run=7, Accuracy: 74.75 %\n"
          ]
        },
        {
          "output_type": "stream",
          "name": "stderr",
          "text": [
            "\n",
            "100%|███████████████████████████| 10/10 [00:00<00:00, 95.75it/s, accuracy=0.754]"
          ]
        },
        {
          "output_type": "stream",
          "name": "stdout",
          "text": [
            "n_shots=12, Run=7, Accuracy: 75.40 %\n"
          ]
        },
        {
          "output_type": "stream",
          "name": "stderr",
          "text": [
            "\n",
            "100%|███████████████████████████| 10/10 [00:00<00:00, 95.03it/s, accuracy=0.789]"
          ]
        },
        {
          "output_type": "stream",
          "name": "stdout",
          "text": [
            "n_shots=16, Run=7, Accuracy: 78.95 %\n"
          ]
        },
        {
          "output_type": "stream",
          "name": "stderr",
          "text": [
            "\n",
            "100%|███████████████████████████| 10/10 [00:00<00:00, 93.69it/s, accuracy=0.772]"
          ]
        },
        {
          "output_type": "stream",
          "name": "stdout",
          "text": [
            "n_shots=24, Run=7, Accuracy: 77.20 %\n"
          ]
        },
        {
          "output_type": "stream",
          "name": "stderr",
          "text": [
            "\n",
            "100%|███████████████████████████| 10/10 [00:00<00:00, 93.20it/s, accuracy=0.781]"
          ]
        },
        {
          "output_type": "stream",
          "name": "stdout",
          "text": [
            "n_shots=32, Run=7, Accuracy: 78.10 %\n"
          ]
        },
        {
          "output_type": "stream",
          "name": "stderr",
          "text": [
            "\n",
            "100%|███████████████████████████| 10/10 [00:00<00:00, 91.94it/s, accuracy=0.609]"
          ]
        },
        {
          "output_type": "stream",
          "name": "stdout",
          "text": [
            "n_shots=1, Run=8, Accuracy: 60.90 %\n"
          ]
        },
        {
          "output_type": "stream",
          "name": "stderr",
          "text": [
            "\n",
            "100%|███████████████████████████| 10/10 [00:00<00:00, 99.03it/s, accuracy=0.679]"
          ]
        },
        {
          "output_type": "stream",
          "name": "stdout",
          "text": [
            "n_shots=2, Run=8, Accuracy: 67.95 %\n"
          ]
        },
        {
          "output_type": "stream",
          "name": "stderr",
          "text": [
            "\n",
            "100%|███████████████████████████| 10/10 [00:00<00:00, 97.76it/s, accuracy=0.692]"
          ]
        },
        {
          "output_type": "stream",
          "name": "stdout",
          "text": [
            "n_shots=3, Run=8, Accuracy: 69.15 %\n"
          ]
        },
        {
          "output_type": "stream",
          "name": "stderr",
          "text": [
            "\n",
            "100%|███████████████████████████| 10/10 [00:00<00:00, 93.01it/s, accuracy=0.665]"
          ]
        },
        {
          "output_type": "stream",
          "name": "stdout",
          "text": [
            "n_shots=4, Run=8, Accuracy: 66.50 %\n"
          ]
        },
        {
          "output_type": "stream",
          "name": "stderr",
          "text": [
            "\n",
            "100%|███████████████████████████| 10/10 [00:00<00:00, 92.36it/s, accuracy=0.736]"
          ]
        },
        {
          "output_type": "stream",
          "name": "stdout",
          "text": [
            "n_shots=5, Run=8, Accuracy: 73.55 %\n"
          ]
        },
        {
          "output_type": "stream",
          "name": "stderr",
          "text": [
            "\n",
            "100%|███████████████████████████| 10/10 [00:00<00:00, 99.30it/s, accuracy=0.733]"
          ]
        },
        {
          "output_type": "stream",
          "name": "stdout",
          "text": [
            "n_shots=6, Run=8, Accuracy: 73.25 %\n"
          ]
        },
        {
          "output_type": "stream",
          "name": "stderr",
          "text": [
            "\n",
            "100%|███████████████████████████| 10/10 [00:00<00:00, 95.62it/s, accuracy=0.726]"
          ]
        },
        {
          "output_type": "stream",
          "name": "stdout",
          "text": [
            "n_shots=8, Run=8, Accuracy: 72.60 %\n"
          ]
        },
        {
          "output_type": "stream",
          "name": "stderr",
          "text": [
            "\n",
            "100%|███████████████████████████| 10/10 [00:00<00:00, 98.45it/s, accuracy=0.767]"
          ]
        },
        {
          "output_type": "stream",
          "name": "stdout",
          "text": [
            "n_shots=10, Run=8, Accuracy: 76.75 %\n"
          ]
        },
        {
          "output_type": "stream",
          "name": "stderr",
          "text": [
            "\n",
            "100%|███████████████████████████| 10/10 [00:00<00:00, 95.25it/s, accuracy=0.792]"
          ]
        },
        {
          "output_type": "stream",
          "name": "stdout",
          "text": [
            "n_shots=12, Run=8, Accuracy: 79.20 %\n"
          ]
        },
        {
          "output_type": "stream",
          "name": "stderr",
          "text": [
            "\n",
            "100%|███████████████████████████| 10/10 [00:00<00:00, 94.94it/s, accuracy=0.768]"
          ]
        },
        {
          "output_type": "stream",
          "name": "stdout",
          "text": [
            "n_shots=16, Run=8, Accuracy: 76.85 %\n"
          ]
        },
        {
          "output_type": "stream",
          "name": "stderr",
          "text": [
            "\n",
            "100%|███████████████████████████| 10/10 [00:00<00:00, 90.18it/s, accuracy=0.798]"
          ]
        },
        {
          "output_type": "stream",
          "name": "stdout",
          "text": [
            "n_shots=24, Run=8, Accuracy: 79.80 %\n"
          ]
        },
        {
          "output_type": "stream",
          "name": "stderr",
          "text": [
            "\n",
            "100%|███████████████████████████| 10/10 [00:00<00:00, 95.54it/s, accuracy=0.814]"
          ]
        },
        {
          "output_type": "stream",
          "name": "stdout",
          "text": [
            "n_shots=32, Run=8, Accuracy: 81.35 %\n"
          ]
        },
        {
          "output_type": "stream",
          "name": "stderr",
          "text": [
            "\n",
            "100%|███████████████████████████| 10/10 [00:00<00:00, 97.40it/s, accuracy=0.586]"
          ]
        },
        {
          "output_type": "stream",
          "name": "stdout",
          "text": [
            "n_shots=1, Run=9, Accuracy: 58.60 %\n"
          ]
        },
        {
          "output_type": "stream",
          "name": "stderr",
          "text": [
            "\n",
            "100%|████████████████████████████| 10/10 [00:00<00:00, 97.06it/s, accuracy=0.67]"
          ]
        },
        {
          "output_type": "stream",
          "name": "stdout",
          "text": [
            "n_shots=2, Run=9, Accuracy: 67.00 %\n"
          ]
        },
        {
          "output_type": "stream",
          "name": "stderr",
          "text": [
            "\n",
            "100%|███████████████████████████| 10/10 [00:00<00:00, 93.29it/s, accuracy=0.706]"
          ]
        },
        {
          "output_type": "stream",
          "name": "stdout",
          "text": [
            "n_shots=3, Run=9, Accuracy: 70.55 %\n"
          ]
        },
        {
          "output_type": "stream",
          "name": "stderr",
          "text": [
            "\n",
            "100%|███████████████████████████| 10/10 [00:00<00:00, 99.74it/s, accuracy=0.706]"
          ]
        },
        {
          "output_type": "stream",
          "name": "stdout",
          "text": [
            "n_shots=4, Run=9, Accuracy: 70.55 %\n"
          ]
        },
        {
          "output_type": "stream",
          "name": "stderr",
          "text": [
            "\n",
            "100%|████████████████████████████| 10/10 [00:00<00:00, 99.42it/s, accuracy=0.69]"
          ]
        },
        {
          "output_type": "stream",
          "name": "stdout",
          "text": [
            "n_shots=5, Run=9, Accuracy: 68.95 %\n"
          ]
        },
        {
          "output_type": "stream",
          "name": "stderr",
          "text": [
            "\n",
            "100%|███████████████████████████| 10/10 [00:00<00:00, 96.38it/s, accuracy=0.731]"
          ]
        },
        {
          "output_type": "stream",
          "name": "stdout",
          "text": [
            "n_shots=6, Run=9, Accuracy: 73.10 %\n"
          ]
        },
        {
          "output_type": "stream",
          "name": "stderr",
          "text": [
            "\n",
            "100%|██████████████████████████| 10/10 [00:00<00:00, 101.09it/s, accuracy=0.766]"
          ]
        },
        {
          "output_type": "stream",
          "name": "stdout",
          "text": [
            "n_shots=8, Run=9, Accuracy: 76.60 %\n"
          ]
        },
        {
          "output_type": "stream",
          "name": "stderr",
          "text": [
            "\n",
            "100%|███████████████████████████| 10/10 [00:00<00:00, 95.77it/s, accuracy=0.717]"
          ]
        },
        {
          "output_type": "stream",
          "name": "stdout",
          "text": [
            "n_shots=10, Run=9, Accuracy: 71.70 %\n"
          ]
        },
        {
          "output_type": "stream",
          "name": "stderr",
          "text": [
            "\n",
            "100%|███████████████████████████| 10/10 [00:00<00:00, 96.32it/s, accuracy=0.791]"
          ]
        },
        {
          "output_type": "stream",
          "name": "stdout",
          "text": [
            "n_shots=12, Run=9, Accuracy: 79.15 %\n"
          ]
        },
        {
          "output_type": "stream",
          "name": "stderr",
          "text": [
            "\n",
            "100%|███████████████████████████| 10/10 [00:00<00:00, 92.58it/s, accuracy=0.798]"
          ]
        },
        {
          "output_type": "stream",
          "name": "stdout",
          "text": [
            "n_shots=16, Run=9, Accuracy: 79.85 %\n"
          ]
        },
        {
          "output_type": "stream",
          "name": "stderr",
          "text": [
            "\n",
            "100%|███████████████████████████| 10/10 [00:00<00:00, 96.59it/s, accuracy=0.799]"
          ]
        },
        {
          "output_type": "stream",
          "name": "stdout",
          "text": [
            "n_shots=24, Run=9, Accuracy: 79.90 %\n"
          ]
        },
        {
          "output_type": "stream",
          "name": "stderr",
          "text": [
            "\n",
            "100%|█████████████████████████████| 10/10 [00:00<00:00, 94.48it/s, accuracy=0.8]"
          ]
        },
        {
          "output_type": "stream",
          "name": "stdout",
          "text": [
            "n_shots=32, Run=9, Accuracy: 80.05 %\n"
          ]
        },
        {
          "output_type": "stream",
          "name": "stderr",
          "text": [
            "\n",
            "100%|████████████████████████████| 10/10 [00:00<00:00, 93.04it/s, accuracy=0.62]"
          ]
        },
        {
          "output_type": "stream",
          "name": "stdout",
          "text": [
            "n_shots=1, Run=10, Accuracy: 62.00 %\n"
          ]
        },
        {
          "output_type": "stream",
          "name": "stderr",
          "text": [
            "\n",
            "100%|███████████████████████████| 10/10 [00:00<00:00, 99.08it/s, accuracy=0.658]"
          ]
        },
        {
          "output_type": "stream",
          "name": "stdout",
          "text": [
            "n_shots=2, Run=10, Accuracy: 65.80 %\n"
          ]
        },
        {
          "output_type": "stream",
          "name": "stderr",
          "text": [
            "\n",
            "100%|███████████████████████████| 10/10 [00:00<00:00, 99.28it/s, accuracy=0.601]"
          ]
        },
        {
          "output_type": "stream",
          "name": "stdout",
          "text": [
            "n_shots=3, Run=10, Accuracy: 60.05 %\n"
          ]
        },
        {
          "output_type": "stream",
          "name": "stderr",
          "text": [
            "\n",
            "100%|███████████████████████████| 10/10 [00:00<00:00, 91.95it/s, accuracy=0.701]"
          ]
        },
        {
          "output_type": "stream",
          "name": "stdout",
          "text": [
            "n_shots=4, Run=10, Accuracy: 70.10 %\n"
          ]
        },
        {
          "output_type": "stream",
          "name": "stderr",
          "text": [
            "\n",
            "100%|███████████████████████████| 10/10 [00:00<00:00, 98.32it/s, accuracy=0.709]"
          ]
        },
        {
          "output_type": "stream",
          "name": "stdout",
          "text": [
            "n_shots=5, Run=10, Accuracy: 70.90 %\n"
          ]
        },
        {
          "output_type": "stream",
          "name": "stderr",
          "text": [
            "\n",
            "100%|███████████████████████████| 10/10 [00:00<00:00, 98.77it/s, accuracy=0.735]"
          ]
        },
        {
          "output_type": "stream",
          "name": "stdout",
          "text": [
            "n_shots=6, Run=10, Accuracy: 73.50 %\n"
          ]
        },
        {
          "output_type": "stream",
          "name": "stderr",
          "text": [
            "\n",
            "100%|███████████████████████████| 10/10 [00:00<00:00, 96.91it/s, accuracy=0.777]"
          ]
        },
        {
          "output_type": "stream",
          "name": "stdout",
          "text": [
            "n_shots=8, Run=10, Accuracy: 77.75 %\n"
          ]
        },
        {
          "output_type": "stream",
          "name": "stderr",
          "text": [
            "\n",
            "100%|███████████████████████████| 10/10 [00:00<00:00, 99.97it/s, accuracy=0.744]"
          ]
        },
        {
          "output_type": "stream",
          "name": "stdout",
          "text": [
            "n_shots=10, Run=10, Accuracy: 74.40 %\n"
          ]
        },
        {
          "output_type": "stream",
          "name": "stderr",
          "text": [
            "\n",
            "100%|███████████████████████████| 10/10 [00:00<00:00, 99.13it/s, accuracy=0.762]"
          ]
        },
        {
          "output_type": "stream",
          "name": "stdout",
          "text": [
            "n_shots=12, Run=10, Accuracy: 76.25 %\n"
          ]
        },
        {
          "output_type": "stream",
          "name": "stderr",
          "text": [
            "\n",
            "100%|███████████████████████████| 10/10 [00:00<00:00, 95.03it/s, accuracy=0.797]"
          ]
        },
        {
          "output_type": "stream",
          "name": "stdout",
          "text": [
            "n_shots=16, Run=10, Accuracy: 79.75 %\n"
          ]
        },
        {
          "output_type": "stream",
          "name": "stderr",
          "text": [
            "\n",
            "100%|██████████████████████████| 10/10 [00:00<00:00, 100.00it/s, accuracy=0.791]"
          ]
        },
        {
          "output_type": "stream",
          "name": "stdout",
          "text": [
            "n_shots=24, Run=10, Accuracy: 79.10 %\n"
          ]
        },
        {
          "output_type": "stream",
          "name": "stderr",
          "text": [
            "\n",
            "100%|███████████████████████████| 10/10 [00:00<00:00, 96.71it/s, accuracy=0.792]"
          ]
        },
        {
          "output_type": "stream",
          "name": "stdout",
          "text": [
            "n_shots=32, Run=10, Accuracy: 79.25 %\n"
          ]
        },
        {
          "output_type": "stream",
          "name": "stderr",
          "text": [
            "\n",
            "100%|███████████████████████████| 10/10 [00:00<00:00, 94.73it/s, accuracy=0.616]"
          ]
        },
        {
          "output_type": "stream",
          "name": "stdout",
          "text": [
            "n_shots=1, Run=11, Accuracy: 61.60 %\n"
          ]
        },
        {
          "output_type": "stream",
          "name": "stderr",
          "text": [
            "\n",
            "100%|███████████████████████████| 10/10 [00:00<00:00, 99.76it/s, accuracy=0.631]"
          ]
        },
        {
          "output_type": "stream",
          "name": "stdout",
          "text": [
            "n_shots=2, Run=11, Accuracy: 63.10 %\n"
          ]
        },
        {
          "output_type": "stream",
          "name": "stderr",
          "text": [
            "\n",
            "100%|███████████████████████████| 10/10 [00:00<00:00, 95.98it/s, accuracy=0.674]"
          ]
        },
        {
          "output_type": "stream",
          "name": "stdout",
          "text": [
            "n_shots=3, Run=11, Accuracy: 67.45 %\n"
          ]
        },
        {
          "output_type": "stream",
          "name": "stderr",
          "text": [
            "\n",
            "100%|███████████████████████████| 10/10 [00:00<00:00, 92.88it/s, accuracy=0.713]"
          ]
        },
        {
          "output_type": "stream",
          "name": "stdout",
          "text": [
            "n_shots=4, Run=11, Accuracy: 71.30 %\n"
          ]
        },
        {
          "output_type": "stream",
          "name": "stderr",
          "text": [
            "\n",
            "100%|███████████████████████████| 10/10 [00:00<00:00, 99.14it/s, accuracy=0.696]"
          ]
        },
        {
          "output_type": "stream",
          "name": "stdout",
          "text": [
            "n_shots=5, Run=11, Accuracy: 69.55 %\n"
          ]
        },
        {
          "output_type": "stream",
          "name": "stderr",
          "text": [
            "\n",
            "100%|███████████████████████████| 10/10 [00:00<00:00, 94.61it/s, accuracy=0.704]"
          ]
        },
        {
          "output_type": "stream",
          "name": "stdout",
          "text": [
            "n_shots=6, Run=11, Accuracy: 70.40 %\n"
          ]
        },
        {
          "output_type": "stream",
          "name": "stderr",
          "text": [
            "\n",
            "100%|███████████████████████████| 10/10 [00:00<00:00, 95.53it/s, accuracy=0.779]"
          ]
        },
        {
          "output_type": "stream",
          "name": "stdout",
          "text": [
            "n_shots=8, Run=11, Accuracy: 77.90 %\n"
          ]
        },
        {
          "output_type": "stream",
          "name": "stderr",
          "text": [
            "\n",
            "100%|███████████████████████████| 10/10 [00:00<00:00, 96.04it/s, accuracy=0.772]"
          ]
        },
        {
          "output_type": "stream",
          "name": "stdout",
          "text": [
            "n_shots=10, Run=11, Accuracy: 77.25 %\n"
          ]
        },
        {
          "output_type": "stream",
          "name": "stderr",
          "text": [
            "\n",
            "100%|███████████████████████████| 10/10 [00:00<00:00, 94.79it/s, accuracy=0.771]"
          ]
        },
        {
          "output_type": "stream",
          "name": "stdout",
          "text": [
            "n_shots=12, Run=11, Accuracy: 77.15 %\n"
          ]
        },
        {
          "output_type": "stream",
          "name": "stderr",
          "text": [
            "\n",
            "100%|███████████████████████████| 10/10 [00:00<00:00, 91.07it/s, accuracy=0.797]"
          ]
        },
        {
          "output_type": "stream",
          "name": "stdout",
          "text": [
            "n_shots=16, Run=11, Accuracy: 79.75 %\n"
          ]
        },
        {
          "output_type": "stream",
          "name": "stderr",
          "text": [
            "\n",
            "100%|███████████████████████████| 10/10 [00:00<00:00, 96.22it/s, accuracy=0.783]"
          ]
        },
        {
          "output_type": "stream",
          "name": "stdout",
          "text": [
            "n_shots=24, Run=11, Accuracy: 78.30 %\n"
          ]
        },
        {
          "output_type": "stream",
          "name": "stderr",
          "text": [
            "\n",
            "100%|███████████████████████████| 10/10 [00:00<00:00, 95.22it/s, accuracy=0.791]"
          ]
        },
        {
          "output_type": "stream",
          "name": "stdout",
          "text": [
            "n_shots=32, Run=11, Accuracy: 79.15 %\n"
          ]
        },
        {
          "output_type": "stream",
          "name": "stderr",
          "text": [
            "\n",
            "100%|███████████████████████████| 10/10 [00:00<00:00, 97.98it/s, accuracy=0.618]"
          ]
        },
        {
          "output_type": "stream",
          "name": "stdout",
          "text": [
            "n_shots=1, Run=12, Accuracy: 61.75 %\n"
          ]
        },
        {
          "output_type": "stream",
          "name": "stderr",
          "text": [
            "\n",
            "100%|██████████████████████████| 10/10 [00:00<00:00, 100.56it/s, accuracy=0.667]"
          ]
        },
        {
          "output_type": "stream",
          "name": "stdout",
          "text": [
            "n_shots=2, Run=12, Accuracy: 66.75 %\n"
          ]
        },
        {
          "output_type": "stream",
          "name": "stderr",
          "text": [
            "\n",
            "100%|███████████████████████████| 10/10 [00:00<00:00, 99.53it/s, accuracy=0.707]"
          ]
        },
        {
          "output_type": "stream",
          "name": "stdout",
          "text": [
            "n_shots=3, Run=12, Accuracy: 70.70 %\n"
          ]
        },
        {
          "output_type": "stream",
          "name": "stderr",
          "text": [
            "\n",
            "100%|███████████████████████████| 10/10 [00:00<00:00, 95.84it/s, accuracy=0.747]"
          ]
        },
        {
          "output_type": "stream",
          "name": "stdout",
          "text": [
            "n_shots=4, Run=12, Accuracy: 74.70 %\n"
          ]
        },
        {
          "output_type": "stream",
          "name": "stderr",
          "text": [
            "\n",
            "100%|███████████████████████████| 10/10 [00:00<00:00, 97.80it/s, accuracy=0.717]"
          ]
        },
        {
          "output_type": "stream",
          "name": "stdout",
          "text": [
            "n_shots=5, Run=12, Accuracy: 71.65 %\n"
          ]
        },
        {
          "output_type": "stream",
          "name": "stderr",
          "text": [
            "\n",
            "100%|███████████████████████████| 10/10 [00:00<00:00, 96.00it/s, accuracy=0.727]"
          ]
        },
        {
          "output_type": "stream",
          "name": "stdout",
          "text": [
            "n_shots=6, Run=12, Accuracy: 72.65 %\n"
          ]
        },
        {
          "output_type": "stream",
          "name": "stderr",
          "text": [
            "\n",
            "100%|███████████████████████████| 10/10 [00:00<00:00, 100.51it/s, accuracy=0.72]"
          ]
        },
        {
          "output_type": "stream",
          "name": "stdout",
          "text": [
            "n_shots=8, Run=12, Accuracy: 71.95 %\n"
          ]
        },
        {
          "output_type": "stream",
          "name": "stderr",
          "text": [
            "\n",
            "100%|███████████████████████████| 10/10 [00:00<00:00, 92.83it/s, accuracy=0.797]"
          ]
        },
        {
          "output_type": "stream",
          "name": "stdout",
          "text": [
            "n_shots=10, Run=12, Accuracy: 79.70 %\n"
          ]
        },
        {
          "output_type": "stream",
          "name": "stderr",
          "text": [
            "\n",
            "100%|███████████████████████████| 10/10 [00:00<00:00, 91.78it/s, accuracy=0.765]"
          ]
        },
        {
          "output_type": "stream",
          "name": "stdout",
          "text": [
            "n_shots=12, Run=12, Accuracy: 76.50 %\n"
          ]
        },
        {
          "output_type": "stream",
          "name": "stderr",
          "text": [
            "\n",
            "100%|████████████████████████████| 10/10 [00:00<00:00, 96.10it/s, accuracy=0.81]"
          ]
        },
        {
          "output_type": "stream",
          "name": "stdout",
          "text": [
            "n_shots=16, Run=12, Accuracy: 81.05 %\n"
          ]
        },
        {
          "output_type": "stream",
          "name": "stderr",
          "text": [
            "\n",
            "100%|███████████████████████████| 10/10 [00:00<00:00, 92.58it/s, accuracy=0.789]"
          ]
        },
        {
          "output_type": "stream",
          "name": "stdout",
          "text": [
            "n_shots=24, Run=12, Accuracy: 78.90 %\n"
          ]
        },
        {
          "output_type": "stream",
          "name": "stderr",
          "text": [
            "\n",
            "100%|███████████████████████████| 10/10 [00:00<00:00, 96.01it/s, accuracy=0.819]"
          ]
        },
        {
          "output_type": "stream",
          "name": "stdout",
          "text": [
            "n_shots=32, Run=12, Accuracy: 81.90 %\n"
          ]
        },
        {
          "output_type": "stream",
          "name": "stderr",
          "text": [
            "\n",
            "100%|███████████████████████████| 10/10 [00:00<00:00, 89.81it/s, accuracy=0.625]"
          ]
        },
        {
          "output_type": "stream",
          "name": "stdout",
          "text": [
            "n_shots=1, Run=13, Accuracy: 62.45 %\n"
          ]
        },
        {
          "output_type": "stream",
          "name": "stderr",
          "text": [
            "\n",
            "100%|███████████████████████████| 10/10 [00:00<00:00, 96.73it/s, accuracy=0.689]"
          ]
        },
        {
          "output_type": "stream",
          "name": "stdout",
          "text": [
            "n_shots=2, Run=13, Accuracy: 68.85 %\n"
          ]
        },
        {
          "output_type": "stream",
          "name": "stderr",
          "text": [
            "\n",
            "100%|███████████████████████████| 10/10 [00:00<00:00, 92.53it/s, accuracy=0.722]"
          ]
        },
        {
          "output_type": "stream",
          "name": "stdout",
          "text": [
            "n_shots=3, Run=13, Accuracy: 72.20 %\n"
          ]
        },
        {
          "output_type": "stream",
          "name": "stderr",
          "text": [
            "\n",
            "100%|███████████████████████████| 10/10 [00:00<00:00, 95.68it/s, accuracy=0.707]"
          ]
        },
        {
          "output_type": "stream",
          "name": "stdout",
          "text": [
            "n_shots=4, Run=13, Accuracy: 70.65 %\n"
          ]
        },
        {
          "output_type": "stream",
          "name": "stderr",
          "text": [
            "\n",
            "100%|███████████████████████████| 10/10 [00:00<00:00, 99.84it/s, accuracy=0.756]"
          ]
        },
        {
          "output_type": "stream",
          "name": "stdout",
          "text": [
            "n_shots=5, Run=13, Accuracy: 75.60 %\n"
          ]
        },
        {
          "output_type": "stream",
          "name": "stderr",
          "text": [
            "\n",
            "100%|███████████████████████████| 10/10 [00:00<00:00, 94.64it/s, accuracy=0.702]"
          ]
        },
        {
          "output_type": "stream",
          "name": "stdout",
          "text": [
            "n_shots=6, Run=13, Accuracy: 70.15 %\n"
          ]
        },
        {
          "output_type": "stream",
          "name": "stderr",
          "text": [
            "\n",
            "100%|███████████████████████████| 10/10 [00:00<00:00, 98.58it/s, accuracy=0.751]"
          ]
        },
        {
          "output_type": "stream",
          "name": "stdout",
          "text": [
            "n_shots=8, Run=13, Accuracy: 75.10 %\n"
          ]
        },
        {
          "output_type": "stream",
          "name": "stderr",
          "text": [
            "\n",
            "100%|████████████████████████████| 10/10 [00:00<00:00, 95.18it/s, accuracy=0.76]"
          ]
        },
        {
          "output_type": "stream",
          "name": "stdout",
          "text": [
            "n_shots=10, Run=13, Accuracy: 76.05 %\n"
          ]
        },
        {
          "output_type": "stream",
          "name": "stderr",
          "text": [
            "\n",
            "100%|███████████████████████████| 10/10 [00:00<00:00, 90.21it/s, accuracy=0.738]"
          ]
        },
        {
          "output_type": "stream",
          "name": "stdout",
          "text": [
            "n_shots=12, Run=13, Accuracy: 73.75 %\n"
          ]
        },
        {
          "output_type": "stream",
          "name": "stderr",
          "text": [
            "\n",
            "100%|███████████████████████████| 10/10 [00:00<00:00, 96.61it/s, accuracy=0.786]"
          ]
        },
        {
          "output_type": "stream",
          "name": "stdout",
          "text": [
            "n_shots=16, Run=13, Accuracy: 78.60 %\n"
          ]
        },
        {
          "output_type": "stream",
          "name": "stderr",
          "text": [
            "\n",
            "100%|███████████████████████████| 10/10 [00:00<00:00, 96.02it/s, accuracy=0.774]"
          ]
        },
        {
          "output_type": "stream",
          "name": "stdout",
          "text": [
            "n_shots=24, Run=13, Accuracy: 77.40 %\n"
          ]
        },
        {
          "output_type": "stream",
          "name": "stderr",
          "text": [
            "\n",
            "100%|███████████████████████████| 10/10 [00:00<00:00, 94.29it/s, accuracy=0.805]"
          ]
        },
        {
          "output_type": "stream",
          "name": "stdout",
          "text": [
            "n_shots=32, Run=13, Accuracy: 80.50 %\n"
          ]
        },
        {
          "output_type": "stream",
          "name": "stderr",
          "text": [
            "\n",
            "100%|████████████████████████████| 10/10 [00:00<00:00, 96.54it/s, accuracy=0.58]"
          ]
        },
        {
          "output_type": "stream",
          "name": "stdout",
          "text": [
            "n_shots=1, Run=14, Accuracy: 57.95 %\n"
          ]
        },
        {
          "output_type": "stream",
          "name": "stderr",
          "text": [
            "\n",
            "100%|███████████████████████████| 10/10 [00:00<00:00, 98.80it/s, accuracy=0.669]"
          ]
        },
        {
          "output_type": "stream",
          "name": "stdout",
          "text": [
            "n_shots=2, Run=14, Accuracy: 66.95 %\n"
          ]
        },
        {
          "output_type": "stream",
          "name": "stderr",
          "text": [
            "\n",
            "100%|███████████████████████████| 10/10 [00:00<00:00, 96.18it/s, accuracy=0.701]"
          ]
        },
        {
          "output_type": "stream",
          "name": "stdout",
          "text": [
            "n_shots=3, Run=14, Accuracy: 70.05 %\n"
          ]
        },
        {
          "output_type": "stream",
          "name": "stderr",
          "text": [
            "\n",
            "100%|███████████████████████████| 10/10 [00:00<00:00, 92.02it/s, accuracy=0.666]"
          ]
        },
        {
          "output_type": "stream",
          "name": "stdout",
          "text": [
            "n_shots=4, Run=14, Accuracy: 66.65 %\n"
          ]
        },
        {
          "output_type": "stream",
          "name": "stderr",
          "text": [
            "\n",
            "100%|███████████████████████████| 10/10 [00:00<00:00, 93.28it/s, accuracy=0.712]"
          ]
        },
        {
          "output_type": "stream",
          "name": "stdout",
          "text": [
            "n_shots=5, Run=14, Accuracy: 71.20 %\n"
          ]
        },
        {
          "output_type": "stream",
          "name": "stderr",
          "text": [
            "\n",
            "100%|███████████████████████████| 10/10 [00:00<00:00, 99.58it/s, accuracy=0.758]"
          ]
        },
        {
          "output_type": "stream",
          "name": "stdout",
          "text": [
            "n_shots=6, Run=14, Accuracy: 75.85 %\n"
          ]
        },
        {
          "output_type": "stream",
          "name": "stderr",
          "text": [
            "\n",
            "100%|███████████████████████████| 10/10 [00:00<00:00, 92.99it/s, accuracy=0.774]"
          ]
        },
        {
          "output_type": "stream",
          "name": "stdout",
          "text": [
            "n_shots=8, Run=14, Accuracy: 77.40 %\n"
          ]
        },
        {
          "output_type": "stream",
          "name": "stderr",
          "text": [
            "\n",
            "100%|████████████████████████████| 10/10 [00:00<00:00, 96.09it/s, accuracy=0.75]"
          ]
        },
        {
          "output_type": "stream",
          "name": "stdout",
          "text": [
            "n_shots=10, Run=14, Accuracy: 74.95 %\n"
          ]
        },
        {
          "output_type": "stream",
          "name": "stderr",
          "text": [
            "\n",
            "100%|███████████████████████████| 10/10 [00:00<00:00, 92.93it/s, accuracy=0.795]"
          ]
        },
        {
          "output_type": "stream",
          "name": "stdout",
          "text": [
            "n_shots=12, Run=14, Accuracy: 79.55 %\n"
          ]
        },
        {
          "output_type": "stream",
          "name": "stderr",
          "text": [
            "\n",
            "100%|███████████████████████████| 10/10 [00:00<00:00, 91.38it/s, accuracy=0.805]"
          ]
        },
        {
          "output_type": "stream",
          "name": "stdout",
          "text": [
            "n_shots=16, Run=14, Accuracy: 80.55 %\n"
          ]
        },
        {
          "output_type": "stream",
          "name": "stderr",
          "text": [
            "\n",
            "100%|███████████████████████████| 10/10 [00:00<00:00, 95.33it/s, accuracy=0.792]"
          ]
        },
        {
          "output_type": "stream",
          "name": "stdout",
          "text": [
            "n_shots=24, Run=14, Accuracy: 79.20 %\n"
          ]
        },
        {
          "output_type": "stream",
          "name": "stderr",
          "text": [
            "\n",
            "100%|████████████████████████████| 10/10 [00:00<00:00, 91.14it/s, accuracy=0.78]"
          ]
        },
        {
          "output_type": "stream",
          "name": "stdout",
          "text": [
            "n_shots=32, Run=14, Accuracy: 78.05 %\n"
          ]
        },
        {
          "output_type": "stream",
          "name": "stderr",
          "text": [
            "\n",
            "100%|███████████████████████████| 10/10 [00:00<00:00, 94.62it/s, accuracy=0.589]"
          ]
        },
        {
          "output_type": "stream",
          "name": "stdout",
          "text": [
            "n_shots=1, Run=15, Accuracy: 58.85 %\n"
          ]
        },
        {
          "output_type": "stream",
          "name": "stderr",
          "text": [
            "\n",
            "100%|████████████████████████████| 10/10 [00:00<00:00, 94.76it/s, accuracy=0.67]"
          ]
        },
        {
          "output_type": "stream",
          "name": "stdout",
          "text": [
            "n_shots=2, Run=15, Accuracy: 67.05 %\n"
          ]
        },
        {
          "output_type": "stream",
          "name": "stderr",
          "text": [
            "\n",
            "100%|███████████████████████████| 10/10 [00:00<00:00, 95.49it/s, accuracy=0.712]"
          ]
        },
        {
          "output_type": "stream",
          "name": "stdout",
          "text": [
            "n_shots=3, Run=15, Accuracy: 71.15 %\n"
          ]
        },
        {
          "output_type": "stream",
          "name": "stderr",
          "text": [
            "\n",
            "100%|███████████████████████████| 10/10 [00:00<00:00, 92.51it/s, accuracy=0.672]"
          ]
        },
        {
          "output_type": "stream",
          "name": "stdout",
          "text": [
            "n_shots=4, Run=15, Accuracy: 67.25 %\n"
          ]
        },
        {
          "output_type": "stream",
          "name": "stderr",
          "text": [
            "\n",
            "100%|███████████████████████████| 10/10 [00:00<00:00, 97.89it/s, accuracy=0.731]"
          ]
        },
        {
          "output_type": "stream",
          "name": "stdout",
          "text": [
            "n_shots=5, Run=15, Accuracy: 73.10 %\n"
          ]
        },
        {
          "output_type": "stream",
          "name": "stderr",
          "text": [
            "\n",
            "100%|███████████████████████████| 10/10 [00:00<00:00, 97.07it/s, accuracy=0.761]"
          ]
        },
        {
          "output_type": "stream",
          "name": "stdout",
          "text": [
            "n_shots=6, Run=15, Accuracy: 76.15 %\n"
          ]
        },
        {
          "output_type": "stream",
          "name": "stderr",
          "text": [
            "\n",
            "100%|██████████████████████████| 10/10 [00:00<00:00, 100.14it/s, accuracy=0.729]"
          ]
        },
        {
          "output_type": "stream",
          "name": "stdout",
          "text": [
            "n_shots=8, Run=15, Accuracy: 72.85 %\n"
          ]
        },
        {
          "output_type": "stream",
          "name": "stderr",
          "text": [
            "\n",
            "100%|███████████████████████████| 10/10 [00:00<00:00, 96.01it/s, accuracy=0.784]"
          ]
        },
        {
          "output_type": "stream",
          "name": "stdout",
          "text": [
            "n_shots=10, Run=15, Accuracy: 78.40 %\n"
          ]
        },
        {
          "output_type": "stream",
          "name": "stderr",
          "text": [
            "\n",
            "100%|███████████████████████████| 10/10 [00:00<00:00, 94.81it/s, accuracy=0.774]"
          ]
        },
        {
          "output_type": "stream",
          "name": "stdout",
          "text": [
            "n_shots=12, Run=15, Accuracy: 77.40 %\n"
          ]
        },
        {
          "output_type": "stream",
          "name": "stderr",
          "text": [
            "\n",
            "100%|████████████████████████████| 10/10 [00:00<00:00, 92.86it/s, accuracy=0.78]"
          ]
        },
        {
          "output_type": "stream",
          "name": "stdout",
          "text": [
            "n_shots=16, Run=15, Accuracy: 78.05 %\n"
          ]
        },
        {
          "output_type": "stream",
          "name": "stderr",
          "text": [
            "\n",
            "100%|███████████████████████████| 10/10 [00:00<00:00, 90.90it/s, accuracy=0.814]"
          ]
        },
        {
          "output_type": "stream",
          "name": "stdout",
          "text": [
            "n_shots=24, Run=15, Accuracy: 81.35 %\n"
          ]
        },
        {
          "output_type": "stream",
          "name": "stderr",
          "text": [
            "\n",
            "100%|█████████████████████████████| 10/10 [00:00<00:00, 87.63it/s, accuracy=0.8]"
          ]
        },
        {
          "output_type": "stream",
          "name": "stdout",
          "text": [
            "n_shots=32, Run=15, Accuracy: 80.05 %\n"
          ]
        },
        {
          "output_type": "stream",
          "name": "stderr",
          "text": [
            "\n",
            "100%|███████████████████████████| 10/10 [00:00<00:00, 92.32it/s, accuracy=0.564]"
          ]
        },
        {
          "output_type": "stream",
          "name": "stdout",
          "text": [
            "n_shots=1, Run=16, Accuracy: 56.35 %\n"
          ]
        },
        {
          "output_type": "stream",
          "name": "stderr",
          "text": [
            "\n",
            "100%|███████████████████████████| 10/10 [00:00<00:00, 98.27it/s, accuracy=0.714]"
          ]
        },
        {
          "output_type": "stream",
          "name": "stdout",
          "text": [
            "n_shots=2, Run=16, Accuracy: 71.40 %\n"
          ]
        },
        {
          "output_type": "stream",
          "name": "stderr",
          "text": [
            "\n",
            "100%|███████████████████████████| 10/10 [00:00<00:00, 92.97it/s, accuracy=0.658]"
          ]
        },
        {
          "output_type": "stream",
          "name": "stdout",
          "text": [
            "n_shots=3, Run=16, Accuracy: 65.85 %\n"
          ]
        },
        {
          "output_type": "stream",
          "name": "stderr",
          "text": [
            "\n",
            "100%|███████████████████████████| 10/10 [00:00<00:00, 95.86it/s, accuracy=0.714]"
          ]
        },
        {
          "output_type": "stream",
          "name": "stdout",
          "text": [
            "n_shots=4, Run=16, Accuracy: 71.35 %\n"
          ]
        },
        {
          "output_type": "stream",
          "name": "stderr",
          "text": [
            "\n",
            "100%|███████████████████████████| 10/10 [00:00<00:00, 96.70it/s, accuracy=0.752]"
          ]
        },
        {
          "output_type": "stream",
          "name": "stdout",
          "text": [
            "n_shots=5, Run=16, Accuracy: 75.25 %\n"
          ]
        },
        {
          "output_type": "stream",
          "name": "stderr",
          "text": [
            "\n",
            "100%|███████████████████████████| 10/10 [00:00<00:00, 94.67it/s, accuracy=0.694]"
          ]
        },
        {
          "output_type": "stream",
          "name": "stdout",
          "text": [
            "n_shots=6, Run=16, Accuracy: 69.35 %\n"
          ]
        },
        {
          "output_type": "stream",
          "name": "stderr",
          "text": [
            "\n",
            "100%|███████████████████████████| 10/10 [00:00<00:00, 98.84it/s, accuracy=0.728]"
          ]
        },
        {
          "output_type": "stream",
          "name": "stdout",
          "text": [
            "n_shots=8, Run=16, Accuracy: 72.75 %\n"
          ]
        },
        {
          "output_type": "stream",
          "name": "stderr",
          "text": [
            "\n",
            "100%|███████████████████████████| 10/10 [00:00<00:00, 96.41it/s, accuracy=0.792]"
          ]
        },
        {
          "output_type": "stream",
          "name": "stdout",
          "text": [
            "n_shots=10, Run=16, Accuracy: 79.25 %\n"
          ]
        },
        {
          "output_type": "stream",
          "name": "stderr",
          "text": [
            "\n",
            "100%|███████████████████████████| 10/10 [00:00<00:00, 88.37it/s, accuracy=0.745]"
          ]
        },
        {
          "output_type": "stream",
          "name": "stdout",
          "text": [
            "n_shots=12, Run=16, Accuracy: 74.50 %\n"
          ]
        },
        {
          "output_type": "stream",
          "name": "stderr",
          "text": [
            "\n",
            "100%|███████████████████████████| 10/10 [00:00<00:00, 96.90it/s, accuracy=0.798]"
          ]
        },
        {
          "output_type": "stream",
          "name": "stdout",
          "text": [
            "n_shots=16, Run=16, Accuracy: 79.85 %\n"
          ]
        },
        {
          "output_type": "stream",
          "name": "stderr",
          "text": [
            "\n",
            "100%|███████████████████████████| 10/10 [00:00<00:00, 96.36it/s, accuracy=0.804]"
          ]
        },
        {
          "output_type": "stream",
          "name": "stdout",
          "text": [
            "n_shots=24, Run=16, Accuracy: 80.40 %\n"
          ]
        },
        {
          "output_type": "stream",
          "name": "stderr",
          "text": [
            "\n",
            "100%|███████████████████████████| 10/10 [00:00<00:00, 95.84it/s, accuracy=0.776]"
          ]
        },
        {
          "output_type": "stream",
          "name": "stdout",
          "text": [
            "n_shots=32, Run=16, Accuracy: 77.60 %\n"
          ]
        },
        {
          "output_type": "stream",
          "name": "stderr",
          "text": [
            "\n",
            "100%|███████████████████████████| 10/10 [00:00<00:00, 95.70it/s, accuracy=0.564]"
          ]
        },
        {
          "output_type": "stream",
          "name": "stdout",
          "text": [
            "n_shots=1, Run=17, Accuracy: 56.35 %\n"
          ]
        },
        {
          "output_type": "stream",
          "name": "stderr",
          "text": [
            "\n",
            "100%|███████████████████████████| 10/10 [00:00<00:00, 99.98it/s, accuracy=0.651]"
          ]
        },
        {
          "output_type": "stream",
          "name": "stdout",
          "text": [
            "n_shots=2, Run=17, Accuracy: 65.15 %\n"
          ]
        },
        {
          "output_type": "stream",
          "name": "stderr",
          "text": [
            "\n",
            "100%|███████████████████████████| 10/10 [00:00<00:00, 98.16it/s, accuracy=0.698]"
          ]
        },
        {
          "output_type": "stream",
          "name": "stdout",
          "text": [
            "n_shots=3, Run=17, Accuracy: 69.80 %\n"
          ]
        },
        {
          "output_type": "stream",
          "name": "stderr",
          "text": [
            "\n",
            "100%|████████████████████████████| 10/10 [00:00<00:00, 97.65it/s, accuracy=0.73]"
          ]
        },
        {
          "output_type": "stream",
          "name": "stdout",
          "text": [
            "n_shots=4, Run=17, Accuracy: 72.95 %\n"
          ]
        },
        {
          "output_type": "stream",
          "name": "stderr",
          "text": [
            "\n",
            "100%|███████████████████████████| 10/10 [00:00<00:00, 88.99it/s, accuracy=0.743]"
          ]
        },
        {
          "output_type": "stream",
          "name": "stdout",
          "text": [
            "n_shots=5, Run=17, Accuracy: 74.30 %\n"
          ]
        },
        {
          "output_type": "stream",
          "name": "stderr",
          "text": [
            "\n",
            "100%|███████████████████████████| 10/10 [00:00<00:00, 98.58it/s, accuracy=0.695]"
          ]
        },
        {
          "output_type": "stream",
          "name": "stdout",
          "text": [
            "n_shots=6, Run=17, Accuracy: 69.50 %\n"
          ]
        },
        {
          "output_type": "stream",
          "name": "stderr",
          "text": [
            "\n",
            "100%|███████████████████████████| 10/10 [00:00<00:00, 92.55it/s, accuracy=0.754]"
          ]
        },
        {
          "output_type": "stream",
          "name": "stdout",
          "text": [
            "n_shots=8, Run=17, Accuracy: 75.45 %\n"
          ]
        },
        {
          "output_type": "stream",
          "name": "stderr",
          "text": [
            "\n",
            "100%|███████████████████████████| 10/10 [00:00<00:00, 97.12it/s, accuracy=0.725]"
          ]
        },
        {
          "output_type": "stream",
          "name": "stdout",
          "text": [
            "n_shots=10, Run=17, Accuracy: 72.45 %\n"
          ]
        },
        {
          "output_type": "stream",
          "name": "stderr",
          "text": [
            "\n",
            "100%|███████████████████████████| 10/10 [00:00<00:00, 96.84it/s, accuracy=0.761]"
          ]
        },
        {
          "output_type": "stream",
          "name": "stdout",
          "text": [
            "n_shots=12, Run=17, Accuracy: 76.15 %\n"
          ]
        },
        {
          "output_type": "stream",
          "name": "stderr",
          "text": [
            "\n",
            "100%|███████████████████████████| 10/10 [00:00<00:00, 96.72it/s, accuracy=0.802]"
          ]
        },
        {
          "output_type": "stream",
          "name": "stdout",
          "text": [
            "n_shots=16, Run=17, Accuracy: 80.20 %\n"
          ]
        },
        {
          "output_type": "stream",
          "name": "stderr",
          "text": [
            "\n",
            "100%|███████████████████████████| 10/10 [00:00<00:00, 86.38it/s, accuracy=0.807]"
          ]
        },
        {
          "output_type": "stream",
          "name": "stdout",
          "text": [
            "n_shots=24, Run=17, Accuracy: 80.70 %\n"
          ]
        },
        {
          "output_type": "stream",
          "name": "stderr",
          "text": [
            "\n",
            "100%|███████████████████████████| 10/10 [00:00<00:00, 93.54it/s, accuracy=0.797]"
          ]
        },
        {
          "output_type": "stream",
          "name": "stdout",
          "text": [
            "n_shots=32, Run=17, Accuracy: 79.70 %\n"
          ]
        },
        {
          "output_type": "stream",
          "name": "stderr",
          "text": [
            "\n",
            "100%|███████████████████████████| 10/10 [00:00<00:00, 93.24it/s, accuracy=0.601]"
          ]
        },
        {
          "output_type": "stream",
          "name": "stdout",
          "text": [
            "n_shots=1, Run=18, Accuracy: 60.05 %\n"
          ]
        },
        {
          "output_type": "stream",
          "name": "stderr",
          "text": [
            "\n",
            "100%|███████████████████████████| 10/10 [00:00<00:00, 96.84it/s, accuracy=0.673]"
          ]
        },
        {
          "output_type": "stream",
          "name": "stdout",
          "text": [
            "n_shots=2, Run=18, Accuracy: 67.35 %\n"
          ]
        },
        {
          "output_type": "stream",
          "name": "stderr",
          "text": [
            "\n",
            "100%|███████████████████████████| 10/10 [00:00<00:00, 96.16it/s, accuracy=0.695]"
          ]
        },
        {
          "output_type": "stream",
          "name": "stdout",
          "text": [
            "n_shots=3, Run=18, Accuracy: 69.45 %\n"
          ]
        },
        {
          "output_type": "stream",
          "name": "stderr",
          "text": [
            "\n",
            "100%|███████████████████████████| 10/10 [00:00<00:00, 97.39it/s, accuracy=0.729]"
          ]
        },
        {
          "output_type": "stream",
          "name": "stdout",
          "text": [
            "n_shots=4, Run=18, Accuracy: 72.85 %\n"
          ]
        },
        {
          "output_type": "stream",
          "name": "stderr",
          "text": [
            "\n",
            "100%|███████████████████████████| 10/10 [00:00<00:00, 90.12it/s, accuracy=0.702]"
          ]
        },
        {
          "output_type": "stream",
          "name": "stdout",
          "text": [
            "n_shots=5, Run=18, Accuracy: 70.20 %\n"
          ]
        },
        {
          "output_type": "stream",
          "name": "stderr",
          "text": [
            "\n",
            "100%|███████████████████████████| 10/10 [00:00<00:00, 96.40it/s, accuracy=0.757]"
          ]
        },
        {
          "output_type": "stream",
          "name": "stdout",
          "text": [
            "n_shots=6, Run=18, Accuracy: 75.75 %\n"
          ]
        },
        {
          "output_type": "stream",
          "name": "stderr",
          "text": [
            "\n",
            "100%|████████████████████████████| 10/10 [00:00<00:00, 92.17it/s, accuracy=0.77]"
          ]
        },
        {
          "output_type": "stream",
          "name": "stdout",
          "text": [
            "n_shots=8, Run=18, Accuracy: 77.05 %\n"
          ]
        },
        {
          "output_type": "stream",
          "name": "stderr",
          "text": [
            "\n",
            "100%|███████████████████████████| 10/10 [00:00<00:00, 95.50it/s, accuracy=0.746]"
          ]
        },
        {
          "output_type": "stream",
          "name": "stdout",
          "text": [
            "n_shots=10, Run=18, Accuracy: 74.55 %\n"
          ]
        },
        {
          "output_type": "stream",
          "name": "stderr",
          "text": [
            "\n",
            "100%|███████████████████████████| 10/10 [00:00<00:00, 96.56it/s, accuracy=0.771]"
          ]
        },
        {
          "output_type": "stream",
          "name": "stdout",
          "text": [
            "n_shots=12, Run=18, Accuracy: 77.15 %\n"
          ]
        },
        {
          "output_type": "stream",
          "name": "stderr",
          "text": [
            "\n",
            "100%|███████████████████████████| 10/10 [00:00<00:00, 94.59it/s, accuracy=0.805]"
          ]
        },
        {
          "output_type": "stream",
          "name": "stdout",
          "text": [
            "n_shots=16, Run=18, Accuracy: 80.55 %\n"
          ]
        },
        {
          "output_type": "stream",
          "name": "stderr",
          "text": [
            "\n",
            "100%|███████████████████████████| 10/10 [00:00<00:00, 94.72it/s, accuracy=0.741]"
          ]
        },
        {
          "output_type": "stream",
          "name": "stdout",
          "text": [
            "n_shots=24, Run=18, Accuracy: 74.10 %\n"
          ]
        },
        {
          "output_type": "stream",
          "name": "stderr",
          "text": [
            "\n",
            "100%|███████████████████████████| 10/10 [00:00<00:00, 93.94it/s, accuracy=0.809]"
          ]
        },
        {
          "output_type": "stream",
          "name": "stdout",
          "text": [
            "n_shots=32, Run=18, Accuracy: 80.90 %\n"
          ]
        },
        {
          "output_type": "stream",
          "name": "stderr",
          "text": [
            "\n",
            "100%|███████████████████████████| 10/10 [00:00<00:00, 96.66it/s, accuracy=0.625]"
          ]
        },
        {
          "output_type": "stream",
          "name": "stdout",
          "text": [
            "n_shots=1, Run=19, Accuracy: 62.50 %\n"
          ]
        },
        {
          "output_type": "stream",
          "name": "stderr",
          "text": [
            "\n",
            "100%|████████████████████████████| 10/10 [00:00<00:00, 99.34it/s, accuracy=0.68]"
          ]
        },
        {
          "output_type": "stream",
          "name": "stdout",
          "text": [
            "n_shots=2, Run=19, Accuracy: 68.05 %\n"
          ]
        },
        {
          "output_type": "stream",
          "name": "stderr",
          "text": [
            "\n",
            "100%|███████████████████████████| 10/10 [00:00<00:00, 87.97it/s, accuracy=0.698]"
          ]
        },
        {
          "output_type": "stream",
          "name": "stdout",
          "text": [
            "n_shots=3, Run=19, Accuracy: 69.75 %\n"
          ]
        },
        {
          "output_type": "stream",
          "name": "stderr",
          "text": [
            "\n",
            "100%|████████████████████████████| 10/10 [00:00<00:00, 94.66it/s, accuracy=0.66]"
          ]
        },
        {
          "output_type": "stream",
          "name": "stdout",
          "text": [
            "n_shots=4, Run=19, Accuracy: 66.00 %\n"
          ]
        },
        {
          "output_type": "stream",
          "name": "stderr",
          "text": [
            "\n",
            "100%|███████████████████████████| 10/10 [00:00<00:00, 99.54it/s, accuracy=0.742]"
          ]
        },
        {
          "output_type": "stream",
          "name": "stdout",
          "text": [
            "n_shots=5, Run=19, Accuracy: 74.15 %\n"
          ]
        },
        {
          "output_type": "stream",
          "name": "stderr",
          "text": [
            "\n",
            "100%|████████████████████████████| 10/10 [00:00<00:00, 93.75it/s, accuracy=0.76]"
          ]
        },
        {
          "output_type": "stream",
          "name": "stdout",
          "text": [
            "n_shots=6, Run=19, Accuracy: 76.05 %\n"
          ]
        },
        {
          "output_type": "stream",
          "name": "stderr",
          "text": [
            "\n",
            "100%|███████████████████████████| 10/10 [00:00<00:00, 95.22it/s, accuracy=0.762]"
          ]
        },
        {
          "output_type": "stream",
          "name": "stdout",
          "text": [
            "n_shots=8, Run=19, Accuracy: 76.20 %\n"
          ]
        },
        {
          "output_type": "stream",
          "name": "stderr",
          "text": [
            "\n",
            "100%|███████████████████████████| 10/10 [00:00<00:00, 98.59it/s, accuracy=0.803]"
          ]
        },
        {
          "output_type": "stream",
          "name": "stdout",
          "text": [
            "n_shots=10, Run=19, Accuracy: 80.30 %\n"
          ]
        },
        {
          "output_type": "stream",
          "name": "stderr",
          "text": [
            "\n",
            "100%|███████████████████████████| 10/10 [00:00<00:00, 95.34it/s, accuracy=0.783]"
          ]
        },
        {
          "output_type": "stream",
          "name": "stdout",
          "text": [
            "n_shots=12, Run=19, Accuracy: 78.35 %\n"
          ]
        },
        {
          "output_type": "stream",
          "name": "stderr",
          "text": [
            "\n",
            "100%|███████████████████████████| 10/10 [00:00<00:00, 93.69it/s, accuracy=0.793]"
          ]
        },
        {
          "output_type": "stream",
          "name": "stdout",
          "text": [
            "n_shots=16, Run=19, Accuracy: 79.30 %\n"
          ]
        },
        {
          "output_type": "stream",
          "name": "stderr",
          "text": [
            "\n",
            "100%|███████████████████████████| 10/10 [00:00<00:00, 95.67it/s, accuracy=0.796]"
          ]
        },
        {
          "output_type": "stream",
          "name": "stdout",
          "text": [
            "n_shots=24, Run=19, Accuracy: 79.65 %\n"
          ]
        },
        {
          "output_type": "stream",
          "name": "stderr",
          "text": [
            "\n",
            "100%|███████████████████████████| 10/10 [00:00<00:00, 92.90it/s, accuracy=0.803]"
          ]
        },
        {
          "output_type": "stream",
          "name": "stdout",
          "text": [
            "n_shots=32, Run=19, Accuracy: 80.30 %\n"
          ]
        },
        {
          "output_type": "stream",
          "name": "stderr",
          "text": [
            "\n",
            "100%|███████████████████████████| 10/10 [00:00<00:00, 95.92it/s, accuracy=0.619]"
          ]
        },
        {
          "output_type": "stream",
          "name": "stdout",
          "text": [
            "n_shots=1, Run=20, Accuracy: 61.90 %\n"
          ]
        },
        {
          "output_type": "stream",
          "name": "stderr",
          "text": [
            "\n",
            "100%|███████████████████████████| 10/10 [00:00<00:00, 93.12it/s, accuracy=0.589]"
          ]
        },
        {
          "output_type": "stream",
          "name": "stdout",
          "text": [
            "n_shots=2, Run=20, Accuracy: 58.85 %\n"
          ]
        },
        {
          "output_type": "stream",
          "name": "stderr",
          "text": [
            "\n",
            "100%|███████████████████████████| 10/10 [00:00<00:00, 95.73it/s, accuracy=0.693]"
          ]
        },
        {
          "output_type": "stream",
          "name": "stdout",
          "text": [
            "n_shots=3, Run=20, Accuracy: 69.25 %\n"
          ]
        },
        {
          "output_type": "stream",
          "name": "stderr",
          "text": [
            "\n",
            "100%|███████████████████████████| 10/10 [00:00<00:00, 97.61it/s, accuracy=0.724]"
          ]
        },
        {
          "output_type": "stream",
          "name": "stdout",
          "text": [
            "n_shots=4, Run=20, Accuracy: 72.40 %\n"
          ]
        },
        {
          "output_type": "stream",
          "name": "stderr",
          "text": [
            "\n",
            "100%|███████████████████████████| 10/10 [00:00<00:00, 94.40it/s, accuracy=0.715]"
          ]
        },
        {
          "output_type": "stream",
          "name": "stdout",
          "text": [
            "n_shots=5, Run=20, Accuracy: 71.45 %\n"
          ]
        },
        {
          "output_type": "stream",
          "name": "stderr",
          "text": [
            "\n",
            "100%|███████████████████████████| 10/10 [00:00<00:00, 98.90it/s, accuracy=0.746]"
          ]
        },
        {
          "output_type": "stream",
          "name": "stdout",
          "text": [
            "n_shots=6, Run=20, Accuracy: 74.55 %\n"
          ]
        },
        {
          "output_type": "stream",
          "name": "stderr",
          "text": [
            "\n",
            "100%|███████████████████████████| 10/10 [00:00<00:00, 93.70it/s, accuracy=0.764]"
          ]
        },
        {
          "output_type": "stream",
          "name": "stdout",
          "text": [
            "n_shots=8, Run=20, Accuracy: 76.40 %\n"
          ]
        },
        {
          "output_type": "stream",
          "name": "stderr",
          "text": [
            "\n",
            "100%|███████████████████████████| 10/10 [00:00<00:00, 98.08it/s, accuracy=0.758]"
          ]
        },
        {
          "output_type": "stream",
          "name": "stdout",
          "text": [
            "n_shots=10, Run=20, Accuracy: 75.85 %\n"
          ]
        },
        {
          "output_type": "stream",
          "name": "stderr",
          "text": [
            "\n",
            "100%|████████████████████████████| 10/10 [00:00<00:00, 96.83it/s, accuracy=0.77]"
          ]
        },
        {
          "output_type": "stream",
          "name": "stdout",
          "text": [
            "n_shots=12, Run=20, Accuracy: 77.00 %\n"
          ]
        },
        {
          "output_type": "stream",
          "name": "stderr",
          "text": [
            "\n",
            "100%|███████████████████████████| 10/10 [00:00<00:00, 96.48it/s, accuracy=0.781]"
          ]
        },
        {
          "output_type": "stream",
          "name": "stdout",
          "text": [
            "n_shots=16, Run=20, Accuracy: 78.10 %\n"
          ]
        },
        {
          "output_type": "stream",
          "name": "stderr",
          "text": [
            "\n",
            "100%|███████████████████████████| 10/10 [00:00<00:00, 93.61it/s, accuracy=0.792]"
          ]
        },
        {
          "output_type": "stream",
          "name": "stdout",
          "text": [
            "n_shots=24, Run=20, Accuracy: 79.25 %\n"
          ]
        },
        {
          "output_type": "stream",
          "name": "stderr",
          "text": [
            "\n",
            "100%|███████████████████████████| 10/10 [00:00<00:00, 92.32it/s, accuracy=0.814]"
          ]
        },
        {
          "output_type": "stream",
          "name": "stdout",
          "text": [
            "n_shots=32, Run=20, Accuracy: 81.35 %\n"
          ]
        },
        {
          "output_type": "stream",
          "name": "stderr",
          "text": [
            "\n"
          ]
        }
      ]
    },
    {
      "cell_type": "code",
      "execution_count": null,
      "metadata": {
        "id": "pO1QDxSiJukM",
        "colab": {
          "base_uri": "https://localhost:8080/",
          "height": 607
        },
        "outputId": "c0fc9b64-4525-4385-d130-3dcef479b42e"
      },
      "outputs": [
        {
          "output_type": "display_data",
          "data": {
            "text/plain": [
              "<Figure size 1000x600 with 1 Axes>"
            ],
            "image/png": "[encoded data removed]"
          },
          "metadata": {}
        }
      ],
      "source": [
        "# Extract n_shots and avg_accuracy columns\n",
        "shots = merged_df_k['n_shots']\n",
        "\n",
        "avg_acc3 = merged_df_p['mean']\n",
        "std_acc3 = merged_df_p['std']\n",
        "\n",
        "avg_acc5 = merged_df_p2['mean']\n",
        "std_acc5 = merged_df_p2['std']\n",
        "\n",
        "avg_acc6 = merged_df_p3['mean']\n",
        "std_acc6 = merged_df_p3['std']\n",
        "\n",
        "avg_acc7 = merged_df_p4['mean']\n",
        "std_acc7 = merged_df_p4['std']\n",
        "\n",
        "# Create the plot\n",
        "plt.figure(figsize=(10, 6))\n",
        "\n",
        "plt.errorbar(shots, avg_acc5, yerr=std_acc5, fmt='-o', color='c', label='2way pcam-test 96x96')\n",
        "plt.errorbar(shots, avg_acc6, yerr=std_acc6, fmt='-o', color='y', label='2way pcam-test 96x96 + norm')\n",
        "plt.errorbar(shots, avg_acc3, yerr=std_acc3, fmt='-o', color='r', label='2way pcam-test 224x224')\n",
        "plt.errorbar(shots, avg_acc7, yerr=std_acc7, fmt='-o', color='m', label='2way pcam-test 224x224 + norm')\n",
        "\n",
        "plt.title('Barlow-Twins Average Accuracy with Std Deviation for pcam-test')\n",
        "plt.xlabel('n_shots')\n",
        "plt.ylabel('Average Accuracy')\n",
        "plt.grid(True)\n",
        "plt.xticks(shots)\n",
        "plt.legend()\n",
        "plt.tight_layout()\n",
        "plot_filename = \"barlow-twins_few-shot_inference_pcam-test-3.png\"\n",
        "plt.savefig(os.path.join(output_directory_k, plot_filename), dpi=600, format='png')"
      ]
    },
    {
      "cell_type": "code",
      "execution_count": null,
      "metadata": {
        "id": "XYQMwL4CJuCj"
      },
      "outputs": [],
      "source": [
        "transform = transforms.Compose([transforms.CenterCrop((96, 96)),\n",
        "                                transforms.Resize((224, 224)),\n",
        "                                transforms.ToTensor(),])\n",
        "                                #transforms.Normalize(mean=[0.70322989, 0.53606487, 0.66096631], std=[0.21716536, 0.26081574, 0.20723464])])\n",
        "testset = torchvision.datasets.ImageFolder(data_to_test, transform=transform)\n",
        "\n",
        "classes = testset.classes\n",
        "\n",
        "print(classes)\n",
        "dataloader = DataLoader(testset, batch_size=100, shuffle=False, drop_last=False)\n",
        "p4_emb_df = predict_embeddings(dataloader, model, device=device)\n",
        "p4_emb_dataset = FeaturesDataset.from_dataframe(p4_emb_df)\n",
        "p4_results_df = evaluate_few_shot_model(p4_emb_dataset, model, device=device, n_way=2)\n",
        "p4_results_df.sort_values([\"n_shots\", \"accuracy\"])\n",
        "\n",
        "mean_accuracies_p4 = p4_results_df.groupby(\"n_shots\")[\"accuracy\"].mean().reset_index()\n",
        "mean_accuracies_p4.rename(columns={\"accuracy\": \"mean\"}, inplace=True)\n",
        "std_accuracies_p4 = p4_results_df.groupby(\"n_shots\")[\"accuracy\"].std().reset_index()\n",
        "std_accuracies_p4.rename(columns={\"accuracy\": \"std\"}, inplace=True)\n",
        "# Merge the two DataFrames based on the 'n_shots' column\n",
        "merged_df_p4 = pd.merge(mean_accuracies_p4, std_accuracies_p4, on=\"n_shots\")"
      ]
    },
    {
      "cell_type": "code",
      "execution_count": null,
      "metadata": {
        "id": "rQPXj_6E_2jq"
      },
      "outputs": [],
      "source": [
        "import os\n",
        "import torch\n",
        "import torchvision\n",
        "import pandas as pd\n",
        "import matplotlib.pyplot as plt\n",
        "from torchvision import transforms\n",
        "from torch.utils.data import DataLoader\n",
        "from my_module import predict_embeddings, evaluate_few_shot_model\n",
        "\n",
        "def plot_results(data_directories, model, output_directory):\n",
        "    colors = ['c', 'y', 'r', 'm']\n",
        "    labels = ['2way pcam-test 96x96', '2way pcam-test 96x96 + norm', '2way pcam-test 224x224', '2way pcam-test 224x224 + norm']\n",
        "    transforms_list = [\n",
        "        transforms.Compose([\n",
        "            transforms.CenterCrop((96, 96)),\n",
        "            transforms.Resize((224, 224)),\n",
        "            transforms.ToTensor(),\n",
        "            #transforms.Normalize(mean=[0.70322989, 0.53606487, 0.66096631], std=[0.21716536, 0.26081574, 0.20723464])\n",
        "        ]),\n",
        "        transforms.Compose([\n",
        "            transforms.CenterCrop((96, 96)),\n",
        "            transforms.Resize((224, 224)),\n",
        "            transforms.ToTensor(),\n",
        "            transforms.Normalize(mean=[0.70322989, 0.53606487, 0.66096631], std=[0.21716536, 0.26081574, 0.20723464])\n",
        "        ]),\n",
        "        transforms.Compose([\n",
        "            transforms.Resize((224, 224)),\n",
        "            transforms.ToTensor(),\n",
        "        ]),\n",
        "        transforms.Compose([\n",
        "            transforms.Resize((224, 224)),\n",
        "            transforms.ToTensor(),\n",
        "            transforms.Normalize(mean=[0.70322989, 0.53606487, 0.66096631], std=[0.21716536, 0.26081574, 0.20723464])\n",
        "        ])\n",
        "    ]\n",
        "\n",
        "    plt.figure(figsize=(10, 6))\n",
        "\n",
        "    for idx, data_directory in enumerate(data_directories):\n",
        "        transform = transforms_list[idx]\n",
        "\n",
        "        testset = torchvision.datasets.ImageFolder(data_directory, transform=transform)\n",
        "        dataloader = DataLoader(testset, batch_size=100, shuffle=False, drop_last=False)\n",
        "        embeddings_df = predict_embeddings(dataloader, model)\n",
        "        features_dataset = FeaturesDataset.from_dataframe(embeddings_df)\n",
        "        results_df = evaluate_few_shot_model(features_dataset, model)\n",
        "\n",
        "        mean_accuracies = results_df.groupby(\"n_shots\")[\"accuracy\"].mean().reset_index()\n",
        "        std_accuracies = results_df.groupby(\"n_shots\")[\"accuracy\"].std().reset_index()\n",
        "\n",
        "        plt.errorbar(mean_accuracies['n_shots'], mean_accuracies['accuracy'], yerr=std_accuracies['accuracy'], fmt='-o', color=colors[idx], label=labels[idx])\n",
        "\n",
        "    plt.title('Barlow-Twins Average Accuracy with Std Deviation for pcam-test')\n",
        "    plt.xlabel('n_shots')\n",
        "    plt.ylabel('Average Accuracy')\n",
        "    plt.grid(True)\n",
        "    plt.legend()\n",
        "    plt.tight_layout()\n",
        "    plot_filename = \"barlow-twins_few-shot_inference_pcam-test.png\"\n",
        "    plt.savefig(os.path.join(output_directory, plot_filename), dpi=600, format='png')\n",
        "\n",
        "# Example usage:\n",
        "data_directories = [\"data_directory_1\", \"data_directory_2\", \"data_directory_3\", \"data_directory_4\"]\n",
        "model = your_model  # Provide your model\n",
        "output_directory = \"output_directory\"\n",
        "plot_results(data_directories, model, output_directory)\n"
      ]
    },
    {
      "cell_type": "code",
      "execution_count": null,
      "metadata": {
        "id": "XGzRY5XP_61n"
      },
      "outputs": [],
      "source": [
        "tsne = TSNE(n_components=2, random_state=0)\n",
        "embeddings_tsne = tsne.fit_transform(embeddings)\n",
        "\n",
        "output_path_tsne = os.path.join(output_directory, \"tsne_ibot_kather.png\")\n",
        "\n",
        "# In the above tsne plot, there are numeric labels. I want to visualize them using class name\n",
        "\n",
        "string_labels = [classes[int(label)] for label in data_labels]\n",
        "create_scatter_plot(embeddings_tsne, string_labels, output_path_tsne, \"Feature Output of Model\")\n",
        "# KMeans\n",
        "\n",
        "kmeans1 = KMeans(n_clusters=8, init='k-means++', n_init=20, random_state=10)\n",
        "k_result1 = kmeans1.fit_predict(embeddings)\n",
        "psudo1 = np.zeros_like(k_result1)\n",
        "for i in range(8):\n",
        "    mask1 = (k_result1 == i)\n",
        "    psudo1[mask1] = mode(data_labels[mask1])[0]\n",
        "output_path_k = os.path.join(output_directory, \"kmeans_ibot_kather.csv\")\n",
        "k_performance_values = evaluate_clustering(data_labels, psudo1, output_path_k)\n",
        "print(\"KMeans Performance Values:\", k_performance_values)\n",
        "# Plot confusion matrix and visualize for KMeans\n",
        "k_cm = confusion_matrix(data_labels, psudo1)\n",
        "output_path_k_cf = os.path.join(output_directory, \"kmeans_cf_ibot_kather.png\")\n",
        "plot_and_save_confusion_matrix(k_cm, testset.classes, output_path_k_cf)\n",
        "\n",
        "output_path_km_plot = os.path.join(output_directory, \"kmeans_ibot_kather.png\")\n",
        "create_scatter_plot(embeddings_tsne, psudo1, output_path_km_plot, \"KMeans Model\")"
      ]
    },
    {
      "cell_type": "code",
      "execution_count": null,
      "metadata": {
        "id": "n3qr7tKDHmJC"
      },
      "outputs": [],
      "source": []
    }
  ],
  "metadata": {
    "colab": {
      "provenance": [],
      "authorship_tag": "ABX9TyOSWqLWS4JQbrqS2UppTZW1",
      "include_colab_link": true
    },
    "kernelspec": {
      "display_name": "Python 3",
      "name": "python3"
    },
    "language_info": {
      "name": "python"
    }
  },
  "nbformat": 4,
  "nbformat_minor": 0
}